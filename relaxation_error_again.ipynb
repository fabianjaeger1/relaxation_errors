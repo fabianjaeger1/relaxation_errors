{
 "cells": [
  {
   "cell_type": "code",
   "execution_count": 270,
   "id": "33c3d3a8",
   "metadata": {},
   "outputs": [],
   "source": [
    "import json\n",
    "import numpy as np\n",
    "import pickle\n",
    "# import pandas as pd\n",
    "# from tqdm  import tqdm\n",
    "\n",
    "import json, bz2, os\n",
    "import sys\n",
    "\n",
    "from tqdm import tqdm\n",
    "# from ase_write import write_xyz\n",
    "import pandas as pd\n",
    "import numpy as np\n",
    "from pymatgen.core.structure import Structure\n",
    "# import tensorflow as tf\n",
    "# tf.config.set_visible_devices([], 'GPU')\n",
    "from m3gnet.models import M3GNet, Potential\n",
    "# from sklearn.model_selection import train_test_split\n",
    "from pymatgen.io.ase import AseAtomsAdaptor\n",
    "from pymatgen.core.structure import Structure"
   ]
  },
  {
   "cell_type": "code",
   "execution_count": 18,
   "id": "3aedcfe3-84c2-44b7-a551-d2696bd952c3",
   "metadata": {},
   "outputs": [],
   "source": [
    "from notebook.services.config import ConfigManager\n",
    "cm = ConfigManager().update('notebook', {'limit_output': 100})"
   ]
  },
  {
   "cell_type": "code",
   "execution_count": 19,
   "id": "d4482bb9",
   "metadata": {},
   "outputs": [],
   "source": [
    "e_cutoff = 1e10"
   ]
  },
  {
   "cell_type": "code",
   "execution_count": 20,
   "id": "e82c0b03",
   "metadata": {},
   "outputs": [
    {
     "name": "stdout",
     "output_type": "stream",
     "text": [
      "WARNING:tensorflow:Detecting that an object or model or tf.train.Checkpoint is being deleted with unrestored values. See the following logs for the specific values in question. To silence these warnings, use `status.expect_partial()`. See https://www.tensorflow.org/api_docs/python/tf/train/Checkpoint#restorefor details about the status object returned by the restore function.\n",
      "WARNING:tensorflow:Value in checkpoint could not be found in the restored object: (root).featurizer.atom_network.embedding.embeddings\n",
      "WARNING:tensorflow:Value in checkpoint could not be found in the restored object: (root).graph_layers.0.bond_network.weight_func.kernel\n",
      "WARNING:tensorflow:Value in checkpoint could not be found in the restored object: (root).graph_layers.0.atom_network.weight_update.kernel\n",
      "WARNING:tensorflow:Value in checkpoint could not be found in the restored object: (root).graph_layers.1.bond_network.weight_func.kernel\n",
      "WARNING:tensorflow:Value in checkpoint could not be found in the restored object: (root).graph_layers.1.atom_network.weight_update.kernel\n",
      "WARNING:tensorflow:Value in checkpoint could not be found in the restored object: (root).graph_layers.2.bond_network.weight_func.kernel\n",
      "WARNING:tensorflow:Value in checkpoint could not be found in the restored object: (root).graph_layers.2.atom_network.weight_update.kernel\n",
      "WARNING:tensorflow:Value in checkpoint could not be found in the restored object: (root).feature_adjust.update_func.pipe.layers.0.kernel\n",
      "WARNING:tensorflow:Value in checkpoint could not be found in the restored object: (root).three_interactions.0.update_network.pipe.layers.0.kernel\n",
      "WARNING:tensorflow:Value in checkpoint could not be found in the restored object: (root).three_interactions.0.update_network.pipe.layers.0.bias\n",
      "WARNING:tensorflow:Value in checkpoint could not be found in the restored object: (root).three_interactions.0.update_network2.pipe.layers.0.kernel\n",
      "WARNING:tensorflow:Value in checkpoint could not be found in the restored object: (root).three_interactions.0.update_network2.gate.layers.0.kernel\n",
      "WARNING:tensorflow:Value in checkpoint could not be found in the restored object: (root).three_interactions.1.update_network.pipe.layers.0.kernel\n",
      "WARNING:tensorflow:Value in checkpoint could not be found in the restored object: (root).three_interactions.1.update_network.pipe.layers.0.bias\n",
      "WARNING:tensorflow:Value in checkpoint could not be found in the restored object: (root).three_interactions.1.update_network2.pipe.layers.0.kernel\n",
      "WARNING:tensorflow:Value in checkpoint could not be found in the restored object: (root).three_interactions.1.update_network2.gate.layers.0.kernel\n",
      "WARNING:tensorflow:Value in checkpoint could not be found in the restored object: (root).three_interactions.2.update_network.pipe.layers.0.kernel\n",
      "WARNING:tensorflow:Value in checkpoint could not be found in the restored object: (root).three_interactions.2.update_network.pipe.layers.0.bias\n",
      "WARNING:tensorflow:Value in checkpoint could not be found in the restored object: (root).three_interactions.2.update_network2.pipe.layers.0.kernel\n",
      "WARNING:tensorflow:Value in checkpoint could not be found in the restored object: (root).three_interactions.2.update_network2.gate.layers.0.kernel\n",
      "WARNING:tensorflow:Value in checkpoint could not be found in the restored object: (root).graph_layers.0.bond_network.update_func.pipe.layers.0.kernel\n",
      "WARNING:tensorflow:Value in checkpoint could not be found in the restored object: (root).graph_layers.0.bond_network.update_func.pipe.layers.0.bias\n",
      "WARNING:tensorflow:Value in checkpoint could not be found in the restored object: (root).graph_layers.0.bond_network.update_func.pipe.layers.1.kernel\n",
      "WARNING:tensorflow:Value in checkpoint could not be found in the restored object: (root).graph_layers.0.bond_network.update_func.pipe.layers.1.bias\n",
      "WARNING:tensorflow:Value in checkpoint could not be found in the restored object: (root).graph_layers.0.bond_network.update_func.gate.layers.0.kernel\n",
      "WARNING:tensorflow:Value in checkpoint could not be found in the restored object: (root).graph_layers.0.bond_network.update_func.gate.layers.0.bias\n",
      "WARNING:tensorflow:Value in checkpoint could not be found in the restored object: (root).graph_layers.0.bond_network.update_func.gate.layers.1.kernel\n",
      "WARNING:tensorflow:Value in checkpoint could not be found in the restored object: (root).graph_layers.0.bond_network.update_func.gate.layers.1.bias\n",
      "WARNING:tensorflow:Value in checkpoint could not be found in the restored object: (root).graph_layers.0.atom_network.bond_dense.pipe.layers.0.kernel\n",
      "WARNING:tensorflow:Value in checkpoint could not be found in the restored object: (root).graph_layers.0.atom_network.bond_dense.pipe.layers.0.bias\n",
      "WARNING:tensorflow:Value in checkpoint could not be found in the restored object: (root).graph_layers.0.atom_network.bond_dense.pipe.layers.1.kernel\n",
      "WARNING:tensorflow:Value in checkpoint could not be found in the restored object: (root).graph_layers.0.atom_network.bond_dense.pipe.layers.1.bias\n",
      "WARNING:tensorflow:Value in checkpoint could not be found in the restored object: (root).graph_layers.0.atom_network.bond_dense.gate.layers.0.kernel\n",
      "WARNING:tensorflow:Value in checkpoint could not be found in the restored object: (root).graph_layers.0.atom_network.bond_dense.gate.layers.0.bias\n",
      "WARNING:tensorflow:Value in checkpoint could not be found in the restored object: (root).graph_layers.0.atom_network.bond_dense.gate.layers.1.kernel\n",
      "WARNING:tensorflow:Value in checkpoint could not be found in the restored object: (root).graph_layers.0.atom_network.bond_dense.gate.layers.1.bias\n",
      "WARNING:tensorflow:Value in checkpoint could not be found in the restored object: (root).graph_layers.1.bond_network.update_func.pipe.layers.0.kernel\n",
      "WARNING:tensorflow:Value in checkpoint could not be found in the restored object: (root).graph_layers.1.bond_network.update_func.pipe.layers.0.bias\n",
      "WARNING:tensorflow:Value in checkpoint could not be found in the restored object: (root).graph_layers.1.bond_network.update_func.pipe.layers.1.kernel\n",
      "WARNING:tensorflow:Value in checkpoint could not be found in the restored object: (root).graph_layers.1.bond_network.update_func.pipe.layers.1.bias\n",
      "WARNING:tensorflow:Value in checkpoint could not be found in the restored object: (root).graph_layers.1.bond_network.update_func.gate.layers.0.kernel\n",
      "WARNING:tensorflow:Value in checkpoint could not be found in the restored object: (root).graph_layers.1.bond_network.update_func.gate.layers.0.bias\n",
      "WARNING:tensorflow:Value in checkpoint could not be found in the restored object: (root).graph_layers.1.bond_network.update_func.gate.layers.1.kernel\n",
      "WARNING:tensorflow:Value in checkpoint could not be found in the restored object: (root).graph_layers.1.bond_network.update_func.gate.layers.1.bias\n",
      "WARNING:tensorflow:Value in checkpoint could not be found in the restored object: (root).graph_layers.1.atom_network.bond_dense.pipe.layers.0.kernel\n",
      "WARNING:tensorflow:Value in checkpoint could not be found in the restored object: (root).graph_layers.1.atom_network.bond_dense.pipe.layers.0.bias\n",
      "WARNING:tensorflow:Value in checkpoint could not be found in the restored object: (root).graph_layers.1.atom_network.bond_dense.pipe.layers.1.kernel\n",
      "WARNING:tensorflow:Value in checkpoint could not be found in the restored object: (root).graph_layers.1.atom_network.bond_dense.pipe.layers.1.bias\n",
      "WARNING:tensorflow:Value in checkpoint could not be found in the restored object: (root).graph_layers.1.atom_network.bond_dense.gate.layers.0.kernel\n",
      "WARNING:tensorflow:Value in checkpoint could not be found in the restored object: (root).graph_layers.1.atom_network.bond_dense.gate.layers.0.bias\n",
      "WARNING:tensorflow:Value in checkpoint could not be found in the restored object: (root).graph_layers.1.atom_network.bond_dense.gate.layers.1.kernel\n",
      "WARNING:tensorflow:Value in checkpoint could not be found in the restored object: (root).graph_layers.1.atom_network.bond_dense.gate.layers.1.bias\n",
      "WARNING:tensorflow:Value in checkpoint could not be found in the restored object: (root).graph_layers.2.bond_network.update_func.pipe.layers.0.kernel\n",
      "WARNING:tensorflow:Value in checkpoint could not be found in the restored object: (root).graph_layers.2.bond_network.update_func.pipe.layers.0.bias\n",
      "WARNING:tensorflow:Value in checkpoint could not be found in the restored object: (root).graph_layers.2.bond_network.update_func.pipe.layers.1.kernel\n",
      "WARNING:tensorflow:Value in checkpoint could not be found in the restored object: (root).graph_layers.2.bond_network.update_func.pipe.layers.1.bias\n",
      "WARNING:tensorflow:Value in checkpoint could not be found in the restored object: (root).graph_layers.2.bond_network.update_func.gate.layers.0.kernel\n",
      "WARNING:tensorflow:Value in checkpoint could not be found in the restored object: (root).graph_layers.2.bond_network.update_func.gate.layers.0.bias\n",
      "WARNING:tensorflow:Value in checkpoint could not be found in the restored object: (root).graph_layers.2.bond_network.update_func.gate.layers.1.kernel\n",
      "WARNING:tensorflow:Value in checkpoint could not be found in the restored object: (root).graph_layers.2.bond_network.update_func.gate.layers.1.bias\n",
      "WARNING:tensorflow:Value in checkpoint could not be found in the restored object: (root).graph_layers.2.atom_network.bond_dense.pipe.layers.0.kernel\n",
      "WARNING:tensorflow:Value in checkpoint could not be found in the restored object: (root).graph_layers.2.atom_network.bond_dense.pipe.layers.0.bias\n",
      "WARNING:tensorflow:Value in checkpoint could not be found in the restored object: (root).graph_layers.2.atom_network.bond_dense.pipe.layers.1.kernel\n",
      "WARNING:tensorflow:Value in checkpoint could not be found in the restored object: (root).graph_layers.2.atom_network.bond_dense.pipe.layers.1.bias\n",
      "WARNING:tensorflow:Value in checkpoint could not be found in the restored object: (root).graph_layers.2.atom_network.bond_dense.gate.layers.0.kernel\n",
      "WARNING:tensorflow:Value in checkpoint could not be found in the restored object: (root).graph_layers.2.atom_network.bond_dense.gate.layers.0.bias\n",
      "WARNING:tensorflow:Value in checkpoint could not be found in the restored object: (root).graph_layers.2.atom_network.bond_dense.gate.layers.1.kernel\n",
      "WARNING:tensorflow:Value in checkpoint could not be found in the restored object: (root).graph_layers.2.atom_network.bond_dense.gate.layers.1.bias\n",
      "WARNING:tensorflow:Value in checkpoint could not be found in the restored object: (root).final.layers.0.atom_network.update_func.pipe.layers.0.kernel\n",
      "WARNING:tensorflow:Value in checkpoint could not be found in the restored object: (root).final.layers.0.atom_network.update_func.pipe.layers.0.bias\n",
      "WARNING:tensorflow:Value in checkpoint could not be found in the restored object: (root).final.layers.0.atom_network.update_func.pipe.layers.1.kernel\n",
      "WARNING:tensorflow:Value in checkpoint could not be found in the restored object: (root).final.layers.0.atom_network.update_func.pipe.layers.1.bias\n",
      "WARNING:tensorflow:Value in checkpoint could not be found in the restored object: (root).final.layers.0.atom_network.update_func.pipe.layers.2.kernel\n",
      "WARNING:tensorflow:Value in checkpoint could not be found in the restored object: (root).final.layers.0.atom_network.update_func.pipe.layers.2.bias\n",
      "WARNING:tensorflow:Value in checkpoint could not be found in the restored object: (root).final.layers.0.atom_network.update_func.gate.layers.0.kernel\n",
      "WARNING:tensorflow:Value in checkpoint could not be found in the restored object: (root).final.layers.0.atom_network.update_func.gate.layers.0.bias\n",
      "WARNING:tensorflow:Value in checkpoint could not be found in the restored object: (root).final.layers.0.atom_network.update_func.gate.layers.1.kernel\n",
      "WARNING:tensorflow:Value in checkpoint could not be found in the restored object: (root).final.layers.0.atom_network.update_func.gate.layers.1.bias\n",
      "WARNING:tensorflow:Value in checkpoint could not be found in the restored object: (root).final.layers.0.atom_network.update_func.gate.layers.2.kernel\n",
      "WARNING:tensorflow:Value in checkpoint could not be found in the restored object: (root).final.layers.0.atom_network.update_func.gate.layers.2.bias\n"
     ]
    }
   ],
   "source": [
    "m3gnet = M3GNet.load()\n",
    "potential = Potential(model=m3gnet)\n",
    "\n",
    "def get_data(data, keys, e_cutoff=0., r_cutoff=5.0):\n",
    "    structures = []\n",
    "    energy = []\n",
    "    stress = []\n",
    "    forces = []\n",
    "    counter = 0\n",
    "    isolated_systems = []\n",
    "    for el, key in tqdm(zip(data, keys)):\n",
    "        if len(el)==0:\n",
    "            continue\n",
    "        # select all structures with an energy difference of more than e_cutoff to their previous structure\n",
    "        N = len(el[0]['structure']['sites'])\n",
    "        e_0 = el[0]['energy']/N\n",
    "        indices = []\n",
    "        for idx, sys in enumerate(el):\n",
    "            if abs(sys['energy']/N - e_0) > e_cutoff or idx==0 or idx==len(el)-1:\n",
    "                e_0 = sys['energy']/N\n",
    "                indices.append(idx)\n",
    "        if len(indices)>2:\n",
    "            pass\n",
    "        elif len(el)==3:\n",
    "            indices  = range(3)\n",
    "        elif len(el)>3:\n",
    "            indices = [0,len(el)//2 ,len(el)-1]\n",
    "        else:\n",
    "            indices = range(len(el))\n",
    "        for index in indices:\n",
    "            if len(el[index]['structure']['sites'])<20 and np.max(np.abs(el[index]['stress']))<500 and np.max(np.abs(el[index]['forces']))<20. and el[index]['energy']<0 and el[index]['energy'] > -20.:\n",
    "                try:\n",
    "                    st = Structure.from_dict(el[index]['structure'])\n",
    "                    if not any([len(neigh) for neigh in st.get_all_neighbors(r=5.)]):\n",
    "                        float('sdfas')\n",
    "                    potential.graph_converter.convert(st)                                        \n",
    "                    structures.append(st)\n",
    "                    energy.append(el[index]['energy'])\n",
    "                    stress.append(-0.1*np.array(el[index]['stress']))  #kbar to GPa\n",
    "                    forces.append(el[index]['forces'])\n",
    "                except:\n",
    "                    isolated_systems.append([key, index])\n",
    "                    print(f'Isolated system {key} found')\n",
    "    return energy,forces,stress,structures, isolated_systems"
   ]
  },
  {
   "cell_type": "code",
   "execution_count": 443,
   "id": "d73fe1f6-89f7-482e-a762-4d880551a110",
   "metadata": {},
   "outputs": [],
   "source": [
    "def create_relaxation_dataset(run_keys):\n",
    "    run_files = []\n",
    "    \n",
    "    ## Implement method that also exports the run keys that were succesful \n",
    "    \n",
    "    print(len(run_keys))\n",
    "    \n",
    "    for file in tqdm(sorted(os.listdir(\"data_prep/geo_opt\"))):\n",
    "        if file.endswith('json.bz2'):\n",
    "  \n",
    "            batch = json.load(bz2.open(\"data_prep/geo_opt/{}\".format(file), 'r'))\n",
    "            print(\"Length batch: {}\".format(len(batch)))\n",
    "        \n",
    "            batch_keys = list(batch.keys())\n",
    "            \n",
    "            key_intersection = list(set(batch_keys).intersection(run_keys))\n",
    "            print(key_intersection)\n",
    "            \n",
    "            for key in key_intersection:\n",
    "                try:\n",
    "                    reformated_run = {key:[batch[key][0], batch[key][-1]]} # for each run only select the first and last geometry optimization\n",
    "                    # print(reformated_run)\n",
    "                    run_files.append(reformated_run)\n",
    "                except:\n",
    "                    if len(batch[key])<1:\n",
    "                        # print(batch[key])\n",
    "                        print(\"Array too small\")\n",
    "                    print(\"Error\")\n",
    "\n",
    "    return run_files"
   ]
  },
  {
   "cell_type": "markdown",
   "id": "7c15a90f",
   "metadata": {},
   "source": [
    "### Get the relaxed Structures (test structures)"
   ]
  },
  {
   "cell_type": "code",
   "execution_count": 21,
   "id": "6d51636f",
   "metadata": {},
   "outputs": [],
   "source": [
    "# pickle_file_path = 'relaxation_10000000000/00456-0.120248-0.040146-0.073807-0.062954relaxed_structures.pickle'\n",
    "\n",
    "relaxed_structures_path = 'relaxations/0_f_t-2023-05-22_10-41-22/00456-0.120248-0.040146-0.073807-0.062954relaxed_structures.pickle'\n",
    "\n",
    "# Load the pickle file\n",
    "with open(relaxed_structures_path, 'rb') as file:\n",
    "    relaxed_structures = pickle.load(file)"
   ]
  },
  {
   "cell_type": "code",
   "execution_count": 51,
   "id": "3b0a243e",
   "metadata": {
    "scrolled": true,
    "tags": []
   },
   "outputs": [
    {
     "name": "stdout",
     "output_type": "stream",
     "text": [
      "['runs_2/spg70/O/O5Ta4/xxx_02p-00_70-2-O3c.O2b.Ta3c.Ta1a', 'runs_ml_3/ABC4/runs/batch-000/Mn/MnBr4Dy/xxx_02a-00_agm200032544_spg11', 'runs_2/spg31/P/PAg/xxx_02a-00_31-2-P4c.Ag4c', 'runs_3/spg13/F/F3K2Ag/xxx_02a-00_13-3-F4b.F2a.K4b.Ag2a', 'runs_2/spg73/As/AsIn3/xxx_02a-00_73-2-As2b.As1a.In6d.In3c', 'runs_2/spg21/N/NPd/xxx_02a-00_21-2-N4c.Pd4c', 'runs_ml_2/AB2/runs/batch-000/K/K2Tl/xxx_02a-00_agm200014232_spg53', 'runs_2/spg73/B/BI3/xxx_02a-00_73-2-B2b.B1a.I6d.I2b.I1a', 'runs_3/spg13/Br/Br3Sr2I/xxx_02a-00_13-3-Br4b.Br2a.Sr4b.I2a', 'runs_2/spg70/F/F4Mn/xxx_02a-00_70-2-F6d.F3c.F2b.F1a.Mn2b.Mn1a']\n"
     ]
    }
   ],
   "source": [
    "# print(relaxed_structures.keys())\n",
    "runs_relaxed = list(relaxed_structures.keys()) #this is list of differnet runs\n",
    "print(runs_relaxed[:10])\n",
    "selected_run = runs_relaxed[0]"
   ]
  },
  {
   "cell_type": "code",
   "execution_count": null,
   "id": "c85e0cc7-f994-4740-bba5-d5e119b7c496",
   "metadata": {},
   "outputs": [],
   "source": [
    "# # Old Method\n",
    "# run_files = []\n",
    "# wd = os.getcwd()\n",
    "# # os.chdir('geo_opt')\n",
    "\n",
    "# for file in tqdm(sorted(os.listdir(\"data_prep/geo_opt\"))[0:2]):\n",
    "#     if file.endswith('json.bz2'):\n",
    "#         run_files.append(json.load(bz2.open(\"data_prep/geo_opt/{}\".format(file), 'r')))"
   ]
  },
  {
   "cell_type": "code",
   "execution_count": 49,
   "id": "1d89e795",
   "metadata": {},
   "outputs": [
    {
     "name": "stderr",
     "output_type": "stream",
     "text": [
      "  0%|                                                                                                                                                                                                                                                                    | 0/2 [00:03<?, ?it/s]"
     ]
    },
    {
     "name": "stdout",
     "output_type": "stream",
     "text": [
      "532\n"
     ]
    },
    {
     "name": "stderr",
     "output_type": "stream",
     "text": [
      "\n"
     ]
    },
    {
     "ename": "IndexError",
     "evalue": "list index out of range",
     "output_type": "error",
     "traceback": [
      "\u001b[0;31m---------------------------------------------------------------------------\u001b[0m",
      "\u001b[0;31mIndexError\u001b[0m                                Traceback (most recent call last)",
      "Cell \u001b[0;32mIn[49], line 11\u001b[0m\n\u001b[1;32m      9\u001b[0m \u001b[38;5;28mprint\u001b[39m(\u001b[38;5;28mlen\u001b[39m(batch))\n\u001b[1;32m     10\u001b[0m keys_batch \u001b[38;5;241m=\u001b[39m \u001b[38;5;28mlist\u001b[39m(batch\u001b[38;5;241m.\u001b[39mkeys())\n\u001b[0;32m---> 11\u001b[0m \u001b[38;5;28mprint\u001b[39m(\u001b[43mbatch\u001b[49m\u001b[43m[\u001b[49m\u001b[38;5;124;43m\"\u001b[39;49m\u001b[38;5;124;43mruns_1/elements/Ag/Ag/xxx_02k-00_phexAl\u001b[39;49m\u001b[38;5;124;43m\"\u001b[39;49m\u001b[43m]\u001b[49m\u001b[43m[\u001b[49m\u001b[38;5;241;43m0\u001b[39;49m\u001b[43m]\u001b[49m)\n\u001b[1;32m     12\u001b[0m \u001b[38;5;28;01mfor\u001b[39;00m key \u001b[38;5;129;01min\u001b[39;00m keys_batch:\n\u001b[1;32m     13\u001b[0m     \u001b[38;5;28mprint\u001b[39m(key)\n",
      "\u001b[0;31mIndexError\u001b[0m: list index out of range"
     ]
    }
   ],
   "source": [
    "# run_files = []\n",
    "# wd = os.getcwd()\n",
    "# # os.chdir('geo_opt')\n",
    "\n",
    "# for file in tqdm(sorted(os.listdir(\"data_prep/geo_opt\"))[0:2]):\n",
    "#     if file.endswith('json.bz2'):\n",
    "#         # for each run only select the first and last geometry optimization\n",
    "#         batch = json.load(bz2.open(\"data_prep/geo_opt/{}\".format(file), 'r'))\n",
    "#         print(len(batch))\n",
    "#         keys_batch = list(batch.keys())\n",
    "#         print(batch[\"runs_1/elements/Ag/Ag/xxx_02k-00_phexAl\"][0])\n",
    "#         for key in keys_batch:\n",
    "#             print(key)\n",
    "#             reformated_run = {key: [batch[key][0], batch[key][-1]]}\n",
    "#             print(reformated_run)"
   ]
  },
  {
   "cell_type": "code",
   "execution_count": 137,
   "id": "3f2ab7aa-12ee-423a-bdd3-63b96065bd98",
   "metadata": {},
   "outputs": [
    {
     "name": "stdout",
     "output_type": "stream",
     "text": [
      "4077\n"
     ]
    },
    {
     "name": "stderr",
     "output_type": "stream",
     "text": [
      "  1%|██▋                                                                                                                                                                                                                                                        | 1/92 [00:01<02:36,  1.72s/it]"
     ]
    },
    {
     "name": "stdout",
     "output_type": "stream",
     "text": [
      "Length batch: 532\n",
      "['runs_1/elements/Mn/Mn/xxx_02k-00_psqr2Be', 'runs_1/elements/Cl/Cl/xxx_02k-00_psqrAs', 'runs_1/elements/In/In/xxx_02p-00_graphene', 'runs_1/elements/Y/Y/xxx_02p-00_graphene', 'runs_1/elements/Re/Re/xxx_02k-00_psqr2Be', 'runs_1/elements/N/N/xxx_02k-00_skepler', 'runs_1/elements/B/B/xxx_02k-00_phexAl', 'runs_1/elements/Ce/Ce/xxx_02p-00_graphene', 'runs_1/elements/S/S/xxx_02k-00_skepler', 'runs_1/elements/Er/Er/xxx_02p-00_graphene', 'runs_1/elements/Co/Co/xxx_02p-00_graphene', 'runs_1/elements/Be/Be/xxx_02k-00_phexAl', 'runs_1/elements/Fe/Fe/xxx_02k-00_skepler', 'runs_1/elements/Ta/Ta/xxx_02k-00_skepler', 'runs_1/elements/Fe/Fe/xxx_02k-00_phexAl', 'runs_1/elements/Cl/Cl/xxx_02k-00_pSsBr', 'runs_1/elements/Re/Re/xxx_02k-00_skepler', 'runs_1/elements/In/In/xxx_02k-00_phexAl', 'runs_1/elements/S/S/xxx_02p-00_graphene', 'runs_1/elements/Ho/Ho/xxx_02k-00_psqrAs']\n",
      "Array too small\n",
      "Error\n",
      "Array too small\n",
      "Error\n",
      "Array too small\n",
      "Error\n"
     ]
    },
    {
     "name": "stderr",
     "output_type": "stream",
     "text": [
      "  2%|█████▍                                                                                                                                                                                                                                                     | 2/92 [00:02<01:31,  1.01s/it]"
     ]
    },
    {
     "name": "stdout",
     "output_type": "stream",
     "text": [
      "Length batch: 22\n",
      "[]\n"
     ]
    },
    {
     "name": "stderr",
     "output_type": "stream",
     "text": [
      "  3%|████████▏                                                                                                                                                                                                                                                  | 3/92 [00:05<02:45,  1.86s/it]"
     ]
    },
    {
     "name": "stdout",
     "output_type": "stream",
     "text": [
      "Length batch: 96\n",
      "['runs_2/extra01/C/C7N2/xxx_02a-00_CN-00601216', 'runs_2/extra01/C/C2N3/xxx_02a-00_CN-00000183', 'runs_2/extra01/C/C28N3/xxx_02a-00_CN-kagome2', 'runs_2/extra01/C/C5N4/xxx_02a-00_CN-00656249', 'runs_2/extra01/C/C2N3/xxx_02a-00_CN-00667690']\n"
     ]
    },
    {
     "name": "stderr",
     "output_type": "stream",
     "text": [
      "  4%|██████████▉                                                                                                                                                                                                                                                | 4/92 [00:34<18:49, 12.83s/it]"
     ]
    },
    {
     "name": "stdout",
     "output_type": "stream",
     "text": [
      "Length batch: 1802\n",
      "['runs_2/hydrides/H/H4Cr/xxx_02a-00_30-2-H4c.H2b.H2a.Cr2b', 'runs_2/hydrides/H/HCu/xxx_02a-00_70-2-H6d.H2b.H1a.Cu6d.Cu2b.Cu1a', 'runs_2/hydrides/H/H3Er/xxx_02a-00_70-2-H2b.H1a.Er1a', 'runs_2/hydrides/H/HI/xxx_02a-00_36-2-H4a.I4a', 'runs_2/hydrides/H/HCu/xxx_02a-00_13-2-H4b.H2a.Cu4b.Cu2a', 'runs_2/hydrides/H/H4V/xxx_02a-00_70-2-H6d.H2b.V2b', 'runs_2/hydrides/H/H4Zr/xxx_02a-00_70-2-H6d.H2b.Zr2b', 'runs_2/hydrides/H/HK/xxx_02a-00_70-2-H6d.K3c.K2b.K1a', 'runs_2/hydrides/H/HF/xxx_02a-00_36-2-H8c.H4b.F8c.F4b', 'runs_2/hydrides/H/H4Fe/xxx_02a-00_70-2-H6d.H2b.Fe2b', 'runs_2/hydrides/H/H2Ta/xxx_02a-00_10-2-H4b.Ta2a', 'runs_2/hydrides/H/H3Eu/xxx_02a-00_30-2-H4c.H2a.Eu2b', 'runs_2/hydrides/H/H3V/xxx_02a-00_36-2-H8c.H4a.V4b', 'runs_2/hydrides/H/HF/xxx_02a-00_21-2-H2b.H2a.F2b.F2a', 'runs_2/hydrides/H/HTl/xxx_02a-00_30-2-H2a.Tl2b', 'runs_2/hydrides/H/H3Gd/xxx_02a-00_70-2-H6d.H3c.Gd3c', 'runs_2/hydrides/H/HAg/xxx_02a-00_70-2-H6d.H2b.H1a.Ag6d.Ag3c', 'runs_2/hydrides/H/HCl/xxx_02a-00_30-2-H2b.Cl2b', 'runs_2/hydrides/H/H3Nd/xxx_02a-00_70-2-H6d.H3c.Nd2b.Nd1a', 'runs_2/hydrides/H/H2Ta/xxx_02a-00_70-2-H3c.H2b.H1a.Ta2b.Ta1a', 'runs_2/hydrides/H/H2Ni/xxx_02a-00_34-2-H4b.Ni2a', 'runs_2/hydrides/H/H2Mn/xxx_02a-00_70-2-H3c.H1a.Mn2b', 'runs_2/hydrides/H/H2Sn/xxx_02a-00_30-2-H2b.H2a.Sn2b', 'runs_2/hydrides/H/H2Cd/xxx_02a-00_36-2-H8c.Cd4a', 'runs_2/hydrides/H/HI/xxx_02a-00_36-2-H4a.I4b', 'runs_2/hydrides/H/H2Be/xxx_02a-00_21-2-H4c.Be2b', 'runs_2/hydrides/H/HCl/xxx_02a-00_70-2-H3c.Cl2b.Cl1a', 'runs_2/hydrides/H/H2Mn/xxx_02a-00_10-2-H4b.Mn2a', 'runs_2/hydrides/H/H2Ni/xxx_02a-00_36-2-H4b.H4a.Ni4a', 'runs_2/hydrides/H/H3Y/xxx_02a-00_70-2-H6d.H3c.Y2b.Y1a', 'runs_2/hydrides/H/HLi/xxx_02a-00_70-2-H3c.H2b.Li3c.Li2b', 'runs_2/hydrides/H/H10In9/xxx_02a-00_70-2-H6d.H3c.H1a.In6d.In2b.In1a', 'runs_2/hydrides/H/H3B/xxx_02a-00_34-2-H4b.H2a.B2a', 'runs_2/hydrides/H/H2Ta/xxx_02a-00_36-2-H8c.Ta4a', 'runs_2/hydrides/H/HK/xxx_02a-00_70-2-H6d.H2b.H1a.K6d.K3c', 'runs_2/hydrides/H/HCu/xxx_02a-00_70-2-H6d.Cu6d', 'runs_2/hydrides/H/HK/xxx_02a-00_21-2-H2b.K2b', 'runs_2/hydrides/H/H2Mg/xxx_02a-00_70-2-H6d.H3c.H2b.H1a.Mg6d', 'runs_2/hydrides/H/H2Cd/xxx_02a-00_70-2-H3c.H1a.Cd2b', 'runs_2/hydrides/H/H3Ga/xxx_02a-00_4-2-H2b.H1a.Ga1a', 'runs_2/hydrides/H/HNa/xxx_02a-00_21-2-H2a.Na2b', 'runs_2/hydrides/H/HI/xxx_02a-00_70-2-H3c.H2b.H1a.I6d', 'runs_2/hydrides/H/H3Mn/xxx_02a-00_36-2-H8c.H4a.Mn4a', 'runs_2/hydrides/H/HF/xxx_02a-00_13-2-H2a.F2a', 'runs_2/hydrides/H/H5Nb2/xxx_02a-00_70-2-H6d.H3c.H1a.Nb3c.Nb1a', 'runs_2/hydrides/H/H3Yb/xxx_02a-00_36-2-H8c.H4a.Yb4b', 'runs_2/hydrides/H/H3Yb/xxx_02a-00_30-2-H4c.H2a.Yb2b', 'runs_2/hydrides/H/HAg/xxx_02a-00_70-2-H2b.H1a.Ag2b.Ag1a', 'runs_2/hydrides/H/H3Ti/xxx_02a-00_70-2-H6d.H2b.H1a.Ti2b.Ti1a', 'runs_2/hydrides/H/HNa/xxx_02a-00_30-2-H4c.H2a.Na4c.Na2a', 'runs_2/hydrides/H/H3Ni/xxx_02a-00_70-2-H6d.H3c.Ni2b.Ni1a', 'runs_2/hydrides/H/H3B/xxx_02a-00_4-2-H2b.H1a.B1a', 'runs_2/hydrides/H/HCu/xxx_02a-00_36-2-H4b.Cu4b', 'runs_2/hydrides/H/HCu/xxx_02a-00_30-2-H4c.H2b.Cu4c.Cu2b', 'runs_2/hydrides/H/H2Se/xxx_02a-00_70-2-H3c.H1a.Se2b', 'runs_2/hydrides/H/H3Fe/xxx_02a-00_17-2-H4c.H2b.Fe2a', 'runs_2/hydrides/H/HAg/xxx_02a-00_21-2-H4c.H2a.Ag4c.Ag2a', 'runs_2/hydrides/H/HLi/xxx_02a-00_70-2-H3c.H2b.H1a.Li3c.Li2b.Li1a', 'runs_2/hydrides/H/H3Cr/xxx_02a-00_70-2-H6d.Cr2b', 'runs_2/hydrides/H/H3La/xxx_02a-00_34-2-H4b.H2a.La2a', 'runs_2/hydrides/H/H3Ni/xxx_02a-00_36-2-H8c.H4a.Ni4a', 'runs_2/hydrides/H/HLi/xxx_02a-00_13-2-H4b.H2a.Li4b.Li2a', 'runs_2/hydrides/H/H2Zn/xxx_02a-00_17-2-H4c.Zn2a', 'runs_2/hydrides/H/H3Ag/xxx_02a-00_70-2-H3c.Ag1a', 'runs_2/hydrides/H/HIn/xxx_02a-00_30-2-H2b.H2a.In2b.In2a', 'runs_2/hydrides/H/H3Ti/xxx_02a-00_70-2-H6d.Ti2b', 'runs_2/hydrides/H/H2V/xxx_02a-00_36-2-H8c.V4b', 'runs_2/hydrides/H/H3Mn/xxx_02a-00_17-2-H4c.H2a.Mn2b', 'runs_2/hydrides/H/H2Ba/xxx_02a-00_21-2-H4c.Ba2b', 'runs_2/hydrides/H/H6Re/xxx_02a-00_70-2-H3c.H2b.H1a.Re1a', 'runs_2/hydrides/H/H4Mo/xxx_02a-00_70-2-H6d.H3c.H2b.H1a.Mo2b.Mo1a', 'runs_2/hydrides/H/H3Al/xxx_02a-00_70-2-H3c.Al1a', 'runs_2/hydrides/H/H3Er/xxx_02a-00_36-2-H8c.H4a.Er4b', 'runs_2/hydrides/H/H2In/xxx_02a-00_13-2-H4b.In2a', 'runs_2/hydrides/H/H3N/xxx_02a-00_10-2-H4b.H2a.N2a', 'runs_2/hydrides/H/HCl/xxx_02a-00_70-2-H2b.H1a.Cl2b.Cl1a', 'runs_2/hydrides/H/H2Hg/xxx_02a-00_30-2-H4c.Hg2a', 'runs_2/hydrides/H/H2Be/xxx_02a-00_70-2-H6d.Be3c', 'runs_2/hydrides/H/H2Pb/xxx_02a-00_70-2-H6d.Pb2b.Pb1a', 'runs_2/hydrides/H/HTl/xxx_02a-00_36-2-H4a.Tl4b', 'runs_2/hydrides/H/H2V/xxx_02a-00_34-2-H4b.V2a', 'runs_2/hydrides/H/HIn/xxx_02a-00_70-2-H3c.H2b.In3c.In2b', 'runs_2/hydrides/H/H3Dy/xxx_02a-00_36-2-H8c.H4a.Dy4a', 'runs_2/hydrides/H/H3Nd/xxx_02a-00_70-2-H6d.H2b.H1a.Nd2b.Nd1a', 'runs_2/hydrides/H/HCl/xxx_02a-00_30-2-H2a.Cl2a', 'runs_2/hydrides/H/HIn/xxx_02a-00_10-2-H2a.In2a', 'runs_2/hydrides/H/HCu/xxx_02a-00_21-2-H2b.H2a.Cu4c', 'runs_2/hydrides/H/H3V/xxx_02a-00_30-2-H4c.H2a.V2b', 'runs_2/hydrides/H/HCu/xxx_02a-00_21-2-H2b.Cu2a']\n"
     ]
    },
    {
     "name": "stderr",
     "output_type": "stream",
     "text": [
      "  7%|████████████████▎                                                                                                                                                                                                                                          | 6/92 [00:41<09:55,  6.92s/it]"
     ]
    },
    {
     "name": "stdout",
     "output_type": "stream",
     "text": [
      "Length batch: 147\n",
      "['runs_2/quasi/Li/Li2O2/xxx_02a-00_agm200040051_spg11', 'runs_2/quasi/O/O3Zr/xxx_02a-00_agm200040188_spg1', 'runs_2/quasi/O/OGa/xxx_02a-00_agm200040237_spg1', 'runs_2/quasi/O/O3Pr/xxx_02a-00_agm200040098_spg12', 'runs_2/quasi/O/O2Ir/xxx_02a-00_agm200040266_spg1', 'runs_2/quasi/O/OPt/xxx_02a-00_agm200040100_spg1', 'runs_2/quasi/O/OCa/xxx_02a-00_agm200040192_spg59']\n",
      "Length batch: 223\n",
      "['runs_2/spg01/B/BAs/xxx_02a-00_1-2-B1a.As1a', 'runs_2/spg01/N/NLa/xxx_02a-00_1-2-N1a.La1a', 'runs_2/spg01/P/PV/xxx_02a-00_1-2-P1a.V1a', 'runs_2/spg01/N/NBi/xxx_02a-00_1-2-N1a.Bi1a', 'runs_2/spg01/Al/AlAs/xxx_02a-00_1-2-Al1a.As1a', 'runs_2/spg01/O/OBa/xxx_02a-00_1-2-O1a.Ba1a', 'runs_2/spg01/S/SCd/xxx_02a-00_1-2-S1a.Cd1a', 'runs_2/spg01/P/PDy/xxx_02a-00_1-2-P1a.Dy1a', 'runs_2/spg01/O/OPd/xxx_02a-00_1-2-O1a.Pd1a', 'runs_2/spg01/F/FCu/xxx_02a-00_1-2-F1a.Cu1a', 'runs_2/spg01/P/PBi/xxx_02a-00_1-2-P1a.Bi1a', 'runs_2/spg01/O/ONi/xxx_02a-00_1-2-O1a.Ni1a', 'runs_2/spg01/O/OIn/xxx_02a-00_1-2-O1a.In1a', 'runs_2/spg01/Cu/CuSe/xxx_02a-00_1-2-Cu1a.Se1a', 'runs_2/spg01/Te/TeHg/xxx_02a-00_1-2-Te1a.Hg1a']\n"
     ]
    },
    {
     "name": "stderr",
     "output_type": "stream",
     "text": [
      "  8%|███████████████████                                                                                                                                                                                                                                        | 7/92 [00:43<07:34,  5.34s/it]"
     ]
    },
    {
     "name": "stdout",
     "output_type": "stream",
     "text": [
      "Length batch: 952\n",
      "['runs_2/spg04/Ho/HoTl3/xxx_02p-00_4-2-Ho1a.Tl2b.Tl1a', 'runs_2/spg04/Fe/FeTe/xxx_02p-00_4-2-Fe2b.Te2b', 'runs_2/spg04/Ta/TaTl2/xxx_02p-00_4-2-Ta1a.Tl2b', 'runs_2/spg04/N/NFe/xxx_02p-00_4-2-N2b.Fe2b', 'runs_2/spg04/N/NCo/xxx_02p-00_4-2-N2b.Co2b', 'runs_2/spg04/Cu/CuI2/xxx_02p-00_4-2-Cu1a.I2b', 'runs_2/spg04/N/NMn/xxx_02p-00_4-2-N1a.Mn1a', 'runs_2/spg04/Se/Se2Pt/xxx_02p-00_4-2-Se2b.Pt1a', 'runs_2/spg04/Mn/MnBr3/xxx_02p-00_4-2-Mn1a.Br2b.Br1a', 'runs_2/spg04/Se/SePt/xxx_02p-00_4-2-Se2b.Pt2b', 'runs_2/spg04/P/PCo/xxx_02p-00_4-2-P2b.P1a.Co2b.Co1a', 'runs_2/spg04/F/F3Cr/xxx_02p-00_4-2-F2b.F1a.Cr1a', 'runs_2/spg04/As/AsIn/xxx_02p-00_4-2-As1a.In1a', 'runs_2/spg04/S/S2Ta/xxx_02p-00_4-2-S2b.Ta1a', 'runs_2/spg04/N/NV/xxx_02p-00_4-2-N1a.V1a', 'runs_2/spg04/Be/BeS/xxx_02p-00_4-2-Be2b.S2b', 'runs_2/spg04/N/NIn/xxx_02p-00_4-2-N2b.N1a.In2b.In1a', 'runs_2/spg04/Cu/CuSe/xxx_02p-00_4-2-Cu1a.Se1a', 'runs_2/spg04/S/S2Ti/xxx_02p-00_4-2-S2b.Ti1a', 'runs_2/spg04/Cl/Cl2Hg/xxx_02p-00_4-2-Cl2b.Hg1a', 'runs_2/spg04/N/NSc/xxx_02p-00_4-2-N1a.Sc1a', 'runs_2/spg04/N/NNi/xxx_02p-00_4-2-N2b.Ni2b', 'runs_2/spg04/F/F3Yb/xxx_02p-00_4-2-F2b.F1a.Yb1a', 'runs_2/spg04/Eu/EuTl3/xxx_02p-00_4-2-Eu1a.Tl2b.Tl1a', 'runs_2/spg04/V/VTl2/xxx_02p-00_4-2-V1a.Tl2b', 'runs_2/spg04/Cl/Cl3Ag/xxx_02p-00_4-2-Cl2b.Cl1a.Ag1a', 'runs_2/spg04/V/V2Se3/xxx_02p-00_4-2-V2b.Se2b.Se1a', 'runs_2/spg04/Se/SeNb/xxx_02p-00_4-2-Se1a.Nb1a', 'runs_2/spg04/As/As2Mo/xxx_02p-00_4-2-As2b.Mo1a', 'runs_2/spg04/N/NBi/xxx_02p-00_4-2-N2b.Bi2b', 'runs_2/spg04/In/InTl/xxx_02p-00_4-2-In1a.Tl1a', 'runs_2/spg04/P/PRb3/xxx_02p-00_4-2-P1a.Rb2b.Rb1a', 'runs_2/spg04/Mn/MnTe/xxx_02a-00_4-2-Mn2b.Te2b', 'runs_2/spg04/Te/Te3Re/xxx_02p-00_4-2-Te2b.Te1a.Re1a', 'runs_2/spg04/B/BI3/xxx_02p-00_4-2-B1a.I2b.I1a', 'runs_2/spg04/Li/LiCl/xxx_02p-00_4-2-Li1a.Cl1a', 'runs_2/spg04/P/PK3/xxx_02p-00_4-2-P1a.K2b.K1a', 'runs_2/spg04/N/NY/xxx_02p-00_4-2-N2b.Y2b', 'runs_2/spg04/As/AsAg/xxx_02p-00_4-2-As1a.Ag1a', 'runs_2/spg04/N/NLu/xxx_02p-00_4-2-N1a.Lu1a', 'runs_2/spg04/Sn/SnI2/xxx_02p-00_4-2-Sn1a.I2b', 'runs_2/spg04/F/F2V/xxx_02p-00_4-2-F2b.V1a', 'runs_2/spg04/Fe/FeI3/xxx_02p-00_4-2-Fe1a.I2b.I1a', 'runs_2/spg04/N/N2Sn3/xxx_02p-00_4-2-N2b.Sn2b.Sn1a', 'runs_2/spg04/As/AsLu/xxx_02p-00_4-2-As1a.Lu1a', 'runs_2/spg04/Ti/TiTe2/xxx_02p-00_4-2-Ti1a.Te2b', 'runs_2/spg04/Se/SeSr/xxx_02p-00_4-2-Se1a.Sr1a', 'runs_2/spg04/Se/SeSn/xxx_02p-00_4-2-Se2b.Se1a.Sn2b.Sn1a', 'runs_2/spg04/P/PEr/xxx_02p-00_4-2-P2b.Er2b', 'runs_2/spg04/Br/Br3In/xxx_02p-00_4-2-Br2b.Br1a.In1a', 'runs_2/spg04/O/OTa/xxx_02p-00_4-2-O2b.Ta2b']\n"
     ]
    },
    {
     "name": "stderr",
     "output_type": "stream",
     "text": [
      "  9%|█████████████████████▊                                                                                                                                                                                                                                     | 8/92 [00:43<05:15,  3.75s/it]"
     ]
    },
    {
     "name": "stdout",
     "output_type": "stream",
     "text": [
      "Length batch: 134\n",
      "['runs_2/spg05/N/NSb/xxx_02p-00_5-2-N2a.Sb2a', 'runs_2/spg05/As/AsAg/xxx_02p-00_5-2-As2a.Ag2a', 'runs_2/spg05/As/AsEr/xxx_02p-00_5-2-As2a.Er2a', 'runs_2/spg05/P/PYb/xxx_02p-00_5-2-P2a.Yb2a', 'runs_2/spg05/P/PTl/xxx_02p-00_5-2-P2a.Tl2a']\n"
     ]
    },
    {
     "name": "stderr",
     "output_type": "stream",
     "text": [
      " 10%|████████████████████████▌                                                                                                                                                                                                                                  | 9/92 [00:48<05:57,  4.31s/it]"
     ]
    },
    {
     "name": "stdout",
     "output_type": "stream",
     "text": [
      "Length batch: 4422\n",
      "['runs_2/spg08/In/InTe/xxx_02a-00_8-2-In1b.Te1b', 'runs_2/spg08/S/STl2/xxx_02a-00_8-2-S1b.S1a.Tl2c.Tl1b.Tl1a', 'runs_2/spg08/Al/AlBr3/xxx_02a-00_8-2-Al1b.Br2c.Br1b', 'runs_2/spg08/S/S3Tm2/xxx_02a-00_8-2-S2c.S1b.Tm2c', 'runs_2/spg08/Br/BrTl/xxx_02a-00_8-2-Br2c.Br1a.Tl2c.Tl1a', 'runs_2/spg08/Ni/NiTe/xxx_02a-00_8-2-Ni1b.Ni1a.Te2c', 'runs_2/spg08/Ni/NiAs/xxx_02a-00_8-2-Ni2c.Ni1b.As2c.As1b', 'runs_2/spg08/Br/Br2Hg/xxx_02a-00_8-2-Br2c.Hg1b', 'runs_2/spg08/Si/SiTe2/xxx_02a-00_8-2-Si1b.Te2c', 'runs_2/spg08/Li/LiTl/xxx_02a-00_8-2-Li2c.Li1b.Tl2c.Tl1b', 'runs_2/spg08/F/F3Sb/xxx_02a-00_8-2-F2c.F1b.Sb1b', 'runs_2/spg08/F/F2Ta/xxx_02a-00_8-2-F2c.Ta1b', 'runs_2/spg08/P/PYb/xxx_02a-00_8-2-P2c.P1a.Yb2c.Yb1b', 'runs_2/spg08/O/OCu/xxx_02a-00_8-2-O1b.Cu1b', 'runs_2/spg08/Br/BrAu/xxx_02a-00_8-2-Br1a.Au1a', 'runs_2/spg08/Ga/Ga2Se3/xxx_02a-00_8-2-Ga2c.Se2c.Se1b', 'runs_2/spg08/S/S3Cr/xxx_02a-00_8-2-S2c.S1b.Cr1b', 'runs_2/spg08/Cr/CrSe/xxx_02a-00_8-2-Cr1b.Cr1a.Se1b.Se1a', 'runs_2/spg08/Br/Br2Sr/xxx_02a-00_8-2-Br2c.Sr1b', 'runs_2/spg08/P/PMn/xxx_02a-00_8-2-P2c.P1a.Mn2c.Mn1a', 'runs_2/spg08/I/I2Hg/xxx_02a-00_8-2-I1b.I1a.Hg1b', 'runs_2/spg08/Cu/CuTe/xxx_02a-00_8-2-Cu2c.Cu1a.Te2c.Te1b', 'runs_2/spg08/O/OPd/xxx_02a-00_8-2-O2c.O1b.Pd2c.Pd1b', 'runs_2/spg08/F/FNa/xxx_02a-00_8-2-F2c.F1b.Na2c.Na1b', 'runs_2/spg08/Mg/MgTe/xxx_02a-00_8-2-Mg1b.Te1b', 'runs_2/spg08/Al/Al2Te3/xxx_02a-00_8-2-Al2c.Te2c.Te1a', 'runs_2/spg08/O/ONa2/xxx_02a-00_8-2-O1b.Na2c', 'runs_2/spg08/O/O2Ge/xxx_02a-00_8-2-O1b.O1a.Ge1b', 'runs_2/spg08/Te/TeTa/xxx_02a-00_8-2-Te2c.Ta2c', 'runs_2/spg08/Mn/MnTl2/xxx_02a-00_8-2-Mn1a.Tl1b.Tl1a', 'runs_2/spg08/O/O4Os/xxx_02a-00_8-2-O2c.O1b.O1a.Os1b', 'runs_2/spg08/N/NRh/xxx_02a-00_8-2-N2c.Rh2c', 'runs_2/spg08/Al/AlCl3/xxx_02a-00_8-2-Al1b.Cl2c.Cl1a', 'runs_2/spg08/Na/NaI/xxx_02a-00_8-2-Na2c.Na1b.I2c.I1a', 'runs_2/spg08/Al/AlBr3/xxx_02a-00_8-2-Al1b.Br2c.Br1a', 'runs_2/spg08/F/F3Tb/xxx_02a-00_8-2-F2c.F1b.Tb1a', 'runs_2/spg08/Na/NaCl/xxx_02a-00_8-2-Na2c.Cl1b.Cl1a', 'runs_2/spg08/S/S3In4/xxx_02a-00_8-2-S2c.S1b.In2c.In1b.In1a', 'runs_2/spg08/Li/Li2S/xxx_02a-00_8-2-Li2c.S1b', 'runs_2/spg08/F/F3Er/xxx_02a-00_8-2-F2c.F1a.Er1b', 'runs_2/spg08/S/SCd/xxx_02a-00_8-2-S1b.Cd1b', 'runs_2/spg08/Al/AlP/xxx_02a-00_8-2-Al2c.Al1a.P2c.P1b', 'runs_2/spg08/Nb/NbTe/xxx_02a-00_8-2-Nb1b.Te1b', 'runs_2/spg08/Be/BeSe/xxx_02a-00_8-2-Be1b.Se1b', 'runs_2/spg08/Se/Se3Ir/xxx_02a-00_8-2-Se2c.Se1a.Ir1b', 'runs_2/spg08/F/F2Hg/xxx_02a-00_8-2-F1b.F1a.Hg1a', 'runs_2/spg08/As/AsSm/xxx_02a-00_8-2-As2c.Sm2c', 'runs_2/spg08/P/PY/xxx_02a-00_8-2-P2c.P1a.Y2c.Y1b', 'runs_2/spg08/As/AsGd/xxx_02a-00_8-2-As1b.As1a.Gd1b.Gd1a', 'runs_2/spg08/S/S2Ti/xxx_02a-00_8-2-S2c.S1b.S1a.Ti2c', 'runs_2/spg08/I/I3Tm/xxx_02a-00_8-2-I2c.I1b.Tm1a', 'runs_2/spg08/P/PTl/xxx_02a-00_8-2-P2c.P1b.Tl2c.Tl1a', 'runs_2/spg08/F/F2Pd/xxx_02a-00_8-2-F2c.Pd1b', 'runs_2/spg08/I/I3Er/xxx_02a-00_8-2-I2c.I1b.Er1b', 'runs_2/spg08/Br/Br3Y/xxx_02a-00_8-2-Br2c.Br1b.Y1a', 'runs_2/spg08/Cl/Cl3Er/xxx_02a-00_8-2-Cl2c.Cl1a.Er1b', 'runs_2/spg08/S/SZn/xxx_02a-00_8-2-S2c.S1a.Zn2c.Zn1b', 'runs_2/spg08/B/B2Se3/xxx_02a-00_8-2-B2c.Se2c.Se1b', 'runs_2/spg08/F/F3Au/xxx_02a-00_8-2-F2c.F1b.Au1a', 'runs_2/spg08/Si/SiSe2/xxx_02a-00_8-2-Si1b.Se1b.Se1a', 'runs_2/spg08/C/CBr4/xxx_02a-00_8-2-C1a.Br2c.Br1b.Br1a', 'runs_2/spg08/O/OCa/xxx_02a-00_8-2-O1a.Ca1a', 'runs_2/spg08/O/O2Cr/xxx_02a-00_8-2-O2c.O1b.O1a.Cr1b.Cr1a', 'runs_2/spg08/S/S3W/xxx_02a-00_8-2-S2c.S1b.W1b', 'runs_2/spg08/Sn/SnI2/xxx_02a-00_8-2-Sn1a.I1b.I1a', 'runs_2/spg08/N/NBi/xxx_02a-00_8-2-N1a.Bi1a', 'runs_2/spg08/O/OK2/xxx_02a-00_8-2-O1a.K2c', 'runs_2/spg08/Br/Br3Ru/xxx_02a-00_8-2-Br2c.Br1b.Ru1b', 'runs_2/spg08/Mn/MnI3/xxx_02a-00_8-2-Mn1b.I2c.I1b', 'runs_2/spg08/As/AsTl/xxx_02a-00_8-2-As1b.Tl1b', 'runs_2/spg08/Se/SeTl/xxx_02a-00_8-2-Se2c.Tl1b.Tl1a', 'runs_2/spg08/O/O2Ir/xxx_02a-00_8-2-O2c.Ir1a', 'runs_2/spg08/F/F3Bi/xxx_02a-00_8-2-F2c.F1b.Bi1a', 'runs_2/spg08/B/B2Te3/xxx_02a-00_8-2-B1b.B1a.Te2c.Te1a', 'runs_2/spg08/Se/Se3Ru2/xxx_02a-00_8-2-Se2c.Se1b.Ru2c', 'runs_2/spg08/Br/Br4Pt/xxx_02a-00_8-2-Br2c.Br1b.Br1a.Pt1a', 'runs_2/spg08/S/SNb/xxx_02a-00_8-2-S2c.S1a.Nb2c.Nb1b', 'runs_2/spg08/S/SPt/xxx_02a-00_8-2-S2c.S1b.Pt2c.Pt1b', 'runs_2/spg08/O/O2Si/xxx_02a-00_8-2-O2c.Si1b', 'runs_2/spg08/Cr/CrTe/xxx_02a-00_8-2-Cr1b.Te1b', 'runs_2/spg08/F/F2Nb/xxx_02a-00_8-2-F1b.F1a.Nb1b', 'runs_2/spg08/S/SZn/xxx_02a-00_8-2-S2c.S1b.S1a.Zn2c.Zn1b.Zn1a', 'runs_2/spg08/Br/Br3Au/xxx_02a-00_8-2-Br2c.Br1a.Au1a', 'runs_2/spg08/V/VSe/xxx_02a-00_8-2-V2c.Se1b.Se1a', 'runs_2/spg08/I/I3Dy/xxx_02a-00_8-2-I2c.I1a.Dy1a', 'runs_2/spg08/S/S3Ag2/xxx_02a-00_8-2-S2c.S1b.Ag1b.Ag1a', 'runs_2/spg08/Br/BrRb/xxx_02a-00_8-2-Br1b.Br1a.Rb2c', 'runs_2/spg08/Cu/CuTe/xxx_02a-00_8-2-Cu1b.Te1a', 'runs_2/spg08/Cr/CrTe2/xxx_02a-00_8-2-Cr1a.Te2c', 'runs_2/spg08/Fe/FeTe2/xxx_02a-00_8-2-Fe1a.Te1b.Te1a', 'runs_2/spg08/F/F2Pt/xxx_02a-00_8-2-F2c.Pt1b', 'runs_2/spg08/Te/Te3Tl2/xxx_02a-00_8-2-Te2c.Te1b.Tl1b.Tl1a', 'runs_2/spg08/N/NTi/xxx_02a-00_8-2-N2c.Ti2c', 'runs_2/spg08/N/NFe/xxx_02a-00_8-2-N2c.N1a.Fe2c.Fe1a', 'runs_2/spg08/Cu/CuTe/xxx_02a-00_8-2-Cu2c.Cu1a.Te2c.Te1a', 'runs_2/spg08/O/O4Pt3/xxx_02a-00_8-2-O2c.O1b.O1a.Pt2c.Pt1b', 'runs_2/spg08/Sn/SnTe/xxx_02a-00_8-2-Sn1b.Te1b', 'runs_2/spg08/Cl/Cl3Mn/xxx_02a-00_8-2-Cl2c.Cl1a.Mn1b', 'runs_2/spg08/Ag/AgI/xxx_02a-00_8-2-Ag2c.Ag1a.I2c.I1a', 'runs_2/spg08/P/PMn/xxx_02a-00_8-2-P2c.Mn1b.Mn1a', 'runs_2/spg08/Se/SeBa/xxx_02a-00_8-2-Se1b.Se1a.Ba2c', 'runs_2/spg08/Cl/ClAg/xxx_02a-00_8-2-Cl2c.Ag1b.Ag1a', 'runs_2/spg08/O/O3Tb2/xxx_02a-00_8-2-O2c.O1b.Tb1b.Tb1a', 'runs_2/spg08/N/N2Sn3/xxx_02a-00_8-2-N2c.Sn2c.Sn1b', 'runs_2/spg08/N/NTi/xxx_02a-00_8-2-N2c.N1b.N1a.Ti2c.Ti1b.Ti1a', 'runs_2/spg08/Zn/ZnTe/xxx_02a-00_8-2-Zn2c.Zn1b.Zn1a.Te2c.Te1b.Te1a', 'runs_2/spg08/Ni/NiI3/xxx_02a-00_8-2-Ni1b.I2c.I1b', 'runs_2/spg08/S/S3Sm2/xxx_02a-00_8-2-S2c.S1a.Sm1b.Sm1a', 'runs_2/spg08/Gd/GdTl3/xxx_02a-00_8-2-Gd1b.Tl2c.Tl1b', 'runs_2/spg08/V/VSe/xxx_02a-00_8-2-V1b.V1a.Se2c', 'runs_2/spg08/Se/Se3Ru/xxx_02a-00_8-2-Se2c.Se1b.Ru1a', 'runs_2/spg08/As/AsTb/xxx_02a-00_8-2-As2c.Tb2c', 'runs_2/spg08/F/F3Ni/xxx_02a-00_8-2-F2c.F1a.Ni1a', 'runs_2/spg08/Cl/Cl3Ag/xxx_02a-00_8-2-Cl2c.Cl1a.Ag1b', 'runs_2/spg08/Cl/Cl2Co/xxx_02a-00_8-2-Cl1b.Cl1a.Co1a', 'runs_2/spg08/Be/Be3N2/xxx_02a-00_8-2-Be2c.Be1b.N1b.N1a', 'runs_2/spg08/Cl/ClRb/xxx_02a-00_8-2-Cl1b.Cl1a.Rb2c', 'runs_2/spg08/Hf/HfTl4/xxx_02a-00_8-2-Hf1b.Tl2c.Tl1b.Tl1a', 'runs_2/spg08/Te/Te2W/xxx_02a-00_8-2-Te2c.Te1b.Te1a.W2c', 'runs_2/spg08/B/BAs/xxx_02a-00_8-2-B1b.As1b', 'runs_2/spg08/Yb/YbTl3/xxx_02a-00_8-2-Yb1a.Tl2c.Tl1b', 'runs_2/spg08/N/NSm/xxx_02a-00_8-2-N1a.Sm1a', 'runs_2/spg08/Cu/CuI/xxx_02a-00_8-2-Cu1a.I1a', 'runs_2/spg08/As/AsTl/xxx_02a-00_8-2-As1b.As1a.Tl2c', 'runs_2/spg08/Cr/CrTe2/xxx_02a-00_8-2-Cr1a.Te1b.Te1a', 'runs_2/spg08/S/SSn/xxx_02a-00_8-2-S2c.S1b.S1a.Sn2c.Sn1b.Sn1a', 'runs_2/spg08/P/P2W/xxx_02a-00_8-2-P2c.W1a', 'runs_2/spg08/B/B2Te3/xxx_02a-00_8-2-B2c.Te2c.Te1b', 'runs_2/spg08/Br/BrAu/xxx_02a-00_8-2-Br1b.Au1b', 'runs_2/spg08/O/OCr/xxx_02a-00_8-2-O1b.Cr1a', 'runs_2/spg08/S/SFe/xxx_02a-00_8-2-S2c.Fe1b.Fe1a', 'runs_2/spg08/Te/TePb/xxx_02a-00_8-2-Te2c.Te1a.Pb2c.Pb1b', 'runs_2/spg08/Te/TeTl/xxx_02a-00_8-2-Te2c.Tl1b.Tl1a', 'runs_2/spg08/Mg/MgTl2/xxx_02a-00_8-2-Mg1b.Tl1b.Tl1a', 'runs_2/spg08/N/NSc/xxx_02a-00_8-2-N2c.Sc2c', 'runs_2/spg08/O/O3Er2/xxx_02a-00_8-2-O2c.O1b.Er1b.Er1a', 'runs_2/spg08/P/P2Ta3/xxx_02a-00_8-2-P2c.Ta2c.Ta1b', 'runs_2/spg08/Te/Te3Tl2/xxx_02a-00_8-2-Te2c.Te1a.Tl2c', 'runs_2/spg08/F/F4Fe/xxx_02a-00_8-2-F2c.F1b.F1a.Fe1b', 'runs_2/spg08/K/K2Se/xxx_02a-00_8-2-K2c.K1b.K1a.Se2c', 'runs_2/spg08/Cl/ClIn/xxx_02a-00_8-2-Cl1a.In1b', 'runs_2/spg08/S/S2Ti/xxx_02a-00_8-2-S2c.S1b.S1a.Ti1b.Ti1a', 'runs_2/spg08/P/PFe/xxx_02a-00_8-2-P1a.Fe1b', 'runs_2/spg08/N/NTi/xxx_02a-00_8-2-N1b.N1a.Ti1b.Ti1a', 'runs_2/spg08/F/F4Ce/xxx_02a-00_8-2-F2c.F1b.F1a.Ce1b', 'runs_2/spg08/P/PHo/xxx_02a-00_8-2-P2c.P1a.Ho2c.Ho1a', 'runs_2/spg08/As/As4Re3/xxx_02a-00_8-2-As2c.As1b.As1a.Re2c.Re1b', 'runs_2/spg08/N/N4Pt3/xxx_02a-00_8-2-N2c.N1b.N1a.Pt2c.Pt1b', 'runs_2/spg08/Na/Na2Se/xxx_02a-00_8-2-Na2c.Se1b', 'runs_2/spg08/Br/Br3Yb/xxx_02a-00_8-2-Br2c.Br1b.Yb1b', 'runs_2/spg08/F/F3Ag/xxx_02a-00_8-2-F2c.F1b.Ag1b', 'runs_2/spg08/N/NAg3/xxx_02a-00_8-2-N1b.Ag2c.Ag1a', 'runs_2/spg08/Nb/NbTl2/xxx_02a-00_8-2-Nb1b.Nb1a.Tl2c.Tl1b.Tl1a', 'runs_2/spg08/N/NTi/xxx_02a-00_8-2-N2c.N1a.Ti2c.Ti1b', 'runs_2/spg08/Cl/ClAu/xxx_02a-00_8-2-Cl1a.Au1a', 'runs_2/spg08/Co/CoBr3/xxx_02a-00_8-2-Co1b.Br2c.Br1a', 'runs_2/spg08/Te/Te3Tb2/xxx_02a-00_8-2-Te2c.Te1a.Tb1b.Tb1a', 'runs_2/spg08/Cr/CrTe/xxx_02a-00_8-2-Cr1a.Te1b', 'runs_2/spg08/Ni/NiBr3/xxx_02a-00_8-2-Ni1a.Br2c.Br1a', 'runs_2/spg08/Se/Se3Sb2/xxx_02a-00_8-2-Se2c.Se1b.Sb2c', 'runs_2/spg08/Be/BeTe/xxx_02a-00_8-2-Be1a.Te1b', 'runs_2/spg08/P/PEr/xxx_02a-00_8-2-P1b.P1a.Er2c', 'runs_2/spg08/Cl/ClAg/xxx_02a-00_8-2-Cl1a.Ag1a', 'runs_2/spg08/Se/Se3W/xxx_02a-00_8-2-Se2c.Se1a.W1a', 'runs_2/spg08/Ca/CaTe/xxx_02a-00_8-2-Ca1b.Te1b', 'runs_2/spg08/Li/Li2Se/xxx_02a-00_8-2-Li1b.Li1a.Se1b', 'runs_2/spg08/S/S3Yb2/xxx_02a-00_8-2-S2c.S1a.Yb1b.Yb1a', 'runs_2/spg08/Ni/NiTe/xxx_02a-00_8-2-Ni1a.Te1a', 'runs_2/spg08/O/O3Ta2/xxx_02a-00_8-2-O2c.O1b.Ta1b.Ta1a', 'runs_2/spg08/Ge/GeTe2/xxx_02a-00_8-2-Ge1a.Te1b.Te1a', 'runs_2/spg08/S/S2Cu3/xxx_02a-00_8-2-S1b.S1a.Cu2c.Cu1b', 'runs_2/spg08/Mg/Mg3As2/xxx_02a-00_8-2-Mg2c.Mg1a.As2c', 'runs_2/spg08/F/F2Pt/xxx_02a-00_8-2-F1b.F1a.Pt1b', 'runs_2/spg08/Mg/MgBr2/xxx_02a-00_8-2-Mg1b.Br1b.Br1a', 'runs_2/spg08/Be/BeSe/xxx_02a-00_8-2-Be2c.Be1b.Be1a.Se2c.Se1b.Se1a', 'runs_2/spg08/Br/Br2Ba/xxx_02a-00_8-2-Br2c.Ba1a', 'runs_2/spg08/As/AsIn2/xxx_02a-00_8-2-As1a.In1b.In1a', 'runs_2/spg08/O/O2Ta/xxx_02a-00_8-2-O2c.Ta1b', 'runs_2/spg08/Se/SeIn/xxx_02a-00_8-2-Se1b.In1b', 'runs_2/spg08/N/N2Pd3/xxx_02a-00_8-2-N2c.Pd2c.Pd1b', 'runs_2/spg08/Ni/NiSe/xxx_02a-00_8-2-Ni1a.Se1a', 'runs_2/spg08/Se/SePd/xxx_02a-00_8-2-Se2c.Se1b.Pd2c.Pd1b', 'runs_2/spg08/Cl/Cl3Sc/xxx_02a-00_8-2-Cl2c.Cl1a.Sc1a', 'runs_2/spg08/S/S3Er2/xxx_02a-00_8-2-S2c.S1a.Er2c', 'runs_2/spg08/Cl/Cl2Pb/xxx_02a-00_8-2-Cl1b.Cl1a.Pb1a', 'runs_2/spg08/S/SRb2/xxx_02a-00_8-2-S1a.Rb1b.Rb1a', 'runs_2/spg08/F/F3Tm/xxx_02a-00_8-2-F2c.F1b.Tm1b', 'runs_2/spg08/Br/Br3Dy/xxx_02a-00_8-2-Br2c.Br1b.Dy1b', 'runs_2/spg08/As/AsIn/xxx_02a-00_8-2-As1b.As1a.In1b.In1a', 'runs_2/spg08/O/O2Ir/xxx_02a-00_8-2-O2c.O1b.O1a.Ir2c', 'runs_2/spg08/I/I3Tm/xxx_02a-00_8-2-I2c.I1b.Tm1b', 'runs_2/spg08/Mg/MgCl2/xxx_02a-00_8-2-Mg1b.Mg1a.Cl2c.Cl1b.Cl1a', 'runs_2/spg08/Cr/CrSe/xxx_02a-00_8-2-Cr1b.Se1b', 'runs_2/spg08/S/S2Pd/xxx_02a-00_8-2-S2c.S1b.S1a.Pd1b.Pd1a', 'runs_2/spg08/Br/BrTl/xxx_02a-00_8-2-Br2c.Br1a.Tl2c.Tl1b', 'runs_2/spg08/F/F4In3/xxx_02a-00_8-2-F2c.F1b.F1a.In2c.In1b', 'runs_2/spg08/Br/BrAg/xxx_02a-00_8-2-Br2c.Ag2c', 'runs_2/spg08/Rb/RbTl/xxx_02a-00_8-2-Rb1b.Tl1b', 'runs_2/spg08/Mn/MnAs/xxx_02a-00_8-2-Mn1b.As1a', 'runs_2/spg08/F/F2Cu/xxx_02a-00_8-2-F2c.F1b.F1a.Cu2c', 'runs_2/spg08/Mg/MgSe/xxx_02a-00_8-2-Mg2c.Mg1b.Se2c.Se1b', 'runs_2/spg08/Be/BeS/xxx_02a-00_8-2-Be1b.S1b', 'runs_2/spg08/F/F4Si/xxx_02a-00_8-2-F2c.F1b.F1a.Si1a', 'runs_2/spg08/F/FIn/xxx_02a-00_8-2-F2c.In1b.In1a', 'runs_2/spg08/F/F2Ni/xxx_02a-00_8-2-F2c.F1b.F1a.Ni2c', 'runs_2/spg08/O/O3Cr/xxx_02a-00_8-2-O2c.O1a.Cr1a', 'runs_2/spg08/S/STa/xxx_02a-00_8-2-S1b.Ta1b', 'runs_2/spg08/Cr/CrTe/xxx_02a-00_8-2-Cr1b.Te1a', 'runs_2/spg08/Cl/Cl4Ge/xxx_02a-00_8-2-Cl2c.Cl1b.Cl1a.Ge1a', 'runs_2/spg08/As/As3Nb2/xxx_02a-00_8-2-As2c.As1a.Nb1b.Nb1a', 'runs_2/spg08/N/NPd/xxx_02a-00_8-2-N1b.Pd1b', 'runs_2/spg08/Fe/FeBr4/xxx_02a-00_8-2-Fe1a.Br2c.Br1b.Br1a', 'runs_2/spg08/O/OCd/xxx_02a-00_8-2-O1b.Cd1b', 'runs_2/spg08/Cl/Cl3Er/xxx_02a-00_8-2-Cl2c.Cl1b.Er1a', 'runs_2/spg08/V/V2Te3/xxx_02a-00_8-2-V2c.Te2c.Te1a', 'runs_2/spg08/Cu/CuI2/xxx_02a-00_8-2-Cu1b.Cu1a.I2c.I1b.I1a', 'runs_2/spg08/Co/CoSe/xxx_02a-00_8-2-Co2c.Co1a.Se2c.Se1a', 'runs_2/spg08/As/AsYb/xxx_02a-00_8-2-As2c.As1a.Yb2c.Yb1b']\n"
     ]
    },
    {
     "name": "stderr",
     "output_type": "stream",
     "text": [
      " 11%|███████████████████████████▏                                                                                                                                                                                                                              | 10/92 [00:49<04:11,  3.06s/it]"
     ]
    },
    {
     "name": "stdout",
     "output_type": "stream",
     "text": [
      "Length batch: 129\n",
      "['runs_2/spg09/S/SCu/xxx_02a-00_9-2-S2a.Cu2a', 'runs_2/spg09/Ca/CaSe/xxx_02a-00_9-2-Ca2a.Se2a', 'runs_2/spg09/N/NFe/xxx_02a-00_9-2-N2a.Fe2a', 'runs_2/spg09/O/ONi/xxx_02a-00_9-2-O2a.Ni2a', 'runs_2/spg09/Cl/ClIn/xxx_02a-00_9-2-Cl2a.In2a', 'runs_2/spg09/As/AsNd/xxx_02a-00_9-2-As2a.Nd2a', 'runs_2/spg09/N/NSm/xxx_02a-00_9-2-N2a.Sm2a', 'runs_2/spg09/As/AsAg/xxx_02a-00_9-2-As2a.Ag2a']\n"
     ]
    },
    {
     "name": "stderr",
     "output_type": "stream",
     "text": [
      " 13%|████████████████████████████████▌                                                                                                                                                                                                                         | 12/92 [00:49<02:10,  1.64s/it]"
     ]
    },
    {
     "name": "stdout",
     "output_type": "stream",
     "text": [
      "Length batch: 711\n",
      "['runs_2/spg10/Te/TeBa/xxx_02a-00_10-2-Te4b.Ba4b', 'runs_2/spg10/As/AsTl3/xxx_02a-00_10-2-As2a.Tl4b.Tl2a', 'runs_2/spg10/I/I3Au/xxx_02a-00_10-2-I4b.I2a.Au2a', 'runs_2/spg10/Se/SeAu2/xxx_02a-00_10-2-Se2a.Au4b', 'runs_2/spg10/Ca/CaTl2/xxx_02a-00_10-2-Ca2a.Tl4b', 'runs_2/spg10/Se/Se2Pd/xxx_02a-00_10-2-Se4b.Pd2a', 'runs_2/spg10/O/OCr/xxx_02a-00_10-2-O4b.Cr4b', 'runs_2/spg10/In/In3Te2/xxx_02a-00_10-2-In4b.In2a.Te4b', 'runs_2/spg10/Cl/Cl3Au/xxx_02a-00_10-2-Cl4b.Cl2a.Au2a', 'runs_2/spg10/Sb/Sb2Te3/xxx_02a-00_10-2-Sb4b.Te4b.Te2a', 'runs_2/spg10/Br/Br3In/xxx_02a-00_10-2-Br4b.Br2a.In2a', 'runs_2/spg10/Cr/CrTe/xxx_02a-00_10-2-Cr2a.Te2a', 'runs_2/spg10/F/F3Mn/xxx_02a-00_10-2-F4b.F2a.Mn2a', 'runs_2/spg10/S/S2V/xxx_02a-00_10-2-S4b.V2a', 'runs_2/spg10/O/OZn/xxx_02a-00_10-2-O2a.Zn2a', 'runs_2/spg10/O/OCu/xxx_02a-00_10-2-O4b.Cu4b', 'runs_2/spg10/Sm/SmTl3/xxx_02a-00_10-2-Sm2a.Tl4b.Tl2a', 'runs_2/spg10/F/F2Nb/xxx_02a-00_10-2-F4b.Nb2a', 'runs_2/spg10/Al/Al2S3/xxx_02a-00_10-2-Al4b.S4b.S2a', 'runs_2/spg10/Cr/CrTe/xxx_02a-00_10-2-Cr4b.Te4b', 'runs_2/spg10/Gd/GdTl3/xxx_02a-00_10-2-Gd2a.Tl4b.Tl2a', 'runs_2/spg10/Br/Br3Er/xxx_02a-00_10-2-Br4b.Br2a.Er2a', 'runs_2/spg10/Cl/Cl3Tl/xxx_02a-00_10-2-Cl4b.Cl2a.Tl2a', 'runs_2/spg10/Cl/Cl2Mn/xxx_02a-00_10-2-Cl4b.Mn2a', 'runs_2/spg10/F/F3Gd/xxx_02a-00_10-2-F4b.F2a.Gd2a', 'runs_2/spg10/P/PAg/xxx_02a-00_10-2-P2a.Ag2a', 'runs_2/spg10/Fe/FeSe/xxx_02a-00_10-2-Fe2a.Se2a', 'runs_2/spg10/As/AsDy/xxx_02a-00_10-2-As4b.As2a.Dy4b.Dy2a', 'runs_2/spg10/As/AsAg3/xxx_02a-00_10-2-As2a.Ag4b.Ag2a', 'runs_2/spg10/O/OAg2/xxx_02a-00_10-2-O2a.Ag4b', 'runs_2/spg10/Zn/ZnBr2/xxx_02a-00_10-2-Zn2a.Br4b', 'runs_2/spg10/Cr/Cr2Te3/xxx_02a-00_10-2-Cr4b.Te4b.Te2a', 'runs_2/spg10/P/PLu/xxx_02a-00_10-2-P2a.Lu2a', 'runs_2/spg10/Br/BrRb/xxx_02a-00_10-2-Br4b.Rb4b', 'runs_2/spg10/N/N2Cr3/xxx_02a-00_10-2-N4b.Cr4b.Cr2a', 'runs_2/spg10/Ti/TiTe2/xxx_02a-00_10-2-Ti2a.Te4b', 'runs_2/spg10/O/OPd/xxx_02a-00_10-2-O2a.Pd2a', 'runs_2/spg10/Be/BeO/xxx_02a-00_10-2-Be4b.O4b', 'runs_2/spg10/Sn/SnI2/xxx_02a-00_10-2-Sn2a.I4b', 'runs_2/spg10/As/AsIn3/xxx_02a-00_10-2-As2a.In4b.In2a']\n",
      "Length batch: 215\n",
      "['runs_2/spg12/N/NMn/xxx_02a-00_12-2-N2a.Mn2a', 'runs_2/spg12/Co/CoAs/xxx_02a-00_12-2-Co2a.As2a', 'runs_2/spg12/V/VAs/xxx_02a-00_12-2-V2a.As2a', 'runs_2/spg12/As/AsHo/xxx_02a-00_12-2-As2a.Ho2a', 'runs_2/spg12/N/NBi/xxx_02a-00_12-2-N2a.Bi2a', 'runs_2/spg12/O/OCo/xxx_02a-00_12-2-O2a.Co2a', 'runs_2/spg12/S/SCo/xxx_02a-00_12-2-S2a.Co2a', 'runs_2/spg12/N/NTi/xxx_02a-00_12-2-N2a.Ti2a', 'runs_2/spg12/Nb/NbTe/xxx_02a-00_12-2-Nb2a.Te2a', 'runs_2/spg12/Li/LiF/xxx_02a-00_12-2-Li2a.F2a', 'runs_2/spg12/O/OMn/xxx_02a-00_12-2-O2a.Mn2a', 'runs_2/spg12/Cl/ClIn/xxx_02a-00_12-2-Cl2a.In2a', 'runs_2/spg12/N/NCr/xxx_02a-00_12-2-N2a.Cr2a', 'runs_2/spg12/P/PBi/xxx_02a-00_12-2-P2a.Bi2a', 'runs_2/spg12/Be/BeTe/xxx_02a-00_12-2-Be2a.Te2a']\n"
     ]
    },
    {
     "name": "stderr",
     "output_type": "stream",
     "text": [
      " 14%|███████████████████████████████████▎                                                                                                                                                                                                                      | 13/92 [00:59<05:08,  3.91s/it]"
     ]
    },
    {
     "name": "stdout",
     "output_type": "stream",
     "text": [
      "Length batch: 1043\n",
      "['runs_2/spg13/P/PTi/xxx_02p-00_13-2-P2a.Ti2a', 'runs_2/spg13/S/SCu/xxx_02a-00_13-2-S4b.S2a.Cu4b.Cu2a', 'runs_2/spg13/Co/CoAs/xxx_02p-00_13-2-Co2a.As2a', 'runs_2/spg13/N/NDy/xxx_02p-00_13-2-N4b.Dy4b', 'runs_2/spg13/B/BAs/xxx_02p-00_13-2-B4b.As4b', 'runs_2/spg13/N/N2Cr3/xxx_02p-00_13-2-N4b.Cr4b.Cr2a', 'runs_2/spg13/S/SIn2/xxx_02p-00_13-2-S2a.In4b', 'runs_2/spg13/O/OCu/xxx_02p-00_13-2-O4b.O2a.Cu4b.Cu2a', 'runs_2/spg13/O/O2Cu3/xxx_02p-00_13-2-O4b.Cu4b.Cu2a', 'runs_2/spg13/N/N2Ni3/xxx_02p-00_13-2-N4b.Ni4b.Ni2a', 'runs_2/spg13/As/AsGd/xxx_02a-00_13-2-As4b.Gd4b', 'runs_2/spg13/N/N2Zn3/xxx_02p-00_13-2-N4b.Zn4b.Zn2a', 'runs_2/spg13/N/NSc/xxx_02p-00_13-2-N4b.N2a.Sc4b.Sc2a', 'runs_2/spg13/N/NAu/xxx_02a-00_13-2-N4b.N2a.Au4b.Au2a', 'runs_2/spg13/Na/NaI/xxx_02p-00_13-2-Na4b.I4b', 'runs_2/spg13/Cl/ClCu/xxx_02a-00_13-2-Cl4b.Cl2a.Cu4b.Cu2a', 'runs_2/spg13/S/S2Re/xxx_02p-00_13-2-S4b.Re2a', 'runs_2/spg13/Sc/ScI3/xxx_02p-00_13-2-Sc2a.I4b.I2a', 'runs_2/spg13/Se/SeSn/xxx_02p-00_13-2-Se4b.Se2a.Sn4b.Sn2a', 'runs_2/spg13/V/VI3/xxx_02p-00_13-2-V2a.I4b.I2a', 'runs_2/spg13/N/NMn/xxx_02p-00_13-2-N2a.Mn2a', 'runs_2/spg13/S/SMn/xxx_02p-00_13-2-S4b.Mn4b', 'runs_2/spg13/N/NNd/xxx_02p-00_13-2-N4b.Nd4b', 'runs_2/spg13/N/N2Pt3/xxx_02p-00_13-2-N4b.Pt4b.Pt2a', 'runs_2/spg13/Se/Se3Sm2/xxx_02a-00_13-2-Se4b.Se2a.Sm4b', 'runs_2/spg13/N/NSm/xxx_02p-00_13-2-N2a.Sm2a', 'runs_2/spg13/Pd/PdI2/xxx_02a-00_13-2-Pd2a.I4b', 'runs_2/spg13/S/S3Y2/xxx_02a-00_13-2-S4b.S2a.Y4b', 'runs_2/spg13/P/PNd/xxx_02p-00_13-2-P2a.Nd2a', 'runs_2/spg13/O/O3Au2/xxx_02p-00_13-2-O4b.O2a.Au4b', 'runs_2/spg13/F/FNa/xxx_02p-00_13-2-F2a.Na2a', 'runs_2/spg13/Ti/TiTl3/xxx_02a-00_13-2-Ti2a.Tl4b.Tl2a', 'runs_2/spg13/P/PTm/xxx_02a-00_13-2-P4b.P2a.Tm4b.Tm2a', 'runs_2/spg13/S/SSn/xxx_02p-00_13-2-S4b.Sn4b', 'runs_2/spg13/Na/NaTl/xxx_02p-00_13-2-Na4b.Na2a.Tl4b.Tl2a', 'runs_2/spg13/As/AsHo/xxx_02p-00_13-2-As4b.Ho4b', 'runs_2/spg13/O/OTa/xxx_02p-00_13-2-O2a.Ta2a', 'runs_2/spg13/F/F3Tl/xxx_02p-00_13-2-F4b.F2a.Tl2a', 'runs_2/spg13/Se/SeCs2/xxx_02p-00_13-2-Se2a.Cs4b', 'runs_2/spg13/Se/SeBa/xxx_02p-00_13-2-Se4b.Se2a.Ba4b.Ba2a', 'runs_2/spg13/P/P2Ta3/xxx_02p-00_13-2-P4b.Ta4b.Ta2a', 'runs_2/spg13/Se/SeIn/xxx_02a-00_13-2-Se4b.Se2a.In4b.In2a', 'runs_2/spg13/Se/SeCd/xxx_02p-00_13-2-Se2a.Cd2a', 'runs_2/spg13/P/PLa/xxx_02p-00_13-2-P2a.La2a', 'runs_2/spg13/Cr/CrSe/xxx_02p-00_13-2-Cr4b.Se4b', 'runs_2/spg13/P/PEu/xxx_02a-00_13-2-P4b.Eu4b', 'runs_2/spg13/F/F3Lu/xxx_02p-00_13-2-F4b.F2a.Lu2a', 'runs_2/spg13/Mg/MgCl2/xxx_02p-00_13-2-Mg2a.Cl4b', 'runs_2/spg13/O/OV/xxx_02p-00_13-2-O4b.O2a.V4b.V2a', 'runs_2/spg13/S/S2Pd/xxx_02p-00_13-2-S4b.Pd2a']\n"
     ]
    },
    {
     "name": "stderr",
     "output_type": "stream",
     "text": [
      " 15%|██████████████████████████████████████                                                                                                                                                                                                                    | 14/92 [01:40<19:49, 15.24s/it]"
     ]
    },
    {
     "name": "stdout",
     "output_type": "stream",
     "text": [
      "Length batch: 3299\n",
      "['runs_2/spg15/N/NTa/xxx_02a-00_15-2-N4d.N2c.Ta4d.Ta2b', 'runs_2/spg15/S/SIn/xxx_02a-00_15-2-S2c.In2a', 'runs_2/spg15/Br/Br2Pt/xxx_02a-00_15-2-Br4d.Pt2a', 'runs_2/spg15/Ni/NiSe/xxx_02a-00_15-2-Ni2b.Se2c', 'runs_2/spg15/Mg/MgTl2/xxx_02a-00_15-2-Mg2a.Tl4d', 'runs_2/spg15/Co/CoAs/xxx_02a-00_15-2-Co2c.Co2b.As2c.As2a', 'runs_2/spg15/Br/Br5Ta/xxx_02a-00_15-2-Br4d.Br2c.Br2b.Br2a.Ta2c', 'runs_2/spg15/Br/Br2Hg/xxx_02a-00_15-2-Br4d.Br2c.Br2b.Hg4d', 'runs_2/spg15/Li/LiCl/xxx_02a-00_15-2-Li2c.Li2a.Cl2c.Cl2b', 'runs_2/spg15/As/As2Cd3/xxx_02a-00_15-2-As2c.As2a.Cd4d.Cd2b', 'runs_2/spg15/Cl/Cl3Sc/xxx_02a-00_15-2-Cl4d.Cl2c.Sc2b', 'runs_2/spg15/Cl/Cl2In/xxx_02a-00_15-2-Cl4d.In2a', 'runs_2/spg15/Al/AlAs/xxx_02a-00_15-2-Al4d.As2c.As2a', 'runs_2/spg15/S/SHg/xxx_02a-00_15-2-S4d.Hg2c.Hg2a', 'runs_2/spg15/Na/NaBr/xxx_02a-00_15-2-Na2a.Br2b', 'runs_2/spg15/Br/Br3Rh/xxx_02a-00_15-2-Br4d.Br2a.Rh2b', 'runs_2/spg15/O/O3Nb2/xxx_02a-00_15-2-O4d.O2c.Nb2c.Nb2b', 'runs_2/spg15/Se/Se3Au2/xxx_02a-00_15-2-Se4d.Se2b.Au2c.Au2a', 'runs_2/spg15/As/AsEr/xxx_02a-00_15-2-As4d.Er2c.Er2b', 'runs_2/spg15/F/F3Nd/xxx_02a-00_15-2-F4d.F2a.Nd2c', 'runs_2/spg15/Co/CoI2/xxx_02a-00_15-2-Co2c.I4d', 'runs_2/spg15/S/SCd/xxx_02a-00_15-2-S4d.S2c.Cd2c.Cd2b.Cd2a', 'runs_2/spg15/F/F3Ag/xxx_02a-00_15-2-F4d.F2b.Ag2a', 'runs_2/spg15/Sr/SrI2/xxx_02a-00_15-2-Sr2a.I2c.I2b', 'runs_2/spg15/S/S2Ir/xxx_02a-00_15-2-S4d.Ir2b', 'runs_2/spg15/S/STa/xxx_02a-00_15-2-S2c.Ta2b', 'runs_2/spg15/In/InTe/xxx_02a-00_15-2-In4d.In2c.Te4d.Te2b', 'runs_2/spg15/P/PTl/xxx_02a-00_15-2-P4d.Tl2c.Tl2b', 'runs_2/spg15/F/F3Al/xxx_02a-00_15-2-F4d.F2a.Al2c', 'runs_2/spg15/Zn/ZnTe/xxx_02a-00_15-2-Zn4d.Te2b.Te2a', 'runs_2/spg15/P/P3Ta2/xxx_02a-00_15-2-P4d.P2c.Ta2c.Ta2a', 'runs_2/spg15/P/P2W/xxx_02a-00_15-2-P2c.P2b.W2a', 'runs_2/spg15/Cr/CrI4/xxx_02a-00_15-2-Cr2b.I4d.I2c.I2a', 'runs_2/spg15/Br/Br4Ir/xxx_02a-00_15-2-Br4d.Br2c.Br2b.Ir2a', 'runs_2/spg15/Mg/MgI2/xxx_02a-00_15-2-Mg2b.I4d', 'runs_2/spg15/Se/SePb/xxx_02a-00_15-2-Se4d.Pb2c.Pb2a', 'runs_2/spg15/S/SIn2/xxx_02a-00_15-2-S2b.In4d', 'runs_2/spg15/Fe/FeSe2/xxx_02a-00_15-2-Fe4d.Se4d.Se2c.Se2a', 'runs_2/spg15/As/AsIn/xxx_02a-00_15-2-As2a.In2c', 'runs_2/spg15/Cl/ClCu/xxx_02a-00_15-2-Cl2b.Cu2c', 'runs_2/spg15/As/AsSm/xxx_02a-00_15-2-As2b.As2a.Sm4d', 'runs_2/spg15/Se/SeIn2/xxx_02a-00_15-2-Se2b.In2c.In2a', 'runs_2/spg15/Fe/FeSe2/xxx_02a-00_15-2-Fe4d.Se4d.Se2b.Se2a', 'runs_2/spg15/Ga/Ga2Se3/xxx_02a-00_15-2-Ga2c.Ga2b.Se4d.Se2c', 'runs_2/spg15/P/P2Zn3/xxx_02a-00_15-2-P2c.P2a.Zn4d.Zn2b', 'runs_2/spg15/Cu/CuBr/xxx_02a-00_15-2-Cu4d.Cu2c.Br2c.Br2b.Br2a', 'runs_2/spg15/Se/SePt/xxx_02a-00_15-2-Se2c.Se2a.Pt4d', 'runs_2/spg15/As/AsIn2/xxx_02a-00_15-2-As2c.In2c.In2b', 'runs_2/spg15/Cl/Cl3Sb/xxx_02a-00_15-2-Cl4d.Cl2c.Sb2b', 'runs_2/spg15/Te/TeBa/xxx_02a-00_15-2-Te2c.Te2b.Ba2c.Ba2a', 'runs_2/spg15/Li/LiTl/xxx_02a-00_15-2-Li2c.Li2b.Li2a.Tl4d.Tl2c', 'runs_2/spg15/As/AsSm/xxx_02a-00_15-2-As2a.Sm2c', 'runs_2/spg15/I/ITl/xxx_02a-00_15-2-I2a.Tl2c', 'runs_2/spg15/Mg/MgBr2/xxx_02a-00_15-2-Mg2c.Br2c.Br2b', 'runs_2/spg15/Br/BrAu/xxx_02a-00_15-2-Br4d.Br2b.Au4d.Au2c', 'runs_2/spg15/O/ORb2/xxx_02a-00_15-2-O2c.Rb2c.Rb2b', 'runs_2/spg15/Ga/GaBr3/xxx_02a-00_15-2-Ga2b.Br4d.Br2c', 'runs_2/spg15/I/I3Bi/xxx_02a-00_15-2-I4d.I2a.Bi2b', 'runs_2/spg15/Li/Li3As/xxx_02a-00_15-2-Li4d.Li2c.As2a', 'runs_2/spg15/Cr/CrAs/xxx_02a-00_15-2-Cr2c.As2c', 'runs_2/spg15/Br/BrAg/xxx_02a-00_15-2-Br4d.Ag2b.Ag2a', 'runs_2/spg15/Br/Br3Pd/xxx_02a-00_15-2-Br4d.Br2a.Pd2c', 'runs_2/spg15/Sr/SrTe/xxx_02a-00_15-2-Sr4d.Sr2a.Te4d.Te2c', 'runs_2/spg15/F/F4Nb/xxx_02a-00_15-2-F4d.F2c.F2a.Nb2c', 'runs_2/spg15/Cd/CdTe/xxx_02a-00_15-2-Cd2b.Cd2a.Te4d', 'runs_2/spg15/F/F2Pb/xxx_02a-00_15-2-F4d.F2c.F2a.Pb4d', 'runs_2/spg15/Ni/NiBr2/xxx_02a-00_15-2-Ni2b.Br2c.Br2a', 'runs_2/spg15/F/FTl/xxx_02a-00_15-2-F4d.F2c.Tl2c.Tl2b.Tl2a', 'runs_2/spg15/Co/CoTe/xxx_02a-00_15-2-Co2c.Te2b', 'runs_2/spg15/P/PCo/xxx_02a-00_15-2-P2b.P2a.Co4d', 'runs_2/spg15/P/PBi/xxx_02a-00_15-2-P4d.Bi2c.Bi2b', 'runs_2/spg15/N/NPd/xxx_02a-00_15-2-N2b.N2a.Pd4d', 'runs_2/spg15/Cu/Cu2Te/xxx_02a-00_15-2-Cu2c.Cu2b.Te2c', 'runs_2/spg15/Mn/MnSe/xxx_02a-00_15-2-Mn4d.Mn2b.Se4d.Se2c', 'runs_2/spg15/In/InI2/xxx_02a-00_15-2-In2a.I4d', 'runs_2/spg15/Ho/HoTl3/xxx_02a-00_15-2-Ho2b.Tl4d.Tl2c', 'runs_2/spg15/Mg/Mg3P2/xxx_02a-00_15-2-Mg4d.Mg2c.P2c.P2b', 'runs_2/spg15/Se/SeIn2/xxx_02a-00_15-2-Se2a.In4d', 'runs_2/spg15/Cl/ClK/xxx_02a-00_15-2-Cl2c.K2a', 'runs_2/spg15/F/FCs/xxx_02a-00_15-2-F2b.F2a.Cs4d', 'runs_2/spg15/S/SAg2/xxx_02a-00_15-2-S2c.Ag4d', 'runs_2/spg15/Se/Se5Ta3/xxx_02a-00_15-2-Se4d.Se2c.Se2b.Se2a.Ta4d.Ta2c', 'runs_2/spg15/Sb/SbI3/xxx_02a-00_15-2-Sb2a.I4d.I2c', 'runs_2/spg15/Cu/CuI2/xxx_02a-00_15-2-Cu2a.I4d', 'runs_2/spg15/Fe/FeBr2/xxx_02a-00_15-2-Fe2c.Br4d', 'runs_2/spg15/Cl/Cl3Tb/xxx_02a-00_15-2-Cl4d.Cl2b.Tb2a', 'runs_2/spg15/Se/SeAg2/xxx_02a-00_15-2-Se2c.Ag2c.Ag2a', 'runs_2/spg15/F/F3Pd/xxx_02a-00_15-2-F4d.F2c.Pd2b', 'runs_2/spg15/F/F3Gd/xxx_02a-00_15-2-F4d.F2a.Gd2c', 'runs_2/spg15/S/S3In4/xxx_02a-00_15-2-S4d.S2c.In4d.In2c.In2b', 'runs_2/spg15/Cl/ClIn/xxx_02a-00_15-2-Cl4d.Cl2c.In2c.In2b.In2a', 'runs_2/spg15/Be/Be3P2/xxx_02a-00_15-2-Be4d.Be2b.P4d', 'runs_2/spg15/Mg/MgTl2/xxx_02a-00_15-2-Mg4d.Tl4d.Tl2c.Tl2b', 'runs_2/spg15/B/BP/xxx_02a-00_15-2-B4d.B2b.P4d.P2a', 'runs_2/spg15/F/F3Sc/xxx_02a-00_15-2-F4d.F2a.Sc2c', 'runs_2/spg15/In/InTe/xxx_02a-00_15-2-In2b.In2a.Te4d', 'runs_2/spg15/Na/Na2S/xxx_02a-00_15-2-Na2c.Na2b.S2a', 'runs_2/spg15/P/P4Nb3/xxx_02a-00_15-2-P4d.P2b.P2a.Nb4d.Nb2c', 'runs_2/spg15/Br/BrTl/xxx_02a-00_15-2-Br2c.Tl2c', 'runs_2/spg15/Cd/CdI2/xxx_02a-00_15-2-Cd2b.I4d', 'runs_2/spg15/I/I3Nd/xxx_02a-00_15-2-I4d.I2c.Nd2a', 'runs_2/spg15/F/FTl/xxx_02a-00_15-2-F2c.F2b.Tl4d', 'runs_2/spg15/Ti/TiAs/xxx_02a-00_15-2-Ti4d.Ti2c.As4d.As2a', 'runs_2/spg15/P/P4Ta3/xxx_02a-00_15-2-P4d.P2c.P2b.Ta4d.Ta2a', 'runs_2/spg15/K/K2Te/xxx_02a-00_15-2-K2c.K2a.Te2c', 'runs_2/spg15/Ge/GeTe2/xxx_02a-00_15-2-Ge2a.Te2c.Te2b', 'runs_2/spg15/Sr/SrI2/xxx_02a-00_15-2-Sr2b.I2c.I2a', 'runs_2/spg15/Be/BeBr2/xxx_02a-00_15-2-Be2a.Br4d', 'runs_2/spg15/O/O3Bi2/xxx_02a-00_15-2-O4d.O2c.Bi2b.Bi2a', 'runs_2/spg15/Se/SeIn/xxx_02a-00_15-2-Se2c.Se2b.In4d', 'runs_2/spg15/In/InI2/xxx_02a-00_15-2-In2b.I4d', 'runs_2/spg15/P/PLa/xxx_02a-00_15-2-P2b.La2c', 'runs_2/spg15/Cl/ClRb/xxx_02a-00_15-2-Cl4d.Rb2c.Rb2b', 'runs_2/spg15/Li/LiTl/xxx_02a-00_15-2-Li2c.Li2b.Tl2c.Tl2a', 'runs_2/spg15/F/F3Ho/xxx_02a-00_15-2-F4d.F2c.Ho2b', 'runs_2/spg15/Cl/Cl2Cr/xxx_02a-00_15-2-Cl2b.Cl2a.Cr2c', 'runs_2/spg15/Br/Br2Pb/xxx_02a-00_15-2-Br4d.Pb2b', 'runs_2/spg15/Li/LiCl/xxx_02a-00_15-2-Li4d.Cl2c.Cl2a', 'runs_2/spg15/Te/TePb/xxx_02a-00_15-2-Te4d.Te2c.Pb2c.Pb2b.Pb2a', 'runs_2/spg15/Ge/GeSe2/xxx_02a-00_15-2-Ge4d.Se4d.Se2c.Se2b', 'runs_2/spg15/F/F3Ti/xxx_02a-00_15-2-F4d.F2a.Ti2b', 'runs_2/spg15/Se/SePd/xxx_02a-00_15-2-Se4d.Se2c.Se2b.Pd4d.Pd2c.Pd2a', 'runs_2/spg15/In/InI/xxx_02a-00_15-2-In2c.In2b.In2a.I4d.I2c', 'runs_2/spg15/Cr/CrBr2/xxx_02a-00_15-2-Cr2c.Br4d', 'runs_2/spg15/Na/NaBr/xxx_02a-00_15-2-Na2b.Br2a', 'runs_2/spg15/As/As2Sn3/xxx_02a-00_15-2-As4d.Sn4d.Sn2b', 'runs_2/spg15/O/OPb/xxx_02a-00_15-2-O4d.O2c.Pb2c.Pb2b.Pb2a', 'runs_2/spg15/Se/SeIn/xxx_02a-00_15-2-Se4d.In2b.In2a', 'runs_2/spg15/Se/Se2W/xxx_02a-00_15-2-Se4d.Se2c.Se2a.W2c.W2b', 'runs_2/spg15/N/N2V3/xxx_02a-00_15-2-N2c.N2a.V4d.V2c', 'runs_2/spg15/Cr/CrAs2/xxx_02a-00_15-2-Cr2c.As2c.As2a', 'runs_2/spg15/P/P2Ni3/xxx_02a-00_15-2-P2c.P2a.Ni4d.Ni2b', 'runs_2/spg15/S/S2In3/xxx_02a-00_15-2-S2c.S2a.In4d.In2c', 'runs_2/spg15/O/OPb/xxx_02a-00_15-2-O4d.O2c.O2a.Pb4d.Pb2c.Pb2b', 'runs_2/spg15/N/N3Mn2/xxx_02a-00_15-2-N4d.N2c.Mn2c.Mn2a', 'runs_2/spg15/Se/SeIn2/xxx_02a-00_15-2-Se2b.In4d', 'runs_2/spg15/Se/SeHg/xxx_02a-00_15-2-Se2c.Hg2c', 'runs_2/spg15/N/NTl/xxx_02a-00_15-2-N4d.N2c.Tl4d.Tl2b', 'runs_2/spg15/F/F3Sc/xxx_02a-00_15-2-F4d.F2c.Sc2c', 'runs_2/spg15/Be/BeF2/xxx_02a-00_15-2-Be4d.F4d.F2c.F2b', 'runs_2/spg15/Ga/GaAs/xxx_02a-00_15-2-Ga2c.As2c', 'runs_2/spg15/Al/AlTl3/xxx_02a-00_15-2-Al2b.Tl4d.Tl2a', 'runs_2/spg15/Ti/Ti3Te5/xxx_02a-00_15-2-Ti4d.Ti2c.Te4d.Te2c.Te2b.Te2a', 'runs_2/spg15/As/AsAg/xxx_02a-00_15-2-As4d.Ag2c.Ag2b', 'runs_2/spg15/Cl/ClTl/xxx_02a-00_15-2-Cl2b.Tl2a', 'runs_2/spg15/O/OSn/xxx_02a-00_15-2-O4d.O2b.Sn4d.Sn2a', 'runs_2/spg15/Fe/FeBr2/xxx_02a-00_15-2-Fe2c.Br2c.Br2b', 'runs_2/spg15/Ni/Ni2Te3/xxx_02a-00_15-2-Ni2c.Ni2a.Te4d.Te2b', 'runs_2/spg15/Cl/Cl4W/xxx_02a-00_15-2-Cl4d.Cl2c.Cl2a.W2b', 'runs_2/spg15/P/P2Re/xxx_02a-00_15-2-P4d.Re2b']\n"
     ]
    },
    {
     "name": "stderr",
     "output_type": "stream",
     "text": [
      " 16%|████████████████████████████████████████▊                                                                                                                                                                                                                 | 15/92 [01:43<14:43, 11.48s/it]"
     ]
    },
    {
     "name": "stdout",
     "output_type": "stream",
     "text": [
      "Length batch: 1305\n",
      "['runs_2/spg17/Sc/ScTl3/xxx_02a-00_17-2-Sc2b.Tl4c.Tl2a', 'runs_2/spg17/F/F3Cr/xxx_02a-00_17-2-F4c.F2b.Cr2a', 'runs_2/spg17/O/OPd/xxx_02a-00_17-2-O4c.Pd2b.Pd2a', 'runs_2/spg17/Br/Br3Bi/xxx_02a-00_17-2-Br4c.Br2b.Bi2a', 'runs_2/spg17/Sb/Sb2Te3/xxx_02a-00_17-2-Sb4c.Te4c.Te2a', 'runs_2/spg17/O/ONb/xxx_02a-00_17-2-O4c.Nb4c', 'runs_2/spg17/S/SFe/xxx_02a-00_17-2-S2b.Fe2a', 'runs_2/spg17/S/SZn/xxx_02a-00_17-2-S2a.Zn2b', 'runs_2/spg17/As/As2Cd3/xxx_02a-00_17-2-As4c.Cd4c.Cd2a', 'runs_2/spg17/Cu/CuTe/xxx_02a-00_17-2-Cu4c.Cu2a.Te4c.Te2b', 'runs_2/spg17/Se/Se2W/xxx_02a-00_17-2-Se4c.W2a', 'runs_2/spg17/V/VTe2/xxx_02a-00_17-2-V2b.Te4c', 'runs_2/spg17/B/BI3/xxx_02a-00_17-2-B2b.I4c.I2a', 'runs_2/spg17/Te/TeBa/xxx_02a-00_17-2-Te2b.Ba2a', 'runs_2/spg17/P/PLa/xxx_02a-00_17-2-P4c.P2a.La4c.La2b', 'runs_2/spg17/O/O2Zr/xxx_02a-00_17-2-O4c.O2b.O2a.Zr4c', 'runs_2/spg17/O/O3Ir/xxx_02a-00_17-2-O4c.O2a.Ir2b', 'runs_2/spg17/V/VI3/xxx_02a-00_17-2-V2b.I4c.I2a', 'runs_2/spg17/S/SAu2/xxx_02a-00_17-2-S2a.Au4c', 'runs_2/spg17/K/K2Se/xxx_02a-00_17-2-K4c.Se2b', 'runs_2/spg17/Si/SiSe2/xxx_02a-00_17-2-Si2a.Se4c', 'runs_2/spg17/Fe/FeTe/xxx_02a-00_17-2-Fe2b.Te2a', 'runs_2/spg17/Be/BeO/xxx_02a-00_17-2-Be4c.O4c', 'runs_2/spg17/P/PCr/xxx_02a-00_17-2-P4c.Cr2b.Cr2a', 'runs_2/spg17/Li/LiF/xxx_02a-00_17-2-Li4c.Li2b.F4c.F2a', 'runs_2/spg17/P/PGd/xxx_02a-00_17-2-P2b.P2a.Gd4c', 'runs_2/spg17/As/AsTl/xxx_02a-00_17-2-As4c.Tl4c', 'runs_2/spg17/N/NAg3/xxx_02a-00_17-2-N2a.Ag4c.Ag2b', 'runs_2/spg17/Se/SePt/xxx_02a-00_17-2-Se4c.Pt2b.Pt2a', 'runs_2/spg17/S/S3Ru2/xxx_02a-00_17-2-S4c.S2a.Ru4c', 'runs_2/spg17/F/F2Sr/xxx_02a-00_17-2-F4c.Sr2a', 'runs_2/spg17/Cr/CrSe/xxx_02a-00_17-2-Cr2a.Se2b', 'runs_2/spg17/S/SPt/xxx_02a-00_17-2-S2a.Pt2b', 'runs_2/spg17/O/O2Nb/xxx_02a-00_17-2-O4c.Nb2b', 'runs_2/spg17/O/O2Pd/xxx_02a-00_17-2-O4c.Pd2b', 'runs_2/spg17/F/F3La/xxx_02a-00_17-2-F4c.F2a.La2b', 'runs_2/spg17/S/SMn/xxx_02a-00_17-2-S4c.S2a.Mn4c.Mn2b', 'runs_2/spg17/O/O3Mn2/xxx_02a-00_17-2-O4c.O2b.Mn4c', 'runs_2/spg17/F/F2Cu/xxx_02a-00_17-2-F4c.Cu2a', 'runs_2/spg17/O/OSn/xxx_02a-00_17-2-O4c.Sn2b.Sn2a', 'runs_2/spg17/O/OTa/xxx_02a-00_17-2-O2b.O2a.Ta4c', 'runs_2/spg17/P/P2Cu3/xxx_02a-00_17-2-P4c.Cu4c.Cu2a', 'runs_2/spg17/C/CS2/xxx_02a-00_17-2-C2a.S4c', 'runs_2/spg17/N/NTi/xxx_02a-00_17-2-N4c.Ti2b.Ti2a', 'runs_2/spg17/S/SPt/xxx_02a-00_17-2-S2b.Pt2a', 'runs_2/spg17/Fe/FeAs/xxx_02a-00_17-2-Fe4c.As2b.As2a', 'runs_2/spg17/Nb/NbI2/xxx_02a-00_17-2-Nb2b.I4c', 'runs_2/spg17/Br/Br3Pd/xxx_02a-00_17-2-Br4c.Br2b.Pd2a', 'runs_2/spg17/S/SCu/xxx_02a-00_17-2-S4c.Cu2b.Cu2a', 'runs_2/spg17/N/N2Mo/xxx_02a-00_17-2-N4c.Mo2a', 'runs_2/spg17/P/PHo/xxx_02a-00_17-2-P4c.P2a.Ho4c.Ho2b', 'runs_2/spg17/N/NTl/xxx_02a-00_17-2-N4c.N2a.Tl4c.Tl2b', 'runs_2/spg17/Br/Br3Tb/xxx_02a-00_17-2-Br4c.Br2a.Tb2b', 'runs_2/spg17/S/S2Cr/xxx_02a-00_17-2-S4c.Cr2b', 'runs_2/spg17/N/NSb/xxx_02a-00_17-2-N2a.Sb2b', 'runs_2/spg17/Cl/Cl2Zn/xxx_02a-00_17-2-Cl4c.Zn2b', 'runs_2/spg17/B/BP/xxx_02a-00_17-2-B4c.B2b.P4c.P2a', 'runs_2/spg17/Br/Br2Sn/xxx_02a-00_17-2-Br4c.Sn2b', 'runs_2/spg17/Sc/ScI3/xxx_02a-00_17-2-Sc2b.I4c.I2a', 'runs_2/spg17/Na/NaI/xxx_02a-00_17-2-Na4c.I4c', 'runs_2/spg17/S/SCo/xxx_02a-00_17-2-S2b.S2a.Co4c', 'runs_2/spg17/Cl/Cl2Mn/xxx_02a-00_17-2-Cl4c.Cl2b.Cl2a.Mn4c', 'runs_2/spg17/S/SFe/xxx_02a-00_17-2-S4c.S2b.Fe4c.Fe2a']\n"
     ]
    },
    {
     "name": "stderr",
     "output_type": "stream",
     "text": [
      " 17%|███████████████████████████████████████████▍                                                                                                                                                                                                              | 16/92 [02:01<17:07, 13.51s/it]"
     ]
    },
    {
     "name": "stdout",
     "output_type": "stream",
     "text": [
      "Length batch: 1108\n",
      "['runs_2/spg21/Cl/Cl2Fe/xxx_02a-00_21-2-Cl2b.Cl2a.Fe2a', 'runs_2/spg21/As/AsHo/xxx_02a-00_21-2-As4c.As2a.Ho4c.Ho2b', 'runs_2/spg21/Br/Br3Rh/xxx_02a-00_21-2-Br4c.Br2b.Rh2a', 'runs_2/spg21/F/FAg/xxx_02a-00_21-2-F4c.F2b.F2a.Ag4c.Ag2b.Ag2a', 'runs_2/spg21/Se/Se3Er2/xxx_02a-00_21-2-Se4c.Se2a.Er4c', 'runs_2/spg21/Cl/Cl3Tl/xxx_02a-00_21-2-Cl4c.Cl2b.Tl2b', 'runs_2/spg21/Ti/TiSe2/xxx_02a-00_21-2-Ti4c.Se4c.Se2b.Se2a', 'runs_2/spg21/Ti/TiTe2/xxx_02a-00_21-2-Ti4c.Te4c.Te2b.Te2a', 'runs_2/spg21/P/PGa/xxx_02a-00_21-2-P4c.P2a.Ga4c.Ga2b', 'runs_2/spg21/As/As4Re3/xxx_02a-00_21-2-As4c.As2b.As2a.Re4c.Re2a', 'runs_2/spg21/Cl/Cl3Dy/xxx_02a-00_21-2-Cl4c.Cl2a.Dy2a', 'runs_2/spg21/Sb/SbI3/xxx_02a-00_21-2-Sb2a.I4c.I2a', 'runs_2/spg21/Ca/CaSe/xxx_02a-00_21-2-Ca4c.Se2b.Se2a', 'runs_2/spg21/S/SMn/xxx_02a-00_21-2-S2b.Mn2a', 'runs_2/spg21/P/PTa/xxx_02a-00_21-2-P4c.Ta2b.Ta2a', 'runs_2/spg21/Cl/Cl2Nb/xxx_02a-00_21-2-Cl4c.Nb2a', 'runs_2/spg21/In/InI2/xxx_02a-00_21-2-In2a.I4c', 'runs_2/spg21/F/F3Er/xxx_02a-00_21-2-F4c.F2b.Er2a', 'runs_2/spg21/Cu/CuSe/xxx_02a-00_21-2-Cu4c.Se4c', 'runs_2/spg21/I/I3Tl/xxx_02a-00_21-2-I4c.I2a.Tl2b', 'runs_2/spg21/In/InTe/xxx_02a-00_21-2-In4c.Te4c', 'runs_2/spg21/Cl/Cl2Cu/xxx_02a-00_21-2-Cl4c.Cu2a', 'runs_2/spg21/I/I3Dy/xxx_02a-00_21-2-I4c.I2a.Dy2a', 'runs_2/spg21/P/PSb/xxx_02a-00_21-2-P4c.Sb2b.Sb2a', 'runs_2/spg21/Cl/ClK/xxx_02a-00_21-2-Cl4c.K4c', 'runs_2/spg21/Br/Br3Er/xxx_02a-00_21-2-Br4c.Br2b.Er2b', 'runs_2/spg21/Li/LiTl/xxx_02p-00_21-2-Li2b.Tl2b', 'runs_2/spg21/Br/BrCs/xxx_02a-00_21-2-Br2b.Cs2a', 'runs_2/spg21/Pd/PdI2/xxx_02a-00_21-2-Pd2b.I4c', 'runs_2/spg21/As/As2Nb3/xxx_02a-00_21-2-As4c.Nb4c.Nb2a', 'runs_2/spg21/Cr/CrAs2/xxx_02a-00_21-2-Cr2b.As4c', 'runs_2/spg21/Te/TeHg/xxx_02a-00_21-2-Te2a.Hg2a', 'runs_2/spg21/As/AsHo/xxx_02a-00_21-2-As2b.Ho2a', 'runs_2/spg21/F/F4Ta/xxx_02a-00_21-2-F4c.F2b.F2a.Ta2b', 'runs_2/spg21/Cu/CuTe/xxx_02p-00_21-2-Cu2a.Te2a', 'runs_2/spg21/I/I3Dy/xxx_02a-00_21-2-I4c.I2b.Dy2a', 'runs_2/spg21/Br/BrAu/xxx_02a-00_21-2-Br4c.Au2b.Au2a', 'runs_2/spg21/Mg/MgTe/xxx_02a-00_21-2-Mg4c.Mg2b.Te4c.Te2a', 'runs_2/spg21/I/I3Ho/xxx_02a-00_21-2-I4c.I2a.Ho2b', 'runs_2/spg21/Cl/Cl2Ni/xxx_02a-00_21-2-Cl4c.Cl2b.Cl2a.Ni2b.Ni2a', 'runs_2/spg21/F/F2In/xxx_02a-00_21-2-F2b.F2a.In2b', 'runs_2/spg21/Be/BeSe/xxx_02a-00_21-2-Be2a.Se2a', 'runs_2/spg21/Zn/ZnTe/xxx_02a-00_21-2-Zn2a.Te2b', 'runs_2/spg21/In/In2Te/xxx_02a-00_21-2-In4c.Te2b', 'runs_2/spg21/Co/CoAs/xxx_02a-00_21-2-Co2a.As2b', 'runs_2/spg21/N/N2Co3/xxx_02a-00_21-2-N4c.Co4c.Co2b', 'runs_2/spg21/Cu/CuBr/xxx_02a-00_21-2-Cu4c.Cu2a.Br4c.Br2b', 'runs_2/spg21/Br/Br3Sb/xxx_02a-00_21-2-Br4c.Br2a.Sb2b', 'runs_2/spg21/Mg/MgSe/xxx_02a-00_21-2-Mg4c.Mg2b.Se4c.Se2b', 'runs_2/spg21/N/NBi/xxx_02a-00_21-2-N2a.Bi2a', 'runs_2/spg21/N/NCu2/xxx_02a-00_21-2-N4c.Cu4c.Cu2b.Cu2a', 'runs_2/spg21/S/S3Os/xxx_02a-00_21-2-S4c.S2b.Os2b', 'runs_2/spg21/Ni/NiTe/xxx_02a-00_21-2-Ni4c.Te2b.Te2a', 'runs_2/spg21/N/NPd/xxx_02a-00_21-2-N4c.Pd4c', 'runs_2/spg21/F/F2Zn/xxx_02a-00_21-2-F4c.F2b.F2a.Zn2b.Zn2a', 'runs_2/spg21/Te/Te3Eu2/xxx_02a-00_21-2-Te4c.Te2b.Eu4c', 'runs_2/spg21/Br/Br2Hg/xxx_02a-00_21-2-Br4c.Hg2b', 'runs_2/spg21/F/F2Hg/xxx_02a-00_21-2-F4c.Hg2a', 'runs_2/spg21/Cl/Cl2In/xxx_02a-00_21-2-Cl4c.In2a', 'runs_2/spg21/Cr/Cr2Te3/xxx_02a-00_21-2-Cr4c.Te4c.Te2a', 'runs_2/spg21/I/I3Gd/xxx_02a-00_21-2-I4c.I2b.Gd2b', 'runs_2/spg21/Ga/Ga2Te3/xxx_02a-00_21-2-Ga2b.Ga2a.Te4c.Te2b', 'runs_2/spg21/Cu/CuI/xxx_02p-00_21-2-Cu4c.I2b.I2a', 'runs_2/spg21/B/BP/xxx_02a-00_21-2-B2b.B2a.P4c', 'runs_2/spg21/Te/TeHg/xxx_02a-00_21-2-Te4c.Hg2b.Hg2a', 'runs_2/spg21/Te/TePb/xxx_02a-00_21-2-Te2b.Te2a.Pb4c', 'runs_2/spg21/F/FRb/xxx_02a-00_21-2-F2b.F2a.Rb4c', 'runs_2/spg21/F/F3Sm/xxx_02a-00_21-2-F4c.F2b.Sm2a', 'runs_2/spg21/S/SSn/xxx_02a-00_21-2-S2b.Sn2b', 'runs_2/spg21/Li/LiCl/xxx_02a-00_21-2-Li2b.Li2a.Cl4c', 'runs_2/spg21/Cr/CrTe2/xxx_02a-00_21-2-Cr4c.Te4c.Te2b.Te2a', 'runs_2/spg21/S/STa/xxx_02a-00_21-2-S4c.S2b.S2a.Ta4c.Ta2b.Ta2a', 'runs_2/spg21/Br/Br3Y/xxx_02a-00_21-2-Br4c.Br2a.Y2b', 'runs_2/spg21/Br/BrCs/xxx_02a-00_21-2-Br4c.Cs4c', 'runs_2/spg21/Al/AlCl3/xxx_02a-00_21-2-Al2a.Cl4c.Cl2b', 'runs_2/spg21/Cu/CuBr2/xxx_02a-00_21-2-Cu2b.Br4c', 'runs_2/spg21/Ni/NiBr3/xxx_02a-00_21-2-Ni2b.Br4c.Br2b', 'runs_2/spg21/F/F3Mn/xxx_02a-00_21-2-F4c.F2b.Mn2a', 'runs_2/spg21/Cs/CsTl/xxx_02a-00_21-2-Cs4c.Tl2b.Tl2a', 'runs_2/spg21/N/N2Os/xxx_02a-00_21-2-N4c.Os2b']\n"
     ]
    },
    {
     "name": "stderr",
     "output_type": "stream",
     "text": [
      " 18%|██████████████████████████████████████████████▏                                                                                                                                                                                                           | 17/92 [02:18<18:10, 14.54s/it]"
     ]
    },
    {
     "name": "stdout",
     "output_type": "stream",
     "text": [
      "Length batch: 791\n",
      "['runs_2/spg28/Na/NaI/xxx_02a-00_28-2-Na2b.I2a', 'runs_2/spg28/V/VAs/xxx_02a-00_28-2-V4c.V2a.As4c.As2a', 'runs_2/spg28/I/I3Bi/xxx_02a-00_28-2-I4c.I2a.Bi2a', 'runs_2/spg28/P/PBi/xxx_02a-00_28-2-P2a.Bi2a', 'runs_2/spg28/Fe/Fe2Se3/xxx_02a-00_28-2-Fe4c.Se4c.Se2a', 'runs_2/spg28/Cl/Cl2V/xxx_02a-00_28-2-Cl4c.V2b', 'runs_2/spg28/Cl/ClTl/xxx_02a-00_28-2-Cl4c.Cl2a.Tl4c.Tl2b', 'runs_2/spg28/Se/SeIn2/xxx_02a-00_28-2-Se2b.In2b.In2a', 'runs_2/spg28/S/SHg/xxx_02a-00_28-2-S2b.S2a.Hg4c', 'runs_2/spg28/F/F3Ti/xxx_02a-00_28-2-F4c.F2a.Ti2b', 'runs_2/spg28/I/ITl/xxx_02a-00_28-2-I4c.I2a.Tl4c.Tl2b', 'runs_2/spg28/V/VTe2/xxx_02a-00_28-2-V2b.Te4c', 'runs_2/spg28/Cl/Cl4Hf/xxx_02a-00_28-2-Cl4c.Cl2b.Cl2a.Hf2b', 'runs_2/spg28/Cl/ClAu/xxx_02a-00_28-2-Cl2b.Au2b', 'runs_2/spg28/Co/CoBr2/xxx_02a-00_28-2-Co2b.Br4c', 'runs_2/spg28/Se/SeHg/xxx_02a-00_28-2-Se2a.Hg2b', 'runs_2/spg28/Be/Be3P2/xxx_02a-00_28-2-Be4c.Be2a.P4c', 'runs_2/spg28/Li/LiI/xxx_02a-00_28-2-Li4c.I4c', 'runs_2/spg28/F/FAu/xxx_02a-00_28-2-F4c.Au4c', 'runs_2/spg28/P/PIn2/xxx_02a-00_28-2-P2a.In2b.In2a', 'runs_2/spg28/Cl/Cl3Sm/xxx_02a-00_28-2-Cl4c.Cl2a.Sm2b', 'runs_2/spg28/Cl/ClRb/xxx_02a-00_28-2-Cl2a.Rb2b', 'runs_2/spg28/Br/Br3Tm/xxx_02a-00_28-2-Br4c.Br2b.Tm2b', 'runs_2/spg28/I/I2Hg/xxx_02a-00_28-2-I2b.I2a.Hg2b', 'runs_2/spg28/F/F3Eu/xxx_02a-00_28-2-F4c.F2a.Eu2a', 'runs_2/spg28/Pd/PdI3/xxx_02a-00_28-2-Pd2b.I4c.I2a', 'runs_2/spg28/Cl/Cl4Mo/xxx_02a-00_28-2-Cl4c.Cl2b.Cl2a.Mo2a', 'runs_2/spg28/F/F3Sb/xxx_02a-00_28-2-F4c.F2b.Sb2b', 'runs_2/spg28/K/K2Se/xxx_02a-00_28-2-K2b.K2a.Se2a', 'runs_2/spg28/F/F2In/xxx_02a-00_28-2-F4c.In2b', 'runs_2/spg28/P/P2Ca3/xxx_02a-00_28-2-P4c.Ca4c.Ca2a', 'runs_2/spg28/F/F3Sb/xxx_02a-00_28-2-F4c.F2a.Sb2a', 'runs_2/spg28/As/AsAg/xxx_02a-00_28-2-As2a.Ag2b', 'runs_2/spg28/N/N2Fe3/xxx_02a-00_28-2-N2b.N2a.Fe4c.Fe2b', 'runs_2/spg28/Se/SeTl2/xxx_02a-00_28-2-Se2a.Tl4c', 'runs_2/spg28/Ni/NiSe/xxx_02a-00_28-2-Ni4c.Ni2b.Ni2a.Se4c.Se2b.Se2a', 'runs_2/spg28/Cu/CuSe/xxx_02a-00_28-2-Cu4c.Cu2b.Cu2a.Se4c.Se2b.Se2a', 'runs_2/spg28/Be/BeI2/xxx_02a-00_28-2-Be2b.I4c', 'runs_2/spg28/N/N3Cr4/xxx_02a-00_28-2-N4c.N2a.Cr4c.Cr2b.Cr2a', 'runs_2/spg28/I/I3Ho/xxx_02a-00_28-2-I4c.I2a.Ho2a', 'runs_2/spg28/Fe/FeTe/xxx_02a-00_28-2-Fe2a.Te2b']\n"
     ]
    },
    {
     "name": "stderr",
     "output_type": "stream",
     "text": [
      " 20%|████████████████████████████████████████████████▉                                                                                                                                                                                                         | 18/92 [02:20<13:21, 10.84s/it]"
     ]
    },
    {
     "name": "stdout",
     "output_type": "stream",
     "text": [
      "Length batch: 529\n",
      "['runs_2/spg29/N/NCu3/xxx_02p-00_29-2-N2a.Cu4b.Cu2a', 'runs_2/spg29/Te/TeHg/xxx_02p-00_29-2-Te2a.Hg2a', 'runs_2/spg29/Nb/NbTe/xxx_02p-00_29-2-Nb2a.Te2a', 'runs_2/spg29/S/SPd/xxx_02p-00_29-2-S4b.S2a.Pd4b.Pd2a', 'runs_2/spg29/Cl/ClIn/xxx_02p-00_29-2-Cl4b.In4b', 'runs_2/spg29/Br/Br3In/xxx_02p-00_29-2-Br4b.Br2a.In2a', 'runs_2/spg29/Se/SePt/xxx_02p-00_29-2-Se4b.Se2a.Pt4b.Pt2a', 'runs_2/spg29/N/NCo/xxx_02p-00_29-2-N2a.Co2a', 'runs_2/spg29/Cl/Cl2Fe/xxx_02p-00_29-2-Cl4b.Fe2a', 'runs_2/spg29/Br/Br3La/xxx_02p-00_29-2-Br4b.Br2a.La2a', 'runs_2/spg29/As/AsSm/xxx_02p-00_29-2-As4b.As2a.Sm4b.Sm2a', 'runs_2/spg29/Cl/Cl3Ni/xxx_02p-00_29-2-Cl4b.Cl2a.Ni2a', 'runs_2/spg29/Sn/SnI2/xxx_02p-00_29-2-Sn2a.I4b', 'runs_2/spg29/S/SCr/xxx_02p-00_29-2-S4b.Cr4b', 'runs_2/spg29/Se/SeBa/xxx_02p-00_29-2-Se2a.Ba2a', 'runs_2/spg29/Sn/SnTe/xxx_02p-00_29-2-Sn2a.Te2a', 'runs_2/spg29/Br/BrAu/xxx_02p-00_29-2-Br4b.Au4b', 'runs_2/spg29/F/F2Ni/xxx_02p-00_29-2-F4b.Ni2a', 'runs_2/spg29/Te/Te3Lu2/xxx_02p-00_29-2-Te4b.Te2a.Lu4b', 'runs_2/spg29/F/F3Tl/xxx_02p-00_29-2-F4b.F2a.Tl2a', 'runs_2/spg29/Nb/NbTe2/xxx_02p-00_29-2-Nb2a.Te4b', 'runs_2/spg29/P/PTm/xxx_02p-00_29-2-P4b.Tm4b', 'runs_2/spg29/S/S3Eu2/xxx_02p-00_29-2-S4b.S2a.Eu4b', 'runs_2/spg29/S/S3Ho2/xxx_02p-00_29-2-S4b.S2a.Ho4b']\n"
     ]
    },
    {
     "name": "stderr",
     "output_type": "stream",
     "text": [
      " 21%|███████████████████████████████████████████████████▋                                                                                                                                                                                                      | 19/92 [02:26<11:30,  9.45s/it]"
     ]
    },
    {
     "name": "stdout",
     "output_type": "stream",
     "text": [
      "Length batch: 1328\n",
      "['runs_2/spg30/Te/TeTl2/xxx_02p-00_30-2-Te2b.Tl4c', 'runs_2/spg30/N/N3Ta2/xxx_02p-00_30-2-N4c.N2a.Ta2b.Ta2a', 'runs_2/spg30/N/NYb/xxx_02p-00_30-2-N2b.Yb2a', 'runs_2/spg30/N/NEu/xxx_02p-00_30-2-N2b.N2a.Eu2b.Eu2a', 'runs_2/spg30/Se/SeIn2/xxx_02p-00_30-2-Se2a.In4c', 'runs_2/spg30/V/VAs/xxx_02p-00_30-2-V4c.V2a.As4c.As2b', 'runs_2/spg30/Fe/FeAs/xxx_02p-00_30-2-Fe2a.As2a', 'runs_2/spg30/S/SNb/xxx_02p-00_30-2-S2b.Nb2a', 'runs_2/spg30/As/AsTb/xxx_02p-00_30-2-As4c.As2a.Tb4c.Tb2a', 'runs_2/spg30/F/FRb/xxx_02p-00_30-2-F2a.Rb2b', 'runs_2/spg30/N/NY/xxx_02p-00_30-2-N2b.N2a.Y2b.Y2a', 'runs_2/spg30/N/NGa/xxx_02p-00_30-2-N4c.N2a.Ga4c.Ga2b', 'runs_2/spg30/Br/Br2Cd/xxx_02p-00_30-2-Br2b.Br2a.Cd2a', 'runs_2/spg30/Mn/Mn2Te3/xxx_02p-00_30-2-Mn4c.Te4c.Te2b', 'runs_2/spg30/Ge/GeTe2/xxx_02p-00_30-2-Ge2b.Te2b.Te2a', 'runs_2/spg30/As/AsY/xxx_02p-00_30-2-As4c.As2b.As2a.Y4c.Y2b.Y2a', 'runs_2/spg30/Br/Br2Ba/xxx_02p-00_30-2-Br2b.Br2a.Ba2b', 'runs_2/spg30/V/VTl3/xxx_02p-00_30-2-V2b.Tl4c.Tl2a', 'runs_2/spg30/N/N2Mo/xxx_02p-00_30-2-N2b.N2a.Mo2b', 'runs_2/spg30/Cr/CrI4/xxx_02p-00_30-2-Cr2a.I4c.I2b.I2a', 'runs_2/spg30/Fe/FeTe/xxx_02p-00_30-2-Fe2b.Te2a', 'runs_2/spg30/N/NNd/xxx_02p-00_30-2-N2a.Nd2a', 'runs_2/spg30/As/AsEr/xxx_02p-00_30-2-As4c.As2a.Er4c.Er2b', 'runs_2/spg30/F/F3Lu/xxx_02p-00_30-2-F4c.F2b.Lu2b', 'runs_2/spg30/I/I3Dy/xxx_02p-00_30-2-I4c.I2a.Dy2a', 'runs_2/spg30/Cl/Cl3Er/xxx_02p-00_30-2-Cl4c.Cl2b.Er2a', 'runs_2/spg30/Br/Br3Ir/xxx_02p-00_30-2-Br4c.Br2b.Ir2a', 'runs_2/spg30/Co/CoAs/xxx_02p-00_30-2-Co4c.Co2b.As4c.As2a', 'runs_2/spg30/Nb/NbTe/xxx_02p-00_30-2-Nb2b.Te2b', 'runs_2/spg30/Se/Se2Hf/xxx_02p-00_30-2-Se2b.Se2a.Hf2a', 'runs_2/spg30/S/S3Pt2/xxx_02p-00_30-2-S4c.S2a.Pt2b.Pt2a', 'runs_2/spg30/S/S3In2/xxx_02p-00_30-2-S4c.S2b.In2b.In2a', 'runs_2/spg30/F/FCu/xxx_02p-00_30-2-F2b.F2a.Cu4c', 'runs_2/spg30/Cu/CuTe/xxx_02p-00_30-2-Cu4c.Te2b.Te2a', 'runs_2/spg30/Ti/Ti2Te3/xxx_02p-00_30-2-Ti2b.Ti2a.Te4c.Te2b', 'runs_2/spg30/Se/SePb/xxx_02p-00_30-2-Se4c.Se2a.Pb4c.Pb2b', 'runs_2/spg30/Li/Li3P/xxx_02p-00_30-2-Li4c.Li2a.P2a', 'runs_2/spg30/Br/BrRb/xxx_02p-00_30-2-Br2b.Rb2a', 'runs_2/spg30/N/NCr/xxx_02p-00_30-2-N2b.Cr2a', 'runs_2/spg30/P/PLa/xxx_02p-00_30-2-P2b.P2a.La2b.La2a', 'runs_2/spg30/N/N3Nb2/xxx_02p-00_30-2-N4c.N2a.Nb2b.Nb2a', 'runs_2/spg30/Br/Br4Pd/xxx_02p-00_30-2-Br4c.Br2b.Br2a.Pd2b', 'runs_2/spg30/O/OCd/xxx_02p-00_30-2-O2a.Cd2b', 'runs_2/spg30/As/AsRb3/xxx_02p-00_30-2-As2a.Rb4c.Rb2a', 'runs_2/spg30/B/BAs/xxx_02p-00_30-2-B2a.As2a', 'runs_2/spg30/As/As4Mo3/xxx_02p-00_30-2-As4c.As2b.As2a.Mo4c.Mo2b', 'runs_2/spg30/Ti/TiTe2/xxx_02p-00_30-2-Ti2b.Te2b.Te2a', 'runs_2/spg30/Se/Se2Re/xxx_02p-00_30-2-Se4c.Se2b.Se2a.Re2b.Re2a', 'runs_2/spg30/O/OIn2/xxx_02p-00_30-2-O4c.In4c.In2b.In2a', 'runs_2/spg30/S/S2Ce/xxx_02p-00_30-2-S4c.S2b.S2a.Ce2b.Ce2a', 'runs_2/spg30/B/BCl3/xxx_02p-00_30-2-B2b.Cl4c.Cl2b', 'runs_2/spg30/N/NAl/xxx_02p-00_30-2-N2a.Al2a', 'runs_2/spg30/P/PFe/xxx_02p-00_30-2-P4c.P2a.Fe4c.Fe2a', 'runs_2/spg30/Sm/SmTl3/xxx_02p-00_30-2-Sm2b.Tl4c.Tl2b', 'runs_2/spg30/N/NFe/xxx_02p-00_30-2-N2a.Fe2a', 'runs_2/spg30/Se/Se2Ce/xxx_02p-00_30-2-Se2b.Se2a.Ce2a', 'runs_2/spg30/O/O2Cr/xxx_02p-00_30-2-O4c.O2b.O2a.Cr2b.Cr2a', 'runs_2/spg30/P/PNi/xxx_02p-00_30-2-P2b.P2a.Ni4c', 'runs_2/spg30/Na/NaTl/xxx_02p-00_30-2-Na4c.Na2b.Tl4c.Tl2a', 'runs_2/spg30/Ag/AgTe/xxx_02p-00_30-2-Ag2b.Ag2a.Te4c', 'runs_2/spg30/P/PV/xxx_02p-00_30-2-P2a.V2a', 'runs_2/spg30/Fe/FeTe/xxx_02p-00_30-2-Fe4c.Fe2b.Te4c.Te2b', 'runs_2/spg30/F/F2Zn/xxx_02p-00_30-2-F4c.F2b.F2a.Zn2b.Zn2a', 'runs_2/spg30/Se/Se2Zr/xxx_02p-00_30-2-Se2b.Se2a.Zr2b', 'runs_2/spg30/Be/BeI2/xxx_02p-00_30-2-Be2b.I2b.I2a', 'runs_2/spg30/F/F3Cr/xxx_02p-00_30-2-F4c.F2a.Cr2b']\n"
     ]
    },
    {
     "name": "stderr",
     "output_type": "stream",
     "text": [
      " 22%|██████████████████████████████████████████████████████▎                                                                                                                                                                                                   | 20/92 [02:54<17:43, 14.77s/it]"
     ]
    },
    {
     "name": "stdout",
     "output_type": "stream",
     "text": [
      "Length batch: 1647\n",
      "['runs_2/spg31/F/FTl/xxx_02a-00_31-2-F2b.Tl2a', 'runs_2/spg31/Cl/Cl4Re/xxx_02a-00_31-2-Cl4c.Cl2b.Cl2a.Re2b', 'runs_2/spg31/Br/Br2Sn/xxx_02a-00_31-2-Br4c.Br2b.Br2a.Sn4c', 'runs_2/spg31/Pd/PdI3/xxx_02a-00_31-2-Pd2a.I4c.I2b', 'runs_2/spg31/Ti/TiBr4/xxx_02a-00_31-2-Ti2b.Br4c.Br2b.Br2a', 'runs_2/spg31/Se/Se2Zr/xxx_02a-00_31-2-Se4c.Se2b.Se2a.Zr2b.Zr2a', 'runs_2/spg31/Mn/Mn2Se3/xxx_02a-00_31-2-Mn4c.Se4c.Se2b', 'runs_2/spg31/Br/BrIn/xxx_02a-00_31-2-Br2a.In2a', 'runs_2/spg31/P/PCr/xxx_02a-00_31-2-P4c.Cr4c', 'runs_2/spg31/N/NIn2/xxx_02a-00_31-2-N2a.In2b.In2a', 'runs_2/spg31/Cu/CuSe/xxx_02a-00_31-2-Cu2a.Se2b', 'runs_2/spg31/Br/BrAu/xxx_02a-00_31-2-Br2b.Au2b', 'runs_2/spg31/F/FAu/xxx_02a-00_31-2-F2b.Au2b', 'runs_2/spg31/Se/Se2Ta/xxx_02a-00_31-2-Se4c.Se2b.Se2a.Ta2b.Ta2a', 'runs_2/spg31/Br/BrAu/xxx_02a-00_31-2-Br2b.Br2a.Au4c', 'runs_2/spg31/Na/NaTl/xxx_02a-00_31-2-Na4c.Tl4c', 'runs_2/spg31/K/K2Se/xxx_02a-00_31-2-K2b.K2a.Se2a', 'runs_2/spg31/Cl/Cl2Fe/xxx_02a-00_31-2-Cl2b.Cl2a.Fe2a', 'runs_2/spg31/P/PAg/xxx_02a-00_31-2-P4c.Ag4c', 'runs_2/spg31/Ag/AgI/xxx_02a-00_31-2-Ag2a.I2a', 'runs_2/spg31/As/AsAg/xxx_02a-00_31-2-As4c.Ag4c', 'runs_2/spg31/P/P4Nb3/xxx_02a-00_31-2-P4c.P2b.P2a.Nb4c.Nb2b', 'runs_2/spg31/Ga/GaBr3/xxx_02a-00_31-2-Ga2b.Br4c.Br2b', 'runs_2/spg31/Rb/RbTl/xxx_02a-00_31-2-Rb2b.Rb2a.Tl4c', 'runs_2/spg31/N/NHo/xxx_02a-00_31-2-N4c.N2b.N2a.Ho4c.Ho2b.Ho2a', 'runs_2/spg31/O/O3Au2/xxx_02a-00_31-2-O4c.O2b.Au2b.Au2a', 'runs_2/spg31/Cl/Cl2Ba/xxx_02a-00_31-2-Cl4c.Ba2a', 'runs_2/spg31/P/P2Hg3/xxx_02a-00_31-2-P2b.P2a.Hg4c.Hg2a', 'runs_2/spg31/P/PAg3/xxx_02a-00_31-2-P2a.Ag4c.Ag2b', 'runs_2/spg31/Be/BeBr2/xxx_02a-00_31-2-Be2a.Br2b.Br2a', 'runs_2/spg31/Li/Li2Te/xxx_02a-00_31-2-Li2b.Li2a.Te2b', 'runs_2/spg31/F/F2Sn/xxx_02a-00_31-2-F4c.F2b.F2a.Sn4c', 'runs_2/spg31/Cl/Cl4Hf/xxx_02a-00_31-2-Cl4c.Cl2b.Cl2a.Hf2a', 'runs_2/spg31/S/SCu/xxx_02a-00_31-2-S4c.S2b.Cu4c.Cu2b', 'runs_2/spg31/P/PTi/xxx_02a-00_31-2-P2b.P2a.Ti4c', 'runs_2/spg31/Fe/Fe3As2/xxx_02a-00_31-2-Fe4c.Fe2b.As2b.As2a', 'runs_2/spg31/Se/SePb/xxx_02a-00_31-2-Se4c.Pb4c', 'runs_2/spg31/I/I2Ba/xxx_02a-00_31-2-I4c.Ba2a', 'runs_2/spg31/B/BCl3/xxx_02a-00_31-2-B2a.Cl4c.Cl2a', 'runs_2/spg31/Be/BeI2/xxx_02a-00_31-2-Be2b.I4c', 'runs_2/spg31/S/S3Ag2/xxx_02a-00_31-2-S4c.S2b.Ag4c', 'runs_2/spg31/Cl/Cl2Fe/xxx_02a-00_31-2-Cl2b.Cl2a.Fe2b', 'runs_2/spg31/P/PNd/xxx_02a-00_31-2-P4c.P2a.Nd4c.Nd2b', 'runs_2/spg31/O/OCu/xxx_02a-00_31-2-O2b.O2a.Cu2b.Cu2a', 'runs_2/spg31/Cl/ClIn/xxx_02a-00_31-2-Cl2a.In2b', 'runs_2/spg31/O/OAu2/xxx_02a-00_31-2-O2b.O2a.Au4c.Au2b.Au2a', 'runs_2/spg31/Zn/ZnTl2/xxx_02a-00_31-2-Zn2b.Tl2b.Tl2a', 'runs_2/spg31/Ca/CaBr2/xxx_02a-00_31-2-Ca2b.Br2b.Br2a', 'runs_2/spg31/F/F2Mg/xxx_02a-00_31-2-F4c.Mg2b', 'runs_2/spg31/Cl/Cl3La/xxx_02a-00_31-2-Cl4c.Cl2b.La2a', 'runs_2/spg31/Br/Br3Ho/xxx_02a-00_31-2-Br4c.Br2a.Ho2a', 'runs_2/spg31/F/F4Hf/xxx_02a-00_31-2-F4c.F2b.F2a.Hf2a', 'runs_2/spg31/Cr/CrSe3/xxx_02a-00_31-2-Cr2b.Se4c.Se2b', 'runs_2/spg31/Te/TeTa/xxx_02a-00_31-2-Te4c.Ta2b.Ta2a', 'runs_2/spg31/P/PBi/xxx_02a-00_31-2-P4c.Bi2b.Bi2a', 'runs_2/spg31/F/F4Nb/xxx_02a-00_31-2-F4c.F2b.F2a.Nb2b', 'runs_2/spg31/P/PSb/xxx_02a-00_31-2-P2a.Sb2b', 'runs_2/spg31/P/PMn/xxx_02a-00_31-2-P2a.Mn2b', 'runs_2/spg31/F/FTl/xxx_02a-00_31-2-F2b.Tl2b', 'runs_2/spg31/P/PTl/xxx_02a-00_31-2-P2b.Tl2b', 'runs_2/spg31/Mn/MnTl2/xxx_02a-00_31-2-Mn2b.Tl4c', 'runs_2/spg31/Br/Br4Re/xxx_02a-00_31-2-Br4c.Br2b.Br2a.Re2b', 'runs_2/spg31/Se/Se2Zr/xxx_02a-00_31-2-Se4c.Zr2a', 'runs_2/spg31/Se/Se3Pd2/xxx_02a-00_31-2-Se4c.Se2a.Pd4c', 'runs_2/spg31/Cl/Cl3Tb/xxx_02a-00_31-2-Cl4c.Cl2b.Tb2a', 'runs_2/spg31/Cl/Cl3Y/xxx_02a-00_31-2-Cl4c.Cl2a.Y2a', 'runs_2/spg31/Fe/FeBr2/xxx_02a-00_31-2-Fe2a.Br4c', 'runs_2/spg31/Cl/Cl3Lu/xxx_02a-00_31-2-Cl4c.Cl2b.Lu2a', 'runs_2/spg31/O/OCu/xxx_02a-00_31-2-O4c.O2b.Cu4c.Cu2a', 'runs_2/spg31/Zn/ZnSe/xxx_02a-00_31-2-Zn4c.Se2b.Se2a', 'runs_2/spg31/F/F2Ba/xxx_02a-00_31-2-F2b.F2a.Ba2a', 'runs_2/spg31/F/F2Cd/xxx_02a-00_31-2-F2b.F2a.Cd2a', 'runs_2/spg31/Te/Te3Tl2/xxx_02a-00_31-2-Te4c.Te2b.Tl4c', 'runs_2/spg31/S/S3Sc2/xxx_02a-00_31-2-S4c.S2b.Sc2b.Sc2a', 'runs_2/spg31/P/P2Cr/xxx_02a-00_31-2-P4c.P2b.P2a.Cr2b.Cr2a', 'runs_2/spg31/F/F2Mg/xxx_02a-00_31-2-F4c.F2b.F2a.Mg4c', 'runs_2/spg31/Si/SiTe2/xxx_02a-00_31-2-Si2a.Te4c']\n"
     ]
    },
    {
     "name": "stderr",
     "output_type": "stream",
     "text": [
      " 23%|█████████████████████████████████████████████████████████                                                                                                                                                                                                 | 21/92 [03:00<14:30, 12.26s/it]"
     ]
    },
    {
     "name": "stdout",
     "output_type": "stream",
     "text": [
      "Length batch: 494\n",
      "['runs_2/spg32/Te/Te3Eu2/xxx_02p-00_32-2-Te4b.Te2a.Eu4b', 'runs_2/spg32/N/NEr/xxx_02p-00_32-2-N2a.Er2a', 'runs_2/spg32/Te/TeBa/xxx_02p-00_32-2-Te2a.Ba2a', 'runs_2/spg32/Al/Al2Se3/xxx_02p-00_32-2-Al4b.Se4b.Se2a', 'runs_2/spg32/N/NDy/xxx_02p-00_32-2-N4b.Dy4b', 'runs_2/spg32/N/NGa/xxx_02p-00_32-2-N2a.Ga2a', 'runs_2/spg32/S/SSn/xxx_02p-00_32-2-S4b.S2a.Sn4b.Sn2a', 'runs_2/spg32/O/OCu2/xxx_02p-00_32-2-O2a.Cu4b', 'runs_2/spg32/N/N2Mo/xxx_02p-00_32-2-N4b.Mo2a', 'runs_2/spg32/Cl/Cl2In/xxx_02p-00_32-2-Cl4b.In2a', 'runs_2/spg32/S/SPb/xxx_02p-00_32-2-S4b.Pb4b', 'runs_2/spg32/O/O2Ta/xxx_02p-00_32-2-O4b.Ta2a', 'runs_2/spg32/S/SCu2/xxx_02p-00_32-2-S2a.Cu4b', 'runs_2/spg32/O/O2Nb/xxx_02p-00_32-2-O4b.Nb2a', 'runs_2/spg32/P/PLu/xxx_02p-00_32-2-P4b.Lu4b', 'runs_2/spg32/S/SCa/xxx_02p-00_32-2-S2a.Ca2a', 'runs_2/spg32/O/O3Ir/xxx_02p-00_32-2-O4b.O2a.Ir2a', 'runs_2/spg32/Se/Se2Mo/xxx_02p-00_32-2-Se4b.Mo2a', 'runs_2/spg32/N/NFe/xxx_02p-00_32-2-N4b.N2a.Fe4b.Fe2a', 'runs_2/spg32/Li/LiCl/xxx_02p-00_32-2-Li2a.Cl2a', 'runs_2/spg32/P/PEr/xxx_02p-00_32-2-P4b.Er4b', 'runs_2/spg32/N/NCo/xxx_02p-00_32-2-N4b.Co4b', 'runs_2/spg32/Li/LiBr/xxx_02p-00_32-2-Li2a.Br2a', 'runs_2/spg32/O/OCa/xxx_02p-00_32-2-O4b.O2a.Ca4b.Ca2a', 'runs_2/spg32/O/ONa2/xxx_02p-00_32-2-O2a.Na4b', 'runs_2/spg32/S/S3Lu2/xxx_02p-00_32-2-S4b.S2a.Lu4b']\n"
     ]
    },
    {
     "name": "stderr",
     "output_type": "stream",
     "text": [
      " 24%|███████████████████████████████████████████████████████████▊                                                                                                                                                                                              | 22/92 [03:00<10:09,  8.71s/it]"
     ]
    },
    {
     "name": "stdout",
     "output_type": "stream",
     "text": [
      "Length batch: 86\n",
      "['runs_2/spg33/Na/NaCl/xxx_02p-00_33-2-Na4a.Cl4a', 'runs_2/spg33/O/OFe/xxx_02p-00_33-2-O4a.Fe4a', 'runs_2/spg33/Se/SeSn/xxx_02p-00_33-2-Se4a.Sn4a', 'runs_2/spg33/P/PV/xxx_02p-00_33-2-P4a.V4a', 'runs_2/spg33/Zn/ZnSe/xxx_02p-00_33-2-Zn4a.Se4a', 'runs_2/spg33/N/NMn/xxx_02p-00_33-2-N4a.Mn4a']\n"
     ]
    },
    {
     "name": "stderr",
     "output_type": "stream",
     "text": [
      " 25%|██████████████████████████████████████████████████████████████▌                                                                                                                                                                                           | 23/92 [03:02<07:36,  6.62s/it]"
     ]
    },
    {
     "name": "stdout",
     "output_type": "stream",
     "text": [
      "Length batch: 672\n",
      "['runs_2/spg34/Se/SeAg2/xxx_02p-00_34-2-Se2a.Ag4b', 'runs_2/spg34/Ag/AgI/xxx_02p-00_34-2-Ag4b.I4b', 'runs_2/spg34/S/S3Os/xxx_02p-00_34-2-S4b.S2a.Os2a', 'runs_2/spg34/F/F3In/xxx_02p-00_34-2-F4b.F2a.In2a', 'runs_2/spg34/P/PNb/xxx_02p-00_34-2-P4b.P2a.Nb4b.Nb2a', 'runs_2/spg34/P/PDy/xxx_02p-00_34-2-P2a.Dy2a', 'runs_2/spg34/I/I3Lu/xxx_02p-00_34-2-I4b.I2a.Lu2a', 'runs_2/spg34/Si/SiSe2/xxx_02p-00_34-2-Si2a.Se4b', 'runs_2/spg34/Se/Se3Ru/xxx_02p-00_34-2-Se4b.Se2a.Ru2a', 'runs_2/spg34/Cu/CuTe/xxx_02p-00_34-2-Cu4b.Te4b', 'runs_2/spg34/Ca/CaTe/xxx_02p-00_34-2-Ca4b.Ca2a.Te4b.Te2a', 'runs_2/spg34/S/SCo/xxx_02p-00_34-2-S4b.S2a.Co4b.Co2a', 'runs_2/spg34/N/NCr/xxx_02p-00_34-2-N2a.Cr2a', 'runs_2/spg34/Cu/CuTe/xxx_02p-00_34-2-Cu2a.Te2a', 'runs_2/spg34/Cd/CdTe/xxx_02p-00_34-2-Cd2a.Te2a', 'runs_2/spg34/S/STl2/xxx_02p-00_34-2-S2a.Tl4b', 'runs_2/spg34/In/InTl/xxx_02p-00_34-2-In2a.Tl2a', 'runs_2/spg34/S/SPd/xxx_02p-00_34-2-S2a.Pd2a', 'runs_2/spg34/Cl/Cl3Sc/xxx_02p-00_34-2-Cl4b.Cl2a.Sc2a', 'runs_2/spg34/Se/Se2Nb/xxx_02p-00_34-2-Se4b.Nb2a', 'runs_2/spg34/Co/CoAs/xxx_02p-00_34-2-Co2a.As2a', 'runs_2/spg34/Ni/NiBr2/xxx_02p-00_34-2-Ni2a.Br4b', 'runs_2/spg34/Se/SeSr/xxx_02p-00_34-2-Se4b.Sr4b', 'runs_2/spg34/Br/Br2Pd/xxx_02p-00_34-2-Br4b.Pd2a', 'runs_2/spg34/Se/SePb/xxx_02p-00_34-2-Se2a.Pb2a', 'runs_2/spg34/B/BAs/xxx_02p-00_34-2-B2a.As2a', 'runs_2/spg34/Cl/ClIn/xxx_02p-00_34-2-Cl2a.In2a', 'runs_2/spg34/P/PTm/xxx_02p-00_34-2-P4b.Tm4b', 'runs_2/spg34/O/O2V/xxx_02p-00_34-2-O4b.V2a', 'runs_2/spg34/Na/NaI/xxx_02p-00_34-2-Na2a.I2a', 'runs_2/spg34/Cl/ClTl/xxx_02p-00_34-2-Cl2a.Tl2a', 'runs_2/spg34/In/InTe/xxx_02p-00_34-2-In4b.Te4b', 'runs_2/spg34/S/SV/xxx_02p-00_34-2-S2a.V2a', 'runs_2/spg34/O/OTa/xxx_02p-00_34-2-O2a.Ta2a', 'runs_2/spg34/Br/Br2In/xxx_02p-00_34-2-Br4b.In2a', 'runs_2/spg34/In/InI/xxx_02p-00_34-2-In2a.I2a']\n"
     ]
    },
    {
     "name": "stderr",
     "output_type": "stream",
     "text": [
      " 26%|█████████████████████████████████████████████████████████████████▏                                                                                                                                                                                        | 24/92 [03:03<05:29,  4.85s/it]"
     ]
    },
    {
     "name": "stdout",
     "output_type": "stream",
     "text": [
      "Length batch: 102\n",
      "['runs_2/spg35/N/NAg3/xxx_02p-00_35-2-N2a.Ag4c.Ag2a', 'runs_2/spg35/F/F5Ru/xxx_02p-00_35-2-F4c.F4b.F2a.Ru2a', 'runs_2/spg35/Mo/MoI5/xxx_02p-00_35-2-Mo2a.I4c.I4b.I2a', 'runs_2/spg35/S/S3In2/xxx_02p-00_35-2-S8d.S4c.In8d', 'runs_2/spg35/Te/TeBa/xxx_02p-00_35-2-Te4c.Te2a.Ba4c.Ba2a', 'runs_2/spg35/O/O5Mo2/xxx_02p-00_35-2-O8d.O2a.Mo4b', 'runs_2/spg35/Br/Br2Cd/xxx_02p-00_35-2-Br8d.Cd4c', 'runs_2/spg35/Se/Se3Lu2/xxx_02p-00_35-2-Se4c.Se2a.Lu4c', 'runs_2/spg35/Fe/FeTe2/xxx_02p-00_35-2-Fe2a.Te4b', 'runs_2/spg35/Se/SeNb/xxx_02p-00_35-2-Se4c.Se2a.Nb4c.Nb2a']\n"
     ]
    },
    {
     "name": "stderr",
     "output_type": "stream",
     "text": [
      " 27%|███████████████████████████████████████████████████████████████████▉                                                                                                                                                                                      | 25/92 [03:40<16:06, 14.42s/it]"
     ]
    },
    {
     "name": "stdout",
     "output_type": "stream",
     "text": [
      "Length batch: 1814\n",
      "['runs_2/spg36/Be/BeSe/xxx_02p-00_36-2-Be8c.Be4b.Se8c.Se4a', 'runs_2/spg36/F/F2Ba/xxx_02p-00_36-2-F8c.Ba4a', 'runs_2/spg36/F/FNa/xxx_02p-00_36-2-F4a.Na4b', 'runs_2/spg36/Te/Te2W/xxx_02p-00_36-2-Te8c.W4a', 'runs_2/spg36/O/O3Ru/xxx_02p-00_36-2-O8c.O4a.Ru4b', 'runs_2/spg36/S/SCs2/xxx_02p-00_36-2-S4a.Cs4b.Cs4a', 'runs_2/spg36/Cu/CuI/xxx_02p-00_36-2-Cu8c.I8c', 'runs_2/spg36/Se/Se3Bi2/xxx_02a-00_36-2-Se8c.Se4a.Bi4b.Bi4a', 'runs_2/spg36/Na/Na2Se/xxx_02a-00_36-2-Na4b.Na4a.Se4b', 'runs_2/spg36/V/VSe/xxx_02a-00_36-2-V4b.Se4b', 'runs_2/spg36/Br/BrIn/xxx_02a-00_36-2-Br8c.Br4a.In8c.In4b', 'runs_2/spg36/As/AsSb/xxx_02a-00_36-2-As8c.Sb4b.Sb4a', 'runs_2/spg36/Na/NaTl/xxx_02p-00_36-2-Na4a.Tl4a', 'runs_2/spg36/Cr/CrI2/xxx_02a-00_36-2-Cr8c.I8c.I4b.I4a', 'runs_2/spg36/F/F2Hg/xxx_02p-00_36-2-F8c.Hg4a', 'runs_2/spg36/As/AsAg/xxx_02p-00_36-2-As4b.As4a.Ag4b.Ag4a', 'runs_2/spg36/Te/Te3Dy2/xxx_02a-00_36-2-Te8c.Te4b.Dy4b.Dy4a', 'runs_2/spg36/Cl/Cl3Sc/xxx_02p-00_36-2-Cl8c.Cl4b.Sc4a', 'runs_2/spg36/Cl/Cl4In3/xxx_02a-00_36-2-Cl8c.Cl4b.Cl4a.In8c.In4a', 'runs_2/spg36/I/I3Dy/xxx_02a-00_36-2-I8c.I4a.Dy4a', 'runs_2/spg36/Se/SeSn/xxx_02a-00_36-2-Se4b.Sn4a', 'runs_2/spg36/F/F3Cu2/xxx_02p-00_36-2-F8c.F4b.Cu4b.Cu4a', 'runs_2/spg36/F/F2Hg/xxx_02a-00_36-2-F4b.F4a.Hg4a', 'runs_2/spg36/Cd/CdI2/xxx_02p-00_36-2-Cd4a.I8c', 'runs_2/spg36/Mn/MnSe/xxx_02a-00_36-2-Mn4b.Se4b', 'runs_2/spg36/N/NDy/xxx_02a-00_36-2-N4b.Dy4b', 'runs_2/spg36/Be/BeS/xxx_02p-00_36-2-Be4a.S4b', 'runs_2/spg36/K/KTl/xxx_02a-00_36-2-K4b.Tl4a', 'runs_2/spg36/Mn/MnAs/xxx_02p-00_36-2-Mn4a.As4a', 'runs_2/spg36/O/OTl2/xxx_02a-00_36-2-O4a.Tl8c', 'runs_2/spg36/I/IAu/xxx_02a-00_36-2-I4b.I4a.Au4b.Au4a', 'runs_2/spg36/F/F2Mg/xxx_02p-00_36-2-F8c.F4b.F4a.Mg4b.Mg4a', 'runs_2/spg36/Mn/Mn3As2/xxx_02a-00_36-2-Mn8c.Mn4b.As8c', 'runs_2/spg36/Te/Te2Hf/xxx_02p-00_36-2-Te4b.Te4a.Hf4a', 'runs_2/spg36/Fe/FeBr2/xxx_02p-00_36-2-Fe4a.Br8c', 'runs_2/spg36/S/S2W/xxx_02p-00_36-2-S8c.W4a', 'runs_2/spg36/I/I3Sm/xxx_02a-00_36-2-I8c.I4a.Sm4a', 'runs_2/spg36/As/AsHo/xxx_02p-00_36-2-As4a.Ho4a', 'runs_2/spg36/B/BAs/xxx_02a-00_36-2-B8c.As8c', 'runs_2/spg36/S/S2Ir/xxx_02a-00_36-2-S4b.S4a.Ir4b', 'runs_2/spg36/S/S2Mn/xxx_02a-00_36-2-S8c.Mn4a', 'runs_2/spg36/Te/Te2W/xxx_02a-00_36-2-Te4b.Te4a.W4b', 'runs_2/spg36/N/NLa/xxx_02a-00_36-2-N8c.La8c', 'runs_2/spg36/Se/Se3Os/xxx_02a-00_36-2-Se8c.Se4b.Os4a', 'runs_2/spg36/S/SIn2/xxx_02p-00_36-2-S4b.In4b.In4a', 'runs_2/spg36/F/F2Ba/xxx_02p-00_36-2-F8c.Ba4b', 'runs_2/spg36/N/N2In3/xxx_02a-00_36-2-N4b.N4a.In8c.In4b', 'runs_2/spg36/Te/Te3W/xxx_02a-00_36-2-Te8c.Te4a.W4a', 'runs_2/spg36/Mn/MnTe/xxx_02p-00_36-2-Mn4b.Mn4a.Te4b.Te4a', 'runs_2/spg36/Be/BeCl2/xxx_02p-00_36-2-Be4b.Cl8c', 'runs_2/spg36/Cl/Cl2Nb/xxx_02p-00_36-2-Cl4b.Cl4a.Nb4a', 'runs_2/spg36/P/PFe/xxx_02p-00_36-2-P4a.Fe4a', 'runs_2/spg36/Te/TeTl2/xxx_02a-00_36-2-Te4a.Tl8c', 'runs_2/spg36/Mg/MgTe/xxx_02p-00_36-2-Mg4a.Te4b', 'runs_2/spg36/Cl/Cl3Yb/xxx_02p-00_36-2-Cl8c.Cl4b.Yb4b', 'runs_2/spg36/As/AsAg/xxx_02p-00_36-2-As4a.Ag4a', 'runs_2/spg36/S/SZn/xxx_02p-00_36-2-S8c.Zn4b.Zn4a', 'runs_2/spg36/N/NRh/xxx_02a-00_36-2-N4b.N4a.Rh8c', 'runs_2/spg36/Zn/ZnTe/xxx_02a-00_36-2-Zn4b.Te4a', 'runs_2/spg36/O/OAg2/xxx_02a-00_36-2-O4b.O4a.Ag8c.Ag4b.Ag4a', 'runs_2/spg36/S/S4V3/xxx_02a-00_36-2-S8c.S4b.S4a.V8c.V4a', 'runs_2/spg36/Fe/FeTe/xxx_02p-00_36-2-Fe4b.Te4a', 'runs_2/spg36/Se/Se2Pd/xxx_02a-00_36-2-Se4b.Se4a.Pd4a', 'runs_2/spg36/O/OAg2/xxx_02a-00_36-2-O4b.Ag4b.Ag4a', 'runs_2/spg36/P/PTm/xxx_02p-00_36-2-P4a.Tm4a', 'runs_2/spg36/Cl/Cl2Zn/xxx_02a-00_36-2-Cl4b.Cl4a.Zn4a', 'runs_2/spg36/F/F2Mg/xxx_02p-00_36-2-F4b.F4a.Mg4a', 'runs_2/spg36/P/PCr/xxx_02a-00_36-2-P8c.Cr4b.Cr4a', 'runs_2/spg36/Cl/Cl3Nd/xxx_02a-00_36-2-Cl8c.Cl4b.Nd4b', 'runs_2/spg36/Si/SiS2/xxx_02a-00_36-2-Si4b.S4b.S4a', 'runs_2/spg36/F/F3Sm/xxx_02p-00_36-2-F8c.F4b.Sm4a', 'runs_2/spg36/Se/Se3Mo/xxx_02a-00_36-2-Se8c.Se4a.Mo4b', 'runs_2/spg36/Br/BrCs/xxx_02p-00_36-2-Br4a.Cs4a', 'runs_2/spg36/O/OTl2/xxx_02a-00_36-2-O4b.Tl4b.Tl4a', 'runs_2/spg36/I/I3Gd/xxx_02a-00_36-2-I8c.I4a.Gd4a', 'runs_2/spg36/Se/Se3Yb2/xxx_02a-00_36-2-Se8c.Se4a.Yb8c', 'runs_2/spg36/Se/Se3Ru2/xxx_02a-00_36-2-Se8c.Se4a.Ru8c', 'runs_2/spg36/Br/Br3Gd/xxx_02a-00_36-2-Br8c.Br4a.Gd4b', 'runs_2/spg36/Cr/CrAs2/xxx_02a-00_36-2-Cr4b.As8c', 'runs_2/spg36/Cl/Cl2Mn/xxx_02a-00_36-2-Cl8c.Mn4b', 'runs_2/spg36/As/AsSb/xxx_02a-00_36-2-As8c.As4a.Sb8c.Sb4b', 'runs_2/spg36/V/VTe2/xxx_02a-00_36-2-V4a.Te8c', 'runs_2/spg36/Ti/TiAs/xxx_02a-00_36-2-Ti4b.Ti4a.As4b.As4a', 'runs_2/spg36/Se/Se2Nb/xxx_02a-00_36-2-Se8c.Nb4a', 'runs_2/spg36/Cl/Cl2In/xxx_02a-00_36-2-Cl8c.In4b', 'runs_2/spg36/S/S2Ti/xxx_02a-00_36-2-S4b.S4a.Ti4a']\n"
     ]
    },
    {
     "name": "stderr",
     "output_type": "stream",
     "text": [
      " 28%|██████████████████████████████████████████████████████████████████████▋                                                                                                                                                                                   | 26/92 [05:16<42:46, 38.89s/it]"
     ]
    },
    {
     "name": "stdout",
     "output_type": "stream",
     "text": [
      "Length batch: 3851\n",
      "['runs_2/spg43/P/P2Cu3/xxx_02a-00_43-2-P4c.P4b.Cu8d.Cu4c', 'runs_2/spg43/Li/LiI/xxx_02a-00_43-2-Li8d.Li4c.I4c.I4b.I4a', 'runs_2/spg43/Cl/Cl3Ni/xxx_02a-00_43-2-Cl8d.Cl4c.Ni4b', 'runs_2/spg43/Al/AlP/xxx_02a-00_43-2-Al4b.P4c', 'runs_2/spg43/F/FCu/xxx_02a-00_43-2-F4c.F4b.F4a.Cu8d.Cu4c', 'runs_2/spg43/O/OCd/xxx_02a-00_43-2-O4c.O4b.Cd4c.Cd4b', 'runs_2/spg43/F/F2Zn/xxx_02a-00_43-2-F4c.F4b.Zn4a', 'runs_2/spg43/Cl/Cl2Sn/xxx_02a-00_43-2-Cl8d.Sn4c', 'runs_2/spg43/Cl/ClK/xxx_02a-00_43-2-Cl4c.Cl4b.Cl4a.K8d.K4c', 'runs_2/spg43/F/F2Sn/xxx_02a-00_43-2-F4c.F4b.Sn4a', 'runs_2/spg43/Nb/Nb2Te3/xxx_02a-00_43-2-Nb4c.Nb4b.Te8d.Te4a', 'runs_2/spg43/N/NSm/xxx_02a-00_43-2-N4c.N4b.N4a.Sm8d.Sm4c', 'runs_2/spg43/P/PNb/xxx_02a-00_43-2-P8d.P4c.P4a.Nb8d.Nb4c.Nb4b', 'runs_2/spg43/Br/BrAu/xxx_02a-00_43-2-Br8d.Br4c.Br4a.Au8d.Au4c.Au4b', 'runs_2/spg43/N/N2Re/xxx_02a-00_43-2-N4b.N4a.Re4c', 'runs_2/spg43/Na/Na2Se/xxx_02a-00_43-2-Na4c.Na4b.Se4c', 'runs_2/spg43/K/K2Se/xxx_02a-00_43-2-K8d.Se4b', 'runs_2/spg43/Ni/NiSe/xxx_02a-00_43-2-Ni8d.Se4b.Se4a', 'runs_2/spg43/Sm/SmTl3/xxx_02a-00_43-2-Sm4c.Tl8d.Tl4c', 'runs_2/spg43/Ti/TiTe2/xxx_02a-00_43-2-Ti4c.Ti4b.Te8d.Te4c.Te4a', 'runs_2/spg43/F/F3La/xxx_02a-00_43-2-F8d.F4a.La4b', 'runs_2/spg43/P/PMn/xxx_02a-00_43-2-P4b.P4a.Mn8d', 'runs_2/spg43/F/F3Co/xxx_02a-00_43-2-F4c.F4b.F4a.Co4b', 'runs_2/spg43/F/F3Er/xxx_02a-00_43-2-F4c.F4b.F4a.Er4c', 'runs_2/spg43/As/As2Pb3/xxx_02a-00_43-2-As4c.As4a.Pb8d.Pb4b', 'runs_2/spg43/N/N4Cr3/xxx_02a-00_43-2-N8d.N4c.N4b.Cr8d.Cr4b', 'runs_2/spg43/Be/BeBr2/xxx_02a-00_43-2-Be8d.Br8d.Br4b.Br4a', 'runs_2/spg43/Fe/FeBr3/xxx_02a-00_43-2-Fe4c.Br8d.Br4a', 'runs_2/spg43/Be/BeF2/xxx_02a-00_43-2-Be4c.F4b.F4a', 'runs_2/spg43/P/P2Ni3/xxx_02a-00_43-2-P8d.Ni8d.Ni4b', 'runs_2/spg43/Cl/Cl3Er/xxx_02a-00_43-2-Cl8d.Cl4b.Er4a', 'runs_2/spg43/As/AsAg/xxx_02a-00_43-2-As4c.As4b.Ag4c.Ag4b', 'runs_2/spg43/In/InTe/xxx_02a-00_43-2-In4b.Te4a', 'runs_2/spg43/Co/CoTe/xxx_02p-00_43-2-Co4c.Te4a', 'runs_2/spg43/V/VSe/xxx_02a-00_43-2-V8d.Se8d', 'runs_2/spg43/Se/Se3Nb2/xxx_02a-00_43-2-Se8d.Se4c.Nb4c.Nb4b', 'runs_2/spg43/P/PGa/xxx_02a-00_43-2-P4b.Ga4a', 'runs_2/spg43/Se/SeHg/xxx_02a-00_43-2-Se8d.Hg8d', 'runs_2/spg43/V/V3As2/xxx_02a-00_43-2-V8d.V4c.As4c.As4b', 'runs_2/spg43/S/S2Cu3/xxx_02a-00_43-2-S4b.S4a.Cu8d.Cu4b', 'runs_2/spg43/Nb/NbI4/xxx_02a-00_43-2-Nb4b.I8d.I4c.I4a', 'runs_2/spg43/Cd/CdI2/xxx_02a-00_43-2-Cd4c.I4c.I4b', 'runs_2/spg43/P/PSm/xxx_02a-00_43-2-P4b.Sm4a', 'runs_2/spg43/F/FAg/xxx_02a-00_43-2-F4c.F4a.Ag4c.Ag4b', 'runs_2/spg43/Na/Na2S/xxx_02a-00_43-2-Na8d.Na4b.Na4a.S4c.S4b', 'runs_2/spg43/Sc/ScBr3/xxx_02a-00_43-2-Sc4b.Br8d.Br4a', 'runs_2/spg43/Se/Se2Mo/xxx_02a-00_43-2-Se8d.Mo4a', 'runs_2/spg43/Cu/CuBr/xxx_02a-00_43-2-Cu4a.Br4c', 'runs_2/spg43/F/FRb/xxx_02a-00_43-2-F4a.Rb4b', 'runs_2/spg43/Mg/MgI2/xxx_02a-00_43-2-Mg4a.I4c.I4b', 'runs_2/spg43/Cl/Cl2In/xxx_02a-00_43-2-Cl4c.Cl4a.In4c', 'runs_2/spg43/S/S3Ni2/xxx_02a-00_43-2-S8d.S4c.Ni4c.Ni4a', 'runs_2/spg43/I/I3Tm/xxx_02a-00_43-2-I8d.I4c.Tm4c', 'runs_2/spg43/F/FAg/xxx_02a-00_43-2-F8d.F4a.Ag8d.Ag4c', 'runs_2/spg43/V/VTl3/xxx_02a-00_43-2-V4c.Tl8d.Tl4a', 'runs_2/spg43/Ti/TiBr3/xxx_02a-00_43-2-Ti4b.Br4c.Br4b.Br4a', 'runs_2/spg43/O/O3Sb2/xxx_02a-00_43-2-O4c.O4b.O4a.Sb4c.Sb4b', 'runs_2/spg43/P/PEu/xxx_02a-00_43-2-P4b.P4a.Eu8d', 'runs_2/spg43/As/AsNd/xxx_02a-00_43-2-As4c.As4b.Nd8d', 'runs_2/spg43/I/I2Pt/xxx_02a-00_43-2-I8d.Pt4a', 'runs_2/spg43/F/F2Nb/xxx_02a-00_43-2-F8d.Nb4c', 'runs_2/spg43/Be/BeCl2/xxx_02a-00_43-2-Be4a.Cl4c.Cl4b', 'runs_2/spg43/Zn/ZnSe/xxx_02a-00_43-2-Zn4c.Zn4a.Se4c.Se4b', 'runs_2/spg43/Fe/FeSe/xxx_02a-00_43-2-Fe4c.Fe4b.Fe4a.Se8d.Se4c', 'runs_2/spg43/N/NIr/xxx_02a-00_43-2-N8d.N4c.N4a.Ir8d.Ir4c.Ir4b', 'runs_2/spg43/Na/NaBr/xxx_02a-00_43-2-Na4c.Na4b.Br8d', 'runs_2/spg43/Br/Br3In/xxx_02a-00_43-2-Br8d.Br4b.In4c', 'runs_2/spg43/Cl/ClIn/xxx_02a-00_43-2-Cl4b.In4c', 'runs_2/spg43/P/PNi/xxx_02a-00_43-2-P4a.Ni4c', 'runs_2/spg43/I/I3Sm/xxx_02a-00_43-2-I8d.I4b.Sm4b', 'runs_2/spg43/O/OK2/xxx_02a-00_43-2-O4c.O4b.K8d.K4c.K4a', 'runs_2/spg43/S/S2Ge/xxx_02a-00_43-2-S8d.S4c.S4b.Ge8d', 'runs_2/spg43/Mn/MnBr3/xxx_02a-00_43-2-Mn4c.Br8d.Br4c', 'runs_2/spg43/Mg/MgTe/xxx_02a-00_43-2-Mg4c.Mg4b.Mg4a.Te8d.Te4c', 'runs_2/spg43/Se/Se2Hf/xxx_02a-00_43-2-Se8d.Hf4c', 'runs_2/spg43/Cl/Cl3Sc/xxx_02a-00_43-2-Cl4c.Cl4b.Cl4a.Sc4b', 'runs_2/spg43/Sr/SrTe/xxx_02a-00_43-2-Sr4c.Sr4a.Te8d', 'runs_2/spg43/As/AsTl/xxx_02a-00_43-2-As4c.Tl4a', 'runs_2/spg43/V/VBr2/xxx_02a-00_43-2-V4c.Br4c.Br4b', 'runs_2/spg43/N/NHo/xxx_02a-00_43-2-N8d.N4c.Ho8d.Ho4b', 'runs_2/spg43/Cl/ClTl/xxx_02a-00_43-2-Cl8d.Cl4a.Tl8d.Tl4b', 'runs_2/spg43/Br/Br3Ir/xxx_02a-00_43-2-Br8d.Br4a.Ir4c', 'runs_2/spg43/Pd/PdI4/xxx_02a-00_43-2-Pd4c.I8d.I4b.I4a', 'runs_2/spg43/F/F2Cd/xxx_02a-00_43-2-F4b.F4a.Cd4c', 'runs_2/spg43/P/P4Fe3/xxx_02a-00_43-2-P8d.P4c.P4a.Fe8d.Fe4b', 'runs_2/spg43/Se/SeHg/xxx_02a-00_43-2-Se4b.Hg4a', 'runs_2/spg43/Zn/ZnTe/xxx_02a-00_43-2-Zn8d.Te4c.Te4a', 'runs_2/spg43/Cr/CrSe3/xxx_02a-00_43-2-Cr4c.Se8d.Se4a', 'runs_2/spg43/S/S3Ga2/xxx_02a-00_43-2-S8d.S4b.Ga8d', 'runs_2/spg43/F/F2Cd/xxx_02a-00_43-2-F8d.F4c.F4b.Cd4c.Cd4a', 'runs_2/spg43/Te/TeHg/xxx_02a-00_43-2-Te8d.Te4c.Hg8d.Hg4c', 'runs_2/spg43/P/PCu2/xxx_02a-00_43-2-P4b.Cu4c.Cu4b', 'runs_2/spg43/Be/Be3P2/xxx_02a-00_43-2-Be8d.Be4c.P4c.P4a', 'runs_2/spg43/Mg/MgCl2/xxx_02a-00_43-2-Mg4c.Cl4c.Cl4b', 'runs_2/spg43/S/S2Pd/xxx_02a-00_43-2-S4c.S4b.Pd4a', 'runs_2/spg43/P/P2W/xxx_02a-00_43-2-P8d.P4c.P4b.W4c.W4a', 'runs_2/spg43/Cl/Cl2Zn/xxx_02a-00_43-2-Cl8d.Cl4c.Cl4b.Zn4c.Zn4a', 'runs_2/spg43/P/PAg/xxx_02a-00_43-2-P4b.Ag4b', 'runs_2/spg43/F/F4In3/xxx_02a-00_43-2-F8d.F4c.F4a.In8d.In4c', 'runs_2/spg43/Cr/Cr2Te3/xxx_02a-00_43-2-Cr8d.Te8d.Te4c', 'runs_2/spg43/S/SZn/xxx_02a-00_43-2-S4c.Zn4a', 'runs_2/spg43/Cl/Cl4Zr/xxx_02a-00_43-2-Cl8d.Cl4b.Cl4a.Zr4c', 'runs_2/spg43/Nb/NbTe/xxx_02a-00_43-2-Nb4c.Te4b', 'runs_2/spg43/Se/SeCs2/xxx_02a-00_43-2-Se4b.Cs8d', 'runs_2/spg43/As/AsBi/xxx_02a-00_43-2-As4c.As4a.Bi4c.Bi4b', 'runs_2/spg43/Na/NaCl/xxx_02a-00_43-2-Na4c.Na4a.Cl4c.Cl4b', 'runs_2/spg43/Mn/Mn2Se3/xxx_02a-00_43-2-Mn8d.Se4c.Se4b.Se4a', 'runs_2/spg43/F/FIn/xxx_02a-00_43-2-F4a.In4c', 'runs_2/spg43/Br/Br2Ta/xxx_02a-00_43-2-Br4c.Br4b.Ta4a', 'runs_2/spg43/Ni/NiSe/xxx_02a-00_43-2-Ni8d.Ni4b.Se8d.Se4a', 'runs_2/spg43/I/ITl/xxx_02a-00_43-2-I4c.I4b.Tl4b.Tl4a', 'runs_2/spg43/N/NTa/xxx_02a-00_43-2-N4c.N4b.Ta4c.Ta4a', 'runs_2/spg43/As/AsBi/xxx_02a-00_43-2-As4b.Bi4c', 'runs_2/spg43/F/F4Ru/xxx_02a-00_43-2-F8d.F4c.F4b.Ru4a', 'runs_2/spg43/As/As2In3/xxx_02a-00_43-2-As4c.As4a.In8d.In4c', 'runs_2/spg43/B/BP/xxx_02a-00_43-2-B8d.P4c.P4a', 'runs_2/spg43/Cu/CuSe/xxx_02a-00_43-2-Cu8d.Cu4c.Se8d.Se4a', 'runs_2/spg43/Cl/ClTl/xxx_02a-00_43-2-Cl4c.Cl4b.Tl8d', 'runs_2/spg43/V/VI2/xxx_02a-00_43-2-V8d.I8d.I4c.I4a', 'runs_2/spg43/Se/Se2W/xxx_02a-00_43-2-Se8d.W4a', 'runs_2/spg43/Cr/Cr3As2/xxx_02a-00_43-2-Cr4c.Cr4b.Cr4a.As8d', 'runs_2/spg43/O/O3Ag4/xxx_02a-00_43-2-O8d.O4c.Ag8d.Ag4c.Ag4a', 'runs_2/spg43/F/F5Ru/xxx_02a-00_43-2-F8d.F4c.F4b.F4a.Ru4c', 'runs_2/spg43/Br/Br2In/xxx_02a-00_43-2-Br4c.Br4a.In4b', 'runs_2/spg43/As/As2Re/xxx_02a-00_43-2-As8d.Re4a', 'runs_2/spg43/Cl/Cl3Gd/xxx_02a-00_43-2-Cl8d.Cl4c.Gd4c', 'runs_2/spg43/Cl/Cl3Fe/xxx_02a-00_43-2-Cl8d.Cl4b.Fe4a', 'runs_2/spg43/F/FAg/xxx_02a-00_43-2-F4b.Ag4a', 'runs_2/spg43/N/NIn3/xxx_02a-00_43-2-N4c.In4c.In4b.In4a', 'runs_2/spg43/S/SCu2/xxx_02a-00_43-2-S4c.Cu8d', 'runs_2/spg43/Cr/CrBr2/xxx_02a-00_43-2-Cr4c.Cr4a.Br8d.Br4c.Br4b', 'runs_2/spg43/Be/BeSe/xxx_02a-00_43-2-Be4c.Be4b.Be4a.Se8d.Se4b', 'runs_2/spg43/Pd/PdI2/xxx_02a-00_43-2-Pd4c.I4c.I4b', 'runs_2/spg43/Te/Te3Tb2/xxx_02a-00_43-2-Te8d.Te4a.Tb8d', 'runs_2/spg43/Al/AlAs/xxx_02a-00_43-2-Al8d.Al4a.As8d.As4c', 'runs_2/spg43/Cr/CrTe3/xxx_02a-00_43-2-Cr4b.Te4c.Te4b.Te4a', 'runs_2/spg43/As/AsNd/xxx_02a-00_43-2-As8d.Nd8d', 'runs_2/spg43/Cu/CuBr2/xxx_02a-00_43-2-Cu4c.Cu4b.Br8d.Br4b.Br4a', 'runs_2/spg43/Cl/ClAu/xxx_02a-00_43-2-Cl4a.Au4b', 'runs_2/spg43/F/FK/xxx_02a-00_43-2-F4c.F4a.K8d', 'runs_2/spg43/Se/SeSn/xxx_02a-00_43-2-Se4c.Se4b.Sn4c.Sn4b', 'runs_2/spg43/Se/SePd/xxx_02a-00_43-2-Se4a.Pd4b', 'runs_2/spg43/I/I2Hg/xxx_02a-00_43-2-I4c.I4a.Hg4b', 'runs_2/spg43/In/In2Tl3/xxx_02a-00_43-2-In4b.In4a.Tl8d.Tl4c', 'runs_2/spg43/Se/SePb/xxx_02a-00_43-2-Se4b.Pb4a', 'runs_2/spg43/Cd/CdTl2/xxx_02a-00_43-2-Cd4a.Tl4c.Tl4b', 'runs_2/spg43/N/NTl3/xxx_02a-00_43-2-N4c.Tl4c.Tl4b.Tl4a', 'runs_2/spg43/Be/Be3As2/xxx_02a-00_43-2-Be8d.Be4b.As4c.As4a', 'runs_2/spg43/Cl/Cl3Ho/xxx_02a-00_43-2-Cl8d.Cl4c.Ho4b', 'runs_2/spg43/Cu/CuSe/xxx_02a-00_43-2-Cu8d.Cu4b.Se8d.Se4a', 'runs_2/spg43/Se/Se2Ta/xxx_02a-00_43-2-Se4c.Se4a.Ta4b', 'runs_2/spg43/Fe/FeTe/xxx_02a-00_43-2-Fe8d.Fe4c.Te4c.Te4b.Te4a', 'runs_2/spg43/Cr/CrTl2/xxx_02a-00_43-2-Cr8d.Tl8d.Tl4b.Tl4a', 'runs_2/spg43/In/In2Te/xxx_02a-00_43-2-In4b.In4a.Te4b', 'runs_2/spg43/Se/SePt/xxx_02a-00_43-2-Se4b.Pt4c', 'runs_2/spg43/Se/Se2W/xxx_02a-00_43-2-Se8d.Se4c.Se4a.W4c.W4b', 'runs_2/spg43/N/N2Pd3/xxx_02a-00_43-2-N4c.N4b.Pd8d.Pd4c', 'runs_2/spg43/Li/LiCl/xxx_02a-00_43-2-Li4b.Li4a.Cl4c.Cl4b', 'runs_2/spg43/Cl/Cl2Au/xxx_02a-00_43-2-Cl8d.Cl4c.Cl4a.Au4c.Au4b', 'runs_2/spg43/As/AsTl/xxx_02a-00_43-2-As4c.As4b.As4a.Tl8d.Tl4c', 'runs_2/spg43/Se/Se3Re/xxx_02a-00_43-2-Se8d.Se4a.Re4c', 'runs_2/spg43/Cd/CdTl2/xxx_02a-00_43-2-Cd4c.Tl4c.Tl4a', 'runs_2/spg43/Li/LiTl/xxx_02a-00_43-2-Li4b.Li4a.Tl8d', 'runs_2/spg43/In/InI/xxx_02a-00_43-2-In4c.In4b.I4b.I4a', 'runs_2/spg43/V/VAs/xxx_02a-00_43-2-V8d.As4c.As4a', 'runs_2/spg43/Cd/CdI2/xxx_02a-00_43-2-Cd4a.I8d', 'runs_2/spg43/Te/TeTl2/xxx_02a-00_43-2-Te4a.Tl8d', 'runs_2/spg43/Te/Te3Tl2/xxx_02a-00_43-2-Te8d.Te4a.Tl4c.Tl4b', 'runs_2/spg43/P/P4Zr3/xxx_02a-00_43-2-P8d.P4c.P4a.Zr8d.Zr4b', 'runs_2/spg43/Mg/MgTl2/xxx_02a-00_43-2-Mg4b.Tl4b.Tl4a', 'runs_2/spg43/Se/SeCd/xxx_02a-00_43-2-Se4c.Se4a.Cd4c.Cd4b', 'runs_2/spg43/Co/CoSe/xxx_02a-00_43-2-Co4c.Co4b.Co4a.Se8d.Se4c', 'runs_2/spg43/Ti/TiTl4/xxx_02a-00_43-2-Ti4c.Tl8d.Tl4b.Tl4a', 'runs_2/spg43/Eu/EuTl3/xxx_02a-00_43-2-Eu4c.Tl4c.Tl4b.Tl4a', 'runs_2/spg43/P/PBi/xxx_02a-00_43-2-P4c.P4a.Bi4c.Bi4b']\n"
     ]
    },
    {
     "name": "stderr",
     "output_type": "stream",
     "text": [
      " 29%|████████████████████████████████████████████████████████████████████████▊                                                                                                                                                                               | 27/92 [07:13<1:07:47, 62.58s/it]"
     ]
    },
    {
     "name": "stdout",
     "output_type": "stream",
     "text": [
      "Length batch: 7086\n",
      "['runs_2/spg70/S/S3Re/xxx_02a-00_70-2-S6d.S2b.S1a.Re3c', 'runs_2/spg70/O/O7Ta4/xxx_02a-00_70-2-O6d.O1a.Ta3c.Ta1a', 'runs_2/spg70/O/O3Ir2/xxx_02p-00_70-2-O3c.Ir2b', 'runs_2/spg70/Br/Br4Re/xxx_02a-00_70-2-Br6d.Br3c.Br2b.Br1a.Re3c', 'runs_2/spg70/O/O2Cr/xxx_02p-00_70-2-O3c.O2b.O1a.Cr3c', 'runs_2/spg70/N/NRh/xxx_02a-00_70-2-N3c.Rh3c', 'runs_2/spg70/Br/Br3Ag2/xxx_02p-00_70-2-Br6d.Ag3c.Ag1a', 'runs_2/spg70/K/KTl/xxx_02p-00_70-2-K1a.Tl1a', 'runs_2/spg70/O/O10In9/xxx_02p-00_70-2-O6d.O3c.O1a.In6d.In2b.In1a', 'runs_2/spg70/I/I3Tb/xxx_02p-00_70-2-I3c.Tb1a', 'runs_2/spg70/N/NSm/xxx_02p-00_70-2-N2b.N1a.Sm2b.Sm1a', 'runs_2/spg70/Mn/Mn6Se11/xxx_02a-00_70-2-Mn3c.Mn2b.Mn1a.Se6d.Se3c.Se2b', 'runs_2/spg70/F/F3Eu/xxx_02p-00_70-2-F6d.Eu2b', 'runs_2/spg70/O/O3Co2/xxx_02p-00_70-2-O3c.O2b.O1a.Co3c.Co1a', 'runs_2/spg70/F/F9Mn4/xxx_02p-00_70-2-F6d.F3c.Mn3c.Mn1a', 'runs_2/spg70/O/O2Zr/xxx_02p-00_70-2-O6d.O2b.Zr3c.Zr1a', 'runs_2/spg70/N/NY/xxx_02p-00_70-2-N1a.Y1a', 'runs_2/spg70/O/O2Cr/xxx_02p-00_70-2-O2b.Cr1a', 'runs_2/spg70/Nb/Nb5Te11/xxx_02p-00_70-2-Nb3c.Nb2b.Te6d.Te3c.Te2b', 'runs_2/spg70/Cr/CrAs2/xxx_02p-00_70-2-Cr1a.As2b', 'runs_2/spg70/N/NTi/xxx_02p-00_70-2-N3c.N2b.Ti3c.Ti2b', 'runs_2/spg70/N/N4Ce3/xxx_02a-00_70-2-N6d.N2b.Ce6d', 'runs_2/spg70/O/O8Mn3/xxx_02p-00_70-2-O6d.O2b.Mn2b.Mn1a', 'runs_2/spg70/Sn/SnTe/xxx_02a-00_70-2-Sn6d.Te6d', 'runs_2/spg70/Cl/Cl3Tl/xxx_02a-00_70-2-Cl6d.Cl3c.Cl2b.Cl1a.Tl3c.Tl1a', 'runs_2/spg70/O/O3Tb2/xxx_02p-00_70-2-O6d.Tb3c.Tb1a', 'runs_2/spg70/As/AsIn/xxx_02a-00_70-2-As6d.As2b.In6d.In2b', 'runs_2/spg70/P/PGd/xxx_02a-00_70-2-P3c.P1a.Gd3c.Gd1a', 'runs_2/spg70/P/P6V5/xxx_02a-00_70-2-P6d.P3c.P2b.P1a.V6d.V3c.V1a', 'runs_2/spg70/N/NGd/xxx_02p-00_70-2-N2b.Gd2b', 'runs_2/spg70/Cr/CrI4/xxx_02a-00_70-2-Cr3c.I6d.I3c.I2b.I1a', 'runs_2/spg70/N/NYb/xxx_02p-00_70-2-N2b.N1a.Yb2b.Yb1a', 'runs_2/spg70/As/AsTl3/xxx_02a-00_70-2-As3c.As1a.Tl6d.Tl3c.Tl2b.Tl1a', 'runs_2/spg70/In/InTl3/xxx_02p-00_70-2-In2b.Tl6d', 'runs_2/spg70/Ge/GeSe2/xxx_02p-00_70-2-Ge6d.Se6d.Se3c.Se2b.Se1a', 'runs_2/spg70/Be/BeO/xxx_02a-00_70-2-Be6d.Be3c.Be2b.O6d.O3c.O2b', 'runs_2/spg70/F/FCu/xxx_02p-00_70-2-F3c.F2b.F1a.Cu6d', 'runs_2/spg70/Ho/HoTl3/xxx_02p-00_70-2-Ho1a.Tl2b.Tl1a', 'runs_2/spg70/N/N2In3/xxx_02a-00_70-2-N3c.N1a.In6d', 'runs_2/spg70/Be/BeO/xxx_02p-00_70-2-Be3c.Be2b.Be1a.O3c.O2b.O1a', 'runs_2/spg70/S/S2Mn/xxx_02a-00_70-2-S6d.S2b.Mn3c.Mn1a', 'runs_2/spg70/O/O9Mn5/xxx_02p-00_70-2-O6d.O3c.Mn3c.Mn2b', 'runs_2/spg70/Be/BeBr2/xxx_02p-00_70-2-Be2b.Br3c.Br1a', 'runs_2/spg70/Br/Br3Gd/xxx_02p-00_70-2-Br6d.Gd2b', 'runs_2/spg70/F/F2Nb/xxx_02p-00_70-2-F6d.Nb2b.Nb1a', 'runs_2/spg70/S/S3Mo/xxx_02a-00_70-2-S6d.S3c.S2b.S1a.Mo3c.Mo1a', 'runs_2/spg70/P/PGd/xxx_02p-00_70-2-P3c.P2b.P1a.Gd6d', 'runs_2/spg70/O/O2Cu3/xxx_02p-00_70-2-O3c.O1a.Cu3c.Cu2b.Cu1a', 'runs_2/spg70/F/FAg/xxx_02p-00_70-2-F3c.F2b.F1a.Ag6d', 'runs_2/spg70/Ni/NiBr3/xxx_02a-00_70-2-Ni1a.Br3c', 'runs_2/spg70/Se/Se11Ir6/xxx_02a-00_70-2-Se6d.Se3c.Se2b.Ir3c.Ir2b.Ir1a', 'runs_2/spg70/Co/CoTe/xxx_02p-00_70-2-Co2b.Te2b', 'runs_2/spg70/O/O2Cr/xxx_02p-00_70-2-O6d.O3c.O1a.Cr3c.Cr2b', 'runs_2/spg70/Co/Co10As9/xxx_02p-00_70-2-Co6d.Co3c.Co1a.As6d.As2b.As1a', 'runs_2/spg70/N/NIn/xxx_02p-00_70-2-N3c.In2b.In1a', 'runs_2/spg70/Te/Te3Re/xxx_02a-00_70-2-Te6d.Te3c.Te2b.Te1a.Re3c.Re1a', 'runs_2/spg70/Cl/Cl3Ta/xxx_02p-00_70-2-Cl6d.Cl3c.Ta2b.Ta1a', 'runs_2/spg70/F/F2Sr/xxx_02p-00_70-2-F3c.F2b.F1a.Sr3c', 'runs_2/spg70/P/PCu3/xxx_02p-00_70-2-P2b.Cu6d', 'runs_2/spg70/As/AsIn/xxx_02a-00_70-2-As6d.As2b.As1a.In6d.In3c', 'runs_2/spg70/F/FCu/xxx_02p-00_70-2-F3c.Cu2b.Cu1a', 'runs_2/spg70/Br/Br4Ce/xxx_02p-00_70-2-Br3c.Br1a.Ce1a', 'runs_2/spg70/O/O2Ti/xxx_02p-00_70-2-O3c.O2b.O1a.Ti2b.Ti1a', 'runs_2/spg70/Br/Br8In5/xxx_02p-00_70-2-Br6d.Br2b.In3c.In2b', 'runs_2/spg70/Be/Be3N2/xxx_02a-00_70-2-Be6d.Be2b.Be1a.N3c.N2b.N1a', 'runs_2/spg70/V/V7As9/xxx_02a-00_70-2-V6d.V1a.As6d.As2b.As1a', 'runs_2/spg70/In/In5Tl8/xxx_02p-00_70-2-In3c.In2b.Tl6d.Tl2b', 'runs_2/spg70/O/OBa/xxx_02p-00_70-2-O3c.O1a.Ba3c.Ba1a', 'runs_2/spg70/Br/Br2Pd/xxx_02p-00_70-2-Br3c.Br2b.Br1a.Pd3c', 'runs_2/spg70/Se/Se2Ce/xxx_02a-00_70-2-Se3c.Se1a.Ce2b', 'runs_2/spg70/S/SIn2/xxx_02a-00_70-2-S6d.In6d.In3c.In2b.In1a', 'runs_2/spg70/As/AsEr/xxx_02p-00_70-2-As3c.As2b.Er3c.Er2b', 'runs_2/spg70/Br/Br5Au3/xxx_02p-00_70-2-Br6d.Br3c.Br1a.Au3c.Au2b.Au1a', 'runs_2/spg70/Mn/Mn2Te3/xxx_02a-00_70-2-Mn3c.Mn1a.Te6d', 'runs_2/spg70/Cl/Cl5Nb/xxx_02p-00_70-2-Cl3c.Cl2b.Nb1a', 'runs_2/spg70/N/NIr/xxx_02p-00_70-2-N2b.N1a.Ir2b.Ir1a', 'runs_2/spg70/P/PEu/xxx_02p-00_70-2-P1a.Eu1a', 'runs_2/spg70/N/NNa3/xxx_02p-00_70-2-N2b.N1a.Na6d.Na2b.Na1a', 'runs_2/spg70/P/PSc/xxx_02a-00_70-2-P6d.P3c.P2b.P1a.Sc6d.Sc3c.Sc2b.Sc1a', 'runs_2/spg70/As/AsY/xxx_02a-00_70-2-As6d.As2b.As1a.Y6d.Y3c', 'runs_2/spg70/Br/BrIn/xxx_02p-00_70-2-Br3c.In3c', 'runs_2/spg70/O/O9Au10/xxx_02p-00_70-2-O6d.O3c.Au6d.Au3c.Au1a', 'runs_2/spg70/Cr/CrTe2/xxx_02p-00_70-2-Cr3c.Te6d', 'runs_2/spg70/Cu/CuI/xxx_02p-00_70-2-Cu2b.Cu1a.I3c', 'runs_2/spg70/N/NRh/xxx_02p-00_70-2-N6d.N3c.Rh6d.Rh2b.Rh1a', 'runs_2/spg70/Li/Li2Se/xxx_02p-00_70-2-Li3c.Li2b.Li1a.Se3c', 'runs_2/spg70/P/P7Tl9/xxx_02p-00_70-2-P6d.P1a.Tl6d.Tl3c', 'runs_2/spg70/O/O2Hf/xxx_02p-00_70-2-O3c.O1a.Hf2b', 'runs_2/spg70/As/AsNd/xxx_02p-00_70-2-As6d.As3c.As1a.Nd6d.Nd3c.Nd1a', 'runs_2/spg70/P/PFe/xxx_02p-00_70-2-P3c.P2b.P1a.Fe6d', 'runs_2/spg70/Al/AlP/xxx_02p-00_70-2-Al6d.Al3c.Al2b.Al1a.P6d.P3c.P2b.P1a', 'runs_2/spg70/As/As2Sn3/xxx_02p-00_70-2-As6d.Sn6d.Sn3c', 'runs_2/spg70/Te/Te2Ce/xxx_02a-00_70-2-Te6d.Te2b.Ce3c.Ce1a', 'runs_2/spg70/Co/CoI2/xxx_02p-00_70-2-Co2b.Co1a.I3c.I2b.I1a', 'runs_2/spg70/As/As2Ba3/xxx_02a-00_70-2-As3c.As1a.Ba3c.Ba2b.Ba1a', 'runs_2/spg70/N/N4Ta3/xxx_02a-00_70-2-N3c.N1a.Ta2b.Ta1a', 'runs_2/spg70/Fe/FeSe2/xxx_02a-00_70-2-Fe3c.Fe2b.Fe1a.Se6d.Se3c.Se2b.Se1a', 'runs_2/spg70/P/P6In11/xxx_02p-00_70-2-P6d.In6d.In3c.In2b', 'runs_2/spg70/Mg/MgTe/xxx_02a-00_70-2-Mg6d.Te3c.Te2b.Te1a', 'runs_2/spg70/As/AsNd/xxx_02p-00_70-2-As3c.Nd2b.Nd1a', 'runs_2/spg70/P/P3Nb2/xxx_02p-00_70-2-P6d.P3c.Nb3c.Nb2b.Nb1a', 'runs_2/spg70/As/AsSm/xxx_02p-00_70-2-As2b.Sm2b', 'runs_2/spg70/V/V4As3/xxx_02a-00_70-2-V6d.V2b.As6d', 'runs_2/spg70/F/F3V/xxx_02p-00_70-2-F3c.F2b.F1a.V2b', 'runs_2/spg70/Be/BeF2/xxx_02p-00_70-2-Be1a.F2b', 'runs_2/spg70/F/F3Ag/xxx_02p-00_70-2-F6d.F3c.Ag3c', 'runs_2/spg70/N/NRu/xxx_02p-00_70-2-N3c.N2b.Ru3c.Ru2b', 'runs_2/spg70/P/PGd/xxx_02p-00_70-2-P1a.Gd1a', 'runs_2/spg70/Te/TeTl2/xxx_02a-00_70-2-Te1a.Tl2b', 'runs_2/spg70/Ag/Ag4Te5/xxx_02a-00_70-2-Ag3c.Ag1a.Te3c.Te2b', 'runs_2/spg70/Mg/MgCl2/xxx_02a-00_70-2-Mg2b.Mg1a.Cl3c.Cl2b.Cl1a', 'runs_2/spg70/Cl/Cl3V/xxx_02p-00_70-2-Cl6d.Cl3c.V3c', 'runs_2/spg70/Cl/ClCu/xxx_02p-00_70-2-Cl6d.Cl1a.Cu6d.Cu1a', 'runs_2/spg70/O/O3Fe2/xxx_02p-00_70-2-O3c.Fe2b', 'runs_2/spg70/S/SPd/xxx_02a-00_70-2-S3c.Pd3c', 'runs_2/spg70/F/F3Ir/xxx_02p-00_70-2-F6d.F3c.Ir2b.Ir1a', 'runs_2/spg70/S/S10Cr9/xxx_02a-00_70-2-S6d.S3c.S1a.Cr6d.Cr2b.Cr1a', 'runs_2/spg70/P/P4Fe5/xxx_02p-00_70-2-P6d.P2b.Fe6d.Fe3c.Fe1a', 'runs_2/spg70/Cl/ClK/xxx_02p-00_70-2-Cl3c.Cl1a.K3c.K1a', 'runs_2/spg70/Y/Y2Te3/xxx_02a-00_70-2-Y2b.Te2b.Te1a', 'runs_2/spg70/Mn/MnAs2/xxx_02p-00_70-2-Mn3c.Mn1a.As6d.As2b', 'runs_2/spg70/N/NTi/xxx_02p-00_70-2-N1a.Ti1a', 'runs_2/spg70/I/I3Nd/xxx_02p-00_70-2-I6d.Nd2b', 'runs_2/spg70/V/V10As9/xxx_02a-00_70-2-V6d.V3c.V1a.As6d.As2b.As1a', 'runs_2/spg70/Fe/FeTe/xxx_02p-00_70-2-Fe3c.Te2b.Te1a', 'runs_2/spg70/Cl/Cl3Au2/xxx_02p-00_70-2-Cl3c.Cl2b.Cl1a.Au3c.Au1a', 'runs_2/spg70/Se/SeCs2/xxx_02a-00_70-2-Se1a.Cs2b', 'runs_2/spg70/F/F3Eu/xxx_02p-00_70-2-F2b.F1a.Eu1a', 'runs_2/spg70/O/O3Yb2/xxx_02p-00_70-2-O3c.Yb2b', 'runs_2/spg70/V/VTe/xxx_02a-00_70-2-V6d.V3c.V2b.V1a.Te6d.Te3c.Te2b.Te1a', 'runs_2/spg70/P/P2Ni3/xxx_02p-00_70-2-P2b.Ni2b.Ni1a', 'runs_2/spg70/P/PV/xxx_02a-00_70-2-P6d.P2b.V6d.V2b', 'runs_2/spg70/N/NEu/xxx_02a-00_70-2-N3c.N2b.N1a.Eu6d', 'runs_2/spg70/Cl/Cl2Cd/xxx_02a-00_70-2-Cl6d.Cl2b.Cd3c.Cd1a', 'runs_2/spg70/Cr/CrAs/xxx_02p-00_70-2-Cr6d.As6d', 'runs_2/spg70/O/O2Ti/xxx_02p-00_70-2-O6d.Ti3c', 'runs_2/spg70/O/O3Tl2/xxx_02p-00_70-2-O3c.Tl2b', 'runs_2/spg70/B/BP/xxx_02p-00_70-2-B6d.B3c.P6d.P2b.P1a', 'runs_2/spg70/I/I3La/xxx_02p-00_70-2-I6d.La2b', 'runs_2/spg70/Ca/CaTe/xxx_02a-00_70-2-Ca6d.Ca3c.Te6d.Te2b.Te1a', 'runs_2/spg70/F/FNa/xxx_02p-00_70-2-F3c.Na3c', 'runs_2/spg70/As/As2Ag3/xxx_02p-00_70-2-As3c.As1a.Ag3c.Ag2b.Ag1a', 'runs_2/spg70/O/O2Cr/xxx_02a-00_70-2-O3c.O2b.O1a.Cr2b.Cr1a', 'runs_2/spg70/P/PBi/xxx_02p-00_70-2-P2b.P1a.Bi3c', 'runs_2/spg70/S/S3Pd2/xxx_02a-00_70-2-S2b.S1a.Pd2b', 'runs_2/spg70/N/N6Cr5/xxx_02a-00_70-2-N6d.N3c.N2b.N1a.Cr6d.Cr3c.Cr1a', 'runs_2/spg70/I/I10Pt3/xxx_02p-00_70-2-I6d.I3c.I1a.Pt2b.Pt1a', 'runs_2/spg70/S/SZn/xxx_02a-00_70-2-S6d.S3c.S1a.Zn6d.Zn3c.Zn1a', 'runs_2/spg70/Cr/Cr7As9/xxx_02p-00_70-2-Cr6d.Cr1a.As6d.As2b.As1a', 'runs_2/spg70/Cu/CuSe/xxx_02p-00_70-2-Cu2b.Se2b', 'runs_2/spg70/Br/Br3In2/xxx_02p-00_70-2-Br3c.Br2b.Br1a.In3c.In1a', 'runs_2/spg70/Cu/Cu3As/xxx_02p-00_70-2-Cu6d.As2b', 'runs_2/spg70/Cl/Cl3La/xxx_02p-00_70-2-Cl6d.Cl3c.La2b.La1a', 'runs_2/spg70/Ga/GaBr3/xxx_02p-00_70-2-Ga1a.Br3c', 'runs_2/spg70/F/F2Cr/xxx_02p-00_70-2-F3c.F2b.F1a.Cr3c', 'runs_2/spg70/O/O5Ta4/xxx_02p-00_70-2-O3c.O2b.Ta3c.Ta1a', 'runs_2/spg70/Se/Se11Ta10/xxx_02a-00_70-2-Se6d.Se3c.Se2b.Ta6d.Ta3c.Ta1a', 'runs_2/spg70/B/BN/xxx_02p-00_70-2-B3c.B2b.B1a.N3c.N2b.N1a', 'runs_2/spg70/Ni/NiAs/xxx_02p-00_70-2-Ni3c.As2b.As1a', 'runs_2/spg70/Co/Co2Te3/xxx_02p-00_70-2-Co3c.Co1a.Te6d', 'runs_2/spg70/Fe/FeI3/xxx_02p-00_70-2-Fe1a.I2b.I1a', 'runs_2/spg70/O/O3Sc2/xxx_02p-00_70-2-O6d.O2b.O1a.Sc6d', 'runs_2/spg70/O/O3Tb2/xxx_02p-00_70-2-O6d.O2b.O1a.Tb6d', 'runs_2/spg70/S/S3Rh2/xxx_02a-00_70-2-S6d.S3c.Rh6d', 'runs_2/spg70/Be/BeCl2/xxx_02p-00_70-2-Be3c.Cl6d', 'runs_2/spg70/P/PSm/xxx_02a-00_70-2-P3c.P2b.Sm3c.Sm2b', 'runs_2/spg70/F/F8In3/xxx_02p-00_70-2-F6d.F2b.In2b.In1a', 'runs_2/spg70/Ni/Ni8Te11/xxx_02a-00_70-2-Ni6d.Ni2b.Te6d.Te3c.Te2b', 'runs_2/spg70/Y/Y2Te3/xxx_02a-00_70-2-Y2b.Te3c', 'runs_2/spg70/Br/Br3Tm/xxx_02p-00_70-2-Br6d.Br3c.Tm3c', 'runs_2/spg70/Se/Se9Ir5/xxx_02a-00_70-2-Se6d.Se3c.Ir3c.Ir2b', 'runs_2/spg70/S/SBa/xxx_02a-00_70-2-S6d.S3c.Ba6d.Ba2b.Ba1a', 'runs_2/spg70/P/PGd/xxx_02a-00_70-2-P6d.P3c.Gd6d.Gd2b.Gd1a', 'runs_2/spg70/P/PNb/xxx_02p-00_70-2-P3c.Nb2b.Nb1a', 'runs_2/spg70/Se/Se3Ru/xxx_02a-00_70-2-Se6d.Se3c.Ru2b.Ru1a', 'runs_2/spg70/Br/Br3Er/xxx_02p-00_70-2-Br3c.Er1a', 'runs_2/spg70/As/AsTl3/xxx_02a-00_70-2-As2b.Tl3c.Tl2b.Tl1a', 'runs_2/spg70/As/As2Sr3/xxx_02p-00_70-2-As3c.As1a.Sr6d', 'runs_2/spg70/Br/Br2Sr/xxx_02p-00_70-2-Br2b.Sr1a', 'runs_2/spg70/S/SPb/xxx_02a-00_70-2-S6d.S1a.Pb6d.Pb1a', 'runs_2/spg70/Ga/Ga2Se3/xxx_02p-00_70-2-Ga3c.Ga1a.Se6d', 'runs_2/spg70/S/SAg2/xxx_02a-00_70-2-S3c.Ag3c.Ag2b.Ag1a', 'runs_2/spg70/O/O8Nb7/xxx_02a-00_70-2-O6d.O2b.Nb6d.Nb1a', 'runs_2/spg70/V/V3As4/xxx_02a-00_70-2-V3c.As3c.As1a', 'runs_2/spg70/Cr/CrBr3/xxx_02p-00_70-2-Cr2b.Br6d', 'runs_2/spg70/Mn/MnAs/xxx_02a-00_70-2-Mn6d.Mn3c.Mn2b.Mn1a.As6d.As3c.As2b.As1a', 'runs_2/spg70/As/AsDy/xxx_02p-00_70-2-As3c.As1a.Dy3c.Dy1a', 'runs_2/spg70/N/N2Pt3/xxx_02a-00_70-2-N3c.N2b.N1a.Pt6d.Pt2b.Pt1a', 'runs_2/spg70/F/FAg/xxx_02p-00_70-2-F2b.F1a.Ag3c', 'runs_2/spg70/Br/BrTl/xxx_02p-00_70-2-Br2b.Tl2b', 'runs_2/spg70/Cl/ClAg/xxx_02p-00_70-2-Cl6d.Cl2b.Cl1a.Ag6d.Ag3c', 'runs_2/spg70/N/N3Pd4/xxx_02a-00_70-2-N6d.Pd6d.Pd2b', 'runs_2/spg70/As/As3Mo2/xxx_02p-00_70-2-As6d.As3c.Mo3c.Mo2b.Mo1a', 'runs_2/spg70/Mn/MnI3/xxx_02p-00_70-2-Mn1a.I3c', 'runs_2/spg70/F/F9In7/xxx_02p-00_70-2-F6d.F2b.F1a.In6d.In1a', 'runs_2/spg70/N/NBi/xxx_02a-00_70-2-N6d.N3c.Bi6d.Bi2b.Bi1a', 'runs_2/spg70/Ag/AgI/xxx_02p-00_70-2-Ag2b.Ag1a.I3c', 'runs_2/spg70/Br/Br3La/xxx_02p-00_70-2-Br3c.La1a', 'runs_2/spg70/S/S5Fe3/xxx_02a-00_70-2-S3c.S2b.Fe2b.Fe1a', 'runs_2/spg70/Ag/Ag2I3/xxx_02p-00_70-2-Ag3c.Ag1a.I6d', 'runs_2/spg70/P/PTl/xxx_02a-00_70-2-P6d.Tl6d', 'runs_2/spg70/Cl/Cl2Pb/xxx_02p-00_70-2-Cl2b.Pb1a', 'runs_2/spg70/F/F2Zn/xxx_02p-00_70-2-F3c.F1a.Zn2b', 'runs_2/spg70/N/NTl3/xxx_02p-00_70-2-N2b.N1a.Tl6d.Tl2b.Tl1a', 'runs_2/spg70/N/N2Re/xxx_02p-00_70-2-N6d.N3c.N2b.N1a.Re6d', 'runs_2/spg70/Li/LiTl/xxx_02a-00_70-2-Li6d.Li3c.Tl6d.Tl3c', 'runs_2/spg70/N/NTi/xxx_02p-00_70-2-N2b.N1a.Ti2b.Ti1a', 'runs_2/spg70/N/NSc/xxx_02p-00_70-2-N6d.N3c.Sc6d.Sc2b.Sc1a', 'runs_2/spg70/N/N2Ru/xxx_02p-00_70-2-N3c.N2b.N1a.Ru3c', 'runs_2/spg70/S/SHg/xxx_02a-00_70-2-S3c.Hg2b.Hg1a', 'runs_2/spg70/N/NAl/xxx_02p-00_70-2-N6d.N3c.Al6d.Al3c', 'runs_2/spg70/S/SIn2/xxx_02a-00_70-2-S2b.S1a.In3c.In2b.In1a', 'runs_2/spg70/O/O11Mo5/xxx_02p-00_70-2-O6d.O3c.O2b.Mo3c.Mo2b', 'runs_2/spg70/P/PLu/xxx_02p-00_70-2-P2b.P1a.Lu3c', 'runs_2/spg70/O/O2In3/xxx_02p-00_70-2-O3c.O2b.O1a.In6d.In2b.In1a', 'runs_2/spg70/N/N9Mn10/xxx_02a-00_70-2-N6d.N3c.Mn6d.Mn3c.Mn1a', 'runs_2/spg70/P/P6Fe5/xxx_02p-00_70-2-P3c.P2b.P1a.Fe3c.Fe2b', 'runs_2/spg70/Co/CoSe/xxx_02p-00_70-2-Co3c.Se2b.Se1a', 'runs_2/spg70/N/N8Re5/xxx_02p-00_70-2-N6d.N2b.Re3c.Re2b', 'runs_2/spg70/Cr/Cr6As5/xxx_02a-00_70-2-Cr6d.Cr3c.Cr2b.Cr1a.As6d.As3c.As1a', 'runs_2/spg70/Mn/Mn4I9/xxx_02p-00_70-2-Mn3c.Mn1a.I6d.I3c', 'runs_2/spg70/P/P2Ca3/xxx_02p-00_70-2-P6d.Ca6d.Ca3c', 'runs_2/spg70/Cu/Cu2Te/xxx_02p-00_70-2-Cu2b.Te1a', 'runs_2/spg70/As/AsNd/xxx_02a-00_70-2-As6d.As3c.As2b.As1a.Nd6d.Nd3c.Nd2b.Nd1a', 'runs_2/spg70/Na/NaI/xxx_02p-00_70-2-Na6d.I6d', 'runs_2/spg70/O/OPb/xxx_02p-00_70-2-O2b.Pb2b', 'runs_2/spg70/Li/LiBr/xxx_02p-00_70-2-Li2b.Br2b', 'runs_2/spg70/F/F3Ho/xxx_02p-00_70-2-F6d.Ho2b', 'runs_2/spg70/Cl/Cl3Tl/xxx_02p-00_70-2-Cl3c.Cl2b.Cl1a.Tl2b', 'runs_2/spg70/F/F3Tl/xxx_02p-00_70-2-F3c.Tl1a', 'runs_2/spg70/Li/LiF/xxx_02p-00_70-2-Li6d.Li2b.Li1a.F6d.F3c', 'runs_2/spg70/N/NTl/xxx_02p-00_70-2-N3c.N1a.Tl3c.Tl1a', 'runs_2/spg70/As/As7Mo4/xxx_02a-00_70-2-As6d.As1a.Mo3c.Mo1a', 'runs_2/spg70/O/OCa/xxx_02a-00_70-2-O6d.Ca6d', 'runs_2/spg70/Se/SeAu2/xxx_02a-00_70-2-Se3c.Se2b.Au6d.Au3c.Au1a', 'runs_2/spg70/I/I11Ir3/xxx_02a-00_70-2-I6d.I3c.I2b.Ir2b.Ir1a', 'runs_2/spg70/Br/Br3Er/xxx_02a-00_70-2-Br6d.Br2b.Br1a.Er3c', 'runs_2/spg70/In/In3Tl5/xxx_02a-00_70-2-In3c.In2b.In1a.Tl6d.Tl3c.Tl1a', 'runs_2/spg70/O/O9Ru5/xxx_02a-00_70-2-O6d.O3c.Ru3c.Ru2b', 'runs_2/spg70/F/F5Ta/xxx_02p-00_70-2-F6d.F3c.F1a.Ta2b', 'runs_2/spg70/Ca/Ca3As2/xxx_02p-00_70-2-Ca6d.Ca3c.As6d', 'runs_2/spg70/Cl/Cl2Sn/xxx_02p-00_70-2-Cl6d.Cl3c.Cl2b.Cl1a.Sn6d', 'runs_2/spg70/S/S3Ir2/xxx_02a-00_70-2-S3c.S2b.S1a.Ir3c.Ir1a', 'runs_2/spg70/C/CF4/xxx_02p-00_70-2-C1a.F3c.F1a', 'runs_2/spg70/P/P2Sn3/xxx_02p-00_70-2-P3c.P1a.Sn6d', 'runs_2/spg70/Ca/CaI2/xxx_02p-00_70-2-Ca2b.Ca1a.I3c.I2b.I1a', 'runs_2/spg70/Be/BeSe/xxx_02p-00_70-2-Be3c.Be2b.Be1a.Se6d', 'runs_2/spg70/Sc/ScTl3/xxx_02a-00_70-2-Sc3c.Tl6d.Tl3c', 'runs_2/spg70/N/N4Rh3/xxx_02a-00_70-2-N6d.N2b.Rh3c.Rh2b.Rh1a', 'runs_2/spg70/O/O3Gd2/xxx_02p-00_70-2-O6d.O3c.Gd6d', 'runs_2/spg70/S/S5Ir3/xxx_02a-00_70-2-S3c.S2b.Ir2b.Ir1a', 'runs_2/spg70/P/P5Ta3/xxx_02p-00_70-2-P3c.P2b.Ta2b.Ta1a', 'runs_2/spg70/O/O11Ru5/xxx_02p-00_70-2-O6d.O3c.O2b.Ru3c.Ru2b', 'runs_2/spg70/F/F6Ru/xxx_02a-00_70-2-F3c.F2b.F1a.Ru1a', 'runs_2/spg70/N/N2W/xxx_02p-00_70-2-N2b.W1a', 'runs_2/spg70/Cl/Cl3Y/xxx_02p-00_70-2-Cl6d.Cl3c.Y3c', 'runs_2/spg70/O/O9Ru4/xxx_02p-00_70-2-O6d.O3c.Ru3c.Ru1a', 'runs_2/spg70/Fe/Fe10As7/xxx_02p-00_70-2-Fe6d.Fe3c.Fe1a.As6d.As1a', 'runs_2/spg70/P/PDy/xxx_02p-00_70-2-P1a.Dy1a', 'runs_2/spg70/Cu/Cu3Br4/xxx_02p-00_70-2-Cu3c.Cu2b.Cu1a.Br6d.Br2b', 'runs_2/spg70/Ag/Ag6Te5/xxx_02a-00_70-2-Ag6d.Ag3c.Ag2b.Ag1a.Te6d.Te3c.Te1a', 'runs_2/spg70/Cl/ClRb/xxx_02p-00_70-2-Cl3c.Rb3c', 'runs_2/spg70/Br/Br2Sr/xxx_02a-00_70-2-Br3c.Br2b.Br1a.Sr3c', 'runs_2/spg70/Fe/FeSe/xxx_02p-00_70-2-Fe6d.Se6d', 'runs_2/spg70/Co/CoI2/xxx_02p-00_70-2-Co3c.I6d', 'runs_2/spg70/Fe/FeTe/xxx_02p-00_70-2-Fe6d.Fe3c.Te6d.Te3c', 'runs_2/spg70/Br/Br6Ru/xxx_02a-00_70-2-Br3c.Br2b.Br1a.Ru1a', 'runs_2/spg70/I/I7Tl3/xxx_02p-00_70-2-I6d.I1a.Tl2b.Tl1a', 'runs_2/spg70/P/PBi/xxx_02a-00_70-2-P6d.P3c.Bi6d.Bi2b.Bi1a', 'runs_2/spg70/As/As4Nb3/xxx_02p-00_70-2-As6d.As3c.As2b.As1a.Nb6d.Nb3c', 'runs_2/spg70/S/S5Tl6/xxx_02a-00_70-2-S6d.S3c.S1a.Tl6d.Tl3c.Tl2b.Tl1a', 'runs_2/spg70/Sc/ScI3/xxx_02a-00_70-2-Sc2b.Sc1a.I6d.I3c', 'runs_2/spg70/P/PMn/xxx_02p-00_70-2-P3c.P2b.P1a.Mn6d', 'runs_2/spg70/Cl/Cl4Ir/xxx_02p-00_70-2-Cl3c.Cl1a.Ir1a', 'runs_2/spg70/F/F2Fe/xxx_02p-00_70-2-F3c.F2b.F1a.Fe3c', 'runs_2/spg70/P/PCu3/xxx_02p-00_70-2-P1a.Cu3c', 'runs_2/spg70/As/AsBi/xxx_02p-00_70-2-As3c.Bi3c', 'runs_2/spg70/P/PMn/xxx_02p-00_70-2-P6d.P3c.P1a.Mn6d.Mn3c.Mn1a', 'runs_2/spg70/As/AsTa/xxx_02p-00_70-2-As6d.As3c.Ta6d.Ta3c', 'runs_2/spg70/Li/Li3N/xxx_02p-00_70-2-Li6d.Li3c.N3c', 'runs_2/spg70/O/O3Er2/xxx_02p-00_70-2-O6d.O2b.O1a.Er3c.Er2b.Er1a', 'runs_2/spg70/Se/SeCd/xxx_02a-00_70-2-Se3c.Se2b.Cd3c.Cd2b', 'runs_2/spg70/F/F4Mn/xxx_02a-00_70-2-F6d.F3c.F2b.F1a.Mn2b.Mn1a', 'runs_2/spg70/Tb/TbTl3/xxx_02a-00_70-2-Tb3c.Tl6d.Tl3c', 'runs_2/spg70/O/O2Hf/xxx_02p-00_70-2-O6d.O3c.O2b.O1a.Hf3c.Hf2b.Hf1a', 'runs_2/spg70/Cr/CrTe/xxx_02a-00_70-2-Cr2b.Cr1a.Te3c', 'runs_2/spg70/I/I6Os/xxx_02p-00_70-2-I6d.Os1a', 'runs_2/spg70/O/O3Au4/xxx_02a-00_70-2-O6d.Au6d.Au2b', 'runs_2/spg70/O/O3Mn2/xxx_02p-00_70-2-O3c.Mn2b', 'runs_2/spg70/Cl/Cl4Ag3/xxx_02p-00_70-2-Cl6d.Cl2b.Ag3c.Ag2b.Ag1a', 'runs_2/spg70/Se/SeAg2/xxx_02a-00_70-2-Se3c.Ag3c.Ag2b.Ag1a', 'runs_2/spg70/Cr/Cr5As4/xxx_02p-00_70-2-Cr3c.Cr2b.As3c.As1a', 'runs_2/spg70/O/O3Ru/xxx_02p-00_70-2-O6d.O3c.Ru2b.Ru1a', 'runs_2/spg70/Na/NaBr/xxx_02p-00_70-2-Na6d.Br6d', 'runs_2/spg70/O/OCo/xxx_02p-00_70-2-O6d.O2b.O1a.Co6d.Co2b.Co1a', 'runs_2/spg70/Be/BeO/xxx_02p-00_70-2-Be6d.Be1a.O6d.O1a', 'runs_2/spg70/P/P10Ta9/xxx_02p-00_70-2-P6d.P3c.P1a.Ta6d.Ta3c', 'runs_2/spg70/O/O3Lu2/xxx_02p-00_70-2-O6d.O2b.O1a.Lu6d', 'runs_2/spg70/Ca/CaSe/xxx_02p-00_70-2-Ca6d.Se6d', 'runs_2/spg70/N/NRh/xxx_02p-00_70-2-N6d.Rh6d', 'runs_2/spg70/As/AsY/xxx_02p-00_70-2-As3c.Y3c', 'runs_2/spg70/Co/Co4As3/xxx_02p-00_70-2-Co3c.Co1a.As2b.As1a', 'runs_2/spg70/Fe/FeAs/xxx_02p-00_70-2-Fe6d.Fe2b.As6d.As2b', 'runs_2/spg70/F/F3Tm/xxx_02p-00_70-2-F6d.Tm2b', 'runs_2/spg70/O/O6Pd5/xxx_02a-00_70-2-O6d.Pd3c.Pd2b', 'runs_2/spg70/P/P2Ni3/xxx_02p-00_70-2-P3c.P1a.Ni6d', 'runs_2/spg70/As/As12W7/xxx_02a-00_70-2-As6d.As3c.As2b.As1a.W6d.W1a', 'runs_2/spg70/N/N4W3/xxx_02p-00_70-2-N3c.N1a.W2b.W1a', 'runs_2/spg70/Cr/CrTe2/xxx_02p-00_70-2-Cr1a.Te2b', 'runs_2/spg70/Cr/CrSe2/xxx_02p-00_70-2-Cr2b.Se3c.Se1a', 'runs_2/spg70/N/NEu/xxx_02a-00_70-2-N6d.N2b.Eu6d.Eu2b', 'runs_2/spg70/P/P2Co3/xxx_02p-00_70-2-P6d.Co6d.Co3c', 'runs_2/spg70/S/SMn/xxx_02a-00_70-2-S6d.S2b.S1a.Mn6d.Mn3c', 'runs_2/spg70/As/As2Mo/xxx_02p-00_70-2-As2b.Mo1a', 'runs_2/spg70/Se/Se8Mo3/xxx_02a-00_70-2-Se6d.Se2b.Mo2b.Mo1a', 'runs_2/spg70/P/PCr/xxx_02p-00_70-2-P2b.P1a.Cr3c', 'runs_2/spg70/Br/Br4Ir/xxx_02p-00_70-2-Br6d.Br2b.Ir2b', 'runs_2/spg70/Cl/Cl3Y/xxx_02p-00_70-2-Cl2b.Cl1a.Y1a', 'runs_2/spg70/P/PLu/xxx_02a-00_70-2-P6d.P2b.P1a.Lu6d.Lu3c', 'runs_2/spg70/As/As2Nb3/xxx_02p-00_70-2-As3c.As2b.As1a.Nb6d.Nb3c', 'runs_2/spg70/Ti/TiAs/xxx_02a-00_70-2-Ti6d.Ti2b.As6d.As2b', 'runs_2/spg70/P/P2W/xxx_02p-00_70-2-P6d.P3c.P2b.P1a.W6d', 'runs_2/spg70/F/F4Ce/xxx_02p-00_70-2-F6d.F2b.Ce2b']\n"
     ]
    },
    {
     "name": "stderr",
     "output_type": "stream",
     "text": [
      " 30%|███████████████████████████████████████████████████████████████████████████▍                                                                                                                                                                            | 28/92 [08:37<1:13:35, 68.99s/it]"
     ]
    },
    {
     "name": "stdout",
     "output_type": "stream",
     "text": [
      "Length batch: 2785\n",
      "['runs_2/spg73/O/O11Cr6/xxx_02a-00_73-2-O6d.O3c.O2b.Cr3c.Cr2b.Cr1a', 'runs_2/spg73/O/O5Nb4/xxx_02a-00_73-2-O3c.O2b.Nb3c.Nb1a', 'runs_2/spg73/B/BF3/xxx_02a-00_73-2-B2b.F3c.F2b.F1a', 'runs_2/spg73/S/S5Ta4/xxx_02a-00_73-2-S6d.S3c.S1a.Ta6d.Ta2b', 'runs_2/spg73/Se/Se3Au4/xxx_02a-00_73-2-Se2b.Se1a.Au3c.Au1a', 'runs_2/spg73/Fe/Fe6Se7/xxx_02a-00_73-2-Fe3c.Fe2b.Fe1a.Se6d.Se1a', 'runs_2/spg73/Ag/Ag2Te/xxx_02a-00_73-2-Ag6d.Ag2b.Te3c.Te1a', 'runs_2/spg73/O/O11Ir7/xxx_02a-00_73-2-O6d.O3c.O2b.Ir6d.Ir1a', 'runs_2/spg73/N/N4Mn5/xxx_02a-00_73-2-N6d.N2b.Mn6d.Mn3c.Mn1a', 'runs_2/spg73/As/As9In10/xxx_02a-00_73-2-As6d.As3c.In6d.In3c.In1a', 'runs_2/spg73/Mn/Mn5As9/xxx_02a-00_73-2-Mn3c.Mn2b.As6d.As3c', 'runs_2/spg73/S/S9Ir5/xxx_02a-00_73-2-S6d.S2b.S1a.Ir3c.Ir2b', 'runs_2/spg73/V/V11As9/xxx_02a-00_73-2-V6d.V3c.V2b.As6d.As3c', 'runs_2/spg73/As/As3Mo2/xxx_02a-00_73-2-As6d.As3c.Mo3c.Mo2b.Mo1a', 'runs_2/spg73/Mn/Mn3I10/xxx_02a-00_73-2-Mn2b.Mn1a.I6d.I3c.I1a', 'runs_2/spg73/Br/Br3Rh/xxx_02a-00_73-2-Br6d.Br3c.Br2b.Br1a.Rh3c.Rh1a', 'runs_2/spg73/Se/Se7Rh4/xxx_02a-00_73-2-Se6d.Se1a.Rh3c.Rh1a', 'runs_2/spg73/Se/Se4Pt3/xxx_02a-00_73-2-Se3c.Se1a.Pt2b.Pt1a', 'runs_2/spg73/As/AsSm/xxx_02a-00_73-2-As6d.As2b.As1a.Sm6d.Sm2b.Sm1a', 'runs_2/spg73/Be/BeSe/xxx_02a-00_73-2-Be6d.Be2b.Be1a.Se6d.Se2b.Se1a', 'runs_2/spg73/Se/Se11Pd7/xxx_02a-00_73-2-Se6d.Se3c.Se2b.Pd6d.Pd1a', 'runs_2/spg73/Cl/Cl8In7/xxx_02a-00_73-2-Cl6d.Cl2b.In6d.In1a', 'runs_2/spg73/Se/Se11Pd6/xxx_02a-00_73-2-Se6d.Se3c.Se2b.Pd3c.Pd2b.Pd1a', 'runs_2/spg73/S/S11Ta6/xxx_02a-00_73-2-S6d.S3c.S2b.Ta3c.Ta2b.Ta1a', 'runs_2/spg73/N/N9Os5/xxx_02a-00_73-2-N6d.N2b.N1a.Os3c.Os2b', 'runs_2/spg73/N/N5Ta6/xxx_02a-00_73-2-N6d.N3c.N1a.Ta6d.Ta3c.Ta2b.Ta1a', 'runs_2/spg73/S/S5Nb4/xxx_02a-00_73-2-S6d.S3c.S1a.Nb6d.Nb2b', 'runs_2/spg73/S/S3Ag5/xxx_02a-00_73-2-S3c.S2b.S1a.Ag6d.Ag3c.Ag1a', 'runs_2/spg73/Al/Al2Se3/xxx_02a-00_73-2-Al3c.Al2b.Al1a.Se6d.Se3c', 'runs_2/spg73/Be/BeSe/xxx_02a-00_73-2-Be6d.Be2b.Se6d.Se2b', 'runs_2/spg73/As/AsIn/xxx_02a-00_73-2-As6d.In3c.In2b.In1a', 'runs_2/spg73/N/N7Fe10/xxx_02a-00_73-2-N6d.N1a.Fe6d.Fe3c.Fe1a', 'runs_2/spg73/As/AsIn3/xxx_02a-00_73-2-As1a.In2b.In1a', 'runs_2/spg73/N/N4Ru3/xxx_02a-00_73-2-N6d.N2b.Ru3c.Ru2b.Ru1a', 'runs_2/spg73/P/P10Nb9/xxx_02a-00_73-2-P6d.P3c.P1a.Nb6d.Nb3c', 'runs_2/spg73/N/N8Ni9/xxx_02a-00_73-2-N6d.N2b.Ni6d.Ni2b.Ni1a', 'runs_2/spg73/N/N4Cr5/xxx_02a-00_73-2-N6d.N2b.Cr6d.Cr3c.Cr1a', 'runs_2/spg73/As/As9Re5/xxx_02a-00_73-2-As6d.As3c.Re3c.Re2b', 'runs_2/spg73/V/V5Te6/xxx_02a-00_73-2-V6d.V3c.V1a.Te6d.Te3c.Te2b.Te1a', 'runs_2/spg73/Al/Al2Se3/xxx_02a-00_73-2-Al3c.Al1a.Se6d', 'runs_2/spg73/Te/Te5Ta4/xxx_02a-00_73-2-Te6d.Te3c.Te1a.Ta6d.Ta2b', 'runs_2/spg73/In/In3I5/xxx_02a-00_73-2-In3c.In2b.In1a.I6d.I3c.I1a', 'runs_2/spg73/Br/Br3Bi/xxx_02a-00_73-2-Br6d.Br3c.Br2b.Br1a.Bi3c.Bi1a', 'runs_2/spg73/S/S11Fe8/xxx_02a-00_73-2-S6d.S3c.S2b.Fe6d.Fe2b', 'runs_2/spg73/Cu/Cu5Te4/xxx_02a-00_73-2-Cu3c.Cu2b.Te3c.Te1a', 'runs_2/spg73/B/B2Se3/xxx_02a-00_73-2-B2b.Se2b.Se1a', 'runs_2/spg73/Br/Br3Yb/xxx_02a-00_73-2-Br3c.Br2b.Br1a.Yb2b', 'runs_2/spg73/Br/Br5In2/xxx_02a-00_73-2-Br6d.Br3c.Br1a.In3c.In1a', 'runs_2/spg73/P/P11Cr7/xxx_02a-00_73-2-P6d.P3c.P2b.Cr6d.Cr1a', 'runs_2/spg73/F/F7In4/xxx_02a-00_73-2-F6d.F1a.In3c.In1a', 'runs_2/spg73/F/F11Pd3/xxx_02a-00_73-2-F6d.F3c.F2b.Pd2b.Pd1a', 'runs_2/spg73/Se/Se9Rh4/xxx_02a-00_73-2-Se6d.Se2b.Se1a.Rh3c.Rh1a', 'runs_2/spg73/S/S5Mn4/xxx_02a-00_73-2-S3c.S2b.Mn3c.Mn1a', 'runs_2/spg73/As/As8In9/xxx_02a-00_73-2-As6d.As2b.In6d.In3c', 'runs_2/spg73/As/AsAg/xxx_02a-00_73-2-As3c.As2b.Ag3c.Ag2b', 'runs_2/spg73/F/F10In9/xxx_02a-00_73-2-F6d.F3c.F1a.In6d.In2b.In1a', 'runs_2/spg73/As/AsBi/xxx_02a-00_73-2-As6d.As3c.As1a.Bi6d.Bi3c.Bi1a', 'runs_2/spg73/I/I5Tl3/xxx_02a-00_73-2-I6d.I3c.I1a.Tl3c.Tl2b.Tl1a', 'runs_2/spg73/Be/BeCl2/xxx_02a-00_73-2-Be2b.Cl3c.Cl1a', 'runs_2/spg73/Ag/Ag2Te3/xxx_02a-00_73-2-Ag6d.Ag2b.Te6d.Te3c.Te2b.Te1a', 'runs_2/spg73/Ti/Ti5Se9/xxx_02a-00_73-2-Ti3c.Ti2b.Se6d.Se3c', 'runs_2/spg73/Ba/BaTl2/xxx_02a-00_73-2-Ba2b.Ba1a.Tl3c.Tl2b.Tl1a', 'runs_2/spg73/N/N5Mo3/xxx_02a-00_73-2-N3c.N2b.Mo2b.Mo1a', 'runs_2/spg73/S/S9Pd8/xxx_02a-00_73-2-S6d.S2b.S1a.Pd6d.Pd2b', 'runs_2/spg73/As/As3Ta2/xxx_02a-00_73-2-As6d.As2b.As1a.Ta3c.Ta2b.Ta1a', 'runs_2/spg73/Br/Br4Pd/xxx_02a-00_73-2-Br3c.Br1a.Pd1a', 'runs_2/spg73/N/N11Re5/xxx_02a-00_73-2-N6d.N3c.N2b.Re3c.Re2b', 'runs_2/spg73/S/S8Mn7/xxx_02a-00_73-2-S6d.S2b.Mn6d.Mn1a', 'runs_2/spg73/As/AsY/xxx_02a-00_73-2-As6d.As2b.As1a.Y6d.Y2b.Y1a', 'runs_2/spg73/B/BCl3/xxx_02a-00_73-2-B3c.Cl6d.Cl3c', 'runs_2/spg73/As/As2Mo/xxx_02a-00_73-2-As6d.As3c.As2b.As1a.Mo6d', 'runs_2/spg73/I/I10Ta3/xxx_02a-00_73-2-I6d.I3c.I1a.Ta2b.Ta1a', 'runs_2/spg73/As/AsIn/xxx_02a-00_73-2-As3c.As2b.In3c.In2b', 'runs_2/spg73/F/F5Os/xxx_02a-00_73-2-F3c.F2b.Os1a', 'runs_2/spg73/As/As4Nb3/xxx_02a-00_73-2-As6d.As2b.Nb6d', 'runs_2/spg73/O/O2Au3/xxx_02a-00_73-2-O3c.O1a.Au3c.Au2b.Au1a', 'runs_2/spg73/Ag/Ag2Te/xxx_02a-00_73-2-Ag3c.Ag2b.Ag1a.Te2b.Te1a', 'runs_2/spg73/F/F9In4/xxx_02a-00_73-2-F6d.F2b.F1a.In3c.In1a', 'runs_2/spg73/As/AsEu/xxx_02a-00_73-2-As3c.As2b.Eu3c.Eu2b', 'runs_2/spg73/As/As7Nb9/xxx_02a-00_73-2-As6d.As1a.Nb6d.Nb2b.Nb1a', 'runs_2/spg73/P/P8Fe9/xxx_02a-00_73-2-P6d.P2b.Fe6d.Fe3c', 'runs_2/spg73/O/O11Tl10/xxx_02a-00_73-2-O6d.O3c.O2b.Tl6d.Tl3c.Tl1a', 'runs_2/spg73/I/I5Ta2/xxx_02a-00_73-2-I6d.I3c.I1a.Ta3c.Ta1a', 'runs_2/spg73/F/F5Tl3/xxx_02a-00_73-2-F3c.F2b.Tl2b.Tl1a', 'runs_2/spg73/V/V4Se7/xxx_02a-00_73-2-V3c.V1a.Se6d.Se1a', 'runs_2/spg73/Cu/Cu12As5/xxx_02a-00_73-2-Cu6d.Cu3c.Cu2b.Cu1a.As3c.As2b', 'runs_2/spg73/N/N8Co9/xxx_02a-00_73-2-N6d.N2b.Co6d.Co3c', 'runs_2/spg73/I/I5Au2/xxx_02a-00_73-2-I6d.I3c.I1a.Au3c.Au1a', 'runs_2/spg73/Cl/Cl11In10/xxx_02a-00_73-2-Cl6d.Cl3c.Cl2b.In6d.In3c.In1a', 'runs_2/spg73/S/S5Os2/xxx_02a-00_73-2-S3c.S2b.Os2b', 'runs_2/spg73/B/BI3/xxx_02a-00_73-2-B2b.B1a.I6d.I2b.I1a', 'runs_2/spg73/Br/Br3Ho/xxx_02a-00_73-2-Br6d.Br2b.Br1a.Ho2b.Ho1a', 'runs_2/spg73/S/S11Pt9/xxx_02a-00_73-2-S6d.S3c.S2b.Pt6d.Pt2b.Pt1a', 'runs_2/spg73/V/V3As4/xxx_02a-00_73-2-V6d.V2b.V1a.As6d.As3c.As2b.As1a', 'runs_2/spg73/N/N7Cr4/xxx_02a-00_73-2-N6d.N1a.Cr3c.Cr1a', 'runs_2/spg73/Br/Br3Bi/xxx_02a-00_73-2-Br3c.Bi1a', 'runs_2/spg73/Ag/Ag2Te/xxx_02a-00_73-2-Ag6d.Te2b.Te1a', 'runs_2/spg73/Ag/AgI/xxx_02a-00_73-2-Ag3c.I2b.I1a', 'runs_2/spg73/As/As4Re3/xxx_02a-00_73-2-As3c.As1a.Re3c', 'runs_2/spg73/Nb/NbTl3/xxx_02a-00_73-2-Nb2b.Nb1a.Tl6d.Tl3c', 'runs_2/spg73/Fe/Fe4Te5/xxx_02a-00_73-2-Fe6d.Fe2b.Te6d.Te3c.Te1a', 'runs_2/spg73/Cu/CuI/xxx_02p-00_73-2-Cu6d.Cu3c.I6d.I3c', 'runs_2/spg73/Nb/Nb2Tl5/xxx_02a-00_73-2-Nb3c.Nb1a.Tl6d.Tl3c.Tl1a', 'runs_2/spg73/Br/Br3La/xxx_02a-00_73-2-Br6d.La2b', 'runs_2/spg73/S/S6Pd5/xxx_02a-00_73-2-S3c.S2b.S1a.Pd3c.Pd2b', 'runs_2/spg73/S/S12Ru5/xxx_02a-00_73-2-S6d.S3c.S2b.S1a.Ru3c.Ru2b', 'runs_2/spg73/Cr/Cr4Te9/xxx_02a-00_73-2-Cr3c.Cr1a.Te6d.Te2b.Te1a', 'runs_2/spg73/Ti/TiI4/xxx_02a-00_73-2-Ti1a.I3c.I1a', 'runs_2/spg73/In/In3I8/xxx_02a-00_73-2-In2b.In1a.I6d.I2b', 'runs_2/spg73/As/As4Ta3/xxx_02a-00_73-2-As3c.As1a.Ta2b.Ta1a', 'runs_2/spg73/I/I8Ta3/xxx_02a-00_73-2-I6d.I2b.Ta2b.Ta1a', 'runs_2/spg73/Be/BeCl2/xxx_02a-00_73-2-Be2b.Be1a.Cl3c.Cl2b.Cl1a', 'runs_2/spg73/S/S4Fe3/xxx_02a-00_73-2-S3c.S1a.Fe2b.Fe1a', 'runs_2/spg73/N/N7Pd9/xxx_02a-00_73-2-N6d.N1a.Pd6d.Pd2b.Pd1a', 'runs_2/spg73/As/AsAg/xxx_02a-00_73-2-As2b.As1a.Ag2b.Ag1a', 'runs_2/spg73/Cr/Cr4Br9/xxx_02a-00_73-2-Cr3c.Cr1a.Br6d.Br3c', 'runs_2/spg73/In/In5Tl12/xxx_02a-00_73-2-In3c.In2b.Tl6d.Tl3c.Tl2b.Tl1a', 'runs_2/spg73/Cl/Cl12Mn5/xxx_02a-00_73-2-Cl6d.Cl3c.Cl2b.Cl1a.Mn3c.Mn2b', 'runs_2/spg73/Cu/Cu6Br7/xxx_02a-00_73-2-Cu3c.Cu2b.Cu1a.Br6d.Br1a', 'runs_2/spg73/Co/Co11Se12/xxx_02a-00_73-2-Co6d.Co3c.Co2b.Se6d.Se3c.Se2b.Se1a', 'runs_2/spg73/Al/Al2Te3/xxx_02a-00_73-2-Al2b.Te2b.Te1a', 'runs_2/spg73/Se/Se9Pd5/xxx_02a-00_73-2-Se6d.Se3c.Pd3c.Pd2b', 'runs_2/spg73/Co/CoTe/xxx_02p-00_73-2-Co6d.Co2b.Co1a.Te6d.Te2b.Te1a', 'runs_2/spg73/Br/Br4Ce/xxx_02a-00_73-2-Br3c.Br1a.Ce1a', 'runs_2/spg73/I/I6Tl5/xxx_02a-00_73-2-I6d.I3c.I2b.I1a.Tl6d.Tl3c.Tl1a', 'runs_2/spg73/V/V9As7/xxx_02a-00_73-2-V6d.V3c.As6d.As1a', 'runs_2/spg73/Te/Te4Ta3/xxx_02a-00_73-2-Te6d.Te3c.Te2b.Te1a.Ta6d.Ta3c', 'runs_2/spg73/As/As2Hg3/xxx_02a-00_73-2-As2b.Hg2b.Hg1a', 'runs_2/spg73/As/AsIn3/xxx_02a-00_73-2-As2b.As1a.In6d.In3c', 'runs_2/spg73/S/S3Ag4/xxx_02a-00_73-2-S6d.Ag6d.Ag2b', 'runs_2/spg73/Br/Br8Os/xxx_02a-00_73-2-Br6d.Br2b.Os1a', 'runs_2/spg73/As/AsBi/xxx_02a-00_73-2-As2b.As1a.Bi3c', 'runs_2/spg73/Br/Br4Rh/xxx_02a-00_73-2-Br6d.Br2b.Rh2b', 'runs_2/spg73/S/S7Ag12/xxx_02a-00_73-2-S6d.S1a.Ag6d.Ag3c.Ag2b.Ag1a', 'runs_2/spg73/Br/Br3Er/xxx_02a-00_73-2-Br2b.Br1a.Er1a', 'runs_2/spg73/N/N9Fe7/xxx_02a-00_73-2-N6d.N2b.N1a.Fe6d.Fe1a', 'runs_2/spg73/S/S9Mo4/xxx_02a-00_73-2-S6d.S2b.S1a.Mo3c.Mo1a', 'runs_2/spg73/N/N7Cr5/xxx_02a-00_73-2-N6d.N1a.Cr3c.Cr2b', 'runs_2/spg73/V/V9As7/xxx_02a-00_73-2-V6d.V2b.V1a.As6d.As1a', 'runs_2/spg73/Cl/Cl5Tl2/xxx_02a-00_73-2-Cl6d.Cl3c.Cl1a.Tl3c.Tl1a', 'runs_2/spg73/Se/Se12Ru5/xxx_02a-00_73-2-Se6d.Se3c.Se2b.Se1a.Ru3c.Ru2b', 'runs_2/spg73/Se/Se4Ag5/xxx_02a-00_73-2-Se6d.Se2b.Ag6d.Ag3c.Ag1a', 'runs_2/spg73/Se/Se7Tl12/xxx_02a-00_73-2-Se6d.Se1a.Tl6d.Tl3c.Tl2b.Tl1a']\n"
     ]
    },
    {
     "name": "stderr",
     "output_type": "stream",
     "text": [
      " 32%|██████████████████████████████████████████████████████████████████████████████▊                                                                                                                                                                           | 29/92 [08:48<54:00, 51.44s/it]"
     ]
    },
    {
     "name": "stdout",
     "output_type": "stream",
     "text": [
      "Length batch: 792\n",
      "['runs_3/spg05/Br/BrTeHo/xxx_02a-00_5-3-Br2a.Te2a.Ho2a', 'runs_3/spg05/F/FSeIn/xxx_02a-00_5-3-F2a.Se2a.In2a', 'runs_3/spg05/Sb/SbTeI/xxx_02a-00_5-3-Sb2a.Te2a.I2a', 'runs_3/spg05/N/NFW/xxx_02a-00_5-3-N2a.F2a.W2a', 'runs_3/spg05/F/FSHo/xxx_02a-00_5-3-F2a.S2a.Ho2a', 'runs_3/spg05/N/NFPd/xxx_02a-00_5-3-N2a.F2a.Pd2a', 'runs_3/spg05/O/OClFe/xxx_02a-00_5-3-O2a.Cl2a.Fe2a', 'runs_3/spg05/O/OInAu/xxx_02a-00_5-3-O2a.In2a.Au2a', 'runs_3/spg05/Cl/ClTeHo/xxx_02a-00_5-3-Cl2a.Te2a.Ho2a', 'runs_3/spg05/N/NMnBr/xxx_02a-00_5-3-N2a.Mn2a.Br2a', 'runs_3/spg05/N/NKCo/xxx_02a-00_5-3-N2a.K2a.Co2a', 'runs_3/spg05/S/SClRh/xxx_02a-00_5-3-S2a.Cl2a.Rh2a', 'runs_3/spg05/N/NMnCs/xxx_02a-00_5-3-N2a.Mn2a.Cs2a', 'runs_3/spg05/F/FBrTa/xxx_02a-00_5-3-F2a.Br2a.Ta2a', 'runs_3/spg05/O/OSFe/xxx_02a-00_5-3-O2a.S2a.Fe2a', 'runs_3/spg05/Na/NaAsSr/xxx_02a-00_5-3-Na2a.As2a.Sr2a', 'runs_3/spg05/Cl/ClCrTe/xxx_02a-00_5-3-Cl2a.Cr2a.Te2a', 'runs_3/spg05/S/SClCo/xxx_02a-00_5-3-S2a.Cl2a.Co2a', 'runs_3/spg05/P/PVI/xxx_02a-00_5-3-P2a.V2a.I2a', 'runs_3/spg05/P/PKSr/xxx_02a-00_5-3-P2a.K2a.Sr2a', 'runs_3/spg05/F/FSiAs/xxx_02a-00_5-3-F2a.Si2a.As2a', 'runs_3/spg05/Li/LiPBa/xxx_02a-00_5-3-Li2a.P2a.Ba2a', 'runs_3/spg05/F/FBrIn/xxx_02a-00_5-3-F2a.Br2a.In2a', 'runs_3/spg05/Cl/ClZnBr/xxx_02a-00_5-3-Cl2a.Zn2a.Br2a', 'runs_3/spg05/Fe/FeAsI/xxx_02a-00_5-3-Fe2a.As2a.I2a', 'runs_3/spg05/N/NFCe/xxx_02a-00_5-3-N2a.F2a.Ce2a', 'runs_3/spg05/Se/SeIBi/xxx_02a-00_5-3-Se2a.I2a.Bi2a', 'runs_3/spg05/F/FTiSe/xxx_02a-00_5-3-F2a.Ti2a.Se2a', 'runs_3/spg05/Li/LiSeAu/xxx_02a-00_5-3-Li2a.Se2a.Au2a', 'runs_3/spg05/O/ODyTl/xxx_02a-00_5-3-O2a.Dy2a.Tl2a', 'runs_3/spg05/Li/LiPHg/xxx_02a-00_5-3-Li2a.P2a.Hg2a', 'runs_3/spg05/N/NSRu/xxx_02a-00_5-3-N2a.S2a.Ru2a', 'runs_3/spg05/N/NClMo/xxx_02a-00_5-3-N2a.Cl2a.Mo2a', 'runs_3/spg05/N/NCoAg/xxx_02a-00_5-3-N2a.Co2a.Ag2a', 'runs_3/spg05/Na/NaSTl/xxx_02a-00_5-3-Na2a.S2a.Tl2a', 'runs_3/spg05/S/SCsTl/xxx_02a-00_5-3-S2a.Cs2a.Tl2a', 'runs_3/spg05/P/PCoAg/xxx_02a-00_5-3-P2a.Co2a.Ag2a', 'runs_3/spg05/Li/LiPCo/xxx_02a-00_5-3-Li2a.P2a.Co2a', 'runs_3/spg05/In/InTeTl/xxx_02a-00_5-3-In2a.Te2a.Tl2a', 'runs_3/spg05/N/NITa/xxx_02a-00_5-3-N2a.I2a.Ta2a', 'runs_3/spg05/Na/NaSeAg/xxx_02a-00_5-3-Na2a.Se2a.Ag2a', 'runs_3/spg05/N/NVIn/xxx_02a-00_5-3-N2a.V2a.In2a', 'runs_3/spg05/S/SIIr/xxx_02a-00_5-3-S2a.I2a.Ir2a', 'runs_3/spg05/F/FClCr/xxx_02a-00_5-3-F2a.Cl2a.Cr2a']\n"
     ]
    },
    {
     "name": "stderr",
     "output_type": "stream",
     "text": [
      " 33%|█████████████████████████████████████████████████████████████████████████████████▌                                                                                                                                                                        | 30/92 [08:52<38:25, 37.18s/it]"
     ]
    },
    {
     "name": "stdout",
     "output_type": "stream",
     "text": [
      "Length batch: 799\n",
      "['runs_3/spg09/N/NCsTa/xxx_02a-00_9-3-N2a.Cs2a.Ta2a', 'runs_3/spg09/N/NCuIn/xxx_02a-00_9-3-N2a.Cu2a.In2a', 'runs_3/spg09/N/NCuPd/xxx_02a-00_9-3-N2a.Cu2a.Pd2a', 'runs_3/spg09/Se/SeYI/xxx_02a-00_9-3-Se2a.Y2a.I2a', 'runs_3/spg09/N/NZnIn/xxx_02a-00_9-3-N2a.Zn2a.In2a', 'runs_3/spg09/Cl/ClNbTl/xxx_02a-00_9-3-Cl2a.Nb2a.Tl2a', 'runs_3/spg09/O/OITb/xxx_02a-00_9-3-O2a.I2a.Tb2a', 'runs_3/spg09/O/OSMn/xxx_02a-00_9-3-O2a.S2a.Mn2a', 'runs_3/spg09/N/NSiBr/xxx_02a-00_9-3-N2a.Si2a.Br2a', 'runs_3/spg09/Co/CoCuAs/xxx_02a-00_9-3-Co2a.Cu2a.As2a', 'runs_3/spg09/Li/LiSK/xxx_02a-00_9-3-Li2a.S2a.K2a', 'runs_3/spg09/P/PCuAg/xxx_02a-00_9-3-P2a.Cu2a.Ag2a', 'runs_3/spg09/Be/BeFBr/xxx_02a-00_9-3-Be2a.F2a.Br2a', 'runs_3/spg09/Br/BrTaTl/xxx_02a-00_9-3-Br2a.Ta2a.Tl2a', 'runs_3/spg09/S/SClSb/xxx_02a-00_9-3-S2a.Cl2a.Sb2a', 'runs_3/spg09/S/SILa/xxx_02a-00_9-3-S2a.I2a.La2a', 'runs_3/spg09/O/OFV/xxx_02a-00_9-3-O2a.F2a.V2a', 'runs_3/spg09/Cr/CrSeTe/xxx_02a-00_9-3-Cr2a.Se2a.Te2a', 'runs_3/spg09/P/PTlPb/xxx_02a-00_9-3-P2a.Tl2a.Pb2a', 'runs_3/spg09/Be/BeNRb/xxx_02a-00_9-3-Be2a.N2a.Rb2a', 'runs_3/spg09/P/PCoCu/xxx_02a-00_9-3-P2a.Co2a.Cu2a', 'runs_3/spg09/N/NTiTl/xxx_02a-00_9-3-N2a.Ti2a.Tl2a', 'runs_3/spg09/P/PTiBr/xxx_02a-00_9-3-P2a.Ti2a.Br2a', 'runs_3/spg09/S/SCuTl/xxx_02a-00_9-3-S2a.Cu2a.Tl2a', 'runs_3/spg09/Cr/CrCuAs/xxx_02a-00_9-3-Cr2a.Cu2a.As2a', 'runs_3/spg09/F/FSSc/xxx_02a-00_9-3-F2a.S2a.Sc2a', 'runs_3/spg09/N/NNaPt/xxx_02a-00_9-3-N2a.Na2a.Pt2a', 'runs_3/spg09/F/FSeEr/xxx_02a-00_9-3-F2a.Se2a.Er2a', 'runs_3/spg09/N/NRhI/xxx_02a-00_9-3-N2a.Rh2a.I2a', 'runs_3/spg09/Br/BrCdI/xxx_02a-00_9-3-Br2a.Cd2a.I2a', 'runs_3/spg09/P/PTeRe/xxx_02a-00_9-3-P2a.Te2a.Re2a', 'runs_3/spg09/Be/BeNAg/xxx_02a-00_9-3-Be2a.N2a.Ag2a']\n"
     ]
    },
    {
     "name": "stderr",
     "output_type": "stream",
     "text": [
      " 34%|████████████████████████████████████████████████████████████████████████████████████▏                                                                                                                                                                     | 31/92 [08:54<27:13, 26.77s/it]"
     ]
    },
    {
     "name": "stdout",
     "output_type": "stream",
     "text": [
      "Length batch: 1706\n",
      "['runs_3/spg12/Li/LiPCu/xxx_02a-00_12-3-Li2a.P2a.Cu2a', 'runs_3/spg12/O/OClTl/xxx_02a-00_12-3-O2a.Cl2a.Tl2a', 'runs_3/spg12/Cr/CrAsTe/xxx_02a-00_12-3-Cr2a.As2a.Te2a', 'runs_3/spg12/P/PIHf/xxx_02a-00_12-3-P2a.I2a.Hf2a', 'runs_3/spg12/Li/LiNPd/xxx_02a-00_12-3-Li2a.N2a.Pd2a', 'runs_3/spg12/Te/TeNdTl/xxx_02a-00_12-3-Te2a.Nd2a.Tl2a', 'runs_3/spg12/N/NPtAu/xxx_02a-00_12-3-N2a.Pt2a.Au2a', 'runs_3/spg12/P/PVI/xxx_02a-00_12-3-P2a.V2a.I2a', 'runs_3/spg12/F/FPdI/xxx_02a-00_12-3-F2a.Pd2a.I2a', 'runs_3/spg12/K/KCuTe/xxx_02a-00_12-3-K2a.Cu2a.Te2a', 'runs_3/spg12/S/SCuAg/xxx_02a-00_12-3-S2a.Cu2a.Ag2a', 'runs_3/spg12/F/FBrSr/xxx_02a-00_12-3-F2a.Br2a.Sr2a', 'runs_3/spg12/Na/NaTeCs/xxx_02a-00_12-3-Na2a.Te2a.Cs2a', 'runs_3/spg12/S/SAgTl/xxx_02a-00_12-3-S2a.Ag2a.Tl2a', 'runs_3/spg12/Cl/ClCdTl/xxx_02a-00_12-3-Cl2a.Cd2a.Tl2a', 'runs_3/spg12/Mn/MnSeTl/xxx_02a-00_12-3-Mn2a.Se2a.Tl2a', 'runs_3/spg12/Ti/TiAsBr/xxx_02a-00_12-3-Ti2a.As2a.Br2a', 'runs_3/spg12/P/PTaTl/xxx_02a-00_12-3-P2a.Ta2a.Tl2a', 'runs_3/spg12/Br/BrTeHo/xxx_02a-00_12-3-Br2a.Te2a.Ho2a', 'runs_3/spg12/Li/LiZnAs/xxx_02a-00_12-3-Li2a.Zn2a.As2a', 'runs_3/spg12/O/OAlI/xxx_02a-00_12-3-O2a.Al2a.I2a', 'runs_3/spg12/Li/LiNV/xxx_02a-00_12-3-Li2a.N2a.V2a', 'runs_3/spg12/As/AsZrTl/xxx_02a-00_12-3-As2a.Zr2a.Tl2a', 'runs_3/spg12/Na/NaAsPb/xxx_02a-00_12-3-Na2a.As2a.Pb2a', 'runs_3/spg12/Br/BrTeEr/xxx_02a-00_12-3-Br2a.Te2a.Er2a', 'runs_3/spg12/S/SSeRe/xxx_02a-00_12-3-S2a.Se2a.Re2a', 'runs_3/spg12/N/NRbCd/xxx_02a-00_12-3-N2a.Rb2a.Cd2a', 'runs_3/spg12/N/NKBa/xxx_02a-00_12-3-N2a.K2a.Ba2a', 'runs_3/spg12/O/OFeI/xxx_02a-00_12-3-O2a.Fe2a.I2a', 'runs_3/spg12/N/NZnTl/xxx_02a-00_12-3-N2a.Zn2a.Tl2a', 'runs_3/spg12/Ni/NiSeI/xxx_02a-00_12-3-Ni2a.Se2a.I2a', 'runs_3/spg12/Na/NaSIn/xxx_02a-00_12-3-Na2a.S2a.In2a', 'runs_3/spg12/Ag/AgTeCs/xxx_02a-00_12-3-Ag2a.Te2a.Cs2a', 'runs_3/spg12/Te/TeILu/xxx_02a-00_12-3-Te2a.I2a.Lu2a', 'runs_3/spg12/V/VBrTe/xxx_02a-00_12-3-V2a.Br2a.Te2a', 'runs_3/spg12/O/OSTi/xxx_02a-00_12-3-O2a.S2a.Ti2a', 'runs_3/spg12/Br/BrAgTe/xxx_02a-00_12-3-Br2a.Ag2a.Te2a', 'runs_3/spg12/S/SClSm/xxx_02a-00_12-3-S2a.Cl2a.Sm2a', 'runs_3/spg12/O/OSTa/xxx_02a-00_12-3-O2a.S2a.Ta2a', 'runs_3/spg12/N/NClGe/xxx_02a-00_12-3-N2a.Cl2a.Ge2a', 'runs_3/spg12/O/OIIr/xxx_02a-00_12-3-O2a.I2a.Ir2a', 'runs_3/spg12/K/KTeTl/xxx_02a-00_12-3-K2a.Te2a.Tl2a', 'runs_3/spg12/O/ONaAg/xxx_02a-00_12-3-O2a.Na2a.Ag2a', 'runs_3/spg12/N/NCoCu/xxx_02a-00_12-3-N2a.Co2a.Cu2a', 'runs_3/spg12/F/FSIn/xxx_02a-00_12-3-F2a.S2a.In2a', 'runs_3/spg12/F/FTeLu/xxx_02a-00_12-3-F2a.Te2a.Lu2a', 'runs_3/spg12/Be/BeNCu/xxx_02a-00_12-3-Be2a.N2a.Cu2a', 'runs_3/spg12/Ni/NiBrI/xxx_02a-00_12-3-Ni2a.Br2a.I2a', 'runs_3/spg12/N/NKPt/xxx_02a-00_12-3-N2a.K2a.Pt2a', 'runs_3/spg12/N/NVBr/xxx_02a-00_12-3-N2a.V2a.Br2a', 'runs_3/spg12/S/SClGa/xxx_02a-00_12-3-S2a.Cl2a.Ga2a', 'runs_3/spg12/P/PRbPb/xxx_02a-00_12-3-P2a.Rb2a.Pb2a', 'runs_3/spg12/P/PKCo/xxx_02a-00_12-3-P2a.K2a.Co2a', 'runs_3/spg12/N/NSrAu/xxx_02a-00_12-3-N2a.Sr2a.Au2a', 'runs_3/spg12/Cl/ClCaTl/xxx_02a-00_12-3-Cl2a.Ca2a.Tl2a', 'runs_3/spg12/Li/LiNaSe/xxx_02a-00_12-3-Li2a.Na2a.Se2a', 'runs_3/spg12/P/PCrTe/xxx_02a-00_12-3-P2a.Cr2a.Te2a', 'runs_3/spg12/Te/TeIDy/xxx_02a-00_12-3-Te2a.I2a.Dy2a', 'runs_3/spg12/O/OAlTl/xxx_02a-00_12-3-O2a.Al2a.Tl2a', 'runs_3/spg12/As/AsITa/xxx_02a-00_12-3-As2a.I2a.Ta2a', 'runs_3/spg12/F/FClV/xxx_02a-00_12-3-F2a.Cl2a.V2a', 'runs_3/spg12/Be/BeITl/xxx_02a-00_12-3-Be2a.I2a.Tl2a', 'runs_3/spg12/O/OFBi/xxx_02a-00_12-3-O2a.F2a.Bi2a', 'runs_3/spg12/O/OPCr/xxx_02a-00_12-3-O2a.P2a.Cr2a', 'runs_3/spg12/F/FMnTl/xxx_02a-00_12-3-F2a.Mn2a.Tl2a', 'runs_3/spg12/S/SErTl/xxx_02a-00_12-3-S2a.Er2a.Tl2a', 'runs_3/spg12/N/NOTa/xxx_02a-00_12-3-N2a.O2a.Ta2a']\n"
     ]
    },
    {
     "name": "stderr",
     "output_type": "stream",
     "text": [
      " 35%|██████████████████████████████████████████████████████████████████████████████████████▎                                                                                                                                                                 | 32/92 [12:37<1:25:40, 85.67s/it]"
     ]
    },
    {
     "name": "stdout",
     "output_type": "stream",
     "text": [
      "Length batch: 11162\n",
      "['runs_3/spg13/As/As2Ag3Tm/xxx_02a-00_13-3-As4b.Ag4b.Ag2a.Tm2a', 'runs_3/spg13/As/As2In3Bi/xxx_02a-00_13-3-As4b.In4b.In2a.Bi2a', 'runs_3/spg13/Al/AlFeTe3/xxx_02a-00_13-3-Al2a.Fe2a.Te4b.Te2a', 'runs_3/spg13/S/S3Ge2I2/xxx_02a-00_13-3-S4b.S2a.Ge4b.I4b', 'runs_3/spg13/Ag/AgI3Pt/xxx_02a-00_13-3-Ag2a.I4b.I2a.Pt2a', 'runs_3/spg13/Cl/Cl2Cd3Te2/xxx_02a-00_13-3-Cl4b.Cd4b.Cd2a.Te4b', 'runs_3/spg13/Mg/MgAs2Cd2/xxx_02a-00_13-3-Mg2a.As4b.Cd4b', 'runs_3/spg13/Cr/CrAsBr/xxx_02a-00_13-3-Cr4b.Cr2a.As4b.As2a.Br4b.Br2a', 'runs_3/spg13/P/PIW/xxx_02a-00_13-3-P2a.I2a.W2a', 'runs_3/spg13/Pd/PdAgI3/xxx_02a-00_13-3-Pd2a.Ag2a.I4b.I2a', 'runs_3/spg13/Li/LiTe2Dy/xxx_02a-00_13-3-Li2a.Te4b.Dy2a', 'runs_3/spg13/Be/BeKAs/xxx_02a-00_13-3-Be2a.K2a.As2a', 'runs_3/spg13/As/As2EuTl3/xxx_02a-00_13-3-As4b.Eu2a.Tl4b.Tl2a', 'runs_3/spg13/Br/Br2HoTl/xxx_02a-00_13-3-Br4b.Ho2a.Tl2a', 'runs_3/spg13/Cu/CuZnAs/xxx_02a-00_13-3-Cu4b.Zn4b.As4b', 'runs_3/spg13/Na/Na2CuAs/xxx_02a-00_13-3-Na4b.Cu2a.As2a', 'runs_3/spg13/Te/TeI2W/xxx_02a-00_13-3-Te2a.I4b.W2a', 'runs_3/spg13/Ca/CaV2Te3/xxx_02a-00_13-3-Ca2a.V4b.Te4b.Te2a', 'runs_3/spg13/Br/BrInI/xxx_02a-00_13-3-Br4b.In4b.I4b', 'runs_3/spg13/Mg/Mg2ZnAs2/xxx_02a-00_13-3-Mg4b.Zn2a.As4b', 'runs_3/spg13/B/BAgTe3/xxx_02a-00_13-3-B2a.Ag2a.Te4b.Te2a', 'runs_3/spg13/O/OFRb3/xxx_02a-00_13-3-O2a.F2a.Rb4b.Rb2a', 'runs_3/spg13/Mn/MnRb2Te3/xxx_02a-00_13-3-Mn2a.Rb4b.Te4b.Te2a', 'runs_3/spg13/B/BP2Sc/xxx_02a-00_13-3-B2a.P4b.Sc2a', 'runs_3/spg13/Ni/NiZrTe3/xxx_02a-00_13-3-Ni2a.Zr2a.Te4b.Te2a', 'runs_3/spg13/Cl/Cl3Co3As/xxx_02a-00_13-3-Cl4b.Cl2a.Co4b.Co2a.As2a', 'runs_3/spg13/Mn/MnNiAs3/xxx_02a-00_13-3-Mn2a.Ni2a.As4b.As2a', 'runs_3/spg13/Se/Se3SbNd/xxx_02a-00_13-3-Se4b.Se2a.Sb2a.Nd2a', 'runs_3/spg13/P/P3Ag3W/xxx_02a-00_13-3-P4b.P2a.Ag4b.Ag2a.W2a', 'runs_3/spg13/Mg/MgSe3Pb2/xxx_02a-00_13-3-Mg2a.Se4b.Se2a.Pb4b', 'runs_3/spg13/K/KI3Tl2/xxx_02a-00_13-3-K2a.I4b.I2a.Tl4b', 'runs_3/spg13/Cu/Cu3ZnAs2/xxx_02a-00_13-3-Cu4b.Cu2a.Zn2a.As4b', 'runs_3/spg13/Te/TeCeTl2/xxx_02a-00_13-3-Te2a.Ce2a.Tl4b', 'runs_3/spg13/F/F3BrIr/xxx_02a-00_13-3-F4b.F2a.Br2a.Ir2a', 'runs_3/spg13/Se/Se2AgIn3/xxx_02a-00_13-3-Se4b.Ag2a.In4b.In2a', 'runs_3/spg13/S/S2ClIn3/xxx_02a-00_13-3-S4b.Cl2a.In4b.In2a', 'runs_3/spg13/V/VMn2As3/xxx_02a-00_13-3-V2a.Mn4b.As4b.As2a', 'runs_3/spg13/Ge/GeAs2Rb2/xxx_02a-00_13-3-Ge2a.As4b.Rb4b', 'runs_3/spg13/Ni/Ni2Se3Sn/xxx_02a-00_13-3-Ni4b.Se4b.Se2a.Sn2a', 'runs_3/spg13/V/VAs3In2/xxx_02a-00_13-3-V2a.As4b.As2a.In4b', 'runs_3/spg13/Li/LiPPb/xxx_02a-00_13-3-Li4b.Li2a.P4b.P2a.Pb4b.Pb2a', 'runs_3/spg13/S/SClTl3/xxx_02a-00_13-3-S2a.Cl2a.Tl4b.Tl2a', 'runs_3/spg13/Be/BeAs3Re/xxx_02a-00_13-3-Be2a.As4b.As2a.Re2a', 'runs_3/spg13/Cu/CuTe2Tm/xxx_02a-00_13-3-Cu2a.Te4b.Tm2a', 'runs_3/spg13/Cl/Cl2RuI/xxx_02a-00_13-3-Cl4b.Ru2a.I2a', 'runs_3/spg13/Ca/CaCuSe2/xxx_02a-00_13-3-Ca2a.Cu2a.Se4b', 'runs_3/spg13/Se/Se3NdTl/xxx_02a-00_13-3-Se4b.Se2a.Nd2a.Tl2a', 'runs_3/spg13/Cu/CuInTe/xxx_02a-00_13-3-Cu4b.In4b.Te4b', 'runs_3/spg13/S/S3Br2Nb2/xxx_02a-00_13-3-S4b.S2a.Br4b.Nb4b', 'runs_3/spg13/S/SNi3Te3/xxx_02a-00_13-3-S2a.Ni4b.Ni2a.Te4b.Te2a', 'runs_3/spg13/Se/Se3Ag3In/xxx_02a-00_13-3-Se4b.Se2a.Ag4b.Ag2a.In2a', 'runs_3/spg13/F/F3AsSn3/xxx_02a-00_13-3-F4b.F2a.As2a.Sn4b.Sn2a', 'runs_3/spg13/Na/NaSe3Ru/xxx_02a-00_13-3-Na2a.Se4b.Se2a.Ru2a', 'runs_3/spg13/K/K3Te3La/xxx_02a-00_13-3-K4b.K2a.Te4b.Te2a.La2a', 'runs_3/spg13/In/In3TeI3/xxx_02a-00_13-3-In4b.In2a.Te2a.I4b.I2a', 'runs_3/spg13/Ti/TiTe3Lu/xxx_02a-00_13-3-Ti2a.Te4b.Te2a.Lu2a', 'runs_3/spg13/Be/BeMnAs3/xxx_02a-00_13-3-Be2a.Mn2a.As4b.As2a', 'runs_3/spg13/F/FMgI/xxx_02a-00_13-3-F4b.Mg4b.I4b', 'runs_3/spg13/As/As3La2Ho/xxx_02a-00_13-3-As4b.As2a.La4b.Ho2a', 'runs_3/spg13/Ag/AgTe3Cs3/xxx_02a-00_13-3-Ag2a.Te4b.Te2a.Cs4b.Cs2a', 'runs_3/spg13/P/P3CuGe2/xxx_02a-00_13-3-P4b.P2a.Cu2a.Ge4b', 'runs_3/spg13/N/NCd3Tl3/xxx_02a-00_13-3-N2a.Cd4b.Cd2a.Tl4b.Tl2a', 'runs_3/spg13/V/V2CrAs3/xxx_02a-00_13-3-V4b.Cr2a.As4b.As2a', 'runs_3/spg13/S/SSe3Pd2/xxx_02a-00_13-3-S2a.Se4b.Se2a.Pd4b', 'runs_3/spg13/S/SSn2Te/xxx_02a-00_13-3-S2a.Sn4b.Te2a', 'runs_3/spg13/Al/AlSe3Y/xxx_02a-00_13-3-Al2a.Se4b.Se2a.Y2a', 'runs_3/spg13/B/BS2Rb/xxx_02a-00_13-3-B2a.S4b.Rb2a', 'runs_3/spg13/S/S3As2Re3/xxx_02a-00_13-3-S4b.S2a.As4b.Re4b.Re2a', 'runs_3/spg13/I/IEuTl2/xxx_02a-00_13-3-I2a.Eu2a.Tl4b', 'runs_3/spg13/B/BFe3As3/xxx_02a-00_13-3-B2a.Fe4b.Fe2a.As4b.As2a', 'runs_3/spg13/N/NMg3Br3/xxx_02a-00_13-3-N2a.Mg4b.Mg2a.Br4b.Br2a', 'runs_3/spg13/K/KBr3Sn/xxx_02a-00_13-3-K2a.Br4b.Br2a.Sn2a', 'runs_3/spg13/F/F3P2Bi3/xxx_02a-00_13-3-F4b.F2a.P4b.Bi4b.Bi2a', 'runs_3/spg13/B/BNa3P2/xxx_02a-00_13-3-B2a.Na4b.Na2a.P4b', 'runs_3/spg13/Fe/FeAs3In3/xxx_02a-00_13-3-Fe2a.As4b.As2a.In4b.In2a', 'runs_3/spg13/As/As2AgTm/xxx_02a-00_13-3-As4b.Ag2a.Tm2a', 'runs_3/spg13/N/N2KAg3/xxx_02a-00_13-3-N4b.K2a.Ag4b.Ag2a', 'runs_3/spg13/Sc/ScSe3Pd/xxx_02a-00_13-3-Sc2a.Se4b.Se2a.Pd2a', 'runs_3/spg13/As/AsBr3Ag2/xxx_02a-00_13-3-As2a.Br4b.Br2a.Ag4b', 'runs_3/spg13/P/P2In3Te/xxx_02a-00_13-3-P4b.In4b.In2a.Te2a', 'runs_3/spg13/As/As3NbBa2/xxx_02a-00_13-3-As4b.As2a.Nb2a.Ba4b', 'runs_3/spg13/Be/BeP2Pb2/xxx_02a-00_13-3-Be2a.P4b.Pb4b', 'runs_3/spg13/Sc/ScGaSe3/xxx_02a-00_13-3-Sc2a.Ga2a.Se4b.Se2a', 'runs_3/spg13/Cl/Cl3Sm2Tl3/xxx_02a-00_13-3-Cl4b.Cl2a.Sm4b.Tl4b.Tl2a', 'runs_3/spg13/F/F2TiI/xxx_02a-00_13-3-F4b.Ti2a.I2a', 'runs_3/spg13/F/FBrTl2/xxx_02a-00_13-3-F2a.Br2a.Tl4b', 'runs_3/spg13/S/S2Cu2Hg/xxx_02a-00_13-3-S4b.Cu4b.Hg2a', 'runs_3/spg13/Cu/CuBr2Cs/xxx_02a-00_13-3-Cu2a.Br4b.Cs2a', 'runs_3/spg13/As/As2MoIn2/xxx_02a-00_13-3-As4b.Mo2a.In4b', 'runs_3/spg13/Co/CoAs2Cd2/xxx_02a-00_13-3-Co2a.As4b.Cd4b', 'runs_3/spg13/C/CN2Ca/xxx_02a-00_13-3-C2a.N4b.Ca2a', 'runs_3/spg13/Cr/CrAs3Cd2/xxx_02a-00_13-3-Cr2a.As4b.As2a.Cd4b', 'runs_3/spg13/V/VBr3Ag/xxx_02a-00_13-3-V2a.Br4b.Br2a.Ag2a', 'runs_3/spg13/F/F3BrRh/xxx_02a-00_13-3-F4b.F2a.Br2a.Rh2a', 'runs_3/spg13/Ca/CaSe3Ta/xxx_02a-00_13-3-Ca2a.Se4b.Se2a.Ta2a', 'runs_3/spg13/Te/TeI3Ta/xxx_02a-00_13-3-Te2a.I4b.I2a.Ta2a', 'runs_3/spg13/S/SClIr/xxx_02a-00_13-3-S4b.Cl4b.Ir4b', 'runs_3/spg13/P/P3Cl3Cr2/xxx_02a-00_13-3-P4b.P2a.Cl4b.Cl2a.Cr4b', 'runs_3/spg13/Cl/Cl2Ni2Te/xxx_02a-00_13-3-Cl4b.Ni4b.Te2a', 'runs_3/spg13/Mn/Mn3AsSe3/xxx_02a-00_13-3-Mn4b.Mn2a.As2a.Se4b.Se2a', 'runs_3/spg13/Cl/Cl3VI/xxx_02a-00_13-3-Cl4b.Cl2a.V2a.I2a', 'runs_3/spg13/Se/Se3HoTm/xxx_02a-00_13-3-Se4b.Se2a.Ho2a.Tm2a', 'runs_3/spg13/As/AsBr3Bi2/xxx_02a-00_13-3-As2a.Br4b.Br2a.Bi4b', 'runs_3/spg13/N/NClHf/xxx_02a-00_13-3-N2a.Cl2a.Hf2a', 'runs_3/spg13/F/FI2Sm/xxx_02a-00_13-3-F2a.I4b.Sm2a', 'runs_3/spg13/As/As3In2Tl3/xxx_02a-00_13-3-As4b.As2a.In4b.Tl4b.Tl2a', 'runs_3/spg13/Al/Al2P3Tm/xxx_02a-00_13-3-Al4b.P4b.P2a.Tm2a', 'runs_3/spg13/Cl/ClBrPb/xxx_02a-00_13-3-Cl4b.Br4b.Pb4b', 'runs_3/spg13/Cr/CrSe3Eu/xxx_02a-00_13-3-Cr2a.Se4b.Se2a.Eu2a', 'runs_3/spg13/Ca/CaVSe3/xxx_02a-00_13-3-Ca2a.V2a.Se4b.Se2a', 'runs_3/spg13/F/F2NbTe/xxx_02a-00_13-3-F4b.Nb2a.Te2a', 'runs_3/spg13/Se/Se3Rb2Zr/xxx_02a-00_13-3-Se4b.Se2a.Rb4b.Zr2a', 'runs_3/spg13/O/OSe2In2/xxx_02a-00_13-3-O2a.Se4b.In4b', 'runs_3/spg13/Li/Li3BTe3/xxx_02a-00_13-3-Li4b.Li2a.B2a.Te4b.Te2a', 'runs_3/spg13/Al/AlTe3Tl/xxx_02a-00_13-3-Al2a.Te4b.Te2a.Tl2a', 'runs_3/spg13/Be/Be3S2Se/xxx_02a-00_13-3-Be4b.Be2a.S4b.Se2a', 'runs_3/spg13/Li/Li3P2Bi/xxx_02a-00_13-3-Li4b.Li2a.P4b.Bi2a', 'runs_3/spg13/Se/Se2RbSb/xxx_02a-00_13-3-Se4b.Rb2a.Sb2a', 'runs_3/spg13/Li/Li3SBr/xxx_02a-00_13-3-Li4b.Li2a.S2a.Br2a', 'runs_3/spg13/F/F3SeAg3/xxx_02a-00_13-3-F4b.F2a.Se2a.Ag4b.Ag2a', 'runs_3/spg13/In/InTe3Eu/xxx_02a-00_13-3-In2a.Te4b.Te2a.Eu2a', 'runs_3/spg13/As/As3MoHo/xxx_02a-00_13-3-As4b.As2a.Mo2a.Ho2a', 'runs_3/spg13/Cl/Cl2Se3Pd2/xxx_02a-00_13-3-Cl4b.Se4b.Se2a.Pd4b', 'runs_3/spg13/Ca/CaBr3Rb/xxx_02a-00_13-3-Ca2a.Br4b.Br2a.Rb2a', 'runs_3/spg13/As/As3In3Tl/xxx_02a-00_13-3-As4b.As2a.In4b.In2a.Tl2a', 'runs_3/spg13/Cl/ClCuI/xxx_02a-00_13-3-Cl2a.Cu2a.I2a', 'runs_3/spg13/N/NMg2I/xxx_02a-00_13-3-N2a.Mg4b.I2a', 'runs_3/spg13/S/S2InTl3/xxx_02a-00_13-3-S4b.In2a.Tl4b.Tl2a', 'runs_3/spg13/Sc/ScSe3Lu/xxx_02a-00_13-3-Sc2a.Se4b.Se2a.Lu2a', 'runs_3/spg13/Se/Se2In3Au/xxx_02a-00_13-3-Se4b.In4b.In2a.Au2a', 'runs_3/spg13/As/AsCd2I/xxx_02a-00_13-3-As2a.Cd4b.I2a', 'runs_3/spg13/Ge/GeSe3Ag2/xxx_02a-00_13-3-Ge2a.Se4b.Se2a.Ag4b', 'runs_3/spg13/Mg/MgI3Tl/xxx_02a-00_13-3-Mg2a.I4b.I2a.Tl2a', 'runs_3/spg13/F/F3CaCs/xxx_02a-00_13-3-F4b.F2a.Ca2a.Cs2a', 'runs_3/spg13/P/PCuSn/xxx_02a-00_13-3-P4b.P2a.Cu4b.Cu2a.Sn4b.Sn2a', 'runs_3/spg13/N/NTiI/xxx_02a-00_13-3-N2a.Ti2a.I2a', 'runs_3/spg13/Mn/Mn2Te3Pb/xxx_02a-00_13-3-Mn4b.Te4b.Te2a.Pb2a', 'runs_3/spg13/K/KAg2I3/xxx_02a-00_13-3-K2a.Ag4b.I4b.I2a', 'runs_3/spg13/F/F3Ga2Br3/xxx_02a-00_13-3-F4b.F2a.Ga4b.Br4b.Br2a', 'runs_3/spg13/P/PTe3Tl3/xxx_02a-00_13-3-P2a.Te4b.Te2a.Tl4b.Tl2a', 'runs_3/spg13/B/B2P3Er/xxx_02a-00_13-3-B4b.P4b.P2a.Er2a', 'runs_3/spg13/As/As2InLa/xxx_02a-00_13-3-As4b.In2a.La2a', 'runs_3/spg13/Cl/ClBrPt/xxx_02a-00_13-3-Cl4b.Br4b.Pt4b', 'runs_3/spg13/K/K2MnTe3/xxx_02a-00_13-3-K4b.Mn2a.Te4b.Te2a', 'runs_3/spg13/In/InTe2Dy/xxx_02a-00_13-3-In2a.Te4b.Dy2a', 'runs_3/spg13/P/P3CoZn3/xxx_02a-00_13-3-P4b.P2a.Co2a.Zn4b.Zn2a', 'runs_3/spg13/Cr/Cr2TeI2/xxx_02a-00_13-3-Cr4b.Te2a.I4b', 'runs_3/spg13/B/BP2Tl3/xxx_02a-00_13-3-B2a.P4b.Tl4b.Tl2a', 'runs_3/spg13/Ti/TiTe3Tb/xxx_02a-00_13-3-Ti2a.Te4b.Te2a.Tb2a', 'runs_3/spg13/Cr/CrSeTe/xxx_02a-00_13-3-Cr2a.Se2a.Te2a', 'runs_3/spg13/Mn/Mn2As3Y/xxx_02a-00_13-3-Mn4b.As4b.As2a.Y2a', 'runs_3/spg13/Ag/AgTe2Tm/xxx_02a-00_13-3-Ag2a.Te4b.Tm2a', 'runs_3/spg13/F/FBrPd/xxx_02a-00_13-3-F4b.Br4b.Pd4b', 'runs_3/spg13/Se/Se2AgAu/xxx_02a-00_13-3-Se4b.Ag2a.Au2a', 'runs_3/spg13/Al/Al2P3Tb/xxx_02a-00_13-3-Al4b.P4b.P2a.Tb2a', 'runs_3/spg13/Cl/Cl3I2Tl3/xxx_02a-00_13-3-Cl4b.Cl2a.I4b.Tl4b.Tl2a', 'runs_3/spg13/N/NCl3Ag2/xxx_02a-00_13-3-N2a.Cl4b.Cl2a.Ag4b', 'runs_3/spg13/B/B3NSe3/xxx_02a-00_13-3-B4b.B2a.N2a.Se4b.Se2a', 'runs_3/spg13/N/N3Ca3Co/xxx_02a-00_13-3-N4b.N2a.Ca4b.Ca2a.Co2a', 'runs_3/spg13/Co/Co2As2Ta/xxx_02a-00_13-3-Co4b.As4b.Ta2a', 'runs_3/spg13/Cu/CuTe2Tl/xxx_02a-00_13-3-Cu2a.Te4b.Tl2a', 'runs_3/spg13/F/FTiI3/xxx_02a-00_13-3-F2a.Ti2a.I4b.I2a', 'runs_3/spg13/Cr/Cr2As3Eu/xxx_02a-00_13-3-Cr4b.As4b.As2a.Eu2a', 'runs_3/spg13/Al/AlSe3Rh/xxx_02a-00_13-3-Al2a.Se4b.Se2a.Rh2a', 'runs_3/spg13/Be/BeP2Co2/xxx_02a-00_13-3-Be2a.P4b.Co4b', 'runs_3/spg13/Al/AlP2Bi/xxx_02a-00_13-3-Al2a.P4b.Bi2a', 'runs_3/spg13/S/SKTl/xxx_02a-00_13-3-S2a.K2a.Tl2a', 'runs_3/spg13/Cu/CuBr3Ba/xxx_02a-00_13-3-Cu2a.Br4b.Br2a.Ba2a', 'runs_3/spg13/P/PCuPb/xxx_02a-00_13-3-P2a.Cu2a.Pb2a', 'runs_3/spg13/P/PBr3Hg3/xxx_02a-00_13-3-P2a.Br4b.Br2a.Hg4b.Hg2a', 'runs_3/spg13/P/P3Ni3Sn/xxx_02a-00_13-3-P4b.P2a.Ni4b.Ni2a.Sn2a', 'runs_3/spg13/Se/Se3PdHg2/xxx_02a-00_13-3-Se4b.Se2a.Pd2a.Hg4b', 'runs_3/spg13/Ti/TiAgTe3/xxx_02a-00_13-3-Ti2a.Ag2a.Te4b.Te2a', 'runs_3/spg13/Mg/Mg3P3Mn/xxx_02a-00_13-3-Mg4b.Mg2a.P4b.P2a.Mn2a', 'runs_3/spg13/Mn/MnBr2Tl/xxx_02a-00_13-3-Mn2a.Br4b.Tl2a', 'runs_3/spg13/P/P2ITl3/xxx_02a-00_13-3-P4b.I2a.Tl4b.Tl2a', 'runs_3/spg13/F/FCl3Cd2/xxx_02a-00_13-3-F2a.Cl4b.Cl2a.Cd4b', 'runs_3/spg13/Se/Se3YAg3/xxx_02a-00_13-3-Se4b.Se2a.Y2a.Ag4b.Ag2a', 'runs_3/spg13/Cl/ClVAs/xxx_02a-00_13-3-Cl2a.V2a.As2a', 'runs_3/spg13/B/BS2Tl/xxx_02a-00_13-3-B2a.S4b.Tl2a', 'runs_3/spg13/As/As2AgW/xxx_02a-00_13-3-As4b.Ag2a.W2a', 'runs_3/spg13/Cl/ClNbTe2/xxx_02a-00_13-3-Cl2a.Nb2a.Te4b', 'runs_3/spg13/Ti/TiSe3Tl2/xxx_02a-00_13-3-Ti2a.Se4b.Se2a.Tl4b', 'runs_3/spg13/Se/Se3SrIn3/xxx_02a-00_13-3-Se4b.Se2a.Sr2a.In4b.In2a', 'runs_3/spg13/Se/Se3InOs/xxx_02a-00_13-3-Se4b.Se2a.In2a.Os2a', 'runs_3/spg13/P/P2ZnIn3/xxx_02a-00_13-3-P4b.Zn2a.In4b.In2a', 'runs_3/spg13/Cr/CrAsBr/xxx_02a-00_13-3-Cr4b.As4b.Br4b', 'runs_3/spg13/N/N3MgCo3/xxx_02a-00_13-3-N4b.N2a.Mg2a.Co4b.Co2a', 'runs_3/spg13/Sr/Sr3Te2I2/xxx_02a-00_13-3-Sr4b.Sr2a.Te4b.I4b', 'runs_3/spg13/Na/Na2P3Co3/xxx_02a-00_13-3-Na4b.P4b.P2a.Co4b.Co2a', 'runs_3/spg13/N/N2NdAu/xxx_02a-00_13-3-N4b.Nd2a.Au2a', 'runs_3/spg13/P/P3Ni2Re/xxx_02a-00_13-3-P4b.P2a.Ni4b.Re2a', 'runs_3/spg13/Cl/ClBrRb2/xxx_02a-00_13-3-Cl2a.Br2a.Rb4b', 'runs_3/spg13/F/F3NbTl2/xxx_02a-00_13-3-F4b.F2a.Nb2a.Tl4b', 'runs_3/spg13/Se/Se3YIn/xxx_02a-00_13-3-Se4b.Se2a.Y2a.In2a', 'runs_3/spg13/Li/Li3AlSe3/xxx_02a-00_13-3-Li4b.Li2a.Al2a.Se4b.Se2a', 'runs_3/spg13/Na/Na3P2Ga/xxx_02a-00_13-3-Na4b.Na2a.P4b.Ga2a', 'runs_3/spg13/Te/TeIEr/xxx_02a-00_13-3-Te4b.I4b.Er4b', 'runs_3/spg13/Co/CoAs3Tl3/xxx_02a-00_13-3-Co2a.As4b.As2a.Tl4b.Tl2a', 'runs_3/spg13/Cu/Cu3Se2Au/xxx_02a-00_13-3-Cu4b.Cu2a.Se4b.Au2a', 'runs_3/spg13/Cl/Cl3SeIn3/xxx_02a-00_13-3-Cl4b.Cl2a.Se2a.In4b.In2a', 'runs_3/spg13/Cl/Cl2VTl/xxx_02a-00_13-3-Cl4b.V2a.Tl2a', 'runs_3/spg13/P/PNi3Te3/xxx_02a-00_13-3-P2a.Ni4b.Ni2a.Te4b.Te2a', 'runs_3/spg13/F/F3Ag2Tl/xxx_02a-00_13-3-F4b.F2a.Ag4b.Tl2a', 'runs_3/spg13/Ag/Ag3Te2Tl/xxx_02a-00_13-3-Ag4b.Ag2a.Te4b.Tl2a', 'runs_3/spg13/Na/NaCl2K/xxx_02a-00_13-3-Na2a.Cl4b.K2a', 'runs_3/spg13/Be/Be2S3Hg/xxx_02a-00_13-3-Be4b.S4b.S2a.Hg2a', 'runs_3/spg13/Mg/Mg2AsI/xxx_02a-00_13-3-Mg4b.As2a.I2a', 'runs_3/spg13/As/As2CsTa/xxx_02a-00_13-3-As4b.Cs2a.Ta2a', 'runs_3/spg13/P/P3Cu3Hf/xxx_02a-00_13-3-P4b.P2a.Cu4b.Cu2a.Hf2a', 'runs_3/spg13/P/P3FeCu3/xxx_02a-00_13-3-P4b.P2a.Fe2a.Cu4b.Cu2a', 'runs_3/spg13/Br/BrSnI/xxx_02a-00_13-3-Br2a.Sn2a.I2a', 'runs_3/spg13/Cl/ClSnI/xxx_02a-00_13-3-Cl2a.Sn2a.I2a', 'runs_3/spg13/Al/AlAs2Nd/xxx_02a-00_13-3-Al2a.As4b.Nd2a', 'runs_3/spg13/P/PSe3Tm3/xxx_02a-00_13-3-P2a.Se4b.Se2a.Tm4b.Tm2a', 'runs_3/spg13/Cl/Cl2AsTl3/xxx_02a-00_13-3-Cl4b.As2a.Tl4b.Tl2a', 'runs_3/spg13/Sc/ScAs3Hg3/xxx_02a-00_13-3-Sc2a.As4b.As2a.Hg4b.Hg2a', 'runs_3/spg13/Cu/Cu2As2Cd/xxx_02a-00_13-3-Cu4b.As4b.Cd2a', 'runs_3/spg13/Fe/FeSe2Au/xxx_02a-00_13-3-Fe2a.Se4b.Au2a', 'runs_3/spg13/Cl/ClSe2Rh/xxx_02a-00_13-3-Cl2a.Se4b.Rh2a', 'runs_3/spg13/As/As2In2Re/xxx_02a-00_13-3-As4b.In4b.Re2a', 'runs_3/spg13/Br/Br3ICe/xxx_02a-00_13-3-Br4b.Br2a.I2a.Ce2a', 'runs_3/spg13/Se/Se2HgTl2/xxx_02a-00_13-3-Se4b.Hg2a.Tl4b', 'runs_3/spg13/Mn/MnCuAs3/xxx_02a-00_13-3-Mn2a.Cu2a.As4b.As2a', 'runs_3/spg13/Fe/FeSe3Sn2/xxx_02a-00_13-3-Fe2a.Se4b.Se2a.Sn4b', 'runs_3/spg13/Br/Br3AgAu2/xxx_02a-00_13-3-Br4b.Br2a.Ag2a.Au4b', 'runs_3/spg13/Li/Li3AgTe3/xxx_02a-00_13-3-Li4b.Li2a.Ag2a.Te4b.Te2a', 'runs_3/spg13/As/AsTeW/xxx_02a-00_13-3-As4b.As2a.Te4b.Te2a.W4b.W2a', 'runs_3/spg13/Se/Se3Cs3Nd/xxx_02a-00_13-3-Se4b.Se2a.Cs4b.Cs2a.Nd2a', 'runs_3/spg13/P/PCl3Tb2/xxx_02a-00_13-3-P2a.Cl4b.Cl2a.Tb4b', 'runs_3/spg13/Li/LiF3Pt/xxx_02a-00_13-3-Li2a.F4b.F2a.Pt2a', 'runs_3/spg13/F/F3K2Ag/xxx_02a-00_13-3-F4b.F2a.K4b.Ag2a', 'runs_3/spg13/Li/Li2AsTl/xxx_02a-00_13-3-Li4b.As2a.Tl2a', 'runs_3/spg13/Fe/Fe2Se3Sr/xxx_02a-00_13-3-Fe4b.Se4b.Se2a.Sr2a', 'runs_3/spg13/Cu/Cu2Se3Re/xxx_02a-00_13-3-Cu4b.Se4b.Se2a.Re2a', 'runs_3/spg13/S/SBr3Ta/xxx_02a-00_13-3-S2a.Br4b.Br2a.Ta2a', 'runs_3/spg13/O/OBr3Os/xxx_02a-00_13-3-O2a.Br4b.Br2a.Os2a', 'runs_3/spg13/Cr/Cr3As3Eu/xxx_02a-00_13-3-Cr4b.Cr2a.As4b.As2a.Eu2a', 'runs_3/spg13/Cl/Cl2KAg/xxx_02a-00_13-3-Cl4b.K2a.Ag2a', 'runs_3/spg13/Co/CoBr3Au/xxx_02a-00_13-3-Co2a.Br4b.Br2a.Au2a', 'runs_3/spg13/Cu/Cu2Se2Sn/xxx_02a-00_13-3-Cu4b.Se4b.Sn2a', 'runs_3/spg13/As/As3Ag3La2/xxx_02a-00_13-3-As4b.As2a.Ag4b.Ag2a.La4b', 'runs_3/spg13/Cd/CdTe3Ta/xxx_02a-00_13-3-Cd2a.Te4b.Te2a.Ta2a', 'runs_3/spg13/P/P3MoPb2/xxx_02a-00_13-3-P4b.P2a.Mo2a.Pb4b', 'runs_3/spg13/Mg/MgCuAs/xxx_02a-00_13-3-Mg4b.Cu4b.As4b', 'runs_3/spg13/S/SFeTe/xxx_02a-00_13-3-S2a.Fe2a.Te2a', 'runs_3/spg13/Se/Se2GdTl/xxx_02a-00_13-3-Se4b.Gd2a.Tl2a', 'runs_3/spg13/Cl/Cl2BrEr/xxx_02a-00_13-3-Cl4b.Br2a.Er2a', 'runs_3/spg13/P/P2Cu3Pb/xxx_02a-00_13-3-P4b.Cu4b.Cu2a.Pb2a', 'runs_3/spg13/Li/LiBr3Sr/xxx_02a-00_13-3-Li2a.Br4b.Br2a.Sr2a', 'runs_3/spg13/Se/Se3PdTm/xxx_02a-00_13-3-Se4b.Se2a.Pd2a.Tm2a', 'runs_3/spg13/Li/Li2NCu/xxx_02a-00_13-3-Li4b.N2a.Cu2a', 'runs_3/spg13/S/SRhI/xxx_02a-00_13-3-S4b.Rh4b.I4b', 'runs_3/spg13/N/N2PdBa/xxx_02a-00_13-3-N4b.Pd2a.Ba2a', 'runs_3/spg13/F/F3Cl2Nb/xxx_02a-00_13-3-F4b.F2a.Cl4b.Nb2a', 'runs_3/spg13/N/NKNi/xxx_02a-00_13-3-N2a.K2a.Ni2a', 'runs_3/spg13/Cl/ClCuI/xxx_02a-00_13-3-Cl4b.Cu4b.I4b', 'runs_3/spg13/O/O3Au2Hg2/xxx_02a-00_13-3-O4b.O2a.Au4b.Hg4b', 'runs_3/spg13/Cu/CuTe2Pb/xxx_02a-00_13-3-Cu2a.Te4b.Pb2a', 'runs_3/spg13/Si/SiSe3Pt/xxx_02a-00_13-3-Si2a.Se4b.Se2a.Pt2a', 'runs_3/spg13/Cl/Cl2Br2Rh/xxx_02a-00_13-3-Cl4b.Br4b.Rh2a', 'runs_3/spg13/Mn/Mn3As3Sr/xxx_02a-00_13-3-Mn4b.Mn2a.As4b.As2a.Sr2a', 'runs_3/spg13/Cl/ClBr3Re/xxx_02a-00_13-3-Cl2a.Br4b.Br2a.Re2a', 'runs_3/spg13/Ni/NiAs2Ag/xxx_02a-00_13-3-Ni2a.As4b.Ag2a', 'runs_3/spg13/Br/Br2Cd2Te/xxx_02a-00_13-3-Br4b.Cd4b.Te2a', 'runs_3/spg13/O/OSe2In3/xxx_02a-00_13-3-O2a.Se4b.In4b.In2a', 'runs_3/spg13/Se/Se3PdAg/xxx_02a-00_13-3-Se4b.Se2a.Pd2a.Ag2a', 'runs_3/spg13/N/NMgRb/xxx_02a-00_13-3-N2a.Mg2a.Rb2a', 'runs_3/spg13/Na/NaMgAs/xxx_02a-00_13-3-Na4b.Mg4b.As4b', 'runs_3/spg13/S/S3BrAu3/xxx_02a-00_13-3-S4b.S2a.Br2a.Au4b.Au2a', 'runs_3/spg13/As/As3MoAg3/xxx_02a-00_13-3-As4b.As2a.Mo2a.Ag4b.Ag2a', 'runs_3/spg13/As/As3Ag2In/xxx_02a-00_13-3-As4b.As2a.Ag4b.In2a', 'runs_3/spg13/K/K2I3Au/xxx_02a-00_13-3-K4b.I4b.I2a.Au2a', 'runs_3/spg13/Mn/Mn2As2Hg/xxx_02a-00_13-3-Mn4b.As4b.Hg2a', 'runs_3/spg13/Cr/CrSe3Ba/xxx_02a-00_13-3-Cr2a.Se4b.Se2a.Ba2a', 'runs_3/spg13/N/N2PdAg2/xxx_02a-00_13-3-N4b.Pd2a.Ag4b', 'runs_3/spg13/F/F2BrAu/xxx_02a-00_13-3-F4b.Br2a.Au2a', 'runs_3/spg13/F/FRb3Tl2/xxx_02a-00_13-3-F2a.Rb4b.Rb2a.Tl4b', 'runs_3/spg13/P/P2ClAg3/xxx_02a-00_13-3-P4b.Cl2a.Ag4b.Ag2a', 'runs_3/spg13/Cr/CrAsI2/xxx_02a-00_13-3-Cr2a.As2a.I4b', 'runs_3/spg13/Al/Al2MnAs3/xxx_02a-00_13-3-Al4b.Mn2a.As4b.As2a', 'runs_3/spg13/Li/Li2MnSe3/xxx_02a-00_13-3-Li4b.Mn2a.Se4b.Se2a', 'runs_3/spg13/Li/LiAsIn2/xxx_02a-00_13-3-Li2a.As2a.In4b', 'runs_3/spg13/Ni/NiAs3Hg3/xxx_02a-00_13-3-Ni2a.As4b.As2a.Hg4b.Hg2a', 'runs_3/spg13/F/F3ZnAu/xxx_02a-00_13-3-F4b.F2a.Zn2a.Au2a', 'runs_3/spg13/F/FBrIn/xxx_02a-00_13-3-F4b.Br4b.In4b', 'runs_3/spg13/Cl/ClTeLa/xxx_02a-00_13-3-Cl4b.Te4b.La4b', 'runs_3/spg13/Co/Co2NiSe3/xxx_02a-00_13-3-Co4b.Ni2a.Se4b.Se2a', 'runs_3/spg13/P/PClGe/xxx_02a-00_13-3-P4b.Cl4b.Ge4b', 'runs_3/spg13/Cu/CuAsSn/xxx_02a-00_13-3-Cu4b.As4b.Sn4b', 'runs_3/spg13/Cr/CrCu2Se3/xxx_02a-00_13-3-Cr2a.Cu4b.Se4b.Se2a', 'runs_3/spg13/F/F2GaBr/xxx_02a-00_13-3-F4b.Ga2a.Br2a', 'runs_3/spg13/C/COBr2/xxx_02a-00_13-3-C2a.O2a.Br4b', 'runs_3/spg13/F/F3NbI2/xxx_02a-00_13-3-F4b.F2a.Nb2a.I4b', 'runs_3/spg13/S/SCuIn/xxx_02a-00_13-3-S2a.Cu2a.In2a', 'runs_3/spg13/P/P3Ni2Y/xxx_02a-00_13-3-P4b.P2a.Ni4b.Y2a', 'runs_3/spg13/N/N2SbEu/xxx_02a-00_13-3-N4b.Sb2a.Eu2a', 'runs_3/spg13/Cl/Cl3Ga2I3/xxx_02a-00_13-3-Cl4b.Cl2a.Ga4b.I4b.I2a', 'runs_3/spg13/Be/Be3N3Au/xxx_02a-00_13-3-Be4b.Be2a.N4b.N2a.Au2a', 'runs_3/spg13/Li/Li3VSe3/xxx_02a-00_13-3-Li4b.Li2a.V2a.Se4b.Se2a', 'runs_3/spg13/N/N2RuIn3/xxx_02a-00_13-3-N4b.Ru2a.In4b.In2a', 'runs_3/spg13/Cl/Cl3BrPd2/xxx_02a-00_13-3-Cl4b.Cl2a.Br2a.Pd4b', 'runs_3/spg13/Na/NaCl2In/xxx_02a-00_13-3-Na2a.Cl4b.In2a', 'runs_3/spg13/As/As3Er2Tl3/xxx_02a-00_13-3-As4b.As2a.Er4b.Tl4b.Tl2a', 'runs_3/spg13/V/V2Se3Te/xxx_02a-00_13-3-V4b.Se4b.Se2a.Te2a', 'runs_3/spg13/Li/LiF3Sn/xxx_02a-00_13-3-Li2a.F4b.F2a.Sn2a', 'runs_3/spg13/Cl/Cl3PtTl/xxx_02a-00_13-3-Cl4b.Cl2a.Pt2a.Tl2a', 'runs_3/spg13/Na/Na3TeTl/xxx_02a-00_13-3-Na4b.Na2a.Te2a.Tl2a', 'runs_3/spg13/Li/Li3P2In3/xxx_02a-00_13-3-Li4b.Li2a.P4b.In4b.In2a', 'runs_3/spg13/Li/LiFeTe2/xxx_02a-00_13-3-Li2a.Fe2a.Te4b', 'runs_3/spg13/F/F2ITl/xxx_02a-00_13-3-F4b.I2a.Tl2a', 'runs_3/spg13/F/F2Zn3Te2/xxx_02a-00_13-3-F4b.Zn4b.Zn2a.Te4b', 'runs_3/spg13/Sc/ScCuTe2/xxx_02a-00_13-3-Sc2a.Cu2a.Te4b', 'runs_3/spg13/Ti/Ti2As3Bi/xxx_02a-00_13-3-Ti4b.As4b.As2a.Bi2a', 'runs_3/spg13/Be/BeCrSe2/xxx_02a-00_13-3-Be2a.Cr2a.Se4b', 'runs_3/spg13/S/SITb/xxx_02a-00_13-3-S2a.I2a.Tb2a', 'runs_3/spg13/As/As3Rb3Ag2/xxx_02a-00_13-3-As4b.As2a.Rb4b.Rb2a.Ag4b', 'runs_3/spg13/Mg/Mg2STe/xxx_02a-00_13-3-Mg4b.S2a.Te2a', 'runs_3/spg13/N/NMnBr/xxx_02a-00_13-3-N4b.Mn4b.Br4b', 'runs_3/spg13/P/PKCu2/xxx_02a-00_13-3-P2a.K2a.Cu4b', 'runs_3/spg13/Co/Co2As2Pb/xxx_02a-00_13-3-Co4b.As4b.Pb2a', 'runs_3/spg13/N/N2MnCe/xxx_02a-00_13-3-N4b.Mn2a.Ce2a', 'runs_3/spg13/Cl/Cl2Ni2Se/xxx_02a-00_13-3-Cl4b.Ni4b.Se2a', 'runs_3/spg13/S/S3Nb3Te2/xxx_02a-00_13-3-S4b.S2a.Nb4b.Nb2a.Te4b', 'runs_3/spg13/Mn/Mn3As3Gd/xxx_02a-00_13-3-Mn4b.Mn2a.As4b.As2a.Gd2a', 'runs_3/spg13/Co/CoSe3Ta/xxx_02a-00_13-3-Co2a.Se4b.Se2a.Ta2a', 'runs_3/spg13/P/PFe3Se3/xxx_02a-00_13-3-P2a.Fe4b.Fe2a.Se4b.Se2a', 'runs_3/spg13/Cu/Cu3As2In/xxx_02a-00_13-3-Cu4b.Cu2a.As4b.In2a', 'runs_3/spg13/Fe/Fe3AsTe3/xxx_02a-00_13-3-Fe4b.Fe2a.As2a.Te4b.Te2a', 'runs_3/spg13/N/N2Se3Ta3/xxx_02a-00_13-3-N4b.Se4b.Se2a.Ta4b.Ta2a', 'runs_3/spg13/Be/BeV2Te3/xxx_02a-00_13-3-Be2a.V4b.Te4b.Te2a', 'runs_3/spg13/N/N3Si2K/xxx_02a-00_13-3-N4b.N2a.Si4b.K2a', 'runs_3/spg13/Br/Br3AgSn/xxx_02a-00_13-3-Br4b.Br2a.Ag2a.Sn2a', 'runs_3/spg13/Cd/CdTe2Hg/xxx_02a-00_13-3-Cd2a.Te4b.Hg2a', 'runs_3/spg13/N/NNaIn/xxx_02a-00_13-3-N2a.Na2a.In2a', 'runs_3/spg13/Br/Br3Ag3Te/xxx_02a-00_13-3-Br4b.Br2a.Ag4b.Ag2a.Te2a', 'runs_3/spg13/As/As2SrPb2/xxx_02a-00_13-3-As4b.Sr2a.Pb4b', 'runs_3/spg13/Te/Te3BaHf/xxx_02a-00_13-3-Te4b.Te2a.Ba2a.Hf2a', 'runs_3/spg13/As/As2Br3Tl3/xxx_02a-00_13-3-As4b.Br4b.Br2a.Tl4b.Tl2a', 'runs_3/spg13/P/P2Ag3Bi/xxx_02a-00_13-3-P4b.Ag4b.Ag2a.Bi2a', 'runs_3/spg13/Ti/TiCo3As3/xxx_02a-00_13-3-Ti2a.Co4b.Co2a.As4b.As2a', 'runs_3/spg13/Cl/Cl2NbI2/xxx_02a-00_13-3-Cl4b.Nb2a.I4b', 'runs_3/spg13/Na/NaP2Tl3/xxx_02a-00_13-3-Na2a.P4b.Tl4b.Tl2a', 'runs_3/spg13/N/N3RuCd2/xxx_02a-00_13-3-N4b.N2a.Ru2a.Cd4b', 'runs_3/spg13/Fe/FeSe3Tl2/xxx_02a-00_13-3-Fe2a.Se4b.Se2a.Tl4b', 'runs_3/spg13/Cl/Cl3AsPb3/xxx_02a-00_13-3-Cl4b.Cl2a.As2a.Pb4b.Pb2a', 'runs_3/spg13/Co/Co2NiAs3/xxx_02a-00_13-3-Co4b.Ni2a.As4b.As2a', 'runs_3/spg13/Li/LiKSe/xxx_02a-00_13-3-Li2a.K2a.Se2a', 'runs_3/spg13/Zn/ZnAs3In3/xxx_02a-00_13-3-Zn2a.As4b.As2a.In4b.In2a', 'runs_3/spg13/F/FI2Nd/xxx_02a-00_13-3-F2a.I4b.Nd2a', 'runs_3/spg13/N/N3Sn3Yb/xxx_02a-00_13-3-N4b.N2a.Sn4b.Sn2a.Yb2a', 'runs_3/spg13/P/P3Cu3In2/xxx_02a-00_13-3-P4b.P2a.Cu4b.Cu2a.In4b', 'runs_3/spg13/As/As2In2Sn/xxx_02a-00_13-3-As4b.In4b.Sn2a', 'runs_3/spg13/Br/BrTeTl/xxx_02a-00_13-3-Br2a.Te2a.Tl2a', 'runs_3/spg13/Be/BeS2Au2/xxx_02a-00_13-3-Be2a.S4b.Au4b', 'runs_3/spg13/P/P3NdHg3/xxx_02a-00_13-3-P4b.P2a.Nd2a.Hg4b.Hg2a', 'runs_3/spg13/Be/BeTe3Ta/xxx_02a-00_13-3-Be2a.Te4b.Te2a.Ta2a', 'runs_3/spg13/Al/AlAs3Bi2/xxx_02a-00_13-3-Al2a.As4b.As2a.Bi4b', 'runs_3/spg13/Br/Br2TeTa/xxx_02a-00_13-3-Br4b.Te2a.Ta2a', 'runs_3/spg13/P/PRbHg/xxx_02a-00_13-3-P4b.Rb4b.Hg4b', 'runs_3/spg13/N/N3Ca3Au/xxx_02a-00_13-3-N4b.N2a.Ca4b.Ca2a.Au2a', 'runs_3/spg13/Cr/CrTeI3/xxx_02a-00_13-3-Cr2a.Te2a.I4b.I2a', 'runs_3/spg13/P/P3Cu2Ag3/xxx_02a-00_13-3-P4b.P2a.Cu4b.Ag4b.Ag2a', 'runs_3/spg13/Se/Se2InCs/xxx_02a-00_13-3-Se4b.In2a.Cs2a', 'runs_3/spg13/S/SSe2Tl2/xxx_02a-00_13-3-S2a.Se4b.Tl4b', 'runs_3/spg13/Li/LiS3Cu3/xxx_02a-00_13-3-Li2a.S4b.S2a.Cu4b.Cu2a', 'runs_3/spg13/Be/BeFCl/xxx_02a-00_13-3-Be4b.F4b.Cl4b', 'runs_3/spg13/N/N2TbBi/xxx_02a-00_13-3-N4b.Tb2a.Bi2a', 'runs_3/spg13/O/OCd2I2/xxx_02a-00_13-3-O2a.Cd4b.I4b', 'runs_3/spg13/Li/LiAg3Te2/xxx_02a-00_13-3-Li2a.Ag4b.Ag2a.Te4b', 'runs_3/spg13/Ag/Ag3Te3Tl/xxx_02a-00_13-3-Ag4b.Ag2a.Te4b.Te2a.Tl2a', 'runs_3/spg13/V/VInTe2/xxx_02a-00_13-3-V2a.In2a.Te4b', 'runs_3/spg13/Na/NaKTe/xxx_02a-00_13-3-Na2a.K2a.Te2a', 'runs_3/spg13/S/SRb3Tl/xxx_02a-00_13-3-S2a.Rb4b.Rb2a.Tl2a', 'runs_3/spg13/P/P2Ag3In/xxx_02a-00_13-3-P4b.Ag4b.Ag2a.In2a', 'runs_3/spg13/B/BP3Cr/xxx_02a-00_13-3-B2a.P4b.P2a.Cr2a', 'runs_3/spg13/Cl/Cl3RbIn2/xxx_02a-00_13-3-Cl4b.Cl2a.Rb2a.In4b', 'runs_3/spg13/Be/Be2Br3I/xxx_02a-00_13-3-Be4b.Br4b.Br2a.I2a', 'runs_3/spg13/As/As3AgEr2/xxx_02a-00_13-3-As4b.As2a.Ag2a.Er4b', 'runs_3/spg13/P/PIn3I2/xxx_02a-00_13-3-P2a.In4b.In2a.I4b', 'runs_3/spg13/K/KTe2Dy/xxx_02a-00_13-3-K2a.Te4b.Dy2a', 'runs_3/spg13/Co/CoBrI/xxx_02a-00_13-3-Co4b.Br4b.I4b', 'runs_3/spg13/B/BSeI/xxx_02a-00_13-3-B2a.Se2a.I2a', 'runs_3/spg13/Ca/Ca2Te3Hg/xxx_02a-00_13-3-Ca4b.Te4b.Te2a.Hg2a', 'runs_3/spg13/As/As2NdTl/xxx_02a-00_13-3-As4b.Nd2a.Tl2a', 'runs_3/spg13/Cl/Cl3NiAu/xxx_02a-00_13-3-Cl4b.Cl2a.Ni2a.Au2a', 'runs_3/spg13/Fe/Fe2As3Ho/xxx_02a-00_13-3-Fe4b.As4b.As2a.Ho2a', 'runs_3/spg13/As/As3AgRe2/xxx_02a-00_13-3-As4b.As2a.Ag2a.Re4b', 'runs_3/spg13/Ti/Ti2NiAs3/xxx_02a-00_13-3-Ti4b.Ni2a.As4b.As2a', 'runs_3/spg13/N/NAsRe/xxx_02a-00_13-3-N4b.As4b.Re4b', 'runs_3/spg13/Li/LiI3Pb/xxx_02a-00_13-3-Li2a.I4b.I2a.Pb2a', 'runs_3/spg13/Br/Br3Sr2I/xxx_02a-00_13-3-Br4b.Br2a.Sr4b.I2a', 'runs_3/spg13/Mg/MgP2Pb2/xxx_02a-00_13-3-Mg2a.P4b.Pb4b', 'runs_3/spg13/Li/Li3Te3Eu/xxx_02a-00_13-3-Li4b.Li2a.Te4b.Te2a.Eu2a', 'runs_3/spg13/Al/AlS3Ni/xxx_02a-00_13-3-Al2a.S4b.S2a.Ni2a', 'runs_3/spg13/Cr/Cr3As3Yb/xxx_02a-00_13-3-Cr4b.Cr2a.As4b.As2a.Yb2a', 'runs_3/spg13/B/B2As3In/xxx_02a-00_13-3-B4b.As4b.As2a.In2a', 'runs_3/spg13/Mg/Mg2CrTe3/xxx_02a-00_13-3-Mg4b.Cr2a.Te4b.Te2a', 'runs_3/spg13/Li/LiF3Zn/xxx_02a-00_13-3-Li2a.F4b.F2a.Zn2a', 'runs_3/spg13/Cl/Cl3Br2Nb/xxx_02a-00_13-3-Cl4b.Cl2a.Br4b.Nb2a', 'runs_3/spg13/As/As2YbTl/xxx_02a-00_13-3-As4b.Yb2a.Tl2a', 'runs_3/spg13/Cu/Cu3As3W/xxx_02a-00_13-3-Cu4b.Cu2a.As4b.As2a.W2a', 'runs_3/spg13/Ti/TiCuSe2/xxx_02a-00_13-3-Ti2a.Cu2a.Se4b', 'runs_3/spg13/Br/Br3I3Ir/xxx_02a-00_13-3-Br4b.Br2a.I4b.I2a.Ir2a', 'runs_3/spg13/F/FPZn2/xxx_02a-00_13-3-F2a.P2a.Zn4b', 'runs_3/spg13/Ni/Ni3Br2Te2/xxx_02a-00_13-3-Ni4b.Ni2a.Br4b.Te4b', 'runs_3/spg13/P/PSe3Nd3/xxx_02a-00_13-3-P2a.Se4b.Se2a.Nd4b.Nd2a', 'runs_3/spg13/Br/Br3PdCs/xxx_02a-00_13-3-Br4b.Br2a.Pd2a.Cs2a', 'runs_3/spg13/Be/Be2N2Pt/xxx_02a-00_13-3-Be4b.N4b.Pt2a', 'runs_3/spg13/P/P3Cu3Ag/xxx_02a-00_13-3-P4b.P2a.Cu4b.Cu2a.Ag2a', 'runs_3/spg13/Mg/MgSe3Cd2/xxx_02a-00_13-3-Mg2a.Se4b.Se2a.Cd4b', 'runs_3/spg13/I/I2TbTl/xxx_02a-00_13-3-I4b.Tb2a.Tl2a', 'runs_3/spg13/Mn/MnFe2Te3/xxx_02a-00_13-3-Mn2a.Fe4b.Te4b.Te2a', 'runs_3/spg13/Br/Br2GdTl/xxx_02a-00_13-3-Br4b.Gd2a.Tl2a', 'runs_3/spg13/Li/Li2F3Tl/xxx_02a-00_13-3-Li4b.F4b.F2a.Tl2a', 'runs_3/spg13/Al/AlAs2Sm/xxx_02a-00_13-3-Al2a.As4b.Sm2a', 'runs_3/spg13/Cl/ClSe2Ta/xxx_02a-00_13-3-Cl2a.Se4b.Ta2a', 'runs_3/spg13/As/As3In3Lu2/xxx_02a-00_13-3-As4b.As2a.In4b.In2a.Lu4b', 'runs_3/spg13/Se/Se3Rb3Ir/xxx_02a-00_13-3-Se4b.Se2a.Rb4b.Rb2a.Ir2a', 'runs_3/spg13/Cu/Cu3Se3Rb/xxx_02a-00_13-3-Cu4b.Cu2a.Se4b.Se2a.Rb2a', 'runs_3/spg13/Si/SiAs2Hg/xxx_02a-00_13-3-Si2a.As4b.Hg2a', 'runs_3/spg13/Li/Li3BN2/xxx_02a-00_13-3-Li4b.Li2a.B2a.N4b', 'runs_3/spg13/Mg/MgITl/xxx_02a-00_13-3-Mg4b.Mg2a.I4b.I2a.Tl4b.Tl2a', 'runs_3/spg13/F/FSeTb/xxx_02a-00_13-3-F2a.Se2a.Tb2a', 'runs_3/spg13/Be/BeSe3Ba2/xxx_02a-00_13-3-Be2a.Se4b.Se2a.Ba4b', 'runs_3/spg13/As/As2InHo/xxx_02a-00_13-3-As4b.In2a.Ho2a', 'runs_3/spg13/Si/SiP2Sr/xxx_02a-00_13-3-Si2a.P4b.Sr2a', 'runs_3/spg13/Na/NaGe2As3/xxx_02a-00_13-3-Na2a.Ge4b.As4b.As2a', 'runs_3/spg13/F/FMgCl/xxx_02a-00_13-3-F4b.F2a.Mg4b.Mg2a.Cl4b.Cl2a', 'runs_3/spg13/Al/AlP3V2/xxx_02a-00_13-3-Al2a.P4b.P2a.V4b', 'runs_3/spg13/Br/Br3Sn2I/xxx_02a-00_13-3-Br4b.Br2a.Sn4b.I2a', 'runs_3/spg13/Rb/Rb3TeI/xxx_02a-00_13-3-Rb4b.Rb2a.Te2a.I2a', 'runs_3/spg13/F/F3MgIn/xxx_02a-00_13-3-F4b.F2a.Mg2a.In2a', 'runs_3/spg13/S/SBrSm/xxx_02a-00_13-3-S2a.Br2a.Sm2a', 'runs_3/spg13/B/BFSe/xxx_02a-00_13-3-B2a.F2a.Se2a', 'runs_3/spg13/V/VSe3Hg/xxx_02a-00_13-3-V2a.Se4b.Se2a.Hg2a', 'runs_3/spg13/Cr/CrNiSe3/xxx_02a-00_13-3-Cr2a.Ni2a.Se4b.Se2a', 'runs_3/spg13/Se/Se3Pd2Hg/xxx_02a-00_13-3-Se4b.Se2a.Pd4b.Hg2a', 'runs_3/spg13/As/As2BaHg2/xxx_02a-00_13-3-As4b.Ba2a.Hg4b', 'runs_3/spg13/As/AsSe3Sm3/xxx_02a-00_13-3-As2a.Se4b.Se2a.Sm4b.Sm2a', 'runs_3/spg13/F/F3KTl2/xxx_02a-00_13-3-F4b.F2a.K2a.Tl4b', 'runs_3/spg13/N/NF3Bi2/xxx_02a-00_13-3-N2a.F4b.F2a.Bi4b', 'runs_3/spg13/Be/Be3N3Ti/xxx_02a-00_13-3-Be4b.Be2a.N4b.N2a.Ti2a', 'runs_3/spg13/Se/Se3RhHg/xxx_02a-00_13-3-Se4b.Se2a.Rh2a.Hg2a', 'runs_3/spg13/S/S2CsTl/xxx_02a-00_13-3-S4b.Cs2a.Tl2a', 'runs_3/spg13/As/AsCd2Tl/xxx_02a-00_13-3-As2a.Cd4b.Tl2a', 'runs_3/spg13/As/AsTe3Tb3/xxx_02a-00_13-3-As2a.Te4b.Te2a.Tb4b.Tb2a', 'runs_3/spg13/V/V3Se3I2/xxx_02a-00_13-3-V4b.V2a.Se4b.Se2a.I4b', 'runs_3/spg13/N/N3CrCo2/xxx_02a-00_13-3-N4b.N2a.Cr2a.Co4b', 'runs_3/spg13/Se/Se2Rb2Hg/xxx_02a-00_13-3-Se4b.Rb4b.Hg2a', 'runs_3/spg13/Se/Se3DyIr/xxx_02a-00_13-3-Se4b.Se2a.Dy2a.Ir2a', 'runs_3/spg13/Cl/ClAgI2/xxx_02a-00_13-3-Cl2a.Ag2a.I4b', 'runs_3/spg13/Mg/Mg3FeAs3/xxx_02a-00_13-3-Mg4b.Mg2a.Fe2a.As4b.As2a', 'runs_3/spg13/As/As2BrRe/xxx_02a-00_13-3-As4b.Br2a.Re2a', 'runs_3/spg13/P/PGeI/xxx_02a-00_13-3-P4b.P2a.Ge4b.Ge2a.I4b.I2a', 'runs_3/spg13/Be/Be2P2Sr/xxx_02a-00_13-3-Be4b.P4b.Sr2a', 'runs_3/spg13/As/AsInHg/xxx_02a-00_13-3-As2a.In2a.Hg2a', 'runs_3/spg13/P/P2YbBi/xxx_02a-00_13-3-P4b.Yb2a.Bi2a', 'runs_3/spg13/Be/Be3P3Co/xxx_02a-00_13-3-Be4b.Be2a.P4b.P2a.Co2a', 'runs_3/spg13/B/BP2Ga/xxx_02a-00_13-3-B2a.P4b.Ga2a', 'runs_3/spg13/Cl/ClSe2Ir/xxx_02a-00_13-3-Cl2a.Se4b.Ir2a', 'runs_3/spg13/Ag/Ag2Te2Ta/xxx_02a-00_13-3-Ag4b.Te4b.Ta2a', 'runs_3/spg13/Be/BeP2Cu2/xxx_02a-00_13-3-Be2a.P4b.Cu4b', 'runs_3/spg13/As/As2YAg/xxx_02a-00_13-3-As4b.Y2a.Ag2a', 'runs_3/spg13/Se/Se2NbAu2/xxx_02a-00_13-3-Se4b.Nb2a.Au4b', 'runs_3/spg13/N/NF3Ru/xxx_02a-00_13-3-N2a.F4b.F2a.Ru2a', 'runs_3/spg13/Se/Se3IrHg/xxx_02a-00_13-3-Se4b.Se2a.Ir2a.Hg2a', 'runs_3/spg13/P/PI3Ho2/xxx_02a-00_13-3-P2a.I4b.I2a.Ho4b', 'runs_3/spg13/Be/BeP2Fe2/xxx_02a-00_13-3-Be2a.P4b.Fe4b', 'runs_3/spg13/Br/BrI3Hf/xxx_02a-00_13-3-Br2a.I4b.I2a.Hf2a', 'runs_3/spg13/S/S3Sn2Hg/xxx_02a-00_13-3-S4b.S2a.Sn4b.Hg2a', 'runs_3/spg13/O/OIn3I2/xxx_02a-00_13-3-O2a.In4b.In2a.I4b', 'runs_3/spg13/I/I2TmTl/xxx_02a-00_13-3-I4b.Tm2a.Tl2a', 'runs_3/spg13/Cl/Cl3V2Br3/xxx_02a-00_13-3-Cl4b.Cl2a.V4b.Br4b.Br2a', 'runs_3/spg13/S/SMnTl/xxx_02a-00_13-3-S4b.S2a.Mn4b.Mn2a.Tl4b.Tl2a', 'runs_3/spg13/Si/SiCu2As2/xxx_02a-00_13-3-Si2a.Cu4b.As4b', 'runs_3/spg13/Se/SeAg3I3/xxx_02a-00_13-3-Se2a.Ag4b.Ag2a.I4b.I2a', 'runs_3/spg13/Cu/CuSe2Ag3/xxx_02a-00_13-3-Cu2a.Se4b.Ag4b.Ag2a', 'runs_3/spg13/Be/BeS3In2/xxx_02a-00_13-3-Be2a.S4b.S2a.In4b', 'runs_3/spg13/Co/CoCdTe2/xxx_02a-00_13-3-Co2a.Cd2a.Te4b', 'runs_3/spg13/Li/Li2P2In3/xxx_02a-00_13-3-Li4b.P4b.In4b.In2a', 'runs_3/spg13/Mg/MgSe2Sr/xxx_02a-00_13-3-Mg2a.Se4b.Sr2a', 'runs_3/spg13/P/PI3Sm2/xxx_02a-00_13-3-P2a.I4b.I2a.Sm4b', 'runs_3/spg13/S/SMnBr/xxx_02a-00_13-3-S2a.Mn2a.Br2a', 'runs_3/spg13/Al/AlS2K/xxx_02a-00_13-3-Al2a.S4b.K2a', 'runs_3/spg13/Cl/ClTiTe/xxx_02a-00_13-3-Cl4b.Cl2a.Ti4b.Ti2a.Te4b.Te2a', 'runs_3/spg13/K/K2Cu2Se3/xxx_02a-00_13-3-K4b.Cu4b.Se4b.Se2a', 'runs_3/spg13/Cu/Cu3Se3Ta/xxx_02a-00_13-3-Cu4b.Cu2a.Se4b.Se2a.Ta2a', 'runs_3/spg13/N/N3Ni3Pd/xxx_02a-00_13-3-N4b.N2a.Ni4b.Ni2a.Pd2a', 'runs_3/spg13/F/FIn3I2/xxx_02a-00_13-3-F2a.In4b.In2a.I4b', 'runs_3/spg13/F/FSeLa/xxx_02a-00_13-3-F2a.Se2a.La2a', 'runs_3/spg13/Ca/CaAsAg/xxx_02a-00_13-3-Ca4b.As4b.Ag4b', 'runs_3/spg13/Co/CoSe3Au3/xxx_02a-00_13-3-Co2a.Se4b.Se2a.Au4b.Au2a', 'runs_3/spg13/V/VTe3Pb/xxx_02a-00_13-3-V2a.Te4b.Te2a.Pb2a', 'runs_3/spg13/Ag/AgInTe/xxx_02a-00_13-3-Ag4b.In4b.Te4b', 'runs_3/spg13/S/S3Cu3Sn/xxx_02a-00_13-3-S4b.S2a.Cu4b.Cu2a.Sn2a', 'runs_3/spg13/Cl/ClNdTl2/xxx_02a-00_13-3-Cl2a.Nd2a.Tl4b', 'runs_3/spg13/Co/Co3As2Te/xxx_02a-00_13-3-Co4b.Co2a.As4b.Te2a', 'runs_3/spg13/Fe/FeAg2Te3/xxx_02a-00_13-3-Fe2a.Ag4b.Te4b.Te2a', 'runs_3/spg13/Sc/ScCrSe3/xxx_02a-00_13-3-Sc2a.Cr2a.Se4b.Se2a', 'runs_3/spg13/Se/SeBr3Re/xxx_02a-00_13-3-Se2a.Br4b.Br2a.Re2a', 'runs_3/spg13/N/N2Mn2Se/xxx_02a-00_13-3-N4b.Mn4b.Se2a', 'runs_3/spg13/Be/Be3F3As/xxx_02a-00_13-3-Be4b.Be2a.F4b.F2a.As2a', 'runs_3/spg13/Co/Co2Se3Pd/xxx_02a-00_13-3-Co4b.Se4b.Se2a.Pd2a', 'runs_3/spg13/Na/Na3Se3Tl/xxx_02a-00_13-3-Na4b.Na2a.Se4b.Se2a.Tl2a', 'runs_3/spg13/In/In2Te3Cs2/xxx_02a-00_13-3-In4b.Te4b.Te2a.Cs4b', 'runs_3/spg13/Co/CoGaTe3/xxx_02a-00_13-3-Co2a.Ga2a.Te4b.Te2a', 'runs_3/spg13/Cl/Cl2GaI/xxx_02a-00_13-3-Cl4b.Ga2a.I2a', 'runs_3/spg13/Cl/Cl2CeTl2/xxx_02a-00_13-3-Cl4b.Ce2a.Tl4b', 'runs_3/spg13/As/As2Nb2Ba/xxx_02a-00_13-3-As4b.Nb4b.Ba2a', 'runs_3/spg13/Al/Al2P3Cr/xxx_02a-00_13-3-Al4b.P4b.P2a.Cr2a', 'runs_3/spg13/F/F2CuTl/xxx_02a-00_13-3-F4b.Cu2a.Tl2a', 'runs_3/spg13/N/N3Pd3Tb/xxx_02a-00_13-3-N4b.N2a.Pd4b.Pd2a.Tb2a', 'runs_3/spg13/Cu/Cu2GeAs2/xxx_02a-00_13-3-Cu4b.Ge2a.As4b', 'runs_3/spg13/P/P3Sb2Tl3/xxx_02a-00_13-3-P4b.P2a.Sb4b.Tl4b.Tl2a', 'runs_3/spg13/P/PZn3As/xxx_02a-00_13-3-P2a.Zn4b.Zn2a.As2a', 'runs_3/spg13/K/K2AgI3/xxx_02a-00_13-3-K4b.Ag2a.I4b.I2a', 'runs_3/spg13/Br/BrTeTl/xxx_02a-00_13-3-Br4b.Br2a.Te4b.Te2a.Tl4b.Tl2a', 'runs_3/spg13/Al/Al2P3Bi/xxx_02a-00_13-3-Al4b.P4b.P2a.Bi2a', 'runs_3/spg13/As/As2SeRe2/xxx_02a-00_13-3-As4b.Se2a.Re4b', 'runs_3/spg13/Al/AlSe3Dy/xxx_02a-00_13-3-Al2a.Se4b.Se2a.Dy2a', 'runs_3/spg13/Cr/CrAs3Sn3/xxx_02a-00_13-3-Cr2a.As4b.As2a.Sn4b.Sn2a', 'runs_3/spg13/Cl/Cl3CoTl/xxx_02a-00_13-3-Cl4b.Cl2a.Co2a.Tl2a', 'runs_3/spg13/Cl/Cl3RbSn/xxx_02a-00_13-3-Cl4b.Cl2a.Rb2a.Sn2a', 'runs_3/spg13/Ga/GaSe3Er/xxx_02a-00_13-3-Ga2a.Se4b.Se2a.Er2a', 'runs_3/spg13/Cl/Cl3SeMo/xxx_02a-00_13-3-Cl4b.Cl2a.Se2a.Mo2a', 'runs_3/spg13/P/PBr3Sn3/xxx_02a-00_13-3-P2a.Br4b.Br2a.Sn4b.Sn2a', 'runs_3/spg13/Se/Se3ReTl2/xxx_02a-00_13-3-Se4b.Se2a.Re2a.Tl4b', 'runs_3/spg13/Cu/CuInI2/xxx_02a-00_13-3-Cu2a.In2a.I4b', 'runs_3/spg13/Se/Se3SrPt/xxx_02a-00_13-3-Se4b.Se2a.Sr2a.Pt2a', 'runs_3/spg13/Cu/CuBr3Au2/xxx_02a-00_13-3-Cu2a.Br4b.Br2a.Au4b', 'runs_3/spg13/B/BNaSe2/xxx_02a-00_13-3-B2a.Na2a.Se4b', 'runs_3/spg13/Be/Be3As3La/xxx_02a-00_13-3-Be4b.Be2a.As4b.As2a.La2a', 'runs_3/spg13/Se/Se2BrTa/xxx_02a-00_13-3-Se4b.Br2a.Ta2a', 'runs_3/spg13/Na/NaCl2Ag/xxx_02a-00_13-3-Na2a.Cl4b.Ag2a', 'runs_3/spg13/As/As3La2Tl/xxx_02a-00_13-3-As4b.As2a.La4b.Tl2a', 'runs_3/spg13/S/SFeI/xxx_02a-00_13-3-S2a.Fe2a.I2a', 'runs_3/spg13/N/N2Ca2Pb/xxx_02a-00_13-3-N4b.Ca4b.Pb2a', 'runs_3/spg13/Al/AlSe2In/xxx_02a-00_13-3-Al2a.Se4b.In2a', 'runs_3/spg13/F/F2Br2Nb/xxx_02a-00_13-3-F4b.Br4b.Nb2a', 'runs_3/spg13/As/As3EuTl2/xxx_02a-00_13-3-As4b.As2a.Eu2a.Tl4b', 'runs_3/spg13/N/NSW/xxx_02a-00_13-3-N2a.S2a.W2a', 'runs_3/spg13/Li/LiAsAg2/xxx_02a-00_13-3-Li2a.As2a.Ag4b', 'runs_3/spg13/S/S2Co3I2/xxx_02a-00_13-3-S4b.Co4b.Co2a.I4b', 'runs_3/spg13/P/P2Cu3Tl2/xxx_02a-00_13-3-P4b.Cu4b.Cu2a.Tl4b', 'runs_3/spg13/Se/Se2RuAu/xxx_02a-00_13-3-Se4b.Ru2a.Au2a', 'runs_3/spg13/F/FBr3Pd/xxx_02a-00_13-3-F2a.Br4b.Br2a.Pd2a', 'runs_3/spg13/Mn/MnSe3Hf/xxx_02a-00_13-3-Mn2a.Se4b.Se2a.Hf2a', 'runs_3/spg13/N/N2Pt2Pb/xxx_02a-00_13-3-N4b.Pt4b.Pb2a', 'runs_3/spg13/Ca/CaITl/xxx_02a-00_13-3-Ca2a.I2a.Tl2a', 'runs_3/spg13/Li/Li2SiSe3/xxx_02a-00_13-3-Li4b.Si2a.Se4b.Se2a']\n"
     ]
    },
    {
     "name": "stderr",
     "output_type": "stream",
     "text": [
      " 36%|████████████████████████████████████████████████████████████████████████████████████████▉                                                                                                                                                               | 33/92 [12:51<1:02:53, 63.96s/it]"
     ]
    },
    {
     "name": "stdout",
     "output_type": "stream",
     "text": [
      "Length batch: 351\n",
      "['runs_3/spg33/Fe/FeBrI/xxx_02a-00_33-3-Fe4a.Br4a.I4a', 'runs_3/spg33/Be/BePIn/xxx_02a-00_33-3-Be4a.P4a.In4a', 'runs_3/spg33/O/OSGe/xxx_02a-00_33-3-O4a.S4a.Ge4a', 'runs_3/spg33/Cl/ClCrI/xxx_02a-00_33-3-Cl4a.Cr4a.I4a', 'runs_3/spg33/O/OBrPd/xxx_02a-00_33-3-O4a.Br4a.Pd4a', 'runs_3/spg33/V/VAsTl/xxx_02a-00_33-3-V4a.As4a.Tl4a', 'runs_3/spg33/N/NSeOs/xxx_02a-00_33-3-N4a.Se4a.Os4a', 'runs_3/spg33/F/FClNb/xxx_02a-00_33-3-F4a.Cl4a.Nb4a', 'runs_3/spg33/Fe/FeBrTe/xxx_02a-00_33-3-Fe4a.Br4a.Te4a', 'runs_3/spg33/F/FAsRe/xxx_02a-00_33-3-F4a.As4a.Re4a', 'runs_3/spg33/V/VSeTl/xxx_02a-00_33-3-V4a.Se4a.Tl4a', 'runs_3/spg33/Na/NaPCo/xxx_02a-00_33-3-Na4a.P4a.Co4a', 'runs_3/spg33/B/BFSe/xxx_02a-00_33-3-B4a.F4a.Se4a', 'runs_3/spg33/N/NNaCa/xxx_02a-00_33-3-N4a.Na4a.Ca4a', 'runs_3/spg33/N/NZnIn/xxx_02a-00_33-3-N4a.Zn4a.In4a', 'runs_3/spg33/Cl/ClFeAs/xxx_02a-00_33-3-Cl4a.Fe4a.As4a', 'runs_3/spg33/N/NFZr/xxx_02a-00_33-3-N4a.F4a.Zr4a']\n"
     ]
    },
    {
     "name": "stderr",
     "output_type": "stream",
     "text": [
      " 37%|████████████████████████████████████████████████████████████████████████████████████████████▍                                                                                                                                                             | 34/92 [12:57<45:04, 46.63s/it]"
     ]
    },
    {
     "name": "stdout",
     "output_type": "stream",
     "text": [
      "Length batch: 1201\n",
      "['runs_ext/c2db_0.25_1/O/O2Re/xxx_02a-00_Re4O8-7ae3f753661d', 'runs_ext/c2db_0.25_1/S/S3Pt2Tl/xxx_02a-00_Tl2Pt4S6-c075fd56304f', 'runs_ext/c2db_0.25_1/Cl/Cl3Rh/xxx_02a-00_Rh2Cl6-2c405e8c0414', 'runs_ext/c2db_0.25_1/S/SGa/xxx_02a-00_Ga2S2-6f3b2e422ac9', 'runs_ext/c2db_0.25_1/S/SBrPd/xxx_02a-00_Br2Pd2S2-1add6813d74b', 'runs_ext/c2db_0.25_1/Mo/MoTe8W3/xxx_02a-00_MoW3Te8-5c3fe56a1a89', 'runs_ext/c2db_0.25_1/Ca/CaI2/xxx_02a-00_CaI2-ee886d522d75', 'runs_ext/c2db_0.25_1/S/STe2Bi2/xxx_02a-00_SBi2Te2-fe3f31afca68', 'runs_ext/c2db_0.25_1/Te/Te2Hf/xxx_02a-00_HfTe2-59c0e014651d', 'runs_ext/c2db_0.25_1/Pd/Pd5InI2/xxx_02a-00_InI2Pd5-0fb5b33d2007', 'runs_ext/c2db_0.25_1/H/H2NO2Ti2/xxx_02a-00_NH2O2Ti2-ef85367368d9', 'runs_ext/c2db_0.25_1/Te/TeTl/xxx_02a-00_Te2Tl2-73117163f0e2', 'runs_ext/c2db_0.25_1/H/HO4GaSe/xxx_02a-00_Ga2H2Se2O8-702fbb425b37', 'runs_ext/c2db_0.25_1/S/SSn/xxx_02a-00_S2Sn2-7a8373382b33', 'runs_ext/c2db_0.25_1/Ca/CaI2/xxx_02a-00_CaI2-066f40f26c53', 'runs_ext/c2db_0.25_1/Cl/Cl3V/xxx_02a-00_V2Cl6-8e5cf44cfd10', 'runs_ext/c2db_0.25_1/N/NCa2/xxx_02a-00_NCa2-fc6379e0cb8a', 'runs_ext/c2db_0.25_1/S/STl/xxx_02a-00_S2Tl2-751e767bff79', 'runs_ext/c2db_0.25_1/Zr/ZrTe5/xxx_02a-00_Zr2Te10-3f609a2e7630', 'runs_ext/c2db_0.25_1/S/SVTe/xxx_02a-00_STeV-18374204965d', 'runs_ext/c2db_0.25_1/S/SClZr/xxx_02a-00_Cl4S4Zr4-df12602a0e6d', 'runs_ext/c2db_0.25_1/Al/AlSI/xxx_02a-00_Al2I2S2-57fa2b38763c', 'runs_ext/c2db_0.25_1/Cr/CrMoTe4/xxx_02a-00_Cr2Mo2Te8-988b11badabb', 'runs_ext/c2db_0.25_1/S/SScBr/xxx_02a-00_Br2S2Sc2-d38af92ba9a0', 'runs_ext/c2db_0.25_1/S/SGaI/xxx_02a-00_Ga2I2S2-890beabfa390', 'runs_ext/c2db_0.25_1/Ti/TiSeBr/xxx_02a-00_Br2Se2Ti2-8c47fd2382fb', 'runs_ext/c2db_0.25_1/Br/BrAg/xxx_02a-00_Ag2Br2-9d25bdce5cb7', 'runs_ext/c2db_0.25_1/O/OCrBr/xxx_02a-00_Br2Cr2O2-40d95997a4f9', 'runs_ext/c2db_0.25_1/H/HC/xxx_02a-00_C2H2-1b265530a869', 'runs_ext/c2db_0.25_1/O/O8ZnRe2/xxx_02a-00_ZnRe2O8-c36291bf8942', 'runs_ext/c2db_0.25_1/P/PS3Os/xxx_02a-00_Os2P2S6-7ed08fbf9472', 'runs_ext/c2db_0.25_1/H/H2MgS2/xxx_02a-00_MgH2S2-508dbde022e2', 'runs_ext/c2db_0.25_1/Br/Br3Ru/xxx_02a-00_Ru2Br6-3d38b5c4e340', 'runs_ext/c2db_0.25_1/Zn/ZnTe2/xxx_02a-00_ZnTe2-88ad5a179acb', 'runs_ext/c2db_0.25_1/Cl/ClCs/xxx_02a-00_Cl2Cs2-e85b67045b23', 'runs_ext/c2db_0.25_1/F/F6ReAu2/xxx_02a-00_ReAu2F6-c25153c7d7c0', 'runs_ext/c2db_0.25_1/P/P2CuSe6Bi/xxx_02a-00_BiCuP2Se6-0e28aa0ec195', 'runs_ext/c2db_0.25_1/Ti/TiI3/xxx_02a-00_Ti2I6-0e99355f14de', 'runs_ext/c2db_0.25_1/O/OClGa/xxx_02a-00_Cl2Ga2O2-d5722b10ff79', 'runs_ext/c2db_0.25_1/Zn/ZnI/xxx_02a-00_I2Zn2-748053f4b718', 'runs_ext/c2db_0.25_1/O/O2Nb/xxx_02a-00_Nb4O8-b3130faeb4ab', 'runs_ext/c2db_0.25_1/Ni/NiTe/xxx_02a-00_Ni2Te2-ff961754b9cc', 'runs_ext/c2db_0.25_1/P/PRuTe3/xxx_02a-00_P2Ru2Te6-dc750358a911', 'runs_ext/c2db_0.25_1/Se/Se2W/xxx_02a-00_WSe2-1cfbe6183886', 'runs_ext/c2db_0.25_1/O/O8Cl2Ni/xxx_02a-00_NiCl2O8-87732aada027', 'runs_ext/c2db_0.25_1/V/VSe2/xxx_02a-00_VSe2-9ec753a2a759', 'runs_ext/c2db_0.25_1/S/SRuI/xxx_02a-00_I2Ru2S2-94601e1f6ead', 'runs_ext/c2db_0.25_1/I/IHf/xxx_02a-00_Hf2I2-e8512c33003a', 'runs_ext/c2db_0.25_1/O/OCuBr/xxx_02a-00_Br2Cu2O2-a95780cef7ed', 'runs_ext/c2db_0.25_1/Se/Se8ZrHf3/xxx_02a-00_ZrHf3Se8-b8fb10416122', 'runs_ext/c2db_0.25_1/Cr/CrMo3Te8/xxx_02a-00_CrMo3Te8-159f028a85d0', 'runs_ext/c2db_0.25_1/S/SAu/xxx_02a-00_Au2S2-8074370a0af2', 'runs_ext/c2db_0.25_1/S/SBrZr/xxx_02a-00_Br2S2Zr2-7c2df31b4f42', 'runs_ext/c2db_0.25_1/Se/SeIBi/xxx_02a-00_BiISe-70cbc0e44d36']\n"
     ]
    },
    {
     "name": "stderr",
     "output_type": "stream",
     "text": [
      " 38%|███████████████████████████████████████████████████████████████████████████████████████████████                                                                                                                                                           | 35/92 [12:58<31:12, 32.85s/it]"
     ]
    },
    {
     "name": "stdout",
     "output_type": "stream",
     "text": [
      "Length batch: 390\n",
      "['runs_ext/c2db_0.25_2/Br/Br2Ag/xxx_02a-00_AgBr2_spg164', 'runs_ext/c2db_0.25_2/Br/Br2Y/xxx_02a-00_Y2Br4_spg11', 'runs_ext/c2db_0.25_2/I/I3W/xxx_02a-00_W2I6_spg147', 'runs_ext/c2db_0.25_2/In/InI3/xxx_02a-00_In2I6_spg150', 'runs_ext/c2db_0.25_2/Ge/GeBr2/xxx_02a-00_Br2Ge_spg187', 'runs_ext/c2db_0.25_2/S/S2Pt/xxx_02a-00_Pt2S4_spg14', 'runs_ext/c2db_0.25_2/F/FHg/xxx_02a-00_Hg2F2_spg1', 'runs_ext/c2db_0.25_2/F/FAg/xxx_02a-00_Ag2F2_spg129', 'runs_ext/c2db_0.25_2/I/I2Pt/xxx_02a-00_Pt4I8_spg1', 'runs_ext/c2db_0.25_2/Li/Li2Cu/xxx_02a-00_CuLi2_spg187', 'runs_ext/c2db_0.25_2/Cl/Cl2Tl/xxx_02a-00_Tl2Cl4_spg6', 'runs_ext/c2db_0.25_2/Ru/RuTe3/xxx_02a-00_Ru2Te6_spg11', 'runs_ext/c2db_0.25_2/S/SIn/xxx_02a-00_In2S2_spg31', 'runs_ext/c2db_0.25_2/Cl/Cl2Zr/xxx_02a-00_ZrCl2_spg164', 'runs_ext/c2db_0.25_2/S/S2Co/xxx_02a-00_Co2S4_spg6', 'runs_ext/c2db_0.25_2/Sn/SnTe/xxx_02a-00_Sn2Te2_spg1', 'runs_ext/c2db_0.25_2/Cl/Cl2Hg/xxx_02a-00_HgCl2_spg164', 'runs_ext/c2db_0.25_2/Te/Te2Au/xxx_02a-00_Au2Te4_spg14', 'runs_ext/c2db_0.25_2/Sc/ScTe2/xxx_02a-00_ScTe2_spg164', 'runs_ext/c2db_0.25_2/Sb/SbTe2/xxx_02a-00_SbTe2_spg187', 'runs_ext/c2db_0.25_2/Ni/NiSe2/xxx_02a-00_Ni2Se4_spg14', 'runs_ext/c2db_0.25_2/O/O2Re/xxx_02a-00_Re2O4_spg6', 'runs_ext/c2db_0.25_2/Cl/ClBi/xxx_02a-00_Bi2Cl2_spg1', 'runs_ext/c2db_0.25_2/V/VTe2/xxx_02a-00_VTe2_spg164', 'runs_ext/c2db_0.25_2/Te/Te2Os/xxx_02a-00_Os2Te4_spg11', 'runs_ext/c2db_0.25_2/Sc/ScBr2/xxx_02a-00_ScBr2_spg164', 'runs_ext/c2db_0.25_2/O/O2W/xxx_02a-00_W2O4_spg11', 'runs_ext/c2db_0.25_2/S/S2Cu/xxx_02a-00_Cu2S4_spg14', 'runs_ext/c2db_0.25_2/Si/SiP2/xxx_02a-00_P8Si4_spg26', 'runs_ext/c2db_0.25_2/Mo/MoTe2/xxx_02a-00_MoTe2_spg164', 'runs_ext/c2db_0.25_2/Cu/CuI3/xxx_02a-00_Cu2I6_spg143', 'runs_ext/c2db_0.25_2/Cu/CuTe2/xxx_02a-00_Cu2Te4_spg14']\n",
      "Length batch: 1\n",
      "[]\n"
     ]
    },
    {
     "name": "stderr",
     "output_type": "stream",
     "text": [
      " 40%|████████████████████████████████████████████████████████████████████████████████████████████████████▌                                                                                                                                                     | 37/92 [12:58<16:15, 17.74s/it]"
     ]
    },
    {
     "name": "stdout",
     "output_type": "stream",
     "text": [
      "Length batch: 39\n",
      "[]\n"
     ]
    },
    {
     "name": "stderr",
     "output_type": "stream",
     "text": [
      " 42%|█████████████████████████████████████████████████████████████████████████████████████████████████████████▉                                                                                                                                                | 39/92 [12:59<08:57, 10.14s/it]"
     ]
    },
    {
     "name": "stdout",
     "output_type": "stream",
     "text": [
      "Length batch: 414\n",
      "['runs_ext/c2db_0.25_5/O/O6Cu2Te/xxx_02a-00_Cu4O12Te2_spg1', 'runs_ext/c2db_0.25_5/O/O2IrBi3/xxx_02a-00_Bi6Ir2O4_spg6', 'runs_ext/c2db_0.25_5/C/C4N6Zn/xxx_02a-00_ZnC4N6_spg6', 'runs_ext/c2db_0.25_5/Ca/CaMnGe/xxx_02a-00_Ca2Mn2Ge2_spg129', 'runs_ext/c2db_0.25_5/O/OCoBr/xxx_02a-00_Co4Br4O4_spg1', 'runs_ext/c2db_0.25_5/P/PS3Sn/xxx_02a-00_Sn2P2S6_spg1', 'runs_ext/c2db_0.25_5/O/O4AsSb/xxx_02a-00_As2O8Sb2_spg6', 'runs_ext/c2db_0.25_5/Ni/NiTe2Ta/xxx_02a-00_Ni4Ta4Te8_spg53', 'runs_ext/c2db_0.25_5/P/PNiTe3/xxx_02a-00_Ni2P2Te6_spg1', 'runs_ext/c2db_0.25_5/P/PGaSe3/xxx_02a-00_Ga2P2Se6_spg1', 'runs_ext/c2db_0.25_5/Cu/CuSeBr/xxx_02a-00_Cu2Br2Se2_spg25', 'runs_ext/c2db_0.25_5/Ti/TiZr3Te8/xxx_02a-00_TiZr3Te8_spg1', 'runs_ext/c2db_0.25_5/P/PSe3Au/xxx_02a-00_Au2P2Se6_spg1', 'runs_ext/c2db_0.25_5/O/O4GeHg2/xxx_02a-00_Hg2GeO4_spg21']\n",
      "Length batch: 106\n",
      "['runs_ext/c2db_0.25_6/S/S2Hf/xxx_02a-00_HfS2_spg187', 'runs_ext/c2db_0.25_6/Nb/NbTe/xxx_02a-00_Nb2Te2_spg6', 'runs_ext/c2db_0.25_6/O/OSn/xxx_02a-00_Sn2O2_spg31', 'runs_ext/c2db_0.25_6/Fe/FeSe2/xxx_02a-00_FeSe2_spg187']\n"
     ]
    },
    {
     "name": "stderr",
     "output_type": "stream",
     "text": [
      " 43%|████████████████████████████████████████████████████████████████████████████████████████████████████████████▋                                                                                                                                             | 40/92 [13:17<10:35, 12.22s/it]"
     ]
    },
    {
     "name": "stdout",
     "output_type": "stream",
     "text": [
      "Length batch: 2036\n",
      "['runs_ml_2/A2B3/runs/batch-000/O/O2I3/xxx_02a-00_agm200001313_spg5', 'runs_ml_2/A2B3/runs/batch-000/Si/Si2Se3/xxx_02a-00_agm200001205_spg59', 'runs_ml_2/A2B3/runs/batch-000/Cd/Cd2Cs3/xxx_02a-00_agm200000644_spg25', 'runs_ml_2/A2B3/runs/batch-000/Zr/Zr3Pb2/xxx_02a-00_agm200003335_spg47', 'runs_ml_2/A2B3/runs/batch-000/Ca/Ca3Au2/xxx_02a-00_agm200002102_spg25', 'runs_ml_2/A2B3/runs/batch-000/Ga/Ga2Sn3/xxx_02a-00_agm200000971_spg187', 'runs_ml_2/A2B3/runs/batch-000/S/S2Ce3/xxx_02a-00_agm200002904_spg123', 'runs_ml_2/A2B3/runs/batch-000/Zr/Zr3Te2/xxx_02a-00_agm200002044_spg123', 'runs_ml_2/A2B3/runs/batch-000/Mo/Mo2Tc3/xxx_02a-00_agm200002256_spg6', 'runs_ml_2/A2B3/runs/batch-000/S/S3Zn2/xxx_02a-00_agm200001263_spg25', 'runs_ml_2/A2B3/runs/batch-000/Co/Co2Br3/xxx_02a-00_agm200001195_spg12', 'runs_ml_2/A2B3/runs/batch-000/S/S3Sm2/xxx_02a-00_agm200001650_spg25', 'runs_ml_2/A2B3/runs/batch-000/Br/Br3Cd2/xxx_02a-00_agm200000889_spg12', 'runs_ml_2/A2B3/runs/batch-000/Be/Be3Os2/xxx_02a-00_agm200000842_spg59', 'runs_ml_2/A2B3/runs/batch-000/Rb/Rb3Cd2/xxx_02a-00_agm200000957_spg25', 'runs_ml_2/A2B3/runs/batch-000/Cl/Cl3Np2/xxx_02a-00_agm200001771_spg51', 'runs_ml_2/A2B3/runs/batch-000/Pr/Pr3Tm2/xxx_02a-00_agm200001814_spg5', 'runs_ml_2/A2B3/runs/batch-000/K/K2Zn3/xxx_02a-00_agm200000810_spg59', 'runs_ml_2/A2B3/runs/batch-000/Co/Co2La3/xxx_02a-00_agm200002840_spg18', 'runs_ml_2/A2B3/runs/batch-000/Tc/Tc3Pd2/xxx_02a-00_agm200002979_spg1', 'runs_ml_2/A2B3/runs/batch-000/Fe/Fe3Tc2/xxx_02a-00_agm200001411_spg183', 'runs_ml_2/A2B3/runs/batch-000/Nb/Nb3Au2/xxx_02a-00_agm200003292_spg10', 'runs_ml_2/A2B3/runs/batch-000/In/In2I3/xxx_02a-00_agm200000577_spg1', 'runs_ml_2/A2B3/runs/batch-000/Co/Co2Y3/xxx_02a-00_agm200003041_spg18', 'runs_ml_2/A2B3/runs/batch-000/P/P3Tl2/xxx_02a-00_agm200000835_spg59', 'runs_ml_2/A2B3/runs/batch-000/C/C2Ti3/xxx_02a-00_agm200003134_spg12', 'runs_ml_2/A2B3/runs/batch-000/O/O2Ca3/xxx_02a-00_agm200002861_spg25', 'runs_ml_2/A2B3/runs/batch-000/O/O3Au2/xxx_02a-00_agm200001182_spg51', 'runs_ml_2/A2B3/runs/batch-000/Cu/Cu2Ge3/xxx_02a-00_agm200001497_spg187', 'runs_ml_2/A2B3/runs/batch-000/Ce/Ce2Nd3/xxx_02a-00_agm200002488_spg5', 'runs_ml_2/A2B3/runs/batch-000/Se/Se2Sm3/xxx_02a-00_agm200002882_spg25', 'runs_ml_2/A2B3/runs/batch-000/Ag/Ag2Au3/xxx_02a-00_agm200001704_spg1', 'runs_ml_2/A2B3/runs/batch-000/Zn/Zn3Rb2/xxx_02a-00_agm200003187_spg10', 'runs_ml_2/A2B3/runs/batch-000/Si/Si2Ge3/xxx_02a-00_agm200002761_spg13', 'runs_ml_2/A2B3/runs/batch-000/Se/Se3Au2/xxx_02a-00_agm200001233_spg51', 'runs_ml_2/A2B3/runs/batch-000/Fe/Fe3Ni2/xxx_02a-00_agm200001333_spg59', 'runs_ml_2/A2B3/runs/batch-000/Cl/Cl3Mo2/xxx_02a-00_agm200002704_spg59', 'runs_ml_2/A2B3/runs/batch-000/Pm/Pm3Tm2/xxx_02a-00_agm200002394_spg1', 'runs_ml_2/A2B3/runs/batch-000/Sn/Sn3Hg2/xxx_02a-00_agm200000537_spg10', 'runs_ml_2/A2B3/runs/batch-000/N/N2Zn3/xxx_02a-00_agm200003031_spg3', 'runs_ml_2/A2B3/runs/batch-000/Ca/Ca3Sr2/xxx_02a-00_agm200001413_spg47', 'runs_ml_2/A2B3/runs/batch-000/S/S3Ba2/xxx_02a-00_agm200003144_spg12', 'runs_ml_2/A2B3/runs/batch-000/S/S3Mn2/xxx_02a-00_agm200001006_spg25', 'runs_ml_2/A2B3/runs/batch-000/Na/Na2S3/xxx_02a-00_agm200003235_spg59', 'runs_ml_2/A2B3/runs/batch-000/Mg/Mg2Te3/xxx_02a-00_agm200001281_spg25', 'runs_ml_2/A2B3/runs/batch-000/P/P3S2/xxx_02a-00_agm200002754_spg3', 'runs_ml_2/A2B3/runs/batch-000/Cu/Cu3Ag2/xxx_02a-00_agm200001614_spg18', 'runs_ml_2/A2B3/runs/batch-000/Ca/Ca2Te3/xxx_02a-00_agm200002043_spg25', 'runs_ml_2/A2B3/runs/batch-000/Na/Na3Sb2/xxx_02a-00_agm200002120_spg5', 'runs_ml_2/A2B3/runs/batch-000/H/H2Li3/xxx_02a-00_agm200000992_spg25', 'runs_ml_2/A2B3/runs/batch-000/Y/Y2Ac3/xxx_02a-00_agm200002312_spg191', 'runs_ml_2/A2B3/runs/batch-000/S/S2Sb3/xxx_02a-00_agm200001267_spg28', 'runs_ml_2/A2B3/runs/batch-000/Pt/Pt3Tl2/xxx_02a-00_agm200003174_spg187', 'runs_ml_2/A2B3/runs/batch-000/As/As3Se2/xxx_02a-00_agm200002750_spg10', 'runs_ml_2/A2B3/runs/batch-000/Hf/Hf2Th3/xxx_02a-00_agm200003019_spg191', 'runs_ml_2/A2B3/runs/batch-000/Se/Se3Pt2/xxx_02a-00_agm200001200_spg10', 'runs_ml_2/A2B3/runs/batch-000/Se/Se2Dy3/xxx_02a-00_agm200002889_spg25', 'runs_ml_2/A2B3/runs/batch-000/O/O3Pt2/xxx_02a-00_agm200002195_spg51', 'runs_ml_2/A2B3/runs/batch-000/C/C2Pr3/xxx_02a-00_agm200003150_spg12', 'runs_ml_2/A2B3/runs/batch-000/I/I3Th2/xxx_02a-00_agm200001120_spg59', 'runs_ml_2/A2B3/runs/batch-000/Zr/Zr2Dy3/xxx_02a-00_agm200002187_spg5', 'runs_ml_2/A2B3/runs/batch-000/Si/Si2Sb3/xxx_02a-00_agm200001526_spg13', 'runs_ml_2/A2B3/runs/batch-000/Li/Li3S2/xxx_02a-00_agm200001634_spg187', 'runs_ml_2/A2B3/runs/batch-000/Ti/Ti3I2/xxx_02a-00_agm200001892_spg123', 'runs_ml_2/A2B3/runs/batch-000/Te/Te2Ba3/xxx_02a-00_agm200002914_spg25', 'runs_ml_2/A2B3/runs/batch-000/H/H3Cr2/xxx_02a-00_agm200002013_spg12', 'runs_ml_2/A2B3/runs/batch-000/Zr/Zr3Dy2/xxx_02a-00_agm200002416_spg1', 'runs_ml_2/A2B3/runs/batch-000/Te/Te2Pu3/xxx_02a-00_agm200002921_spg25', 'runs_ml_2/A2B3/runs/batch-000/Cs/Cs2Pt3/xxx_02a-00_agm200000729_spg59', 'runs_ml_2/A2B3/runs/batch-000/Re/Re2Os3/xxx_02a-00_agm200002265_spg59', 'runs_ml_2/A2B3/runs/batch-000/S/S3Rh2/xxx_02a-00_agm200001269_spg25', 'runs_ml_2/A2B3/runs/batch-000/H/H3Sn2/xxx_02a-00_agm200001568_spg6', 'runs_ml_2/A2B3/runs/batch-000/Cl/Cl3Ti2/xxx_02a-00_agm200000884_spg59', 'runs_ml_2/A2B3/runs/batch-000/Zn/Zn2Ru3/xxx_02a-00_agm200002531_spg51', 'runs_ml_2/A2B3/runs/batch-000/Rb/Rb2Tl3/xxx_02a-00_agm200000800_spg59', 'runs_ml_2/A2B3/runs/batch-000/Be/Be2Ir3/xxx_02a-00_agm200002111_spg187', 'runs_ml_2/A2B3/runs/batch-000/In/In3Sb2/xxx_02a-00_agm200001745_spg5', 'runs_ml_2/A2B3/runs/batch-000/K/K2Ag3/xxx_02a-00_agm200000781_spg59', 'runs_ml_2/A2B3/runs/batch-000/H/H3Mg2/xxx_02a-00_agm200000996_spg25', 'runs_ml_2/A2B3/runs/batch-000/Br/Br3Sn2/xxx_02a-00_agm200000518_spg51', 'runs_ml_2/A2B3/runs/batch-000/K/K3Br2/xxx_02a-00_agm200000638_spg10', 'runs_ml_2/A2B3/runs/batch-000/S/S2Tb3/xxx_02a-00_agm200002910_spg25', 'runs_ml_2/A2B3/runs/batch-000/Br/Br3I2/xxx_02a-00_agm200000633_spg1', 'runs_ml_2/A2B3/runs/batch-000/I/I3Tm2/xxx_02a-00_agm200001111_spg10', 'runs_ml_2/A2B3/runs/batch-000/F/F2Hg3/xxx_02a-00_agm200000951_spg8', 'runs_ml_2/A2B3/runs/batch-000/Cl/Cl3Tb2/xxx_02a-00_agm200001172_spg25', 'runs_ml_2/A2B3/runs/batch-000/Br/Br3Dy2/xxx_02a-00_agm200000931_spg25', 'runs_ml_2/A2B3/runs/batch-000/K/K3Se2/xxx_02a-00_agm200001594_spg5', 'runs_ml_2/A2B3/runs/batch-000/O/O2Te3/xxx_02a-00_agm200002743_spg3', 'runs_ml_2/A2B3/runs/batch-000/Ru/Ru2La3/xxx_02a-00_agm200002788_spg14', 'runs_ml_2/A2B3/runs/batch-000/Zn/Zn2Rb3/xxx_02a-00_agm200003320_spg25', 'runs_ml_2/A2B3/runs/batch-000/N/N3Cs2/xxx_02a-00_agm200003280_spg59', 'runs_ml_2/A2B3/runs/batch-000/Ho/Ho2Pa3/xxx_02a-00_agm200002431_spg1', 'runs_ml_2/A2B3/runs/batch-000/O/O3As2/xxx_02a-00_agm200001183_spg3', 'runs_ml_2/A2B3/runs/batch-000/Cd/Cd2Pt3/xxx_02a-00_agm200002206_spg5', 'runs_ml_2/A2B3/runs/batch-000/Cd/Cd2Te3/xxx_02a-00_agm200001224_spg25', 'runs_ml_2/A2B3/runs/batch-000/Mo/Mo2Ta3/xxx_02a-00_agm200002620_spg191', 'runs_ml_2/A2B3/runs/batch-000/Mn/Mn3Cu2/xxx_02a-00_agm200001328_spg59']\n"
     ]
    },
    {
     "name": "stderr",
     "output_type": "stream",
     "text": [
      " 45%|███████████████████████████████████████████████████████████████████████████████████████████████████████████████▍                                                                                                                                          | 41/92 [13:19<08:02,  9.46s/it]"
     ]
    },
    {
     "name": "stdout",
     "output_type": "stream",
     "text": [
      "Length batch: 251\n",
      "['runs_ml_2/A2B5/runs/batch-000/Li/Li2I5/xxx_02a-00_agm200000180_spg157', 'runs_ml_2/A2B5/runs/batch-000/P/P2S5/xxx_02a-00_agm200000152_spg157', 'runs_ml_2/A2B5/runs/batch-000/K/K5Hg2/xxx_02a-00_agm200000281_spg157', 'runs_ml_2/A2B5/runs/batch-000/Cd/Cd2Tl5/xxx_02a-00_agm200000233_spg157', 'runs_ml_2/A2B5/runs/batch-000/Al/Al2Cl5/xxx_02a-00_agm200000220_spg157', 'runs_ml_2/A2B5/runs/batch-000/Sb/Sb2I5/xxx_02a-00_agm200000191_spg157', 'runs_ml_2/A2B5/runs/batch-000/Na/Na2I5/xxx_02a-00_agm200000184_spg157', 'runs_ml_2/A2B5/runs/batch-000/As/As2Te5/xxx_02a-00_agm200000156_spg157', 'runs_ml_2/A2B5/runs/batch-000/Cl/Cl5In2/xxx_02a-00_agm200000214_spg157', 'runs_ml_2/A2B5/runs/batch-000/Pd/Pd2I5/xxx_02a-00_agm200000187_spg157', 'runs_ml_2/A2B5/runs/batch-000/Al/Al2I5/xxx_02a-00_agm200000203_spg157', 'runs_ml_2/A2B5/runs/batch-000/F/F5As2/xxx_02a-00_agm200000110_spg157', 'runs_ml_2/A2B5/runs/batch-000/Br/Br5Cd2/xxx_02a-00_agm200000064_spg157', 'runs_ml_2/A2B5/runs/batch-000/Mn/Mn2Br5/xxx_02a-00_agm200000085_spg157', 'runs_ml_2/A2B5/runs/batch-000/F/F5Sb2/xxx_02a-00_agm200000114_spg157', 'runs_ml_2/A2B5/runs/batch-000/Br/Br5Te2/xxx_02a-00_agm200000069_spg157', 'runs_ml_2/A2B5/runs/batch-000/Ga/Ga2Hg5/xxx_02a-00_agm200000254_spg157', 'runs_ml_2/A2B5/runs/batch-000/Cl/Cl2Rb5/xxx_02a-00_agm200000173_spg157', 'runs_ml_2/A2B5/runs/batch-000/Si/Si2Br5/xxx_02a-00_agm200000063_spg157', 'runs_ml_2/A2B5/runs/batch-000/Cl/Cl5Sb2/xxx_02a-00_agm200000192_spg157', 'runs_ml_2/A2B5/runs/batch-000/Pt/Pt2Hg5/xxx_02a-00_agm200000230_spg157']\n"
     ]
    },
    {
     "name": "stderr",
     "output_type": "stream",
     "text": [
      " 46%|██████████████████████████████████████████████████████████████████████████████████████████████████████████████████▏                                                                                                                                       | 42/92 [13:23<06:22,  7.65s/it]"
     ]
    },
    {
     "name": "stdout",
     "output_type": "stream",
     "text": [
      "Length batch: 179\n",
      "['runs_ml_2/A2B7/runs/batch-000/In/In7Sn2/xxx_02a-00_agm200003424_spg183', 'runs_ml_2/A2B7/runs/batch-000/Hg/Hg2Pb7/xxx_02a-00_agm200003553_spg183', 'runs_ml_2/A2B7/runs/batch-000/Au/Au7Tl2/xxx_02a-00_agm200003481_spg183', 'runs_ml_2/A2B7/runs/batch-000/Cd/Cd2In7/xxx_02a-00_agm200003409_spg183', 'runs_ml_2/A2B7/runs/batch-000/Cd/Cd7Hg2/xxx_02a-00_agm200003415_spg183', 'runs_ml_2/A2B7/runs/batch-000/Fe/Fe2Ru7/xxx_02a-00_agm200003392_spg183', 'runs_ml_2/A2B7/runs/batch-000/Se/Se2Tl7/xxx_02a-00_agm200003429_spg183', 'runs_ml_2/A2B7/runs/batch-000/In/In7Au2/xxx_02a-00_agm200003483_spg183', 'runs_ml_2/A2B7/runs/batch-000/Mn/Mn7Os2/xxx_02a-00_agm200003523_spg183', 'runs_ml_2/A2B7/runs/batch-000/Hg/Hg2Tl7/xxx_02a-00_agm200003512_spg183']\n"
     ]
    },
    {
     "name": "stderr",
     "output_type": "stream",
     "text": [
      " 47%|████████████████████████████████████████████████████████████████████████████████████████████████████████████████████▊                                                                                                                                     | 43/92 [13:27<05:36,  6.87s/it]"
     ]
    },
    {
     "name": "stdout",
     "output_type": "stream",
     "text": [
      "Length batch: 226\n",
      "['runs_ml_2/A3B10/runs/batch-000/Rb/Rb10Ag3/xxx_02a-00_agm200003633_spg183', 'runs_ml_2/A3B10/runs/batch-000/K/K10Hg3/xxx_02a-00_agm200003735_spg183', 'runs_ml_2/A3B10/runs/batch-000/Cl/Cl10Pt3/xxx_02a-00_agm200003767_spg157', 'runs_ml_2/A3B10/runs/batch-000/Si/Si3I10/xxx_02a-00_agm200003769_spg157', 'runs_ml_2/A3B10/runs/batch-000/In/In3Hg10/xxx_02a-00_agm200003711_spg183', 'runs_ml_2/A3B10/runs/batch-000/Sn/Sn3Hg10/xxx_02a-00_agm200003619_spg183', 'runs_ml_2/A3B10/runs/batch-000/Br/Br10Mo3/xxx_02a-00_agm200003755_spg157', 'runs_ml_2/A3B10/runs/batch-000/As/As3I10/xxx_02a-00_agm200003665_spg157', 'runs_ml_2/A3B10/runs/batch-000/Br/Br10Pu3/xxx_02a-00_agm200003592_spg183', 'runs_ml_2/A3B10/runs/batch-000/Cl/Cl10Ge3/xxx_02a-00_agm200003567_spg157', 'runs_ml_2/A3B10/runs/batch-000/Cl/Cl10Tl3/xxx_02a-00_agm200003678_spg157', 'runs_ml_2/A3B10/runs/batch-000/Hg/Hg3Tl10/xxx_02a-00_agm200003680_spg183', 'runs_ml_2/A3B10/runs/batch-000/Se/Se3I10/xxx_02a-00_agm200003790_spg157', 'runs_ml_2/A3B10/runs/batch-000/F/F10Sb3/xxx_02a-00_agm200003597_spg157', 'runs_ml_2/A3B10/runs/batch-000/N/N3Cl10/xxx_02a-00_agm200003820_spg157']\n"
     ]
    },
    {
     "name": "stderr",
     "output_type": "stream",
     "text": [
      " 48%|███████████████████████████████████████████████████████████████████████████████████████████████████████████████████████▌                                                                                                                                  | 44/92 [13:33<05:05,  6.36s/it]"
     ]
    },
    {
     "name": "stdout",
     "output_type": "stream",
     "text": [
      "Length batch: 157\n",
      "['runs_ml_2/A3B11/runs/batch-000/Be/Be3F11/xxx_02a-00_agm200003885_spg157', 'runs_ml_2/A3B11/runs/batch-000/Cl/Cl3Rb11/xxx_02a-00_agm200003938_spg157', 'runs_ml_2/A3B11/runs/batch-000/Br/Br11Cd3/xxx_02a-00_agm200003842_spg157', 'runs_ml_2/A3B11/runs/batch-000/Br/Br3Hg11/xxx_02a-00_agm200003868_spg157', 'runs_ml_2/A3B11/runs/batch-000/I/I11Pb3/xxx_02a-00_agm200003976_spg157']\n"
     ]
    },
    {
     "name": "stderr",
     "output_type": "stream",
     "text": [
      " 49%|██████████████████████████████████████████████████████████████████████████████████████████████████████████████████████████▎                                                                                                                               | 45/92 [13:43<05:54,  7.55s/it]"
     ]
    },
    {
     "name": "stdout",
     "output_type": "stream",
     "text": [
      "Length batch: 930\n",
      "['runs_ml_2/A3B4/runs/batch-000/Tb/Tb4Er3/xxx_02a-00_agm200004897_spg164', 'runs_ml_2/A3B4/runs/batch-000/I/I4Pr3/xxx_02a-00_agm200004460_spg164', 'runs_ml_2/A3B4/runs/batch-000/Si/Si3Se4/xxx_02a-00_agm200004955_spg6', 'runs_ml_2/A3B4/runs/batch-000/H/H4Ru3/xxx_02a-00_agm200005014_spg164', 'runs_ml_2/A3B4/runs/batch-000/H/H4Li3/xxx_02a-00_agm200005245_spg164', 'runs_ml_2/A3B4/runs/batch-000/F/F4Cu3/xxx_02a-00_agm200004352_spg157', 'runs_ml_2/A3B4/runs/batch-000/Tc/Tc4Ru3/xxx_02a-00_agm200004914_spg187', 'runs_ml_2/A3B4/runs/batch-000/F/F4Hg3/xxx_02a-00_agm200004370_spg27', 'runs_ml_2/A3B4/runs/batch-000/In/In4Pb3/xxx_02a-00_agm200004118_spg164', 'runs_ml_2/A3B4/runs/batch-000/Zn/Zn3Tl4/xxx_02a-00_agm200005299_spg164', 'runs_ml_2/A3B4/runs/batch-000/Rb/Rb3Tl4/xxx_02a-00_agm200004283_spg183', 'runs_ml_2/A3B4/runs/batch-000/La/La3Dy4/xxx_02a-00_agm200004230_spg157', 'runs_ml_2/A3B4/runs/batch-000/C/C4N3/xxx_02a-00_agm200004759_spg25', 'runs_ml_2/A3B4/runs/batch-000/Li/Li4Ba3/xxx_02a-00_agm200004296_spg183', 'runs_ml_2/A3B4/runs/batch-000/Te/Te4Hg3/xxx_02a-00_agm200004062_spg25', 'runs_ml_2/A3B4/runs/batch-000/O/O3Br4/xxx_02a-00_agm200004750_spg25', 'runs_ml_2/A3B4/runs/batch-000/Sb/Sb3Bi4/xxx_02a-00_agm200004215_spg164', 'runs_ml_2/A3B4/runs/batch-000/Cl/Cl3I4/xxx_02a-00_agm200004092_spg25', 'runs_ml_2/A3B4/runs/batch-000/Cu/Cu3Ir4/xxx_02a-00_agm200004917_spg187', 'runs_ml_2/A3B4/runs/batch-000/Pr/Pr4Tb3/xxx_02a-00_agm200005454_spg164', 'runs_ml_2/A3B4/runs/batch-000/I/I4Nd3/xxx_02a-00_agm200004459_spg164', 'runs_ml_2/A3B4/runs/batch-000/Na/Na3S4/xxx_02a-00_agm200004978_spg3', 'runs_ml_2/A3B4/runs/batch-000/Sc/Sc3Nd4/xxx_02a-00_agm200005335_spg164', 'runs_ml_2/A3B4/runs/batch-000/Zn/Zn4In3/xxx_02a-00_agm200004287_spg183', 'runs_ml_2/A3B4/runs/batch-000/Co/Co3Br4/xxx_02a-00_agm200004483_spg59', 'runs_ml_2/A3B4/runs/batch-000/Ga/Ga4Tl3/xxx_02a-00_agm200004279_spg183', 'runs_ml_2/A3B4/runs/batch-000/K/K4Au3/xxx_02a-00_agm200004443_spg3', 'runs_ml_2/A3B4/runs/batch-000/Cl/Cl3Bi4/xxx_02a-00_agm200004651_spg25', 'runs_ml_2/A3B4/runs/batch-000/Mg/Mg4Hf3/xxx_02a-00_agm200005367_spg164', 'runs_ml_2/A3B4/runs/batch-000/Cd/Cd4Te3/xxx_02a-00_agm200004958_spg3', 'runs_ml_2/A3B4/runs/batch-000/Br/Br3I4/xxx_02a-00_agm200004020_spg1', 'runs_ml_2/A3B4/runs/batch-000/Si/Si3S4/xxx_02a-00_agm200004956_spg6', 'runs_ml_2/A3B4/runs/batch-000/F/F3As4/xxx_02a-00_agm200004031_spg3', 'runs_ml_2/A3B4/runs/batch-000/La/La4Nd3/xxx_02a-00_agm200004875_spg1', 'runs_ml_2/A3B4/runs/batch-000/Na/Na4Bi3/xxx_02a-00_agm200004659_spg164', 'runs_ml_2/A3B4/runs/batch-000/H/H4Mn3/xxx_02a-00_agm200005030_spg3', 'runs_ml_2/A3B4/runs/batch-000/Zr/Zr4Th3/xxx_02a-00_agm200004933_spg187', 'runs_ml_2/A3B4/runs/batch-000/Fe/Fe3Ru4/xxx_02a-00_agm200004755_spg187', 'runs_ml_2/A3B4/runs/batch-000/In/In4Sb3/xxx_02a-00_agm200005048_spg164', 'runs_ml_2/A3B4/runs/batch-000/Nd/Nd4Er3/xxx_02a-00_agm200005434_spg164', 'runs_ml_2/A3B4/runs/batch-000/H/H4Pd3/xxx_02a-00_agm200005028_spg3', 'runs_ml_2/A3B4/runs/batch-000/Pt/Pt3Hg4/xxx_02a-00_agm200004492_spg164', 'runs_ml_2/A3B4/runs/batch-000/Sn/Sn3Tl4/xxx_02a-00_agm200004043_spg164', 'runs_ml_2/A3B4/runs/batch-000/As/As3I4/xxx_02a-00_agm200004625_spg157', 'runs_ml_2/A3B4/runs/batch-000/Y/Y3Zr4/xxx_02a-00_agm200004915_spg187', 'runs_ml_2/A3B4/runs/batch-000/O/O4Te3/xxx_02a-00_agm200004724_spg27', 'runs_ml_2/A3B4/runs/batch-000/Ge/Ge4Hg3/xxx_02a-00_agm200004597_spg183', 'runs_ml_2/A3B4/runs/batch-000/Cl/Cl4Pd3/xxx_02a-00_agm200004551_spg3', 'runs_ml_2/A3B4/runs/batch-000/Hf/Hf3Pa4/xxx_02a-00_agm200004586_spg157']\n"
     ]
    },
    {
     "name": "stderr",
     "output_type": "stream",
     "text": [
      " 50%|█████████████████████████████████████████████████████████████████████████████████████████████████████████████████████████████                                                                                                                             | 46/92 [13:50<05:39,  7.38s/it]"
     ]
    },
    {
     "name": "stdout",
     "output_type": "stream",
     "text": [
      "Length batch: 477\n",
      "['runs_ml_2/A3B5/runs/batch-000/H/H5Te3/xxx_02a-00_agm200005561_spg8', 'runs_ml_2/A3B5/runs/batch-000/Pd/Pd5Ag3/xxx_02a-00_agm200005889_spg157', 'runs_ml_2/A3B5/runs/batch-000/Te/Te3Bi5/xxx_02a-00_agm200005597_spg157', 'runs_ml_2/A3B5/runs/batch-000/In/In3Bi5/xxx_02a-00_agm200005879_spg157', 'runs_ml_2/A3B5/runs/batch-000/Zn/Zn3Se5/xxx_02a-00_agm200005706_spg157', 'runs_ml_2/A3B5/runs/batch-000/O/O5As3/xxx_02a-00_agm200005779_spg157', 'runs_ml_2/A3B5/runs/batch-000/F/F3Ge5/xxx_02a-00_agm200005866_spg157', 'runs_ml_2/A3B5/runs/batch-000/Cl/Cl5Cd3/xxx_02a-00_agm200005793_spg157', 'runs_ml_2/A3B5/runs/batch-000/Ge/Ge5Au3/xxx_02a-00_agm200005914_spg157', 'runs_ml_2/A3B5/runs/batch-000/Sn/Sn5Sb3/xxx_02a-00_agm200005530_spg157', 'runs_ml_2/A3B5/runs/batch-000/I/I5Pb3/xxx_02a-00_agm200005727_spg157', 'runs_ml_2/A3B5/runs/batch-000/Na/Na5Br3/xxx_02a-00_agm200005685_spg157', 'runs_ml_2/A3B5/runs/batch-000/Na/Na3Pb5/xxx_02a-00_agm200005931_spg157', 'runs_ml_2/A3B5/runs/batch-000/Pd/Pd3Bi5/xxx_02a-00_agm200005644_spg157', 'runs_ml_2/A3B5/runs/batch-000/S/S3Ag5/xxx_02a-00_agm200005798_spg157', 'runs_ml_2/A3B5/runs/batch-000/Sn/Sn3Sb5/xxx_02a-00_agm200005872_spg157', 'runs_ml_2/A3B5/runs/batch-000/S/S5As3/xxx_02a-00_agm200005576_spg157', 'runs_ml_2/A3B5/runs/batch-000/Se/Se5Hg3/xxx_02a-00_agm200005555_spg8', 'runs_ml_2/A3B5/runs/batch-000/F/F5Sn3/xxx_02a-00_agm200005696_spg157', 'runs_ml_2/A3B5/runs/batch-000/Zn/Zn5Hg3/xxx_02a-00_agm200005828_spg157', 'runs_ml_2/A3B5/runs/batch-000/Ni/Ni3Se5/xxx_02a-00_agm200005540_spg8', 'runs_ml_2/A3B5/runs/batch-000/Cr/Cr3I5/xxx_02a-00_agm200005731_spg157', 'runs_ml_2/A3B5/runs/batch-000/K/K3Ca5/xxx_02a-00_agm200005841_spg157', 'runs_ml_2/A3B5/runs/batch-000/I/I3Cs5/xxx_02a-00_agm200005726_spg157', 'runs_ml_2/A3B5/runs/batch-000/Sc/Sc3Zr5/xxx_02a-00_agm200005933_spg157', 'runs_ml_2/A3B5/runs/batch-000/Cl/Cl5Zn3/xxx_02a-00_agm200005719_spg157']\n"
     ]
    },
    {
     "name": "stderr",
     "output_type": "stream",
     "text": [
      " 51%|███████████████████████████████████████████████████████████████████████████████████████████████████████████████████████████████▋                                                                                                                          | 47/92 [13:53<04:29,  5.98s/it]"
     ]
    },
    {
     "name": "stdout",
     "output_type": "stream",
     "text": [
      "Length batch: 276\n",
      "['runs_ml_2/A3B7/runs/batch-000/O/O7Se3/xxx_02a-00_agm200006087_spg183', 'runs_ml_2/A3B7/runs/batch-000/Al/Al3Br7/xxx_02a-00_agm200006206_spg157', 'runs_ml_2/A3B7/runs/batch-000/Sb/Sb3Au7/xxx_02a-00_agm200006259_spg157', 'runs_ml_2/A3B7/runs/batch-000/S/S3I7/xxx_02a-00_agm200006247_spg157', 'runs_ml_2/A3B7/runs/batch-000/Sb/Sb3Bi7/xxx_02a-00_agm200006271_spg157', 'runs_ml_2/A3B7/runs/batch-000/I/I7Au3/xxx_02a-00_agm200006051_spg157', 'runs_ml_2/A3B7/runs/batch-000/In/In3I7/xxx_02a-00_agm200006070_spg183', 'runs_ml_2/A3B7/runs/batch-000/Ga/Ga3Br7/xxx_02a-00_agm200006097_spg157', 'runs_ml_2/A3B7/runs/batch-000/Br/Br7I3/xxx_02a-00_agm200006001_spg183', 'runs_ml_2/A3B7/runs/batch-000/Cl/Cl3Tl7/xxx_02a-00_agm200006063_spg183', 'runs_ml_2/A3B7/runs/batch-000/I/I7Ba3/xxx_02a-00_agm200006146_spg183', 'runs_ml_2/A3B7/runs/batch-000/Mn/Mn7Fe3/xxx_02a-00_agm200006274_spg157', 'runs_ml_2/A3B7/runs/batch-000/P/P3Br7/xxx_02a-00_agm200006205_spg157', 'runs_ml_2/A3B7/runs/batch-000/Br/Br3In7/xxx_02a-00_agm200006169_spg157']\n"
     ]
    },
    {
     "name": "stderr",
     "output_type": "stream",
     "text": [
      " 52%|██████████████████████████████████████████████████████████████████████████████████████████████████████████████████████████████████▍                                                                                                                       | 48/92 [13:57<03:57,  5.40s/it]"
     ]
    },
    {
     "name": "stdout",
     "output_type": "stream",
     "text": [
      "Length batch: 319\n",
      "['runs_ml_2/A3B8/runs/batch-000/F/F8In3/xxx_02a-00_agm200006437_spg156', 'runs_ml_2/A3B8/runs/batch-000/Br/Br8Pb3/xxx_02a-00_agm200006392_spg156', 'runs_ml_2/A3B8/runs/batch-000/I/I8Ho3/xxx_02a-00_agm200006589_spg156', 'runs_ml_2/A3B8/runs/batch-000/Ga/Ga3Bi8/xxx_02a-00_agm200006513_spg156', 'runs_ml_2/A3B8/runs/batch-000/I/I8Pt3/xxx_02a-00_agm200006419_spg156', 'runs_ml_2/A3B8/runs/batch-000/I/I8Tm3/xxx_02a-00_agm200006580_spg156', 'runs_ml_2/A3B8/runs/batch-000/I/I8Sm3/xxx_02a-00_agm200006577_spg156', 'runs_ml_2/A3B8/runs/batch-000/Ca/Ca3Br8/xxx_02a-00_agm200006394_spg156', 'runs_ml_2/A3B8/runs/batch-000/Te/Te8Au3/xxx_02a-00_agm200006496_spg156', 'runs_ml_2/A3B8/runs/batch-000/F/F8Tl3/xxx_02a-00_agm200006435_spg156', 'runs_ml_2/A3B8/runs/batch-000/Br/Br3Rb8/xxx_02a-00_agm200006369_spg156']\n"
     ]
    },
    {
     "name": "stderr",
     "output_type": "stream",
     "text": [
      " 53%|█████████████████████████████████████████████████████████████████████████████████████████████████████████████████████████████████████▏                                                                                                                    | 49/92 [14:02<03:55,  5.47s/it]"
     ]
    },
    {
     "name": "stdout",
     "output_type": "stream",
     "text": [
      "Length batch: 193\n",
      "['runs_ml_2/A4B11/runs/batch-000/Rb/Rb11I4/xxx_02a-00_agm200006751_spg157', 'runs_ml_2/A4B11/runs/batch-000/Rb/Rb11Ag4/xxx_02a-00_agm200006736_spg157', 'runs_ml_2/A4B11/runs/batch-000/Cl/Cl4Rb11/xxx_02a-00_agm200006755_spg157', 'runs_ml_2/A4B11/runs/batch-000/Br/Br11Cd4/xxx_02a-00_agm200006638_spg157', 'runs_ml_2/A4B11/runs/batch-000/Na/Na11Br4/xxx_02a-00_agm200006649_spg157', 'runs_ml_2/A4B11/runs/batch-000/Br/Br4Tl11/xxx_02a-00_agm200006651_spg157', 'runs_ml_2/A4B11/runs/batch-000/Cl/Cl11Sn4/xxx_02a-00_agm200006709_spg157', 'runs_ml_2/A4B11/runs/batch-000/I/I11Pr4/xxx_02a-00_agm200006813_spg157']\n"
     ]
    },
    {
     "name": "stderr",
     "output_type": "stream",
     "text": [
      " 54%|███████████████████████████████████████████████████████████████████████████████████████████████████████████████████████████████████████▊                                                                                                                  | 50/92 [14:19<06:07,  8.75s/it]"
     ]
    },
    {
     "name": "stdout",
     "output_type": "stream",
     "text": [
      "Length batch: 712\n",
      "['runs_ml_2/A4B5/runs/batch-000/In/In5Tl4/xxx_02a-00_agm200006898_spg6', 'runs_ml_2/A4B5/runs/batch-000/Br/Br5Dy4/xxx_02a-00_agm200007337_spg157', 'runs_ml_2/A4B5/runs/batch-000/F/F4Cu5/xxx_02a-00_agm200007346_spg157', 'runs_ml_2/A4B5/runs/batch-000/In/In4I5/xxx_02a-00_agm200007026_spg157', 'runs_ml_2/A4B5/runs/batch-000/H/H5Na4/xxx_02a-00_agm200007387_spg157', 'runs_ml_2/A4B5/runs/batch-000/Pr/Pr5Tb4/xxx_02a-00_agm200007295_spg6', 'runs_ml_2/A4B5/runs/batch-000/Cd/Cd5I4/xxx_02a-00_agm200007560_spg157', 'runs_ml_2/A4B5/runs/batch-000/Er/Er5Tm4/xxx_02a-00_agm200007523_spg157', 'runs_ml_2/A4B5/runs/batch-000/F/F5Au4/xxx_02a-00_agm200007134_spg6', 'runs_ml_2/A4B5/runs/batch-000/Li/Li4Na5/xxx_02a-00_agm200007228_spg6', 'runs_ml_2/A4B5/runs/batch-000/Cl/Cl4Br5/xxx_02a-00_agm200007127_spg6', 'runs_ml_2/A4B5/runs/batch-000/In/In4Pb5/xxx_02a-00_agm200007248_spg6', 'runs_ml_2/A4B5/runs/batch-000/La/La4Ho5/xxx_02a-00_agm200007506_spg157', 'runs_ml_2/A4B5/runs/batch-000/Cd/Cd4Sb5/xxx_02a-00_agm200007559_spg157', 'runs_ml_2/A4B5/runs/batch-000/I/I5Dy4/xxx_02a-00_agm200007041_spg157', 'runs_ml_2/A4B5/runs/batch-000/Zn/Zn4I5/xxx_02a-00_agm200007555_spg157', 'runs_ml_2/A4B5/runs/batch-000/Br/Br5Tl4/xxx_02a-00_agm200006948_spg157', 'runs_ml_2/A4B5/runs/batch-000/Pb/Pb5Bi4/xxx_02a-00_agm200006916_spg6', 'runs_ml_2/A4B5/runs/batch-000/Cl/Cl4Tl5/xxx_02a-00_agm200006902_spg157', 'runs_ml_2/A4B5/runs/batch-000/Cl/Cl4Au5/xxx_02a-00_agm200007226_spg6', 'runs_ml_2/A4B5/runs/batch-000/H/H4I5/xxx_02a-00_agm200007182_spg6', 'runs_ml_2/A4B5/runs/batch-000/Cl/Cl5Te4/xxx_02a-00_agm200007191_spg6', 'runs_ml_2/A4B5/runs/batch-000/Se/Se4In5/xxx_02a-00_agm200007548_spg157', 'runs_ml_2/A4B5/runs/batch-000/Na/Na4Ag5/xxx_02a-00_agm200007415_spg157', 'runs_ml_2/A4B5/runs/batch-000/I/I5Tl4/xxx_02a-00_agm200007024_spg157', 'runs_ml_2/A4B5/runs/batch-000/Ni/Ni5Br4/xxx_02a-00_agm200007319_spg157', 'runs_ml_2/A4B5/runs/batch-000/Br/Br4Pd5/xxx_02a-00_agm200007322_spg157', 'runs_ml_2/A4B5/runs/batch-000/La/La5Ho4/xxx_02a-00_agm200007266_spg6', 'runs_ml_2/A4B5/runs/batch-000/H/H5Te4/xxx_02a-00_agm200007179_spg6', 'runs_ml_2/A4B5/runs/batch-000/I/I5Pr4/xxx_02a-00_agm200007036_spg157', 'runs_ml_2/A4B5/runs/batch-000/S/S5Hg4/xxx_02a-00_agm200007404_spg157', 'runs_ml_2/A4B5/runs/batch-000/Ag/Ag4Bi5/xxx_02a-00_agm200007206_spg6', 'runs_ml_2/A4B5/runs/batch-000/Cd/Cd4Tl5/xxx_02a-00_agm200007151_spg6', 'runs_ml_2/A4B5/runs/batch-000/As/As5Hg4/xxx_02a-00_agm200007230_spg6']\n"
     ]
    },
    {
     "name": "stderr",
     "output_type": "stream",
     "text": [
      " 55%|██████████████████████████████████████████████████████████████████████████████████████████████████████████████████████████████████████████▌                                                                                                               | 51/92 [14:20<04:28,  6.56s/it]"
     ]
    },
    {
     "name": "stdout",
     "output_type": "stream",
     "text": [
      "Length batch: 80\n",
      "['runs_ml_2/A4B7/runs/batch-000/Cl/Cl7Sn4/xxx_02a-00_agm200007618_spg183', 'runs_ml_2/A4B7/runs/batch-000/In/In4I7/xxx_02a-00_agm200007646_spg183', 'runs_ml_2/A4B7/runs/batch-000/Br/Br7In4/xxx_02a-00_agm200007600_spg183', 'runs_ml_2/A4B7/runs/batch-000/F/F7As4/xxx_02a-00_agm200007663_spg157']\n"
     ]
    },
    {
     "name": "stderr",
     "output_type": "stream",
     "text": [
      " 57%|█████████████████████████████████████████████████████████████████████████████████████████████████████████████████████████████████████████████▎                                                                                                            | 52/92 [14:30<05:05,  7.65s/it]"
     ]
    },
    {
     "name": "stdout",
     "output_type": "stream",
     "text": [
      "Length batch: 385\n",
      "['runs_ml_2/A4B9/runs/batch-000/In/In4Au9/xxx_02a-00_agm200008081_spg157', 'runs_ml_2/A4B9/runs/batch-000/Pt/Pt4Bi9/xxx_02a-00_agm200007710_spg157', 'runs_ml_2/A4B9/runs/batch-000/Cd/Cd4Hg9/xxx_02a-00_agm200007732_spg157', 'runs_ml_2/A4B9/runs/batch-000/Pd/Pd4Te9/xxx_02a-00_agm200007938_spg183', 'runs_ml_2/A4B9/runs/batch-000/Rb/Rb9Hg4/xxx_02a-00_agm200007775_spg183', 'runs_ml_2/A4B9/runs/batch-000/Cl/Cl9Au4/xxx_02a-00_agm200007788_spg157', 'runs_ml_2/A4B9/runs/batch-000/Sn/Sn4Pb9/xxx_02a-00_agm200008078_spg157', 'runs_ml_2/A4B9/runs/batch-000/Pt/Pt4Tl9/xxx_02a-00_agm200007709_spg157', 'runs_ml_2/A4B9/runs/batch-000/Br/Br9Pb4/xxx_02a-00_agm200007705_spg183', 'runs_ml_2/A4B9/runs/batch-000/Cl/Cl9Pm4/xxx_02a-00_agm200008010_spg183', 'runs_ml_2/A4B9/runs/batch-000/Cl/Cl9Cr4/xxx_02a-00_agm200007999_spg183', 'runs_ml_2/A4B9/runs/batch-000/Br/Br4I9/xxx_02a-00_agm200008033_spg157', 'runs_ml_2/A4B9/runs/batch-000/Sn/Sn4Au9/xxx_02a-00_agm200008076_spg157', 'runs_ml_2/A4B9/runs/batch-000/P/P4Cl9/xxx_02a-00_agm200008069_spg157', 'runs_ml_2/A4B9/runs/batch-000/Ga/Ga4In9/xxx_02a-00_agm200007767_spg183', 'runs_ml_2/A4B9/runs/batch-000/Cd/Cd4Tl9/xxx_02a-00_agm200007724_spg157', 'runs_ml_2/A4B9/runs/batch-000/Se/Se4Ag9/xxx_02a-00_agm200007917_spg183', 'runs_ml_2/A4B9/runs/batch-000/Pd/Pd4I9/xxx_02a-00_agm200007807_spg183', 'runs_ml_2/A4B9/runs/batch-000/S/S4Ni9/xxx_02a-00_agm200007925_spg183', 'runs_ml_2/A4B9/runs/batch-000/I/I9Er4/xxx_02a-00_agm200007980_spg183', 'runs_ml_2/A4B9/runs/batch-000/F/F4Cs9/xxx_02a-00_agm200007716_spg157']\n"
     ]
    },
    {
     "name": "stderr",
     "output_type": "stream",
     "text": [
      " 58%|████████████████████████████████████████████████████████████████████████████████████████████████████████████████████████████████████████████████                                                                                                          | 53/92 [14:36<04:30,  6.93s/it]"
     ]
    },
    {
     "name": "stdout",
     "output_type": "stream",
     "text": [
      "Length batch: 108\n",
      "['runs_ml_2/A5B11/runs/batch-000/Zn/Zn5I11/xxx_02a-00_agm200008185_spg157', 'runs_ml_2/A5B11/runs/batch-000/O/O11I5/xxx_02a-00_agm200008101_spg157', 'runs_ml_2/A5B11/runs/batch-000/Si/Si5I11/xxx_02a-00_agm200008134_spg157']\n"
     ]
    },
    {
     "name": "stderr",
     "output_type": "stream",
     "text": [
      " 59%|██████████████████████████████████████████████████████████████████████████████████████████████████████████████████████████████████████████████████▋                                                                                                       | 54/92 [14:39<03:39,  5.78s/it]"
     ]
    },
    {
     "name": "stdout",
     "output_type": "stream",
     "text": [
      "Length batch: 128\n",
      "['runs_ml_2/A5B12/runs/batch-000/Cd/Cd5Hg12/xxx_02a-00_agm200008291_spg157', 'runs_ml_2/A5B12/runs/batch-000/Br/Br5Hg12/xxx_02a-00_agm200008268_spg157', 'runs_ml_2/A5B12/runs/batch-000/Zn/Zn5Br12/xxx_02a-00_agm200008253_spg157', 'runs_ml_2/A5B12/runs/batch-000/Cl/Cl12Cd5/xxx_02a-00_agm200008289_spg157', 'runs_ml_2/A5B12/runs/batch-000/Be/Be5Cl12/xxx_02a-00_agm200008364_spg157', 'runs_ml_2/A5B12/runs/batch-000/I/I12Ce5/xxx_02a-00_agm200008383_spg157', 'runs_ml_2/A5B12/runs/batch-000/Cd/Cd12Hg5/xxx_02a-00_agm200008292_spg157', 'runs_ml_2/A5B12/runs/batch-000/I/I12U5/xxx_02a-00_agm200008382_spg157', 'runs_ml_2/A5B12/runs/batch-000/Au/Au5Hg12/xxx_02a-00_agm200008346_spg157', 'runs_ml_2/A5B12/runs/batch-000/Hg/Hg12Bi5/xxx_02a-00_agm200008406_spg157']\n"
     ]
    },
    {
     "name": "stderr",
     "output_type": "stream",
     "text": [
      " 60%|█████████████████████████████████████████████████████████████████████████████████████████████████████████████████████████████████████████████████████▍                                                                                                    | 55/92 [14:55<05:32,  8.99s/it]"
     ]
    },
    {
     "name": "stdout",
     "output_type": "stream",
     "text": [
      "Length batch: 684\n",
      "['runs_ml_2/A5B6/runs/batch-000/H/H6Cl5/xxx_02a-00_agm200008786_spg6', 'runs_ml_2/A5B6/runs/batch-000/Nd/Nd5Dy6/xxx_02a-00_agm200008910_spg6', 'runs_ml_2/A5B6/runs/batch-000/Ti/Ti5Te6/xxx_02a-00_agm200008995_spg157', 'runs_ml_2/A5B6/runs/batch-000/Br/Br5Tl6/xxx_02a-00_agm200008437_spg157', 'runs_ml_2/A5B6/runs/batch-000/F/F6Br5/xxx_02a-00_agm200008692_spg6', 'runs_ml_2/A5B6/runs/batch-000/La/La6Dy5/xxx_02a-00_agm200008893_spg6', 'runs_ml_2/A5B6/runs/batch-000/Sm/Sm6Ho5/xxx_02a-00_agm200008928_spg6', 'runs_ml_2/A5B6/runs/batch-000/F/F5In6/xxx_02a-00_agm200008470_spg157', 'runs_ml_2/A5B6/runs/batch-000/Zn/Zn6Cd5/xxx_02a-00_agm200008744_spg6', 'runs_ml_2/A5B6/runs/batch-000/In/In6Bi5/xxx_02a-00_agm200008627_spg6', 'runs_ml_2/A5B6/runs/batch-000/H/H6Li5/xxx_02a-00_agm200009147_spg157', 'runs_ml_2/A5B6/runs/batch-000/Pb/Pb5Bi6/xxx_02a-00_agm200008871_spg6', 'runs_ml_2/A5B6/runs/batch-000/Sm/Sm6Dy5/xxx_02a-00_agm200008926_spg6', 'runs_ml_2/A5B6/runs/batch-000/La/La6Ho5/xxx_02a-00_agm200008895_spg6', 'runs_ml_2/A5B6/runs/batch-000/Ga/Ga6Sn5/xxx_02a-00_agm200008756_spg6', 'runs_ml_2/A5B6/runs/batch-000/S/S6Ni5/xxx_02a-00_agm200009067_spg157', 'runs_ml_2/A5B6/runs/batch-000/Pr/Pr6Tb5/xxx_02a-00_agm200008946_spg6', 'runs_ml_2/A5B6/runs/batch-000/Sc/Sc6Pa5/xxx_02a-00_agm200008850_spg6', 'runs_ml_2/A5B6/runs/batch-000/Cl/Cl5Ga6/xxx_02a-00_agm200008516_spg157', 'runs_ml_2/A5B6/runs/batch-000/Dy/Dy5Er6/xxx_02a-00_agm200008972_spg6', 'runs_ml_2/A5B6/runs/batch-000/Br/Br5Ho6/xxx_02a-00_agm200008456_spg157', 'runs_ml_2/A5B6/runs/batch-000/Pm/Pm5Tb6/xxx_02a-00_agm200008982_spg6', 'runs_ml_2/A5B6/runs/batch-000/Cl/Cl6Ni5/xxx_02a-00_agm200008512_spg157', 'runs_ml_2/A5B6/runs/batch-000/Cl/Cl6Ba5/xxx_02a-00_agm200009115_spg157', 'runs_ml_2/A5B6/runs/batch-000/Br/Br5Te6/xxx_02a-00_agm200008697_spg6', 'runs_ml_2/A5B6/runs/batch-000/I/I6Ce5/xxx_02a-00_agm200009106_spg157', 'runs_ml_2/A5B6/runs/batch-000/Br/Br6Au5/xxx_02a-00_agm200008431_spg191', 'runs_ml_2/A5B6/runs/batch-000/Sc/Sc5Br6/xxx_02a-00_agm200008436_spg157', 'runs_ml_2/A5B6/runs/batch-000/Ag/Ag6Sn5/xxx_02a-00_agm200008754_spg6', 'runs_ml_2/A5B6/runs/batch-000/Li/Li6Na5/xxx_02a-00_agm200008826_spg6', 'runs_ml_2/A5B6/runs/batch-000/Cl/Cl6Co5/xxx_02a-00_agm200009112_spg157', 'runs_ml_2/A5B6/runs/batch-000/Pm/Pm6Dy5/xxx_02a-00_agm200008979_spg6', 'runs_ml_2/A5B6/runs/batch-000/S/S6Cu5/xxx_02a-00_agm200009056_spg157', 'runs_ml_2/A5B6/runs/batch-000/K/K5Br6/xxx_02a-00_agm200008446_spg157', 'runs_ml_2/A5B6/runs/batch-000/Y/Y5Tb6/xxx_02a-00_agm200008737_spg6']\n"
     ]
    },
    {
     "name": "stderr",
     "output_type": "stream",
     "text": [
      " 61%|████████████████████████████████████████████████████████████████████████████████████████████████████████████████████████████████████████████████████████▏                                                                                                 | 56/92 [15:03<05:07,  8.55s/it]"
     ]
    },
    {
     "name": "stdout",
     "output_type": "stream",
     "text": [
      "Length batch: 227\n",
      "['runs_ml_2/A5B7/runs/batch-000/Ge/Ge5Br7/xxx_02a-00_agm200009349_spg157', 'runs_ml_2/A5B7/runs/batch-000/F/F7Hg5/xxx_02a-00_agm200009363_spg157', 'runs_ml_2/A5B7/runs/batch-000/Ga/Ga5Hg7/xxx_02a-00_agm200009190_spg157', 'runs_ml_2/A5B7/runs/batch-000/Li/Li5I7/xxx_02a-00_agm200009327_spg157', 'runs_ml_2/A5B7/runs/batch-000/Ni/Ni5I7/xxx_02a-00_agm200009374_spg157', 'runs_ml_2/A5B7/runs/batch-000/Au/Au7Tl5/xxx_02a-00_agm200009233_spg157', 'runs_ml_2/A5B7/runs/batch-000/F/F7In5/xxx_02a-00_agm200009402_spg157', 'runs_ml_2/A5B7/runs/batch-000/S/S5Tl7/xxx_02a-00_agm200009370_spg157', 'runs_ml_2/A5B7/runs/batch-000/Cl/Cl7Hg5/xxx_02a-00_agm200009387_spg157', 'runs_ml_2/A5B7/runs/batch-000/Cl/Cl7Mn5/xxx_02a-00_agm200009419_spg157', 'runs_ml_2/A5B7/runs/batch-000/Hg/Hg5Tl7/xxx_02a-00_agm200009211_spg157', 'runs_ml_2/A5B7/runs/batch-000/Cd/Cd5Pb7/xxx_02a-00_agm200009366_spg157', 'runs_ml_2/A5B7/runs/batch-000/Br/Br5Tl7/xxx_02a-00_agm200009170_spg157', 'runs_ml_2/A5B7/runs/batch-000/Cs/Cs5Hg7/xxx_02a-00_agm200009344_spg157']\n"
     ]
    },
    {
     "name": "stderr",
     "output_type": "stream",
     "text": [
      " 62%|██████████████████████████████████████████████████████████████████████████████████████████████████████████████████████████████████████████████████████████▉                                                                                               | 57/92 [15:12<05:05,  8.72s/it]"
     ]
    },
    {
     "name": "stdout",
     "output_type": "stream",
     "text": [
      "Length batch: 362\n",
      "['runs_ml_2/A5B8/runs/batch-000/Ca/Ca5Br8/xxx_02a-00_agm200009474_spg183', 'runs_ml_2/A5B8/runs/batch-000/Sn/Sn5Bi8/xxx_02a-00_agm200009784_spg157', 'runs_ml_2/A5B8/runs/batch-000/Au/Au5Pb8/xxx_02a-00_agm200009673_spg183', 'runs_ml_2/A5B8/runs/batch-000/Cl/Cl5In8/xxx_02a-00_agm200009741_spg157', 'runs_ml_2/A5B8/runs/batch-000/Ge/Ge5Te8/xxx_02a-00_agm200009426_spg157', 'runs_ml_2/A5B8/runs/batch-000/Sr/Sr8I5/xxx_02a-00_agm200009714_spg183', 'runs_ml_2/A5B8/runs/batch-000/S/S5Tl8/xxx_02a-00_agm200009600_spg183', 'runs_ml_2/A5B8/runs/batch-000/H/H5Na8/xxx_02a-00_agm200009587_spg183', 'runs_ml_2/A5B8/runs/batch-000/F/F5In8/xxx_02a-00_agm200009812_spg157', 'runs_ml_2/A5B8/runs/batch-000/I/I8Tl5/xxx_02a-00_agm200009694_spg183', 'runs_ml_2/A5B8/runs/batch-000/Se/Se5I8/xxx_02a-00_agm200009786_spg157', 'runs_ml_2/A5B8/runs/batch-000/In/In8Te5/xxx_02a-00_agm200009630_spg183', 'runs_ml_2/A5B8/runs/batch-000/Mn/Mn5Se8/xxx_02a-00_agm200009562_spg183', 'runs_ml_2/A5B8/runs/batch-000/F/F8Tl5/xxx_02a-00_agm200009513_spg183']\n"
     ]
    },
    {
     "name": "stderr",
     "output_type": "stream",
     "text": [
      " 63%|█████████████████████████████████████████████████████████████████████████████████████████████████████████████████████████████████████████████████████████████▌                                                                                            | 58/92 [15:21<05:00,  8.83s/it]"
     ]
    },
    {
     "name": "stdout",
     "output_type": "stream",
     "text": [
      "Length batch: 607\n",
      "['runs_ml_2/A5B9/runs/batch-000/Ga/Ga5I9/xxx_02a-00_agm200010007_spg183', 'runs_ml_2/A5B9/runs/batch-000/V/V5Br9/xxx_02a-00_agm200010136_spg183', 'runs_ml_2/A5B9/runs/batch-000/Br/Br9Nd5/xxx_02a-00_agm200010148_spg183', 'runs_ml_2/A5B9/runs/batch-000/Se/Se5In9/xxx_02a-00_agm200010221_spg183', 'runs_ml_2/A5B9/runs/batch-000/Mn/Mn5Se9/xxx_02a-00_agm200010220_spg183', 'runs_ml_2/A5B9/runs/batch-000/As/As5Se9/xxx_02a-00_agm200009993_spg183', 'runs_ml_2/A5B9/runs/batch-000/Te/Te9Au5/xxx_02a-00_agm200009900_spg157', 'runs_ml_2/A5B9/runs/batch-000/O/O9Hg5/xxx_02a-00_agm200010114_spg183', 'runs_ml_2/A5B9/runs/batch-000/K/K9Cd5/xxx_02a-00_agm200010040_spg183', 'runs_ml_2/A5B9/runs/batch-000/Na/Na9I5/xxx_02a-00_agm200010339_spg183', 'runs_ml_2/A5B9/runs/batch-000/Cl/Cl5Cu9/xxx_02a-00_agm200009998_spg157', 'runs_ml_2/A5B9/runs/batch-000/Cl/Cl9Ga5/xxx_02a-00_agm200010325_spg183', 'runs_ml_2/A5B9/runs/batch-000/H/H9Cr5/xxx_02a-00_agm200010254_spg183', 'runs_ml_2/A5B9/runs/batch-000/F/F9Pb5/xxx_02a-00_agm200010192_spg183', 'runs_ml_2/A5B9/runs/batch-000/Se/Se9Hg5/xxx_02a-00_agm200009880_spg157', 'runs_ml_2/A5B9/runs/batch-000/Cl/Cl9Ca5/xxx_02a-00_agm200010401_spg183', 'runs_ml_2/A5B9/runs/batch-000/Cl/Cl5Pr9/xxx_02a-00_agm200009950_spg183', 'runs_ml_2/A5B9/runs/batch-000/Pt/Pt5Bi9/xxx_02a-00_agm200009860_spg157', 'runs_ml_2/A5B9/runs/batch-000/Li/Li9Cl5/xxx_02a-00_agm200010331_spg183', 'runs_ml_2/A5B9/runs/batch-000/As/As5Br9/xxx_02a-00_agm200010124_spg183', 'runs_ml_2/A5B9/runs/batch-000/Se/Se5Hg9/xxx_02a-00_agm200009879_spg157', 'runs_ml_2/A5B9/runs/batch-000/Cu/Cu5Bi9/xxx_02a-00_agm200010243_spg183', 'runs_ml_2/A5B9/runs/batch-000/H/H9Pd5/xxx_02a-00_agm200010247_spg183', 'runs_ml_2/A5B9/runs/batch-000/Br/Br5Sn9/xxx_02a-00_agm200010431_spg157', 'runs_ml_2/A5B9/runs/batch-000/Br/Br9Sn5/xxx_02a-00_agm200009966_spg183']\n"
     ]
    },
    {
     "name": "stderr",
     "output_type": "stream",
     "text": [
      " 64%|████████████████████████████████████████████████████████████████████████████████████████████████████████████████████████████████████████████████████████████████▎                                                                                         | 59/92 [15:26<04:16,  7.76s/it]"
     ]
    },
    {
     "name": "stdout",
     "output_type": "stream",
     "text": [
      "Length batch: 165\n",
      "['runs_ml_2/A6B7/runs/batch-000/Cd/Cd7Tl6/xxx_02a-00_agm200010506_spg157', 'runs_ml_2/A6B7/runs/batch-000/F/F7Au6/xxx_02a-00_agm200010649_spg157', 'runs_ml_2/A6B7/runs/batch-000/Se/Se6Ag7/xxx_02a-00_agm200010605_spg157', 'runs_ml_2/A6B7/runs/batch-000/Sn/Sn6Sb7/xxx_02a-00_agm200010663_spg157', 'runs_ml_2/A6B7/runs/batch-000/Te/Te7Hg6/xxx_02a-00_agm200010624_spg157']\n"
     ]
    },
    {
     "name": "stderr",
     "output_type": "stream",
     "text": [
      " 65%|███████████████████████████████████████████████████████████████████████████████████████████████████████████████████████████████████████████████████████████████████                                                                                       | 60/92 [15:33<03:59,  7.49s/it]"
     ]
    },
    {
     "name": "stdout",
     "output_type": "stream",
     "text": [
      "Length batch: 172\n",
      "['runs_ml_2/A7B10/runs/batch-000/Cl/Cl10Br7/xxx_02a-00_agm200010849_spg157', 'runs_ml_2/A7B10/runs/batch-000/Sb/Sb10Pb7/xxx_02a-00_agm200010902_spg157', 'runs_ml_2/A7B10/runs/batch-000/Au/Au10Hg7/xxx_02a-00_agm200010824_spg183', 'runs_ml_2/A7B10/runs/batch-000/As/As7Tl10/xxx_02a-00_agm200010864_spg157', 'runs_ml_2/A7B10/runs/batch-000/As/As7Br10/xxx_02a-00_agm200010909_spg157', 'runs_ml_2/A7B10/runs/batch-000/P/P7I10/xxx_02a-00_agm200010925_spg157', 'runs_ml_2/A7B10/runs/batch-000/Ag/Ag7Te10/xxx_02a-00_agm200010740_spg157', 'runs_ml_2/A7B10/runs/batch-000/P/P7Br10/xxx_02a-00_agm200010911_spg157']\n"
     ]
    },
    {
     "name": "stderr",
     "output_type": "stream",
     "text": [
      " 66%|█████████████████████████████████████████████████████████████████████████████████████████████████████████████████████████████████████████████████████████████████████▊                                                                                    | 61/92 [15:36<03:11,  6.16s/it]"
     ]
    },
    {
     "name": "stdout",
     "output_type": "stream",
     "text": [
      "Length batch: 40\n",
      "['runs_ml_2/A7B11/runs/batch-000/In/In11Tl7/xxx_02a-00_agm200010967_spg157', 'runs_ml_2/A7B11/runs/batch-000/Pb/Pb11Bi7/xxx_02a-00_agm200010979_spg157', 'runs_ml_2/A7B11/runs/batch-000/Au/Au7Hg11/xxx_02a-00_agm200010959_spg157']\n"
     ]
    },
    {
     "name": "stderr",
     "output_type": "stream",
     "text": [
      " 67%|████████████████████████████████████████████████████████████████████████████████████████████████████████████████████████████████████████████████████████████████████████▍                                                                                 | 62/92 [15:38<02:24,  4.83s/it]"
     ]
    },
    {
     "name": "stdout",
     "output_type": "stream",
     "text": [
      "Length batch: 162\n",
      "['runs_ml_2/A7B8/runs/batch-000/Sn/Sn7Bi8/xxx_02a-00_agm200011145_spg183', 'runs_ml_2/A7B8/runs/batch-000/Ag/Ag7Hf8/xxx_02a-00_agm200011151_spg183', 'runs_ml_2/A7B8/runs/batch-000/Zn/Zn8Hg7/xxx_02a-00_agm200011044_spg183', 'runs_ml_2/A7B8/runs/batch-000/Rb/Rb7Ag8/xxx_02a-00_agm200011012_spg183', 'runs_ml_2/A7B8/runs/batch-000/Cl/Cl8Tl7/xxx_02a-00_agm200011163_spg183', 'runs_ml_2/A7B8/runs/batch-000/Ag/Ag7In8/xxx_02a-00_agm200011098_spg183', 'runs_ml_2/A7B8/runs/batch-000/Cl/Cl8Sn7/xxx_02a-00_agm200011144_spg183', 'runs_ml_2/A7B8/runs/batch-000/Ga/Ga8Sn7/xxx_02a-00_agm200010999_spg183', 'runs_ml_2/A7B8/runs/batch-000/Ag/Ag7Hg8/xxx_02a-00_agm200011153_spg183']\n"
     ]
    },
    {
     "name": "stderr",
     "output_type": "stream",
     "text": [
      " 68%|███████████████████████████████████████████████████████████████████████████████████████████████████████████████████████████████████████████████████████████████████████████▏                                                                              | 63/92 [15:43<02:23,  4.93s/it]"
     ]
    },
    {
     "name": "stdout",
     "output_type": "stream",
     "text": [
      "Length batch: 213\n",
      "['runs_ml_2/A7B9/runs/batch-000/I/I7Au9/xxx_02a-00_agm200011245_spg183', 'runs_ml_2/A7B9/runs/batch-000/Zn/Zn9Hg7/xxx_02a-00_agm200011242_spg183', 'runs_ml_2/A7B9/runs/batch-000/Br/Br9Sn7/xxx_02a-00_agm200011345_spg183', 'runs_ml_2/A7B9/runs/batch-000/Sc/Sc7Hf9/xxx_02a-00_agm200011268_spg183', 'runs_ml_2/A7B9/runs/batch-000/Ag/Ag7Cs9/xxx_02a-00_agm200011385_spg183', 'runs_ml_2/A7B9/runs/batch-000/Sb/Sb9Tl7/xxx_02a-00_agm200011274_spg183', 'runs_ml_2/A7B9/runs/batch-000/Ga/Ga7Hg9/xxx_02a-00_agm200011361_spg183', 'runs_ml_2/A7B9/runs/batch-000/Te/Te7Hg9/xxx_02a-00_agm200011337_spg183', 'runs_ml_2/A7B9/runs/batch-000/Ag/Ag7Hg9/xxx_02a-00_agm200011216_spg183', 'runs_ml_2/A7B9/runs/batch-000/Hg/Hg7Pb9/xxx_02a-00_agm200011409_spg183', 'runs_ml_2/A7B9/runs/batch-000/Ga/Ga7Br9/xxx_02a-00_agm200011414_spg183', 'runs_ml_2/A7B9/runs/batch-000/Tl/Tl7Pb9/xxx_02a-00_agm200011319_spg183', 'runs_ml_2/A7B9/runs/batch-000/Cu/Cu7I9/xxx_02a-00_agm200011381_spg183']\n"
     ]
    },
    {
     "name": "stderr",
     "output_type": "stream",
     "text": [
      " 70%|█████████████████████████████████████████████████████████████████████████████████████████████████████████████████████████████████████████████████████████████████████████████▉                                                                            | 64/92 [15:48<02:20,  5.03s/it]"
     ]
    },
    {
     "name": "stdout",
     "output_type": "stream",
     "text": [
      "Length batch: 127\n",
      "['runs_ml_2/A8B11/runs/batch-000/Te/Te8Tl11/xxx_02a-00_agm200011586_spg157', 'runs_ml_2/A8B11/runs/batch-000/Sb/Sb11Hg8/xxx_02a-00_agm200011462_spg157']\n"
     ]
    },
    {
     "name": "stderr",
     "output_type": "stream",
     "text": [
      " 71%|████████████████████████████████████████████████████████████████████████████████████████████████████████████████████████████████████████████████████████████████████████████████▋                                                                         | 65/92 [15:53<02:15,  5.01s/it]"
     ]
    },
    {
     "name": "stdout",
     "output_type": "stream",
     "text": [
      "Length batch: 185\n",
      "['runs_ml_2/A8B9/runs/batch-000/Ge/Ge8Se9/xxx_02a-00_agm200011694_spg183', 'runs_ml_2/A8B9/runs/batch-000/Li/Li9Rb8/xxx_02a-00_agm200011739_spg183', 'runs_ml_2/A8B9/runs/batch-000/S/S9Tl8/xxx_02a-00_agm200011881_spg157', 'runs_ml_2/A8B9/runs/batch-000/Br/Br8I9/xxx_02a-00_agm200011851_spg157', 'runs_ml_2/A8B9/runs/batch-000/Ga/Ga8Cd9/xxx_02a-00_agm200011638_spg183', 'runs_ml_2/A8B9/runs/batch-000/I/I8Tl9/xxx_02a-00_agm200011615_spg157', 'runs_ml_2/A8B9/runs/batch-000/K/K8Bi9/xxx_02a-00_agm200011792_spg183', 'runs_ml_2/A8B9/runs/batch-000/Br/Br8Sn9/xxx_02a-00_agm200011844_spg157', 'runs_ml_2/A8B9/runs/batch-000/Ho/Ho9Ac8/xxx_02a-00_agm200011818_spg183', 'runs_ml_2/A8B9/runs/batch-000/Nd/Nd8Dy9/xxx_02a-00_agm200011802_spg183', 'runs_ml_2/A8B9/runs/batch-000/I/I8Au9/xxx_02a-00_agm200011903_spg157']\n"
     ]
    },
    {
     "name": "stderr",
     "output_type": "stream",
     "text": [
      " 72%|███████████████████████████████████████████████████████████████████████████████████████████████████████████████████████████████████████████████████████████████████████████████████▎                                                                      | 66/92 [15:56<01:54,  4.40s/it]"
     ]
    },
    {
     "name": "stdout",
     "output_type": "stream",
     "text": [
      "Length batch: 36\n",
      "['runs_ml_2/A9B10/runs/batch-000/Cl/Cl9Hg10/xxx_02a-00_agm200011958_spg157', 'runs_ml_2/A9B10/runs/batch-000/In/In10I9/xxx_02a-00_agm200011951_spg157']\n"
     ]
    },
    {
     "name": "stderr",
     "output_type": "stream",
     "text": [
      " 73%|██████████████████████████████████████████████████████████████████████████████████████████████████████████████████████████████████████████████████████████████████████████████████████                                                                    | 67/92 [16:02<02:01,  4.87s/it]"
     ]
    },
    {
     "name": "stdout",
     "output_type": "stream",
     "text": [
      "Length batch: 187\n",
      "['runs_ml_2/A9B11/runs/batch-000/Sb/Sb11Tl9/xxx_02a-00_agm200012145_spg157', 'runs_ml_2/A9B11/runs/batch-000/Rb/Rb9Ag11/xxx_02a-00_agm200012117_spg157', 'runs_ml_2/A9B11/runs/batch-000/Na/Na9Bi11/xxx_02a-00_agm200012143_spg157', 'runs_ml_2/A9B11/runs/batch-000/As/As11I9/xxx_02a-00_agm200012140_spg157', 'runs_ml_2/A9B11/runs/batch-000/Cd/Cd11Pb9/xxx_02a-00_agm200012098_spg157', 'runs_ml_2/A9B11/runs/batch-000/Hg/Hg9Tl11/xxx_02a-00_agm200012017_spg157', 'runs_ml_2/A9B11/runs/batch-000/F/F11Ag9/xxx_02a-00_agm200012184_spg157', 'runs_ml_2/A9B11/runs/batch-000/Ga/Ga11Br9/xxx_02a-00_agm200012042_spg157', 'runs_ml_2/A9B11/runs/batch-000/Ge/Ge9I11/xxx_02a-00_agm200012169_spg157', 'runs_ml_2/A9B11/runs/batch-000/In/In9Sn11/xxx_02a-00_agm200011980_spg157']\n"
     ]
    },
    {
     "name": "stderr",
     "output_type": "stream",
     "text": [
      " 74%|████████████████████████████████████████████████████████████████████████████████████████████████████████████████████████████████████████████████████████████████████████████████████████▊                                                                 | 68/92 [16:12<02:35,  6.46s/it]"
     ]
    },
    {
     "name": "stdout",
     "output_type": "stream",
     "text": [
      "Length batch: 1549\n",
      "['runs_ml_2/AB/runs/batch-000/Ga/GaSe/xxx_02a-00_agm200020041_spg12', 'runs_ml_2/AB/runs/batch-000/Na/NaSb/xxx_02a-00_agm200019910_spg10', 'runs_ml_2/AB/runs/batch-000/Pd/PdPb/xxx_02a-00_agm200020396_spg14', 'runs_ml_2/AB/runs/batch-000/Na/NaTb/xxx_02a-00_agm200021497_spg1', 'runs_ml_2/AB/runs/batch-000/Be/BeV/xxx_02a-00_agm200021502_spg1', 'runs_ml_2/AB/runs/batch-000/Ge/GeSe/xxx_02a-00_agm200019773_spg26', 'runs_ml_2/AB/runs/batch-000/Ti/TiW/xxx_02a-00_agm200021517_spg129', 'runs_ml_2/AB/runs/batch-000/Zr/ZrAu/xxx_02a-00_agm200021080_spg65', 'runs_ml_2/AB/runs/batch-000/Ga/GaPb/xxx_02a-00_agm200020313_spg10', 'runs_ml_2/AB/runs/batch-000/C/CU/xxx_02a-00_agm200021204_spg129', 'runs_ml_2/AB/runs/batch-000/Li/LiHg/xxx_02a-00_agm200019908_spg14', 'runs_ml_2/AB/runs/batch-000/Be/BePt/xxx_02a-00_agm200021297_spg10', 'runs_ml_2/AB/runs/batch-000/P/PCu/xxx_02a-00_agm200020485_spg123', 'runs_ml_2/AB/runs/batch-000/Pd/PdAu/xxx_02a-00_agm200019892_spg1', 'runs_ml_2/AB/runs/batch-000/H/HSi/xxx_02a-00_agm200019753_spg6', 'runs_ml_2/AB/runs/batch-000/Na/NaGe/xxx_02a-00_agm200020877_spg10', 'runs_ml_2/AB/runs/batch-000/Sr/SrIn/xxx_02a-00_agm200021266_spg10', 'runs_ml_2/AB/runs/batch-000/As/AsZr/xxx_02a-00_agm200021152_spg123', 'runs_ml_2/AB/runs/batch-000/Ge/GeTe/xxx_02a-00_agm200019775_spg59', 'runs_ml_2/AB/runs/batch-000/Cl/ClRh/xxx_02a-00_agm200020899_spg123', 'runs_ml_2/AB/runs/batch-000/Sm/SmTb/xxx_02a-00_agm200020203_spg187', 'runs_ml_2/AB/runs/batch-000/Cl/ClCe/xxx_02a-00_agm200020280_spg164', 'runs_ml_2/AB/runs/batch-000/N/NAc/xxx_02a-00_agm200021184_spg26', 'runs_ml_2/AB/runs/batch-000/Ca/CaAg/xxx_02a-00_agm200021235_spg51', 'runs_ml_2/AB/runs/batch-000/Ni/NiSb/xxx_02a-00_agm200020384_spg10', 'runs_ml_2/AB/runs/batch-000/K/KAg/xxx_02a-00_agm200020311_spg10', 'runs_ml_2/AB/runs/batch-000/Ge/GeI/xxx_02a-00_agm200020286_spg67', 'runs_ml_2/AB/runs/batch-000/Pa/PaPu/xxx_02a-00_agm200019742_spg187', 'runs_ml_2/AB/runs/batch-000/Ag/AgTl/xxx_02a-00_agm200019709_spg14', 'runs_ml_2/AB/runs/batch-000/Ir/IrPt/xxx_02a-00_agm200020566_spg187', 'runs_ml_2/AB/runs/batch-000/Se/SeHo/xxx_02a-00_agm200021010_spg123', 'runs_ml_2/AB/runs/batch-000/Cu/CuPt/xxx_02a-00_agm200019701_spg187', 'runs_ml_2/AB/runs/batch-000/Li/LiIn/xxx_02a-00_agm200019904_spg14', 'runs_ml_2/AB/runs/batch-000/Al/AlZn/xxx_02a-00_agm200019717_spg14', 'runs_ml_2/AB/runs/batch-000/In/InPt/xxx_02a-00_agm200020465_spg123', 'runs_ml_2/AB/runs/batch-000/Li/LiAc/xxx_02a-00_agm200021198_spg10', 'runs_ml_2/AB/runs/batch-000/Ga/GaTa/xxx_02a-00_agm200021454_spg13', 'runs_ml_2/AB/runs/batch-000/Te/TePr/xxx_02a-00_agm200020875_spg123', 'runs_ml_2/AB/runs/batch-000/Au/AuPa/xxx_02a-00_agm200021335_spg10', 'runs_ml_2/AB/runs/batch-000/Ga/GaMo/xxx_02a-00_agm200020712_spg10', 'runs_ml_2/AB/runs/batch-000/Th/ThPa/xxx_02a-00_agm200020701_spg7', 'runs_ml_2/AB/runs/batch-000/Ca/CaSb/xxx_02a-00_agm200021419_spg26', 'runs_ml_2/AB/runs/batch-000/Te/TeHf/xxx_02a-00_agm200020522_spg123', 'runs_ml_2/AB/runs/batch-000/C/CV/xxx_02a-00_agm200021070_spg59', 'runs_ml_2/AB/runs/batch-000/Mg/MgAg/xxx_02a-00_agm200020709_spg14', 'runs_ml_2/AB/runs/batch-000/B/BNi/xxx_02a-00_agm200021309_spg10', 'runs_ml_2/AB/runs/batch-000/Zn/ZnAu/xxx_02a-00_agm200019888_spg123', 'runs_ml_2/AB/runs/batch-000/La/LaTb/xxx_02a-00_agm200020188_spg187', 'runs_ml_2/AB/runs/batch-000/Ti/TiTa/xxx_02a-00_agm200019962_spg129', 'runs_ml_2/AB/runs/batch-000/Cl/ClZn/xxx_02a-00_agm200020115_spg12', 'runs_ml_2/AB/runs/batch-000/Li/LiS/xxx_02a-00_agm200020380_spg59', 'runs_ml_2/AB/runs/batch-000/Ga/GaSn/xxx_02a-00_agm200020030_spg49', 'runs_ml_2/AB/runs/batch-000/Pt/PtPu/xxx_02a-00_agm200020941_spg14', 'runs_ml_2/AB/runs/batch-000/O/ONd/xxx_02a-00_agm200021129_spg123', 'runs_ml_2/AB/runs/batch-000/Pd/PdIr/xxx_02a-00_agm200020584_spg1', 'runs_ml_2/AB/runs/batch-000/Pd/PdHf/xxx_02a-00_agm200021082_spg51', 'runs_ml_2/AB/runs/batch-000/Pm/PmEr/xxx_02a-00_agm200020218_spg187', 'runs_ml_2/AB/runs/batch-000/Mg/MgBi/xxx_02a-00_agm200020400_spg26', 'runs_ml_2/AB/runs/batch-000/H/HNi/xxx_02a-00_agm200020063_spg51', 'runs_ml_2/AB/runs/batch-000/Be/BeFe/xxx_02a-00_agm200021354_spg10', 'runs_ml_2/AB/runs/batch-000/Hf/HfU/xxx_02a-00_agm200021293_spg1', 'runs_ml_2/AB/runs/batch-000/Se/SeTe/xxx_02a-00_agm200019837_spg14', 'runs_ml_2/AB/runs/batch-000/Si/SiAs/xxx_02a-00_agm200019997_spg12', 'runs_ml_2/AB/runs/batch-000/Pd/PdTb/xxx_02a-00_agm200021160_spg123', 'runs_ml_2/AB/runs/batch-000/S/SSe/xxx_02a-00_agm200020039_spg2', 'runs_ml_2/AB/runs/batch-000/Be/BeCu/xxx_02a-00_agm200020759_spg14', 'runs_ml_2/AB/runs/batch-000/I/INd/xxx_02a-00_agm200020142_spg164', 'runs_ml_2/AB/runs/batch-000/Cu/CuIr/xxx_02a-00_agm200020758_spg187', 'runs_ml_2/AB/runs/batch-000/F/FSn/xxx_02a-00_agm200019809_spg59', 'runs_ml_2/AB/runs/batch-000/B/BCo/xxx_02a-00_agm200021313_spg13', 'runs_ml_2/AB/runs/batch-000/Cl/ClTb/xxx_02a-00_agm200020170_spg164', 'runs_ml_2/AB/runs/batch-000/Se/SeCe/xxx_02a-00_agm200021004_spg123', 'runs_ml_2/AB/runs/batch-000/Nd/NdHo/xxx_02a-00_agm200020195_spg187', 'runs_ml_2/AB/runs/batch-000/C/CSi/xxx_02a-00_agm200020910_spg39', 'runs_ml_2/AB/runs/batch-000/Nd/NdHf/xxx_02a-00_agm200021200_spg7']\n"
     ]
    },
    {
     "name": "stderr",
     "output_type": "stream",
     "text": [
      " 75%|███████████████████████████████████████████████████████████████████████████████████████████████████████████████████████████████████████████████████████████████████████████████████████████▌                                                              | 69/92 [16:31<03:51, 10.04s/it]"
     ]
    },
    {
     "name": "stdout",
     "output_type": "stream",
     "text": [
      "Length batch: 3115\n",
      "['runs_ml_2/AB2/runs/batch-000/V/VCu2/xxx_02a-00_agm200012461_spg14', 'runs_ml_2/AB2/runs/batch-000/Co/Co2Re/xxx_02a-00_agm200014885_spg53', 'runs_ml_2/AB2/runs/batch-000/Mn/Mn2Cu/xxx_02a-00_agm200015052_spg51', 'runs_ml_2/AB2/runs/batch-000/Te/TeLa2/xxx_02a-00_agm200014139_spg123', 'runs_ml_2/AB2/runs/batch-000/Sc/ScSm2/xxx_02a-00_agm200012616_spg157', 'runs_ml_2/AB2/runs/batch-000/K/K2Tl/xxx_02a-00_agm200014232_spg53', 'runs_ml_2/AB2/runs/batch-000/Pd/PdPr2/xxx_02a-00_agm200015515_spg2', 'runs_ml_2/AB2/runs/batch-000/P/PBi2/xxx_02a-00_agm200015092_spg12', 'runs_ml_2/AB2/runs/batch-000/Ca/Ca2Pt/xxx_02a-00_agm200015067_spg129', 'runs_ml_2/AB2/runs/batch-000/Be/Be2Ga/xxx_02a-00_agm200015006_spg51', 'runs_ml_2/AB2/runs/batch-000/H/HHf2/xxx_02a-00_agm200014074_spg123', 'runs_ml_2/AB2/runs/batch-000/Al/AlEr2/xxx_02a-00_agm200015374_spg10', 'runs_ml_2/AB2/runs/batch-000/Tb/Tb2Er/xxx_02a-00_agm200012977_spg90', 'runs_ml_2/AB2/runs/batch-000/H/HNa2/xxx_02a-00_agm200013406_spg65', 'runs_ml_2/AB2/runs/batch-000/Pd/Pd2Bi/xxx_02a-00_agm200013813_spg90', 'runs_ml_2/AB2/runs/batch-000/La/La2Au/xxx_02a-00_agm200014417_spg2', 'runs_ml_2/AB2/runs/batch-000/Be/Be2Ti/xxx_02a-00_agm200015244_spg47', 'runs_ml_2/AB2/runs/batch-000/Cr/CrW2/xxx_02a-00_agm200015084_spg49', 'runs_ml_2/AB2/runs/batch-000/Sr/Sr2Y/xxx_02a-00_agm200014000_spg2', 'runs_ml_2/AB2/runs/batch-000/Ni/Ni2Se/xxx_02a-00_agm200013353_spg51', 'runs_ml_2/AB2/runs/batch-000/Pd/PdPt2/xxx_02a-00_agm200012351_spg164', 'runs_ml_2/AB2/runs/batch-000/Sc/Sc2U/xxx_02a-00_agm200015115_spg26', 'runs_ml_2/AB2/runs/batch-000/Zr/Zr2Tl/xxx_02a-00_agm200012655_spg191', 'runs_ml_2/AB2/runs/batch-000/Sb/SbBi2/xxx_02a-00_agm200012675_spg14', 'runs_ml_2/AB2/runs/batch-000/Ga/GaHg2/xxx_02a-00_agm200012262_spg157', 'runs_ml_2/AB2/runs/batch-000/Br/Br2Ac/xxx_02a-00_agm200013269_spg166', 'runs_ml_2/AB2/runs/batch-000/B/BIr2/xxx_02a-00_agm200014989_spg164', 'runs_ml_2/AB2/runs/batch-000/Na/NaTe2/xxx_02a-00_agm200013739_spg35', 'runs_ml_2/AB2/runs/batch-000/Sr/Sr2Pt/xxx_02a-00_agm200013951_spg2', 'runs_ml_2/AB2/runs/batch-000/Sc/Sc2Sm/xxx_02a-00_agm200012615_spg90', 'runs_ml_2/AB2/runs/batch-000/Ni/Ni2Nb/xxx_02a-00_agm200015255_spg35', 'runs_ml_2/AB2/runs/batch-000/Nd/Nd2Hf/xxx_02a-00_agm200014912_spg157', 'runs_ml_2/AB2/runs/batch-000/Se/SeHg2/xxx_02a-00_agm200013183_spg123', 'runs_ml_2/AB2/runs/batch-000/Ca/Ca2Sr/xxx_02a-00_agm200012302_spg90', 'runs_ml_2/AB2/runs/batch-000/Au/AuPb2/xxx_02a-00_agm200013521_spg2', 'runs_ml_2/AB2/runs/batch-000/Mg/MgZr2/xxx_02a-00_agm200012689_spg183', 'runs_ml_2/AB2/runs/batch-000/Ni/Ni2Mo/xxx_02a-00_agm200014534_spg47', 'runs_ml_2/AB2/runs/batch-000/Ni/NiTe2/xxx_02a-00_agm200013454_spg11', 'runs_ml_2/AB2/runs/batch-000/As/AsSe2/xxx_02a-00_agm200013062_spg11', 'runs_ml_2/AB2/runs/batch-000/Cl/Cl2Hg/xxx_02a-00_agm200013107_spg12', 'runs_ml_2/AB2/runs/batch-000/Si/SiAc2/xxx_02a-00_agm200015577_spg129', 'runs_ml_2/AB2/runs/batch-000/Li/LiBe2/xxx_02a-00_agm200015470_spg42', 'runs_ml_2/AB2/runs/batch-000/Zn/ZnNb2/xxx_02a-00_agm200012527_spg51', 'runs_ml_2/AB2/runs/batch-000/Zr/ZrHf2/xxx_02a-00_agm200012750_spg65', 'runs_ml_2/AB2/runs/batch-000/Sm/Sm2Tb/xxx_02a-00_agm200012896_spg90', 'runs_ml_2/AB2/runs/batch-000/F/F2Ir/xxx_02a-00_agm200015403_spg51', 'runs_ml_2/AB2/runs/batch-000/Zr/Zr2Nb/xxx_02a-00_agm200012672_spg157', 'runs_ml_2/AB2/runs/batch-000/H/HRh2/xxx_02a-00_agm200013410_spg2', 'runs_ml_2/AB2/runs/batch-000/K/K2Cd/xxx_02a-00_agm200013709_spg10', 'runs_ml_2/AB2/runs/batch-000/Ag/AgCd2/xxx_02a-00_agm200012403_spg14', 'runs_ml_2/AB2/runs/batch-000/Y/Y2Pa/xxx_02a-00_agm200015051_spg21', 'runs_ml_2/AB2/runs/batch-000/Cu/CuPr2/xxx_02a-00_agm200015308_spg2', 'runs_ml_2/AB2/runs/batch-000/As/As2Zr/xxx_02a-00_agm200014579_spg123', 'runs_ml_2/AB2/runs/batch-000/Li/LiAu2/xxx_02a-00_agm200013786_spg53', 'runs_ml_2/AB2/runs/batch-000/La/LaSm2/xxx_02a-00_agm200012831_spg90', 'runs_ml_2/AB2/runs/batch-000/N/N2Cl/xxx_02a-00_agm200014434_spg5', 'runs_ml_2/AB2/runs/batch-000/Co/CoLa2/xxx_02a-00_agm200014288_spg2', 'runs_ml_2/AB2/runs/batch-000/Na/Na2Ag/xxx_02a-00_agm200012475_spg10', 'runs_ml_2/AB2/runs/batch-000/Sc/Sc2Hf/xxx_02a-00_agm200012607_spg12', 'runs_ml_2/AB2/runs/batch-000/Li/LiPb2/xxx_02a-00_agm200013525_spg53', 'runs_ml_2/AB2/runs/batch-000/Al/AlNp2/xxx_02a-00_agm200012821_spg59', 'runs_ml_2/AB2/runs/batch-000/Mo/MoRe2/xxx_02a-00_agm200014872_spg64', 'runs_ml_2/AB2/runs/batch-000/Cl/ClNb2/xxx_02a-00_agm200015472_spg166', 'runs_ml_2/AB2/runs/batch-000/Sm/SmAu2/xxx_02a-00_agm200014830_spg53', 'runs_ml_2/AB2/runs/batch-000/Rh/RhPd2/xxx_02a-00_agm200012658_spg191', 'runs_ml_2/AB2/runs/batch-000/Pd/PdCd2/xxx_02a-00_agm200012412_spg123', 'runs_ml_2/AB2/runs/batch-000/Sn/Sn2Pt/xxx_02a-00_agm200013945_spg166', 'runs_ml_2/AB2/runs/batch-000/Y/YHo2/xxx_02a-00_agm200012398_spg21', 'runs_ml_2/AB2/runs/batch-000/Na/NaSb2/xxx_02a-00_agm200013805_spg53', 'runs_ml_2/AB2/runs/batch-000/Cu/CuTe2/xxx_02a-00_agm200013184_spg187', 'runs_ml_2/AB2/runs/batch-000/Li/Li2Au/xxx_02a-00_agm200013787_spg10', 'runs_ml_2/AB2/runs/batch-000/Nd/Nd2Sm/xxx_02a-00_agm200012854_spg90', 'runs_ml_2/AB2/runs/batch-000/Pr/Pr2Ho/xxx_02a-00_agm200012913_spg90', 'runs_ml_2/AB2/runs/batch-000/Sc/Sc2Fe/xxx_02a-00_agm200015511_spg2', 'runs_ml_2/AB2/runs/batch-000/Li/LiCa2/xxx_02a-00_agm200012561_spg157', 'runs_ml_2/AB2/runs/batch-000/B/BPd2/xxx_02a-00_agm200015139_spg123', 'runs_ml_2/AB2/runs/batch-000/H/HPr2/xxx_02a-00_agm200014085_spg123', 'runs_ml_2/AB2/runs/batch-000/Pd/PdPb2/xxx_02a-00_agm200013624_spg65', 'runs_ml_2/AB2/runs/batch-000/V/VNi2/xxx_02a-00_agm200014796_spg47', 'runs_ml_2/AB2/runs/batch-000/Y/Y2Ac/xxx_02a-00_agm200012382_spg90', 'runs_ml_2/AB2/runs/batch-000/F/FLa2/xxx_02a-00_agm200013976_spg166', 'runs_ml_2/AB2/runs/batch-000/F/F2Sb/xxx_02a-00_agm200013166_spg27', 'runs_ml_2/AB2/runs/batch-000/Hf/HfPt2/xxx_02a-00_agm200013689_spg129', 'runs_ml_2/AB2/runs/batch-000/Tb/Tb2Hf/xxx_02a-00_agm200012770_spg2', 'runs_ml_2/AB2/runs/batch-000/Mg/Mg2Br/xxx_02a-00_agm200014732_spg166', 'runs_ml_2/AB2/runs/batch-000/H/H2Zr/xxx_02a-00_agm200014077_spg65', 'runs_ml_2/AB2/runs/batch-000/Co/Co2Te/xxx_02a-00_agm200013475_spg90', 'runs_ml_2/AB2/runs/batch-000/In/InPa2/xxx_02a-00_agm200012721_spg14', 'runs_ml_2/AB2/runs/batch-000/Mg/Mg2Al/xxx_02a-00_agm200012690_spg53', 'runs_ml_2/AB2/runs/batch-000/P/PZn2/xxx_02a-00_agm200013651_spg3', 'runs_ml_2/AB2/runs/batch-000/Te/Te2Th/xxx_02a-00_agm200014148_spg65', 'runs_ml_2/AB2/runs/batch-000/Cl/ClY2/xxx_02a-00_agm200014001_spg166', 'runs_ml_2/AB2/runs/batch-000/Br/Br2Pd/xxx_02a-00_agm200013135_spg2', 'runs_ml_2/AB2/runs/batch-000/Tm/Tm2Th/xxx_02a-00_agm200012938_spg14', 'runs_ml_2/AB2/runs/batch-000/Ti/TiIn2/xxx_02a-00_agm200014756_spg53', 'runs_ml_2/AB2/runs/batch-000/F/F2Sn/xxx_02a-00_agm200013158_spg2', 'runs_ml_2/AB2/runs/batch-000/Sr/Sr2Cd/xxx_02a-00_agm200013707_spg129', 'runs_ml_2/AB2/runs/batch-000/As/As2Nb/xxx_02a-00_agm200014208_spg123', 'runs_ml_2/AB2/runs/batch-000/Cr/Cr2Ru/xxx_02a-00_agm200015213_spg51', 'runs_ml_2/AB2/runs/batch-000/Ti/TiDy2/xxx_02a-00_agm200014636_spg189', 'runs_ml_2/AB2/runs/batch-000/H/H2Mo/xxx_02a-00_agm200014063_spg129', 'runs_ml_2/AB2/runs/batch-000/Dy/DyHo2/xxx_02a-00_agm200013004_spg21', 'runs_ml_2/AB2/runs/batch-000/Zr/Zr2Er/xxx_02a-00_agm200012803_spg90', 'runs_ml_2/AB2/runs/batch-000/K/K2Zn/xxx_02a-00_agm200013783_spg129', 'runs_ml_2/AB2/runs/batch-000/Ru/RuSb2/xxx_02a-00_agm200013961_spg11', 'runs_ml_2/AB2/runs/batch-000/Cu/CuTc2/xxx_02a-00_agm200014937_spg49', 'runs_ml_2/AB2/runs/batch-000/Te/TeI2/xxx_02a-00_agm200013075_spg65', 'runs_ml_2/AB2/runs/batch-000/Mo/Mo2Ir/xxx_02a-00_agm200014840_spg10', 'runs_ml_2/AB2/runs/batch-000/O/O2Rh/xxx_02a-00_agm200013900_spg2', 'runs_ml_2/AB2/runs/batch-000/H/HBa2/xxx_02a-00_agm200013415_spg123', 'runs_ml_2/AB2/runs/batch-000/S/S2Fe/xxx_02a-00_agm200013447_spg187', 'runs_ml_2/AB2/runs/batch-000/Mn/MnRu2/xxx_02a-00_agm200014654_spg157', 'runs_ml_2/AB2/runs/batch-000/Pd/Pd2Nd/xxx_02a-00_agm200013815_spg129', 'runs_ml_2/AB2/runs/batch-000/Sr/Sr2Rh/xxx_02a-00_agm200015094_spg2', 'runs_ml_2/AB2/runs/batch-000/Al/Al2Sb/xxx_02a-00_agm200015120_spg26', 'runs_ml_2/AB2/runs/batch-000/Tc/Tc2Rh/xxx_02a-00_agm200014504_spg11', 'runs_ml_2/AB2/runs/batch-000/Mg/MgY2/xxx_02a-00_agm200012368_spg53', 'runs_ml_2/AB2/runs/batch-000/H/HEr2/xxx_02a-00_agm200014090_spg65', 'runs_ml_2/AB2/runs/batch-000/Cu/CuDy2/xxx_02a-00_agm200015311_spg2', 'runs_ml_2/AB2/runs/batch-000/Nb/Nb2Au/xxx_02a-00_agm200012552_spg10', 'runs_ml_2/AB2/runs/batch-000/Fe/Fe2Nb/xxx_02a-00_agm200015453_spg90', 'runs_ml_2/AB2/runs/batch-000/V/V2Cu/xxx_02a-00_agm200012462_spg51', 'runs_ml_2/AB2/runs/batch-000/Sc/ScNb2/xxx_02a-00_agm200014683_spg191', 'runs_ml_2/AB2/runs/batch-000/Dy/Dy2Hg/xxx_02a-00_agm200013866_spg129', 'runs_ml_2/AB2/runs/batch-000/F/F2Ge/xxx_02a-00_agm200013108_spg7', 'runs_ml_2/AB2/runs/batch-000/V/V2I/xxx_02a-00_agm200015419_spg129', 'runs_ml_2/AB2/runs/batch-000/Zn/ZnPt2/xxx_02a-00_agm200012347_spg129', 'runs_ml_2/AB2/runs/batch-000/Fe/FePt2/xxx_02a-00_agm200014649_spg157', 'runs_ml_2/AB2/runs/batch-000/Sm/SmTh2/xxx_02a-00_agm200012891_spg21', 'runs_ml_2/AB2/runs/batch-000/Cu/Cu2Ta/xxx_02a-00_agm200015004_spg51', 'runs_ml_2/AB2/runs/batch-000/N/N2U/xxx_02a-00_agm200014324_spg65', 'runs_ml_2/AB2/runs/batch-000/Cu/CuPb2/xxx_02a-00_agm200013734_spg65', 'runs_ml_2/AB2/runs/batch-000/Ce/Ce2Pu/xxx_02a-00_agm200012955_spg21', 'runs_ml_2/AB2/runs/batch-000/Cr/Cr2Ni/xxx_02a-00_agm200014798_spg53', 'runs_ml_2/AB2/runs/batch-000/Cu/CuEr2/xxx_02a-00_agm200015493_spg2', 'runs_ml_2/AB2/runs/batch-000/F/FPd2/xxx_02a-00_agm200015407_spg119', 'runs_ml_2/AB2/runs/batch-000/P/PAs2/xxx_02a-00_agm200014609_spg115', 'runs_ml_2/AB2/runs/batch-000/Ti/Ti2Pa/xxx_02a-00_agm200012340_spg12', 'runs_ml_2/AB2/runs/batch-000/Ga/GaI2/xxx_02a-00_agm200013198_spg115', 'runs_ml_2/AB2/runs/batch-000/B/BNi2/xxx_02a-00_agm200013727_spg164', 'runs_ml_2/AB2/runs/batch-000/Cs/Cs2Bi/xxx_02a-00_agm200013571_spg2', 'runs_ml_2/AB2/runs/batch-000/Hf/HfAu2/xxx_02a-00_agm200014825_spg53', 'runs_ml_2/AB2/runs/batch-000/Cu/CuY2/xxx_02a-00_agm200015486_spg2', 'runs_ml_2/AB2/runs/batch-000/Ca/Ca2Ni/xxx_02a-00_agm200015076_spg2', 'runs_ml_2/AB2/runs/batch-000/I/I2Nd/xxx_02a-00_agm200013221_spg166', 'runs_ml_2/AB2/runs/batch-000/Tc/Tc2Ru/xxx_02a-00_agm200012363_spg10', 'runs_ml_2/AB2/runs/batch-000/Mg/MgAu2/xxx_02a-00_agm200014608_spg10', 'runs_ml_2/AB2/runs/batch-000/Tb/TbBi2/xxx_02a-00_agm200013861_spg65', 'runs_ml_2/AB2/runs/batch-000/Mg/Mg2Y/xxx_02a-00_agm200014988_spg51', 'runs_ml_2/AB2/runs/batch-000/Y/YBi2/xxx_02a-00_agm200013701_spg65', 'runs_ml_2/AB2/runs/batch-000/In/In2Np/xxx_02a-00_agm200012720_spg47', 'runs_ml_2/AB2/runs/batch-000/Ce/CeEr2/xxx_02a-00_agm200012952_spg65', 'runs_ml_2/AB2/runs/batch-000/Mg/Mg2Ag/xxx_02a-00_agm200014532_spg157', 'runs_ml_2/AB2/runs/batch-000/Sr/SrLa2/xxx_02a-00_agm200012741_spg51', 'runs_ml_2/AB2/runs/batch-000/Cd/Cd2Au/xxx_02a-00_agm200012233_spg10', 'runs_ml_2/AB2/runs/batch-000/Se/Se2Ag/xxx_02a-00_agm200013350_spg59', 'runs_ml_2/AB2/runs/batch-000/V/VAu2/xxx_02a-00_agm200014824_spg129', 'runs_ml_2/AB2/runs/batch-000/Ni/NiIr2/xxx_02a-00_agm200012491_spg157', 'runs_ml_2/AB2/runs/batch-000/H/HTa2/xxx_02a-00_agm200014060_spg123', 'runs_ml_2/AB2/runs/batch-000/Y/YPr2/xxx_02a-00_agm200012381_spg90', 'runs_ml_2/AB2/runs/batch-000/Cl/Cl2Tc/xxx_02a-00_agm200014364_spg157', 'runs_ml_2/AB2/runs/batch-000/H/H2Nb/xxx_02a-00_agm200015144_spg123', 'runs_ml_2/AB2/runs/batch-000/Ag/Ag2Au/xxx_02a-00_agm200012471_spg21', 'runs_ml_2/AB2/runs/batch-000/Co/CoSm2/xxx_02a-00_agm200015522_spg2', 'runs_ml_2/AB2/runs/batch-000/Zn/ZnSe2/xxx_02a-00_agm200014019_spg187', 'runs_ml_2/AB2/runs/batch-000/Sn/SnBa2/xxx_02a-00_agm200015301_spg10', 'runs_ml_2/AB2/runs/batch-000/Sc/Sc2Nd/xxx_02a-00_agm200012613_spg51', 'runs_ml_2/AB2/runs/batch-000/P/PSn2/xxx_02a-00_agm200013346_spg2', 'runs_ml_2/AB2/runs/batch-000/Zn/Zn2As/xxx_02a-00_agm200013512_spg2', 'runs_ml_2/AB2/runs/batch-000/Ge/Ge2Br/xxx_02a-00_agm200014931_spg65', 'runs_ml_2/AB2/runs/batch-000/F/FPu2/xxx_02a-00_agm200015597_spg166', 'runs_ml_2/AB2/runs/batch-000/Pt/Pt2U/xxx_02a-00_agm200013695_spg129', 'runs_ml_2/AB2/runs/batch-000/Ag/AgSn2/xxx_02a-00_agm200012429_spg53', 'runs_ml_2/AB2/runs/batch-000/Sc/ScEr2/xxx_02a-00_agm200012624_spg21', 'runs_ml_2/AB2/runs/batch-000/H/H2Ac/xxx_02a-00_agm200014086_spg65', 'runs_ml_2/AB2/runs/batch-000/O/OLa2/xxx_02a-00_agm200015175_spg123', 'runs_ml_2/AB2/runs/batch-000/Mn/MnNi2/xxx_02a-00_agm200015195_spg157', 'runs_ml_2/AB2/runs/batch-000/Ga/Ga2Ir/xxx_02a-00_agm200014157_spg129', 'runs_ml_2/AB2/runs/batch-000/Cd/Cd2Pt/xxx_02a-00_agm200013677_spg123', 'runs_ml_2/AB2/runs/batch-000/N/N2Te/xxx_02a-00_agm200015465_spg157', 'runs_ml_2/AB2/runs/batch-000/H/H2Ce/xxx_02a-00_agm200015148_spg123', 'runs_ml_2/AB2/runs/batch-000/Ce/Ce2Tl/xxx_02a-00_agm200014858_spg10', 'runs_ml_2/AB2/runs/batch-000/Fe/Fe2Ru/xxx_02a-00_agm200012364_spg53', 'runs_ml_2/AB2/runs/batch-000/Rh/RhTa2/xxx_02a-00_agm200015046_spg14', 'runs_ml_2/AB2/runs/batch-000/Os/OsIr2/xxx_02a-00_agm200012585_spg53']\n"
     ]
    },
    {
     "name": "stderr",
     "output_type": "stream",
     "text": [
      " 76%|██████████████████████████████████████████████████████████████████████████████████████████████████████████████████████████████████████████████████████████████████████████████████████████████▏                                                           | 70/92 [16:52<04:51, 13.27s/it]"
     ]
    },
    {
     "name": "stdout",
     "output_type": "stream",
     "text": [
      "Length batch: 2158\n",
      "['runs_ml_2/AB3/runs/batch-000/H/HFe3/xxx_02a-00_agm200024643_spg51', 'runs_ml_2/AB3/runs/batch-000/Rb/Rb3Ag/xxx_02a-00_agm200023494_spg10', 'runs_ml_2/AB3/runs/batch-000/Zn/ZnSe3/xxx_02a-00_agm200025303_spg157', 'runs_ml_2/AB3/runs/batch-000/F/F3Cu/xxx_02a-00_agm200023394_spg6', 'runs_ml_2/AB3/runs/batch-000/Cu/Cu3Pd/xxx_02a-00_agm200025009_spg189', 'runs_ml_2/AB3/runs/batch-000/Ce/CeHo3/xxx_02a-00_agm200024828_spg7', 'runs_ml_2/AB3/runs/batch-000/Rh/RhIn3/xxx_02a-00_agm200024514_spg10', 'runs_ml_2/AB3/runs/batch-000/Al/AlNi3/xxx_02a-00_agm200025167_spg25', 'runs_ml_2/AB3/runs/batch-000/Li/LiPa3/xxx_02a-00_agm200024252_spg49', 'runs_ml_2/AB3/runs/batch-000/Pt/Pt3Pa/xxx_02a-00_agm200025224_spg187', 'runs_ml_2/AB3/runs/batch-000/S/S3Rh/xxx_02a-00_agm200025472_spg59', 'runs_ml_2/AB3/runs/batch-000/Y/Y3Er/xxx_02a-00_agm200025166_spg7', 'runs_ml_2/AB3/runs/batch-000/H/HTb3/xxx_02a-00_agm200024656_spg123', 'runs_ml_2/AB3/runs/batch-000/Al/Al3Zn/xxx_02a-00_agm200024998_spg123', 'runs_ml_2/AB3/runs/batch-000/Zn/Zn3Rh/xxx_02a-00_agm200024414_spg6', 'runs_ml_2/AB3/runs/batch-000/Mg/MgAu3/xxx_02a-00_agm200025247_spg6', 'runs_ml_2/AB3/runs/batch-000/F/FDy3/xxx_02a-00_agm200024621_spg123', 'runs_ml_2/AB3/runs/batch-000/Cd/CdHo3/xxx_02a-00_agm200025512_spg6', 'runs_ml_2/AB3/runs/batch-000/Rh/RhPt3/xxx_02a-00_agm200024677_spg25', 'runs_ml_2/AB3/runs/batch-000/Sc/Sc3Ce/xxx_02a-00_agm200024963_spg42', 'runs_ml_2/AB3/runs/batch-000/Pt/Pt3Au/xxx_02a-00_agm200024844_spg123', 'runs_ml_2/AB3/runs/batch-000/Mg/MgIn3/xxx_02a-00_agm200024443_spg123', 'runs_ml_2/AB3/runs/batch-000/Mg/Mg3Ag/xxx_02a-00_agm200024004_spg51', 'runs_ml_2/AB3/runs/batch-000/H/H3Cl/xxx_02a-00_agm200024975_spg12', 'runs_ml_2/AB3/runs/batch-000/Mn/MnTe3/xxx_02a-00_agm200023489_spg59', 'runs_ml_2/AB3/runs/batch-000/Na/Na3Ga/xxx_02a-00_agm200024017_spg51', 'runs_ml_2/AB3/runs/batch-000/Ba/Ba3Tl/xxx_02a-00_agm200024098_spg187', 'runs_ml_2/AB3/runs/batch-000/Zr/ZrHo3/xxx_02a-00_agm200024151_spg7', 'runs_ml_2/AB3/runs/batch-000/Br/Br3Rb/xxx_02a-00_agm200023855_spg157', 'runs_ml_2/AB3/runs/batch-000/Na/NaIn3/xxx_02a-00_agm200024332_spg14', 'runs_ml_2/AB3/runs/batch-000/Pm/Pm3Er/xxx_02a-00_agm200025343_spg7', 'runs_ml_2/AB3/runs/batch-000/K/KTl3/xxx_02a-00_agm200025639_spg1', 'runs_ml_2/AB3/runs/batch-000/N/N3S/xxx_02a-00_agm200025523_spg6', 'runs_ml_2/AB3/runs/batch-000/Sn/Sn3Bi/xxx_02a-00_agm200023681_spg123', 'runs_ml_2/AB3/runs/batch-000/V/VSn3/xxx_02a-00_agm200024492_spg10', 'runs_ml_2/AB3/runs/batch-000/Y/Y3Th/xxx_02a-00_agm200023898_spg7', 'runs_ml_2/AB3/runs/batch-000/Sb/Sb3Tl/xxx_02a-00_agm200023759_spg25', 'runs_ml_2/AB3/runs/batch-000/I/I3Pr/xxx_02a-00_agm200023593_spg47', 'runs_ml_2/AB3/runs/batch-000/Cl/Cl3Zn/xxx_02a-00_agm200023520_spg38', 'runs_ml_2/AB3/runs/batch-000/Li/Li3Bi/xxx_02a-00_agm200025621_spg59', 'runs_ml_2/AB3/runs/batch-000/Br/Br3Ce/xxx_02a-00_agm200023369_spg47', 'runs_ml_2/AB3/runs/batch-000/Pt/Pt3Tl/xxx_02a-00_agm200024676_spg14', 'runs_ml_2/AB3/runs/batch-000/Ho/HoTm3/xxx_02a-00_agm200024825_spg7', 'runs_ml_2/AB3/runs/batch-000/Se/Se3Y/xxx_02a-00_agm200025451_spg59', 'runs_ml_2/AB3/runs/batch-000/Mg/MgPm3/xxx_02a-00_agm200024274_spg6', 'runs_ml_2/AB3/runs/batch-000/F/FBr3/xxx_02a-00_agm200025162_spg27', 'runs_ml_2/AB3/runs/batch-000/Ce/Ce3Hf/xxx_02a-00_agm200025113_spg51', 'runs_ml_2/AB3/runs/batch-000/K/K3Br/xxx_02a-00_agm200023356_spg59', 'runs_ml_2/AB3/runs/batch-000/Nd/NdEr3/xxx_02a-00_agm200024798_spg14', 'runs_ml_2/AB3/runs/batch-000/Be/BePt3/xxx_02a-00_agm200023865_spg59', 'runs_ml_2/AB3/runs/batch-000/P/PSb3/xxx_02a-00_agm200024661_spg157', 'runs_ml_2/AB3/runs/batch-000/Pr/PrTb3/xxx_02a-00_agm200024820_spg7', 'runs_ml_2/AB3/runs/batch-000/Zr/Zr3Cd/xxx_02a-00_agm200023676_spg6', 'runs_ml_2/AB3/runs/batch-000/Na/Na3Ag/xxx_02a-00_agm200023495_spg59', 'runs_ml_2/AB3/runs/batch-000/F/FSm3/xxx_02a-00_agm200024615_spg123', 'runs_ml_2/AB3/runs/batch-000/Pd/PdTh3/xxx_02a-00_agm200025557_spg6', 'runs_ml_2/AB3/runs/batch-000/Mg/MgTl3/xxx_02a-00_agm200024262_spg35', 'runs_ml_2/AB3/runs/batch-000/Tm/Tm3Pu/xxx_02a-00_agm200024582_spg47', 'runs_ml_2/AB3/runs/batch-000/Cl/ClPm3/xxx_02a-00_agm200024669_spg51', 'runs_ml_2/AB3/runs/batch-000/Hg/HgTl3/xxx_02a-00_agm200023830_spg189', 'runs_ml_2/AB3/runs/batch-000/Pd/PdSm3/xxx_02a-00_agm200025260_spg187', 'runs_ml_2/AB3/runs/batch-000/Br/Br3Pr/xxx_02a-00_agm200023365_spg38', 'runs_ml_2/AB3/runs/batch-000/Rb/RbHg3/xxx_02a-00_agm200024714_spg1', 'runs_ml_2/AB3/runs/batch-000/Ca/Ca3Tb/xxx_02a-00_agm200024288_spg183', 'runs_ml_2/AB3/runs/batch-000/Mn/MnPt3/xxx_02a-00_agm200025217_spg187', 'runs_ml_2/AB3/runs/batch-000/Li/Li3Ag/xxx_02a-00_agm200024001_spg59', 'runs_ml_2/AB3/runs/batch-000/Nd/NdAc3/xxx_02a-00_agm200024876_spg189', 'runs_ml_2/AB3/runs/batch-000/Ce/Ce3Pb/xxx_02a-00_agm200025570_spg6', 'runs_ml_2/AB3/runs/batch-000/S/SNi3/xxx_02a-00_agm200024564_spg26', 'runs_ml_2/AB3/runs/batch-000/Ba/Ba3Pb/xxx_02a-00_agm200025275_spg187', 'runs_ml_2/AB3/runs/batch-000/Cu/CuZn3/xxx_02a-00_agm200023951_spg6', 'runs_ml_2/AB3/runs/batch-000/Ca/CaPb3/xxx_02a-00_agm200025274_spg187', 'runs_ml_2/AB3/runs/batch-000/Be/BeZn3/xxx_02a-00_agm200025661_spg51', 'runs_ml_2/AB3/runs/batch-000/Li/LiAc3/xxx_02a-00_agm200024250_spg189', 'runs_ml_2/AB3/runs/batch-000/Tl/TlTh3/xxx_02a-00_agm200025553_spg6', 'runs_ml_2/AB3/runs/batch-000/Cu/CuU3/xxx_02a-00_agm200024856_spg25', 'runs_ml_2/AB3/runs/batch-000/Li/LiN3/xxx_02a-00_agm200024942_spg12', 'runs_ml_2/AB3/runs/batch-000/Se/Se3Pr/xxx_02a-00_agm200024924_spg59', 'runs_ml_2/AB3/runs/batch-000/N/N3Sr/xxx_02a-00_agm200024980_spg14', 'runs_ml_2/AB3/runs/batch-000/Cl/Cl3Pa/xxx_02a-00_agm200023650_spg10', 'runs_ml_2/AB3/runs/batch-000/P/PSn3/xxx_02a-00_agm200024301_spg123', 'runs_ml_2/AB3/runs/batch-000/Ni/NiIn3/xxx_02a-00_agm200024012_spg47', 'runs_ml_2/AB3/runs/batch-000/Sm/SmDy3/xxx_02a-00_agm200024810_spg7', 'runs_ml_2/AB3/runs/batch-000/Ho/HoBi3/xxx_02a-00_agm200025290_spg6', 'runs_ml_2/AB3/runs/batch-000/Sn/SnPb3/xxx_02a-00_agm200023928_spg10', 'runs_ml_2/AB3/runs/batch-000/Na/Na3Tl/xxx_02a-00_agm200024071_spg6', 'runs_ml_2/AB3/runs/batch-000/Ce/CeHf3/xxx_02a-00_agm200025304_spg7', 'runs_ml_2/AB3/runs/batch-000/Pd/Pd3Ag/xxx_02a-00_agm200024203_spg47', 'runs_ml_2/AB3/runs/batch-000/F/F3V/xxx_02a-00_agm200023423_spg38', 'runs_ml_2/AB3/runs/batch-000/F/FPb3/xxx_02a-00_agm200024886_spg1', 'runs_ml_2/AB3/runs/batch-000/Dy/Dy3Hf/xxx_02a-00_agm200024280_spg7', 'runs_ml_2/AB3/runs/batch-000/Ag/AgPb3/xxx_02a-00_agm200024006_spg51', 'runs_ml_2/AB3/runs/batch-000/Y/YAc3/xxx_02a-00_agm200024382_spg175', 'runs_ml_2/AB3/runs/batch-000/Al/AlTe3/xxx_02a-00_agm200024174_spg59', 'runs_ml_2/AB3/runs/batch-000/Rh/RhSb3/xxx_02a-00_agm200025495_spg59', 'runs_ml_2/AB3/runs/batch-000/Zr/Zr3Tm/xxx_02a-00_agm200025312_spg7', 'runs_ml_2/AB3/runs/batch-000/Te/TeBi3/xxx_02a-00_agm200023829_spg157', 'runs_ml_2/AB3/runs/batch-000/H/HCr3/xxx_02a-00_agm200024642_spg123', 'runs_ml_2/AB3/runs/batch-000/Cu/CuAg3/xxx_02a-00_agm200024853_spg123', 'runs_ml_2/AB3/runs/batch-000/Mn/MnPd3/xxx_02a-00_agm200025357_spg123', 'runs_ml_2/AB3/runs/batch-000/V/VPt3/xxx_02a-00_agm200023867_spg35', 'runs_ml_2/AB3/runs/batch-000/H/H3P/xxx_02a-00_agm200023687_spg6', 'runs_ml_2/AB3/runs/batch-000/Ca/Ca3Au/xxx_02a-00_agm200025618_spg59', 'runs_ml_2/AB3/runs/batch-000/Ru/Ru3Os/xxx_02a-00_agm200024689_spg14', 'runs_ml_2/AB3/runs/batch-000/Se/Se3Tc/xxx_02a-00_agm200025388_spg59', 'runs_ml_2/AB3/runs/batch-000/Sc/Sc3Dy/xxx_02a-00_agm200024737_spg7', 'runs_ml_2/AB3/runs/batch-000/Be/Be3Pd/xxx_02a-00_agm200025554_spg6']\n"
     ]
    },
    {
     "name": "stderr",
     "output_type": "stream",
     "text": [
      " 77%|████████████████████████████████████████████████████████████████████████████████████████████████████████████████████████████████████████████████████████████████████████████████████████████████▉                                                         | 71/92 [17:05<04:40, 13.35s/it]"
     ]
    },
    {
     "name": "stdout",
     "output_type": "stream",
     "text": [
      "Length batch: 738\n",
      "[]\n"
     ]
    },
    {
     "name": "stderr",
     "output_type": "stream",
     "text": [
      " 78%|███████████████████████████████████████████████████████████████████████████████████████████████████████████████████████████████████████████████████████████████████████████████████████████████████▋                                                      | 72/92 [17:13<03:56, 11.85s/it]"
     ]
    },
    {
     "name": "stdout",
     "output_type": "stream",
     "text": [
      "Length batch: 855\n",
      "[]\n"
     ]
    },
    {
     "name": "stderr",
     "output_type": "stream",
     "text": [
      " 79%|██████████████████████████████████████████████████████████████████████████████████████████████████████████████████████████████████████████████████████████████████████████████████████████████████████▎                                                   | 73/92 [17:16<02:50,  8.96s/it]"
     ]
    },
    {
     "name": "stdout",
     "output_type": "stream",
     "text": [
      "Length batch: 702\n",
      "['runs_ml_2/AB6/runs/batch-000/Na/Na6Hg/xxx_02a-00_agm200028690_spg191', 'runs_ml_2/AB6/runs/batch-000/Cd/Cd6Au/xxx_02a-00_agm200028426_spg191', 'runs_ml_2/AB6/runs/batch-000/Ga/GaIn6/xxx_02a-00_agm200028586_spg191', 'runs_ml_2/AB6/runs/batch-000/Mg/MgHo6/xxx_02a-00_agm200028771_spg191', 'runs_ml_2/AB6/runs/batch-000/Zr/ZrPr6/xxx_02a-00_agm200028851_spg191', 'runs_ml_2/AB6/runs/batch-000/As/AsHg6/xxx_02a-00_agm200028671_spg191', 'runs_ml_2/AB6/runs/batch-000/Sb/SbPb6/xxx_02a-00_agm200028744_spg191', 'runs_ml_2/AB6/runs/batch-000/Cl/ClRb6/xxx_02a-00_agm200028607_spg191', 'runs_ml_2/AB6/runs/batch-000/Mg/MgY6/xxx_02a-00_agm200028413_spg191', 'runs_ml_2/AB6/runs/batch-000/Li/LiHg7/xxx_02a-00_agm200029053_spg183', 'runs_ml_2/AB6/runs/batch-000/Be/BeCo6/xxx_02a-00_agm200028738_spg191', 'runs_ml_2/AB6/runs/batch-000/Sm/Sm6Er/xxx_02a-00_agm200028880_spg191', 'runs_ml_2/AB6/runs/batch-000/Nd/NdPm6/xxx_02a-00_agm200028873_spg191', 'runs_ml_2/AB6/runs/batch-000/Cr/Cr6Ru/xxx_02a-00_agm200028406_spg191', 'runs_ml_2/AB6/runs/batch-000/Cr/CrSe6/xxx_02a-00_agm200028497_spg191', 'runs_ml_2/AB6/runs/batch-000/Dy/Dy6Hf/xxx_02a-00_agm200028837_spg191', 'runs_ml_2/AB6/runs/batch-000/Te/Te6Au/xxx_02a-00_agm200028542_spg191', 'runs_ml_2/AB6/runs/batch-000/Na/Na6Pt/xxx_02a-00_agm200028378_spg191', 'runs_ml_2/AB6/runs/batch-000/Rb/Rb7Sb/xxx_02a-00_agm200029025_spg183', 'runs_ml_2/AB6/runs/batch-000/Zn/ZnSn6/xxx_02a-00_agm200028449_spg191', 'runs_ml_2/AB6/runs/batch-000/Sn/Sn6Pb/xxx_02a-00_agm200028466_spg191', 'runs_ml_2/AB6/runs/batch-000/I/I7Cs/xxx_02a-00_agm200029081_spg183', 'runs_ml_2/AB6/runs/batch-000/In/In6Au/xxx_02a-00_agm200028626_spg191', 'runs_ml_2/AB6/runs/batch-000/Pr/Pr6Dy/xxx_02a-00_agm200028888_spg191', 'runs_ml_2/AB6/runs/batch-000/Al/AlFe6/xxx_02a-00_agm200028858_spg191', 'runs_ml_2/AB6/runs/batch-000/K/K7Sb/xxx_02a-00_agm200029079_spg183', 'runs_ml_2/AB6/runs/batch-000/K/K7Pb/xxx_02a-00_agm200029106_spg183', 'runs_ml_2/AB6/runs/batch-000/Sb/SbHg6/xxx_02a-00_agm200028747_spg191']\n"
     ]
    },
    {
     "name": "stderr",
     "output_type": "stream",
     "text": [
      " 80%|█████████████████████████████████████████████████████████████████████████████████████████████████████████████████████████████████████████████████████████████████████████████████████████████████████████                                                 | 74/92 [17:16<01:56,  6.45s/it]"
     ]
    },
    {
     "name": "stdout",
     "output_type": "stream",
     "text": [
      "Length batch: 26\n",
      "[]\n",
      "Length batch: 4\n",
      "[]\n"
     ]
    },
    {
     "name": "stderr",
     "output_type": "stream",
     "text": [
      " 84%|█████████████████████████████████████████████████████████████████████████████████████████████████████████████████████████████████████████████████████████████████████████████████████████████████████████████████▏                                        | 77/92 [17:20<00:49,  3.30s/it]"
     ]
    },
    {
     "name": "stdout",
     "output_type": "stream",
     "text": [
      "Length batch: 257\n",
      "['runs_ml_3/AB2C2/runs/batch-000/S/S2Cl2Sc/xxx_02a-00_agm200015818_spg12', 'runs_ml_3/AB2C2/runs/batch-000/Cu/Cu2Se2Ag/xxx_02a-00_agm200015868_spg164', 'runs_ml_3/AB2C2/runs/batch-000/S/S2Cl2V/xxx_02a-00_agm200015823_spg12', 'runs_ml_3/AB2C2/runs/batch-000/V/VSe2Br2/xxx_02a-00_agm200015717_spg12', 'runs_ml_3/AB2C2/runs/batch-000/S/S2Cl2Te/xxx_02a-00_agm200015814_spg12', 'runs_ml_3/AB2C2/runs/batch-000/H/H2LiBr2/xxx_02a-00_agm200015630_spg164', 'runs_ml_3/AB2C2/runs/batch-000/H/H2MgI2/xxx_02a-00_agm200015804_spg12', 'runs_ml_3/AB2C2/runs/batch-000/S/S2Br2Hf/xxx_02a-00_agm200015740_spg12', 'runs_ml_3/AB2C2/runs/batch-000/H/H2Cl2Ni/xxx_02a-00_agm200015799_spg12', 'runs_ml_3/AB2C2/runs/batch-000/Cl/Cl2Se2Ce/xxx_02a-00_agm200015790_spg12', 'runs_ml_3/AB2C2/runs/batch-000/S/S2Br2In/xxx_02a-00_agm200015738_spg12', 'runs_ml_3/AB2C2/runs/batch-000/Sc/ScSe2I2/xxx_02a-00_agm200015669_spg12', 'runs_ml_3/AB2C2/runs/batch-000/Te/Te2I2Dy/xxx_02a-00_agm200015851_spg12', 'runs_ml_3/AB2C2/runs/batch-000/Cl/Cl2Se2Hf/xxx_02a-00_agm200015784_spg12']\n",
      "Length batch: 10\n",
      "[]\n"
     ]
    },
    {
     "name": "stderr",
     "output_type": "stream",
     "text": [
      " 85%|███████████████████████████████████████████████████████████████████████████████████████████████████████████████████████████████████████████████████████████████████████████████████████████████████████████████████▉                                      | 78/92 [17:20<00:34,  2.49s/it]"
     ]
    },
    {
     "name": "stdout",
     "output_type": "stream",
     "text": [
      "Length batch: 109\n",
      "['runs_ml_3/AB2C4/runs/batch-000/S/S4AsPd2/xxx_02a-00_agm200016355_spg111', 'runs_ml_3/AB2C4/runs/batch-000/Ni/NiSe4Nb2/xxx_02a-00_agm200016320_spg111', 'runs_ml_3/AB2C4/runs/batch-000/O/O4VAg2/xxx_02a-00_agm200016279_spg111']\n",
      "Length batch: 21\n",
      "['runs_ml_3/AB2C5/runs/batch-000/Se/Se2Pd5In/xxx_02a-00_agm200016394_spg123']\n"
     ]
    },
    {
     "name": "stderr",
     "output_type": "stream",
     "text": [
      " 87%|█████████████████████████████████████████████████████████████████████████████████████████████████████████████████████████████████████████████████████████████████████████████████████████████████████████████████████████▍                                | 80/92 [17:40<01:08,  5.72s/it]"
     ]
    },
    {
     "name": "stdout",
     "output_type": "stream",
     "text": [
      "Length batch: 3268\n",
      "[]\n"
     ]
    },
    {
     "name": "stderr",
     "output_type": "stream",
     "text": [
      " 88%|████████████████████████████████████████████████████████████████████████████████████████████████████████████████████████████████████████████████████████████████████████████████████████████████████████████████████████████                              | 81/92 [17:46<01:02,  5.72s/it]"
     ]
    },
    {
     "name": "stdout",
     "output_type": "stream",
     "text": [
      "Length batch: 231\n",
      "[]\n"
     ]
    },
    {
     "name": "stderr",
     "output_type": "stream",
     "text": [
      " 89%|██████████████████████████████████████████████████████████████████████████████████████████████████████████████████████████████████████████████████████████████████████████████████████████████████████████████████████████████▊                           | 82/92 [17:47<00:44,  4.43s/it]"
     ]
    },
    {
     "name": "stdout",
     "output_type": "stream",
     "text": [
      "Length batch: 133\n",
      "['runs_ml_3/AB3C7/runs/batch-000/Cl/Cl7Zr3Te/xxx_02a-00_agm200025833_spg156', 'runs_ml_3/AB3C7/runs/batch-000/Cl/Cl7BrHo3/xxx_02a-00_agm200025803_spg156', 'runs_ml_3/AB3C7/runs/batch-000/Cl/Cl7Zr3Sb/xxx_02a-00_agm200025855_spg156', 'runs_ml_3/AB3C7/runs/batch-000/Cl/Cl7SbHf3/xxx_02a-00_agm200025854_spg156', 'runs_ml_3/AB3C7/runs/batch-000/Br/Br7IBi3/xxx_02a-00_agm200025771_spg156', 'runs_ml_3/AB3C7/runs/batch-000/Cl/Cl7SeNb3/xxx_02a-00_agm200025811_spg156', 'runs_ml_3/AB3C7/runs/batch-000/Cl/Cl7TeTh3/xxx_02a-00_agm200025844_spg156']\n"
     ]
    },
    {
     "name": "stderr",
     "output_type": "stream",
     "text": [
      " 90%|█████████████████████████████████████████████████████████████████████████████████████████████████████████████████████████████████████████████████████████████████████████████████████████████████████████████████████████████████▌                        | 83/92 [18:02<01:05,  7.24s/it]"
     ]
    },
    {
     "name": "stdout",
     "output_type": "stream",
     "text": [
      "Length batch: 556\n",
      "['runs_ml_3/AB3C8/runs/batch-000/I/I8Pm3Th/xxx_02a-00_agm200026503_spg6', 'runs_ml_3/AB3C8/runs/batch-000/Na/NaBr8Nd3/xxx_02a-00_agm200026327_spg6', 'runs_ml_3/AB3C8/runs/batch-000/Cu/Cu3ZnBr8/xxx_02a-00_agm200025946_spg6', 'runs_ml_3/AB3C8/runs/batch-000/Li/LiCl8Hg3/xxx_02a-00_agm200026219_spg6', 'runs_ml_3/AB3C8/runs/batch-000/Br/Br8CdPb3/xxx_02a-00_agm200025919_spg6', 'runs_ml_3/AB3C8/runs/batch-000/Ni/NiBr8Hg3/xxx_02a-00_agm200025996_spg6', 'runs_ml_3/AB3C8/runs/batch-000/Cl/Cl8Hg3Bi/xxx_02a-00_agm200026256_spg6', 'runs_ml_3/AB3C8/runs/batch-000/Cu/Cu3Br8Th/xxx_02a-00_agm200026294_spg6', 'runs_ml_3/AB3C8/runs/batch-000/Cl/Cl8CuPb3/xxx_02a-00_agm200026137_spg6', 'runs_ml_3/AB3C8/runs/batch-000/Na/NaCl8Zr3/xxx_02a-00_agm200026462_spg6', 'runs_ml_3/AB3C8/runs/batch-000/Sc/Sc3I8Th/xxx_02a-00_agm200026463_spg6', 'runs_ml_3/AB3C8/runs/batch-000/Cl/Cl8Ag3Hg/xxx_02a-00_agm200026184_spg6', 'runs_ml_3/AB3C8/runs/batch-000/Cl/Cl8ZnAg3/xxx_02a-00_agm200026160_spg6', 'runs_ml_3/AB3C8/runs/batch-000/Co/CoBr8Hg3/xxx_02a-00_agm200026020_spg6', 'runs_ml_3/AB3C8/runs/batch-000/Cl/Cl8Ag3Au/xxx_02a-00_agm200026161_spg6', 'runs_ml_3/AB3C8/runs/batch-000/Sn/Sn3I8Hg/xxx_02a-00_agm200026071_spg6', 'runs_ml_3/AB3C8/runs/batch-000/Cl/Cl8NbAg3/xxx_02a-00_agm200026397_spg6', 'runs_ml_3/AB3C8/runs/batch-000/Na/NaI8Tb3/xxx_02a-00_agm200026461_spg6', 'runs_ml_3/AB3C8/runs/batch-000/Na/NaCl8Bi3/xxx_02a-00_agm200026225_spg6', 'runs_ml_3/AB3C8/runs/batch-000/Li/Li3I8Np/xxx_02a-00_agm200026444_spg6', 'runs_ml_3/AB3C8/runs/batch-000/Cl/Cl8Zn3Hg/xxx_02a-00_agm200026201_spg6', 'runs_ml_3/AB3C8/runs/batch-000/Cl/Cl8Ag3Sn/xxx_02a-00_agm200026055_spg6', 'runs_ml_3/AB3C8/runs/batch-000/Cl/Cl8CdPb3/xxx_02a-00_agm200026044_spg6', 'runs_ml_3/AB3C8/runs/batch-000/Sn/Sn3I8Au/xxx_02a-00_agm200026059_spg6', 'runs_ml_3/AB3C8/runs/batch-000/Zn/ZnBr8Sn3/xxx_02a-00_agm200025926_spg6', 'runs_ml_3/AB3C8/runs/batch-000/Fe/FeBr8Pd3/xxx_02a-00_agm200026334_spg6']\n"
     ]
    },
    {
     "name": "stderr",
     "output_type": "stream",
     "text": [
      " 91%|████████████████████████████████████████████████████████████████████████████████████████████████████████████████████████████████████████████████████████████████████████████████████████████████████████████████████████████████████▎                     | 84/92 [18:09<00:57,  7.22s/it]"
     ]
    },
    {
     "name": "stdout",
     "output_type": "stream",
     "text": [
      "Length batch: 1226\n",
      "['runs_ml_3/ABC/runs/batch-000/Li/LiSeCs/xxx_02a-00_agm200030253_spg129', 'runs_ml_3/ABC/runs/batch-000/O/OSV/xxx_02a-00_agm200030050_spg59', 'runs_ml_3/ABC/runs/batch-000/B/BSI/xxx_02a-00_agm200030219_spg26', 'runs_ml_3/ABC/runs/batch-000/O/OKRb/xxx_02a-00_agm200029178_spg4', 'runs_ml_3/ABC/runs/batch-000/O/OBrSb/xxx_02a-00_agm200029158_spg59', 'runs_ml_3/ABC/runs/batch-000/S/SCuAu/xxx_02a-00_agm200030271_spg129', 'runs_ml_3/ABC/runs/batch-000/H/HBrY/xxx_02a-00_agm200030107_spg59', 'runs_ml_3/ABC/runs/batch-000/S/SClPm/xxx_02a-00_agm200029830_spg59', 'runs_ml_3/ABC/runs/batch-000/Se/SeIEr/xxx_02a-00_agm200029667_spg59', 'runs_ml_3/ABC/runs/batch-000/S/SClSm/xxx_02a-00_agm200029824_spg59', 'runs_ml_3/ABC/runs/batch-000/Cl/ClIBa/xxx_02a-00_agm200029966_spg129', 'runs_ml_3/ABC/runs/batch-000/P/PRhCs/xxx_02a-00_agm200030631_spg129', 'runs_ml_3/ABC/runs/batch-000/Te/TeIPt/xxx_02a-00_agm200029462_spg59', 'runs_ml_3/ABC/runs/batch-000/Se/SeBrPm/xxx_02a-00_agm200029284_spg59', 'runs_ml_3/ABC/runs/batch-000/Cu/CuSeAg/xxx_02a-00_agm200029585_spg129', 'runs_ml_3/ABC/runs/batch-000/H/HSnTe/xxx_02a-00_agm200030443_spg7', 'runs_ml_3/ABC/runs/batch-000/Ag/AgTeCs/xxx_02a-00_agm200029844_spg129', 'runs_ml_3/ABC/runs/batch-000/H/HSPb/xxx_02a-00_agm200030445_spg7', 'runs_ml_3/ABC/runs/batch-000/P/PClTi/xxx_02a-00_agm200029153_spg59', 'runs_ml_3/ABC/runs/batch-000/Cl/ClCaI/xxx_02a-00_agm200029962_spg129', 'runs_ml_3/ABC/runs/batch-000/F/FClPt/xxx_02a-00_agm200029457_spg7', 'runs_ml_3/ABC/runs/batch-000/Cl/ClSePm/xxx_02a-00_agm200029700_spg59', 'runs_ml_3/ABC/runs/batch-000/N/NINp/xxx_02a-00_agm200030628_spg129', 'runs_ml_3/ABC/runs/batch-000/Cl/ClSeNb/xxx_02a-00_agm200029643_spg51', 'runs_ml_3/ABC/runs/batch-000/Zr/ZrSbTe/xxx_02a-00_agm200030341_spg11', 'runs_ml_3/ABC/runs/batch-000/S/SBrHo/xxx_02a-00_agm200029335_spg59', 'runs_ml_3/ABC/runs/batch-000/S/STeU/xxx_02a-00_agm200030304_spg129', 'runs_ml_3/ABC/runs/batch-000/S/SInTe/xxx_02a-00_agm200029753_spg11', 'runs_ml_3/ABC/runs/batch-000/H/HNbTe/xxx_02a-00_agm200029731_spg59', 'runs_ml_3/ABC/runs/batch-000/H/HBrTl/xxx_02a-00_agm200030434_spg39', 'runs_ml_3/ABC/runs/batch-000/H/HIHf/xxx_02a-00_agm200030281_spg59', 'runs_ml_3/ABC/runs/batch-000/S/SClPr/xxx_02a-00_agm200029825_spg59', 'runs_ml_3/ABC/runs/batch-000/S/SClW/xxx_02a-00_agm200030314_spg51', 'runs_ml_3/ABC/runs/batch-000/F/FTePr/xxx_02a-00_agm200030524_spg129', 'runs_ml_3/ABC/runs/batch-000/O/OClCe/xxx_02a-00_agm200029200_spg129', 'runs_ml_3/ABC/runs/batch-000/Br/BrTeTh/xxx_02a-00_agm200029372_spg129', 'runs_ml_3/ABC/runs/batch-000/Br/BrSbPt/xxx_02a-00_agm200030094_spg59', 'runs_ml_3/ABC/runs/batch-000/H/HClHf/xxx_02a-00_agm200030287_spg59', 'runs_ml_3/ABC/runs/batch-000/S/SBrPm/xxx_02a-00_agm200029330_spg59', 'runs_ml_3/ABC/runs/batch-000/Si/SiSCl/xxx_02a-00_agm200030177_spg8', 'runs_ml_3/ABC/runs/batch-000/H/HYTe/xxx_02a-00_agm200030527_spg129', 'runs_ml_3/ABC/runs/batch-000/Na/NaGeRh/xxx_02a-00_agm200030636_spg129', 'runs_ml_3/ABC/runs/batch-000/Cl/ClVSe/xxx_02a-00_agm200029682_spg59', 'runs_ml_3/ABC/runs/batch-000/H/HBrPr/xxx_02a-00_agm200030502_spg107', 'runs_ml_3/ABC/runs/batch-000/Cl/ClSeCe/xxx_02a-00_agm200029698_spg59', 'runs_ml_3/ABC/runs/batch-000/N/NITb/xxx_02a-00_agm200030630_spg59', 'runs_ml_3/ABC/runs/batch-000/S/SClAc/xxx_02a-00_agm200030326_spg39', 'runs_ml_3/ABC/runs/batch-000/Cl/ClSeTb/xxx_02a-00_agm200029707_spg59']\n"
     ]
    },
    {
     "name": "stderr",
     "output_type": "stream",
     "text": [
      " 92%|██████████████████████████████████████████████████████████████████████████████████████████████████████████████████████████████████████████████████████████████████████████████████████████████████████████████████████████████████████▉                   | 85/92 [18:10<00:38,  5.44s/it]"
     ]
    },
    {
     "name": "stdout",
     "output_type": "stream",
     "text": [
      "Length batch: 59\n",
      "['runs_ml_3/ABC2/runs/batch-000/Cl/ClAgTe2/xxx_02a-00_agm200030679_spg4', 'runs_ml_3/ABC2/runs/batch-000/Cl/ClSe2Ag/xxx_02a-00_agm200030658_spg4', 'runs_ml_3/ABC2/runs/batch-000/Cu/CuSe2I/xxx_02a-00_agm200030654_spg4', 'runs_ml_3/ABC2/runs/batch-000/H/HSe2Sb/xxx_02a-00_agm200030691_spg11', 'runs_ml_3/ABC2/runs/batch-000/Br/BrTe2Hg/xxx_02a-00_agm200030650_spg4', 'runs_ml_3/ABC2/runs/batch-000/Sb/SbTe2Hf/xxx_02a-00_agm200030708_spg11', 'runs_ml_3/ABC2/runs/batch-000/S/S2ClCu/xxx_02a-00_agm200030665_spg4']\n"
     ]
    },
    {
     "name": "stderr",
     "output_type": "stream",
     "text": [
      " 93%|█████████████████████████████████████████████████████████████████████████████████████████████████████████████████████████████████████████████████████████████████████████████████████████████████████████████████████████████████████████▋                | 86/92 [18:11<00:25,  4.21s/it]"
     ]
    },
    {
     "name": "stdout",
     "output_type": "stream",
     "text": [
      "Length batch: 318\n",
      "['runs_ml_3/ABC3/runs/batch-000/Cu/CuI3Pb/xxx_02a-00_agm200031775_spg12', 'runs_ml_3/ABC3/runs/batch-000/Sc/ScI3Er/xxx_02a-00_agm200031944_spg162', 'runs_ml_3/ABC3/runs/batch-000/S/S3CuNb/xxx_02a-00_agm200031756_spg162', 'runs_ml_3/ABC3/runs/batch-000/P/PGaSe3/xxx_02a-00_agm200031739_spg162', 'runs_ml_3/ABC3/runs/batch-000/I/I3CeNd/xxx_02a-00_agm200031889_spg162', 'runs_ml_3/ABC3/runs/batch-000/Li/LiCuBr3/xxx_02a-00_agm200031653_spg162', 'runs_ml_3/ABC3/runs/batch-000/Cl/Cl3CaCu/xxx_02a-00_agm200031782_spg162', 'runs_ml_3/ABC3/runs/batch-000/Y/YI3Nd/xxx_02a-00_agm200031693_spg162', 'runs_ml_3/ABC3/runs/batch-000/Cl/Cl3AgPb/xxx_02a-00_agm200031828_spg12', 'runs_ml_3/ABC3/runs/batch-000/Mg/MgBr3Ag/xxx_02a-00_agm200031662_spg162', 'runs_ml_3/ABC3/runs/batch-000/Li/LiBr3Nd/xxx_02a-00_agm200031674_spg162', 'runs_ml_3/ABC3/runs/batch-000/I/I3PmHo/xxx_02a-00_agm200031914_spg162', 'runs_ml_3/ABC3/runs/batch-000/K/KI3Hg/xxx_02a-00_agm200031879_spg162', 'runs_ml_3/ABC3/runs/batch-000/Cu/CuI3Hg/xxx_02a-00_agm200031779_spg162']\n"
     ]
    },
    {
     "name": "stderr",
     "output_type": "stream",
     "text": [
      " 95%|████████████████████████████████████████████████████████████████████████████████████████████████████████████████████████████████████████████████████████████████████████████████████████████████████████████████████████████████████████████▍             | 87/92 [18:53<01:15, 15.14s/it]"
     ]
    },
    {
     "name": "stdout",
     "output_type": "stream",
     "text": [
      "Length batch: 2656\n",
      "['runs_ml_3/ABC4/runs/batch-000/Br/Br4HfPu/xxx_02a-00_agm200032580_spg11', 'runs_ml_3/ABC4/runs/batch-000/Ti/TiI4Pm/xxx_02a-00_agm200032162_spg11', 'runs_ml_3/ABC4/runs/batch-000/As/AsSe4Te/xxx_02a-00_agm200033074_spg11', 'runs_ml_3/ABC4/runs/batch-000/Mn/MnSe4Nb/xxx_02a-00_agm200033251_spg11', 'runs_ml_3/ABC4/runs/batch-000/Sc/ScBr4Sm/xxx_02a-00_agm200032449_spg11', 'runs_ml_3/ABC4/runs/batch-000/Se/Se4IrNp/xxx_02a-00_agm200033154_spg11', 'runs_ml_3/ABC4/runs/batch-000/Li/LiCl4Pa/xxx_02a-00_agm200034146_spg11', 'runs_ml_3/ABC4/runs/batch-000/Na/NaBr4Pm/xxx_02a-00_agm200032431_spg11', 'runs_ml_3/ABC4/runs/batch-000/S/S4SnHf/xxx_02a-00_agm200032992_spg11', 'runs_ml_3/ABC4/runs/batch-000/Co/CoRhTe4/xxx_02a-00_agm200033863_spg11', 'runs_ml_3/ABC4/runs/batch-000/Cu/CuTeI4/xxx_02a-00_agm200033433_spg11', 'runs_ml_3/ABC4/runs/batch-000/B/BAlS4/xxx_02a-00_agm200033058_spg11', 'runs_ml_3/ABC4/runs/batch-000/Pd/PdI4Pu/xxx_02a-00_agm200034275_spg11', 'runs_ml_3/ABC4/runs/batch-000/Sb/SbTe4Hf/xxx_02a-00_agm200033834_spg11', 'runs_ml_3/ABC4/runs/batch-000/Cl/Cl4ScLa/xxx_02a-00_agm200034231_spg11', 'runs_ml_3/ABC4/runs/batch-000/Ca/CaZrI4/xxx_02a-00_agm200034386_spg11', 'runs_ml_3/ABC4/runs/batch-000/S/S4TiHf/xxx_02a-00_agm200032102_spg11', 'runs_ml_3/ABC4/runs/batch-000/Br/Br4CdSm/xxx_02a-00_agm200032263_spg11', 'runs_ml_3/ABC4/runs/batch-000/Cl/Cl4PdSn/xxx_02a-00_agm200033015_spg11', 'runs_ml_3/ABC4/runs/batch-000/S/S4TiMn/xxx_02a-00_agm200032095_spg11', 'runs_ml_3/ABC4/runs/batch-000/Br/Br4NdHo/xxx_02a-00_agm200032645_spg11', 'runs_ml_3/ABC4/runs/batch-000/Br/Br4NdAc/xxx_02a-00_agm200032637_spg11', 'runs_ml_3/ABC4/runs/batch-000/Cr/CrSe4In/xxx_02a-00_agm200033360_spg11', 'runs_ml_3/ABC4/runs/batch-000/Fe/FeNiSe4/xxx_02a-00_agm200033110_spg11', 'runs_ml_3/ABC4/runs/batch-000/Ti/TiBr4Dy/xxx_02a-00_agm200032032_spg11', 'runs_ml_3/ABC4/runs/batch-000/S/S4CoU/xxx_02a-00_agm200033625_spg11', 'runs_ml_3/ABC4/runs/batch-000/Cr/CrBr4Bi/xxx_02a-00_agm200032618_spg11', 'runs_ml_3/ABC4/runs/batch-000/Ti/TiTe4Pa/xxx_02a-00_agm200032139_spg11', 'runs_ml_3/ABC4/runs/batch-000/Mn/MnBr4Hf/xxx_02a-00_agm200032530_spg11', 'runs_ml_3/ABC4/runs/batch-000/Br/Br4DyTh/xxx_02a-00_agm200032700_spg11', 'runs_ml_3/ABC4/runs/batch-000/Ca/CaBr4Pr/xxx_02a-00_agm200032587_spg11', 'runs_ml_3/ABC4/runs/batch-000/Cl/Cl4RhBi/xxx_02a-00_agm200034552_spg11', 'runs_ml_3/ABC4/runs/batch-000/Se/Se4NbOs/xxx_02a-00_agm200033254_spg11', 'runs_ml_3/ABC4/runs/batch-000/Cl/Cl4CrFe/xxx_02a-00_agm200034624_spg11', 'runs_ml_3/ABC4/runs/batch-000/Ni/NiSnI4/xxx_02a-00_agm200033008_spg11', 'runs_ml_3/ABC4/runs/batch-000/Ni/NiSe4Nb/xxx_02a-00_agm200033095_spg11', 'runs_ml_3/ABC4/runs/batch-000/Co/CoCdI4/xxx_02a-00_agm200032923_spg11', 'runs_ml_3/ABC4/runs/batch-000/Zr/ZrI4La/xxx_02a-00_agm200034402_spg11', 'runs_ml_3/ABC4/runs/batch-000/Cl/Cl4CuBi/xxx_02a-00_agm200033486_spg11', 'runs_ml_3/ABC4/runs/batch-000/Se/Se4ZrHf/xxx_02a-00_agm200033400_spg11', 'runs_ml_3/ABC4/runs/batch-000/V/VI4Pb/xxx_02a-00_agm200034365_spg11', 'runs_ml_3/ABC4/runs/batch-000/Cl/Cl4ScV/xxx_02a-00_agm200034225_spg11', 'runs_ml_3/ABC4/runs/batch-000/Se/Se4TaPt/xxx_02a-00_agm200032710_spg11', 'runs_ml_3/ABC4/runs/batch-000/Pd/PdI4Ho/xxx_02a-00_agm200034278_spg11', 'runs_ml_3/ABC4/runs/batch-000/B/BSe4Hf/xxx_02a-00_agm200033049_spg11', 'runs_ml_3/ABC4/runs/batch-000/K/KBr4Sb/xxx_02a-00_agm200032493_spg11', 'runs_ml_3/ABC4/runs/batch-000/Ca/CaBr4Cd/xxx_02a-00_agm200032257_spg11', 'runs_ml_3/ABC4/runs/batch-000/Ag/AgI4Pr/xxx_02a-00_agm200033975_spg11', 'runs_ml_3/ABC4/runs/batch-000/Ca/CaVBr4/xxx_02a-00_agm200032555_spg11', 'runs_ml_3/ABC4/runs/batch-000/Se/Se4SnIr/xxx_02a-00_agm200032955_spg11', 'runs_ml_3/ABC4/runs/batch-000/Te/Te4WOs/xxx_02a-00_agm200033748_spg11', 'runs_ml_3/ABC4/runs/batch-000/S/S4NbRe/xxx_02a-00_agm200033573_spg11', 'runs_ml_3/ABC4/runs/batch-000/Mn/MnBr4Dy/xxx_02a-00_agm200032544_spg11', 'runs_ml_3/ABC4/runs/batch-000/Se/Se4HfBi/xxx_02a-00_agm200033403_spg11', 'runs_ml_3/ABC4/runs/batch-000/Cl/Cl4CdPm/xxx_02a-00_agm200032945_spg11', 'runs_ml_3/ABC4/runs/batch-000/Si/SiSe4Rh/xxx_02a-00_agm200032777_spg11', 'runs_ml_3/ABC4/runs/batch-000/Br/Br4ZrEr/xxx_02a-00_agm200032604_spg11', 'runs_ml_3/ABC4/runs/batch-000/Cl/Cl4CeNd/xxx_02a-00_agm200034641_spg11', 'runs_ml_3/ABC4/runs/batch-000/Li/LiZnBr4/xxx_02a-00_agm200032377_spg11', 'runs_ml_3/ABC4/runs/batch-000/Li/LiI4Tm/xxx_02a-00_agm200034109_spg11', 'runs_ml_3/ABC4/runs/batch-000/Te/Te4HfIr/xxx_02a-00_agm200033706_spg11', 'runs_ml_3/ABC4/runs/batch-000/S/S4GaSb/xxx_02a-00_agm200033515_spg11', 'runs_ml_3/ABC4/runs/batch-000/Cl/Cl4CePr/xxx_02a-00_agm200034658_spg11', 'runs_ml_3/ABC4/runs/batch-000/Sc/ScAsTe4/xxx_02a-00_agm200033714_spg11', 'runs_ml_3/ABC4/runs/batch-000/Ca/CaI4La/xxx_02a-00_agm200034387_spg11', 'runs_ml_3/ABC4/runs/batch-000/Cl/Cl4TiPb/xxx_02a-00_agm200032172_spg11', 'runs_ml_3/ABC4/runs/batch-000/Co/CoBr4Ru/xxx_02a-00_agm200032207_spg11', 'runs_ml_3/ABC4/runs/batch-000/Mn/MnGeSe4/xxx_02a-00_agm200031977_spg11', 'runs_ml_3/ABC4/runs/batch-000/I/I4BaPr/xxx_02a-00_agm200034432_spg11', 'runs_ml_3/ABC4/runs/batch-000/Ni/NiBr4Pm/xxx_02a-00_agm200032371_spg11', 'runs_ml_3/ABC4/runs/batch-000/Cl/Cl4CoAg/xxx_02a-00_agm200033991_spg11', 'runs_ml_3/ABC4/runs/batch-000/Ti/TiCoTe4/xxx_02a-00_agm200032127_spg11', 'runs_ml_3/ABC4/runs/batch-000/Al/AlTiTe4/xxx_02a-00_agm200032132_spg11', 'runs_ml_3/ABC4/runs/batch-000/Cr/CrSe4Pa/xxx_02a-00_agm200033424_spg11', 'runs_ml_3/ABC4/runs/batch-000/Li/LiMnI4/xxx_02a-00_agm200034094_spg11', 'runs_ml_3/ABC4/runs/batch-000/I/I4SmEr/xxx_02a-00_agm200034463_spg11', 'runs_ml_3/ABC4/runs/batch-000/Al/AlTe4Pt/xxx_02a-00_agm200032748_spg11', 'runs_ml_3/ABC4/runs/batch-000/Ni/NiBr4Ag/xxx_02a-00_agm200032320_spg11', 'runs_ml_3/ABC4/runs/batch-000/Fe/FeTcTe4/xxx_02a-00_agm200033911_spg11', 'runs_ml_3/ABC4/runs/batch-000/S/S4VCr/xxx_02a-00_agm200033632_spg11', 'runs_ml_3/ABC4/runs/batch-000/Cd/CdI4Bi/xxx_02a-00_agm200032927_spg11', 'runs_ml_3/ABC4/runs/batch-000/Mg/MgNiI4/xxx_02a-00_agm200034015_spg11', 'runs_ml_3/ABC4/runs/batch-000/Mn/MnNiI4/xxx_02a-00_agm200034017_spg11', 'runs_ml_3/ABC4/runs/batch-000/Cr/CrCuBr4/xxx_02a-00_agm200032307_spg11', 'runs_ml_3/ABC4/runs/batch-000/Zr/ZrI4Pm/xxx_02a-00_agm200034409_spg11', 'runs_ml_3/ABC4/runs/batch-000/K/KI4Dy/xxx_02a-00_agm200034425_spg11', 'runs_ml_3/ABC4/runs/batch-000/Cl/Cl4CrPb/xxx_02a-00_agm200034588_spg11', 'runs_ml_3/ABC4/runs/batch-000/Br/Br4YTm/xxx_02a-00_agm200032231_spg11', 'runs_ml_3/ABC4/runs/batch-000/Pd/PdI4Np/xxx_02a-00_agm200034276_spg11', 'runs_ml_3/ABC4/runs/batch-000/Cl/Cl4KHg/xxx_02a-00_agm200034622_spg11', 'runs_ml_3/ABC4/runs/batch-000/S/S4CrPa/xxx_02a-00_agm200033648_spg11', 'runs_ml_3/ABC4/runs/batch-000/Ti/TiBr4Cd/xxx_02a-00_agm200032003_spg11', 'runs_ml_3/ABC4/runs/batch-000/Ti/TiSe4Ru/xxx_02a-00_agm200032041_spg11', 'runs_ml_3/ABC4/runs/batch-000/Mg/MgCl4Tb/xxx_02a-00_agm200034546_spg11', 'runs_ml_3/ABC4/runs/batch-000/Ti/TiBr4Th/xxx_02a-00_agm200032030_spg11', 'runs_ml_3/ABC4/runs/batch-000/Al/AlRhTe4/xxx_02a-00_agm200033868_spg11', 'runs_ml_3/ABC4/runs/batch-000/V/VSe4Nb/xxx_02a-00_agm200033257_spg11', 'runs_ml_3/ABC4/runs/batch-000/Cl/Cl4TbTm/xxx_02a-00_agm200034671_spg11', 'runs_ml_3/ABC4/runs/batch-000/As/AsI4Au/xxx_02a-00_agm200034076_spg11', 'runs_ml_3/ABC4/runs/batch-000/Pd/PdCdI4/xxx_02a-00_agm200032916_spg11', 'runs_ml_3/ABC4/runs/batch-000/S/S4GeIn/xxx_02a-00_agm200031987_spg11', 'runs_ml_3/ABC4/runs/batch-000/Co/CoCuI4/xxx_02a-00_agm200033454_spg11', 'runs_ml_3/ABC4/runs/batch-000/Cl/Cl4ScTh/xxx_02a-00_agm200034240_spg11', 'runs_ml_3/ABC4/runs/batch-000/Al/AlS4Nb/xxx_02a-00_agm200033581_spg11', 'runs_ml_3/ABC4/runs/batch-000/I/I4PmSm/xxx_02a-00_agm200034464_spg11', 'runs_ml_3/ABC4/runs/batch-000/Cl/Cl4RhSn/xxx_02a-00_agm200033027_spg11', 'runs_ml_3/ABC4/runs/batch-000/Ni/NiCuBr4/xxx_02a-00_agm200032290_spg11', 'runs_ml_3/ABC4/runs/batch-000/V/VSe4Hf/xxx_02a-00_agm200033391_spg11', 'runs_ml_3/ABC4/runs/batch-000/Nb/NbSbTe4/xxx_02a-00_agm200033806_spg11', 'runs_ml_3/ABC4/runs/batch-000/V/VYI4/xxx_02a-00_agm200032865_spg11', 'runs_ml_3/ABC4/runs/batch-000/V/VSe4Ir/xxx_02a-00_agm200033147_spg11', 'runs_ml_3/ABC4/runs/batch-000/Mn/MnBr4Cd/xxx_02a-00_agm200032252_spg11', 'runs_ml_3/ABC4/runs/batch-000/Al/AlNiSe4/xxx_02a-00_agm200033108_spg11', 'runs_ml_3/ABC4/runs/batch-000/Br/Br4LaEr/xxx_02a-00_agm200032628_spg11', 'runs_ml_3/ABC4/runs/batch-000/Li/LiBr4Dy/xxx_02a-00_agm200032410_spg11', 'runs_ml_3/ABC4/runs/batch-000/Ni/NiI4Au/xxx_02a-00_agm200034001_spg11', 'runs_ml_3/ABC4/runs/batch-000/Mg/MgCl4Cu/xxx_02a-00_agm200033477_spg11', 'runs_ml_3/ABC4/runs/batch-000/S/S4TeTa/xxx_02a-00_agm200033494_spg11', 'runs_ml_3/ABC4/runs/batch-000/Cl/Cl4MnEr/xxx_02a-00_agm200034567_spg11', 'runs_ml_3/ABC4/runs/batch-000/Ti/TiBr4Tb/xxx_02a-00_agm200032034_spg11', 'runs_ml_3/ABC4/runs/batch-000/V/VBr4Ag/xxx_02a-00_agm200032334_spg11', 'runs_ml_3/ABC4/runs/batch-000/Ru/RuTe4Ta/xxx_02a-00_agm200032832_spg11', 'runs_ml_3/ABC4/runs/batch-000/Na/NaCl4Tb/xxx_02a-00_agm200034195_spg11', 'runs_ml_3/ABC4/runs/batch-000/Mg/MgTiBr4/xxx_02a-00_agm200032010_spg11', 'runs_ml_3/ABC4/runs/batch-000/Ti/TiBr4Sn/xxx_02a-00_agm200032004_spg11', 'runs_ml_3/ABC4/runs/batch-000/Al/AlPS4/xxx_02a-00_agm200033597_spg11', 'runs_ml_3/ABC4/runs/batch-000/Cu/CuNbI4/xxx_02a-00_agm200033447_spg11', 'runs_ml_3/ABC4/runs/batch-000/S/S4VRh/xxx_02a-00_agm200033599_spg11', 'runs_ml_3/ABC4/runs/batch-000/Mg/MgCl4Ho/xxx_02a-00_agm200034545_spg11', 'runs_ml_3/ABC4/runs/batch-000/P/PSe4Zr/xxx_02a-00_agm200033309_spg11', 'runs_ml_3/ABC4/runs/batch-000/Br/Br4AgNd/xxx_02a-00_agm200032339_spg11', 'runs_ml_3/ABC4/runs/batch-000/Br/Br4YZr/xxx_02a-00_agm200032223_spg11', 'runs_ml_3/ABC4/runs/batch-000/Cl/Cl4MnSm/xxx_02a-00_agm200034564_spg11', 'runs_ml_3/ABC4/runs/batch-000/S/S4NiU/xxx_02a-00_agm200033510_spg11', 'runs_ml_3/ABC4/runs/batch-000/Ge/GeSe4Te/xxx_02a-00_agm200031970_spg11', 'runs_ml_3/ABC4/runs/batch-000/Al/AlMnSe4/xxx_02a-00_agm200033336_spg11', 'runs_ml_3/ABC4/runs/batch-000/S/S4VNp/xxx_02a-00_agm200033635_spg11', 'runs_ml_3/ABC4/runs/batch-000/I/I4PmEr/xxx_02a-00_agm200034502_spg11']\n"
     ]
    },
    {
     "name": "stderr",
     "output_type": "stream",
     "text": [
      " 96%|███████████████████████████████████████████████████████████████████████████████████████████████████████████████████████████████████████████████████████████████████████████████████████████████████████████████████████████████████████████████▏          | 88/92 [19:17<01:10, 17.70s/it]"
     ]
    },
    {
     "name": "stdout",
     "output_type": "stream",
     "text": [
      "Length batch: 1438\n",
      "['runs_ml_3/ABC5/runs/batch-000/I/I5AcPu/xxx_02a-00_agm200035958_spg51', 'runs_ml_3/ABC5/runs/batch-000/Cl/Cl5PmAc/xxx_02a-00_agm200036218_spg51', 'runs_ml_3/ABC5/runs/batch-000/Ni/NiI5Ce/xxx_02a-00_agm200035608_spg51', 'runs_ml_3/ABC5/runs/batch-000/Cl/Cl5VCo/xxx_02a-00_agm200036053_spg51', 'runs_ml_3/ABC5/runs/batch-000/Cl/Cl5ScZr/xxx_02a-00_agm200035738_spg51', 'runs_ml_3/ABC5/runs/batch-000/Cl/Cl5CuSb/xxx_02a-00_agm200035429_spg51', 'runs_ml_3/ABC5/runs/batch-000/Mg/MgCl5Sc/xxx_02a-00_agm200035731_spg51', 'runs_ml_3/ABC5/runs/batch-000/Br/Br5PbTh/xxx_02a-00_agm200035092_spg51', 'runs_ml_3/ABC5/runs/batch-000/Na/NaCl5U/xxx_02a-00_agm200035704_spg51', 'runs_ml_3/ABC5/runs/batch-000/Br/Br5ErTh/xxx_02a-00_agm200035200_spg51', 'runs_ml_3/ABC5/runs/batch-000/Cl/Cl5CeDy/xxx_02a-00_agm200036242_spg51', 'runs_ml_3/ABC5/runs/batch-000/Cl/Cl5SmTb/xxx_02a-00_agm200036205_spg51', 'runs_ml_3/ABC5/runs/batch-000/Cl/Cl5NiSn/xxx_02a-00_agm200035354_spg51', 'runs_ml_3/ABC5/runs/batch-000/Ni/NiBr5Y/xxx_02a-00_agm200034798_spg51', 'runs_ml_3/ABC5/runs/batch-000/Cl/Cl5CoY/xxx_02a-00_agm200035275_spg51', 'runs_ml_3/ABC5/runs/batch-000/Cl/Cl5CuCd/xxx_02a-00_agm200035300_spg51', 'runs_ml_3/ABC5/runs/batch-000/Br/Br5SrBi/xxx_02a-00_agm200035072_spg51', 'runs_ml_3/ABC5/runs/batch-000/Br/Br5SmPu/xxx_02a-00_agm200035160_spg51', 'runs_ml_3/ABC5/runs/batch-000/Pd/PdI5Pr/xxx_02a-00_agm200035774_spg51', 'runs_ml_3/ABC5/runs/batch-000/Cl/Cl5ScDy/xxx_02a-00_agm200035752_spg51', 'runs_ml_3/ABC5/runs/batch-000/Pd/PdTe5Ta/xxx_02a-00_agm200035510_spg51', 'runs_ml_3/ABC5/runs/batch-000/Ni/NiI5U/xxx_02a-00_agm200035607_spg51', 'runs_ml_3/ABC5/runs/batch-000/Cl/Cl5NiCd/xxx_02a-00_agm200035302_spg51', 'runs_ml_3/ABC5/runs/batch-000/Cl/Cl5PmNp/xxx_02a-00_agm200036253_spg51', 'runs_ml_3/ABC5/runs/batch-000/Br/Br5BiPu/xxx_02a-00_agm200035126_spg51', 'runs_ml_3/ABC5/runs/batch-000/Br/Br5CeDy/xxx_02a-00_agm200035195_spg51', 'runs_ml_3/ABC5/runs/batch-000/Mn/MnBr5Dy/xxx_02a-00_agm200035037_spg51', 'runs_ml_3/ABC5/runs/batch-000/Sr/SrI5Dy/xxx_02a-00_agm200035856_spg51', 'runs_ml_3/ABC5/runs/batch-000/Y/YCdI5/xxx_02a-00_agm200035237_spg51', 'runs_ml_3/ABC5/runs/batch-000/Ti/TiBr5Hf/xxx_02a-00_agm200034720_spg51', 'runs_ml_3/ABC5/runs/batch-000/Br/Br5PdAg/xxx_02a-00_agm200034882_spg51', 'runs_ml_3/ABC5/runs/batch-000/Li/LiBr5Nd/xxx_02a-00_agm200034938_spg51', 'runs_ml_3/ABC5/runs/batch-000/Li/LiI5Ac/xxx_02a-00_agm200035667_spg51', 'runs_ml_3/ABC5/runs/batch-000/Br/Br5NdTm/xxx_02a-00_agm200035144_spg51', 'runs_ml_3/ABC5/runs/batch-000/Cu/CuBr5Y/xxx_02a-00_agm200034796_spg51', 'runs_ml_3/ABC5/runs/batch-000/Cu/CuBr5Ce/xxx_02a-00_agm200034874_spg51', 'runs_ml_3/ABC5/runs/batch-000/Zr/ZrTe5Au/xxx_02a-00_agm200035503_spg51', 'runs_ml_3/ABC5/runs/batch-000/Cl/Cl5NbAg/xxx_02a-00_agm200035547_spg51', 'runs_ml_3/ABC5/runs/batch-000/Cl/Cl5ScPm/xxx_02a-00_agm200035748_spg51', 'runs_ml_3/ABC5/runs/batch-000/Mg/MgCl5Er/xxx_02a-00_agm200036018_spg51', 'runs_ml_3/ABC5/runs/batch-000/Y/YI5U/xxx_02a-00_agm200035264_spg51', 'runs_ml_3/ABC5/runs/batch-000/Cl/Cl5YPm/xxx_02a-00_agm200035293_spg51', 'runs_ml_3/ABC5/runs/batch-000/Mg/MgI5Pr/xxx_02a-00_agm200035807_spg51', 'runs_ml_3/ABC5/runs/batch-000/I/I5PmEr/xxx_02a-00_agm200035979_spg51', 'runs_ml_3/ABC5/runs/batch-000/Li/LiI5Sm/xxx_02a-00_agm200035665_spg51', 'runs_ml_3/ABC5/runs/batch-000/Cl/Cl5SmAc/xxx_02a-00_agm200036194_spg51', 'runs_ml_3/ABC5/runs/batch-000/Cl/Cl5CuTm/xxx_02a-00_agm200035465_spg51', 'runs_ml_3/ABC5/runs/batch-000/Ni/NiI5Bi/xxx_02a-00_agm200035599_spg51', 'runs_ml_3/ABC5/runs/batch-000/Ni/NiBr5Sb/xxx_02a-00_agm200034904_spg51', 'runs_ml_3/ABC5/runs/batch-000/I/I5PmU/xxx_02a-00_agm200035970_spg51', 'runs_ml_3/ABC5/runs/batch-000/Br/Br5SmEr/xxx_02a-00_agm200035158_spg51', 'runs_ml_3/ABC5/runs/batch-000/Cl/Cl5ScCu/xxx_02a-00_agm200035422_spg51', 'runs_ml_3/ABC5/runs/batch-000/Cl/Cl5TiLa/xxx_02a-00_agm200034778_spg51', 'runs_ml_3/ABC5/runs/batch-000/Br/Br5PrAc/xxx_02a-00_agm200035165_spg51', 'runs_ml_3/ABC5/runs/batch-000/Cl/Cl5GeNp/xxx_02a-00_agm200034713_spg51', 'runs_ml_3/ABC5/runs/batch-000/Fe/FeNbTe5/xxx_02a-00_agm200035532_spg51', 'runs_ml_3/ABC5/runs/batch-000/Mg/MgI5Ce/xxx_02a-00_agm200035811_spg51', 'runs_ml_3/ABC5/runs/batch-000/Br/Br5TbHo/xxx_02a-00_agm200035221_spg51', 'runs_ml_3/ABC5/runs/batch-000/Y/YI5Er/xxx_02a-00_agm200035266_spg51', 'runs_ml_3/ABC5/runs/batch-000/Cl/Cl5CrPm/xxx_02a-00_agm200036158_spg51', 'runs_ml_3/ABC5/runs/batch-000/Ti/TiI5Pu/xxx_02a-00_agm200034765_spg51', 'runs_ml_3/ABC5/runs/batch-000/Cl/Cl5CdNp/xxx_02a-00_agm200035343_spg51', 'runs_ml_3/ABC5/runs/batch-000/Cl/Cl5MnZn/xxx_02a-00_agm200035647_spg51', 'runs_ml_3/ABC5/runs/batch-000/Cl/Cl5CeHo/xxx_02a-00_agm200036243_spg51', 'runs_ml_3/ABC5/runs/batch-000/Cl/Cl5ErTm/xxx_02a-00_agm200036223_spg51']\n"
     ]
    },
    {
     "name": "stderr",
     "output_type": "stream",
     "text": [
      " 97%|█████████████████████████████████████████████████████████████████████████████████████████████████████████████████████████████████████████████████████████████████████████████████████████████████████████████████████████████████████████████████▊        | 89/92 [19:30<00:49, 16.35s/it]"
     ]
    },
    {
     "name": "stdout",
     "output_type": "stream",
     "text": [
      "Length batch: 3754\n",
      "['runs_ml_3/ABC6/runs/batch-000/Br/Br6NbAg/xxx_02a-00_agm200036779_spg149', 'runs_ml_3/ABC6/runs/batch-000/Br/Br6MoPb/xxx_02a-00_agm200037203_spg149', 'runs_ml_3/ABC6/runs/batch-000/Sb/SbI6Tm/xxx_02a-00_agm200039074_spg149', 'runs_ml_3/ABC6/runs/batch-000/I/I6ErTl/xxx_02a-00_agm200038899_spg149', 'runs_ml_3/ABC6/runs/batch-000/Cl/Cl6VSr/xxx_02a-00_agm200039744_spg149', 'runs_ml_3/ABC6/runs/batch-000/Cl/Cl6PdPm/xxx_02a-00_agm200038996_spg149', 'runs_ml_3/ABC6/runs/batch-000/Cl/Cl6ErTh/xxx_02a-00_agm200040014_spg149', 'runs_ml_3/ABC6/runs/batch-000/Ti/TiBr6Bi/xxx_02a-00_agm200036367_spg149', 'runs_ml_3/ABC6/runs/batch-000/In/InI6Ce/xxx_02a-00_agm200039220_spg149', 'runs_ml_3/ABC6/runs/batch-000/Al/AlCl6Rh/xxx_02a-00_agm200039634_spg149', 'runs_ml_3/ABC6/runs/batch-000/Cl/Cl6ScPt/xxx_02a-00_agm200037718_spg149', 'runs_ml_3/ABC6/runs/batch-000/Cl/Cl6MnHf/xxx_02a-00_agm200039656_spg149', 'runs_ml_3/ABC6/runs/batch-000/V/VBr6Pr/xxx_02a-00_agm200037369_spg149', 'runs_ml_3/ABC6/runs/batch-000/Cl/Cl6PdSm/xxx_02a-00_agm200038992_spg149', 'runs_ml_3/ABC6/runs/batch-000/Cl/Cl6RuAg/xxx_02a-00_agm200037815_spg149', 'runs_ml_3/ABC6/runs/batch-000/I/I6ErPt/xxx_02a-00_agm200037753_spg149', 'runs_ml_3/ABC6/runs/batch-000/I/I6CeHg/xxx_02a-00_agm200039486_spg149', 'runs_ml_3/ABC6/runs/batch-000/Cl/Cl6ZnHf/xxx_02a-00_agm200038567_spg149', 'runs_ml_3/ABC6/runs/batch-000/Br/Br6PdCe/xxx_02a-00_agm200037122_spg149', 'runs_ml_3/ABC6/runs/batch-000/Mg/MgI6Pa/xxx_02a-00_agm200039157_spg149', 'runs_ml_3/ABC6/runs/batch-000/Mg/MgBr6W/xxx_02a-00_agm200037037_spg149', 'runs_ml_3/ABC6/runs/batch-000/Na/NaCl6Fe/xxx_02a-00_agm200038755_spg149', 'runs_ml_3/ABC6/runs/batch-000/Te/TeI6Ba/xxx_02a-00_agm200038311_spg149', 'runs_ml_3/ABC6/runs/batch-000/I/I6PmSm/xxx_02a-00_agm200039512_spg149', 'runs_ml_3/ABC6/runs/batch-000/Cl/Cl6HoNp/xxx_02a-00_agm200040037_spg149', 'runs_ml_3/ABC6/runs/batch-000/Mg/MgCl6Np/xxx_02a-00_agm200039627_spg149', 'runs_ml_3/ABC6/runs/batch-000/Br/Br6PdTa/xxx_02a-00_agm200037047_spg149', 'runs_ml_3/ABC6/runs/batch-000/Cl/Cl6MnTa/xxx_02a-00_agm200038863_spg149', 'runs_ml_3/ABC6/runs/batch-000/Cl/Cl6CrSn/xxx_02a-00_agm200038181_spg149', 'runs_ml_3/ABC6/runs/batch-000/Ti/TiBr6Pt/xxx_02a-00_agm200036334_spg149', 'runs_ml_3/ABC6/runs/batch-000/Br/Br6SnTm/xxx_02a-00_agm200036677_spg149', 'runs_ml_3/ABC6/runs/batch-000/Cl/Cl6MoCd/xxx_02a-00_agm200038059_spg149', 'runs_ml_3/ABC6/runs/batch-000/Y/YI6Th/xxx_02a-00_agm200038002_spg149', 'runs_ml_3/ABC6/runs/batch-000/Cl/Cl6CrRb/xxx_02a-00_agm200038547_spg149', 'runs_ml_3/ABC6/runs/batch-000/F/F6AgOs/xxx_02a-00_agm200037863_spg149', 'runs_ml_3/ABC6/runs/batch-000/Br/Br6YZr/xxx_02a-00_agm200036582_spg149', 'runs_ml_3/ABC6/runs/batch-000/Al/AlCuI6/xxx_02a-00_agm200038239_spg149', 'runs_ml_3/ABC6/runs/batch-000/Br/Br6HgTl/xxx_02a-00_agm200037079_spg149', 'runs_ml_3/ABC6/runs/batch-000/Cl/Cl6NiZn/xxx_02a-00_agm200038398_spg149', 'runs_ml_3/ABC6/runs/batch-000/Mg/MgCl6I/xxx_02a-00_agm200039145_spg149', 'runs_ml_3/ABC6/runs/batch-000/F/F6CrCu/xxx_02a-00_agm200037849_spg149', 'runs_ml_3/ABC6/runs/batch-000/Pd/PdI6Pt/xxx_02a-00_agm200037721_spg149', 'runs_ml_3/ABC6/runs/batch-000/Fe/FeI6Pt/xxx_02a-00_agm200037744_spg149', 'runs_ml_3/ABC6/runs/batch-000/Mg/MgVBr6/xxx_02a-00_agm200037230_spg149', 'runs_ml_3/ABC6/runs/batch-000/Cl/Cl6YEr/xxx_02a-00_agm200038025_spg149', 'runs_ml_3/ABC6/runs/batch-000/Cl/Cl6NiOs/xxx_02a-00_agm200038459_spg149', 'runs_ml_3/ABC6/runs/batch-000/Cl/Cl6KZr/xxx_02a-00_agm200039838_spg149', 'runs_ml_3/ABC6/runs/batch-000/I/I6TmAc/xxx_02a-00_agm200039533_spg149', 'runs_ml_3/ABC6/runs/batch-000/Li/LiTiBr6/xxx_02a-00_agm200036345_spg149', 'runs_ml_3/ABC6/runs/batch-000/Fe/FeI6Pa/xxx_02a-00_agm200039483_spg149', 'runs_ml_3/ABC6/runs/batch-000/Ni/NiBr6Th/xxx_02a-00_agm200036845_spg149', 'runs_ml_3/ABC6/runs/batch-000/Br/Br6MoAu/xxx_02a-00_agm200036909_spg149', 'runs_ml_3/ABC6/runs/batch-000/Cl/Cl6ErBi/xxx_02a-00_agm200039909_spg149', 'runs_ml_3/ABC6/runs/batch-000/Ca/CaI6Ta/xxx_02a-00_agm200038858_spg149', 'runs_ml_3/ABC6/runs/batch-000/Cr/CrBr6Hf/xxx_02a-00_agm200037422_spg149', 'runs_ml_3/ABC6/runs/batch-000/Cu/CuBr6Sb/xxx_02a-00_agm200036711_spg149', 'runs_ml_3/ABC6/runs/batch-000/Mg/MgPBr6/xxx_02a-00_agm200037225_spg149', 'runs_ml_3/ABC6/runs/batch-000/I/I6HoAc/xxx_02a-00_agm200039542_spg149', 'runs_ml_3/ABC6/runs/batch-000/I/I6HoTm/xxx_02a-00_agm200039553_spg149', 'runs_ml_3/ABC6/runs/batch-000/Cl/Cl6KTa/xxx_02a-00_agm200038869_spg149', 'runs_ml_3/ABC6/runs/batch-000/Cl/Cl6PtPb/xxx_02a-00_agm200037768_spg149', 'runs_ml_3/ABC6/runs/batch-000/I/I6PbBi/xxx_02a-00_agm200039319_spg149', 'runs_ml_3/ABC6/runs/batch-000/I/I6TbTl/xxx_02a-00_agm200038907_spg149', 'runs_ml_3/ABC6/runs/batch-000/Cl/Cl6FeI/xxx_02a-00_agm200039334_spg149', 'runs_ml_3/ABC6/runs/batch-000/Br/Br6RbHf/xxx_02a-00_agm200036880_spg149', 'runs_ml_3/ABC6/runs/batch-000/Cl/Cl6ZrNd/xxx_02a-00_agm200039845_spg149', 'runs_ml_3/ABC6/runs/batch-000/Cl/Cl6RbU/xxx_02a-00_agm200038549_spg149', 'runs_ml_3/ABC6/runs/batch-000/Cl/Cl6KNi/xxx_02a-00_agm200038469_spg149', 'runs_ml_3/ABC6/runs/batch-000/Cu/CuBr6Pd/xxx_02a-00_agm200036709_spg149', 'runs_ml_3/ABC6/runs/batch-000/Br/Br6TbPt/xxx_02a-00_agm200036546_spg149', 'runs_ml_3/ABC6/runs/batch-000/I/I6ErPu/xxx_02a-00_agm200039575_spg149', 'runs_ml_3/ABC6/runs/batch-000/Br/Br6TaPt/xxx_02a-00_agm200036509_spg149', 'runs_ml_3/ABC6/runs/batch-000/Cl/Cl6KFe/xxx_02a-00_agm200039879_spg149', 'runs_ml_3/ABC6/runs/batch-000/I/I6HfPb/xxx_02a-00_agm200039315_spg149', 'runs_ml_3/ABC6/runs/batch-000/Al/AlCl6Mn/xxx_02a-00_agm200039658_spg149', 'runs_ml_3/ABC6/runs/batch-000/Br/Br6NbHg/xxx_02a-00_agm200037149_spg149', 'runs_ml_3/ABC6/runs/batch-000/Cl/Cl6KRh/xxx_02a-00_agm200039635_spg149', 'runs_ml_3/ABC6/runs/batch-000/Cl/Cl6PrBi/xxx_02a-00_agm200039905_spg149', 'runs_ml_3/ABC6/runs/batch-000/I/I6PbTh/xxx_02a-00_agm200039329_spg149', 'runs_ml_3/ABC6/runs/batch-000/Br/Br6RuCd/xxx_02a-00_agm200036548_spg149', 'runs_ml_3/ABC6/runs/batch-000/Al/AlBr6Ho/xxx_02a-00_agm200037490_spg149', 'runs_ml_3/ABC6/runs/batch-000/Mg/MgBr6Pd/xxx_02a-00_agm200037099_spg149', 'runs_ml_3/ABC6/runs/batch-000/Mg/MgAlBr6/xxx_02a-00_agm200037234_spg149', 'runs_ml_3/ABC6/runs/batch-000/Ge/GeBr6Sb/xxx_02a-00_agm200036277_spg149', 'runs_ml_3/ABC6/runs/batch-000/Sr/SrI6Pt/xxx_02a-00_agm200037733_spg149', 'runs_ml_3/ABC6/runs/batch-000/Cl/Cl6CrTm/xxx_02a-00_agm200039888_spg149', 'runs_ml_3/ABC6/runs/batch-000/Br/Br6SbEr/xxx_02a-00_agm200037192_spg149', 'runs_ml_3/ABC6/runs/batch-000/Br/Br6YDy/xxx_02a-00_agm200036599_spg149', 'runs_ml_3/ABC6/runs/batch-000/Cl/Cl6ZrAg/xxx_02a-00_agm200038384_spg149', 'runs_ml_3/ABC6/runs/batch-000/Al/AlBr6Hf/xxx_02a-00_agm200037420_spg149', 'runs_ml_3/ABC6/runs/batch-000/Sc/ScBr6Y/xxx_02a-00_agm200036570_spg149', 'runs_ml_3/ABC6/runs/batch-000/As/AsSbI6/xxx_02a-00_agm200038692_spg149', 'runs_ml_3/ABC6/runs/batch-000/Cl/Cl6BaPt/xxx_02a-00_agm200037776_spg149', 'runs_ml_3/ABC6/runs/batch-000/Sc/ScBr6Np/xxx_02a-00_agm200037031_spg149', 'runs_ml_3/ABC6/runs/batch-000/Cd/CdI6Hf/xxx_02a-00_agm200038066_spg149', 'runs_ml_3/ABC6/runs/batch-000/Te/TeI6Np/xxx_02a-00_agm200038319_spg149', 'runs_ml_3/ABC6/runs/batch-000/Cr/CrBr6Pu/xxx_02a-00_agm200037505_spg149', 'runs_ml_3/ABC6/runs/batch-000/Rh/RhI6Th/xxx_02a-00_agm200039166_spg149', 'runs_ml_3/ABC6/runs/batch-000/Cu/CuBr6Re/xxx_02a-00_agm200036716_spg149', 'runs_ml_3/ABC6/runs/batch-000/Cl/Cl6PdRe/xxx_02a-00_agm200038973_spg149', 'runs_ml_3/ABC6/runs/batch-000/Sc/ScInI6/xxx_02a-00_agm200038772_spg149', 'runs_ml_3/ABC6/runs/batch-000/Br/Br6TeSm/xxx_02a-00_agm200036765_spg149', 'runs_ml_3/ABC6/runs/batch-000/As/AsInI6/xxx_02a-00_agm200038695_spg149', 'runs_ml_3/ABC6/runs/batch-000/F/F6RbPt/xxx_02a-00_agm200037683_spg149', 'runs_ml_3/ABC6/runs/batch-000/As/AsBr6Pt/xxx_02a-00_agm200036506_spg149', 'runs_ml_3/ABC6/runs/batch-000/Br/Br6InTe/xxx_02a-00_agm200036751_spg149', 'runs_ml_3/ABC6/runs/batch-000/Br/Br6TbPu/xxx_02a-00_agm200037667_spg149', 'runs_ml_3/ABC6/runs/batch-000/Cd/CdI6Np/xxx_02a-00_agm200038076_spg149', 'runs_ml_3/ABC6/runs/batch-000/Br/Br6HfNp/xxx_02a-00_agm200037437_spg149', 'runs_ml_3/ABC6/runs/batch-000/Mg/MgTiBr6/xxx_02a-00_agm200036352_spg149', 'runs_ml_3/ABC6/runs/batch-000/F/F6NaCl/xxx_02a-00_agm200037917_spg149', 'runs_ml_3/ABC6/runs/batch-000/Cl/Cl6VAg/xxx_02a-00_agm200038381_spg149', 'runs_ml_3/ABC6/runs/batch-000/Al/AlNiI6/xxx_02a-00_agm200038431_spg149', 'runs_ml_3/ABC6/runs/batch-000/Ni/NiI6Nd/xxx_02a-00_agm200038437_spg149', 'runs_ml_3/ABC6/runs/batch-000/Cl/Cl6AuU/xxx_02a-00_agm200038623_spg149', 'runs_ml_3/ABC6/runs/batch-000/Li/LiF6Se/xxx_02a-00_agm200037841_spg149', 'runs_ml_3/ABC6/runs/batch-000/Se/SeBr6Ag/xxx_02a-00_agm200036691_spg149', 'runs_ml_3/ABC6/runs/batch-000/I/I6HoHf/xxx_02a-00_agm200039356_spg149', 'runs_ml_3/ABC6/runs/batch-000/F/F6HgPu/xxx_02a-00_agm200037964_spg149', 'runs_ml_3/ABC6/runs/batch-000/Mn/MnCdI6/xxx_02a-00_agm200038061_spg149', 'runs_ml_3/ABC6/runs/batch-000/Na/NaCl6U/xxx_02a-00_agm200038756_spg149', 'runs_ml_3/ABC6/runs/batch-000/Ca/CaMoI6/xxx_02a-00_agm200039118_spg149', 'runs_ml_3/ABC6/runs/batch-000/V/VBr6Pd/xxx_02a-00_agm200037104_spg149', 'runs_ml_3/ABC6/runs/batch-000/Cl/Cl6TbPu/xxx_02a-00_agm200040032_spg149', 'runs_ml_3/ABC6/runs/batch-000/Li/LiBr6Sn/xxx_02a-00_agm200036646_spg149', 'runs_ml_3/ABC6/runs/batch-000/V/VI6Nd/xxx_02a-00_agm200039285_spg149', 'runs_ml_3/ABC6/runs/batch-000/In/InI6Pt/xxx_02a-00_agm200037730_spg149', 'runs_ml_3/ABC6/runs/batch-000/Mn/MnSbI6/xxx_02a-00_agm200039051_spg149', 'runs_ml_3/ABC6/runs/batch-000/Se/SeBr6Cd/xxx_02a-00_agm200036604_spg149', 'runs_ml_3/ABC6/runs/batch-000/Br/Br6TlBi/xxx_02a-00_agm200037077_spg149', 'runs_ml_3/ABC6/runs/batch-000/Cl/Cl6CsTa/xxx_02a-00_agm200038865_spg149', 'runs_ml_3/ABC6/runs/batch-000/F/F6AgW/xxx_02a-00_agm200037856_spg149', 'runs_ml_3/ABC6/runs/batch-000/Br/Br6PmTl/xxx_02a-00_agm200037087_spg149', 'runs_ml_3/ABC6/runs/batch-000/Cl/Cl6HgBi/xxx_02a-00_agm200039902_spg149', 'runs_ml_3/ABC6/runs/batch-000/Na/NaBr6U/xxx_02a-00_agm200036999_spg149', 'runs_ml_3/ABC6/runs/batch-000/Cl/Cl6DyHo/xxx_02a-00_agm200040039_spg149', 'runs_ml_3/ABC6/runs/batch-000/Ga/GaI6U/xxx_02a-00_agm200038499_spg149', 'runs_ml_3/ABC6/runs/batch-000/Cl/Cl6PdCe/xxx_02a-00_agm200038995_spg149', 'runs_ml_3/ABC6/runs/batch-000/Nb/NbI6Tb/xxx_02a-00_agm200039027_spg149', 'runs_ml_3/ABC6/runs/batch-000/Cl/Cl6NdPu/xxx_02a-00_agm200039952_spg149', 'runs_ml_3/ABC6/runs/batch-000/Cl/Cl6ScHo/xxx_02a-00_agm200038829_spg149', 'runs_ml_3/ABC6/runs/batch-000/Cl/Cl6SrNp/xxx_02a-00_agm200039782_spg149', 'runs_ml_3/ABC6/runs/batch-000/Al/AlI6Np/xxx_02a-00_agm200039401_spg149', 'runs_ml_3/ABC6/runs/batch-000/Br/Br6YU/xxx_02a-00_agm200036592_spg149', 'runs_ml_3/ABC6/runs/batch-000/Na/NaI6Pt/xxx_02a-00_agm200037715_spg149', 'runs_ml_3/ABC6/runs/batch-000/Cl/Cl6SmPu/xxx_02a-00_agm200039965_spg149', 'runs_ml_3/ABC6/runs/batch-000/Br/Br6TmPb/xxx_02a-00_agm200037406_spg149', 'runs_ml_3/ABC6/runs/batch-000/Br/Br6ErTm/xxx_02a-00_agm200037621_spg149', 'runs_ml_3/ABC6/runs/batch-000/Cl/Cl6GaPa/xxx_02a-00_agm200038513_spg149', 'runs_ml_3/ABC6/runs/batch-000/Cl/Cl6GaTl/xxx_02a-00_agm200038492_spg149', 'runs_ml_3/ABC6/runs/batch-000/Br/Br6NdAc/xxx_02a-00_agm200037568_spg149', 'runs_ml_3/ABC6/runs/batch-000/Br/Br6SbNp/xxx_02a-00_agm200037195_spg149', 'runs_ml_3/ABC6/runs/batch-000/Cl/Cl6YZr/xxx_02a-00_agm200038014_spg149', 'runs_ml_3/ABC6/runs/batch-000/Cl/Cl6CuMo/xxx_02a-00_agm200038229_spg149', 'runs_ml_3/ABC6/runs/batch-000/Cl/Cl6MnIn/xxx_02a-00_agm200039650_spg149', 'runs_ml_3/ABC6/runs/batch-000/Ca/CaI6Pu/xxx_02a-00_agm200039365_spg149', 'runs_ml_3/ABC6/runs/batch-000/Na/NaI6Pu/xxx_02a-00_agm200038738_spg149', 'runs_ml_3/ABC6/runs/batch-000/Br/Br6YPr/xxx_02a-00_agm200036589_spg149', 'runs_ml_3/ABC6/runs/batch-000/Br/Br6LaAc/xxx_02a-00_agm200037540_spg149', 'runs_ml_3/ABC6/runs/batch-000/Se/SeBr6Tl/xxx_02a-00_agm200036694_spg149', 'runs_ml_3/ABC6/runs/batch-000/Br/Br6WAu/xxx_02a-00_agm200036903_spg149', 'runs_ml_3/ABC6/runs/batch-000/Br/Br6HfPu/xxx_02a-00_agm200037436_spg149', 'runs_ml_3/ABC6/runs/batch-000/V/VBr6Sn/xxx_02a-00_agm200036662_spg149', 'runs_ml_3/ABC6/runs/batch-000/Mg/MgCl6Ti/xxx_02a-00_agm200036458_spg149', 'runs_ml_3/ABC6/runs/batch-000/Br/Br6SnSm/xxx_02a-00_agm200036675_spg149', 'runs_ml_3/ABC6/runs/batch-000/In/InI6Tm/xxx_02a-00_agm200039218_spg149', 'runs_ml_3/ABC6/runs/batch-000/Cl/Cl6TbHf/xxx_02a-00_agm200039825_spg149', 'runs_ml_3/ABC6/runs/batch-000/Cl/Cl6NiSb/xxx_02a-00_agm200038418_spg149', 'runs_ml_3/ABC6/runs/batch-000/Cl/Cl6NdBi/xxx_02a-00_agm200039903_spg149', 'runs_ml_3/ABC6/runs/batch-000/Ti/TiI6Cs/xxx_02a-00_agm200036427_spg149', 'runs_ml_3/ABC6/runs/batch-000/Cl/Cl6TbDy/xxx_02a-00_agm200040041_spg149', 'runs_ml_3/ABC6/runs/batch-000/Br/Br6InHg/xxx_02a-00_agm200037302_spg149', 'runs_ml_3/ABC6/runs/batch-000/Te/TeI6Au/xxx_02a-00_agm200038282_spg149', 'runs_ml_3/ABC6/runs/batch-000/Ni/NiBr6Sm/xxx_02a-00_agm200036836_spg149', 'runs_ml_3/ABC6/runs/batch-000/Na/NaTeI6/xxx_02a-00_agm200038288_spg149', 'runs_ml_3/ABC6/runs/batch-000/Mg/MgCl6Pb/xxx_02a-00_agm200039617_spg149', 'runs_ml_3/ABC6/runs/batch-000/Na/NaCl6Ce/xxx_02a-00_agm200038757_spg149', 'runs_ml_3/ABC6/runs/batch-000/I/I6CeSm/xxx_02a-00_agm200039510_spg149', 'runs_ml_3/ABC6/runs/batch-000/Br/Br6RuCs/xxx_02a-00_agm200036557_spg149', 'runs_ml_3/ABC6/runs/batch-000/Cl/Cl6InPa/xxx_02a-00_agm200039699_spg149', 'runs_ml_3/ABC6/runs/batch-000/Al/AlBr6Sr/xxx_02a-00_agm200037386_spg149', 'runs_ml_3/ABC6/runs/batch-000/Cl/Cl6TiY/xxx_02a-00_agm200036391_spg149', 'runs_ml_3/ABC6/runs/batch-000/Sr/SrI6Re/xxx_02a-00_agm200039200_spg149']\n"
     ]
    },
    {
     "name": "stderr",
     "output_type": "stream",
     "text": [
      " 98%|████████████████████████████████████████████████████████████████████████████████████████████████████████████████████████████████████████████████████████████████████████████████████████████████████████████████████████████████████████████████████▌     | 90/92 [19:31<00:23, 11.70s/it]"
     ]
    },
    {
     "name": "stdout",
     "output_type": "stream",
     "text": [
      "Length batch: 42\n",
      "['runs_ml_4/AB2C2D2/runs/batch-000/Co/Co2Se2Br2Pa/xxx_02a-00_agm200015997_spg164', 'runs_ml_4/AB2C2D2/runs/batch-000/Cl/Cl2Se2In2Sn/xxx_02a-00_agm200016086_spg164', 'runs_ml_4/AB2C2D2/runs/batch-000/Cl/Cl2Ni2Se2Pa/xxx_02a-00_agm200016110_spg164', 'runs_ml_4/AB2C2D2/runs/batch-000/Ti/Ti2VSe2Br2/xxx_02a-00_agm200015908_spg164']\n"
     ]
    },
    {
     "name": "stderr",
     "output_type": "stream",
     "text": [
      " 99%|███████████████████████████████████████████████████████████████████████████████████████████████████████████████████████████████████████████████████████████████████████████████████████████████████████████████████████████████████████████████████████▎  | 91/92 [19:46<00:12, 12.85s/it]"
     ]
    },
    {
     "name": "stdout",
     "output_type": "stream",
     "text": [
      "Length batch: 469\n",
      "[]\n"
     ]
    },
    {
     "name": "stderr",
     "output_type": "stream",
     "text": [
      "100%|██████████████████████████████████████████████████████████████████████████████████████████████████████████████████████████████████████████████████████████████████████████████████████████████████████████████████████████████████████████████████████████| 92/92 [19:52<00:00, 12.97s/it]"
     ]
    },
    {
     "name": "stdout",
     "output_type": "stream",
     "text": [
      "Length batch: 923\n",
      "['runs_ml_4/ABC2D6/runs/batch-000/Na/NaMgCu2I6/xxx_02a-00_agm200031312_spg149', 'runs_ml_4/ABC2D6/runs/batch-000/Li/LiO6P2Cu/xxx_02a-00_agm200030811_spg149', 'runs_ml_4/ABC2D6/runs/batch-000/O/O6CuSe2Rb/xxx_02a-00_agm200030770_spg149', 'runs_ml_4/ABC2D6/runs/batch-000/Na/NaSi2Se6Cd/xxx_02a-00_agm200030957_spg149', 'runs_ml_4/ABC2D6/runs/batch-000/Cu/Cu2Br6AgNp/xxx_02a-00_agm200030907_spg149', 'runs_ml_4/ABC2D6/runs/batch-000/Na/NaP2GaSe6/xxx_02a-00_agm200031123_spg149', 'runs_ml_4/ABC2D6/runs/batch-000/Na/NaS6As2Ce/xxx_02a-00_agm200031453_spg149', 'runs_ml_4/ABC2D6/runs/batch-000/Li/LiCu2Br6Ag/xxx_02a-00_agm200030868_spg149', 'runs_ml_4/ABC2D6/runs/batch-000/Ni/NiCu2Br6Ag/xxx_02a-00_agm200030865_spg149', 'runs_ml_4/ABC2D6/runs/batch-000/Na/NaAlP2S6/xxx_02a-00_agm200031476_spg149', 'runs_ml_4/ABC2D6/runs/batch-000/Na/NaCl6Ag2Cd/xxx_02a-00_agm200031024_spg149', 'runs_ml_4/ABC2D6/runs/batch-000/P/P2S6MnAg/xxx_02a-00_agm200031402_spg149', 'runs_ml_4/ABC2D6/runs/batch-000/Cu/Cu2I6CsAu/xxx_02a-00_agm200031292_spg149', 'runs_ml_4/ABC2D6/runs/batch-000/Li/LiCl6KCu2/xxx_02a-00_agm200031307_spg149', 'runs_ml_4/ABC2D6/runs/batch-000/Na/NaP2S6Tl/xxx_02a-00_agm200031463_spg149', 'runs_ml_4/ABC2D6/runs/batch-000/Mg/MgP2Se6Ag/xxx_02a-00_agm200031111_spg149', 'runs_ml_4/ABC2D6/runs/batch-000/Cl/Cl6Ag2CdPb/xxx_02a-00_agm200031026_spg149', 'runs_ml_4/ABC2D6/runs/batch-000/P/P2S6AgU/xxx_02a-00_agm200031416_spg149', 'runs_ml_4/ABC2D6/runs/batch-000/Cu/Cu2RbI6Au/xxx_02a-00_agm200031286_spg149', 'runs_ml_4/ABC2D6/runs/batch-000/P/P2S6AgPu/xxx_02a-00_agm200031419_spg149', 'runs_ml_4/ABC2D6/runs/batch-000/Cl/Cl6KAg2Bi/xxx_02a-00_agm200031612_spg149', 'runs_ml_4/ABC2D6/runs/batch-000/Al/AlP2S6Ag/xxx_02a-00_agm200031409_spg149', 'runs_ml_4/ABC2D6/runs/batch-000/Na/NaP2Se6Hg/xxx_02a-00_agm200031156_spg149', 'runs_ml_4/ABC2D6/runs/batch-000/Ag/Ag2I6TlU/xxx_02a-00_agm200031587_spg149', 'runs_ml_4/ABC2D6/runs/batch-000/Li/LiNaP2S6/xxx_02a-00_agm200031438_spg149', 'runs_ml_4/ABC2D6/runs/batch-000/Ag/AgI6Au2Pb/xxx_02a-00_agm200031504_spg149', 'runs_ml_4/ABC2D6/runs/batch-000/B/B2AlS6Ag/xxx_02a-00_agm200031061_spg149', 'runs_ml_4/ABC2D6/runs/batch-000/P/P2Se6AgTe/xxx_02a-00_agm200031081_spg149', 'runs_ml_4/ABC2D6/runs/batch-000/Li/LiNaCu2I6/xxx_02a-00_agm200031296_spg149', 'runs_ml_4/ABC2D6/runs/batch-000/O/O6Se2AgCd/xxx_02a-00_agm200030747_spg149', 'runs_ml_4/ABC2D6/runs/batch-000/P/P2CuSe6Sb/xxx_02a-00_agm200031075_spg149', 'runs_ml_4/ABC2D6/runs/batch-000/Li/LiP2Se6In/xxx_02a-00_agm200031134_spg149', 'runs_ml_4/ABC2D6/runs/batch-000/Li/Li2NaCl6Bi/xxx_02a-00_agm200031627_spg149', 'runs_ml_4/ABC2D6/runs/batch-000/Cu/CuBr6SrAg2/xxx_02a-00_agm200030883_spg149', 'runs_ml_4/ABC2D6/runs/batch-000/Na/NaAg2I6Tb/xxx_02a-00_agm200031565_spg149', 'runs_ml_4/ABC2D6/runs/batch-000/C/C2O6NaMg/xxx_02a-00_agm200030833_spg149', 'runs_ml_4/ABC2D6/runs/batch-000/Na/NaGe2AgI6/xxx_02a-00_agm200030733_spg149', 'runs_ml_4/ABC2D6/runs/batch-000/Li/LiRbI6Hg2/xxx_02a-00_agm200031615_spg149', 'runs_ml_4/ABC2D6/runs/batch-000/Li/LiO6Se2Cd/xxx_02a-00_agm200030748_spg149', 'runs_ml_4/ABC2D6/runs/batch-000/P/P2S6KSn/xxx_02a-00_agm200031052_spg149', 'runs_ml_4/ABC2D6/runs/batch-000/Cl/Cl6KAg2Np/xxx_02a-00_agm200031614_spg149', 'runs_ml_4/ABC2D6/runs/batch-000/Na/NaBr6AgHg2/xxx_02a-00_agm200030933_spg149', 'runs_ml_4/ABC2D6/runs/batch-000/Ag/Ag2CdI6Pb/xxx_02a-00_agm200031025_spg149', 'runs_ml_4/ABC2D6/runs/batch-000/Cu/CuYAg2I6/xxx_02a-00_agm200031002_spg149', 'runs_ml_4/ABC2D6/runs/batch-000/K/KCuI6Au2/xxx_02a-00_agm200031295_spg149', 'runs_ml_4/ABC2D6/runs/batch-000/P/P2S6AgNp/xxx_02a-00_agm200031421_spg149', 'runs_ml_4/ABC2D6/runs/batch-000/Na/NaBr6Ag2Np/xxx_02a-00_agm200030939_spg149', 'runs_ml_4/ABC2D6/runs/batch-000/Na/NaCl6Cu2Y/xxx_02a-00_agm200031005_spg149']\n"
     ]
    },
    {
     "name": "stderr",
     "output_type": "stream",
     "text": [
      "\n"
     ]
    }
   ],
   "source": [
    "reformated_run = create_relaxation_dataset(runs_relaxed)"
   ]
  },
  {
   "cell_type": "markdown",
   "id": "b64f6a85-9f93-4158-9447-7e2ff68d7ac2",
   "metadata": {},
   "source": [
    "Save the reformated testing data set"
   ]
  },
  {
   "cell_type": "code",
   "execution_count": 282,
   "id": "9b03d3f2-d9f4-455d-a5b1-8c3f3d5d5bee",
   "metadata": {},
   "outputs": [],
   "source": [
    "pickle.dump(reformated_run, open(\"reformated_struc_dict.pickle\", 'wb'))"
   ]
  },
  {
   "cell_type": "code",
   "execution_count": 439,
   "id": "40809e1e-f97e-41f0-b97c-97e817343a79",
   "metadata": {},
   "outputs": [
    {
     "name": "stdout",
     "output_type": "stream",
     "text": [
      "4074\n"
     ]
    }
   ],
   "source": [
    "print(len(reformated_run))"
   ]
  },
  {
   "cell_type": "markdown",
   "id": "9a1dc2cd-802c-46bb-a777-ea9ac31d12e6",
   "metadata": {},
   "source": [
    "### Get the relaxation structures (validation)"
   ]
  },
  {
   "cell_type": "code",
   "execution_count": 441,
   "id": "e251b345-5839-49b5-8b00-d6fcfd935d76",
   "metadata": {},
   "outputs": [],
   "source": [
    "relaxed_structures_path_val = 'relaxations/save_model_validation/save_model/no_cutoff_lr_1e-3_bs_128/00496-0.118736-0.038684-0.073790-0.062614relax_struc_0.1_1000_val.pickle'\n",
    "\n",
    "# Load the pickle file\n",
    "with open(relaxed_structures_path_val, 'rb') as file:\n",
    "    relaxed_structures_val = pickle.load(file)"
   ]
  },
  {
   "cell_type": "code",
   "execution_count": 442,
   "id": "5e355825-e7ee-4c40-bfca-a462df0e0085",
   "metadata": {},
   "outputs": [
    {
     "name": "stdout",
     "output_type": "stream",
     "text": [
      "['runs_2/spg43/S/S3Sb2/xxx_02a-00_43-2-S8d.S4c.Sb8d', 'runs_ml_4/ABC2D6/runs/batch-000/P/P2S6TiAg/xxx_02a-00_agm200030743_spg149', 'runs_ext/c2db_0.25_1/C/C/xxx_02a-00_C2-a6735a4a3797', 'runs_ml_2/A2B3/runs/batch-000/Co/Co2Sm3/xxx_02a-00_agm200003071_spg18', 'runs_ml_3/ABC/runs/batch-000/Br/BrTeBi/xxx_02a-00_agm200029360_spg59', 'runs_2/spg30/Cl/Cl3Gd/xxx_02p-00_30-2-Cl4c.Cl2a.Gd2a', 'runs_3/spg13/Be/Be2P3Re/xxx_02a-00_13-3-Be4b.P4b.P2a.Re2a', 'runs_2/spg13/S/SPd/xxx_02a-00_13-2-S4b.Pd4b', 'runs_ml_3/ABC4/runs/batch-000/As/AsNbTe4/xxx_02a-00_agm200033718_spg11', 'runs_2/spg70/Cd/CdTe/xxx_02p-00_70-2-Cd3c.Te2b.Te1a']\n"
     ]
    }
   ],
   "source": [
    "runs_relaxed_val = list(relaxed_structures_val.keys()) #this is list of differnet runs\n",
    "print(runs_relaxed_val[:10])\n",
    "selected_run = runs_relaxed_val[0]"
   ]
  },
  {
   "cell_type": "code",
   "execution_count": null,
   "id": "044f8c52-ea6f-4b55-8cb9-3d18937288bb",
   "metadata": {},
   "outputs": [
    {
     "name": "stdout",
     "output_type": "stream",
     "text": [
      "4174\n"
     ]
    },
    {
     "name": "stderr",
     "output_type": "stream",
     "text": [
      "  1%|██▋                                                                                                                                                                                                                                                        | 1/92 [00:07<11:13,  7.40s/it]"
     ]
    },
    {
     "name": "stdout",
     "output_type": "stream",
     "text": [
      "Length batch: 532\n",
      "['runs_1/elements/Tl/Tl/xxx_02k-00_phexAl', 'runs_1/elements/Al/Al/xxx_02k-00_psqr2Be', 'runs_1/elements/Rh/Rh/xxx_02p-00_graphene', 'runs_1/elements/Hg/Hg/xxx_02k-00_phexAl', 'runs_1/elements/V/V/xxx_02k-00_phexAl', 'runs_1/elements/Ca/Ca/xxx_02k-00_dkepler', 'runs_1/elements/Au/Au/xxx_02k-00_dkepler', 'runs_1/elements/Au/Au/xxx_02p-00_graphene', 'runs_1/elements/I/I/xxx_02k-00_phexAl', 'runs_1/elements/Ge/Ge/xxx_02k-00_phexAl', 'runs_1/elements/Pr/Pr/xxx_02k-00_psqrAs', 'runs_1/elements/W/W/xxx_02k-00_psqrAs', 'runs_1/elements/La/La/xxx_02k-00_skepler', 'runs_1/elements/Mg/Mg/xxx_02k-00_dhexII', 'runs_1/elements/In/In/xxx_02k-00_psqrAs', 'runs_1/elements/Pd/Pd/xxx_02k-00_dkepler', 'runs_1/elements/Br/Br/xxx_02k-00_phexAl', 'runs_1/elements/Rb/Rb/xxx_02p-00_graphene', 'runs_1/elements/Sm/Sm/xxx_02k-00_psqrAs', 'runs_1/elements/V/V/xxx_02k-00_skepler', 'runs_1/elements/Os/Os/xxx_02k-00_psqrAs', 'runs_1/elements/Cl/Cl/xxx_02p-00_spg63_4', 'runs_1/elements/Se/Se/xxx_02p-00_graphene', 'runs_1/elements/F/F/xxx_02k-00_psqrAs', 'runs_1/elements/Zn/Zn/xxx_02k-00_psqrAs', 'runs_1/elements/P/P/xxx_02k-00_skepler', 'runs_1/elements/Rh/Rh/xxx_02k-00_hexII']\n",
      "Array too small\n",
      "Error\n",
      "Array too small\n",
      "Error\n",
      "Array too small\n",
      "Error\n",
      "Array too small\n",
      "Error\n"
     ]
    },
    {
     "name": "stderr",
     "output_type": "stream",
     "text": [
      "  2%|█████▍                                                                                                                                                                                                                                                     | 2/92 [00:08<05:12,  3.48s/it]"
     ]
    },
    {
     "name": "stdout",
     "output_type": "stream",
     "text": [
      "Length batch: 22\n",
      "['runs_2/carbon/C/CCl3/xxx_02a-00_4-2-C1a.Cl2b.Cl1a']\n"
     ]
    },
    {
     "name": "stderr",
     "output_type": "stream",
     "text": [
      "  3%|████████▏                                                                                                                                                                                                                                                  | 3/92 [00:13<06:10,  4.16s/it]"
     ]
    },
    {
     "name": "stdout",
     "output_type": "stream",
     "text": [
      "Length batch: 96\n",
      "['runs_2/extra01/C/C4N5/xxx_02a-00_CN-00656241', 'runs_2/extra01/C/C2N3/xxx_02a-00_CN-00656236', 'runs_2/extra01/C/C4N5/xxx_02a-00_CN-00656250', 'runs_2/extra01/C/CN2/xxx_02a-00_CN-00000819']\n"
     ]
    },
    {
     "name": "stderr",
     "output_type": "stream",
     "text": [
      "  4%|██████████▉                                                                                                                                                                                                                                                | 4/92 [01:02<32:12, 21.96s/it]"
     ]
    },
    {
     "name": "stdout",
     "output_type": "stream",
     "text": [
      "Length batch: 1802\n",
      "['runs_2/hydrides/H/H2S/xxx_02a-00_36-2-H4b.H4a.S4b', 'runs_2/hydrides/H/HCl/xxx_02a-00_17-2-H2a.Cl2b', 'runs_2/hydrides/H/H2Be/xxx_02a-00_70-2-H3c.H2b.H1a.Be3c', 'runs_2/hydrides/H/HCs/xxx_02a-00_70-2-H3c.Cs3c', 'runs_2/hydrides/H/H2Mn/xxx_02a-00_36-2-H4b.H4a.Mn4a', 'runs_2/hydrides/H/HI/xxx_02a-00_30-2-H4c.I4c', 'runs_2/hydrides/H/H3Ni/xxx_02a-00_70-2-H3c.H2b.H1a.Ni2b', 'runs_2/hydrides/H/HNa/xxx_02a-00_70-2-H3c.H1a.Na3c.Na1a', 'runs_2/hydrides/H/HI/xxx_02a-00_70-2-H1a.I1a', 'runs_2/hydrides/H/HK/xxx_02a-00_4-2-H1a.K1a', 'runs_2/hydrides/H/HI/xxx_02a-00_70-2-H6d.H3c.I6d.I3c', 'runs_2/hydrides/H/H3N/xxx_02a-00_70-2-H2b.H1a.N1a', 'runs_2/hydrides/H/H3Er/xxx_02a-00_17-2-H4c.H2a.Er2b', 'runs_2/hydrides/H/H3La/xxx_02a-00_17-2-H4c.H2a.La2b', 'runs_2/hydrides/H/HCs/xxx_02a-00_13-2-H2a.Cs2a', 'runs_2/hydrides/H/H2Se/xxx_02a-00_36-2-H4b.H4a.Se4b', 'runs_2/hydrides/H/HCu/xxx_02a-00_34-2-H2a.Cu2a', 'runs_2/hydrides/H/HTl/xxx_02a-00_70-2-H3c.Tl3c', 'runs_2/hydrides/H/H3Mn/xxx_02a-00_70-2-H3c.Mn1a', 'runs_2/hydrides/H/HTl/xxx_02a-00_34-2-H4b.H2a.Tl4b.Tl2a', 'runs_2/hydrides/H/H3Dy/xxx_02a-00_30-2-H4c.H2a.Dy2a', 'runs_2/hydrides/H/H3Sc/xxx_02a-00_4-2-H2b.H1a.Sc1a', 'runs_2/hydrides/H/H3Y/xxx_02a-00_36-2-H8c.H4b.Y4b', 'runs_2/hydrides/H/HNa/xxx_02a-00_17-2-H4c.Na2b.Na2a', 'runs_2/hydrides/H/HAg/xxx_02a-00_70-2-H3c.H2b.H1a.Ag6d', 'runs_2/hydrides/H/HCu/xxx_02a-00_17-2-H2b.H2a.Cu4c', 'runs_2/hydrides/H/H6W/xxx_02a-00_70-2-H6d.W1a', 'runs_2/hydrides/H/H3Cu2/xxx_02a-00_21-2-H4c.H2a.Cu2b.Cu2a', 'runs_2/hydrides/H/HLi/xxx_02a-00_21-2-H2a.Li2a', 'runs_2/hydrides/H/HAg/xxx_02a-00_70-2-H1a.Ag1a', 'runs_2/hydrides/H/H2Co/xxx_02a-00_70-2-H6d.H3c.H2b.H1a.Co3c.Co2b.Co1a', 'runs_2/hydrides/H/H3Gd/xxx_02a-00_29-2-H4b.H2a.Gd2a', 'runs_2/hydrides/H/H2Ni/xxx_02a-00_70-2-H2b.Ni1a', 'runs_2/hydrides/H/HI/xxx_02a-00_13-2-H4b.I4b', 'runs_2/hydrides/H/H3Ni/xxx_02a-00_17-2-H4c.H2b.Ni2a', 'runs_2/hydrides/H/H3Nd/xxx_02a-00_70-2-H2b.H1a.Nd1a', 'runs_2/hydrides/H/H11In10/xxx_02a-00_70-2-H6d.H3c.H2b.In6d.In3c.In1a', 'runs_2/hydrides/H/H3B/xxx_02a-00_17-2-H4c.H2b.B2a', 'runs_2/hydrides/H/H3Bi/xxx_02a-00_30-2-H4c.H2b.Bi2b', 'runs_2/hydrides/H/H3Lu/xxx_02a-00_70-2-H6d.H2b.H1a.Lu2b.Lu1a', 'runs_2/hydrides/H/H2Mn/xxx_02a-00_4-2-H2b.Mn1a', 'runs_2/hydrides/H/H2V/xxx_02a-00_10-2-H4b.V2a', 'runs_2/hydrides/H/HIn/xxx_02a-00_70-2-H3c.H1a.In3c.In1a', 'runs_2/hydrides/H/H2Cr/xxx_02a-00_70-2-H3c.H2b.H1a.Cr3c', 'runs_2/hydrides/H/H3La/xxx_02a-00_70-2-H3c.H2b.H1a.La2b', 'runs_2/hydrides/H/HNa/xxx_02a-00_70-2-H6d.Na3c.Na2b.Na1a', 'runs_2/hydrides/H/HRb/xxx_02a-00_30-2-H4c.H2a.Rb4c.Rb2a', 'runs_2/hydrides/H/H5Cr/xxx_02a-00_70-2-H6d.H3c.H1a.Cr2b', 'runs_2/hydrides/H/H2Ba/xxx_02a-00_10-2-H4b.Ba2a', 'runs_2/hydrides/H/HF/xxx_02a-00_21-2-H4c.H2b.F4c.F2b', 'runs_2/hydrides/H/H2Cr/xxx_02a-00_21-2-H2b.H2a.Cr2a', 'runs_2/hydrides/H/H2Zn/xxx_02a-00_70-2-H3c.H2b.H1a.Zn2b.Zn1a', 'runs_2/hydrides/H/H3Tb/xxx_02a-00_30-2-H4c.H2b.Tb2b', 'runs_2/hydrides/H/H4Ce/xxx_02a-00_30-2-H4c.H2b.H2a.Ce2a', 'runs_2/hydrides/H/HCs/xxx_02a-00_36-2-H4a.Cs4a', 'runs_2/hydrides/H/HNa/xxx_02a-00_9-2-H2a.Na2a', 'runs_2/hydrides/H/H3Tl/xxx_02a-00_70-2-H3c.Tl1a', 'runs_2/hydrides/H/HIn/xxx_02a-00_36-2-H4b.In4a', 'runs_2/hydrides/H/HLi/xxx_02a-00_1-2-H1a.Li1a', 'runs_2/hydrides/H/H3Co/xxx_02a-00_70-2-H6d.H2b.H1a.Co2b.Co1a', 'runs_2/hydrides/H/H3Er/xxx_02a-00_70-2-H6d.H3c.Er3c', 'runs_2/hydrides/H/H3Y/xxx_02a-00_36-2-H8c.H4b.Y4a', 'runs_2/hydrides/H/H3Sc/xxx_02a-00_70-2-H6d.H2b.H1a.Sc3c', 'runs_2/hydrides/H/HNa/xxx_02a-00_30-2-H2b.Na2b', 'runs_2/hydrides/H/HRb/xxx_02a-00_12-2-H2a.Rb2a', 'runs_2/hydrides/H/H3Tm/xxx_02a-00_30-2-H4c.H2b.Tm2b', 'runs_2/hydrides/H/H2Zn/xxx_02a-00_30-2-H4c.Zn2a', 'runs_2/hydrides/H/H3Ni/xxx_02a-00_21-2-H4c.H2a.Ni2b', 'runs_2/hydrides/H/H3Eu/xxx_02a-00_70-2-H3c.Eu1a', 'runs_2/hydrides/H/H2Ba/xxx_02a-00_30-2-H4c.Ba2b', 'runs_2/hydrides/H/H2Mg/xxx_02a-00_17-2-H4c.Mg2a', 'runs_2/hydrides/H/H3Eu/xxx_02a-00_13-2-H4b.H2a.Eu2a', 'runs_2/hydrides/H/H3Tb/xxx_02a-00_34-2-H4b.H2a.Tb2a', 'runs_2/hydrides/H/HLi/xxx_02a-00_4-2-H2b.Li2b', 'runs_2/hydrides/H/H2Cu/xxx_02a-00_30-2-H4c.H2b.H2a.Cu2b.Cu2a', 'runs_2/hydrides/H/HI/xxx_02a-00_10-2-H4b.I4b', 'runs_2/hydrides/H/H4Cr/xxx_02a-00_70-2-H3c.H1a.Cr1a', 'runs_2/hydrides/H/H2S/xxx_02a-00_70-2-H6d.S2b.S1a', 'runs_2/hydrides/H/HAg/xxx_02a-00_17-2-H4c.Ag2b.Ag2a', 'runs_2/hydrides/H/H3Gd/xxx_02a-00_21-2-H4c.H2b.Gd2a', 'runs_2/hydrides/H/H3Dy/xxx_02a-00_70-2-H6d.H3c.Dy3c', 'runs_2/hydrides/H/H11Cr3/xxx_02a-00_70-2-H6d.H3c.H2b.Cr2b.Cr1a', 'runs_2/hydrides/H/H2O/xxx_02a-00_21-2-H4c.O2a', 'runs_2/hydrides/H/HBr/xxx_02a-00_70-2-H3c.H2b.H1a.Br6d', 'runs_2/hydrides/H/H2Co/xxx_02a-00_30-2-H4c.Co2b', 'runs_2/hydrides/H/H3Er/xxx_02a-00_70-2-H6d.H2b.H1a.Er2b.Er1a', 'runs_2/hydrides/H/H2Co/xxx_02a-00_70-2-H3c.H1a.Co2b', 'runs_2/hydrides/H/HAg/xxx_02a-00_70-2-H6d.H3c.Ag6d.Ag3c', 'runs_2/hydrides/H/HK/xxx_02a-00_70-2-H3c.H2b.K3c.K2b', 'runs_2/hydrides/H/HCu/xxx_02a-00_12-2-H2a.Cu2a', 'runs_2/hydrides/H/H3Cr/xxx_02a-00_30-2-H4c.H2a.Cr2a', 'runs_2/hydrides/H/H2Pb/xxx_02a-00_17-2-H4c.H2b.H2a.Pb4c', 'runs_2/hydrides/H/HBr/xxx_02a-00_10-2-H4b.Br4b', 'runs_2/hydrides/H/H2Ca/xxx_02a-00_21-2-H4c.Ca2b', 'runs_2/hydrides/H/H3Ni/xxx_02a-00_13-2-H4b.H2a.Ni2a', 'runs_2/hydrides/H/H2Sr/xxx_02a-00_36-2-H8c.Sr4a', 'runs_2/hydrides/H/H3Tl/xxx_02a-00_36-2-H8c.H4a.Tl4a', 'runs_2/hydrides/H/H3N/xxx_02a-00_30-2-H4c.H2b.N2a', 'runs_2/hydrides/H/H3Dy/xxx_02a-00_17-2-H4c.H2b.Dy2a', 'runs_2/hydrides/H/HAg/xxx_02a-00_30-2-H2b.Ag2b', 'runs_2/hydrides/H/H2Sr/xxx_02a-00_32-2-H4b.Sr2a']\n"
     ]
    },
    {
     "name": "stderr",
     "output_type": "stream",
     "text": [
      "  5%|█████████████▋                                                                                                                                                                                                                                             | 5/92 [01:05<22:04, 15.22s/it]"
     ]
    },
    {
     "name": "stdout",
     "output_type": "stream",
     "text": [
      "Length batch: 147\n",
      "['runs_2/quasi/O/OEu/xxx_02a-00_agm200040228_spg1', 'runs_2/quasi/O/OAg/xxx_02a-00_agm200040045_spg1', 'runs_2/quasi/O/O2Ce/xxx_02a-00_agm200040201_spg14', 'runs_2/quasi/O/O3Tm/xxx_02a-00_agm200040168_spg12', 'runs_2/quasi/O/O2Ba/xxx_02a-00_agm200040102_spg14', 'runs_2/quasi/O/O3Sc/xxx_02a-00_agm200040125_spg2', 'runs_2/quasi/O/O3Ho/xxx_02a-00_agm200040255_spg12', 'runs_2/quasi/O/O3Tb/xxx_02a-00_agm200040151_spg12', 'runs_2/quasi/O/O2Pd/xxx_02a-00_agm200040093_spg6', 'runs_2/quasi/O/OMg/xxx_02a-00_agm200040057_spg127']\n"
     ]
    },
    {
     "name": "stderr",
     "output_type": "stream",
     "text": [
      "  7%|████████████████▎                                                                                                                                                                                                                                          | 6/92 [01:05<14:30, 10.13s/it]"
     ]
    },
    {
     "name": "stdout",
     "output_type": "stream",
     "text": [
      "Length batch: 223\n",
      "['runs_2/spg01/As/AsDy/xxx_02a-00_1-2-As1a.Dy1a', 'runs_2/spg01/Se/SeNb/xxx_02a-00_1-2-Se1a.Nb1a', 'runs_2/spg01/P/PSb/xxx_02a-00_1-2-P1a.Sb1a', 'runs_2/spg01/Cl/ClCu/xxx_02a-00_1-2-Cl1a.Cu1a', 'runs_2/spg01/Mg/MgTe/xxx_02a-00_1-2-Mg1a.Te1a', 'runs_2/spg01/Rb/RbI/xxx_02a-00_1-2-Rb1a.I1a', 'runs_2/spg01/Se/SeSn/xxx_02a-00_1-2-Se1a.Sn1a', 'runs_2/spg01/K/KCs/xxx_02a-00_1-2-K1a.Cs1a', 'runs_2/spg01/Cr/CrSe/xxx_02a-00_1-2-Cr1a.Se1a']\n"
     ]
    },
    {
     "name": "stderr",
     "output_type": "stream",
     "text": [
      "  8%|███████████████████                                                                                                                                                                                                                                        | 7/92 [01:08<10:46,  7.60s/it]"
     ]
    },
    {
     "name": "stdout",
     "output_type": "stream",
     "text": [
      "Length batch: 952\n",
      "['runs_2/spg04/O/OTl2/xxx_02p-00_4-2-O1a.Tl2b', 'runs_2/spg04/S/SAu2/xxx_02p-00_4-2-S1a.Au2b', 'runs_2/spg04/S/STa/xxx_02p-00_4-2-S2b.Ta2b', 'runs_2/spg04/As/As2Cd3/xxx_02a-00_4-2-As2b.Cd2b.Cd1a', 'runs_2/spg04/O/OAu2/xxx_02p-00_4-2-O1a.Au2b', 'runs_2/spg04/K/KBr/xxx_02p-00_4-2-K1a.Br1a', 'runs_2/spg04/P/PTl/xxx_02p-00_4-2-P2b.P1a.Tl2b.Tl1a', 'runs_2/spg04/Se/Se3Ir/xxx_02p-00_4-2-Se2b.Se1a.Ir1a', 'runs_2/spg04/S/S2Ru/xxx_02p-00_4-2-S2b.Ru1a', 'runs_2/spg04/Nb/NbTl2/xxx_02p-00_4-2-Nb1a.Tl2b', 'runs_2/spg04/P/PGa/xxx_02p-00_4-2-P1a.Ga1a', 'runs_2/spg04/S/SCu/xxx_02p-00_4-2-S2b.S1a.Cu2b.Cu1a', 'runs_2/spg04/N/NGa/xxx_02p-00_4-2-N2b.N1a.Ga2b.Ga1a', 'runs_2/spg04/Ag/AgI/xxx_02p-00_4-2-Ag1a.I1a', 'runs_2/spg04/O/OCr/xxx_02p-00_4-2-O2b.O1a.Cr2b.Cr1a', 'runs_2/spg04/Cr/CrAs/xxx_02p-00_4-2-Cr1a.As1a', 'runs_2/spg04/O/O2W/xxx_02p-00_4-2-O2b.W1a', 'runs_2/spg04/N/N2Cr3/xxx_02p-00_4-2-N2b.Cr2b.Cr1a', 'runs_2/spg04/As/AsDy/xxx_02p-00_4-2-As1a.Dy1a', 'runs_2/spg04/O/O3Sb2/xxx_02a-00_4-2-O2b.O1a.Sb2b', 'runs_2/spg04/O/O3La2/xxx_02p-00_4-2-O2b.O1a.La2b', 'runs_2/spg04/O/O3Ir2/xxx_02p-00_4-2-O2b.O1a.Ir2b', 'runs_2/spg04/N/N2V3/xxx_02p-00_4-2-N2b.V2b.V1a', 'runs_2/spg04/Se/Se3Er2/xxx_02p-00_4-2-Se2b.Se1a.Er2b', 'runs_2/spg04/O/OCo/xxx_02p-00_4-2-O2b.Co2b', 'runs_2/spg04/B/BAs/xxx_02p-00_4-2-B1a.As1a', 'runs_2/spg04/N/NRb3/xxx_02p-00_4-2-N1a.Rb2b.Rb1a', 'runs_2/spg04/I/IAu/xxx_02p-00_4-2-I2b.Au2b', 'runs_2/spg04/Se/Se2Nb/xxx_02p-00_4-2-Se2b.Nb1a', 'runs_2/spg04/Al/AlP/xxx_02p-00_4-2-Al2b.P2b', 'runs_2/spg04/S/SK2/xxx_02p-00_4-2-S1a.K2b', 'runs_2/spg04/Li/Li2Te/xxx_02p-00_4-2-Li2b.Te1a', 'runs_2/spg04/K/KI/xxx_02p-00_4-2-K1a.I1a', 'runs_2/spg04/Se/SeBa/xxx_02p-00_4-2-Se2b.Se1a.Ba2b.Ba1a', 'runs_2/spg04/Cl/Cl3Ru/xxx_02p-00_4-2-Cl2b.Cl1a.Ru1a', 'runs_2/spg04/P/PDy/xxx_02p-00_4-2-P2b.P1a.Dy2b.Dy1a', 'runs_2/spg04/Sr/SrTl2/xxx_02p-00_4-2-Sr1a.Tl2b', 'runs_2/spg04/As/AsLa/xxx_02p-00_4-2-As2b.As1a.La2b.La1a', 'runs_2/spg04/Br/Br2Hg/xxx_02p-00_4-2-Br2b.Hg1a', 'runs_2/spg04/O/OIn/xxx_02p-00_4-2-O2b.O1a.In2b.In1a', 'runs_2/spg04/P/PLu/xxx_02p-00_4-2-P1a.Lu1a', 'runs_2/spg04/In/InI2/xxx_02p-00_4-2-In1a.I2b', 'runs_2/spg04/Ca/Ca3As2/xxx_02p-00_4-2-Ca2b.Ca1a.As2b', 'runs_2/spg04/Co/CoBr2/xxx_02p-00_4-2-Co1a.Br2b', 'runs_2/spg04/Se/Se2Ce/xxx_02p-00_4-2-Se2b.Ce1a', 'runs_2/spg04/As/AsLa/xxx_02a-00_4-2-As2b.La2b', 'runs_2/spg04/N/N2Os/xxx_02p-00_4-2-N2b.Os1a', 'runs_2/spg04/Br/Br3Ir/xxx_02p-00_4-2-Br2b.Br1a.Ir1a', 'runs_2/spg04/Se/Se3Dy2/xxx_02p-00_4-2-Se2b.Se1a.Dy2b', 'runs_2/spg04/Br/Br2In/xxx_02p-00_4-2-Br2b.In1a']\n"
     ]
    },
    {
     "name": "stderr",
     "output_type": "stream",
     "text": [
      "  9%|█████████████████████▊                                                                                                                                                                                                                                     | 8/92 [01:08<07:25,  5.31s/it]"
     ]
    },
    {
     "name": "stdout",
     "output_type": "stream",
     "text": [
      "Length batch: 134\n",
      "['runs_2/spg05/O/OCu/xxx_02p-00_5-2-O2a.Cu2a', 'runs_2/spg05/Mg/MgS/xxx_02p-00_5-2-Mg2a.S2a', 'runs_2/spg05/N/NRh/xxx_02p-00_5-2-N2a.Rh2a', 'runs_2/spg05/O/OBa/xxx_02p-00_5-2-O2a.Ba2a', 'runs_2/spg05/O/OCo/xxx_02p-00_5-2-O2a.Co2a']\n"
     ]
    },
    {
     "name": "stderr",
     "output_type": "stream",
     "text": [
      " 10%|████████████████████████▌                                                                                                                                                                                                                                  | 9/92 [01:15<07:53,  5.71s/it]"
     ]
    },
    {
     "name": "stdout",
     "output_type": "stream",
     "text": [
      "Length batch: 4422\n",
      "['runs_2/spg08/Cr/CrAs2/xxx_02a-00_8-2-Cr1b.As2c', 'runs_2/spg08/S/S3Cr2/xxx_02a-00_8-2-S2c.S1b.Cr1b.Cr1a', 'runs_2/spg08/Cl/Cl4Rh/xxx_02a-00_8-2-Cl2c.Cl1b.Cl1a.Rh1b', 'runs_2/spg08/Cl/ClTl/xxx_02a-00_8-2-Cl1a.Tl1b', 'runs_2/spg08/F/F4Ce/xxx_02a-00_8-2-F2c.F1b.F1a.Ce1a', 'runs_2/spg08/Te/Te3Eu2/xxx_02a-00_8-2-Te2c.Te1a.Eu1b.Eu1a', 'runs_2/spg08/Mg/MgTe/xxx_02a-00_8-2-Mg1a.Te1a', 'runs_2/spg08/Sc/ScAs/xxx_02a-00_8-2-Sc2c.Sc1a.As2c.As1a', 'runs_2/spg08/O/OSr/xxx_02a-00_8-2-O2c.Sr2c', 'runs_2/spg08/O/O3Tl2/xxx_02a-00_8-2-O2c.O1b.Tl2c', 'runs_2/spg08/Br/BrAu/xxx_02a-00_8-2-Br1b.Au1a', 'runs_2/spg08/Li/Li2Te/xxx_02a-00_8-2-Li2c.Te1a', 'runs_2/spg08/I/I3Au/xxx_02a-00_8-2-I2c.I1a.Au1a', 'runs_2/spg08/S/S3Re/xxx_02a-00_8-2-S2c.S1a.Re1b', 'runs_2/spg08/Cl/Cl3Nd/xxx_02a-00_8-2-Cl2c.Cl1b.Nd1b', 'runs_2/spg08/S/SPt/xxx_02a-00_8-2-S2c.S1a.Pt2c.Pt1a', 'runs_2/spg08/N/NV/xxx_02a-00_8-2-N1b.V1b', 'runs_2/spg08/As/As2Re/xxx_02a-00_8-2-As2c.Re1a', 'runs_2/spg08/Te/TeTa/xxx_02a-00_8-2-Te2c.Te1b.Te1a.Ta2c.Ta1b.Ta1a', 'runs_2/spg08/F/FAu/xxx_02a-00_8-2-F2c.Au2c', 'runs_2/spg08/Cl/Cl3Ag/xxx_02a-00_8-2-Cl2c.Cl1a.Ag1a', 'runs_2/spg08/Cl/Cl3Ga/xxx_02a-00_8-2-Cl2c.Cl1b.Ga1b', 'runs_2/spg08/Ag/AgI/xxx_02a-00_8-2-Ag2c.I1b.I1a', 'runs_2/spg08/Se/Se3Gd2/xxx_02a-00_8-2-Se2c.Se1b.Gd1b.Gd1a', 'runs_2/spg08/N/N2Sn3/xxx_02a-00_8-2-N1b.N1a.Sn2c.Sn1b', 'runs_2/spg08/Fe/FeAs/xxx_02a-00_8-2-Fe2c.As1b.As1a', 'runs_2/spg08/Te/TeCs2/xxx_02a-00_8-2-Te1b.Te1a.Cs2c.Cs1b.Cs1a', 'runs_2/spg08/Nb/NbTe/xxx_02a-00_8-2-Nb1a.Te1a', 'runs_2/spg08/Cl/Cl2Mn/xxx_02a-00_8-2-Cl2c.Mn1a', 'runs_2/spg08/Cd/CdTl2/xxx_02a-00_8-2-Cd1a.Tl2c', 'runs_2/spg08/Mg/MgTe/xxx_02a-00_8-2-Mg1b.Mg1a.Te2c', 'runs_2/spg08/O/OSr/xxx_02a-00_8-2-O1a.Sr1a', 'runs_2/spg08/K/KBr/xxx_02a-00_8-2-K2c.K1b.Br2c.Br1b', 'runs_2/spg08/Ho/HoTl3/xxx_02a-00_8-2-Ho1b.Tl2c.Tl1a', 'runs_2/spg08/S/S2Ru/xxx_02a-00_8-2-S1b.S1a.Ru1b', 'runs_2/spg08/Br/BrTl/xxx_02a-00_8-2-Br2c.Tl1b.Tl1a', 'runs_2/spg08/As/As2Ba3/xxx_02a-00_8-2-As2c.Ba2c.Ba1b', 'runs_2/spg08/Mn/MnSe2/xxx_02a-00_8-2-Mn1a.Se2c', 'runs_2/spg08/Fe/FeBr2/xxx_02a-00_8-2-Fe1a.Br2c', 'runs_2/spg08/Mn/MnBr2/xxx_02a-00_8-2-Mn1a.Br1b.Br1a', 'runs_2/spg08/Se/Se3Yb2/xxx_02a-00_8-2-Se2c.Se1b.Yb1b.Yb1a', 'runs_2/spg08/As/AsTa/xxx_02a-00_8-2-As2c.As1b.Ta2c.Ta1b', 'runs_2/spg08/S/S3Ru2/xxx_02a-00_8-2-S2c.S1a.Ru1b.Ru1a', 'runs_2/spg08/As/AsEu/xxx_02a-00_8-2-As1b.As1a.Eu2c', 'runs_2/spg08/O/O3Nd2/xxx_02a-00_8-2-O2c.O1b.Nd1b.Nd1a', 'runs_2/spg08/Mg/MgS/xxx_02a-00_8-2-Mg2c.Mg1b.S2c.S1a', 'runs_2/spg08/Se/Se2Zr/xxx_02a-00_8-2-Se2c.Zr1a', 'runs_2/spg08/As/As2Sn3/xxx_02a-00_8-2-As1b.As1a.Sn2c.Sn1b', 'runs_2/spg08/N/NNi/xxx_02a-00_8-2-N2c.N1b.Ni2c.Ni1b', 'runs_2/spg08/V/VI4/xxx_02a-00_8-2-V1b.I2c.I1b.I1a', 'runs_2/spg08/I/I3Tl/xxx_02a-00_8-2-I2c.I1b.Tl1a', 'runs_2/spg08/Se/Se2Ce/xxx_02a-00_8-2-Se1b.Se1a.Ce1a', 'runs_2/spg08/Ti/TiI4/xxx_02a-00_8-2-Ti1b.I2c.I1b.I1a', 'runs_2/spg08/O/OZn/xxx_02a-00_8-2-O2c.Zn2c', 'runs_2/spg08/N/NTl/xxx_02a-00_8-2-N2c.N1b.Tl2c.Tl1a', 'runs_2/spg08/Cl/Cl3Rh/xxx_02a-00_8-2-Cl2c.Cl1b.Rh1a', 'runs_2/spg08/F/F3Sb/xxx_02a-00_8-2-F2c.F1a.Sb1b', 'runs_2/spg08/Te/TeTa/xxx_02a-00_8-2-Te1a.Ta1a', 'runs_2/spg08/Mg/MgTe/xxx_02a-00_8-2-Mg2c.Mg1b.Te2c.Te1b', 'runs_2/spg08/N/N3Re2/xxx_02a-00_8-2-N2c.N1a.Re1b.Re1a', 'runs_2/spg08/V/VTe2/xxx_02a-00_8-2-V1b.Te2c', 'runs_2/spg08/Br/Br2Pd/xxx_02a-00_8-2-Br2c.Br1b.Br1a.Pd1b.Pd1a', 'runs_2/spg08/Se/Se2Rh/xxx_02a-00_8-2-Se2c.Rh1a', 'runs_2/spg08/S/SHg/xxx_02a-00_8-2-S2c.Hg1b.Hg1a', 'runs_2/spg08/Cl/Cl2Pt/xxx_02a-00_8-2-Cl2c.Pt1a', 'runs_2/spg08/F/F3Yb/xxx_02a-00_8-2-F2c.F1b.Yb1a', 'runs_2/spg08/N/NRh/xxx_02a-00_8-2-N2c.N1a.Rh2c.Rh1b', 'runs_2/spg08/N/NSb/xxx_02a-00_8-2-N1a.Sb1a', 'runs_2/spg08/Te/Te2W/xxx_02a-00_8-2-Te2c.W1a', 'runs_2/spg08/P/PTl3/xxx_02a-00_8-2-P1a.Tl2c.Tl1b', 'runs_2/spg08/O/OPb/xxx_02a-00_8-2-O1a.Pb1b', 'runs_2/spg08/Cl/ClCs/xxx_02a-00_8-2-Cl2c.Cl1b.Cs2c.Cs1b', 'runs_2/spg08/Cl/ClIn/xxx_02a-00_8-2-Cl2c.Cl1a.In2c.In1b', 'runs_2/spg08/Cl/Cl3Ti/xxx_02a-00_8-2-Cl2c.Cl1a.Ti1b', 'runs_2/spg08/As/AsLu/xxx_02a-00_8-2-As1b.Lu1a', 'runs_2/spg08/S/S3Lu2/xxx_02a-00_8-2-S2c.S1a.Lu1b.Lu1a', 'runs_2/spg08/Se/SeTa/xxx_02a-00_8-2-Se2c.Se1b.Ta2c.Ta1a', 'runs_2/spg08/Zn/ZnTe/xxx_02a-00_8-2-Zn2c.Zn1b.Te2c.Te1a', 'runs_2/spg08/Se/Se3Mo/xxx_02a-00_8-2-Se2c.Se1a.Mo1a', 'runs_2/spg08/Fe/FeBr2/xxx_02a-00_8-2-Fe1a.Br1b.Br1a', 'runs_2/spg08/S/S2Ti/xxx_02a-00_8-2-S1b.S1a.Ti1a', 'runs_2/spg08/Na/NaI/xxx_02a-00_8-2-Na1a.I1b', 'runs_2/spg08/Cr/CrTl2/xxx_02a-00_8-2-Cr1b.Tl1b.Tl1a', 'runs_2/spg08/Li/LiBr/xxx_02a-00_8-2-Li1b.Li1a.Br2c', 'runs_2/spg08/O/O3Sb2/xxx_02a-00_8-2-O2c.O1b.Sb2c', 'runs_2/spg08/Ni/NiTe/xxx_02a-00_8-2-Ni1a.Te1b', 'runs_2/spg08/S/S3W/xxx_02a-00_8-2-S2c.S1b.W1a', 'runs_2/spg08/S/SZn/xxx_02a-00_8-2-S1b.S1a.Zn2c', 'runs_2/spg08/S/S2Nb/xxx_02a-00_8-2-S1b.S1a.Nb1a', 'runs_2/spg08/Ca/CaBr2/xxx_02a-00_8-2-Ca1b.Br1b.Br1a', 'runs_2/spg08/F/F2Sr/xxx_02a-00_8-2-F2c.Sr1a', 'runs_2/spg08/N/NHo/xxx_02a-00_8-2-N1a.Ho1b', 'runs_2/spg08/N/NAu/xxx_02a-00_8-2-N2c.N1a.Au2c.Au1a', 'runs_2/spg08/F/F3Ir/xxx_02a-00_8-2-F2c.F1a.Ir1a', 'runs_2/spg08/P/PSb/xxx_02a-00_8-2-P2c.P1b.Sb2c.Sb1b', 'runs_2/spg08/As/AsHo/xxx_02a-00_8-2-As1b.As1a.Ho2c', 'runs_2/spg08/P/P3Co4/xxx_02a-00_8-2-P2c.P1b.Co2c.Co1b.Co1a', 'runs_2/spg08/N/NNi/xxx_02a-00_8-2-N2c.N1a.Ni2c.Ni1a', 'runs_2/spg08/As/AsTl/xxx_02a-00_8-2-As2c.As1a.Tl2c.Tl1b', 'runs_2/spg08/N/NIn/xxx_02a-00_8-2-N1b.In1a', 'runs_2/spg08/In/In2I3/xxx_02a-00_8-2-In1b.In1a.I2c.I1b', 'runs_2/spg08/N/NSm/xxx_02a-00_8-2-N2c.Sm1b.Sm1a', 'runs_2/spg08/Be/BeO/xxx_02a-00_8-2-Be1b.O1b', 'runs_2/spg08/N/NAg/xxx_02a-00_8-2-N2c.Ag1b.Ag1a', 'runs_2/spg08/Se/Se2Rh/xxx_02a-00_8-2-Se2c.Rh1b', 'runs_2/spg08/F/F4Hf/xxx_02a-00_8-2-F2c.F1b.F1a.Hf1a', 'runs_2/spg08/K/K3As/xxx_02a-00_8-2-K2c.K1b.As1b', 'runs_2/spg08/Cl/Cl3Mn/xxx_02a-00_8-2-Cl2c.Cl1a.Mn1a', 'runs_2/spg08/N/NNd/xxx_02a-00_8-2-N2c.Nd2c', 'runs_2/spg08/P/PEu/xxx_02a-00_8-2-P1b.P1a.Eu2c', 'runs_2/spg08/N/NRu/xxx_02a-00_8-2-N2c.N1b.Ru2c.Ru1a', 'runs_2/spg08/S/SCr/xxx_02a-00_8-2-S2c.S1b.Cr2c.Cr1a', 'runs_2/spg08/Se/Se2W/xxx_02a-00_8-2-Se2c.W1a', 'runs_2/spg08/Cl/Cl2Cr/xxx_02a-00_8-2-Cl1b.Cl1a.Cr1a', 'runs_2/spg08/Cr/CrTe2/xxx_02a-00_8-2-Cr1b.Cr1a.Te2c.Te1b.Te1a', 'runs_2/spg08/S/S3Eu2/xxx_02a-00_8-2-S2c.S1a.Eu2c', 'runs_2/spg08/I/I3Tl/xxx_02a-00_8-2-I2c.I1a.Tl1b', 'runs_2/spg08/I/ICs/xxx_02a-00_8-2-I1a.Cs1b', 'runs_2/spg08/Ga/Ga2Se3/xxx_02a-00_8-2-Ga1b.Ga1a.Se2c.Se1b', 'runs_2/spg08/N/NYb/xxx_02a-00_8-2-N1b.Yb1a', 'runs_2/spg08/Zn/ZnSe/xxx_02a-00_8-2-Zn1b.Zn1a.Se1b.Se1a', 'runs_2/spg08/F/F3Yb/xxx_02a-00_8-2-F2c.F1b.Yb1b', 'runs_2/spg08/Se/Se2Ir/xxx_02a-00_8-2-Se2c.Ir1b', 'runs_2/spg08/Cl/Cl2Hg/xxx_02a-00_8-2-Cl1b.Cl1a.Hg1a', 'runs_2/spg08/As/As2In3/xxx_02a-00_8-2-As1b.As1a.In2c.In1b', 'runs_2/spg08/Cl/ClTl/xxx_02a-00_8-2-Cl2c.Cl1b.Tl2c.Tl1a', 'runs_2/spg08/In/In3Te2/xxx_02a-00_8-2-In2c.In1b.Te1b.Te1a', 'runs_2/spg08/Na/NaCl/xxx_02a-00_8-2-Na2c.Na1a.Cl2c.Cl1a', 'runs_2/spg08/Rb/RbI/xxx_02a-00_8-2-Rb1b.I1b', 'runs_2/spg08/Se/Se3Yb2/xxx_02a-00_8-2-Se2c.Se1a.Yb1b.Yb1a', 'runs_2/spg08/O/O4V3/xxx_02a-00_8-2-O2c.O1b.O1a.V2c.V1b', 'runs_2/spg08/O/OTl2/xxx_02a-00_8-2-O1a.Tl2c', 'runs_2/spg08/Fe/FeBr3/xxx_02a-00_8-2-Fe1a.Br2c.Br1b', 'runs_2/spg08/Al/Al2Te3/xxx_02a-00_8-2-Al1b.Al1a.Te2c.Te1b', 'runs_2/spg08/Cr/Cr4As3/xxx_02a-00_8-2-Cr2c.Cr1b.Cr1a.As2c.As1b', 'runs_2/spg08/P/PGa/xxx_02a-00_8-2-P2c.P1a.Ga2c.Ga1a', 'runs_2/spg08/In/In2Te/xxx_02a-00_8-2-In2c.In1b.In1a.Te2c', 'runs_2/spg08/As/AsDy/xxx_02a-00_8-2-As2c.As1b.Dy2c.Dy1a', 'runs_2/spg08/Te/Te3Sm2/xxx_02a-00_8-2-Te2c.Te1b.Sm2c', 'runs_2/spg08/B/BP/xxx_02a-00_8-2-B2c.B1b.P2c.P1a', 'runs_2/spg08/Mn/MnBr2/xxx_02a-00_8-2-Mn1b.Br2c', 'runs_2/spg08/Cl/Cl2Pt/xxx_02a-00_8-2-Cl1b.Cl1a.Pt1b', 'runs_2/spg08/V/VTl2/xxx_02a-00_8-2-V1a.Tl1b.Tl1a', 'runs_2/spg08/Zn/ZnI2/xxx_02a-00_8-2-Zn1b.I1b.I1a', 'runs_2/spg08/Ag/Ag2Te/xxx_02a-00_8-2-Ag2c.Te1b', 'runs_2/spg08/As/As2W/xxx_02a-00_8-2-As2c.As1b.As1a.W1b.W1a', 'runs_2/spg08/O/O2Hf/xxx_02a-00_8-2-O2c.O1b.O1a.Hf1b.Hf1a', 'runs_2/spg08/Cu/Cu2Br3/xxx_02a-00_8-2-Cu1b.Cu1a.Br2c.Br1a', 'runs_2/spg08/N/NLa/xxx_02a-00_8-2-N1b.La1b', 'runs_2/spg08/F/F2Sn/xxx_02a-00_8-2-F1b.F1a.Sn1a', 'runs_2/spg08/S/S3Rh2/xxx_02a-00_8-2-S2c.S1b.Rh1b.Rh1a', 'runs_2/spg08/I/ITl/xxx_02a-00_8-2-I2c.Tl2c', 'runs_2/spg08/Se/Se3Au2/xxx_02a-00_8-2-Se2c.Se1b.Au2c', 'runs_2/spg08/Te/Te2Ce/xxx_02a-00_8-2-Te2c.Ce1b', 'runs_2/spg08/In/In2Te/xxx_02a-00_8-2-In2c.In1b.In1a.Te1b.Te1a', 'runs_2/spg08/Ta/TaTl2/xxx_02a-00_8-2-Ta1b.Tl2c', 'runs_2/spg08/Cl/Cl2Cd/xxx_02a-00_8-2-Cl2c.Cd1b', 'runs_2/spg08/Mn/Mn3Se4/xxx_02a-00_8-2-Mn2c.Mn1a.Se2c.Se1b.Se1a', 'runs_2/spg08/N/NLa/xxx_02a-00_8-2-N1b.La1a', 'runs_2/spg08/P/PTl3/xxx_02a-00_8-2-P1b.Tl2c.Tl1b', 'runs_2/spg08/Cr/CrTl2/xxx_02a-00_8-2-Cr1a.Tl2c', 'runs_2/spg08/F/F3Ho/xxx_02a-00_8-2-F2c.F1b.Ho1a', 'runs_2/spg08/Mg/MgS/xxx_02a-00_8-2-Mg1b.Mg1a.S2c', 'runs_2/spg08/N/NTa/xxx_02a-00_8-2-N1b.N1a.Ta1b.Ta1a', 'runs_2/spg08/N/NTb/xxx_02a-00_8-2-N1b.N1a.Tb2c', 'runs_2/spg08/N/NGd/xxx_02a-00_8-2-N2c.N1a.Gd2c.Gd1a', 'runs_2/spg08/P/PTl/xxx_02a-00_8-2-P1b.Tl1b', 'runs_2/spg08/As/AsY/xxx_02a-00_8-2-As2c.As1b.Y2c.Y1a', 'runs_2/spg08/S/SCs2/xxx_02a-00_8-2-S1a.Cs1b.Cs1a', 'runs_2/spg08/Te/TeHg/xxx_02a-00_8-2-Te1b.Te1a.Hg1b.Hg1a', 'runs_2/spg08/In/InTl2/xxx_02a-00_8-2-In1a.Tl1b.Tl1a', 'runs_2/spg08/S/S2In3/xxx_02a-00_8-2-S1b.S1a.In2c.In1b', 'runs_2/spg08/F/F4In3/xxx_02a-00_8-2-F2c.F1b.F1a.In2c.In1a', 'runs_2/spg08/Be/BeSe/xxx_02a-00_8-2-Be1a.Se1b', 'runs_2/spg08/N/NAl/xxx_02a-00_8-2-N2c.N1a.Al2c.Al1b', 'runs_2/spg08/S/SNb/xxx_02a-00_8-2-S2c.S1b.Nb2c.Nb1a', 'runs_2/spg08/P/PAg/xxx_02a-00_8-2-P2c.Ag1b.Ag1a', 'runs_2/spg08/As/AsTb/xxx_02a-00_8-2-As1a.Tb1a', 'runs_2/spg08/S/SBa/xxx_02a-00_8-2-S2c.S1b.Ba2c.Ba1a', 'runs_2/spg08/S/S3Eu2/xxx_02a-00_8-2-S2c.S1b.Eu2c', 'runs_2/spg08/Zn/ZnTe/xxx_02a-00_8-2-Zn1b.Te1b', 'runs_2/spg08/Sn/SnI2/xxx_02a-00_8-2-Sn1b.I1b.I1a', 'runs_2/spg08/O/O2Cr/xxx_02a-00_8-2-O2c.Cr1a', 'runs_2/spg08/Ba/BaTl2/xxx_02a-00_8-2-Ba1a.Tl2c', 'runs_2/spg08/Se/Se3Rh2/xxx_02a-00_8-2-Se2c.Se1a.Rh2c', 'runs_2/spg08/Al/AlAs/xxx_02a-00_8-2-Al2c.As1b.As1a', 'runs_2/spg08/Si/SiTe2/xxx_02a-00_8-2-Si2c.Te2c.Te1b.Te1a', 'runs_2/spg08/F/F4Rh/xxx_02a-00_8-2-F2c.F1b.F1a.Rh1a', 'runs_2/spg08/F/F2Zn/xxx_02a-00_8-2-F2c.F1b.F1a.Zn1b.Zn1a', 'runs_2/spg08/S/S3Os/xxx_02a-00_8-2-S2c.S1a.Os1a', 'runs_2/spg08/As/AsSm/xxx_02a-00_8-2-As1b.Sm1b', 'runs_2/spg08/Cr/CrBr2/xxx_02a-00_8-2-Cr2c.Br2c.Br1b.Br1a', 'runs_2/spg08/As/AsYb/xxx_02a-00_8-2-As1b.Yb1b', 'runs_2/spg08/Cr/CrI3/xxx_02a-00_8-2-Cr1b.I2c.I1b', 'runs_2/spg08/As/AsY/xxx_02a-00_8-2-As1a.Y1b', 'runs_2/spg08/Cl/Cl4V/xxx_02a-00_8-2-Cl2c.Cl1b.Cl1a.V1b', 'runs_2/spg08/I/I3Ho/xxx_02a-00_8-2-I2c.I1a.Ho1b', 'runs_2/spg08/S/S3Er2/xxx_02a-00_8-2-S2c.S1b.Er2c', 'runs_2/spg08/N/N3Ta2/xxx_02a-00_8-2-N2c.N1a.Ta1b.Ta1a', 'runs_2/spg08/O/O3Ag2/xxx_02a-00_8-2-O2c.O1a.Ag1b.Ag1a', 'runs_2/spg08/Br/BrIn/xxx_02a-00_8-2-Br1a.In1b', 'runs_2/spg08/N/NLa/xxx_02a-00_8-2-N1a.La1b', 'runs_2/spg08/Mg/MgSe/xxx_02a-00_8-2-Mg2c.Se2c', 'runs_2/spg08/Ti/Ti2Te3/xxx_02a-00_8-2-Ti2c.Te2c.Te1a', 'runs_2/spg08/N/NCu2/xxx_02a-00_8-2-N1b.Cu1b.Cu1a', 'runs_2/spg08/S/S2Pt/xxx_02a-00_8-2-S2c.Pt1b', 'runs_2/spg08/Se/SePt/xxx_02a-00_8-2-Se1a.Pt1b', 'runs_2/spg08/Se/Se3Ag2/xxx_02a-00_8-2-Se2c.Se1a.Ag1b.Ag1a', 'runs_2/spg08/Cl/Cl4Cr/xxx_02a-00_8-2-Cl2c.Cl1b.Cl1a.Cr1a', 'runs_2/spg08/F/F3Al/xxx_02a-00_8-2-F2c.F1a.Al1a', 'runs_2/spg08/Ca/CaI2/xxx_02a-00_8-2-Ca1b.Ca1a.I2c.I1b.I1a', 'runs_2/spg08/S/SV/xxx_02a-00_8-2-S2c.S1a.V2c.V1a', 'runs_2/spg08/Br/BrRb/xxx_02a-00_8-2-Br1a.Rb1b', 'runs_2/spg08/Be/BeSe/xxx_02a-00_8-2-Be2c.Be1b.Se2c.Se1b', 'runs_2/spg08/Se/SeTa/xxx_02a-00_8-2-Se2c.Se1a.Ta2c.Ta1b', 'runs_2/spg08/P/P2Hg3/xxx_02a-00_8-2-P2c.Hg2c.Hg1b', 'runs_2/spg08/Cl/Cl3Ti/xxx_02a-00_8-2-Cl2c.Cl1a.Ti1a', 'runs_2/spg08/Si/Si3As4/xxx_02a-00_8-2-Si2c.Si1a.As2c.As1b.As1a', 'runs_2/spg08/O/O4Nb3/xxx_02a-00_8-2-O2c.O1b.O1a.Nb2c.Nb1b', 'runs_2/spg08/Ti/TiSe2/xxx_02a-00_8-2-Ti1b.Ti1a.Se2c.Se1b.Se1a', 'runs_2/spg08/Ga/GaI3/xxx_02a-00_8-2-Ga1b.I2c.I1a', 'runs_2/spg08/O/OCr/xxx_02a-00_8-2-O1b.O1a.Cr2c', 'runs_2/spg08/As/AsEr/xxx_02a-00_8-2-As1a.Er1b', 'runs_2/spg08/Al/AlTl3/xxx_02a-00_8-2-Al1b.Tl2c.Tl1b', 'runs_2/spg08/Si/SiS2/xxx_02a-00_8-2-Si1a.S1b.S1a', 'runs_2/spg08/Mg/MgSe/xxx_02a-00_8-2-Mg1b.Se1a', 'runs_2/spg08/O/OSr/xxx_02a-00_8-2-O2c.O1a.Sr2c.Sr1b', 'runs_2/spg08/Mn/MnSe/xxx_02a-00_8-2-Mn1b.Mn1a.Se2c', 'runs_2/spg08/Cl/Cl2Ni/xxx_02a-00_8-2-Cl2c.Cl1b.Cl1a.Ni1b.Ni1a']\n"
     ]
    },
    {
     "name": "stderr",
     "output_type": "stream",
     "text": [
      " 11%|███████████████████████████▏                                                                                                                                                                                                                              | 10/92 [01:15<05:31,  4.04s/it]"
     ]
    },
    {
     "name": "stdout",
     "output_type": "stream",
     "text": [
      "Length batch: 129\n",
      "['runs_2/spg09/Te/TeHg/xxx_02a-00_9-2-Te2a.Hg2a', 'runs_2/spg09/Se/SePt/xxx_02a-00_9-2-Se2a.Pt2a', 'runs_2/spg09/N/NEu/xxx_02a-00_9-2-N2a.Eu2a', 'runs_2/spg09/O/OIn/xxx_02a-00_9-2-O2a.In2a', 'runs_2/spg09/N/NTb/xxx_02a-00_9-2-N2a.Tb2a', 'runs_2/spg09/P/PNi/xxx_02a-00_9-2-P2a.Ni2a', 'runs_2/spg09/Ni/NiAs/xxx_02a-00_9-2-Ni2a.As2a', 'runs_2/spg09/O/OCr/xxx_02a-00_9-2-O2a.Cr2a', 'runs_2/spg09/Ca/CaTe/xxx_02a-00_9-2-Ca2a.Te2a']\n"
     ]
    },
    {
     "name": "stderr",
     "output_type": "stream",
     "text": [
      " 13%|████████████████████████████████▌                                                                                                                                                                                                                         | 12/92 [01:16<02:49,  2.12s/it]"
     ]
    },
    {
     "name": "stdout",
     "output_type": "stream",
     "text": [
      "Length batch: 711\n",
      "['runs_2/spg10/S/S2Re/xxx_02a-00_10-2-S4b.Re2a', 'runs_2/spg10/S/S2Mn/xxx_02a-00_10-2-S4b.Mn2a', 'runs_2/spg10/O/O2Ru/xxx_02a-00_10-2-O4b.Ru2a', 'runs_2/spg10/Cl/Cl3Ru/xxx_02a-00_10-2-Cl4b.Cl2a.Ru2a', 'runs_2/spg10/S/SMn/xxx_02a-00_10-2-S2a.Mn2a', 'runs_2/spg10/Sc/ScI3/xxx_02a-00_10-2-Sc2a.I4b.I2a', 'runs_2/spg10/Eu/EuTl3/xxx_02a-00_10-2-Eu2a.Tl4b.Tl2a', 'runs_2/spg10/Br/BrRb/xxx_02a-00_10-2-Br2a.Rb2a', 'runs_2/spg10/Cd/CdI2/xxx_02a-00_10-2-Cd2a.I4b', 'runs_2/spg10/F/FAg/xxx_02a-00_10-2-F4b.Ag4b', 'runs_2/spg10/P/PV/xxx_02a-00_10-2-P4b.V4b', 'runs_2/spg10/S/S2Cu3/xxx_02a-00_10-2-S4b.Cu4b.Cu2a', 'runs_2/spg10/Br/Br2Sr/xxx_02a-00_10-2-Br4b.Sr2a', 'runs_2/spg10/F/F2In/xxx_02a-00_10-2-F4b.In2a', 'runs_2/spg10/Se/Se2Hf/xxx_02a-00_10-2-Se4b.Hf2a', 'runs_2/spg10/Ta/TaTl2/xxx_02a-00_10-2-Ta2a.Tl4b', 'runs_2/spg10/S/SIn/xxx_02a-00_10-2-S2a.In2a', 'runs_2/spg10/I/I3Gd/xxx_02a-00_10-2-I4b.I2a.Gd2a', 'runs_2/spg10/F/F3Y/xxx_02a-00_10-2-F4b.F2a.Y2a', 'runs_2/spg10/O/OCd/xxx_02a-00_10-2-O2a.Cd2a', 'runs_2/spg10/Br/Br3La/xxx_02a-00_10-2-Br4b.Br2a.La2a', 'runs_2/spg10/I/I3Ir/xxx_02a-00_10-2-I4b.I2a.Ir2a', 'runs_2/spg10/As/AsDy/xxx_02a-00_10-2-As2a.Dy2a', 'runs_2/spg10/As/AsLu/xxx_02a-00_10-2-As2a.Lu2a', 'runs_2/spg10/N/NSb/xxx_02a-00_10-2-N4b.N2a.Sb4b.Sb2a', 'runs_2/spg10/As/AsGd/xxx_02a-00_10-2-As2a.Gd2a', 'runs_2/spg10/N/N2Ir/xxx_02a-00_10-2-N4b.Ir2a', 'runs_2/spg10/Ti/TiAs/xxx_02a-00_10-2-Ti4b.Ti2a.As4b.As2a', 'runs_2/spg10/S/SCs2/xxx_02a-00_10-2-S2a.Cs4b', 'runs_2/spg10/Co/CoAs/xxx_02a-00_10-2-Co4b.Co2a.As4b.As2a', 'runs_2/spg10/P/PTl/xxx_02a-00_10-2-P2a.Tl2a', 'runs_2/spg10/P/PSm/xxx_02a-00_10-2-P4b.Sm4b', 'runs_2/spg10/O/O2V/xxx_02a-00_10-2-O4b.V2a', 'runs_2/spg10/Br/Br3Tl/xxx_02a-00_10-2-Br4b.Br2a.Tl2a']\n",
      "Length batch: 215\n",
      "['runs_2/spg12/Br/BrRb/xxx_02a-00_12-2-Br2a.Rb2a', 'runs_2/spg12/S/SNb/xxx_02a-00_12-2-S2a.Nb2a', 'runs_2/spg12/P/PTb/xxx_02a-00_12-2-P2a.Tb2a', 'runs_2/spg12/S/SCd/xxx_02a-00_12-2-S2a.Cd2a', 'runs_2/spg12/Cd/CdTe/xxx_02a-00_12-2-Cd2a.Te2a', 'runs_2/spg12/I/ITl/xxx_02a-00_12-2-I2a.Tl2a']\n"
     ]
    },
    {
     "name": "stderr",
     "output_type": "stream",
     "text": [
      " 14%|███████████████████████████████████▎                                                                                                                                                                                                                      | 13/92 [01:27<06:23,  4.85s/it]"
     ]
    },
    {
     "name": "stdout",
     "output_type": "stream",
     "text": [
      "Length batch: 1043\n",
      "['runs_2/spg13/O/OMg/xxx_02p-00_13-2-O2a.Mg2a', 'runs_2/spg13/Li/LiBr/xxx_02p-00_13-2-Li2a.Br2a', 'runs_2/spg13/N/NLu/xxx_02p-00_13-2-N4b.N2a.Lu4b.Lu2a', 'runs_2/spg13/In/InI/xxx_02p-00_13-2-In4b.I4b', 'runs_2/spg13/F/F2Ca/xxx_02p-00_13-2-F4b.Ca2a', 'runs_2/spg13/N/NTi/xxx_02p-00_13-2-N2a.Ti2a', 'runs_2/spg13/Cu/CuBr/xxx_02p-00_13-2-Cu4b.Br4b', 'runs_2/spg13/Te/Te3Tb2/xxx_02a-00_13-2-Te4b.Te2a.Tb4b', 'runs_2/spg13/P/P2Cd3/xxx_02p-00_13-2-P4b.Cd4b.Cd2a', 'runs_2/spg13/P/PNb/xxx_02a-00_13-2-P4b.P2a.Nb4b.Nb2a', 'runs_2/spg13/Cr/CrTe/xxx_02p-00_13-2-Cr2a.Te2a', 'runs_2/spg13/O/OCs2/xxx_02a-00_13-2-O2a.Cs4b', 'runs_2/spg13/Sc/ScAs/xxx_02p-00_13-2-Sc4b.As4b', 'runs_2/spg13/Cl/ClAg/xxx_02p-00_13-2-Cl4b.Ag4b', 'runs_2/spg13/Cl/Cl2Pt/xxx_02p-00_13-2-Cl4b.Pt2a', 'runs_2/spg13/S/SNb/xxx_02p-00_13-2-S4b.Nb4b', 'runs_2/spg13/Se/Se3Re/xxx_02p-00_13-2-Se4b.Se2a.Re2a', 'runs_2/spg13/As/AsEr/xxx_02p-00_13-2-As4b.Er4b', 'runs_2/spg13/S/SPd/xxx_02a-00_13-2-S4b.Pd4b', 'runs_2/spg13/N/NHo/xxx_02a-00_13-2-N4b.N2a.Ho4b.Ho2a', 'runs_2/spg13/As/As2Sn3/xxx_02p-00_13-2-As4b.Sn4b.Sn2a', 'runs_2/spg13/N/NAu/xxx_02p-00_13-2-N4b.Au4b', 'runs_2/spg13/Ni/NiTe/xxx_02a-00_13-2-Ni4b.Ni2a.Te4b.Te2a', 'runs_2/spg13/P/P2Ni3/xxx_02p-00_13-2-P4b.Ni4b.Ni2a', 'runs_2/spg13/Te/Te2Ta/xxx_02p-00_13-2-Te4b.Ta2a', 'runs_2/spg13/S/SBa/xxx_02a-00_13-2-S4b.S2a.Ba4b.Ba2a', 'runs_2/spg13/P/PYb/xxx_02a-00_13-2-P4b.Yb4b', 'runs_2/spg13/N/N2Fe3/xxx_02p-00_13-2-N4b.Fe4b.Fe2a', 'runs_2/spg13/O/OCd/xxx_02p-00_13-2-O4b.O2a.Cd4b.Cd2a', 'runs_2/spg13/P/PEr/xxx_02p-00_13-2-P4b.Er4b', 'runs_2/spg13/O/OPb/xxx_02a-00_13-2-O4b.Pb4b', 'runs_2/spg13/As/AsDy/xxx_02p-00_13-2-As2a.Dy2a', 'runs_2/spg13/B/BN/xxx_02p-00_13-2-B4b.N4b', 'runs_2/spg13/Te/Te2W/xxx_02p-00_13-2-Te4b.W2a', 'runs_2/spg13/Nb/NbTe/xxx_02p-00_13-2-Nb2a.Te2a', 'runs_2/spg13/S/SNi/xxx_02a-00_13-2-S4b.Ni4b', 'runs_2/spg13/Cr/CrAs2/xxx_02p-00_13-2-Cr2a.As4b', 'runs_2/spg13/P/PGa/xxx_02p-00_13-2-P4b.P2a.Ga4b.Ga2a', 'runs_2/spg13/Se/Se3Mo/xxx_02p-00_13-2-Se4b.Se2a.Mo2a', 'runs_2/spg13/Te/Te3Ho2/xxx_02p-00_13-2-Te4b.Te2a.Ho4b', 'runs_2/spg13/S/S2Cu3/xxx_02p-00_13-2-S4b.Cu4b.Cu2a', 'runs_2/spg13/Li/LiCl/xxx_02p-00_13-2-Li2a.Cl2a', 'runs_2/spg13/Br/Br2Pt/xxx_02p-00_13-2-Br4b.Pt2a', 'runs_2/spg13/N/N2In3/xxx_02a-00_13-2-N4b.In4b.In2a', 'runs_2/spg13/Be/BeCl2/xxx_02p-00_13-2-Be2a.Cl4b', 'runs_2/spg13/F/FNa/xxx_02p-00_13-2-F4b.Na4b']\n"
     ]
    },
    {
     "name": "stderr",
     "output_type": "stream",
     "text": [
      " 15%|██████████████████████████████████████                                                                                                                                                                                                                    | 14/92 [02:14<22:45, 17.51s/it]"
     ]
    },
    {
     "name": "stdout",
     "output_type": "stream",
     "text": [
      "Length batch: 3299\n",
      "['runs_2/spg15/S/SHg/xxx_02a-00_15-2-S2b.Hg2c', 'runs_2/spg15/Cl/ClAg/xxx_02a-00_15-2-Cl4d.Ag2c.Ag2b', 'runs_2/spg15/F/F2Au/xxx_02a-00_15-2-F4d.F2c.F2b.Au2c.Au2a', 'runs_2/spg15/Cu/Cu3Se2/xxx_02a-00_15-2-Cu2c.Cu2b.Cu2a.Se4d', 'runs_2/spg15/F/F2Pd/xxx_02a-00_15-2-F2c.F2a.Pd2c', 'runs_2/spg15/F/F2Nb/xxx_02a-00_15-2-F4d.F2b.F2a.Nb4d', 'runs_2/spg15/Fe/Fe2Te3/xxx_02a-00_15-2-Fe2c.Fe2b.Te4d.Te2a', 'runs_2/spg15/I/I3La/xxx_02a-00_15-2-I4d.I2c.La2b', 'runs_2/spg15/Ag/Ag2Te/xxx_02a-00_15-2-Ag2c.Ag2a.Te2c', 'runs_2/spg15/Li/LiI/xxx_02a-00_15-2-Li4d.Li2a.I4d.I2c', 'runs_2/spg15/S/S2Hf/xxx_02a-00_15-2-S4d.Hf2a', 'runs_2/spg15/Fe/FeI2/xxx_02a-00_15-2-Fe2b.I4d', 'runs_2/spg15/Se/Se3Nd2/xxx_02a-00_15-2-Se4d.Se2c.Nd2c.Nd2a', 'runs_2/spg15/F/FIn/xxx_02a-00_15-2-F2c.F2a.In2c.In2b', 'runs_2/spg15/N/NFe/xxx_02a-00_15-2-N2c.N2a.Fe2c.Fe2b', 'runs_2/spg15/N/NEu/xxx_02a-00_15-2-N4d.Eu4d', 'runs_2/spg15/Br/Br3Yb/xxx_02a-00_15-2-Br4d.Br2c.Yb2a', 'runs_2/spg15/F/F2Cd/xxx_02a-00_15-2-F2c.F2b.Cd2c', 'runs_2/spg15/Cl/ClCu/xxx_02a-00_15-2-Cl2c.Cl2b.Cu4d', 'runs_2/spg15/Se/Se3In2/xxx_02a-00_15-2-Se4d.Se2a.In2c.In2b', 'runs_2/spg15/Se/Se2W/xxx_02a-00_15-2-Se2c.Se2b.W2a', 'runs_2/spg15/As/AsNd/xxx_02a-00_15-2-As2a.Nd2c', 'runs_2/spg15/Br/Br2Hg/xxx_02a-00_15-2-Br4d.Hg2b', 'runs_2/spg15/Se/SePt/xxx_02a-00_15-2-Se2b.Pt2c', 'runs_2/spg15/Cr/CrSe/xxx_02a-00_15-2-Cr4d.Se2c.Se2a', 'runs_2/spg15/N/N2Co3/xxx_02a-00_15-2-N4d.Co4d.Co2c', 'runs_2/spg15/Br/Br2Cd/xxx_02a-00_15-2-Br4d.Cd2a', 'runs_2/spg15/Se/Se3Au2/xxx_02a-00_15-2-Se4d.Se2b.Au4d', 'runs_2/spg15/Zr/ZrTe2/xxx_02a-00_15-2-Zr2c.Zr2a.Te4d.Te2c.Te2b', 'runs_2/spg15/Cu/Cu2Se/xxx_02a-00_15-2-Cu2c.Cu2a.Se2c', 'runs_2/spg15/Br/Br4Ru/xxx_02a-00_15-2-Br4d.Br2c.Br2b.Ru2a', 'runs_2/spg15/O/OPd/xxx_02a-00_15-2-O2c.O2a.Pd4d', 'runs_2/spg15/Ag/AgTe/xxx_02a-00_15-2-Ag2c.Ag2b.Te4d', 'runs_2/spg15/Se/SeAu2/xxx_02a-00_15-2-Se2c.Au4d', 'runs_2/spg15/Br/Br3Sb/xxx_02a-00_15-2-Br2c.Br2b.Br2a.Sb2c', 'runs_2/spg15/Se/Se2Pt/xxx_02a-00_15-2-Se4d.Pt2a', 'runs_2/spg15/F/F3Er/xxx_02a-00_15-2-F4d.F2c.Er2b', 'runs_2/spg15/Te/TePb/xxx_02a-00_15-2-Te2c.Te2a.Pb2c.Pb2b', 'runs_2/spg15/N/NNd/xxx_02a-00_15-2-N2c.Nd2c', 'runs_2/spg15/N/NYb/xxx_02a-00_15-2-N2c.N2a.Yb4d', 'runs_2/spg15/S/S2Mo/xxx_02a-00_15-2-S4d.Mo2c', 'runs_2/spg15/V/VBr3/xxx_02a-00_15-2-V2b.Br4d.Br2c', 'runs_2/spg15/Se/Se3Os/xxx_02a-00_15-2-Se4d.Se2c.Os2c', 'runs_2/spg15/S/S3Ru2/xxx_02a-00_15-2-S4d.S2c.Ru2b.Ru2a', 'runs_2/spg15/As/AsBi/xxx_02a-00_15-2-As4d.Bi2b.Bi2a', 'runs_2/spg15/Br/Br4Ir/xxx_02a-00_15-2-Br4d.Br2c.Br2b.Ir2c', 'runs_2/spg15/B/BP/xxx_02a-00_15-2-B2c.B2a.P4d', 'runs_2/spg15/Sr/SrTl2/xxx_02a-00_15-2-Sr2a.Tl2c.Tl2b', 'runs_2/spg15/Ni/Ni2Te3/xxx_02a-00_15-2-Ni4d.Te2c.Te2b.Te2a', 'runs_2/spg15/Fe/FeAs/xxx_02a-00_15-2-Fe2b.Fe2a.As4d', 'runs_2/spg15/Co/CoBr2/xxx_02a-00_15-2-Co2c.Br4d', 'runs_2/spg15/Cl/Cl3Au/xxx_02a-00_15-2-Cl4d.Cl2b.Au2c', 'runs_2/spg15/Cl/ClAu/xxx_02a-00_15-2-Cl2c.Au2a', 'runs_2/spg15/F/FNa/xxx_02a-00_15-2-F4d.F2c.Na2c.Na2b.Na2a', 'runs_2/spg15/P/P2W/xxx_02a-00_15-2-P2c.P2a.W2b', 'runs_2/spg15/O/O3Sb2/xxx_02a-00_15-2-O2c.O2b.O2a.Sb4d', 'runs_2/spg15/Se/Se2Ta/xxx_02a-00_15-2-Se2c.Se2a.Ta2b', 'runs_2/spg15/S/S2In3/xxx_02a-00_15-2-S4d.In2c.In2b.In2a', 'runs_2/spg15/B/BBr3/xxx_02a-00_15-2-B2c.Br4d.Br2a', 'runs_2/spg15/Ni/NiTe/xxx_02a-00_15-2-Ni2a.Te2c', 'runs_2/spg15/Mg/MgI2/xxx_02a-00_15-2-Mg2c.Mg2b.I4d.I2c.I2a', 'runs_2/spg15/Be/BeO/xxx_02a-00_15-2-Be4d.Be2c.Be2b.O4d.O2c.O2a', 'runs_2/spg15/F/F3Cr/xxx_02a-00_15-2-F4d.F2c.Cr2a', 'runs_2/spg15/Cl/ClTl/xxx_02a-00_15-2-Cl2c.Cl2a.Tl4d', 'runs_2/spg15/Cl/Cl3Ag/xxx_02a-00_15-2-Cl4d.Cl2a.Ag2b', 'runs_2/spg15/As/AsSm/xxx_02a-00_15-2-As4d.As2a.Sm4d.Sm2c', 'runs_2/spg15/In/InI/xxx_02a-00_15-2-In2a.I2c', 'runs_2/spg15/Nb/Nb2Te3/xxx_02a-00_15-2-Nb2b.Nb2a.Te4d.Te2c', 'runs_2/spg15/Br/Br2Ba/xxx_02a-00_15-2-Br4d.Ba2a', 'runs_2/spg15/Zn/ZnBr2/xxx_02a-00_15-2-Zn2a.Br2c.Br2b', 'runs_2/spg15/I/I3Lu/xxx_02a-00_15-2-I4d.I2a.Lu2b', 'runs_2/spg15/K/KTl/xxx_02a-00_15-2-K4d.K2b.Tl4d.Tl2a', 'runs_2/spg15/As/As2W/xxx_02a-00_15-2-As2c.As2b.W2a', 'runs_2/spg15/Cl/ClRb/xxx_02a-00_15-2-Cl4d.Rb2c.Rb2a', 'runs_2/spg15/As/As2Hg3/xxx_02a-00_15-2-As2c.As2a.Hg4d.Hg2b', 'runs_2/spg15/Mg/MgTe/xxx_02a-00_15-2-Mg2a.Te2b', 'runs_2/spg15/S/S3Os/xxx_02a-00_15-2-S4d.S2b.Os2a', 'runs_2/spg15/P/PCu2/xxx_02a-00_15-2-P2c.Cu2b.Cu2a', 'runs_2/spg15/Se/SeAu2/xxx_02a-00_15-2-Se2b.Au2c.Au2a', 'runs_2/spg15/S/SSn/xxx_02a-00_15-2-S2c.S2a.Sn2c.Sn2b', 'runs_2/spg15/As/AsAg/xxx_02a-00_15-2-As4d.Ag2c.Ag2a', 'runs_2/spg15/Se/SeIn2/xxx_02a-00_15-2-Se2c.In2c.In2a', 'runs_2/spg15/As/AsY/xxx_02a-00_15-2-As2b.Y2c', 'runs_2/spg15/Cl/Cl2Ba/xxx_02a-00_15-2-Cl4d.Ba2b', 'runs_2/spg15/O/OAg2/xxx_02a-00_15-2-O2a.Ag2c.Ag2b', 'runs_2/spg15/Se/SeTl2/xxx_02a-00_15-2-Se2a.Tl4d', 'runs_2/spg15/Cl/Cl3Co/xxx_02a-00_15-2-Cl4d.Cl2c.Co2a', 'runs_2/spg15/P/P2Mo/xxx_02a-00_15-2-P4d.Mo2a', 'runs_2/spg15/Cl/Cl2Sr/xxx_02a-00_15-2-Cl4d.Sr2c', 'runs_2/spg15/Cl/Cl3Mn/xxx_02a-00_15-2-Cl4d.Cl2a.Mn2b', 'runs_2/spg15/P/PGa/xxx_02a-00_15-2-P2c.Ga2b', 'runs_2/spg15/S/STl/xxx_02a-00_15-2-S2c.S2b.Tl2c.Tl2a', 'runs_2/spg15/Cu/CuBr/xxx_02a-00_15-2-Cu2c.Cu2b.Br4d', 'runs_2/spg15/Cu/CuI2/xxx_02a-00_15-2-Cu2b.I2c.I2a', 'runs_2/spg15/Al/AlP/xxx_02a-00_15-2-Al4d.Al2c.P4d.P2c', 'runs_2/spg15/Cl/Cl2Ca/xxx_02a-00_15-2-Cl4d.Cl2c.Cl2b.Ca2c.Ca2a', 'runs_2/spg15/Zn/ZnSe/xxx_02a-00_15-2-Zn4d.Se2c.Se2a', 'runs_2/spg15/F/FAu/xxx_02a-00_15-2-F2c.Au2b', 'runs_2/spg15/V/VTe/xxx_02a-00_15-2-V2c.Te2a', 'runs_2/spg15/S/SPb/xxx_02a-00_15-2-S2c.S2b.Pb4d', 'runs_2/spg15/P/PSm/xxx_02a-00_15-2-P2b.Sm2c', 'runs_2/spg15/O/O2In3/xxx_02a-00_15-2-O2b.O2a.In4d.In2c', 'runs_2/spg15/As/As2Sn3/xxx_02a-00_15-2-As2b.As2a.Sn4d.Sn2c', 'runs_2/spg15/F/F5Os/xxx_02a-00_15-2-F4d.F2c.F2b.F2a.Os2c', 'runs_2/spg15/O/O2Si/xxx_02a-00_15-2-O4d.O2c.O2a.Si4d', 'runs_2/spg15/Se/Se2Pd/xxx_02a-00_15-2-Se2c.Se2b.Pd2a', 'runs_2/spg15/Te/Te3Yb2/xxx_02a-00_15-2-Te2c.Te2b.Te2a.Yb4d', 'runs_2/spg15/Cl/Cl3Er/xxx_02a-00_15-2-Cl4d.Cl2c.Er2a', 'runs_2/spg15/Cu/CuTe/xxx_02a-00_15-2-Cu2b.Te2c', 'runs_2/spg15/N/NRh/xxx_02a-00_15-2-N2c.N2b.Rh4d', 'runs_2/spg15/O/O3Tl2/xxx_02a-00_15-2-O4d.O2a.Tl2c.Tl2b', 'runs_2/spg15/P/PSb/xxx_02a-00_15-2-P2b.Sb2a', 'runs_2/spg15/Te/Te3Ho2/xxx_02a-00_15-2-Te4d.Te2a.Ho4d', 'runs_2/spg15/Li/LiTl/xxx_02a-00_15-2-Li2c.Tl2a', 'runs_2/spg15/Te/TeTl/xxx_02a-00_15-2-Te4d.Tl2c.Tl2b', 'runs_2/spg15/B/B2Te3/xxx_02a-00_15-2-B4d.Te4d.Te2b', 'runs_2/spg15/Cl/ClIn/xxx_02a-00_15-2-Cl2b.In2a', 'runs_2/spg15/F/F2Pd/xxx_02a-00_15-2-F4d.Pd2c', 'runs_2/spg15/Se/SeAu2/xxx_02a-00_15-2-Se4d.Au4d.Au2c.Au2a', 'runs_2/spg15/Mn/MnBr3/xxx_02a-00_15-2-Mn2b.Br4d.Br2c', 'runs_2/spg15/Se/Se2In3/xxx_02a-00_15-2-Se4d.In4d.In2b', 'runs_2/spg15/Tb/TbTl3/xxx_02a-00_15-2-Tb2a.Tl4d.Tl2b', 'runs_2/spg15/S/SNi/xxx_02a-00_15-2-S2c.S2a.Ni4d', 'runs_2/spg15/Fe/FeI3/xxx_02a-00_15-2-Fe2b.I4d.I2a', 'runs_2/spg15/Ni/NiAs/xxx_02a-00_15-2-Ni2c.Ni2b.As2c.As2a', 'runs_2/spg15/Be/Be3As2/xxx_02a-00_15-2-Be4d.Be2c.As2c.As2b', 'runs_2/spg15/N/N2Re/xxx_02a-00_15-2-N4d.N2c.N2a.Re2c.Re2b', 'runs_2/spg15/Cr/CrTe3/xxx_02a-00_15-2-Cr2c.Te4d.Te2c', 'runs_2/spg15/N/NNd/xxx_02a-00_15-2-N4d.Nd2c.Nd2b', 'runs_2/spg15/S/S3Ag4/xxx_02a-00_15-2-S4d.S2b.Ag4d.Ag2c.Ag2a', 'runs_2/spg15/Ni/NiTe/xxx_02a-00_15-2-Ni4d.Ni2c.Te4d.Te2c', 'runs_2/spg15/Cl/ClRb/xxx_02a-00_15-2-Cl2a.Rb2c', 'runs_2/spg15/F/F3Dy/xxx_02a-00_15-2-F4d.F2b.Dy2c', 'runs_2/spg15/Ti/TiAs/xxx_02a-00_15-2-Ti4d.Ti2c.Ti2a.As4d.As2c.As2b', 'runs_2/spg15/Cl/Cl3Y/xxx_02a-00_15-2-Cl2c.Cl2b.Cl2a.Y2c', 'runs_2/spg15/N/N4Pd3/xxx_02a-00_15-2-N4d.N2b.N2a.Pd4d.Pd2c', 'runs_2/spg15/Cl/Cl4Ru/xxx_02a-00_15-2-Cl4d.Cl2c.Cl2a.Ru2b', 'runs_2/spg15/S/SFe/xxx_02a-00_15-2-S2c.S2b.Fe2c.Fe2a', 'runs_2/spg15/P/P2Mn3/xxx_02a-00_15-2-P2c.P2a.Mn4d.Mn2b', 'runs_2/spg15/N/NPt/xxx_02a-00_15-2-N4d.Pt2c.Pt2a', 'runs_2/spg15/Cu/Cu2As/xxx_02a-00_15-2-Cu2c.Cu2b.As2c', 'runs_2/spg15/Zn/ZnI2/xxx_02a-00_15-2-Zn4d.I4d.I2c.I2a', 'runs_2/spg15/Cl/Cl3Sc/xxx_02a-00_15-2-Cl2c.Cl2b.Cl2a.Sc2c', 'runs_2/spg15/Cl/Cl2Cd/xxx_02a-00_15-2-Cl4d.Cl2c.Cl2b.Cd2c.Cd2a', 'runs_2/spg15/Cu/CuSe/xxx_02a-00_15-2-Cu2c.Se2a', 'runs_2/spg15/Co/CoSe/xxx_02a-00_15-2-Co4d.Co2c.Se2c.Se2b.Se2a', 'runs_2/spg15/Te/Te2Ce/xxx_02a-00_15-2-Te2c.Te2b.Ce2c', 'runs_2/spg15/In/InTl/xxx_02a-00_15-2-In4d.In2a.Tl4d.Tl2c', 'runs_2/spg15/S/S3Nb2/xxx_02a-00_15-2-S4d.S2c.Nb2c.Nb2b', 'runs_2/spg15/F/F3Eu/xxx_02a-00_15-2-F4d.F2a.Eu2c', 'runs_2/spg15/As/As2Pb3/xxx_02a-00_15-2-As2c.As2b.Pb4d.Pb2a', 'runs_2/spg15/F/F2In/xxx_02a-00_15-2-F4d.In2a', 'runs_2/spg15/Te/TeHg/xxx_02a-00_15-2-Te4d.Hg2c.Hg2a', 'runs_2/spg15/P/PAg/xxx_02a-00_15-2-P2a.Ag2c', 'runs_2/spg15/Be/BeBr2/xxx_02a-00_15-2-Be2b.Br2c.Br2a']\n"
     ]
    },
    {
     "name": "stderr",
     "output_type": "stream",
     "text": [
      " 16%|████████████████████████████████████████▊                                                                                                                                                                                                                 | 15/92 [02:16<16:47, 13.08s/it]"
     ]
    },
    {
     "name": "stdout",
     "output_type": "stream",
     "text": [
      "Length batch: 1305\n",
      "['runs_2/spg17/Br/Br3Tl/xxx_02a-00_17-2-Br4c.Br2a.Tl2b', 'runs_2/spg17/O/OCu2/xxx_02a-00_17-2-O2b.Cu4c', 'runs_2/spg17/Br/Br3Sm/xxx_02a-00_17-2-Br4c.Br2a.Sm2b', 'runs_2/spg17/N/NTa/xxx_02a-00_17-2-N4c.N2b.Ta4c.Ta2a', 'runs_2/spg17/Cl/Cl2Fe/xxx_02a-00_17-2-Cl4c.Fe2b', 'runs_2/spg17/Li/LiBr/xxx_02a-00_17-2-Li4c.Br2b.Br2a', 'runs_2/spg17/Cl/Cl2Hg/xxx_02a-00_17-2-Cl4c.Cl2b.Cl2a.Hg4c', 'runs_2/spg17/Fe/FeTe2/xxx_02a-00_17-2-Fe2b.Te4c', 'runs_2/spg17/N/NAg/xxx_02a-00_17-2-N4c.Ag2b.Ag2a', 'runs_2/spg17/S/SCa/xxx_02a-00_17-2-S4c.Ca2b.Ca2a', 'runs_2/spg17/Cu/CuTe/xxx_02a-00_17-2-Cu2b.Cu2a.Te4c', 'runs_2/spg17/P/PTb/xxx_02a-00_17-2-P4c.Tb2b.Tb2a', 'runs_2/spg17/O/OMn/xxx_02a-00_17-2-O2a.Mn2b', 'runs_2/spg17/P/PV/xxx_02a-00_17-2-P2b.P2a.V4c', 'runs_2/spg17/Se/Se3Ir/xxx_02a-00_17-2-Se4c.Se2a.Ir2b', 'runs_2/spg17/O/OAg2/xxx_02a-00_17-2-O4c.Ag4c.Ag2b.Ag2a', 'runs_2/spg17/P/PAg3/xxx_02a-00_17-2-P2b.Ag4c.Ag2a', 'runs_2/spg17/F/F3Eu/xxx_02a-00_17-2-F4c.F2b.Eu2a', 'runs_2/spg17/P/PEu/xxx_02a-00_17-2-P4c.Eu2b.Eu2a', 'runs_2/spg17/F/F2Nb/xxx_02a-00_17-2-F4c.F2b.F2a.Nb4c', 'runs_2/spg17/P/PBi/xxx_02a-00_17-2-P2a.Bi2b', 'runs_2/spg17/Li/Li2Se/xxx_02a-00_17-2-Li4c.Se2a', 'runs_2/spg17/F/F3In/xxx_02a-00_17-2-F4c.F2b.In2a', 'runs_2/spg17/Li/LiBr/xxx_02a-00_17-2-Li2b.Li2a.Br4c', 'runs_2/spg17/N/N2Ba3/xxx_02a-00_17-2-N4c.Ba4c.Ba2a', 'runs_2/spg17/Al/AlP/xxx_02a-00_17-2-Al4c.P4c', 'runs_2/spg17/Br/Br3Ho/xxx_02a-00_17-2-Br4c.Br2b.Ho2a', 'runs_2/spg17/S/SCd/xxx_02a-00_17-2-S2b.Cd2a', 'runs_2/spg17/O/OK2/xxx_02a-00_17-2-O4c.K4c.K2b.K2a', 'runs_2/spg17/O/O3Cr2/xxx_02a-00_17-2-O4c.O2b.Cr4c', 'runs_2/spg17/K/KTl/xxx_02a-00_17-2-K4c.Tl2b.Tl2a', 'runs_2/spg17/Li/Li3P/xxx_02a-00_17-2-Li4c.Li2b.P2a', 'runs_2/spg17/P/PCo/xxx_02a-00_17-2-P4c.Co2b.Co2a', 'runs_2/spg17/S/SIn/xxx_02a-00_17-2-S4c.S2a.In4c.In2b', 'runs_2/spg17/Se/Se3Gd2/xxx_02a-00_17-2-Se4c.Se2a.Gd4c', 'runs_2/spg17/As/AsTl3/xxx_02a-00_17-2-As2b.Tl4c.Tl2a', 'runs_2/spg17/Te/TeHg/xxx_02a-00_17-2-Te4c.Hg4c', 'runs_2/spg17/As/AsLa/xxx_02a-00_17-2-As4c.La2b.La2a', 'runs_2/spg17/As/AsSm/xxx_02a-00_17-2-As4c.Sm2b.Sm2a', 'runs_2/spg17/F/F2Mn/xxx_02a-00_17-2-F4c.F2b.F2a.Mn4c', 'runs_2/spg17/O/OCu/xxx_02a-00_17-2-O4c.O2a.Cu4c.Cu2b', 'runs_2/spg17/F/F3Rh/xxx_02a-00_17-2-F4c.F2b.Rh2a', 'runs_2/spg17/P/PLa/xxx_02a-00_17-2-P4c.La4c', 'runs_2/spg17/Cl/ClAu/xxx_02a-00_17-2-Cl2b.Au2a', 'runs_2/spg17/Se/Se3Ir2/xxx_02a-00_17-2-Se4c.Se2b.Ir4c', 'runs_2/spg17/S/SZn/xxx_02a-00_17-2-S2b.S2a.Zn4c', 'runs_2/spg17/Ti/TiTe2/xxx_02a-00_17-2-Ti2b.Te4c', 'runs_2/spg17/Be/BeS/xxx_02a-00_17-2-Be4c.S4c', 'runs_2/spg17/Br/Br2Sr/xxx_02a-00_17-2-Br4c.Br2b.Br2a.Sr4c', 'runs_2/spg17/F/F3Tm/xxx_02a-00_17-2-F4c.F2a.Tm2b', 'runs_2/spg17/S/STl2/xxx_02a-00_17-2-S2b.Tl4c', 'runs_2/spg17/O/O3Tl2/xxx_02a-00_17-2-O4c.O2a.Tl4c', 'runs_2/spg17/Cl/ClK/xxx_02a-00_17-2-Cl4c.Cl2a.K4c.K2b', 'runs_2/spg17/As/AsHo/xxx_02a-00_17-2-As2a.Ho2b', 'runs_2/spg17/S/SNi/xxx_02a-00_17-2-S4c.Ni2b.Ni2a', 'runs_2/spg17/Li/LiI/xxx_02a-00_17-2-Li4c.I2b.I2a', 'runs_2/spg17/B/BN/xxx_02a-00_17-2-B4c.N4c', 'runs_2/spg17/N/NCr/xxx_02a-00_17-2-N4c.Cr2b.Cr2a', 'runs_2/spg17/Cl/Cl3Pd/xxx_02a-00_17-2-Cl4c.Cl2a.Pd2b', 'runs_2/spg17/As/AsAg/xxx_02a-00_17-2-As4c.As2a.Ag4c.Ag2b', 'runs_2/spg17/K/K2Te/xxx_02a-00_17-2-K4c.Te2a', 'runs_2/spg17/S/SFe/xxx_02a-00_17-2-S2a.Fe2b', 'runs_2/spg17/Cl/Cl2Zn/xxx_02a-00_17-2-Cl4c.Cl2b.Cl2a.Zn4c', 'runs_2/spg17/N/N2Mo/xxx_02a-00_17-2-N4c.Mo2b', 'runs_2/spg17/I/I3Nd/xxx_02a-00_17-2-I4c.I2a.Nd2b', 'runs_2/spg17/O/OSr/xxx_02a-00_17-2-O2b.O2a.Sr4c', 'runs_2/spg17/Fe/FeSe2/xxx_02a-00_17-2-Fe4c.Se4c.Se2b.Se2a', 'runs_2/spg17/Mn/MnAs/xxx_02a-00_17-2-Mn2b.Mn2a.As4c', 'runs_2/spg17/Ca/CaBr2/xxx_02a-00_17-2-Ca2b.Br4c', 'runs_2/spg17/Co/CoSe/xxx_02a-00_17-2-Co2b.Co2a.Se4c', 'runs_2/spg17/N/NEu/xxx_02a-00_17-2-N4c.Eu4c', 'runs_2/spg17/F/F2V/xxx_02a-00_17-2-F4c.F2b.F2a.V4c', 'runs_2/spg17/Cl/Cl3Sm/xxx_02a-00_17-2-Cl4c.Cl2b.Sm2a', 'runs_2/spg17/I/I2Pt/xxx_02a-00_17-2-I4c.Pt2b', 'runs_2/spg17/Te/TeHg/xxx_02a-00_17-2-Te2b.Hg2a', 'runs_2/spg17/B/BAs/xxx_02a-00_17-2-B2b.B2a.As4c', 'runs_2/spg17/F/F2V/xxx_02a-00_17-2-F4c.V2b', 'runs_2/spg17/F/F2Pd/xxx_02a-00_17-2-F4c.Pd2a', 'runs_2/spg17/As/AsGd/xxx_02a-00_17-2-As2b.As2a.Gd4c']\n"
     ]
    },
    {
     "name": "stderr",
     "output_type": "stream",
     "text": [
      " 17%|███████████████████████████████████████████▍                                                                                                                                                                                                              | 16/92 [02:31<17:01, 13.44s/it]"
     ]
    },
    {
     "name": "stdout",
     "output_type": "stream",
     "text": [
      "Length batch: 1108\n",
      "['runs_2/spg21/Be/BeCl2/xxx_02a-00_21-2-Be2a.Cl4c', 'runs_2/spg21/Br/Br2Hg/xxx_02a-00_21-2-Br2b.Br2a.Hg2a', 'runs_2/spg21/P/P2Mn3/xxx_02a-00_21-2-P4c.Mn4c.Mn2b', 'runs_2/spg21/Cr/Cr3Se4/xxx_02a-00_21-2-Cr4c.Cr2b.Se4c.Se2b.Se2a', 'runs_2/spg21/Co/CoAs/xxx_02a-00_21-2-Co4c.Co2b.Co2a.As4c.As2b.As2a', 'runs_2/spg21/In/InTe/xxx_02a-00_21-2-In2b.Te2b', 'runs_2/spg21/Cl/Cl3Ni/xxx_02a-00_21-2-Cl4c.Cl2b.Ni2b', 'runs_2/spg21/N/NAu/xxx_02a-00_21-2-N4c.N2b.Au4c.Au2a', 'runs_2/spg21/S/S3Ga2/xxx_02a-00_21-2-S4c.S2b.Ga2b.Ga2a', 'runs_2/spg21/Li/Li2O/xxx_02a-00_21-2-Li4c.O2b', 'runs_2/spg21/Cu/CuTe/xxx_02a-00_21-2-Cu4c.Te4c', 'runs_2/spg21/Zn/Zn3As2/xxx_02a-00_21-2-Zn4c.Zn2b.As4c', 'runs_2/spg21/Rb/RbTl/xxx_02a-00_21-2-Rb2a.Tl2a', 'runs_2/spg21/Sc/ScBr3/xxx_02a-00_21-2-Sc2a.Br4c.Br2a', 'runs_2/spg21/Br/Br2Pb/xxx_02a-00_21-2-Br4c.Pb2b', 'runs_2/spg21/F/F3Sc/xxx_02a-00_21-2-F4c.F2b.Sc2a', 'runs_2/spg21/P/P2Re/xxx_02a-00_21-2-P2b.P2a.Re2a', 'runs_2/spg21/Ca/CaBr2/xxx_02a-00_21-2-Ca2b.Br4c', 'runs_2/spg21/Be/BeSe/xxx_02a-00_21-2-Be4c.Se4c', 'runs_2/spg21/Cu/CuTe/xxx_02a-00_21-2-Cu2a.Te2b', 'runs_2/spg21/N/N2Ni3/xxx_02a-00_21-2-N2b.N2a.Ni4c.Ni2a', 'runs_2/spg21/Se/SePb/xxx_02a-00_21-2-Se2b.Pb2a', 'runs_2/spg21/P/P2Pb3/xxx_02a-00_21-2-P4c.Pb4c.Pb2b', 'runs_2/spg21/Cr/Cr2Se3/xxx_02a-00_21-2-Cr2b.Cr2a.Se4c.Se2b', 'runs_2/spg21/N/N2Zn3/xxx_02a-00_21-2-N4c.Zn4c.Zn2b', 'runs_2/spg21/As/AsTl/xxx_02a-00_21-2-As2b.Tl2a', 'runs_2/spg21/Na/NaI/xxx_02a-00_21-2-Na4c.Na2b.I4c.I2b', 'runs_2/spg21/Be/Be3P2/xxx_02a-00_21-2-Be4c.Be2a.P4c', 'runs_2/spg21/Se/Se3Rh2/xxx_02a-00_21-2-Se4c.Se2b.Rh4c', 'runs_2/spg21/Ga/GaAs/xxx_02a-00_21-2-Ga4c.As2b.As2a', 'runs_2/spg21/Cl/ClCu/xxx_02a-00_21-2-Cl4c.Cl2a.Cu4c.Cu2a', 'runs_2/spg21/N/N2Fe3/xxx_02a-00_21-2-N2b.N2a.Fe4c.Fe2b', 'runs_2/spg21/Te/Te3Lu2/xxx_02a-00_21-2-Te4c.Te2a.Lu2b.Lu2a', 'runs_2/spg21/S/S4Cr3/xxx_02a-00_21-2-S4c.S2b.S2a.Cr4c.Cr2a', 'runs_2/spg21/Br/BrAu/xxx_02a-00_21-2-Br2a.Au2b', 'runs_2/spg21/Ag/AgI/xxx_02a-00_21-2-Ag2b.I2b', 'runs_2/spg21/Mg/MgTe/xxx_02a-00_21-2-Mg4c.Te4c', 'runs_2/spg21/Pd/PdI3/xxx_02a-00_21-2-Pd2a.I4c.I2b', 'runs_2/spg21/Cl/Cl2Sn/xxx_02a-00_21-2-Cl2b.Cl2a.Sn2a', 'runs_2/spg21/Mg/MgTe/xxx_02a-00_21-2-Mg2b.Te2a', 'runs_2/spg21/N/N2In3/xxx_02a-00_21-2-N2b.N2a.In4c.In2a', 'runs_2/spg21/I/I3La/xxx_02a-00_21-2-I4c.I2b.La2a', 'runs_2/spg21/P/PY/xxx_02a-00_21-2-P4c.P2a.Y4c.Y2a', 'runs_2/spg21/Br/BrAg/xxx_02a-00_21-2-Br4c.Ag2b.Ag2a', 'runs_2/spg21/Cl/Cl2Hg/xxx_02a-00_21-2-Cl2b.Cl2a.Hg2a', 'runs_2/spg21/Cl/Cl2Cr/xxx_02a-00_21-2-Cl4c.Cl2b.Cl2a.Cr4c', 'runs_2/spg21/F/FCs/xxx_02a-00_21-2-F2a.Cs2b', 'runs_2/spg21/Se/SePd/xxx_02a-00_21-2-Se2a.Pd2b', 'runs_2/spg21/Br/BrAg/xxx_02a-00_21-2-Br4c.Ag4c', 'runs_2/spg21/Y/Y2Te3/xxx_02a-00_21-2-Y4c.Te4c.Te2a', 'runs_2/spg21/Se/Se3Pt2/xxx_02a-00_21-2-Se4c.Se2b.Pt2b.Pt2a', 'runs_2/spg21/F/F3Sb/xxx_02a-00_21-2-F4c.F2a.Sb2b']\n"
     ]
    }
   ],
   "source": [
    "reformated_run_val = create_relaxation_dataset(runs_relaxed_val)"
   ]
  },
  {
   "cell_type": "markdown",
   "id": "6320bc9d-01ae-43b8-987d-da08e1085ad1",
   "metadata": {},
   "source": [
    "## Relaxation Error"
   ]
  },
  {
   "cell_type": "code",
   "execution_count": 308,
   "id": "0360ff91-0b1d-4b9d-af6b-a92d4d24af5d",
   "metadata": {},
   "outputs": [],
   "source": [
    "def mae(arr):\n",
    "    n = len(arr)\n",
    "    # print(n)\n",
    "    return sum(arr)/n\n",
    "\n",
    "def rmse(arr):\n",
    "    n = len(arr)\n",
    "    return np.sqrt(sum(np.square(arr))/n)\n",
    "\n",
    "\n",
    "def area_per_atom(lat_param, nr_atoms):\n",
    "    area = lat_param[0]*lat_param[1] #yields the Area in Angstrom^2\n",
    "    res_area_per_atom = area/nr_atoms\n",
    "    \n",
    "    return res_area_per_atom\n",
    "\n",
    "def area_per_atom_sqrt(lat_param, nr_atoms):\n",
    "    area = lat_param[0]*lat_param[1] #yields the Area in Angstrom^2\n",
    "    res_area_per_atom = np.sqrt(area)/nr_atoms\n",
    "    \n",
    "    return res_area_per_atom\n",
    "\n",
    "def get_error(relaxed_structures, train_structures):\n",
    "    \n",
    "    runs_compared = 0\n",
    "    runs_compared_volume = 0\n",
    "    \n",
    "    runs_relaxed = list(relaxed_structures.keys()) #this is list of differnet runs\n",
    "    \n",
    "    diff_energy_per_atom = []\n",
    "    diff_area_per_atom = []\n",
    "    diff_area_per_atom_sqrt = []\n",
    "    area_per_atom_sqrt_arr = []\n",
    "    \n",
    "    for key in runs_relaxed:\n",
    "        # print(\"key: {}\".format(key))\n",
    "        for dictionary in train_structures:\n",
    "            if key in dictionary:\n",
    "                # CHECK IF Energy per atom or Energy \n",
    "                train_run = dictionary\n",
    "                final_structure_training = train_run[key][-1]\n",
    "                # print(final_structure_training)\n",
    "                \n",
    "                ### Energy\n",
    "               \n",
    "                nr_sites = len(Structure.from_dict(final_structure_training[\"structure\"])) #These should be the same to the # of sites in the relaxed structure training set\n",
    "                final_structure_training_energy = final_structure_training['energy']/nr_sites\n",
    "                final_structure_relaxation = relaxed_structures[key]\n",
    "                # print(final_structure_relaxation)\n",
    "                final_structure_relaxation_energy = final_structure_relaxation['energy']\n",
    "                \n",
    "                ### Volume\n",
    "                \n",
    "                struct_train = Structure.from_dict(final_structure_training[\"structure\"])\n",
    "                struct_relax = final_structure_relaxation[\"final_structure\"]\n",
    "                \n",
    "                if struct_relax != None:\n",
    "            \n",
    "                    lat_parm_train = struct_train.lattice.abc\n",
    "                    lat_parm_relax = struct_relax.lattice.abc\n",
    "\n",
    "                    area_per_atom_train_sqrt = area_per_atom_sqrt(lat_parm_train, nr_sites) \n",
    "                    area_per_atom_relax_sqrt = area_per_atom_sqrt(lat_parm_relax, nr_sites)\n",
    "                    \n",
    "                    area_per_atom_train = area_per_atom(lat_parm_train, nr_sites) \n",
    "                    area_per_atom_relax = area_per_atom(lat_parm_relax, nr_sites)\n",
    "                    \n",
    "                    area_per_atom_sqrt_arr.append(area_per_atom_relax_sqrt)\n",
    "                    \n",
    "                    # print(area_per_atom_train)\n",
    "                    # print(area_per_atom_relax)\n",
    "                    \n",
    "                    diff_area_sqrt = np.abs(area_per_atom_train_sqrt - area_per_atom_relax_sqrt)\n",
    "                    diff_area_org = np.abs(area_per_atom_train - area_per_atom_relax)\n",
    "                    \n",
    "                    diff_area_per_atom_sqrt.append(diff_area_sqrt)\n",
    "                    diff_area_per_atom.append(diff_area_org)\n",
    "                    \n",
    "                    runs_compared_volume += 1\n",
    "            \n",
    "                \n",
    "                if final_structure_relaxation_energy != None:\n",
    "                    final_structure_relaxation_energy = final_structure_relaxation['energy']/nr_sites\n",
    "                    diff_energy_per_atom.append(np.abs(final_structure_training_energy - final_structure_relaxation_energy))\n",
    "                    # print(final_structure_training_energy, final_structure_relaxation_energy)\n",
    "                    runs_compared += 1\n",
    "                    \n",
    "    \n",
    "   \n",
    "    print(\"Runs compared: {}\".format(runs_compared))\n",
    "    print(\"Runs compared volume: {}\".format(runs_compared_volume))\n",
    "    print(\"Converged Percentage: {}%\".format(np.round(runs_compared/len(runs_relaxed),3)*100))\n",
    "    # print(\"Length diff_energy: {}\".format(len(diff_energy_per_atom)))\n",
    "    print(\"Resulting MAE energy: {}\".format(mae(diff_energy_per_atom)))\n",
    "    print(\"Resulting MAE area per atom: {}\".format(mae(diff_area_per_atom)))\n",
    "    print(\"Resulting MAE area per atom sqrt: {}\".format(mae(diff_area_per_atom_sqrt)))\n",
    "    print(\"Mean area per atom sqrt: {}\".format(np.mean(area_per_atom_sqrt_arr)))\n",
    "    \n",
    "\n",
    "    return"
   ]
  },
  {
   "cell_type": "code",
   "execution_count": 309,
   "id": "d83c7eab-5d81-429c-b315-b6d1d3d51576",
   "metadata": {},
   "outputs": [
    {
     "data": {
      "text/plain": [
       "-41.03407669067383"
      ]
     },
     "execution_count": 309,
     "metadata": {},
     "output_type": "execute_result"
    }
   ],
   "source": [
    "relaxed_structures[list(relaxed_structures.keys())[3]]['energy']"
   ]
  },
  {
   "cell_type": "markdown",
   "id": "8b75efc9-e027-4671-94e6-78bba35741b9",
   "metadata": {},
   "source": [
    "# Data evaluated on test structures"
   ]
  },
  {
   "cell_type": "markdown",
   "id": "768ab2dc-dcfc-40cf-9a79-b9919d9aa525",
   "metadata": {},
   "source": [
    "## No Cutoff"
   ]
  },
  {
   "cell_type": "markdown",
   "id": "3e055632-f6f5-470d-b1f1-d9275113770f",
   "metadata": {},
   "source": [
    "### Model 1 lr_1e3_bs_128"
   ]
  },
  {
   "cell_type": "code",
   "execution_count": 324,
   "id": "170cdec6-2520-417a-8d6b-5ac92c217af0",
   "metadata": {},
   "outputs": [],
   "source": [
    "# pickle_file_path = 'relaxation_10000000000/00456-0.120248-0.040146-0.073807-0.062954relaxed_structures.pickle'\n",
    "relaxed_structures_path = 'relaxations/0_f_t-2023-05-22_10-41-22/00456-0.120248-0.040146-0.073807-0.062954relaxed_structures.pickle'\n",
    "\n",
    "# Load the pickle file\n",
    "with open(relaxed_structures_path, 'rb') as file:\n",
    "    relaxed_structures = pickle.load(file)"
   ]
  },
  {
   "cell_type": "code",
   "execution_count": 325,
   "id": "b7d2de3a-dc3f-42f1-b14d-dbf19f3e650f",
   "metadata": {},
   "outputs": [
    {
     "name": "stdout",
     "output_type": "stream",
     "text": [
      "Mean area per atom sqrt: 0.9097554642982799\n",
      "Runs compared: 2983\n",
      "Runs compared volume: 2983\n",
      "Converged Percentage: 73.2%\n",
      "Resulting MAE energy: 0.07131015342398918\n",
      "Resulting MAE area per atom: 0.7396141282735273\n",
      "Resulting MAE area per atom sqrt: 0.0501764271998642\n"
     ]
    }
   ],
   "source": [
    "get_error(relaxed_structures, train_structures = reformated_run)"
   ]
  },
  {
   "cell_type": "markdown",
   "id": "0a5c91a4-acb6-4f07-af48-74ffbd150a66",
   "metadata": {},
   "source": [
    "#### with $f$_max = 0.1 and $n$-steps = 1000"
   ]
  },
  {
   "cell_type": "code",
   "execution_count": 331,
   "id": "0dfc5437-2aa8-480d-a3f3-aa2f9102ea8c",
   "metadata": {},
   "outputs": [],
   "source": [
    "# pickle_file_path = 'relaxation_10000000000/00456-0.120248-0.040146-0.073807-0.062954relaxed_structures.pickle'\n",
    "relaxed_structures_path = 'relaxations/save_model/no_cutoff_lr_1e-3_bs_128/00496-0.118736-0.038684-0.073790-0.062614relaxed_structures_0.1_1000.pickle'\n",
    "\n",
    "# Load the pickle file\n",
    "with open(relaxed_structures_path, 'rb') as file:\n",
    "    relaxed_structures = pickle.load(file)"
   ]
  },
  {
   "cell_type": "code",
   "execution_count": 332,
   "id": "20dee19e-15ab-444a-a7d8-8dd6d950f177",
   "metadata": {},
   "outputs": [
    {
     "name": "stdout",
     "output_type": "stream",
     "text": [
      "Mean area per atom sqrt: 0.8580160108362819\n",
      "Runs compared: 4052\n",
      "Runs compared volume: 4052\n",
      "Converged Percentage: 99.3%\n",
      "Resulting MAE energy: 0.08267885711685917\n",
      "Resulting MAE area per atom: 0.8343885339322874\n",
      "Resulting MAE area per atom sqrt: 0.05242848025127047\n"
     ]
    }
   ],
   "source": [
    "get_error(relaxed_structures, train_structures = reformated_run)"
   ]
  },
  {
   "cell_type": "markdown",
   "id": "2162c10c-e612-4464-9ba0-7e5d4d4f2c8b",
   "metadata": {},
   "source": [
    "### Model lr_1e3_bs_128_opt"
   ]
  },
  {
   "cell_type": "code",
   "execution_count": 326,
   "id": "a8ab68fa-15e3-4ccb-8a0a-82441d3d3f86",
   "metadata": {},
   "outputs": [],
   "source": [
    "# pickle_file_path = 'relaxation_10000000000/00456-0.120248-0.040146-0.073807-0.062954relaxed_structures.pickle'\n",
    "# relaxed_structures_path = 'relaxations/save_model/no_cutoff_lr_1e3_bs128/00496-0.118736-0.038684-0.073790-0.062614relaxed_structures.pickle'\n",
    "relaxed_structures_path = 'relaxations/save_model/no_cutoff_lr_1e-3_bs_128/00496-0.118736-0.038684-0.073790-0.062614relax_structures_0.01_400.pickle'\n",
    "\n",
    "# Load the pickle file\n",
    "with open(relaxed_structures_path, 'rb') as file:\n",
    "    relaxed_structures = pickle.load(file)"
   ]
  },
  {
   "cell_type": "code",
   "execution_count": 327,
   "id": "4ddd2228-3401-473b-95d9-1442b6ef258b",
   "metadata": {},
   "outputs": [
    {
     "name": "stdout",
     "output_type": "stream",
     "text": [
      "Mean area per atom sqrt: 0.9067820546836252\n",
      "Runs compared: 2996\n",
      "Runs compared volume: 2996\n",
      "Converged Percentage: 73.4%\n",
      "Resulting MAE energy: 0.07045344290033809\n",
      "Resulting MAE area per atom: 0.7094289782814373\n",
      "Resulting MAE area per atom sqrt: 0.04863491548737956\n"
     ]
    }
   ],
   "source": [
    "get_error(relaxed_structures, train_structures = reformated_run)"
   ]
  },
  {
   "cell_type": "markdown",
   "id": "08f92973-98c2-48d5-aba0-7a7fd46381de",
   "metadata": {},
   "source": [
    "### Model lr_1e-4_bs_128"
   ]
  },
  {
   "cell_type": "code",
   "execution_count": 313,
   "id": "dd668f49-028c-46f8-8477-81a9ccd52610",
   "metadata": {},
   "outputs": [],
   "source": [
    "relaxed_structures_path = 'relaxations/save_model_daint/save_model/no_cutoff_lr_1e-4_bs_128relaxed_structures_0.1_1000.pickle'\n",
    "\n",
    "# Load the pickle filerelaxations/save_model_daint/save_model/no_cutoff_lr_1e-4_bs_128relaxed_structures_0.1_1000.pickle\n",
    "with open(relaxed_structures_path, 'rb') as file:\n",
    "    relaxed_structures = pickle.load(file)"
   ]
  },
  {
   "cell_type": "code",
   "execution_count": 314,
   "id": "a4c358e3-6238-465f-b982-7f229616ff8c",
   "metadata": {},
   "outputs": [
    {
     "name": "stdout",
     "output_type": "stream",
     "text": [
      "Mean area per atom sqrt: 0.8591135017553148\n",
      "Runs compared: 4061\n",
      "Runs compared volume: 4061\n",
      "Converged Percentage: 98.2%\n",
      "Resulting MAE energy: 0.0768148361164508\n",
      "Resulting MAE area per atom: 0.8717012858738827\n",
      "Resulting MAE area per atom sqrt: 0.05265356030176709\n"
     ]
    }
   ],
   "source": [
    "get_error(relaxed_structures, train_structures = reformated_run)"
   ]
  },
  {
   "cell_type": "markdown",
   "id": "6cf0d51c-8255-40b2-907c-552daf4bae1b",
   "metadata": {},
   "source": [
    "## E_cutoff = 0.01"
   ]
  },
  {
   "cell_type": "markdown",
   "id": "3d68eaa1-005a-4be3-960e-d188b1535d0c",
   "metadata": {},
   "source": [
    "### Model lr_1e-3_bs_128"
   ]
  },
  {
   "cell_type": "code",
   "execution_count": 291,
   "id": "5e8f8439-2f64-45e5-8d77-6284931adda3",
   "metadata": {},
   "outputs": [],
   "source": [
    "relaxed_structures_path = 'relaxations/save_model_daint/save_model/0.01_lr_1e-3_bs_128/00138-0.147841-0.043230-0.096927-0.076845relaxed_structures_0.1_1000.pickle'\n",
    "\n",
    "# Load the pickle filerelaxations/save_model_daint/save_model/no_cutoff_lr_1e-4_bs_128relaxed_structures_0.1_1000.pickle\n",
    "with open(relaxed_structures_path, 'rb') as file:\n",
    "    relaxed_structures = pickle.load(file)"
   ]
  },
  {
   "cell_type": "code",
   "execution_count": 292,
   "id": "ed1bdc58-9370-452b-8098-ba7a5db8beee",
   "metadata": {},
   "outputs": [
    {
     "name": "stdout",
     "output_type": "stream",
     "text": [
      "Runs compared: 4060\n",
      "Runs compared volume: 4060\n",
      "Converged Percentage: 98.2%\n",
      "Resulting MAE energy: 0.0842301533247498\n",
      "Resulting MAE area per atom: 0.842659175505702\n",
      "Resulting MAE area per atom sqrt: 0.051782874010324706\n"
     ]
    }
   ],
   "source": [
    "get_error(relaxed_structures, train_structures = reformated_run)"
   ]
  },
  {
   "cell_type": "markdown",
   "id": "94ebebd2-0aac-42db-be0b-6014cce328f3",
   "metadata": {},
   "source": [
    "### Model lr_1e-4_bs_128"
   ]
  },
  {
   "cell_type": "code",
   "execution_count": 315,
   "id": "60cabc25-a56b-4b30-845f-82bf69d19824",
   "metadata": {},
   "outputs": [],
   "source": [
    "relaxed_structures_path = \"relaxations/save_model_daint/save_model/0.01_lr_1e-4_bs_128/00760-0.147770-0.041342-0.098456-0.079714relaxed_structures_0.1_1000.pickle\"\n",
    "\n",
    "# Load the pickle filerelaxations/save_model_daint/save_model/no_cutoff_lr_1e-4_bs_128relaxed_structures_0.1_1000.pickle\n",
    "with open(relaxed_structures_path, 'rb') as file:\n",
    "    relaxed_structures = pickle.load(file)"
   ]
  },
  {
   "cell_type": "code",
   "execution_count": 316,
   "id": "c4f266e7-bd35-4a91-962e-36e850ea524f",
   "metadata": {},
   "outputs": [
    {
     "name": "stdout",
     "output_type": "stream",
     "text": [
      "Mean area per atom sqrt: 0.8620878523488482\n",
      "Runs compared: 4057\n",
      "Runs compared volume: 4057\n",
      "Converged Percentage: 98.1%\n",
      "Resulting MAE energy: 0.0823106985171674\n",
      "Resulting MAE area per atom: 0.8833721178460983\n",
      "Resulting MAE area per atom sqrt: 0.05372627605536928\n"
     ]
    }
   ],
   "source": [
    "get_error(relaxed_structures, train_structures = reformated_run)"
   ]
  },
  {
   "cell_type": "markdown",
   "id": "b4584872-e37a-4931-93c8-d2714d4e2d77",
   "metadata": {},
   "source": [
    "## E_cutoff = 0.02"
   ]
  },
  {
   "cell_type": "markdown",
   "id": "a999b0f1-3a57-4c1a-8be0-17b4a4b3fef8",
   "metadata": {},
   "source": [
    "### Model lr_1e-3_bs_128"
   ]
  },
  {
   "cell_type": "code",
   "execution_count": 317,
   "id": "5ff30b35-eafa-49f0-9f0a-212e3e1cc0af",
   "metadata": {},
   "outputs": [],
   "source": [
    "relaxed_structures_path = 'relaxations/save_model_daint/save_model/0.02_lr_1e-3_bs_128/00227-0.151426-0.045653-0.097765-0.080075relaxed_structures_0.1_1000.pickle'\n",
    "\n",
    "with open(relaxed_structures_path, 'rb') as file:\n",
    "    relaxed_structures = pickle.load(file)"
   ]
  },
  {
   "cell_type": "code",
   "execution_count": 318,
   "id": "87bdf7e5-6432-4f11-9b87-ec45f772f7ce",
   "metadata": {},
   "outputs": [
    {
     "name": "stdout",
     "output_type": "stream",
     "text": [
      "Mean area per atom sqrt: 0.8584192583462572\n",
      "Runs compared: 4042\n",
      "Runs compared volume: 4042\n",
      "Converged Percentage: 97.8%\n",
      "Resulting MAE energy: 0.08373413153879425\n",
      "Resulting MAE area per atom: 0.8491564034623496\n",
      "Resulting MAE area per atom sqrt: 0.053432477992073776\n"
     ]
    }
   ],
   "source": [
    "get_error(relaxed_structures, train_structures = reformated_run)"
   ]
  },
  {
   "cell_type": "markdown",
   "id": "f281c50b-3b42-48a6-a3f2-4649973b0760",
   "metadata": {},
   "source": [
    "### Model lr_1e-4_bs_128"
   ]
  },
  {
   "cell_type": "code",
   "execution_count": 319,
   "id": "4aa2662d-4a88-49d1-935d-f850446c5bbd",
   "metadata": {},
   "outputs": [],
   "source": [
    "relaxed_structures_path = \"relaxations/save_model_daint/save_model/0.02_lr_1e-4_bs_128/00991-0.149881-0.042665-0.098949-0.082664relaxed_structures_0.1_1000.pickle\"\n",
    "\n",
    "with open(relaxed_structures_path, 'rb') as file:\n",
    "    relaxed_structures = pickle.load(file)"
   ]
  },
  {
   "cell_type": "code",
   "execution_count": 320,
   "id": "88888edd-2796-4720-8c85-6882cabd65e9",
   "metadata": {},
   "outputs": [
    {
     "name": "stdout",
     "output_type": "stream",
     "text": [
      "Mean area per atom sqrt: 0.8610833889096845\n",
      "Runs compared: 4052\n",
      "Runs compared volume: 4052\n",
      "Converged Percentage: 98.0%\n",
      "Resulting MAE energy: 0.08409416656703546\n",
      "Resulting MAE area per atom: 0.8657371294493192\n",
      "Resulting MAE area per atom sqrt: 0.0529658638927524\n"
     ]
    }
   ],
   "source": [
    "get_error(relaxed_structures, train_structures = reformated_run)"
   ]
  },
  {
   "cell_type": "markdown",
   "id": "5ee46af1-8644-45eb-a419-decf54f2dda8",
   "metadata": {},
   "source": [
    "## MACE Relaxations"
   ]
  },
  {
   "cell_type": "markdown",
   "id": "c0c686ec-208f-43d9-b2de-5aeeaa5afaed",
   "metadata": {},
   "source": [
    "### Model lr 3e-3 bs 128"
   ]
  },
  {
   "cell_type": "code",
   "execution_count": 431,
   "id": "ad72c7f1-f88b-45e2-ba71-229cf7c02f61",
   "metadata": {},
   "outputs": [],
   "source": [
    "##Model lr 0.003, bs=128\n",
    "\n",
    "mace_model_path = \"relaxation_mace/save_model/MACE_0.003_128_swa.modelrelaxed_structures_0.01_400.pickle\"\n",
    "\n",
    "with open(mace_model_path, 'rb') as file:\n",
    "    mace_relaxed = pickle.load(file)"
   ]
  },
  {
   "cell_type": "code",
   "execution_count": 432,
   "id": "3fb79ff4-7e4b-4377-a7b4-71afd250d517",
   "metadata": {},
   "outputs": [
    {
     "name": "stdout",
     "output_type": "stream",
     "text": [
      "Mean area per atom sqrt: 0.842197718719904\n",
      "Runs compared: 4031\n",
      "Runs compared volume: 4031\n",
      "Converged Percentage: 97.7%\n",
      "Resulting MAE energy: 0.09784329760631653\n",
      "Resulting MAE area per atom: 0.7451553557813656\n",
      "Resulting MAE area per atom sqrt: 0.04939235846317204\n"
     ]
    }
   ],
   "source": [
    "get_error(mace_relaxed, train_structures = reformated_run)"
   ]
  },
  {
   "cell_type": "markdown",
   "id": "6de83be8-ed08-47f6-b944-d22d729f475d",
   "metadata": {},
   "source": [
    "### Model lr 1e-2 bs 64"
   ]
  },
  {
   "cell_type": "code",
   "execution_count": 433,
   "id": "8de4a7ee-65b2-438f-bcf7-066e1cfb6825",
   "metadata": {},
   "outputs": [],
   "source": [
    "mace_model_path = \"relaxation_mace/save_model/MACE_0.01_64_swa.modelrelaxed_structures_0.01_400.pickle\"\n",
    "\n",
    "with open(mace_model_path, 'rb') as file:\n",
    "    mace_relaxed = pickle.load(file)"
   ]
  },
  {
   "cell_type": "code",
   "execution_count": 434,
   "id": "8be07eaa-6399-4abe-94f0-557375161a3a",
   "metadata": {},
   "outputs": [
    {
     "name": "stdout",
     "output_type": "stream",
     "text": [
      "Mean area per atom sqrt: 0.8420352412621123\n",
      "Runs compared: 3962\n",
      "Runs compared volume: 3962\n",
      "Converged Percentage: 97.2%\n",
      "Resulting MAE energy: 0.14196816226436285\n",
      "Resulting MAE area per atom: 0.7537559694120226\n",
      "Resulting MAE area per atom sqrt: 0.05012862379833594\n"
     ]
    }
   ],
   "source": [
    "get_error(mace_relaxed, train_structures = reformated_run)"
   ]
  },
  {
   "cell_type": "markdown",
   "id": "4fc79953-6ae4-4bc5-80fd-de0c1ed32a48",
   "metadata": {},
   "source": [
    "# Data evaluated on validation structures"
   ]
  },
  {
   "cell_type": "markdown",
   "id": "7988b739-dc23-4c80-bbd0-f97f4445dd40",
   "metadata": {},
   "source": [
    "## No Cutoff"
   ]
  },
  {
   "cell_type": "markdown",
   "id": "0640d7e5-351b-48f6-9b01-09eb57a169dd",
   "metadata": {},
   "source": [
    "### Model lr_1e-3_bs128"
   ]
  },
  {
   "cell_type": "code",
   "execution_count": 438,
   "id": "498b306b-59d4-4ddf-909f-c140fdb1238e",
   "metadata": {},
   "outputs": [
    {
     "name": "stdout",
     "output_type": "stream",
     "text": [
      "4174\n"
     ]
    }
   ],
   "source": [
    "relaxed_structures_path = \"relaxations/save_model_validation/save_model/no_cutoff_lr_1e-3_bs_128/00496-0.118736-0.038684-0.073790-0.062614relax_struc_0.1_1000_val.pickle\"\n",
    "\n",
    "with open(relaxed_structures_path, 'rb') as file:\n",
    "    relaxed_structures = pickle.load(file)\n",
    "print(len(relaxed_structures))"
   ]
  },
  {
   "cell_type": "code",
   "execution_count": 436,
   "id": "d9933e35-4513-44bb-ae78-6ee307679038",
   "metadata": {},
   "outputs": [
    {
     "name": "stdout",
     "output_type": "stream",
     "text": [
      "Mean area per atom sqrt: nan\n",
      "Runs compared: 0\n",
      "Runs compared volume: 0\n",
      "Converged Percentage: 0.0%\n"
     ]
    },
    {
     "name": "stderr",
     "output_type": "stream",
     "text": [
      "/home/theorystud01/anaconda3/envs/m3gnet/lib/python3.9/site-packages/numpy/core/fromnumeric.py:3432: RuntimeWarning: Mean of empty slice.\n",
      "  return _methods._mean(a, axis=axis, dtype=dtype,\n",
      "/home/theorystud01/anaconda3/envs/m3gnet/lib/python3.9/site-packages/numpy/core/_methods.py:190: RuntimeWarning: invalid value encountered in double_scalars\n",
      "  ret = ret.dtype.type(ret / rcount)\n"
     ]
    },
    {
     "ename": "ZeroDivisionError",
     "evalue": "division by zero",
     "output_type": "error",
     "traceback": [
      "\u001b[0;31m---------------------------------------------------------------------------\u001b[0m",
      "\u001b[0;31mZeroDivisionError\u001b[0m                         Traceback (most recent call last)",
      "Cell \u001b[0;32mIn[436], line 1\u001b[0m\n\u001b[0;32m----> 1\u001b[0m \u001b[43mget_error\u001b[49m\u001b[43m(\u001b[49m\u001b[43mrelaxed_structures\u001b[49m\u001b[43m,\u001b[49m\u001b[43m \u001b[49m\u001b[43mtrain_structures\u001b[49m\u001b[43m \u001b[49m\u001b[38;5;241;43m=\u001b[39;49m\u001b[43m \u001b[49m\u001b[43mreformated_run\u001b[49m\u001b[43m)\u001b[49m\n",
      "Cell \u001b[0;32mIn[308], line 94\u001b[0m, in \u001b[0;36mget_error\u001b[0;34m(relaxed_structures, train_structures)\u001b[0m\n\u001b[1;32m     92\u001b[0m \u001b[38;5;28mprint\u001b[39m(\u001b[38;5;124m\"\u001b[39m\u001b[38;5;124mConverged Percentage: \u001b[39m\u001b[38;5;132;01m{}\u001b[39;00m\u001b[38;5;124m%\u001b[39m\u001b[38;5;124m\"\u001b[39m\u001b[38;5;241m.\u001b[39mformat(np\u001b[38;5;241m.\u001b[39mround(runs_compared\u001b[38;5;241m/\u001b[39m\u001b[38;5;28mlen\u001b[39m(runs_relaxed),\u001b[38;5;241m3\u001b[39m)\u001b[38;5;241m*\u001b[39m\u001b[38;5;241m100\u001b[39m))\n\u001b[1;32m     93\u001b[0m \u001b[38;5;66;03m# print(\"Length diff_energy: {}\".format(len(diff_energy_per_atom)))\u001b[39;00m\n\u001b[0;32m---> 94\u001b[0m \u001b[38;5;28mprint\u001b[39m(\u001b[38;5;124m\"\u001b[39m\u001b[38;5;124mResulting MAE energy: \u001b[39m\u001b[38;5;132;01m{}\u001b[39;00m\u001b[38;5;124m\"\u001b[39m\u001b[38;5;241m.\u001b[39mformat(\u001b[43mmae\u001b[49m\u001b[43m(\u001b[49m\u001b[43mdiff_energy_per_atom\u001b[49m\u001b[43m)\u001b[49m))\n\u001b[1;32m     95\u001b[0m \u001b[38;5;28mprint\u001b[39m(\u001b[38;5;124m\"\u001b[39m\u001b[38;5;124mResulting MAE area per atom: \u001b[39m\u001b[38;5;132;01m{}\u001b[39;00m\u001b[38;5;124m\"\u001b[39m\u001b[38;5;241m.\u001b[39mformat(mae(diff_area_per_atom)))\n\u001b[1;32m     96\u001b[0m \u001b[38;5;28mprint\u001b[39m(\u001b[38;5;124m\"\u001b[39m\u001b[38;5;124mResulting MAE area per atom sqrt: \u001b[39m\u001b[38;5;132;01m{}\u001b[39;00m\u001b[38;5;124m\"\u001b[39m\u001b[38;5;241m.\u001b[39mformat(mae(diff_area_per_atom_sqrt)))\n",
      "Cell \u001b[0;32mIn[308], line 4\u001b[0m, in \u001b[0;36mmae\u001b[0;34m(arr)\u001b[0m\n\u001b[1;32m      2\u001b[0m n \u001b[38;5;241m=\u001b[39m \u001b[38;5;28mlen\u001b[39m(arr)\n\u001b[1;32m      3\u001b[0m \u001b[38;5;66;03m# print(n)\u001b[39;00m\n\u001b[0;32m----> 4\u001b[0m \u001b[38;5;28;01mreturn\u001b[39;00m \u001b[38;5;28;43msum\u001b[39;49m\u001b[43m(\u001b[49m\u001b[43marr\u001b[49m\u001b[43m)\u001b[49m\u001b[38;5;241;43m/\u001b[39;49m\u001b[43mn\u001b[49m\n",
      "\u001b[0;31mZeroDivisionError\u001b[0m: division by zero"
     ]
    }
   ],
   "source": [
    "get_error(relaxed_structures, train_structures = reformated_run)"
   ]
  },
  {
   "cell_type": "markdown",
   "id": "c1bad855-e699-4cf8-af3d-35af5d51a047",
   "metadata": {},
   "source": [
    "# Relaxation with final training structure"
   ]
  },
  {
   "cell_type": "markdown",
   "id": "fb1b7476-5dba-4579-ab84-65664632ba88",
   "metadata": {},
   "source": [
    "## M3GNet"
   ]
  },
  {
   "cell_type": "code",
   "execution_count": 345,
   "id": "a4d653cc-46f0-4d5b-a0c7-65113c054237",
   "metadata": {},
   "outputs": [],
   "source": [
    "from pymatgen.io.ase import AseAtomsAdaptor\n",
    "from tqdm import tqdm\n",
    "import pickle\n",
    "import numpy as np\n",
    "import sys\n",
    "import tensorflow as tf\n",
    "import sys\n",
    "import json\n",
    "from m3gnet.models import M3GNet, Potential, M3GNetCalculator\n",
    "from m3gnet.trainers import PotentialTrainer\n",
    "from pymatgen.core import Structure, Lattice\n",
    "from relax_scripts.m3gnet_dynamics import Relaxer"
   ]
  },
  {
   "cell_type": "code",
   "execution_count": 385,
   "id": "3d8e7ae7-c82e-4177-b2f1-9a6967217ced",
   "metadata": {},
   "outputs": [],
   "source": [
    "model_path = \"relaxations/save_model/0.01_lr_1e-3_bs_128/00138-0.147841-0.043230-0.096927-0.076845\""
   ]
  },
  {
   "cell_type": "code",
   "execution_count": 427,
   "id": "d5c4da65-a3d4-4b24-bf53-98866120bee8",
   "metadata": {},
   "outputs": [],
   "source": [
    "def relax_structure(starting_structure, relaxer, max_steps = 100, f_max = 0.1):\n",
    "    print(\"Start relaxation\")\n",
    "    print(\"Structure sites: {}\".format(starting_structure.sites))\n",
    "    adapted_structure = AseAtomsAdaptor.get_atoms(starting_structure)\n",
    "    trajectory = relaxer.relax(adapted_structure, fmax=f_max, steps=max_steps)\n",
    "    relaxed_energy = float(trajectory['trajectory'].energies[-1])\n",
    "    final_structure = trajectory['final_structure']\n",
    "    if len(trajectory['trajectory'].energies) < max_steps - 1:\n",
    "        return final_structure, relaxed_energy\n",
    "    else:\n",
    "        return None, None\n",
    "\n",
    "def m3gnet_final_relax(model_path, runs_relaxed, train_run):  \n",
    "    \n",
    "    m3gnet = M3GNet.from_dir(model_path)\n",
    "    potential = Potential(model=m3gnet)\n",
    "    relaxer = Relaxer(potential=potential, relax_cell=True, optimizer='FIRE', symmetry_constraints = True)\n",
    "\n",
    "    #######################################\n",
    "    f_max = 0.1\n",
    "    maxsteps = 500\n",
    "    #######################################\n",
    "    runs_compared = 0\n",
    "    runs_compared_volume = 0\n",
    "    \n",
    "    runs_relaxed = list(relaxed_structures.keys()) #this is list of differnet runs\n",
    "    \n",
    "    diff_energy_per_atom = []\n",
    "    diff_area_per_atom = []\n",
    "    diff_area_per_atom_sqrt = []\n",
    "    area_per_atom_sqrt_arr = []\n",
    "    \n",
    "    for key in runs_relaxed:\n",
    "        for id, dictionary in enumerate(train_run):\n",
    "            if key in dictionary:\n",
    "                # print(key)\n",
    "                final_structure_training = Structure.from_dict(train_run[id][key][-1][\"structure\"])\n",
    "                nr_sites = len(final_structure_training) #These should be the same to the # of sites in the relaxed structure training set\n",
    "                final_structure_training_energy = train_run[id][key][-1][\"energy\"]/nr_sites\n",
    "                final_structure_relax, final_energy = relax_structure(final_structure_training, relaxer, max_steps = maxsteps, f_max= f_max)\n",
    "                \n",
    "                \n",
    "                struct_train = final_structure_training\n",
    "                struct_relax = final_structure_relax\n",
    "                \n",
    "                ### Volume\n",
    "                \n",
    "                if struct_relax != None:\n",
    "            \n",
    "                    lat_parm_train = struct_train.lattice.abc\n",
    "                    lat_parm_relax = struct_relax.lattice.abc\n",
    "\n",
    "                    area_per_atom_train_sqrt = area_per_atom_sqrt(lat_parm_train, nr_sites) \n",
    "                    area_per_atom_relax_sqrt = area_per_atom_sqrt(lat_parm_relax, nr_sites)\n",
    "                    \n",
    "                    area_per_atom_train = area_per_atom(lat_parm_train, nr_sites) \n",
    "                    area_per_atom_relax = area_per_atom(lat_parm_relax, nr_sites)\n",
    "                    \n",
    "                    area_per_atom_sqrt_arr.append(area_per_atom_relax_sqrt)\n",
    "                    \n",
    "                    # print(area_per_atom_train)\n",
    "                    # print(area_per_atom_relax)\n",
    "                    \n",
    "                    diff_area_sqrt = np.abs(area_per_atom_train_sqrt - area_per_atom_relax_sqrt)\n",
    "                    diff_area_org = np.abs(area_per_atom_train - area_per_atom_relax)\n",
    "                    \n",
    "                    diff_area_per_atom_sqrt.append(diff_area_sqrt)\n",
    "                    diff_area_per_atom.append(diff_area_org)\n",
    "                    \n",
    "                    runs_compared_volume += 1\n",
    "                    \n",
    "                ### Energy\n",
    "                \n",
    "                if final_energy != None:\n",
    "                    final_energy = final_energy/nr_sites\n",
    "                    diff_energy_per_atom.append(np.abs(final_structure_training_energy - final_energy))\n",
    "                    # print(final_structure_training_energy, final_structure_relaxation_energy)\n",
    "                    runs_compared += 1\n",
    "                    \n",
    "    print(\"Runs compared: {}\".format(runs_compared))\n",
    "    print(\"Runs compared volume: {}\".format(runs_compared_volume))\n",
    "    print(\"Converged Percentage: {}%\".format(np.round(runs_compared/len(runs_relaxed),3)*100))\n",
    "    # print(\"Length diff_energy: {}\".format(len(diff_energy_per_atom)))\n",
    "    print(\"Resulting MAE energy: {}\".format(mae(diff_energy_per_atom)))\n",
    "    print(\"Resulting MAE area per atom: {}\".format(mae(diff_area_per_atom)))\n",
    "    print(\"Resulting MAE area per atom sqrt: {}\".format(mae(diff_area_per_atom_sqrt)))\n",
    "    print(\"Mean area per atom sqrt: {}\".format(np.mean(area_per_atom_sqrt_arr)))\n",
    "    \n",
    "\n",
    "    return           "
   ]
  },
  {
   "cell_type": "code",
   "execution_count": 430,
   "id": "edf97ada-8c27-4657-937f-e424df3049f8",
   "metadata": {},
   "outputs": [
    {
     "name": "stdout",
     "output_type": "stream",
     "text": [
      "Start relaxation\n",
      "Structure sites: [PeriodicSite: O (3.2926, 0.0000, 8.1453) [0.6361, 0.0000, 0.4456], PeriodicSite: O (-1.6463, 2.8515, 8.1453) [0.0000, 0.6361, 0.4456], PeriodicSite: O (0.9418, 1.6313, 8.1453) [0.3639, 0.3639, 0.4456], PeriodicSite: O (-0.0000, 2.9885, 10.7729) [0.3333, 0.6667, 0.5893], PeriodicSite: O (2.5881, 1.4943, 10.7729) [0.6667, 0.3333, 0.5893], PeriodicSite: Ta (1.7741, 0.0000, 9.5973) [0.3427, 0.0000, 0.5250], PeriodicSite: Ta (-0.8871, 1.5364, 9.5973) [0.0000, 0.3427, 0.5250], PeriodicSite: Ta (1.7011, 2.9463, 9.5973) [0.6573, 0.6573, 0.5250], PeriodicSite: Ta (0.0000, 0.0000, 7.4918) [0.0000, 0.0000, 0.4098]]\n",
      "WARNING:tensorflow:You are casting an input of type complex64 to an incompatible dtype float32.  This will discard the imaginary part and may not be what you intended.\n"
     ]
    },
    {
     "name": "stderr",
     "output_type": "stream",
     "text": [
      "WARNING:tensorflow:You are casting an input of type complex64 to an incompatible dtype float32.  This will discard the imaginary part and may not be what you intended.\n"
     ]
    },
    {
     "name": "stdout",
     "output_type": "stream",
     "text": [
      "WARNING:tensorflow:You are casting an input of type complex64 to an incompatible dtype float32.  This will discard the imaginary part and may not be what you intended.\n"
     ]
    },
    {
     "name": "stderr",
     "output_type": "stream",
     "text": [
      "WARNING:tensorflow:You are casting an input of type complex64 to an incompatible dtype float32.  This will discard the imaginary part and may not be what you intended.\n",
      "2023-06-20 15:38:42.129817: I tensorflow/core/common_runtime/executor.cc:1197] [/device:CPU:0] (DEBUG INFO) Executor start aborting (this does not indicate an error and you can ignore this message): INVALID_ARGUMENT: You must feed a value for placeholder tensor 'graph_5' with dtype int32 and shape [1]\n",
      "\t [[{{node graph_5}}]]\n",
      "2023-06-20 15:38:42.129900: I tensorflow/core/common_runtime/executor.cc:1197] [/device:CPU:0] (DEBUG INFO) Executor start aborting (this does not indicate an error and you can ignore this message): INVALID_ARGUMENT: You must feed a value for placeholder tensor 'graph_6' with dtype int32 and shape [1]\n",
      "\t [[{{node graph_6}}]]\n",
      "2023-06-20 15:38:42.129956: I tensorflow/core/common_runtime/executor.cc:1197] [/device:CPU:0] (DEBUG INFO) Executor start aborting (this does not indicate an error and you can ignore this message): INVALID_ARGUMENT: You must feed a value for placeholder tensor 'graph_10' with dtype int32 and shape [234]\n",
      "\t [[{{node graph_10}}]]\n"
     ]
    },
    {
     "name": "stdout",
     "output_type": "stream",
     "text": [
      "WARNING:tensorflow:You are casting an input of type complex64 to an incompatible dtype float32.  This will discard the imaginary part and may not be what you intended.\n"
     ]
    },
    {
     "name": "stderr",
     "output_type": "stream",
     "text": [
      "WARNING:tensorflow:You are casting an input of type complex64 to an incompatible dtype float32.  This will discard the imaginary part and may not be what you intended.\n"
     ]
    },
    {
     "name": "stdout",
     "output_type": "stream",
     "text": [
      "      Step     Time          Energy         fmax\n",
      "*Force-consistent energies used in optimization.\n",
      "FIRE:    0 15:38:44      -85.200691*       0.7045\n",
      "WARNING:tensorflow:You are casting an input of type complex64 to an incompatible dtype float32.  This will discard the imaginary part and may not be what you intended.\n"
     ]
    },
    {
     "name": "stderr",
     "output_type": "stream",
     "text": [
      "WARNING:tensorflow:You are casting an input of type complex64 to an incompatible dtype float32.  This will discard the imaginary part and may not be what you intended.\n",
      "2023-06-20 15:38:45.050903: I tensorflow/core/common_runtime/executor.cc:1197] [/device:CPU:0] (DEBUG INFO) Executor start aborting (this does not indicate an error and you can ignore this message): INVALID_ARGUMENT: You must feed a value for placeholder tensor 'graph_3' with dtype int32 and shape [?,2]\n",
      "\t [[{{node graph_3}}]]\n",
      "2023-06-20 15:38:45.050987: I tensorflow/core/common_runtime/executor.cc:1197] [/device:CPU:0] (DEBUG INFO) Executor start aborting (this does not indicate an error and you can ignore this message): INVALID_ARGUMENT: You must feed a value for placeholder tensor 'graph_5' with dtype int32 and shape [1]\n",
      "\t [[{{node graph_5}}]]\n",
      "2023-06-20 15:38:45.051031: I tensorflow/core/common_runtime/executor.cc:1197] [/device:CPU:0] (DEBUG INFO) Executor start aborting (this does not indicate an error and you can ignore this message): INVALID_ARGUMENT: You must feed a value for placeholder tensor 'graph_6' with dtype int32 and shape [1]\n",
      "\t [[{{node graph_6}}]]\n",
      "2023-06-20 15:38:45.051070: I tensorflow/core/common_runtime/executor.cc:1197] [/device:CPU:0] (DEBUG INFO) Executor start aborting (this does not indicate an error and you can ignore this message): INVALID_ARGUMENT: You must feed a value for placeholder tensor 'graph_9' with dtype int32 and shape [?,2]\n",
      "\t [[{{node graph_9}}]]\n",
      "2023-06-20 15:38:45.051110: I tensorflow/core/common_runtime/executor.cc:1197] [/device:CPU:0] (DEBUG INFO) Executor start aborting (this does not indicate an error and you can ignore this message): INVALID_ARGUMENT: You must feed a value for placeholder tensor 'graph_10' with dtype int32 and shape [?]\n",
      "\t [[{{node graph_10}}]]\n"
     ]
    },
    {
     "name": "stdout",
     "output_type": "stream",
     "text": [
      "WARNING:tensorflow:You are casting an input of type complex64 to an incompatible dtype float32.  This will discard the imaginary part and may not be what you intended.\n"
     ]
    },
    {
     "name": "stderr",
     "output_type": "stream",
     "text": [
      "WARNING:tensorflow:You are casting an input of type complex64 to an incompatible dtype float32.  This will discard the imaginary part and may not be what you intended.\n"
     ]
    },
    {
     "name": "stdout",
     "output_type": "stream",
     "text": [
      "FIRE:    1 15:38:47      -85.210609*       1.8327\n",
      "FIRE:    2 15:38:47      -85.219719*       0.4719\n",
      "FIRE:    3 15:38:47      -85.222527*       1.4889\n",
      "FIRE:    4 15:38:47      -85.224854*       1.1578\n",
      "FIRE:    5 15:38:47      -85.228165*       0.5666\n",
      "FIRE:    6 15:38:47      -85.230980*       0.4281\n",
      "FIRE:    7 15:38:47      -85.233109*       0.7435\n",
      "FIRE:    8 15:38:47      -85.235786*       1.0520\n",
      "FIRE:    9 15:38:47      -85.239960*       1.0153\n",
      "FIRE:   10 15:38:47      -85.245331*       0.6711\n",
      "FIRE:   11 15:38:48      -85.251320*       0.3812\n",
      "FIRE:   12 15:38:48      -85.257118*       0.5558\n",
      "FIRE:   13 15:38:48      -85.263954*       0.7922\n",
      "FIRE:   14 15:38:48      -85.273140*       0.4351\n",
      "FIRE:   15 15:38:48      -85.282768*       0.3925\n",
      "FIRE:   16 15:38:48      -85.292603*       0.8029\n",
      "FIRE:   17 15:38:48      -85.304993*       0.3122\n",
      "FIRE:   18 15:38:48      -85.316895*       0.6784\n",
      "FIRE:   19 15:38:48      -85.331444*       0.3868\n",
      "FIRE:   20 15:38:48      -85.345451*       1.0087\n",
      "FIRE:   21 15:38:48      -85.363411*       0.4110\n",
      "FIRE:   22 15:38:48      -85.382561*       0.3856\n",
      "FIRE:   23 15:38:48      -85.402588*       1.1354\n",
      "FIRE:   24 15:38:48      -85.416946*       2.5485\n",
      "FIRE:   25 15:38:48      -85.428444*       0.3233\n",
      "FIRE:   26 15:38:48      -85.422089*       2.3605\n",
      "FIRE:   27 15:38:48      -85.425613*       1.8172\n",
      "FIRE:   28 15:38:48      -85.429703*       0.8703\n",
      "FIRE:   29 15:38:48      -85.431137*       0.3180\n",
      "FIRE:   30 15:38:48      -85.431190*       0.3169\n",
      "FIRE:   31 15:38:48      -85.431305*       0.3146\n",
      "FIRE:   32 15:38:48      -85.431458*       0.3113\n",
      "FIRE:   33 15:38:48      -85.431648*       0.3073\n",
      "FIRE:   34 15:38:48      -85.431885*       0.3027\n",
      "FIRE:   35 15:38:48      -85.432144*       0.2980\n",
      "FIRE:   36 15:38:48      -85.432434*       0.2935\n",
      "FIRE:   37 15:38:48      -85.432785*       0.2892\n",
      "FIRE:   38 15:38:48      -85.433235*       0.2855\n",
      "FIRE:   39 15:38:48      -85.433807*       0.2831\n",
      "FIRE:   40 15:38:49      -85.434517*       0.2823\n",
      "FIRE:   41 15:38:49      -85.435402*       0.2834\n",
      "FIRE:   42 15:38:49      -85.436478*       0.2858\n",
      "FIRE:   43 15:38:49      -85.437782*       0.2879\n",
      "FIRE:   44 15:38:49      -85.439346*       0.2873\n",
      "FIRE:   45 15:38:49      -85.441277*       0.2819\n",
      "FIRE:   46 15:38:49      -85.443604*       0.2713\n",
      "FIRE:   47 15:38:49      -85.446373*       0.2594\n",
      "FIRE:   48 15:38:49      -85.449661*       0.2522\n",
      "FIRE:   49 15:38:49      -85.453560*       0.2520\n",
      "FIRE:   50 15:38:49      -85.458130*       0.2497\n",
      "FIRE:   51 15:38:49      -85.463493*       0.2346\n",
      "FIRE:   52 15:38:49      -85.469696*       0.2186\n",
      "FIRE:   53 15:38:49      -85.476830*       0.2202\n",
      "FIRE:   54 15:38:49      -85.484978*       0.2036\n",
      "FIRE:   55 15:38:49      -85.494194*       0.1869\n",
      "FIRE:   56 15:38:49      -85.504410*       0.1956\n",
      "FIRE:   57 15:38:49      -85.514610*       0.7876\n",
      "FIRE:   58 15:38:49      -85.518082*       2.3841\n",
      "FIRE:   59 15:38:49      -85.526299*       0.1512\n",
      "FIRE:   60 15:38:49      -85.526352*       0.1169\n",
      "FIRE:   61 15:38:49      -85.526451*       0.1201\n",
      "FIRE:   62 15:38:49      -85.526581*       0.1235\n",
      "FIRE:   63 15:38:49      -85.526749*       0.1258\n",
      "FIRE:   64 15:38:49      -85.526962*       0.1261\n",
      "FIRE:   65 15:38:49      -85.527222*       0.1239\n",
      "FIRE:   66 15:38:50      -85.527512*       0.1201\n",
      "FIRE:   67 15:38:50      -85.527878*       0.1154\n",
      "FIRE:   68 15:38:50      -85.528305*       0.1120\n",
      "FIRE:   69 15:38:50      -85.528847*       0.1118\n",
      "FIRE:   70 15:38:50      -85.529495*       0.1141\n",
      "FIRE:   71 15:38:50      -85.530258*       0.1145\n",
      "FIRE:   72 15:38:50      -85.531174*       0.1088\n",
      "FIRE:   73 15:38:50      -85.532219*       0.1013\n",
      "FIRE:   74 15:38:50      -85.533432*       0.1017\n",
      "FIRE:   75 15:38:50      -85.534782*       0.1013\n",
      "FIRE:   76 15:38:50      -85.536255*       0.1119\n",
      "FIRE:   77 15:38:50      -85.537781*       0.1104\n",
      "FIRE:   78 15:38:50      -85.539261*       0.2433\n",
      "FIRE:   79 15:38:50      -85.540390*       0.5098\n",
      "FIRE:   80 15:38:50      -85.540756*       0.0793\n",
      "Start relaxation\n",
      "Structure sites: [PeriodicSite: Mn (0.9763, 8.4357, 9.4028) [0.2500, 0.6185, 0.5000], PeriodicSite: Mn (2.9289, 5.2041, 9.4010) [0.7500, 0.3815, 0.5000], PeriodicSite: Br (2.9289, 9.6230, 7.9144) [0.7500, 0.7055, 0.4209], PeriodicSite: Br (2.9289, 7.3909, 10.9417) [0.7500, 0.5419, 0.5819], PeriodicSite: Br (0.9763, 4.0168, 10.8894) [0.2500, 0.2945, 0.5791], PeriodicSite: Br (0.9763, 12.9952, 7.4985) [0.2500, 0.9527, 0.3988], PeriodicSite: Br (2.9289, 2.9000, 7.7831) [0.7500, 0.2126, 0.4139], PeriodicSite: Br (0.9763, 10.7399, 11.0207) [0.2500, 0.7874, 0.5861], PeriodicSite: Br (2.9289, 0.6447, 11.3052) [0.7500, 0.0473, 0.6012], PeriodicSite: Br (0.9763, 6.2490, 7.8621) [0.2500, 0.4581, 0.4181], PeriodicSite: Dy (0.9763, 1.5367, 9.3904) [0.2500, 0.1127, 0.4994], PeriodicSite: Dy (2.9289, 12.1032, 9.4134) [0.7500, 0.8873, 0.5006]]\n",
      "WARNING:tensorflow:You are casting an input of type complex64 to an incompatible dtype float32.  This will discard the imaginary part and may not be what you intended.\n"
     ]
    },
    {
     "name": "stderr",
     "output_type": "stream",
     "text": [
      "WARNING:tensorflow:You are casting an input of type complex64 to an incompatible dtype float32.  This will discard the imaginary part and may not be what you intended.\n",
      "2023-06-20 15:38:51.564877: I tensorflow/core/common_runtime/executor.cc:1197] [/device:CPU:0] (DEBUG INFO) Executor start aborting (this does not indicate an error and you can ignore this message): INVALID_ARGUMENT: You must feed a value for placeholder tensor 'graph_3' with dtype int32 and shape [?,2]\n",
      "\t [[{{node graph_3}}]]\n",
      "2023-06-20 15:38:51.564959: I tensorflow/core/common_runtime/executor.cc:1197] [/device:CPU:0] (DEBUG INFO) Executor start aborting (this does not indicate an error and you can ignore this message): INVALID_ARGUMENT: You must feed a value for placeholder tensor 'graph_5' with dtype int32 and shape [1]\n",
      "\t [[{{node graph_5}}]]\n",
      "2023-06-20 15:38:51.565004: I tensorflow/core/common_runtime/executor.cc:1197] [/device:CPU:0] (DEBUG INFO) Executor start aborting (this does not indicate an error and you can ignore this message): INVALID_ARGUMENT: You must feed a value for placeholder tensor 'graph_6' with dtype int32 and shape [1]\n",
      "\t [[{{node graph_6}}]]\n",
      "2023-06-20 15:38:51.565044: I tensorflow/core/common_runtime/executor.cc:1197] [/device:CPU:0] (DEBUG INFO) Executor start aborting (this does not indicate an error and you can ignore this message): INVALID_ARGUMENT: You must feed a value for placeholder tensor 'graph_9' with dtype int32 and shape [?,2]\n",
      "\t [[{{node graph_9}}]]\n",
      "2023-06-20 15:38:51.565084: I tensorflow/core/common_runtime/executor.cc:1197] [/device:CPU:0] (DEBUG INFO) Executor start aborting (this does not indicate an error and you can ignore this message): INVALID_ARGUMENT: You must feed a value for placeholder tensor 'graph_10' with dtype int32 and shape [?]\n",
      "\t [[{{node graph_10}}]]\n"
     ]
    },
    {
     "name": "stdout",
     "output_type": "stream",
     "text": [
      "WARNING:tensorflow:You are casting an input of type complex64 to an incompatible dtype float32.  This will discard the imaginary part and may not be what you intended.\n"
     ]
    },
    {
     "name": "stderr",
     "output_type": "stream",
     "text": [
      "WARNING:tensorflow:You are casting an input of type complex64 to an incompatible dtype float32.  This will discard the imaginary part and may not be what you intended.\n"
     ]
    },
    {
     "name": "stdout",
     "output_type": "stream",
     "text": [
      "      Step     Time          Energy         fmax\n",
      "*Force-consistent energies used in optimization.\n",
      "FIRE:    0 15:38:54      -55.231182*       0.6863\n",
      "FIRE:    1 15:38:54      -55.233673*       0.2577\n",
      "FIRE:    2 15:38:54      -55.233917*       0.1103\n",
      "FIRE:    3 15:38:54      -55.234203*       0.1066\n",
      "FIRE:    4 15:38:54      -55.234558*       0.2045\n",
      "FIRE:    5 15:38:54      -55.235123*       0.1529\n",
      "FIRE:    6 15:38:54      -55.235775*       0.0998\n",
      "Start relaxation\n",
      "Structure sites: [PeriodicSite: Ag (7.8407, 5.0925, 10.4343) [0.6252, 0.6117, 0.5818], PeriodicSite: Ag (7.8405, 5.0935, 7.5007) [0.6249, 0.6119, 0.4182], PeriodicSite: Ag (5.0579, 4.3674, 7.4995) [0.1252, 0.6117, 0.4182], PeriodicSite: Ag (5.0577, 4.3684, 10.4331) [0.1249, 0.6119, 0.5818], PeriodicSite: P (2.5810, 1.2297, 10.0454) [0.3206, 0.1118, 0.5601], PeriodicSite: P (3.1867, 1.3878, 7.8853) [0.4293, 0.1118, 0.4397], PeriodicSite: P (5.3638, 1.9548, 7.8883) [0.8206, 0.1118, 0.4399], PeriodicSite: P (5.9695, 2.1129, 10.0484) [0.9293, 0.1118, 0.5603]]\n",
      "      Step     Time          Energy         fmax\n",
      "*Force-consistent energies used in optimization.\n",
      "FIRE:    0 15:38:54      -30.937737*       1.3534\n",
      "FIRE:    1 15:38:54      -30.934515*       2.3610\n",
      "FIRE:    2 15:38:54      -30.940401*       0.5748\n",
      "FIRE:    3 15:38:54      -30.938368*       1.4612\n",
      "FIRE:    4 15:38:54      -30.939241*       1.2108\n",
      "FIRE:    5 15:38:54      -30.940416*       0.7467\n",
      "FIRE:    6 15:38:54      -30.941120*       0.1420\n",
      "FIRE:    7 15:38:54      -30.940933*       0.4801\n",
      "FIRE:    8 15:38:54      -30.940966*       0.4573\n",
      "FIRE:    9 15:38:54      -30.941023*       0.4126\n",
      "FIRE:   10 15:38:54      -30.941095*       0.3486\n",
      "FIRE:   11 15:38:54      -30.941179*       0.2683\n",
      "FIRE:   12 15:38:54      -30.941256*       0.1759\n",
      "FIRE:   13 15:38:54      -30.941313*       0.0793\n",
      "Start relaxation\n",
      "Structure sites: [PeriodicSite: K (9.7415, 5.1277, 7.5461) [0.8002, 0.5640, 0.5008], PeriodicSite: K (2.4328, 5.1277, 7.5461) [0.1998, 0.5640, 0.5008], PeriodicSite: K (3.6543, 0.5816, 7.5461) [0.3002, 0.0640, 0.5008], PeriodicSite: K (8.5200, 0.5816, 7.5461) [0.6998, 0.0640, 0.5008], PeriodicSite: Ag (12.1743, 7.5631, 7.5150) [1.0000, 0.8318, 0.4987], PeriodicSite: Ag (6.0872, 3.0171, 7.5150) [0.5000, 0.3318, 0.4987], PeriodicSite: F (2.1372, 7.6817, 7.5070) [0.1756, 0.8449, 0.4982], PeriodicSite: F (10.0371, 7.6817, 7.5070) [0.8244, 0.8449, 0.4982], PeriodicSite: F (8.2244, 3.1356, 7.5070) [0.6756, 0.3449, 0.4982], PeriodicSite: F (3.9499, 3.1356, 7.5070) [0.3244, 0.3449, 0.4982], PeriodicSite: F (12.1743, 5.0584, 7.5822) [1.0000, 0.5563, 0.5032], PeriodicSite: F (6.0872, 0.5123, 7.5822) [0.5000, 0.0563, 0.5032]]\n",
      "      Step     Time          Energy         fmax\n",
      "*Force-consistent energies used in optimization.\n",
      "FIRE:    0 15:38:54      -44.419952*       1.0640\n",
      "FIRE:    1 15:38:54      -44.417606*       2.1231\n",
      "FIRE:    2 15:38:54      -44.422928*       0.4135\n",
      "FIRE:    3 15:38:54      -44.421268*       1.4921\n",
      "FIRE:    4 15:38:55      -44.422264*       1.2185\n",
      "FIRE:    5 15:38:55      -44.423611*       0.7159\n",
      "FIRE:    6 15:38:55      -44.424461*       0.1388\n",
      "FIRE:    7 15:38:55      -44.424500*       0.5407\n",
      "FIRE:    8 15:38:55      -44.424553*       0.5135\n",
      "FIRE:    9 15:38:55      -44.424656*       0.4606\n",
      "FIRE:   10 15:38:55      -44.424793*       0.3849\n",
      "FIRE:   11 15:38:55      -44.424950*       0.2906\n",
      "FIRE:   12 15:38:55      -44.425114*       0.1835\n",
      "FIRE:   13 15:38:55      -44.425278*       0.1377\n",
      "FIRE:   14 15:38:55      -44.425426*       0.1341\n",
      "FIRE:   15 15:38:55      -44.425602*       0.1421\n",
      "FIRE:   16 15:38:55      -44.425800*       0.2283\n",
      "FIRE:   17 15:38:55      -44.426056*       0.2822\n",
      "FIRE:   18 15:38:55      -44.426392*       0.2907\n",
      "FIRE:   19 15:38:55      -44.426823*       0.2438\n",
      "FIRE:   20 15:38:55      -44.427349*       0.1391\n",
      "FIRE:   21 15:38:55      -44.427944*       0.1194\n",
      "FIRE:   22 15:38:55      -44.428596*       0.1483\n",
      "FIRE:   23 15:38:55      -44.429363*       0.2146\n",
      "FIRE:   24 15:38:55      -44.430290*       0.1590\n",
      "FIRE:   25 15:38:55      -44.431335*       0.0946\n",
      "Start relaxation\n",
      "Structure sites: [PeriodicSite: As (0.0000, 5.5099, 9.6396) [0.3333, 0.6667, 0.5368], PeriodicSite: As (4.7717, 2.7550, 9.6396) [0.6667, 0.3333, 0.5368], PeriodicSite: As (0.0000, 0.0000, 10.3469) [0.0000, 0.0000, 0.5762], PeriodicSite: In (-0.0015, 2.8491, 9.3237) [0.1722, 0.3447, 0.5192], PeriodicSite: In (2.3051, 6.8390, 9.3237) [0.6553, 0.8275, 0.5192], PeriodicSite: In (-2.3036, 6.8416, 9.3237) [0.1725, 0.8278, 0.5192], PeriodicSite: In (4.7732, 5.4158, 9.3237) [0.8278, 0.6553, 0.5192], PeriodicSite: In (2.4667, 1.4259, 9.3237) [0.3447, 0.1725, 0.5192], PeriodicSite: In (7.0753, 1.4233, 9.3237) [0.8275, 0.1722, 0.5192], PeriodicSite: In (4.7717, -0.0000, 7.3904) [0.5000, 0.0000, 0.4116], PeriodicSite: In (-2.3859, 4.1324, 7.3904) [0.0000, 0.5000, 0.4116], PeriodicSite: In (2.3859, 4.1324, 7.3904) [0.5000, 0.5000, 0.4116]]\n",
      "      Step     Time          Energy         fmax\n",
      "*Force-consistent energies used in optimization.\n",
      "FIRE:    0 15:38:55      -34.037983*       1.2830\n",
      "FIRE:    1 15:38:55      -34.023369*       3.4001\n",
      "FIRE:    2 15:38:55      -34.044292*       0.3601\n",
      "FIRE:    3 15:38:55      -34.030727*       3.0767\n",
      "FIRE:    4 15:38:55      -34.037449*       2.3399\n",
      "FIRE:    5 15:38:55      -34.045044*       1.0571\n",
      "FIRE:    6 15:38:55      -34.047184*       0.4515\n",
      "FIRE:    7 15:38:55      -34.047268*       0.4256\n",
      "FIRE:    8 15:38:55      -34.047421*       0.3754\n",
      "FIRE:    9 15:38:55      -34.047638*       0.3040\n",
      "FIRE:   10 15:38:55      -34.047901*       0.2163\n",
      "FIRE:   11 15:38:55      -34.048183*       0.1968\n",
      "FIRE:   12 15:38:55      -34.048481*       0.1999\n",
      "FIRE:   13 15:38:55      -34.048798*       0.2028\n",
      "FIRE:   14 15:38:56      -34.049194*       0.2055\n",
      "FIRE:   15 15:38:56      -34.049683*       0.2078\n",
      "FIRE:   16 15:38:56      -34.050316*       0.2281\n",
      "FIRE:   17 15:38:56      -34.051128*       0.2084\n",
      "FIRE:   18 15:38:56      -34.052143*       0.2068\n",
      "FIRE:   19 15:38:56      -34.053364*       0.2042\n",
      "FIRE:   20 15:38:56      -34.054810*       0.2016\n",
      "FIRE:   21 15:38:56      -34.056568*       0.2008\n",
      "FIRE:   22 15:38:56      -34.058750*       0.2032\n",
      "FIRE:   23 15:38:56      -34.061401*       0.2089\n",
      "FIRE:   24 15:38:56      -34.064529*       0.2153\n",
      "FIRE:   25 15:38:56      -34.068302*       0.2179\n",
      "FIRE:   26 15:38:56      -34.072838*       0.2153\n",
      "FIRE:   27 15:38:56      -34.078156*       0.2135\n",
      "FIRE:   28 15:38:56      -34.084484*       0.2200\n",
      "FIRE:   29 15:38:56      -34.091824*       0.2275\n",
      "FIRE:   30 15:38:56      -34.100372*       0.2204\n",
      "FIRE:   31 15:38:56      -34.110146*       0.2203\n",
      "FIRE:   32 15:38:56      -34.121117*       0.2239\n",
      "FIRE:   33 15:38:56      -34.132832*       0.4712\n",
      "FIRE:   34 15:38:56      -34.143631*       1.0522\n",
      "FIRE:   35 15:38:56      -34.147305*       2.4137\n",
      "FIRE:   36 15:38:56      -34.157368*       0.1578\n",
      "FIRE:   37 15:38:56      -34.149666*       2.2574\n",
      "FIRE:   38 15:38:56      -34.153362*       1.6850\n",
      "FIRE:   39 15:38:56      -34.157318*       0.6956\n",
      "FIRE:   40 15:38:56      -34.157986*       0.4492\n",
      "FIRE:   41 15:38:56      -34.158035*       0.4225\n",
      "FIRE:   42 15:38:56      -34.158134*       0.3708\n",
      "FIRE:   43 15:38:56      -34.158245*       0.2972\n",
      "FIRE:   44 15:38:56      -34.158371*       0.2066\n",
      "FIRE:   45 15:38:56      -34.158482*       0.1550\n",
      "FIRE:   46 15:38:56      -34.158581*       0.1586\n",
      "FIRE:   47 15:38:57      -34.158661*       0.1616\n",
      "FIRE:   48 15:38:57      -34.158760*       0.1641\n",
      "FIRE:   49 15:38:57      -34.158882*       0.2126\n",
      "FIRE:   50 15:38:57      -34.159061*       0.2237\n",
      "FIRE:   51 15:38:57      -34.159321*       0.1883\n",
      "FIRE:   52 15:38:57      -34.159634*       0.1595\n",
      "FIRE:   53 15:38:57      -34.159985*       0.1541\n",
      "FIRE:   54 15:38:57      -34.160374*       0.1485\n",
      "FIRE:   55 15:38:57      -34.160847*       0.1938\n",
      "FIRE:   56 15:38:57      -34.161465*       0.1564\n",
      "FIRE:   57 15:38:57      -34.162216*       0.1472\n",
      "FIRE:   58 15:38:57      -34.163063*       0.1500\n",
      "FIRE:   59 15:38:57      -34.164097*       0.1472\n",
      "FIRE:   60 15:38:57      -34.165371*       0.1373\n",
      "FIRE:   61 15:38:57      -34.166817*       0.1625\n",
      "FIRE:   62 15:38:57      -34.168583*       0.1261\n",
      "FIRE:   63 15:38:57      -34.170586*       0.1515\n",
      "FIRE:   64 15:38:57      -34.172958*       0.1090\n",
      "FIRE:   65 15:38:57      -34.175625*       0.1044\n",
      "FIRE:   66 15:38:57      -34.178539*       0.2215\n",
      "FIRE:   67 15:38:57      -34.181538*       0.4153\n",
      "FIRE:   68 15:38:57      -34.184185*       0.7130\n",
      "FIRE:   69 15:38:57      -34.185078*       0.1003\n",
      "FIRE:   70 15:38:57      -34.184696*       0.5838\n",
      "FIRE:   71 15:38:57      -34.184921*       0.4625\n",
      "FIRE:   72 15:38:57      -34.185200*       0.2450\n",
      "FIRE:   73 15:38:57      -34.185341*       0.0977\n",
      "Start relaxation\n",
      "Structure sites: [PeriodicSite: Pd (3.7734, 1.0356, 8.7130) [0.6768, 0.1860, 0.5021], PeriodicSite: Pd (1.8011, 4.5299, 8.7130) [0.3232, 0.8140, 0.5021], PeriodicSite: Pd (4.5889, 3.8179, 8.6416) [0.8232, 0.6860, 0.4979], PeriodicSite: Pd (0.9856, 1.7476, 8.6416) [0.1768, 0.3140, 0.4979], PeriodicSite: N (5.3933, 0.5746, 9.8545) [0.9673, 0.1031, 0.5678], PeriodicSite: N (0.1813, 4.9909, 9.8545) [0.0327, 0.8969, 0.5678], PeriodicSite: N (2.9693, 3.3562, 7.5000) [0.5327, 0.6031, 0.4322], PeriodicSite: N (2.6053, 2.2093, 7.5000) [0.4673, 0.3969, 0.4322]]\n",
      "      Step     Time          Energy         fmax\n",
      "*Force-consistent energies used in optimization.\n",
      "FIRE:    0 15:38:57      -50.205566*       1.0483\n",
      "FIRE:    1 15:38:57      -50.185833*       5.5433\n",
      "FIRE:    2 15:38:57      -50.206093*       2.1837\n",
      "FIRE:    3 15:38:57      -50.208618*       1.3558\n",
      "FIRE:    4 15:38:57      -50.210545*       0.2207\n",
      "FIRE:    5 15:38:57      -50.210052*       1.2473\n",
      "FIRE:    6 15:38:58      -50.210270*       1.1434\n",
      "FIRE:    7 15:38:58      -50.210640*       0.9448\n",
      "FIRE:    8 15:38:58      -50.211060*       0.6691\n",
      "FIRE:    9 15:38:58      -50.211426*       0.3433\n",
      "FIRE:   10 15:38:58      -50.211678*       0.2160\n",
      "FIRE:   11 15:38:58      -50.211834*       0.2861\n",
      "FIRE:   12 15:38:58      -50.211979*       0.4903\n",
      "FIRE:   13 15:38:58      -50.212227*       0.5979\n",
      "FIRE:   14 15:38:58      -50.212662*       0.5804\n",
      "FIRE:   15 15:38:58      -50.213295*       0.4195\n",
      "FIRE:   16 15:38:58      -50.214027*       0.2041\n",
      "FIRE:   17 15:38:58      -50.214729*       0.2426\n",
      "FIRE:   18 15:38:58      -50.215443*       0.5091\n",
      "FIRE:   19 15:38:58      -50.216412*       0.5356\n",
      "FIRE:   20 15:38:58      -50.217709*       0.2614\n",
      "FIRE:   21 15:38:58      -50.219059*       0.2085\n",
      "FIRE:   22 15:38:58      -50.220505*       0.4464\n",
      "FIRE:   23 15:38:58      -50.222404*       0.1904\n",
      "FIRE:   24 15:38:58      -50.224350*       0.3492\n",
      "FIRE:   25 15:38:58      -50.226616*       0.2935\n",
      "FIRE:   26 15:38:58      -50.229061*       0.4012\n",
      "FIRE:   27 15:38:58      -50.231819*       0.2182\n",
      "FIRE:   28 15:38:58      -50.234474*       0.5575\n",
      "FIRE:   29 15:38:58      -50.237587*       0.4630\n",
      "FIRE:   30 15:38:58      -50.240719*       0.2080\n",
      "FIRE:   31 15:38:58      -50.243706*       0.3334\n",
      "FIRE:   32 15:38:58      -50.245785*       1.0988\n",
      "FIRE:   33 15:38:58      -50.246754*       0.0795\n",
      "Start relaxation\n",
      "Structure sites: [PeriodicSite: Tl (4.3810, 0.0000, 10.1639) [0.5000, 0.0000, 0.5000], PeriodicSite: Tl (0.0000, 1.8617, 10.1639) [-0.0000, 0.5000, 0.5000], PeriodicSite: K (6.5716, 2.7925, 7.5000) [0.7500, 0.7500, 0.3690], PeriodicSite: K (6.5716, 0.9308, 12.8277) [0.7500, 0.2500, 0.6310], PeriodicSite: K (2.1905, 2.7925, 7.5000) [0.2500, 0.7500, 0.3690], PeriodicSite: K (2.1905, 0.9308, 12.8277) [0.2500, 0.2500, 0.6310]]\n",
      "      Step     Time          Energy         fmax\n",
      "*Force-consistent energies used in optimization.\n",
      "FIRE:    0 15:38:58       -7.927098*       4.7581\n",
      "FIRE:    1 15:38:58       -8.002347*       0.8743\n",
      "FIRE:    2 15:38:58       -7.989939*       1.7598\n",
      "FIRE:    3 15:38:58       -7.995144*       1.5247\n",
      "FIRE:    4 15:38:58       -8.002698*       1.0807\n",
      "FIRE:    5 15:38:58       -8.008499*       0.5106\n",
      "FIRE:    6 15:38:58       -8.009873*       0.3022\n",
      "FIRE:    7 15:38:59       -8.009911*       0.2888\n",
      "FIRE:    8 15:38:59       -8.009975*       0.2626\n",
      "FIRE:    9 15:38:59       -8.010061*       0.2247\n",
      "FIRE:   10 15:38:59       -8.010151*       0.1769\n",
      "FIRE:   11 15:38:59       -8.010226*       0.1212\n",
      "FIRE:   12 15:38:59       -8.010278*       0.0601\n",
      "Start relaxation\n",
      "Structure sites: [PeriodicSite: I (4.3942, 0.3565, 9.6761) [0.3763, 0.0641, 0.5320], PeriodicSite: I (7.4130, 2.0442, 8.4168) [0.7776, 0.2321, 0.4627], PeriodicSite: I (-1.9606, 10.0107, 8.3568) [0.8383, 0.8450, 0.4594], PeriodicSite: I (-6.5996, 11.4801, 9.6761) [0.6237, 0.9359, 0.5320], PeriodicSite: I (-9.6184, 9.7924, 8.4168) [0.2224, 0.7679, 0.4627], PeriodicSite: I (-0.2448, 1.8260, 8.3568) [0.1617, 0.1550, 0.4594], PeriodicSite: I (-6.4500, 7.9274, 8.6998) [0.2838, 0.6318, 0.4783], PeriodicSite: I (4.2446, 3.9093, 8.6998) [0.7162, 0.3682, 0.4783], PeriodicSite: I (0.0000, 0.0000, 11.5509) [-0.0000, -0.0000, 0.6351], PeriodicSite: B (-7.5520, 9.7293, 8.9299) [0.3765, 0.7782, 0.4910], PeriodicSite: B (5.3466, 2.1074, 8.9299) [0.6235, 0.2218, 0.4910], PeriodicSite: B (0.0000, 0.0000, 9.4223) [-0.0000, -0.0000, 0.5180]]\n",
      "      Step     Time          Energy         fmax\n",
      "*Force-consistent energies used in optimization.\n",
      "FIRE:    0 15:38:59      -33.966976*       0.7106\n",
      "FIRE:    1 15:38:59      -33.961845*       2.3506\n",
      "FIRE:    2 15:38:59      -33.967815*       0.1181\n",
      "FIRE:    3 15:38:59      -33.967827*       0.0945\n",
      "Start relaxation\n",
      "Structure sites: [PeriodicSite: I (0.0000, 0.1952, 11.1703) [0.0000, 0.0234, 0.5989], PeriodicSite: I (4.5028, 4.3637, 11.1703) [0.5000, 0.5234, 0.5989], PeriodicSite: Sr (2.2510, 6.4486, 9.5427) [0.2500, 0.7735, 0.5117], PeriodicSite: Sr (6.7546, 6.4486, 9.5427) [0.7500, 0.7735, 0.5117], PeriodicSite: Sr (6.7538, 2.2800, 9.5427) [0.7500, 0.2735, 0.5117], PeriodicSite: Sr (2.2518, 2.2800, 9.5427) [0.2500, 0.2735, 0.5117], PeriodicSite: Br (2.4195, 4.3643, 7.5199) [0.2687, 0.5235, 0.4032], PeriodicSite: Br (6.5861, 4.3643, 7.5199) [0.7313, 0.5235, 0.4032], PeriodicSite: Br (6.9223, 0.1958, 7.5199) [0.7687, 0.0235, 0.4032], PeriodicSite: Br (2.0833, 0.1958, 7.5199) [0.2313, 0.0235, 0.4032], PeriodicSite: Br (0.0000, 4.3645, 10.6559) [0.0000, 0.5235, 0.5714], PeriodicSite: Br (4.5028, 0.1960, 10.6559) [0.5000, 0.0235, 0.5714]]\n",
      "      Step     Time          Energy         fmax\n",
      "*Force-consistent energies used in optimization.\n",
      "FIRE:    0 15:38:59      -41.617424*       2.5226\n",
      "FIRE:    1 15:38:59      -41.616920*       2.8008\n",
      "FIRE:    2 15:38:59      -41.631050*       1.3992\n",
      "FIRE:    3 15:38:59      -41.635048*       0.7537\n",
      "FIRE:    4 15:38:59      -41.635376*       0.6572\n",
      "FIRE:    5 15:38:59      -41.635891*       0.4774\n",
      "FIRE:    6 15:38:59      -41.636398*       0.2389\n",
      "FIRE:    7 15:38:59      -41.636726*       0.1108\n",
      "FIRE:    8 15:38:59      -41.636875*       0.2500\n",
      "FIRE:    9 15:38:59      -41.636902*       0.2419\n",
      "FIRE:   10 15:38:59      -41.636936*       0.2262\n",
      "FIRE:   11 15:38:59      -41.636993*       0.2032\n",
      "FIRE:   12 15:38:59      -41.637066*       0.1738\n",
      "FIRE:   13 15:38:59      -41.637154*       0.1392\n",
      "FIRE:   14 15:38:59      -41.637245*       0.1103\n",
      "FIRE:   15 15:38:59      -41.637348*       0.1097\n",
      "FIRE:   16 15:38:59      -41.637463*       0.1089\n",
      "FIRE:   17 15:38:59      -41.637604*       0.1082\n",
      "FIRE:   18 15:38:59      -41.637772*       0.1073\n",
      "FIRE:   19 15:38:59      -41.637978*       0.1064\n",
      "FIRE:   20 15:38:59      -41.638237*       0.1258\n",
      "FIRE:   21 15:38:59      -41.638569*       0.1244\n",
      "FIRE:   22 15:38:59      -41.638977*       0.1042\n",
      "FIRE:   23 15:38:59      -41.639465*       0.1035\n",
      "FIRE:   24 15:38:59      -41.640045*       0.1027\n",
      "FIRE:   25 15:38:59      -41.640732*       0.1015\n",
      "FIRE:   26 15:38:59      -41.641567*       0.0996\n",
      "Start relaxation\n",
      "Structure sites: [PeriodicSite: Mn (-0.0000, 4.7666, 9.1365) [0.3333, 0.6667, 0.5117], PeriodicSite: Mn (4.1280, 2.3833, 9.1365) [0.6667, 0.3333, 0.5117], PeriodicSite: Mn (0.0000, 0.0000, 8.4310) [-0.0000, -0.0000, 0.4722], PeriodicSite: F (1.4193, 5.4271, 9.8965) [0.5514, 0.7590, 0.5542], PeriodicSite: F (-1.2817, 5.6656, 9.8965) [0.2410, 0.7924, 0.5542], PeriodicSite: F (-0.1377, 3.2072, 9.8965) [0.2076, 0.4486, 0.5542], PeriodicSite: F (3.9904, 3.9427, 9.8965) [0.7590, 0.5514, 0.5542], PeriodicSite: F (5.5473, 1.7228, 9.8965) [0.7924, 0.2410, 0.5542], PeriodicSite: F (2.8464, 1.4844, 9.8965) [0.4486, 0.2076, 0.5542], PeriodicSite: F (6.7028, 0.0000, 7.6421) [0.8119, -0.0000, 0.4280], PeriodicSite: F (-3.3514, 5.8048, 7.6421) [-0.0000, 0.8119, 0.4280], PeriodicSite: F (0.7766, 1.3451, 7.6421) [0.1881, 0.1881, 0.4280], PeriodicSite: F (-0.0000, 4.7666, 7.3526) [0.3333, 0.6667, 0.4118], PeriodicSite: F (4.1280, 2.3833, 7.3526) [0.6667, 0.3333, 0.4118], PeriodicSite: F (0.0000, 0.0000, 10.2051) [-0.0000, -0.0000, 0.5715]]\n",
      "      Step     Time          Energy         fmax\n",
      "*Force-consistent energies used in optimization.\n",
      "FIRE:    0 15:39:00      -72.000648*       1.6743\n",
      "FIRE:    1 15:39:00      -72.004402*       1.5555\n",
      "FIRE:    2 15:39:00      -72.015305*       0.5846\n",
      "FIRE:    3 15:39:00      -72.020981*       0.8939\n",
      "FIRE:    4 15:39:00      -72.021881*       0.8017\n",
      "FIRE:    5 15:39:00      -72.023514*       0.6333\n",
      "FIRE:    6 15:39:00      -72.025612*       0.4184\n",
      "FIRE:    7 15:39:00      -72.028038*       0.3132\n",
      "FIRE:    8 15:39:00      -72.030861*       0.3336\n",
      "FIRE:    9 15:39:00      -72.034309*       0.3467\n",
      "FIRE:   10 15:39:00      -72.038574*       0.3502\n",
      "FIRE:   11 15:39:00      -72.044266*       0.3431\n",
      "FIRE:   12 15:39:00      -72.051575*       0.3262\n",
      "FIRE:   13 15:39:00      -72.060684*       0.4053\n",
      "FIRE:   14 15:39:00      -72.072151*       0.5867\n",
      "FIRE:   15 15:39:00      -72.087097*       0.6005\n",
      "FIRE:   16 15:39:00      -72.106552*       0.4012\n",
      "FIRE:   17 15:39:00      -72.131348*       0.3827\n",
      "FIRE:   18 15:39:00      -72.163605*       0.4011\n",
      "FIRE:   19 15:39:00      -72.205795*       0.3839\n",
      "FIRE:   20 15:39:00      -72.259514*       0.6248\n",
      "FIRE:   21 15:39:00      -72.327965*       0.4173\n",
      "FIRE:   22 15:39:00      -72.413460*       0.4457\n",
      "FIRE:   23 15:39:00      -72.519226*       0.8061\n",
      "FIRE:   24 15:39:00      -72.645920*       0.4248\n",
      "FIRE:   25 15:39:00      -72.783478*       1.5519\n",
      "FIRE:   26 15:39:00      -72.885323*       3.5814\n",
      "FIRE:   27 15:39:00      -72.919304*       0.3028\n",
      "FIRE:   28 15:39:00      -72.919800*       0.2794\n",
      "FIRE:   29 15:39:01      -72.920776*       0.2492\n",
      "FIRE:   30 15:39:01      -72.922226*       0.2524\n",
      "FIRE:   31 15:39:01      -72.924133*       0.2539\n",
      "FIRE:   32 15:39:01      -72.926491*       0.2523\n",
      "FIRE:   33 15:39:01      -72.929283*       0.2472\n",
      "FIRE:   34 15:39:01      -72.932480*       0.2391\n",
      "FIRE:   35 15:39:01      -72.936455*       0.2289\n",
      "FIRE:   36 15:39:01      -72.941322*       0.2423\n",
      "FIRE:   37 15:39:01      -72.947250*       0.2274\n",
      "FIRE:   38 15:39:01      -72.954369*       0.2078\n",
      "FIRE:   39 15:39:01      -72.962822*       0.2009\n",
      "FIRE:   40 15:39:01      -72.972748*       0.1848\n",
      "FIRE:   41 15:39:01      -72.984222*       0.2038\n"
     ]
    },
    {
     "ename": "KeyboardInterrupt",
     "evalue": "",
     "output_type": "error",
     "traceback": [
      "\u001b[0;31m---------------------------------------------------------------------------\u001b[0m",
      "\u001b[0;31mKeyboardInterrupt\u001b[0m                         Traceback (most recent call last)",
      "Cell \u001b[0;32mIn[430], line 5\u001b[0m\n\u001b[1;32m      3\u001b[0m \u001b[38;5;28;01mimport\u001b[39;00m \u001b[38;5;21;01mtensorflow\u001b[39;00m \u001b[38;5;28;01mas\u001b[39;00m \u001b[38;5;21;01mtf\u001b[39;00m\n\u001b[1;32m      4\u001b[0m tf\u001b[38;5;241m.\u001b[39mget_logger()\u001b[38;5;241m.\u001b[39msetLevel(\u001b[38;5;124m'\u001b[39m\u001b[38;5;124mINFO\u001b[39m\u001b[38;5;124m'\u001b[39m)\n\u001b[0;32m----> 5\u001b[0m \u001b[43mm3gnet_final_relax\u001b[49m\u001b[43m(\u001b[49m\u001b[43mmodel_path\u001b[49m\u001b[43m,\u001b[49m\u001b[43m \u001b[49m\u001b[43mruns_relaxed\u001b[49m\u001b[43m[\u001b[49m\u001b[43m:\u001b[49m\u001b[38;5;241;43m2\u001b[39;49m\u001b[43m]\u001b[49m\u001b[43m,\u001b[49m\u001b[43m \u001b[49m\u001b[43mreformated_run\u001b[49m\u001b[43m)\u001b[49m\n",
      "Cell \u001b[0;32mIn[427], line 40\u001b[0m, in \u001b[0;36mm3gnet_final_relax\u001b[0;34m(model_path, runs_relaxed, train_run)\u001b[0m\n\u001b[1;32m     38\u001b[0m nr_sites \u001b[38;5;241m=\u001b[39m \u001b[38;5;28mlen\u001b[39m(final_structure_training) \u001b[38;5;66;03m#These should be the same to the # of sites in the relaxed structure training set\u001b[39;00m\n\u001b[1;32m     39\u001b[0m final_structure_training_energy \u001b[38;5;241m=\u001b[39m train_run[\u001b[38;5;28mid\u001b[39m][key][\u001b[38;5;241m-\u001b[39m\u001b[38;5;241m1\u001b[39m][\u001b[38;5;124m\"\u001b[39m\u001b[38;5;124menergy\u001b[39m\u001b[38;5;124m\"\u001b[39m]\u001b[38;5;241m/\u001b[39mnr_sites\n\u001b[0;32m---> 40\u001b[0m final_structure_relax, final_energy \u001b[38;5;241m=\u001b[39m \u001b[43mrelax_structure\u001b[49m\u001b[43m(\u001b[49m\u001b[43mfinal_structure_training\u001b[49m\u001b[43m,\u001b[49m\u001b[43m \u001b[49m\u001b[43mrelaxer\u001b[49m\u001b[43m,\u001b[49m\u001b[43m \u001b[49m\u001b[43mmax_steps\u001b[49m\u001b[43m \u001b[49m\u001b[38;5;241;43m=\u001b[39;49m\u001b[43m \u001b[49m\u001b[43mmaxsteps\u001b[49m\u001b[43m,\u001b[49m\u001b[43m \u001b[49m\u001b[43mf_max\u001b[49m\u001b[38;5;241;43m=\u001b[39;49m\u001b[43m \u001b[49m\u001b[43mf_max\u001b[49m\u001b[43m)\u001b[49m\n\u001b[1;32m     43\u001b[0m struct_train \u001b[38;5;241m=\u001b[39m final_structure_training\n\u001b[1;32m     44\u001b[0m struct_relax \u001b[38;5;241m=\u001b[39m final_structure_relax\n",
      "Cell \u001b[0;32mIn[427], line 5\u001b[0m, in \u001b[0;36mrelax_structure\u001b[0;34m(starting_structure, relaxer, max_steps, f_max)\u001b[0m\n\u001b[1;32m      3\u001b[0m \u001b[38;5;28mprint\u001b[39m(\u001b[38;5;124m\"\u001b[39m\u001b[38;5;124mStructure sites: \u001b[39m\u001b[38;5;132;01m{}\u001b[39;00m\u001b[38;5;124m\"\u001b[39m\u001b[38;5;241m.\u001b[39mformat(starting_structure\u001b[38;5;241m.\u001b[39msites))\n\u001b[1;32m      4\u001b[0m adapted_structure \u001b[38;5;241m=\u001b[39m AseAtomsAdaptor\u001b[38;5;241m.\u001b[39mget_atoms(starting_structure)\n\u001b[0;32m----> 5\u001b[0m trajectory \u001b[38;5;241m=\u001b[39m \u001b[43mrelaxer\u001b[49m\u001b[38;5;241;43m.\u001b[39;49m\u001b[43mrelax\u001b[49m\u001b[43m(\u001b[49m\u001b[43madapted_structure\u001b[49m\u001b[43m,\u001b[49m\u001b[43m \u001b[49m\u001b[43mfmax\u001b[49m\u001b[38;5;241;43m=\u001b[39;49m\u001b[43mf_max\u001b[49m\u001b[43m,\u001b[49m\u001b[43m \u001b[49m\u001b[43msteps\u001b[49m\u001b[38;5;241;43m=\u001b[39;49m\u001b[43mmax_steps\u001b[49m\u001b[43m)\u001b[49m\n\u001b[1;32m      6\u001b[0m relaxed_energy \u001b[38;5;241m=\u001b[39m \u001b[38;5;28mfloat\u001b[39m(trajectory[\u001b[38;5;124m'\u001b[39m\u001b[38;5;124mtrajectory\u001b[39m\u001b[38;5;124m'\u001b[39m]\u001b[38;5;241m.\u001b[39menergies[\u001b[38;5;241m-\u001b[39m\u001b[38;5;241m1\u001b[39m])\n\u001b[1;32m      7\u001b[0m final_structure \u001b[38;5;241m=\u001b[39m trajectory[\u001b[38;5;124m'\u001b[39m\u001b[38;5;124mfinal_structure\u001b[39m\u001b[38;5;124m'\u001b[39m]\n",
      "File \u001b[0;32m/local/scratch/fjager/relax_scripts/m3gnet_dynamics.py:208\u001b[0m, in \u001b[0;36mRelaxer.relax\u001b[0;34m(self, atoms, fmax, steps, traj_file, interval, **kwargs)\u001b[0m\n\u001b[1;32m    206\u001b[0m optimizer \u001b[38;5;241m=\u001b[39m \u001b[38;5;28mself\u001b[39m\u001b[38;5;241m.\u001b[39mopt_class(atoms, \u001b[38;5;241m*\u001b[39m\u001b[38;5;241m*\u001b[39mkwargs)\n\u001b[1;32m    207\u001b[0m optimizer\u001b[38;5;241m.\u001b[39mattach(obs, interval\u001b[38;5;241m=\u001b[39minterval)\n\u001b[0;32m--> 208\u001b[0m \u001b[43moptimizer\u001b[49m\u001b[38;5;241;43m.\u001b[39;49m\u001b[43mrun\u001b[49m\u001b[43m(\u001b[49m\u001b[43mfmax\u001b[49m\u001b[38;5;241;43m=\u001b[39;49m\u001b[43mfmax\u001b[49m\u001b[43m,\u001b[49m\u001b[43m \u001b[49m\u001b[43msteps\u001b[49m\u001b[38;5;241;43m=\u001b[39;49m\u001b[43msteps\u001b[49m\u001b[43m)\u001b[49m\n\u001b[1;32m    209\u001b[0m obs()\n\u001b[1;32m    210\u001b[0m \u001b[38;5;28;01mif\u001b[39;00m traj_file \u001b[38;5;129;01mis\u001b[39;00m \u001b[38;5;129;01mnot\u001b[39;00m \u001b[38;5;28;01mNone\u001b[39;00m:\n",
      "File \u001b[0;32m~/anaconda3/envs/m3gnet/lib/python3.9/site-packages/ase/optimize/optimize.py:269\u001b[0m, in \u001b[0;36mOptimizer.run\u001b[0;34m(self, fmax, steps)\u001b[0m\n\u001b[1;32m    267\u001b[0m \u001b[38;5;28;01mif\u001b[39;00m steps:\n\u001b[1;32m    268\u001b[0m     \u001b[38;5;28mself\u001b[39m\u001b[38;5;241m.\u001b[39mmax_steps \u001b[38;5;241m=\u001b[39m steps\n\u001b[0;32m--> 269\u001b[0m \u001b[38;5;28;01mreturn\u001b[39;00m \u001b[43mDynamics\u001b[49m\u001b[38;5;241;43m.\u001b[39;49m\u001b[43mrun\u001b[49m\u001b[43m(\u001b[49m\u001b[38;5;28;43mself\u001b[39;49m\u001b[43m)\u001b[49m\n",
      "File \u001b[0;32m~/anaconda3/envs/m3gnet/lib/python3.9/site-packages/ase/optimize/optimize.py:156\u001b[0m, in \u001b[0;36mDynamics.run\u001b[0;34m(self)\u001b[0m\n\u001b[1;32m    149\u001b[0m \u001b[38;5;28;01mdef\u001b[39;00m \u001b[38;5;21mrun\u001b[39m(\u001b[38;5;28mself\u001b[39m):\n\u001b[1;32m    150\u001b[0m     \u001b[38;5;124;03m\"\"\"Run dynamics algorithm.\u001b[39;00m\n\u001b[1;32m    151\u001b[0m \n\u001b[1;32m    152\u001b[0m \u001b[38;5;124;03m    This method will return when the forces on all individual\u001b[39;00m\n\u001b[1;32m    153\u001b[0m \u001b[38;5;124;03m    atoms are less than *fmax* or when the number of steps exceeds\u001b[39;00m\n\u001b[1;32m    154\u001b[0m \u001b[38;5;124;03m    *steps*.\"\"\"\u001b[39;00m\n\u001b[0;32m--> 156\u001b[0m     \u001b[38;5;28;01mfor\u001b[39;00m converged \u001b[38;5;129;01min\u001b[39;00m Dynamics\u001b[38;5;241m.\u001b[39mirun(\u001b[38;5;28mself\u001b[39m):\n\u001b[1;32m    157\u001b[0m         \u001b[38;5;28;01mpass\u001b[39;00m\n\u001b[1;32m    158\u001b[0m     \u001b[38;5;28;01mreturn\u001b[39;00m converged\n",
      "File \u001b[0;32m~/anaconda3/envs/m3gnet/lib/python3.9/site-packages/ase/optimize/optimize.py:143\u001b[0m, in \u001b[0;36mDynamics.irun\u001b[0;34m(self)\u001b[0m\n\u001b[1;32m    140\u001b[0m     \u001b[38;5;28;01myield\u001b[39;00m \u001b[38;5;28;01mFalse\u001b[39;00m\n\u001b[1;32m    142\u001b[0m     \u001b[38;5;66;03m# log the step\u001b[39;00m\n\u001b[0;32m--> 143\u001b[0m     \u001b[38;5;28;43mself\u001b[39;49m\u001b[38;5;241;43m.\u001b[39;49m\u001b[43mlog\u001b[49m\u001b[43m(\u001b[49m\u001b[43m)\u001b[49m\n\u001b[1;32m    144\u001b[0m     \u001b[38;5;28mself\u001b[39m\u001b[38;5;241m.\u001b[39mcall_observers()\n\u001b[1;32m    146\u001b[0m \u001b[38;5;66;03m# finally check if algorithm was converged\u001b[39;00m\n",
      "File \u001b[0;32m~/anaconda3/envs/m3gnet/lib/python3.9/site-packages/ase/optimize/optimize.py:283\u001b[0m, in \u001b[0;36mOptimizer.log\u001b[0;34m(self, forces)\u001b[0m\n\u001b[1;32m    281\u001b[0m \u001b[38;5;28;01mdef\u001b[39;00m \u001b[38;5;21mlog\u001b[39m(\u001b[38;5;28mself\u001b[39m, forces\u001b[38;5;241m=\u001b[39m\u001b[38;5;28;01mNone\u001b[39;00m):\n\u001b[1;32m    282\u001b[0m     \u001b[38;5;28;01mif\u001b[39;00m forces \u001b[38;5;129;01mis\u001b[39;00m \u001b[38;5;28;01mNone\u001b[39;00m:\n\u001b[0;32m--> 283\u001b[0m         forces \u001b[38;5;241m=\u001b[39m \u001b[38;5;28;43mself\u001b[39;49m\u001b[38;5;241;43m.\u001b[39;49m\u001b[43matoms\u001b[49m\u001b[38;5;241;43m.\u001b[39;49m\u001b[43mget_forces\u001b[49m\u001b[43m(\u001b[49m\u001b[43m)\u001b[49m\n\u001b[1;32m    284\u001b[0m     fmax \u001b[38;5;241m=\u001b[39m sqrt((forces \u001b[38;5;241m*\u001b[39m\u001b[38;5;241m*\u001b[39m \u001b[38;5;241m2\u001b[39m)\u001b[38;5;241m.\u001b[39msum(axis\u001b[38;5;241m=\u001b[39m\u001b[38;5;241m1\u001b[39m)\u001b[38;5;241m.\u001b[39mmax())\n\u001b[1;32m    285\u001b[0m     e \u001b[38;5;241m=\u001b[39m \u001b[38;5;28mself\u001b[39m\u001b[38;5;241m.\u001b[39matoms\u001b[38;5;241m.\u001b[39mget_potential_energy(\n\u001b[1;32m    286\u001b[0m         force_consistent\u001b[38;5;241m=\u001b[39m\u001b[38;5;28mself\u001b[39m\u001b[38;5;241m.\u001b[39mforce_consistent\n\u001b[1;32m    287\u001b[0m     )\n",
      "File \u001b[0;32m~/anaconda3/envs/m3gnet/lib/python3.9/site-packages/ase/constraints.py:2614\u001b[0m, in \u001b[0;36mExpCellFilter.get_forces\u001b[0;34m(self, **kwargs)\u001b[0m\n\u001b[1;32m   2613\u001b[0m \u001b[38;5;28;01mdef\u001b[39;00m \u001b[38;5;21mget_forces\u001b[39m(\u001b[38;5;28mself\u001b[39m, \u001b[38;5;241m*\u001b[39m\u001b[38;5;241m*\u001b[39mkwargs):\n\u001b[0;32m-> 2614\u001b[0m     forces \u001b[38;5;241m=\u001b[39m \u001b[43mUnitCellFilter\u001b[49m\u001b[38;5;241;43m.\u001b[39;49m\u001b[43mget_forces\u001b[49m\u001b[43m(\u001b[49m\u001b[38;5;28;43mself\u001b[39;49m\u001b[43m,\u001b[49m\u001b[43m \u001b[49m\u001b[38;5;241;43m*\u001b[39;49m\u001b[38;5;241;43m*\u001b[39;49m\u001b[43mkwargs\u001b[49m\u001b[43m)\u001b[49m\n\u001b[1;32m   2616\u001b[0m     \u001b[38;5;66;03m# forces on atoms are same as UnitCellFilter, we just\u001b[39;00m\n\u001b[1;32m   2617\u001b[0m     \u001b[38;5;66;03m# need to modify the stress contribution\u001b[39;00m\n\u001b[1;32m   2618\u001b[0m     stress \u001b[38;5;241m=\u001b[39m \u001b[38;5;28mself\u001b[39m\u001b[38;5;241m.\u001b[39matoms\u001b[38;5;241m.\u001b[39mget_stress(\u001b[38;5;241m*\u001b[39m\u001b[38;5;241m*\u001b[39mkwargs)\n",
      "File \u001b[0;32m~/anaconda3/envs/m3gnet/lib/python3.9/site-packages/ase/constraints.py:2434\u001b[0m, in \u001b[0;36mUnitCellFilter.get_forces\u001b[0;34m(self, **kwargs)\u001b[0m\n\u001b[1;32m   2424\u001b[0m \u001b[38;5;28;01mdef\u001b[39;00m \u001b[38;5;21mget_forces\u001b[39m(\u001b[38;5;28mself\u001b[39m, \u001b[38;5;241m*\u001b[39m\u001b[38;5;241m*\u001b[39mkwargs):\n\u001b[1;32m   2425\u001b[0m     \u001b[38;5;124;03m\"\"\"\u001b[39;00m\n\u001b[1;32m   2426\u001b[0m \u001b[38;5;124;03m    returns an array with shape (natoms+3,3) of the atomic forces\u001b[39;00m\n\u001b[1;32m   2427\u001b[0m \u001b[38;5;124;03m    and unit cell stresses.\u001b[39;00m\n\u001b[0;32m   (...)\u001b[0m\n\u001b[1;32m   2431\u001b[0m \u001b[38;5;124;03m    computed from the stress tensor.\u001b[39;00m\n\u001b[1;32m   2432\u001b[0m \u001b[38;5;124;03m    \"\"\"\u001b[39;00m\n\u001b[0;32m-> 2434\u001b[0m     stress \u001b[38;5;241m=\u001b[39m \u001b[38;5;28;43mself\u001b[39;49m\u001b[38;5;241;43m.\u001b[39;49m\u001b[43matoms\u001b[49m\u001b[38;5;241;43m.\u001b[39;49m\u001b[43mget_stress\u001b[49m\u001b[43m(\u001b[49m\u001b[38;5;241;43m*\u001b[39;49m\u001b[38;5;241;43m*\u001b[39;49m\u001b[43mkwargs\u001b[49m\u001b[43m)\u001b[49m\n\u001b[1;32m   2435\u001b[0m     atoms_forces \u001b[38;5;241m=\u001b[39m \u001b[38;5;28mself\u001b[39m\u001b[38;5;241m.\u001b[39matoms\u001b[38;5;241m.\u001b[39mget_forces(\u001b[38;5;241m*\u001b[39m\u001b[38;5;241m*\u001b[39mkwargs)\n\u001b[1;32m   2437\u001b[0m     volume \u001b[38;5;241m=\u001b[39m \u001b[38;5;28mself\u001b[39m\u001b[38;5;241m.\u001b[39matoms\u001b[38;5;241m.\u001b[39mget_volume()\n",
      "File \u001b[0;32m~/anaconda3/envs/m3gnet/lib/python3.9/site-packages/ase/atoms.py:820\u001b[0m, in \u001b[0;36mAtoms.get_stress\u001b[0;34m(self, voigt, apply_constraint, include_ideal_gas)\u001b[0m\n\u001b[1;32m    817\u001b[0m \u001b[38;5;28;01mif\u001b[39;00m \u001b[38;5;28mself\u001b[39m\u001b[38;5;241m.\u001b[39m_calc \u001b[38;5;129;01mis\u001b[39;00m \u001b[38;5;28;01mNone\u001b[39;00m:\n\u001b[1;32m    818\u001b[0m     \u001b[38;5;28;01mraise\u001b[39;00m \u001b[38;5;167;01mRuntimeError\u001b[39;00m(\u001b[38;5;124m'\u001b[39m\u001b[38;5;124mAtoms object has no calculator.\u001b[39m\u001b[38;5;124m'\u001b[39m)\n\u001b[0;32m--> 820\u001b[0m stress \u001b[38;5;241m=\u001b[39m \u001b[38;5;28;43mself\u001b[39;49m\u001b[38;5;241;43m.\u001b[39;49m\u001b[43m_calc\u001b[49m\u001b[38;5;241;43m.\u001b[39;49m\u001b[43mget_stress\u001b[49m\u001b[43m(\u001b[49m\u001b[38;5;28;43mself\u001b[39;49m\u001b[43m)\u001b[49m\n\u001b[1;32m    821\u001b[0m shape \u001b[38;5;241m=\u001b[39m stress\u001b[38;5;241m.\u001b[39mshape\n\u001b[1;32m    823\u001b[0m \u001b[38;5;28;01mif\u001b[39;00m shape \u001b[38;5;241m==\u001b[39m (\u001b[38;5;241m3\u001b[39m, \u001b[38;5;241m3\u001b[39m):\n\u001b[1;32m    824\u001b[0m     \u001b[38;5;66;03m# Convert to the Voigt form before possibly applying\u001b[39;00m\n\u001b[1;32m    825\u001b[0m     \u001b[38;5;66;03m# constraints and adding the dynamic part of the stress\u001b[39;00m\n\u001b[1;32m    826\u001b[0m     \u001b[38;5;66;03m# (the \"ideal gas contribution\").\u001b[39;00m\n",
      "File \u001b[0;32m~/anaconda3/envs/m3gnet/lib/python3.9/site-packages/ase/calculators/abc.py:26\u001b[0m, in \u001b[0;36mGetPropertiesMixin.get_stress\u001b[0;34m(self, atoms)\u001b[0m\n\u001b[1;32m     25\u001b[0m \u001b[38;5;28;01mdef\u001b[39;00m \u001b[38;5;21mget_stress\u001b[39m(\u001b[38;5;28mself\u001b[39m, atoms\u001b[38;5;241m=\u001b[39m\u001b[38;5;28;01mNone\u001b[39;00m):\n\u001b[0;32m---> 26\u001b[0m     \u001b[38;5;28;01mreturn\u001b[39;00m \u001b[38;5;28;43mself\u001b[39;49m\u001b[38;5;241;43m.\u001b[39;49m\u001b[43mget_property\u001b[49m\u001b[43m(\u001b[49m\u001b[38;5;124;43m'\u001b[39;49m\u001b[38;5;124;43mstress\u001b[39;49m\u001b[38;5;124;43m'\u001b[39;49m\u001b[43m,\u001b[49m\u001b[43m \u001b[49m\u001b[43matoms\u001b[49m\u001b[43m)\u001b[49m\n",
      "File \u001b[0;32m~/anaconda3/envs/m3gnet/lib/python3.9/site-packages/ase/calculators/calculator.py:737\u001b[0m, in \u001b[0;36mCalculator.get_property\u001b[0;34m(self, name, atoms, allow_calculation)\u001b[0m\n\u001b[1;32m    735\u001b[0m     \u001b[38;5;28;01mif\u001b[39;00m \u001b[38;5;129;01mnot\u001b[39;00m allow_calculation:\n\u001b[1;32m    736\u001b[0m         \u001b[38;5;28;01mreturn\u001b[39;00m \u001b[38;5;28;01mNone\u001b[39;00m\n\u001b[0;32m--> 737\u001b[0m     \u001b[38;5;28;43mself\u001b[39;49m\u001b[38;5;241;43m.\u001b[39;49m\u001b[43mcalculate\u001b[49m\u001b[43m(\u001b[49m\u001b[43matoms\u001b[49m\u001b[43m,\u001b[49m\u001b[43m \u001b[49m\u001b[43m[\u001b[49m\u001b[43mname\u001b[49m\u001b[43m]\u001b[49m\u001b[43m,\u001b[49m\u001b[43m \u001b[49m\u001b[43msystem_changes\u001b[49m\u001b[43m)\u001b[49m\n\u001b[1;32m    739\u001b[0m \u001b[38;5;28;01mif\u001b[39;00m name \u001b[38;5;129;01mnot\u001b[39;00m \u001b[38;5;129;01min\u001b[39;00m \u001b[38;5;28mself\u001b[39m\u001b[38;5;241m.\u001b[39mresults:\n\u001b[1;32m    740\u001b[0m     \u001b[38;5;66;03m# For some reason the calculator was not able to do what we want,\u001b[39;00m\n\u001b[1;32m    741\u001b[0m     \u001b[38;5;66;03m# and that is OK.\u001b[39;00m\n\u001b[1;32m    742\u001b[0m     \u001b[38;5;28;01mraise\u001b[39;00m PropertyNotImplementedError(\u001b[38;5;124m'\u001b[39m\u001b[38;5;132;01m{}\u001b[39;00m\u001b[38;5;124m not present in this \u001b[39m\u001b[38;5;124m'\u001b[39m\n\u001b[1;32m    743\u001b[0m                                       \u001b[38;5;124m'\u001b[39m\u001b[38;5;124mcalculation\u001b[39m\u001b[38;5;124m'\u001b[39m\u001b[38;5;241m.\u001b[39mformat(name))\n",
      "File \u001b[0;32m/local/scratch/fjager/relax_scripts/m3gnet_dynamics.py:90\u001b[0m, in \u001b[0;36mM3GNetCalculator.calculate\u001b[0;34m(self, atoms, properties, system_changes)\u001b[0m\n\u001b[1;32m     88\u001b[0m graph \u001b[38;5;241m=\u001b[39m \u001b[38;5;28mself\u001b[39m\u001b[38;5;241m.\u001b[39mpotential\u001b[38;5;241m.\u001b[39mgraph_converter(atoms)\n\u001b[1;32m     89\u001b[0m graph_list \u001b[38;5;241m=\u001b[39m graph\u001b[38;5;241m.\u001b[39mas_tf()\u001b[38;5;241m.\u001b[39mas_list()\n\u001b[0;32m---> 90\u001b[0m results \u001b[38;5;241m=\u001b[39m \u001b[38;5;28;43mself\u001b[39;49m\u001b[38;5;241;43m.\u001b[39;49m\u001b[43mpotential\u001b[49m\u001b[38;5;241;43m.\u001b[39;49m\u001b[43mget_efs_tensor\u001b[49m\u001b[43m(\u001b[49m\n\u001b[1;32m     91\u001b[0m \u001b[43m    \u001b[49m\u001b[43mgraph_list\u001b[49m\u001b[43m,\u001b[49m\u001b[43m \u001b[49m\u001b[43minclude_stresses\u001b[49m\u001b[38;5;241;43m=\u001b[39;49m\u001b[38;5;28;43mself\u001b[39;49m\u001b[38;5;241;43m.\u001b[39;49m\u001b[43mcompute_stress\u001b[49m\n\u001b[1;32m     92\u001b[0m \u001b[43m\u001b[49m\u001b[43m)\u001b[49m\n\u001b[1;32m     93\u001b[0m \u001b[38;5;66;03m# Remove the third column in the results corresponding to F_z\u001b[39;00m\n\u001b[1;32m     94\u001b[0m \u001b[38;5;66;03m#results[1] = results[1][:,:2]\u001b[39;00m\n\u001b[1;32m     95\u001b[0m \n\u001b[1;32m     96\u001b[0m \u001b[38;5;66;03m#print(results[2][0].numpy())\u001b[39;00m\n\u001b[1;32m     97\u001b[0m stresses \u001b[38;5;241m=\u001b[39m results[\u001b[38;5;241m2\u001b[39m][\u001b[38;5;241m0\u001b[39m]\u001b[38;5;241m.\u001b[39mnumpy()\n",
      "File \u001b[0;32m~/anaconda3/envs/m3gnet/lib/python3.9/site-packages/tensorflow/python/util/traceback_utils.py:150\u001b[0m, in \u001b[0;36mfilter_traceback.<locals>.error_handler\u001b[0;34m(*args, **kwargs)\u001b[0m\n\u001b[1;32m    148\u001b[0m filtered_tb \u001b[38;5;241m=\u001b[39m \u001b[38;5;28;01mNone\u001b[39;00m\n\u001b[1;32m    149\u001b[0m \u001b[38;5;28;01mtry\u001b[39;00m:\n\u001b[0;32m--> 150\u001b[0m   \u001b[38;5;28;01mreturn\u001b[39;00m \u001b[43mfn\u001b[49m\u001b[43m(\u001b[49m\u001b[38;5;241;43m*\u001b[39;49m\u001b[43margs\u001b[49m\u001b[43m,\u001b[49m\u001b[43m \u001b[49m\u001b[38;5;241;43m*\u001b[39;49m\u001b[38;5;241;43m*\u001b[39;49m\u001b[43mkwargs\u001b[49m\u001b[43m)\u001b[49m\n\u001b[1;32m    151\u001b[0m \u001b[38;5;28;01mexcept\u001b[39;00m \u001b[38;5;167;01mException\u001b[39;00m \u001b[38;5;28;01mas\u001b[39;00m e:\n\u001b[1;32m    152\u001b[0m   filtered_tb \u001b[38;5;241m=\u001b[39m _process_traceback_frames(e\u001b[38;5;241m.\u001b[39m__traceback__)\n",
      "File \u001b[0;32m~/anaconda3/envs/m3gnet/lib/python3.9/site-packages/tensorflow/python/eager/polymorphic_function/polymorphic_function.py:894\u001b[0m, in \u001b[0;36mFunction.__call__\u001b[0;34m(self, *args, **kwds)\u001b[0m\n\u001b[1;32m    891\u001b[0m compiler \u001b[38;5;241m=\u001b[39m \u001b[38;5;124m\"\u001b[39m\u001b[38;5;124mxla\u001b[39m\u001b[38;5;124m\"\u001b[39m \u001b[38;5;28;01mif\u001b[39;00m \u001b[38;5;28mself\u001b[39m\u001b[38;5;241m.\u001b[39m_jit_compile \u001b[38;5;28;01melse\u001b[39;00m \u001b[38;5;124m\"\u001b[39m\u001b[38;5;124mnonXla\u001b[39m\u001b[38;5;124m\"\u001b[39m\n\u001b[1;32m    893\u001b[0m \u001b[38;5;28;01mwith\u001b[39;00m OptionalXlaContext(\u001b[38;5;28mself\u001b[39m\u001b[38;5;241m.\u001b[39m_jit_compile):\n\u001b[0;32m--> 894\u001b[0m   result \u001b[38;5;241m=\u001b[39m \u001b[38;5;28;43mself\u001b[39;49m\u001b[38;5;241;43m.\u001b[39;49m\u001b[43m_call\u001b[49m\u001b[43m(\u001b[49m\u001b[38;5;241;43m*\u001b[39;49m\u001b[43margs\u001b[49m\u001b[43m,\u001b[49m\u001b[43m \u001b[49m\u001b[38;5;241;43m*\u001b[39;49m\u001b[38;5;241;43m*\u001b[39;49m\u001b[43mkwds\u001b[49m\u001b[43m)\u001b[49m\n\u001b[1;32m    896\u001b[0m new_tracing_count \u001b[38;5;241m=\u001b[39m \u001b[38;5;28mself\u001b[39m\u001b[38;5;241m.\u001b[39mexperimental_get_tracing_count()\n\u001b[1;32m    897\u001b[0m without_tracing \u001b[38;5;241m=\u001b[39m (tracing_count \u001b[38;5;241m==\u001b[39m new_tracing_count)\n",
      "File \u001b[0;32m~/anaconda3/envs/m3gnet/lib/python3.9/site-packages/tensorflow/python/eager/polymorphic_function/polymorphic_function.py:933\u001b[0m, in \u001b[0;36mFunction._call\u001b[0;34m(self, *args, **kwds)\u001b[0m\n\u001b[1;32m    930\u001b[0m \u001b[38;5;28mself\u001b[39m\u001b[38;5;241m.\u001b[39m_lock\u001b[38;5;241m.\u001b[39mrelease()\n\u001b[1;32m    931\u001b[0m \u001b[38;5;66;03m# In this case we have not created variables on the first call. So we can\u001b[39;00m\n\u001b[1;32m    932\u001b[0m \u001b[38;5;66;03m# run the first trace but we should fail if variables are created.\u001b[39;00m\n\u001b[0;32m--> 933\u001b[0m results \u001b[38;5;241m=\u001b[39m \u001b[38;5;28;43mself\u001b[39;49m\u001b[38;5;241;43m.\u001b[39;49m\u001b[43m_variable_creation_fn\u001b[49m\u001b[43m(\u001b[49m\u001b[38;5;241;43m*\u001b[39;49m\u001b[43margs\u001b[49m\u001b[43m,\u001b[49m\u001b[43m \u001b[49m\u001b[38;5;241;43m*\u001b[39;49m\u001b[38;5;241;43m*\u001b[39;49m\u001b[43mkwds\u001b[49m\u001b[43m)\u001b[49m\n\u001b[1;32m    934\u001b[0m \u001b[38;5;28;01mif\u001b[39;00m \u001b[38;5;28mself\u001b[39m\u001b[38;5;241m.\u001b[39m_created_variables \u001b[38;5;129;01mand\u001b[39;00m \u001b[38;5;129;01mnot\u001b[39;00m ALLOW_DYNAMIC_VARIABLE_CREATION:\n\u001b[1;32m    935\u001b[0m   \u001b[38;5;28;01mraise\u001b[39;00m \u001b[38;5;167;01mValueError\u001b[39;00m(\u001b[38;5;124m\"\u001b[39m\u001b[38;5;124mCreating variables on a non-first call to a function\u001b[39m\u001b[38;5;124m\"\u001b[39m\n\u001b[1;32m    936\u001b[0m                    \u001b[38;5;124m\"\u001b[39m\u001b[38;5;124m decorated with tf.function.\u001b[39m\u001b[38;5;124m\"\u001b[39m)\n",
      "File \u001b[0;32m~/anaconda3/envs/m3gnet/lib/python3.9/site-packages/tensorflow/python/eager/polymorphic_function/tracing_compiler.py:143\u001b[0m, in \u001b[0;36mTracingCompiler.__call__\u001b[0;34m(self, *args, **kwargs)\u001b[0m\n\u001b[1;32m    140\u001b[0m \u001b[38;5;28;01mwith\u001b[39;00m \u001b[38;5;28mself\u001b[39m\u001b[38;5;241m.\u001b[39m_lock:\n\u001b[1;32m    141\u001b[0m   (concrete_function,\n\u001b[1;32m    142\u001b[0m    filtered_flat_args) \u001b[38;5;241m=\u001b[39m \u001b[38;5;28mself\u001b[39m\u001b[38;5;241m.\u001b[39m_maybe_define_function(args, kwargs)\n\u001b[0;32m--> 143\u001b[0m \u001b[38;5;28;01mreturn\u001b[39;00m \u001b[43mconcrete_function\u001b[49m\u001b[38;5;241;43m.\u001b[39;49m\u001b[43m_call_flat\u001b[49m\u001b[43m(\u001b[49m\n\u001b[1;32m    144\u001b[0m \u001b[43m    \u001b[49m\u001b[43mfiltered_flat_args\u001b[49m\u001b[43m,\u001b[49m\u001b[43m \u001b[49m\u001b[43mcaptured_inputs\u001b[49m\u001b[38;5;241;43m=\u001b[39;49m\u001b[43mconcrete_function\u001b[49m\u001b[38;5;241;43m.\u001b[39;49m\u001b[43mcaptured_inputs\u001b[49m\u001b[43m)\u001b[49m\n",
      "File \u001b[0;32m~/anaconda3/envs/m3gnet/lib/python3.9/site-packages/tensorflow/python/eager/polymorphic_function/monomorphic_function.py:1757\u001b[0m, in \u001b[0;36mConcreteFunction._call_flat\u001b[0;34m(self, args, captured_inputs, cancellation_manager)\u001b[0m\n\u001b[1;32m   1753\u001b[0m possible_gradient_type \u001b[38;5;241m=\u001b[39m gradients_util\u001b[38;5;241m.\u001b[39mPossibleTapeGradientTypes(args)\n\u001b[1;32m   1754\u001b[0m \u001b[38;5;28;01mif\u001b[39;00m (possible_gradient_type \u001b[38;5;241m==\u001b[39m gradients_util\u001b[38;5;241m.\u001b[39mPOSSIBLE_GRADIENT_TYPES_NONE\n\u001b[1;32m   1755\u001b[0m     \u001b[38;5;129;01mand\u001b[39;00m executing_eagerly):\n\u001b[1;32m   1756\u001b[0m   \u001b[38;5;66;03m# No tape is watching; skip to running the function.\u001b[39;00m\n\u001b[0;32m-> 1757\u001b[0m   \u001b[38;5;28;01mreturn\u001b[39;00m \u001b[38;5;28mself\u001b[39m\u001b[38;5;241m.\u001b[39m_build_call_outputs(\u001b[38;5;28;43mself\u001b[39;49m\u001b[38;5;241;43m.\u001b[39;49m\u001b[43m_inference_function\u001b[49m\u001b[38;5;241;43m.\u001b[39;49m\u001b[43mcall\u001b[49m\u001b[43m(\u001b[49m\n\u001b[1;32m   1758\u001b[0m \u001b[43m      \u001b[49m\u001b[43mctx\u001b[49m\u001b[43m,\u001b[49m\u001b[43m \u001b[49m\u001b[43margs\u001b[49m\u001b[43m,\u001b[49m\u001b[43m \u001b[49m\u001b[43mcancellation_manager\u001b[49m\u001b[38;5;241;43m=\u001b[39;49m\u001b[43mcancellation_manager\u001b[49m\u001b[43m)\u001b[49m)\n\u001b[1;32m   1759\u001b[0m forward_backward \u001b[38;5;241m=\u001b[39m \u001b[38;5;28mself\u001b[39m\u001b[38;5;241m.\u001b[39m_select_forward_and_backward_functions(\n\u001b[1;32m   1760\u001b[0m     args,\n\u001b[1;32m   1761\u001b[0m     possible_gradient_type,\n\u001b[1;32m   1762\u001b[0m     executing_eagerly)\n\u001b[1;32m   1763\u001b[0m forward_function, args_with_tangents \u001b[38;5;241m=\u001b[39m forward_backward\u001b[38;5;241m.\u001b[39mforward()\n",
      "File \u001b[0;32m~/anaconda3/envs/m3gnet/lib/python3.9/site-packages/tensorflow/python/eager/polymorphic_function/monomorphic_function.py:381\u001b[0m, in \u001b[0;36m_EagerDefinedFunction.call\u001b[0;34m(self, ctx, args, cancellation_manager)\u001b[0m\n\u001b[1;32m    379\u001b[0m \u001b[38;5;28;01mwith\u001b[39;00m _InterpolateFunctionError(\u001b[38;5;28mself\u001b[39m):\n\u001b[1;32m    380\u001b[0m   \u001b[38;5;28;01mif\u001b[39;00m cancellation_manager \u001b[38;5;129;01mis\u001b[39;00m \u001b[38;5;28;01mNone\u001b[39;00m:\n\u001b[0;32m--> 381\u001b[0m     outputs \u001b[38;5;241m=\u001b[39m \u001b[43mexecute\u001b[49m\u001b[38;5;241;43m.\u001b[39;49m\u001b[43mexecute\u001b[49m\u001b[43m(\u001b[49m\n\u001b[1;32m    382\u001b[0m \u001b[43m        \u001b[49m\u001b[38;5;28;43mstr\u001b[39;49m\u001b[43m(\u001b[49m\u001b[38;5;28;43mself\u001b[39;49m\u001b[38;5;241;43m.\u001b[39;49m\u001b[43msignature\u001b[49m\u001b[38;5;241;43m.\u001b[39;49m\u001b[43mname\u001b[49m\u001b[43m)\u001b[49m\u001b[43m,\u001b[49m\n\u001b[1;32m    383\u001b[0m \u001b[43m        \u001b[49m\u001b[43mnum_outputs\u001b[49m\u001b[38;5;241;43m=\u001b[39;49m\u001b[38;5;28;43mself\u001b[39;49m\u001b[38;5;241;43m.\u001b[39;49m\u001b[43m_num_outputs\u001b[49m\u001b[43m,\u001b[49m\n\u001b[1;32m    384\u001b[0m \u001b[43m        \u001b[49m\u001b[43minputs\u001b[49m\u001b[38;5;241;43m=\u001b[39;49m\u001b[43margs\u001b[49m\u001b[43m,\u001b[49m\n\u001b[1;32m    385\u001b[0m \u001b[43m        \u001b[49m\u001b[43mattrs\u001b[49m\u001b[38;5;241;43m=\u001b[39;49m\u001b[43mattrs\u001b[49m\u001b[43m,\u001b[49m\n\u001b[1;32m    386\u001b[0m \u001b[43m        \u001b[49m\u001b[43mctx\u001b[49m\u001b[38;5;241;43m=\u001b[39;49m\u001b[43mctx\u001b[49m\u001b[43m)\u001b[49m\n\u001b[1;32m    387\u001b[0m   \u001b[38;5;28;01melse\u001b[39;00m:\n\u001b[1;32m    388\u001b[0m     outputs \u001b[38;5;241m=\u001b[39m execute\u001b[38;5;241m.\u001b[39mexecute_with_cancellation(\n\u001b[1;32m    389\u001b[0m         \u001b[38;5;28mstr\u001b[39m(\u001b[38;5;28mself\u001b[39m\u001b[38;5;241m.\u001b[39msignature\u001b[38;5;241m.\u001b[39mname),\n\u001b[1;32m    390\u001b[0m         num_outputs\u001b[38;5;241m=\u001b[39m\u001b[38;5;28mself\u001b[39m\u001b[38;5;241m.\u001b[39m_num_outputs,\n\u001b[0;32m   (...)\u001b[0m\n\u001b[1;32m    393\u001b[0m         ctx\u001b[38;5;241m=\u001b[39mctx,\n\u001b[1;32m    394\u001b[0m         cancellation_manager\u001b[38;5;241m=\u001b[39mcancellation_manager)\n",
      "File \u001b[0;32m~/anaconda3/envs/m3gnet/lib/python3.9/site-packages/tensorflow/python/eager/execute.py:52\u001b[0m, in \u001b[0;36mquick_execute\u001b[0;34m(op_name, num_outputs, inputs, attrs, ctx, name)\u001b[0m\n\u001b[1;32m     50\u001b[0m \u001b[38;5;28;01mtry\u001b[39;00m:\n\u001b[1;32m     51\u001b[0m   ctx\u001b[38;5;241m.\u001b[39mensure_initialized()\n\u001b[0;32m---> 52\u001b[0m   tensors \u001b[38;5;241m=\u001b[39m \u001b[43mpywrap_tfe\u001b[49m\u001b[38;5;241;43m.\u001b[39;49m\u001b[43mTFE_Py_Execute\u001b[49m\u001b[43m(\u001b[49m\u001b[43mctx\u001b[49m\u001b[38;5;241;43m.\u001b[39;49m\u001b[43m_handle\u001b[49m\u001b[43m,\u001b[49m\u001b[43m \u001b[49m\u001b[43mdevice_name\u001b[49m\u001b[43m,\u001b[49m\u001b[43m \u001b[49m\u001b[43mop_name\u001b[49m\u001b[43m,\u001b[49m\n\u001b[1;32m     53\u001b[0m \u001b[43m                                      \u001b[49m\u001b[43minputs\u001b[49m\u001b[43m,\u001b[49m\u001b[43m \u001b[49m\u001b[43mattrs\u001b[49m\u001b[43m,\u001b[49m\u001b[43m \u001b[49m\u001b[43mnum_outputs\u001b[49m\u001b[43m)\u001b[49m\n\u001b[1;32m     54\u001b[0m \u001b[38;5;28;01mexcept\u001b[39;00m core\u001b[38;5;241m.\u001b[39m_NotOkStatusException \u001b[38;5;28;01mas\u001b[39;00m e:\n\u001b[1;32m     55\u001b[0m   \u001b[38;5;28;01mif\u001b[39;00m name \u001b[38;5;129;01mis\u001b[39;00m \u001b[38;5;129;01mnot\u001b[39;00m \u001b[38;5;28;01mNone\u001b[39;00m:\n",
      "\u001b[0;31mKeyboardInterrupt\u001b[0m: "
     ]
    }
   ],
   "source": [
    "import os\n",
    "os.environ['TF_CPP_MIN_LOG_LEVEL'] = '3'\n",
    "import tensorflow as tf\n",
    "tf.get_logger().setLevel('INFO')\n",
    "\n",
    "m3gnet_final_relax(model_path, runs_relaxed[:2], reformated_run)"
   ]
  },
  {
   "cell_type": "markdown",
   "id": "b37604f7-122e-472b-887b-5efd2bd99d9e",
   "metadata": {},
   "source": [
    "### Test"
   ]
  },
  {
   "cell_type": "code",
   "execution_count": 386,
   "id": "223e3df4-2425-4654-9113-c77aac121c0e",
   "metadata": {},
   "outputs": [],
   "source": [
    "def relax_structure(structure_to_relax, model_path):\n",
    "\n",
    "    m3gnet = M3GNet.from_dir(model_path)\n",
    "    potential = Potential(model=m3gnet)\n",
    "    relaxer = Relaxer(potential=potential, relax_cell=True, optimizer='FIRE', symmetry_constraints = True)\n",
    "\n",
    "    #######################################\n",
    "    f_max = 0.1\n",
    "    maxsteps = 500\n",
    "    #######################################\n",
    "\n",
    "    def relax_structure(starting_structure, relaxer, max_steps = maxsteps):\n",
    "        print(\"Start relaxation\")\n",
    "        print(\"Structure sites: {}\".format(starting_structure.sites))\n",
    "        adapted_structure = AseAtomsAdaptor.get_atoms(starting_structure)\n",
    "        trajectory = relaxer.relax(adapted_structure, fmax=f_max, steps=max_steps)\n",
    "        relaxed_energy = float(trajectory['trajectory'].energies[-1])\n",
    "        final_structure = trajectory['final_structure']\n",
    "        if len(trajectory['trajectory'].energies) < max_steps - 1:\n",
    "            return final_structure, relaxed_energy\n",
    "        else:\n",
    "            return None, None\n",
    "\n",
    "    print(\"+++++++++++++++++\")\n",
    "    print(\"Input structure\")\n",
    "    print(structure_to_relax)\n",
    "    \n",
    "    # dict_new = {}\n",
    "    \n",
    "    final_structure, relaxed_energy = relax_structure(structure_to_relax, relaxer, max_steps = maxsteps)\n",
    "    \n",
    "    \n",
    "    print(\"Final structure\")\n",
    "    print(final_structure)\n",
    "    \n",
    "    return structure_to_relax, final_structure\n",
    "\n",
    "#     for key, val in tqdm(structure.items()):\n",
    "#         try:\n",
    "#             final_structure,energy = relax_structure(val, relaxer)\n",
    "#             print(\"Energy: {}\\n\".format(energy))\n",
    "#             print(\"Final structure: {}\".format(final_structure))\n",
    "\n",
    "#             structure_obj = structure[key]\n",
    "#             dict_new[key] = {\"structure\": structure_obj, \"final_structure\": final_structure, \"energy\": energy}\n",
    "#             print(dict_new[key])\n",
    "#         except:\n",
    "#             print(\"Relaxation error\")\n",
    "#             problematic_structures.append(structure[key])\n",
    "\n"
   ]
  },
  {
   "cell_type": "code",
   "execution_count": 391,
   "id": "c05ce236-7506-42f4-b477-8efe418b3c19",
   "metadata": {},
   "outputs": [],
   "source": [
    "idx = 100\n",
    "\n",
    "key = list(reformated_run[idx])[0]\n",
    "final_test_structure = Structure.from_dict(reformated_run[idx][key][-1]['structure'])"
   ]
  },
  {
   "cell_type": "code",
   "execution_count": 392,
   "id": "14f9be03-9b6c-4299-8e37-1ef975333026",
   "metadata": {},
   "outputs": [
    {
     "name": "stdout",
     "output_type": "stream",
     "text": [
      "/local/scratch/fjager\n",
      "+++++++++++++++++\n",
      "Input structure\n",
      "Full Formula (H6 Pb3)\n",
      "Reduced Formula: H2Pb\n",
      "abc   :   5.247479   5.247479  20.957015\n",
      "angles:  90.000000  90.000000 120.000000\n",
      "pbc   :       True       True       True\n",
      "Sites (9)\n",
      "  #  SP           a         b         c\n",
      "---  ----  --------  --------  --------\n",
      "  0  Pb    0.333333  0.666667  0.698768\n",
      "  1  Pb    0.666667  0.333333  0.698768\n",
      "  2  Pb    0         0         0.615567\n",
      "  3  H     0.372456  0.289888  0.414483\n",
      "  4  H     0.710112  0.082568  0.414483\n",
      "  5  H     0.917431  0.627544  0.414483\n",
      "  6  H     0.289887  0.372456  0.414483\n",
      "  7  H     0.082569  0.710113  0.414483\n",
      "  8  H     0.627544  0.917432  0.414483\n",
      "Start relaxation\n",
      "Structure sites: [PeriodicSite: Pb (-0.0000, 3.0296, 14.6441) [0.3333, 0.6667, 0.6988], PeriodicSite: Pb (2.6237, 1.5148, 14.6441) [0.6667, 0.3333, 0.6988], PeriodicSite: Pb (0.0000, 0.0000, 12.9005) [0.0000, 0.0000, 0.6156], PeriodicSite: H (1.1939, 1.3174, 8.6863) [0.3725, 0.2899, 0.4145], PeriodicSite: H (3.5097, 0.3752, 8.6863) [0.7101, 0.0826, 0.4145], PeriodicSite: H (3.1677, 2.8518, 8.6863) [0.9174, 0.6275, 0.4145], PeriodicSite: H (0.5440, 1.6926, 8.6863) [0.2899, 0.3725, 0.4145], PeriodicSite: H (-1.4299, 3.2271, 8.6863) [0.0826, 0.7101, 0.4145], PeriodicSite: H (0.8859, 4.1692, 8.6863) [0.6275, 0.9174, 0.4145]]\n",
      "WARNING:tensorflow:You are casting an input of type complex64 to an incompatible dtype float32.  This will discard the imaginary part and may not be what you intended.\n"
     ]
    },
    {
     "name": "stderr",
     "output_type": "stream",
     "text": [
      "WARNING:tensorflow:You are casting an input of type complex64 to an incompatible dtype float32.  This will discard the imaginary part and may not be what you intended.\n"
     ]
    },
    {
     "name": "stdout",
     "output_type": "stream",
     "text": [
      "WARNING:tensorflow:You are casting an input of type complex64 to an incompatible dtype float32.  This will discard the imaginary part and may not be what you intended.\n"
     ]
    },
    {
     "name": "stderr",
     "output_type": "stream",
     "text": [
      "WARNING:tensorflow:You are casting an input of type complex64 to an incompatible dtype float32.  This will discard the imaginary part and may not be what you intended.\n",
      "2023-06-20 15:16:09.227944: I tensorflow/core/common_runtime/executor.cc:1197] [/device:CPU:0] (DEBUG INFO) Executor start aborting (this does not indicate an error and you can ignore this message): INVALID_ARGUMENT: You must feed a value for placeholder tensor 'graph_5' with dtype int32 and shape [1]\n",
      "\t [[{{node graph_5}}]]\n",
      "2023-06-20 15:16:09.228032: I tensorflow/core/common_runtime/executor.cc:1197] [/device:CPU:0] (DEBUG INFO) Executor start aborting (this does not indicate an error and you can ignore this message): INVALID_ARGUMENT: You must feed a value for placeholder tensor 'graph_6' with dtype int32 and shape [1]\n",
      "\t [[{{node graph_6}}]]\n",
      "2023-06-20 15:16:09.228086: I tensorflow/core/common_runtime/executor.cc:1197] [/device:CPU:0] (DEBUG INFO) Executor start aborting (this does not indicate an error and you can ignore this message): INVALID_ARGUMENT: You must feed a value for placeholder tensor 'graph_10' with dtype int32 and shape [120]\n",
      "\t [[{{node graph_10}}]]\n"
     ]
    },
    {
     "name": "stdout",
     "output_type": "stream",
     "text": [
      "WARNING:tensorflow:You are casting an input of type complex64 to an incompatible dtype float32.  This will discard the imaginary part and may not be what you intended.\n"
     ]
    },
    {
     "name": "stderr",
     "output_type": "stream",
     "text": [
      "WARNING:tensorflow:You are casting an input of type complex64 to an incompatible dtype float32.  This will discard the imaginary part and may not be what you intended.\n"
     ]
    },
    {
     "name": "stdout",
     "output_type": "stream",
     "text": [
      "      Step     Time          Energy         fmax\n",
      "*Force-consistent energies used in optimization.\n",
      "FIRE:    0 15:16:11      -29.568342*       2.9009\n",
      "FIRE:    1 15:16:11      -29.578398*       2.2502\n",
      "FIRE:    2 15:16:11      -29.596260*       1.0796\n",
      "FIRE:    3 15:16:11      -29.603197*       0.7121\n",
      "FIRE:    4 15:16:11      -29.603662*       0.6402\n",
      "FIRE:    5 15:16:11      -29.604456*       0.5051\n",
      "FIRE:    6 15:16:11      -29.605370*       0.3290\n",
      "FIRE:    7 15:16:11      -29.606241*       0.3425\n",
      "FIRE:    8 15:16:11      -29.607033*       0.3551\n",
      "FIRE:    9 15:16:11      -29.607840*       0.3644\n",
      "FIRE:   10 15:16:11      -29.608799*       0.3692\n",
      "FIRE:   11 15:16:11      -29.610073*       0.3688\n",
      "FIRE:   12 15:16:11      -29.611643*       0.3624\n",
      "FIRE:   13 15:16:11      -29.613335*       0.3507\n",
      "FIRE:   14 15:16:11      -29.615097*       0.3369\n",
      "FIRE:   15 15:16:11      -29.617233*       0.3262\n",
      "FIRE:   16 15:16:12      -29.620089*       0.3217\n",
      "FIRE:   17 15:16:12      -29.623476*       0.3209\n",
      "FIRE:   18 15:16:12      -29.627167*       0.3115\n",
      "FIRE:   19 15:16:12      -29.631531*       0.2821\n",
      "FIRE:   20 15:16:12      -29.636150*       0.2363\n",
      "FIRE:   21 15:16:12      -29.641029*       0.2529\n",
      "FIRE:   22 15:16:12      -29.646395*       0.1993\n",
      "FIRE:   23 15:16:12      -29.652018*       0.1774\n",
      "FIRE:   24 15:16:12      -29.657125*       0.2655\n",
      "FIRE:   25 15:16:12      -29.661976*       0.2804\n",
      "FIRE:   26 15:16:12      -29.666452*       0.1378\n",
      "FIRE:   27 15:16:12      -29.669548*       0.2572\n",
      "FIRE:   28 15:16:12      -29.669834*       0.7637\n",
      "FIRE:   29 15:16:12      -29.672043*       0.1230\n",
      "FIRE:   30 15:16:12      -29.670662*       0.5820\n",
      "FIRE:   31 15:16:12      -29.671278*       0.4486\n",
      "FIRE:   32 15:16:12      -29.671997*       0.2118\n",
      "FIRE:   33 15:16:12      -29.672222*       0.0750\n",
      "Final structure\n",
      "Full Formula (H6 Pb3)\n",
      "Reduced Formula: H2Pb\n",
      "abc   :   5.499290   5.499290  20.957015\n",
      "angles:  90.000000  90.000000 120.000000\n",
      "pbc   :       True       True       True\n",
      "Sites (9)\n",
      "  #  SP            a         b         c\n",
      "---  ----  ---------  --------  --------\n",
      "  0  Pb     0.333333  0.666667  0.693244\n",
      "  1  Pb     0.666667  0.333333  0.693244\n",
      "  2  Pb    -0         0         0.628186\n",
      "  3  H      0.36664   0.287481  0.414221\n",
      "  4  H      0.712519  0.079159  0.414221\n",
      "  5  H      0.920841  0.63336   0.414221\n",
      "  6  H      0.287481  0.36664   0.414221\n",
      "  7  H      0.079159  0.712519  0.414221\n",
      "  8  H      0.63336   0.920841  0.414221\n"
     ]
    },
    {
     "name": "stderr",
     "output_type": "stream",
     "text": [
      "/home/theorystud01/anaconda3/envs/m3gnet/lib/python3.9/site-packages/pymatgen/io/ase.py:174: UserWarning: Only FixAtoms is supported by Pymatgen. Other constraints will not be set.\n",
      "  warnings.warn(\"Only FixAtoms is supported by Pymatgen. Other constraints will not be set.\")\n"
     ]
    }
   ],
   "source": [
    "print(os.getcwd())\n",
    "relax_structure(final_test_structure, model_path)"
   ]
  },
  {
   "cell_type": "code",
   "execution_count": null,
   "id": "015c806e-f6ba-41db-a687-27243a4645d6",
   "metadata": {},
   "outputs": [],
   "source": [
    "    #print(dict_new)\n",
    "\n",
    "adendum = \"relaxed_structures_{}_{}.pickle\".format(f_max, maxsteps)\n",
    "\n",
    "pickle.dump(dict_new, open(model_path + adendum, 'wb'))\n",
    "\n",
    "    #with open(model_path+'relaxed_struc.json', 'w') as outfile:\n",
    "    #    json.dump(dict_new, outfile)    \n",
    "def write_list(a_list, path):\n",
    "        # store list in binary file so 'wb' mode\n",
    "    with open(path, 'wb') as fp:\n",
    "        pickle.dump(a_list, fp)\n",
    "            print('Done writing list into a binary file')"
   ]
  },
  {
   "cell_type": "markdown",
   "id": "0dd851d6-1ff7-4cc3-96e9-02499fc803cc",
   "metadata": {},
   "source": [
    "## MACE"
   ]
  },
  {
   "cell_type": "markdown",
   "id": "c51e6f55-4153-40f7-9670-a0f0b23609f1",
   "metadata": {
    "jp-MarkdownHeadingCollapsed": true,
    "tags": []
   },
   "source": [
    "# Archive"
   ]
  },
  {
   "cell_type": "code",
   "execution_count": null,
   "id": "b2634f0e-acc8-4e19-918f-9d6bbf459d1a",
   "metadata": {},
   "outputs": [],
   "source": [
    "from pymatgen.core.structure import Structure\n",
    "\n",
    "# Get a relaxed run key\n",
    "\n",
    "run_relaxed = list(relaxed_structure_data)[0][0]\n",
    "print(run_relaxed)\n",
    "\n",
    "\n",
    "list_keys = list(test_structures)\n",
    "runs_keys = []\n",
    "for value in list_keys:\n",
    "    runs_keys.append(value[0])\n",
    "\n",
    "print(runs_keys)\n",
    "\n",
    "\n",
    "for key_relaxed, value_relaxed in relaxed_structure_data:\n",
    "    print(\"Key relaxed: {}\".format(key_relaxed))\n",
    "    for key, value in test_structures:\n",
    "        print(\"Key test: {}\".format(key)\n",
    "        if key == key_relaxed:\n",
    "            index = runs_keys.index(key_relaxed)\n",
    "            print(\"Index input structures: {}\".format(index))\n",
    "            print(\"Key structure: {}\".format(key))\n",
    "            energy_structure = test_energies[index]\n",
    "            print(energy_structure)\n",
    "            print(value_relaxed['energy'])\n",
    "            # print(\"test\")\n",
    "\n"
   ]
  },
  {
   "cell_type": "markdown",
   "id": "55ed7cb9-bd23-4074-8c42-219608ed52e7",
   "metadata": {},
   "source": [
    "Select the first and last element of each run"
   ]
  },
  {
   "cell_type": "code",
   "execution_count": 38,
   "id": "4dbf2182-82ee-400c-9b6a-a2ef7ebccf7b",
   "metadata": {},
   "outputs": [
    {
     "name": "stdout",
     "output_type": "stream",
     "text": [
      "['runs_1/elements/Ag/Ag/xxx_02k-00_dkepler', 'runs_1/elements/Ag/Ag/xxx_02k-00_phexAl', 'runs_1/elements/Ag/Ag/xxx_02k-00_psqr2Be', 'runs_1/elements/Ag/Ag/xxx_02k-00_psqrAs', 'runs_1/elements/Ag/Ag/xxx_02k-00_pSsBr', 'runs_1/elements/Ag/Ag/xxx_02k-00_skepler', 'runs_1/elements/Ag/Ag/xxx_02p-00_graphene', 'runs_1/elements/Ag/Ag/xxx_02p-00_square', 'runs_1/elements/Al/Al/xxx_02k-00_dkepler', 'runs_1/elements/Al/Al/xxx_02k-00_phexAl']\n",
      "{'runs_1/elements/Ag/Ag/xxx_02k-00_dkepler': [{'structure': {'@module': 'pymatgen.core.structure', '@class': 'Structure', 'charge': 0, 'lattice': {'matrix': [[5.0609301, 0.06860008, 0.0], [0.07564158, 5.62897846, 0.0], [0.0, 0.0, 17.47820915]], 'pbc': [True, True, True], 'a': 5.061395010079931, 'b': 5.629486668584345, 'c': 17.47820915, 'alpha': 90.0, 'beta': 90.0, 'gamma': 88.45352472892816, 'volume': 497.8261945324156}, 'sites': [{'species': [{'element': 'Ag', 'occu': 1}], 'abc': [0.69937866, 0.7548835, 0.19585474], 'xyz': [3.5966070923475963, 4.297200393335703, 3.423190108738871], 'label': 'Ag', 'properties': {}}, {'species': [{'element': 'Ag', 'occu': 1}], 'abc': [0.19941408, 0.0050994, 0.19583729], 'xyz': [1.0096064465088601, 0.0423842346000504, 3.422885113989204], 'label': 'Ag', 'properties': {}}, {'species': [{'element': 'Ag', 'occu': 1}], 'abc': [0.02446576, 0.7618827, 0.05412946], 'xyz': [0.181449512406042, 4.290299660439903, 0.946086023056559], 'label': 'Ag', 'properties': {}}, {'species': [{'element': 'Ag', 'occu': 1}], 'abc': [0.5244711, 0.01188565, 0.05408053], 'xyz': [2.6552106259154367, 0.10288282725078698, 0.9452308142828496], 'label': 'Ag', 'properties': {}}, {'species': [{'element': 'Ag', 'occu': 1}], 'abc': [0.02448959, 0.26188728, 0.05413809], 'xyz': [0.1437496708087614, 1.475837845901156, 0.9462368600015236], 'label': 'Ag', 'properties': {}}, {'species': [{'element': 'Ag', 'occu': 1}], 'abc': [0.69935674, 0.25488051, 0.19586071], 'xyz': [3.55867514059148, 1.4826928289763537, 3.4232944536474967], 'label': 'Ag', 'properties': {}}, {'species': [{'element': 'Ag', 'occu': 1}], 'abc': [0.19943519, 0.50508164, 0.19584694], 'xyz': [1.0475327293488104, 2.8567749420902895, 3.423053778707501], 'label': 'Ag', 'properties': {}}, {'species': [{'element': 'Ag', 'occu': 1}], 'abc': [0.52450888, 0.51188933, 0.05407221], 'xyz': [2.6932228962156293, 2.9173953636025427, 0.9450853955827216], 'label': 'Ag', 'properties': {}}]}, 'energy': -20.08252932, 'forces': [[-0.00034046, 0.00073952, -0.01019144], [0.0007569, -0.00076177, -0.00865967], [-0.00030658, -9.395e-05, 0.00952699], [-0.00010986, 0.00011619, 0.00932412], [-0.00030658, -9.395e-05, 0.00952699], [-0.00034046, 0.00073952, -0.01019144], [0.0007569, -0.00076177, -0.00865967], [-0.00010986, 0.00011619, 0.00932412]], 'stress': [[-5.9316565, -2.8137819, 0.03329585], [-2.81378197, 1.69672139, -0.0005522], [0.03329598, -0.00055217, -2.15815659]]}, {'structure': {'@module': 'pymatgen.core.structure', '@class': 'Structure', 'charge': 0, 'lattice': {'matrix': [[4.97016641, 0.00318534, 0.0], [0.00031134, 5.66921021, 0.0], [0.0, 0.0, 17.50877164]], 'pbc': [True, True, True], 'a': 4.970167430729392, 'b': 5.669210218549039, 'c': 17.50877164, 'alpha': 90.0, 'beta': 90.0, 'gamma': 89.96013304447199, 'volume': 493.343208165511}, 'sites': [{'species': [{'element': 'Ag', 'occu': 1}], 'abc': [0.69593197, 0.75832139, 0.19625981], 'xyz': [3.4591337967206903, 4.301300146590712, 3.4362681953997884], 'label': 'Ag', 'properties': {}}, {'species': [{'element': 'Ag', 'occu': 1}], 'abc': [0.19593876, 0.00840006, 0.19639719], 'xyz': [0.9738508586437319, 0.048245837486391004, 3.4386735504476915], 'label': 'Ag', 'properties': {}}, {'species': [{'element': 'Ag', 'occu': 1}], 'abc': [0.02796107, 0.75845492, 0.05324257], 'xyz': [0.1392073082564515, 4.299929441803447, 0.9322119996567148], 'label': 'Ag', 'properties': {}}, {'species': [{'element': 'Ag', 'occu': 1}], 'abc': [0.5278978, 0.00857488, 0.05312983], 'xyz': [2.623742583176037, 0.0502943312237768, 0.9302380607420212], 'label': 'Ag', 'properties': {}}, {'species': [{'element': 'Ag', 'occu': 1}], 'abc': [0.0279849, 0.2584595, 0.05325118], 'xyz': [0.13917007874793902, 1.4653503776928611, 0.9323627501805352], 'label': 'Ag', 'properties': {}}, {'species': [{'element': 'Ag', 'occu': 1}], 'abc': [0.69591005, 0.2583184, 0.19626577], 'xyz': [3.4588691797420763, 1.4666780208295311, 3.4363725476787628], 'label': 'Ag', 'properties': {}}, {'species': [{'element': 'Ag', 'occu': 1}], 'abc': [0.19595987, 0.5083823, 0.19640683], 'xyz': [0.9741114433272487, 2.8827503245555888, 3.438842335006301], 'label': 'Ag', 'properties': {}}, {'species': [{'element': 'Ag', 'occu': 1}], 'abc': [0.52793557, 0.50857856, 0.05312153], 'xyz': [2.624085977507074, 2.8849204192276416, 0.9300927379374092], 'label': 'Ag', 'properties': {}}]}, 'energy': -20.0822971, 'forces': [[0.0007323, -0.00068092, -0.00071316], [0.00067971, 0.00057796, -0.00048725], [-0.00074406, 5.1e-05, -0.00030489], [-0.00066795, 5.197e-05, 0.0015053], [-0.00074406, 5.1e-05, -0.00030489], [0.0007323, -0.00068092, -0.00071316], [0.00067971, 0.00057796, -0.00048725], [-0.00066795, 5.197e-05, 0.0015053]], 'stress': [[-0.03705402, -0.06183516, 0.02587694], [-0.06183508, -0.0046013, 0.00203087], [0.02587701, 0.00203086, -1.94159285]]}]}\n"
     ]
    }
   ],
   "source": [
    "first_batch = run_files[0] # this is a list of all the different runs with the geo_opts for the first batch of data\n",
    "keys_batch = list(first_batch.keys())[:10] \n",
    "print(list(first_batch.keys())[:10])\n",
    "selected_run = first_batch[keys_batch[0]]\n",
    "# print(selected_run)\n",
    "reformated_run = {keys_batch[0]: [first_batch[keys_batch[0]][0], first_batch[keys_batch[0]][-1]]}\n",
    "print(reformated_run)"
   ]
  },
  {
   "cell_type": "markdown",
   "id": "f3a01966",
   "metadata": {},
   "source": [
    "### Obtain structure information for the test runs"
   ]
  },
  {
   "cell_type": "code",
   "execution_count": null,
   "id": "b8915827",
   "metadata": {},
   "outputs": [],
   "source": [
    "run_files = []\n",
    "wd = os.getcwd()\n",
    "# os.chdir('geo_opt')\n",
    "\n",
    "for file in tqdm(sorted(os.listdir(\"data_prep/geo_opt\"))[30:32]):\n",
    "    if file.endswith('json.bz2'):\n",
    "        file = json.load(bz2.open(\"data_prep/geo_opt/{}\".format(file), 'r'))\n",
    "        # print(list(file.keys()))\n",
    "        for i in list(file.keys()):\n",
    "            # print(i)\n",
    "            if i in runs_relaxed:\n",
    "                print(file[i])\n",
    "                run_files.append(file[i])\n",
    "                print(\"run_files added\")\n",
    "\n",
    "        # if file.keys() in runs_relaxed:\n",
    "        #     run_files.append(json.load(fbz2.open(\"data_prep/geo_opt/{}\".format(file), 'r')))\n",
    "        #     print(\"run_file added\")\n",
    "\n",
    "\n",
    "# run_files_new = [run for run in run_files if run in runs_relaxed]"
   ]
  }
 ],
 "metadata": {
  "kernelspec": {
   "display_name": "Python 3 (ipykernel)",
   "language": "python",
   "name": "python3"
  },
  "language_info": {
   "codemirror_mode": {
    "name": "ipython",
    "version": 3
   },
   "file_extension": ".py",
   "mimetype": "text/x-python",
   "name": "python",
   "nbconvert_exporter": "python",
   "pygments_lexer": "ipython3",
   "version": "3.9.16"
  }
 },
 "nbformat": 4,
 "nbformat_minor": 5
}
