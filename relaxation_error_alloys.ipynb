{
 "cells": [
  {
   "cell_type": "code",
   "execution_count": 13,
   "id": "f1d910c0-4afb-43bd-a949-69ad8176a740",
   "metadata": {},
   "outputs": [],
   "source": [
    "import json\n",
    "import numpy as np\n",
    "import pickle\n",
    "# import pandas as pd\n",
    "# from tqdm  import tqdm\n",
    "\n",
    "import json, bz2, os\n",
    "import sys\n",
    "\n",
    "from tqdm import tqdm\n",
    "# from ase_write import write_xyz\n",
    "import pandas as pd\n",
    "import numpy as np\n",
    "from pymatgen.core.structure import Structure\n",
    "# import tensorflow as tf\n",
    "# tf.config.set_visible_devices([], 'GPU')\n",
    "from m3gnet.models import M3GNet, Potential\n",
    "# from sklearn.model_selection import train_test_split\n",
    "from pymatgen.io.ase import AseAtomsAdaptor\n",
    "from pymatgen.core.structure import Structure\n",
    "import pickle\n",
    "import os\n",
    "from pymatgen.io.vasp.outputs import Vasprun"
   ]
  },
  {
   "cell_type": "code",
   "execution_count": 14,
   "id": "c5cbc78d-c8c0-48c0-afa5-ba5bda70ebe1",
   "metadata": {},
   "outputs": [],
   "source": [
    "from notebook.services.config import ConfigManager\n",
    "cm = ConfigManager().update('notebook', {'limit_output': 100})"
   ]
  },
  {
   "cell_type": "markdown",
   "id": "3ce315a6-720c-4b38-aa89-85cc847f5105",
   "metadata": {},
   "source": [
    "### Get data from Alloys"
   ]
  },
  {
   "cell_type": "code",
   "execution_count": 15,
   "id": "3ffe35c5-3d8d-48a9-9cf1-31176320094c",
   "metadata": {},
   "outputs": [
    {
     "name": "stdout",
     "output_type": "stream",
     "text": [
      "/local/scratch/fjager/data_prep_alloys/CE_data_TM_sulphide\n"
     ]
    }
   ],
   "source": [
    "print(os.getcwd())\n",
    "wd = os.getcwd()\n",
    "data_path = \"data_prep_alloys/CE_data_TM_sulphide/\"\n",
    "os.chdir(\"/local/scratch/fjager/\")"
   ]
  },
  {
   "cell_type": "code",
   "execution_count": 16,
   "id": "85ae641e-6f7f-4e82-a456-cd7849434cb9",
   "metadata": {},
   "outputs": [],
   "source": [
    "def prepare_data(path):\n",
    "    os.chdir(path)\n",
    "\n",
    "    run_0 = []\n",
    "    run_final = []\n",
    "\n",
    "    for dir in os.listdir('./'):\n",
    "        if os.path.isdir(dir):\n",
    "            for dir2 in os.listdir(dir):\n",
    "                if os.path.isdir(os.path.join(dir,dir2)):\n",
    "                    for dir3 in os.listdir(os.path.join(dir,dir2)):\n",
    "                        if os.path.isdir(os.path.join(dir,dir2,dir3)):\n",
    "                            for dir4 in os.listdir(os.path.join(dir,dir2,dir3)):\n",
    "                                if os.path.isdir(os.path.join(dir,dir2,dir3,dir4)):\n",
    "                                    for dir5 in os.listdir(os.path.join(dir,dir2,dir3,dir4)):\n",
    "                                        if os.path.isdir(os.path.join(dir,dir2,dir3,dir4,dir5)):\n",
    "                                            for dir6 in os.listdir(os.path.join(dir,dir2,dir3,dir4,dir5)):\n",
    "                                                for dir7 in os.listdir(os.path.join(dir,dir2,dir3,dir4,dir5,dir6)):\n",
    "                                                    if dir7 == 'run.0':\n",
    "                                                        run_0.append(os.path.join(dir,dir2,dir3,dir4,dir5,dir6,dir7))\n",
    "                                                    elif dir7 == 'run.final':\n",
    "                                                        run_final.append(os.path.join(dir,dir2,dir3,dir4,dir5,dir6,dir7))\n",
    "    energies = {}\n",
    "    forces = {}\n",
    "    stresses = {}\n",
    "    structures = {}\n",
    "    for dir in run_0:\n",
    "        if os.path.isfile(os.path.join(dir,'vasprun.xml')):\n",
    "            vasp_run = Vasprun(os.path.join(dir,'vasprun.xml'))\n",
    "            energies[dir]= [el['e_fr_energy'] for el in vasp_run.ionic_steps]\n",
    "            forces[dir] = [el['forces'] for el in vasp_run.ionic_steps]\n",
    "            stresses[dir] = [el['stress'] for el in vasp_run.ionic_steps]\n",
    "            structures[dir] = [el['structure'] for el in vasp_run.ionic_steps]\n",
    "    \n",
    "    os.chdir(\"/local/scratch/fjager/\")\n",
    "            \n",
    "    return energies, forces, stresses, structures"
   ]
  },
  {
   "cell_type": "code",
   "execution_count": 17,
   "id": "b60f2501-a2a0-432f-8355-74bd73976ffb",
   "metadata": {},
   "outputs": [],
   "source": [
    "%%capture\n",
    "energies, forces, stresses, structures = prepare_data(data_path)"
   ]
  },
  {
   "cell_type": "markdown",
   "id": "2a1b221b-f6c1-4733-a012-2e19d14e29ab",
   "metadata": {},
   "source": [
    "### Load the relaxed structures"
   ]
  },
  {
   "cell_type": "code",
   "execution_count": 4,
   "id": "db359405-77de-40fe-8de6-50adaae5cbcc",
   "metadata": {},
   "outputs": [],
   "source": [
    "relaxed_structures_path = 'relaxation_alloys/save_model/00971-0.024993-0.002652-0.020979-0.013617relax_struc_0.1_1000_val.pickle'\n",
    "\n",
    "# Load the pickle file\n",
    "with open(relaxed_structures_path, 'rb') as file:\n",
    "    relaxed_structures = pickle.load(file)"
   ]
  },
  {
   "cell_type": "code",
   "execution_count": 7,
   "id": "08886bf7-ae05-4422-ba47-42220eb45b89",
   "metadata": {},
   "outputs": [
    {
     "name": "stdout",
     "output_type": "stream",
     "text": [
      "dict_keys(['CE_Mo-Ta_S2/p_MoS2/training_data/SCEL7_7_1_1_0_4_2/9/calctype.default/run.0', 'CE_Nb-Mo_S2/p_MoS2/training_data/SCEL7_1_7_1_0_0_0/0/calctype.default/run.0', 'CE_Ir-Ru_S2/p-WTe2/training_data/SCEL4_4_1_1_0_0_0/27/calctype.default/run.0', 'CE_Ti-V_S2/p_MoS2/training_data/SCEL4_4_1_1_0_0_2/0/calctype.default/run.0', 'CE_Ir-Ru_S2/p-NbTe2/training_data/SCEL4_4_1_1_0_1_0/22/calctype.default/run.0', 'CE_Ir-Ru_S2/p-NbTe2/training_data/SCEL4_2_2_1_0_0_0/25/calctype.default/run.0', 'CE_Ti-Ta_S2/p_CdI2/training_data/SCEL6_3_2_1_0_2_0/3/calctype.default/run.0', 'CE_Ir-Ru_S2/p-NbTe2/training_data/SCEL4_4_1_1_0_0_1/15/calctype.default/run.0', 'CE_Ti-Ta_S2/p_MoS2/training_data/SCEL6_2_3_1_0_0_1/8/calctype.default/run.0', 'CE_Ti-Nb_S2/p_CdI2/training_data/SCEL3_1_3_1_0_0_0/1/calctype.default/run.0', 'CE_Nb-Mo_S2/p_MoS2/training_data/SCEL7_7_1_1_0_4_2/2/calctype.default/run.0', 'CE_Nb-Mo_S2/p_MoS2/training_data/SCEL7_7_1_1_0_0_6/6/calctype.default/run.0', 'CE_Mo-Ta_S2/p_MoS2/training_data/SCEL6_6_1_1_0_3_2/6/calctype.default/run.0', 'CE_Mo-W_S2/p_MoS2/training_data/SCEL7_7_1_1_0_2_2/6/calctype.default/run.0', 'CE_Mo-Ta_S2/p_MoS2/training_data/SCEL6_6_1_1_0_0_2/2/calctype.default/run.0', 'CE_Ir-Ru_S2/p-NbTe2/training_data/SCEL5_5_1_1_0_1_3/50/calctype.default/run.0', 'CE_Ti-Ta_S2/p_MoS2/training_data/SCEL6_3_2_1_0_2_0/5/calctype.default/run.0', 'CE_Ir-Ru_S2/p-NbTe2/training_data/SCEL3_3_1_1_0_0_2/11/calctype.default/run.0', 'CE_Ir-Ru_S2/p-NbTe2/training_data/SCEL4_4_1_1_0_1_3/19/calctype.default/run.0', 'CE_Ti-Ta_S2/p_MoS2/training_data/SCEL2_1_2_1_1_0_0/0/calctype.default/run.0', 'CE_Ti-Ta_S2/p_CdI2/training_data/SCEL6_2_3_1_0_1_0/0/calctype.default/run.0', 'CE_Ir-Ru_S2/p-NbTe2/training_data/SCEL4_4_1_1_0_1_3/35/calctype.default/run.0', 'CE_Mo-Ta_S2/p_MoS2/training_data/SCEL8_1_8_1_0_0_0/29/calctype.default/run.0', 'CE_Mo-Ta_S2/p_MoS2/training_data/SCEL4_2_2_1_0_1_0/1/calctype.default/run.0', 'CE_Ti-Ta_S2/p_MoS2/training_data/SCEL6_3_2_1_0_1_1/5/calctype.default/run.0', 'CE_Ti-Ta_S2/p_CdI2/training_data/SCEL7_1_7_1_0_0_0/11/calctype.default/run.0', 'CE_Ti-Ta_S2/p_CdI2/training_data/SCEL6_6_1_1_0_5_0/0/calctype.default/run.0', 'CE_Ir-Ru_S2/p-NbTe2/training_data/SCEL4_2_2_1_0_0_0/24/calctype.default/run.0', 'CE_Ir-Ru_S2/p-NbTe2/training_data/SCEL3_3_1_1_0_2_0/9/calctype.default/run.0', 'CE_Mo-Ta_S2/p_MoS2/training_data/SCEL6_1_6_1_3_0_0/7/calctype.default/run.0', 'CE_Nb-Mo_S2/p_MoS2/training_data/SCEL5_5_1_1_0_4_2/3/calctype.default/run.0', 'CE_Mo-Ta_S2/p_MoS2/training_data/SCEL9_3_3_1_0_1_0/23/calctype.default/run.0', 'CE_Ir-Ru_S2/p-WTe2/training_data/SCEL3_3_1_1_0_1_0/2/calctype.default/run.0', 'CE_Nb-Mo_S2/p_MoS2/training_data/SCEL6_6_1_1_0_3_2/3/calctype.default/run.0', 'CE_Ir-Ru_S2/p-NbTe2/training_data/SCEL4_4_1_1_0_0_2/13/calctype.default/run.0', 'CE_Mo-Ta_S2/p_MoS2/training_data/SCEL8_1_8_1_4_0_0/7/calctype.default/run.0', 'CE_Ir-Ru_S2/p-NbTe2/training_data/SCEL5_5_1_1_0_4_3/15/calctype.default/run.0', 'CE_Ir-Ru_S2/p-NbTe2/training_data/SCEL5_5_1_1_0_1_0/92/calctype.default/run.0', 'CE_Ir-Ru_S2/p-NbTe2/training_data/SCEL1_1_1_1_0_0_0/1/calctype.default/run.0', 'CE_Ti-Ta_S2/p_CdI2/training_data/SCEL6_1_6_1_4_0_0/0/calctype.default/run.0', 'CE_Ir-Ru_S2/p-NbTe2/training_data/SCEL4_2_2_1_0_0_0/2/calctype.default/run.0', 'CE_Ir-Ru_S2/p-NbTe2/training_data/SCEL4_4_1_1_0_2_2/0/calctype.default/run.0', 'CE_Ir-Ru_S2/p-WTe2/training_data/SCEL2_2_1_1_0_1_1/0/calctype.default/run.0', 'CE_Nb-Mo_S2/p_MoS2/training_data/SCEL8_1_8_1_5_0_0/17/calctype.default/run.0', 'CE_Nb-Mo_S2/p_MoS2/training_data/SCEL5_1_5_1_1_0_0/5/calctype.default/run.0', 'CE_Ir-Ru_S2/p-WTe2/training_data/SCEL2_2_1_1_0_1_0/4/calctype.default/run.0', 'CE_Ir-Ru_S2/p-WTe2/training_data/SCEL3_3_1_1_0_1_0/7/calctype.default/run.0', 'CE_Ir-Ru_S2/p-WTe2/training_data/SCEL4_2_2_1_0_0_1/26/calctype.default/run.0', 'CE_Nb-Mo_S2/p_MoS2/training_data/SCEL7_7_1_1_0_2_2/9/calctype.default/run.0', 'CE_Ir-Ru_S2/p-NbTe2/training_data/SCEL4_4_1_1_0_0_2/26/calctype.default/run.0', 'CE_Mo-W_S2/p_MoS2/training_data/SCEL5_1_5_1_0_0_0/5/calctype.default/run.0', 'CE_Ir-Ru_S2/p-NbTe2/training_data/SCEL4_2_2_1_1_1_0/23/calctype.default/run.0', 'CE_Nb-Mo_S2/p_MoS2/training_data/SCEL6_6_1_1_0_0_2/4/calctype.default/run.0', 'CE_Mo-Ta_S2/p_MoS2/training_data/SCEL7_1_7_1_5_0_0/3/calctype.default/run.0', 'CE_Ti-Ta_S2/p_CdI2/training_data/SCEL7_7_1_1_0_0_3/3/calctype.default/run.0', 'CE_Mo-W_S2/p_MoS2/training_data/SCEL7_7_1_1_0_2_2/8/calctype.default/run.0', 'CE_Ir-Ru_S2/p-NbTe2/training_data/SCEL4_2_2_1_0_1_1/30/calctype.default/run.0', 'CE_Mo-Ta_S2/p_MoS2/training_data/SCEL6_3_2_1_0_1_1/6/calctype.default/run.0', 'CE_Ti-Nb_S2/p_CdI2/training_data/SCEL5_5_1_1_0_2_1/2/calctype.default/run.0', 'CE_Nb-Mo_S2/p_MoS2/training_data/SCEL7_7_1_1_0_0_3/7/calctype.default/run.0', 'CE_Mo-W_S2/p_MoS2/training_data/SCEL4_1_4_1_2_0_0/1/calctype.default/run.0', 'CE_Mo-W_S2/p_MoS2/training_data/SCEL6_1_6_1_0_0_0/0/calctype.default/run.0', 'CE_Ti-Ta_S2/p_CdI2/training_data/SCEL6_1_6_1_0_0_0/1/calctype.default/run.0', 'CE_Ir-Ru_S2/p-NbTe2/training_data/SCEL5_5_1_1_0_4_3/85/calctype.default/run.0', 'CE_Mo-Ta_S2/p_MoS2/training_data/SCEL7_7_1_1_0_6_2/14/calctype.default/run.0', 'CE_Mo-W_S2/p_MoS2/training_data/SCEL6_6_1_1_0_3_2/4/calctype.default/run.0', 'CE_Ir-Ru_S2/p-WTe2/training_data/SCEL3_1_3_1_2_0_0/10/calctype.default/run.0', 'CE_Nb-Mo_S2/p_MoS2/training_data/SCEL7_7_1_1_0_0_6/10/calctype.default/run.0', 'CE_Ir-Ru_S2/p-NbTe2/training_data/SCEL4_4_1_1_0_2_0/14/calctype.default/run.0', 'CE_Ti-Ta_S2/p_MoS2/training_data/SCEL6_6_1_1_0_3_2/6/calctype.default/run.0', 'CE_Mo-Ta_S2/p_MoS2/training_data/SCEL8_1_8_1_4_0_0/25/calctype.default/run.0', 'CE_Nb-Mo_S2/p_MoS2/training_data/SCEL8_1_8_1_4_0_0/18/calctype.default/run.0', 'CE_Mo-Ta_S2/p_MoS2/training_data/SCEL6_1_6_1_0_0_0/3/calctype.default/run.0', 'CE_Ti-Ta_S2/p_CdI2/training_data/SCEL5_5_1_1_0_2_2/4/calctype.default/run.0', 'CE_Mo-Ta_S2/p_MoS2/training_data/SCEL8_1_8_1_4_0_0/6/calctype.default/run.0', 'CE_Ir-Ru_S2/p-WTe2/training_data/SCEL2_2_1_1_0_1_0/1/calctype.default/run.0', 'CE_Mo-Ta_S2/p_MoS2/training_data/SCEL7_7_1_1_0_0_3/8/calctype.default/run.0', 'CE_Mo-W_S2/p_MoS2/training_data/SCEL7_7_1_1_0_1_5/9/calctype.default/run.0', 'CE_Ti-Ta_S2/p_CdI2/training_data/SCEL6_1_6_1_4_0_0/4/calctype.default/run.0', 'CE_Ir-Ru_S2/p-WTe2/training_data/SCEL2_2_1_1_0_0_0/3/calctype.default/run.0', 'CE_Mo-Ta_S2/p_MoS2/training_data/SCEL7_7_1_1_0_1_5/15/calctype.default/run.0', 'CE_Ti-Ta_S2/p_CdI2/training_data/SCEL7_7_1_1_0_3_5/2/calctype.default/run.0', 'CE_Ir-Ru_S2/p-NbTe2/training_data/SCEL5_5_1_1_0_2_1/6/calctype.default/run.0', 'CE_Nb-Mo_S2/p_MoS2/training_data/SCEL7_1_7_1_5_0_0/7/calctype.default/run.0', 'CE_Nb-Mo_S2/p_MoS2/training_data/SCEL7_7_1_1_0_1_5/0/calctype.default/run.0', 'CE_Mo-W_S2/p_MoS2/training_data/SCEL6_6_1_1_0_3_2/1/calctype.default/run.0', 'CE_Ir-Ru_S2/p-NbTe2/training_data/SCEL4_4_1_1_0_2_1/25/calctype.default/run.0', 'CE_Mo-Ta_S2/p_MoS2/training_data/SCEL8_1_8_1_0_0_0/17/calctype.default/run.0', 'CE_Ti-Ta_S2/p_CdI2/training_data/SCEL7_1_7_1_3_0_0/0/calctype.default/run.0', 'CE_Mo-Ta_S2/p_MoS2/training_data/SCEL8_1_8_1_4_0_0/12/calctype.default/run.0', 'CE_Ir-Ru_S2/p-NbTe2/training_data/SCEL4_2_2_1_1_1_0/17/calctype.default/run.0', 'CE_Nb-Mo_S2/p_MoS2/training_data/SCEL7_1_7_1_3_0_0/11/calctype.default/run.0', 'CE_Nb-Mo_S2/p_MoS2/training_data/SCEL8_1_8_1_7_0_0/16/calctype.default/run.0', 'CE_Ti-Nb_S2/p_CdI2/training_data/SCEL5_5_1_1_0_4_2/0/calctype.default/run.0', 'CE_Mo-Ta_S2/p_MoS2/training_data/SCEL7_1_7_1_3_0_0/6/calctype.default/run.0', 'CE_Ti-V_S2/p_MoS2/training_data/SCEL1_1_1_1_0_0_0/1/calctype.default/run.0', 'CE_Zr-Ta_S2/p_MoS2/training_data/SCEL3_1_3_1_0_0_0/1/calctype.default/run.0', 'CE_Ir-Ru_S2/p-NbTe2/training_data/SCEL4_4_1_1_0_0_1/7/calctype.default/run.0', 'CE_Mo-W_S2/p_MoS2/training_data/SCEL8_2_4_1_0_1_1/18/calctype.default/run.0', 'CE_Nb-Mo_S2/p_MoS2/training_data/SCEL7_1_7_1_3_0_0/0/calctype.default/run.0', 'CE_Ir-Ru_S2/p-NbTe2/training_data/SCEL4_4_1_1_0_0_1/24/calctype.default/run.0', 'CE_Nb-Mo_S2/p_MoS2/training_data/SCEL6_6_1_1_0_3_2/0/calctype.default/run.0', 'CE_Mo-W_S2/p_MoS2/training_data/SCEL6_2_3_1_1_1_0/6/calctype.default/run.0', 'CE_Ti-Ta_S2/p_CdI2/training_data/SCEL3_3_1_1_0_0_2/1/calctype.default/run.0', 'CE_Ir-Ru_S2/p-NbTe2/training_data/SCEL4_4_1_1_0_2_1/3/calctype.default/run.0', 'CE_Ti-Ta_S2/p_CdI2/training_data/SCEL7_7_1_1_0_0_6/10/calctype.default/run.0', 'CE_Ti-Ta_S2/p_CdI2/training_data/SCEL6_6_1_1_0_3_2/0/calctype.default/run.0', 'CE_Ir-Ru_S2/p-NbTe2/training_data/SCEL4_2_2_1_0_1_1/33/calctype.default/run.0', 'CE_Mo-Ta_S2/p_MoS2/training_data/SCEL7_1_7_1_5_0_0/0/calctype.default/run.0', 'CE_Mo-W_S2/p_MoS2/training_data/SCEL4_2_2_1_0_1_1/2/calctype.default/run.0', 'CE_Ti-Ta_S2/p_CdI2/training_data/SCEL6_1_6_1_4_0_0/3/calctype.default/run.0', 'CE_Ir-Ru_S2/p-WTe2/training_data/SCEL2_2_1_1_0_1_0/0/calctype.default/run.0', 'CE_Ir-Ru_S2/p-NbTe2/training_data/SCEL5_5_1_1_0_4_0/110/calctype.default/run.0', 'CE_Mo-W_S2/p_MoS2/training_data/SCEL6_3_2_1_0_2_0/8/calctype.default/run.0', 'CE_Mo-Ta_S2/p_MoS2/training_data/SCEL5_5_1_1_0_4_2/3/calctype.default/run.0', 'CE_Nb-Mo_S2/p_MoS2/training_data/SCEL8_4_2_1_0_2_1/23/calctype.default/run.0', 'CE_Nb-Mo_S2/p_MoS2/training_data/SCEL6_1_6_1_4_0_0/7/calctype.default/run.0', 'CE_Mo-Ta_S2/p_MoS2/training_data/SCEL7_7_1_1_0_0_6/13/calctype.default/run.0', 'CE_Ir-Ru_S2/p-WTe2/training_data/SCEL3_1_3_1_1_0_0/10/calctype.default/run.0', 'CE_Nb-Mo_S2/p_MoS2/training_data/SCEL5_1_5_1_0_0_0/2/calctype.default/run.0', 'CE_Nb-Mo_S2/p_MoS2/training_data/SCEL7_1_7_1_1_0_0/5/calctype.default/run.0', 'CE_Ir-Ru_S2/p-WTe2/training_data/SCEL2_1_2_1_0_0_0/3/calctype.default/run.0', 'CE_Ir-Ru_S2/p-NbTe2/training_data/SCEL4_2_2_1_0_0_0/13/calctype.default/run.0', 'CE_Ti-Ta_S2/p_CdI2/training_data/SCEL5_5_1_1_0_2_1/2/calctype.default/run.0', 'CE_Mo-Ta_S2/p_MoS2/training_data/SCEL5_1_5_1_1_0_0/3/calctype.default/run.0', 'CE_Ir-Ru_S2/p-WTe2/training_data/SCEL3_1_3_1_2_0_0/19/calctype.default/run.0', 'CE_Ir-Ru_S2/p-NbTe2/training_data/SCEL4_2_2_1_0_1_1/1/calctype.default/run.0', 'CE_Mo-W_S2/p_MoS2/training_data/SCEL7_1_7_1_1_0_0/16/calctype.default/run.0', 'CE_Ti-Ta_S2/p_CdI2/training_data/SCEL7_1_7_1_1_0_0/5/calctype.default/run.0', 'CE_Nb-Mo_S2/p_MoS2/training_data/SCEL8_1_8_1_5_0_0/4/calctype.default/run.0', 'CE_Ir-Ru_S2/p-NbTe2/training_data/SCEL4_2_2_1_1_1_0/6/calctype.default/run.0', 'CE_Ir-Ru_S2/p-NbTe2/training_data/SCEL4_2_2_1_1_1_0/20/calctype.default/run.0', 'CE_Ir-Ru_S2/p-WTe2/training_data/SCEL4_2_2_1_0_1_1/26/calctype.default/run.0', 'CE_Mo-Ta_S2/p_MoS2/training_data/SCEL6_3_2_1_0_2_0/4/calctype.default/run.0', 'CE_Ti-Nb_S2/p_CdI2/training_data/SCEL3_3_1_1_0_1_0/1/calctype.default/run.0', 'CE_Ir-Ru_S2/p-NbTe2/training_data/SCEL4_2_2_1_1_1_0/21/calctype.default/run.0', 'CE_Zr-Ta_S2/p_CdI2/training_data/SCEL4_1_4_1_2_0_0/0/calctype.default/run.0', 'CE_Ti-Ta_S2/p_CdI2/training_data/SCEL6_1_6_1_3_0_0/6/calctype.default/run.0', 'CE_Nb-Mo_S2/p_MoS2/training_data/SCEL8_2_4_1_0_1_0/11/calctype.default/run.0', 'CE_Nb-Mo_S2/p_MoS2/training_data/SCEL8_2_4_1_0_1_0/13/calctype.default/run.0', 'CE_Ir-Ru_S2/p-WTe2/training_data/SCEL2_1_2_1_0_0_0/1/calctype.default/run.0', 'CE_Mo-W_S2/p_MoS2/training_data/SCEL5_5_1_1_0_2_2/2/calctype.default/run.0', 'CE_Mo-Ta_S2/p_MoS2/training_data/SCEL8_1_8_1_0_0_0/8/calctype.default/run.0', 'CE_Nb-Mo_S2/p_MoS2/training_data/SCEL8_2_4_1_0_0_1/11/calctype.default/run.0', 'CE_Nb-Mo_S2/p_MoS2/training_data/SCEL8_1_8_1_5_0_0/13/calctype.default/run.0', 'CE_Mo-Ta_S2/p_MoS2/training_data/SCEL6_3_2_1_0_2_0/5/calctype.default/run.0'])\n"
     ]
    }
   ],
   "source": [
    "print(relaxed_structures.keys())"
   ]
  },
  {
   "cell_type": "markdown",
   "id": "34a78677-f89e-4665-a93a-4ee5cd8ff102",
   "metadata": {},
   "source": [
    "### Relaxation Error"
   ]
  },
  {
   "cell_type": "code",
   "execution_count": 71,
   "id": "9531dd6f-2f2f-4624-851e-75dec0678159",
   "metadata": {},
   "outputs": [],
   "source": [
    "def mae(arr):\n",
    "    n = len(arr)\n",
    "    # print(n)\n",
    "    return sum(arr)/n\n",
    "\n",
    "def rmse(arr):\n",
    "    n = len(arr)\n",
    "    return np.sqrt(sum(np.square(arr))/n)\n",
    "\n",
    "\n",
    "def area_per_atom(lat_param, nr_atoms):\n",
    "    area = lat_param[0]*lat_param[1] #yields the Area in Angstrom^2\n",
    "    res_area_per_atom = area/nr_atoms\n",
    "    \n",
    "    return res_area_per_atom\n",
    "\n",
    "def area_per_atom_sqrt(lat_param, nr_atoms):\n",
    "    area = lat_param[0]*lat_param[1] #yields the Area in Angstrom^2\n",
    "    res_area_per_atom = np.sqrt(area)/nr_atoms\n",
    "    \n",
    "    return res_area_per_atom\n",
    "\n",
    "def get_error_alloys(relaxed_structures, train_structures):\n",
    "    \n",
    "    runs_compared = 0\n",
    "    runs_compared_volume = 0\n",
    "    \n",
    "    runs_relaxed = list(relaxed_structures.keys()) #this is list of differnet runs\n",
    "    \n",
    "    diff_energy_per_atom = []\n",
    "    diff_area_per_atom = []\n",
    "    diff_area_per_atom_sqrt = []\n",
    "    area_per_atom_sqrt_arr = []\n",
    "    \n",
    "    for key in runs_relaxed:\n",
    "        # print(\"key: {}\".format(key))\n",
    "        for idx, dictionary in enumerate(train_structures):\n",
    "            if key in dictionary:\n",
    "                train_run = dictionary\n",
    "                final_structure_training = train_structures[key][-1]\n",
    "                # print(final_structure_training)\n",
    "                nr_sites = len(final_structure_training)\n",
    "                \n",
    "                energy_final = energies[key][-1]\n",
    "                energy_final = energy_final/nr_sites\n",
    "                \n",
    "                # Get data from relaxation\n",
    "                final_struct_relax = relaxed_structures[key][\"final_structure\"]\n",
    "                final_struct_relax_energy =  relaxed_structures[key]['energy']\n",
    "                \n",
    "                # print(final_struct_relax)\n",
    "                \n",
    "            \n",
    "                if final_struct_relax != None:\n",
    "            \n",
    "                    lat_parm_train = final_structure_training.lattice.abc\n",
    "                    lat_parm_relax = final_struct_relax.lattice.abc\n",
    "\n",
    "                    area_per_atom_train_sqrt = area_per_atom_sqrt(lat_parm_train, nr_sites) \n",
    "                    area_per_atom_relax_sqrt = area_per_atom_sqrt(lat_parm_relax, nr_sites)\n",
    "                    \n",
    "                    area_per_atom_train = area_per_atom(lat_parm_train, nr_sites) \n",
    "                    area_per_atom_relax = area_per_atom(lat_parm_relax, nr_sites)\n",
    "                    \n",
    "                    area_per_atom_sqrt_arr.append(area_per_atom_relax_sqrt)\n",
    "                    \n",
    "                    # print(area_per_atom_train)\n",
    "                    # print(area_per_atom_relax)\n",
    "                    \n",
    "                    diff_area_sqrt = np.abs(area_per_atom_train_sqrt - area_per_atom_relax_sqrt)\n",
    "                    diff_area_org = np.abs(area_per_atom_train - area_per_atom_relax)\n",
    "                    \n",
    "                    diff_area_per_atom_sqrt.append(diff_area_sqrt)\n",
    "                    diff_area_per_atom.append(diff_area_org)\n",
    "                    \n",
    "                    runs_compared_volume += 1\n",
    "            \n",
    "                \n",
    "                if final_struct_relax_energy != None:\n",
    "                    final_structure_relaxation_energy = final_struct_relax_energy/nr_sites\n",
    "                    diff_energy_per_atom.append(np.abs(energy_final - final_structure_relaxation_energy))\n",
    "                    # print(final_structure_training_energy, final_structure_relaxation_energy)\n",
    "                    runs_compared += 1\n",
    "                    \n",
    "    \n",
    "    \n",
    "    # # MAX absolute error: 0.2568950681217454 eV/atom\n",
    "    # Median absolute error: 0.0015535010107422902 eV/atom\n",
    "   \n",
    "    print(\"Runs compared: {}\".format(runs_compared))\n",
    "    # print(\"Runs compared volume: {}\".format(runs_compared_volume))\n",
    "    print(\"Converged Percentage: {}%\".format(np.round(runs_compared/len(runs_relaxed),3)*100))\n",
    "    # print(\"Length diff_energy: {}\".format(len(diff_energy_per_atom)))\n",
    "    print(\"============================\")\n",
    "    print(\"Resulting MAE area per atom: {}\".format(mae(diff_area_per_atom)))\n",
    "    print(\"Resulting MAE area per atom sqrt: {}\".format(mae(diff_area_per_atom_sqrt)))\n",
    "    print(\"Mean area per atom sqrt: {}\".format(np.mean(area_per_atom_sqrt_arr)))\n",
    "    print(\"============================\")\n",
    "    print(\"Resulting MAE energy: {}\".format(mae(diff_energy_per_atom)))\n",
    "    print(\"Max absolute error: {}\".format(np.max(diff_energy_per_atom)))\n",
    "    # print(\"Median absolute error: {}\".format(np.mean(diff_energy_per_atom)))\n",
    "    print(\"Standard deviation error: {}\".format(np.std(diff_energy_per_atom)))\n",
    "    \n",
    "\n",
    "    return"
   ]
  },
  {
   "cell_type": "code",
   "execution_count": 72,
   "id": "80ba19ba-d2ed-4d94-8035-389889e203a4",
   "metadata": {},
   "outputs": [
    {
     "name": "stdout",
     "output_type": "stream",
     "text": [
      "Runs compared: 146\n",
      "Converged Percentage: 100.0%\n",
      "============================\n",
      "Resulting MAE area per atom: 0.012933829426582312\n",
      "Resulting MAE area per atom sqrt: 0.0007777028871350743\n",
      "Mean area per atom sqrt: 0.4236159389428398\n",
      "============================\n",
      "Resulting MAE energy: 0.009816344645547512\n",
      "Max absolute error: 0.1468529635205078\n",
      "Standard deviation error: 0.026326303593187196\n"
     ]
    }
   ],
   "source": [
    "get_error_alloys(relaxed_structures, structures)"
   ]
  },
  {
   "cell_type": "code",
   "execution_count": null,
   "id": "69173cda-d371-4209-a5ef-a2b48207c36d",
   "metadata": {},
   "outputs": [],
   "source": []
  }
 ],
 "metadata": {
  "kernelspec": {
   "display_name": "Python 3 (ipykernel)",
   "language": "python",
   "name": "python3"
  },
  "language_info": {
   "codemirror_mode": {
    "name": "ipython",
    "version": 3
   },
   "file_extension": ".py",
   "mimetype": "text/x-python",
   "name": "python",
   "nbconvert_exporter": "python",
   "pygments_lexer": "ipython3",
   "version": "3.9.16"
  }
 },
 "nbformat": 4,
 "nbformat_minor": 5
}
